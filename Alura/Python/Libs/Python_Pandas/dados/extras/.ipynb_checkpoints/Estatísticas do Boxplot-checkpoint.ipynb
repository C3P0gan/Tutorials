{
 "cells": [
  {
   "cell_type": "markdown",
   "id": "a1c17a14",
   "metadata": {},
   "source": [
    "<img src=\"box-plot.png\" width=70%>"
   ]
  },
  {
   "cell_type": "code",
   "execution_count": 1,
   "id": "32690d54",
   "metadata": {},
   "outputs": [],
   "source": [
    "import pandas as pd"
   ]
  },
  {
   "cell_type": "code",
   "execution_count": 11,
   "id": "4eb85d3c",
   "metadata": {},
   "outputs": [],
   "source": [
    "aluguel = pd.read_csv('dados/aluguel_amostra.csv', sep = ';')\n",
    "aluguel = aluguel['Valor m2']"
   ]
  },
  {
   "cell_type": "code",
   "execution_count": 12,
   "id": "8ec2c9d6",
   "metadata": {},
   "outputs": [],
   "source": [
    "Q1 = aluguel.quantile(.25)\n",
    "Q3 = aluguel.quantile(.75)\n",
    "IIQ = Q3 - Q1\n",
    "limite_inferior = Q1 - 1.5 * IIQ\n",
    "limite_superior = Q3 + 1.5 * IIQ"
   ]
  },
  {
   "cell_type": "code",
   "execution_count": 14,
   "id": "ea67ca3b",
   "metadata": {},
   "outputs": [
    {
     "name": "stdout",
     "output_type": "stream",
     "text": [
      "Q1 = 21.25\n",
      "Q3 = 42.31\n",
      "IIQ = 21.06\n",
      "limite_inferior = -10.34\n",
      "limite_superior = 73.9\n"
     ]
    }
   ],
   "source": [
    "print(F'''Q1 = {Q1}\n",
    "Q3 = {Q3}\n",
    "IIQ = {IIQ.round(2)}\n",
    "limite_inferior = {limite_inferior.round(2)}\n",
    "limite_superior = {limite_superior}''')"
   ]
  },
  {
   "cell_type": "code",
   "execution_count": null,
   "id": "cc7e53ce",
   "metadata": {},
   "outputs": [],
   "source": []
  }
 ],
 "metadata": {
  "kernelspec": {
   "display_name": "Python 3",
   "language": "python",
   "name": "python3"
  },
  "language_info": {
   "codemirror_mode": {
    "name": "ipython",
    "version": 3
   },
   "file_extension": ".py",
   "mimetype": "text/x-python",
   "name": "python",
   "nbconvert_exporter": "python",
   "pygments_lexer": "ipython3",
   "version": "3.8.8"
  }
 },
 "nbformat": 4,
 "nbformat_minor": 5
}
