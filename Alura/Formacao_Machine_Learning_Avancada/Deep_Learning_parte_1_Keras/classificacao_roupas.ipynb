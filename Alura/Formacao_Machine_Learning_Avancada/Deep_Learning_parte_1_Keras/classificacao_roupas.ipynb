{
 "cells": [
  {
   "cell_type": "markdown",
   "metadata": {},
   "source": [
    "# 01.03.Carregando o dataset"
   ]
  },
  {
   "cell_type": "code",
   "execution_count": 1,
   "metadata": {},
   "outputs": [
    {
     "name": "stderr",
     "output_type": "stream",
     "text": [
      "2024-04-24 13:52:10.655590: I tensorflow/core/util/port.cc:110] oneDNN custom operations are on. You may see slightly different numerical results due to floating-point round-off errors from different computation orders. To turn them off, set the environment variable `TF_ENABLE_ONEDNN_OPTS=0`.\n",
      "2024-04-24 13:52:10.657407: I tensorflow/tsl/cuda/cudart_stub.cc:28] Could not find cuda drivers on your machine, GPU will not be used.\n",
      "2024-04-24 13:52:10.689108: I tensorflow/tsl/cuda/cudart_stub.cc:28] Could not find cuda drivers on your machine, GPU will not be used.\n",
      "2024-04-24 13:52:10.690016: I tensorflow/core/platform/cpu_feature_guard.cc:182] This TensorFlow binary is optimized to use available CPU instructions in performance-critical operations.\n",
      "To enable the following instructions: AVX2 AVX512F AVX512_VNNI FMA, in other operations, rebuild TensorFlow with the appropriate compiler flags.\n",
      "2024-04-24 13:52:11.384027: W tensorflow/compiler/tf2tensorrt/utils/py_utils.cc:38] TF-TRT Warning: Could not find TensorRT\n"
     ]
    }
   ],
   "source": [
    "import tensorflow\n",
    "import keras"
   ]
  },
  {
   "cell_type": "code",
   "execution_count": 2,
   "metadata": {},
   "outputs": [],
   "source": [
    "dataset = keras.datasets.fashion_mnist\n",
    "((imagens_treino, identificacoes_treino), (imagens_teste, identificacoes_teste)) = dataset.load_data()"
   ]
  },
  {
   "cell_type": "code",
   "execution_count": 3,
   "metadata": {},
   "outputs": [
    {
     "data": {
      "text/plain": [
       "array([[[0, 0, 0, ..., 0, 0, 0],\n",
       "        [0, 0, 0, ..., 0, 0, 0],\n",
       "        [0, 0, 0, ..., 0, 0, 0],\n",
       "        ...,\n",
       "        [0, 0, 0, ..., 0, 0, 0],\n",
       "        [0, 0, 0, ..., 0, 0, 0],\n",
       "        [0, 0, 0, ..., 0, 0, 0]],\n",
       "\n",
       "       [[0, 0, 0, ..., 0, 0, 0],\n",
       "        [0, 0, 0, ..., 0, 0, 0],\n",
       "        [0, 0, 0, ..., 0, 0, 0],\n",
       "        ...,\n",
       "        [0, 0, 0, ..., 0, 0, 0],\n",
       "        [0, 0, 0, ..., 0, 0, 0],\n",
       "        [0, 0, 0, ..., 0, 0, 0]],\n",
       "\n",
       "       [[0, 0, 0, ..., 0, 0, 0],\n",
       "        [0, 0, 0, ..., 0, 0, 0],\n",
       "        [0, 0, 0, ..., 0, 0, 0],\n",
       "        ...,\n",
       "        [0, 0, 0, ..., 0, 0, 0],\n",
       "        [0, 0, 0, ..., 0, 0, 0],\n",
       "        [0, 0, 0, ..., 0, 0, 0]],\n",
       "\n",
       "       ...,\n",
       "\n",
       "       [[0, 0, 0, ..., 0, 0, 0],\n",
       "        [0, 0, 0, ..., 0, 0, 0],\n",
       "        [0, 0, 0, ..., 0, 0, 0],\n",
       "        ...,\n",
       "        [0, 0, 0, ..., 0, 0, 0],\n",
       "        [0, 0, 0, ..., 0, 0, 0],\n",
       "        [0, 0, 0, ..., 0, 0, 0]],\n",
       "\n",
       "       [[0, 0, 0, ..., 0, 0, 0],\n",
       "        [0, 0, 0, ..., 0, 0, 0],\n",
       "        [0, 0, 0, ..., 0, 0, 0],\n",
       "        ...,\n",
       "        [0, 0, 0, ..., 0, 0, 0],\n",
       "        [0, 0, 0, ..., 0, 0, 0],\n",
       "        [0, 0, 0, ..., 0, 0, 0]],\n",
       "\n",
       "       [[0, 0, 0, ..., 0, 0, 0],\n",
       "        [0, 0, 0, ..., 0, 0, 0],\n",
       "        [0, 0, 0, ..., 0, 0, 0],\n",
       "        ...,\n",
       "        [0, 0, 0, ..., 0, 0, 0],\n",
       "        [0, 0, 0, ..., 0, 0, 0],\n",
       "        [0, 0, 0, ..., 0, 0, 0]]], dtype=uint8)"
      ]
     },
     "execution_count": 3,
     "metadata": {},
     "output_type": "execute_result"
    }
   ],
   "source": [
    "imagens_treino"
   ]
  },
  {
   "cell_type": "markdown",
   "metadata": {},
   "source": [
    "# 01.05.Para saber mais"
   ]
  },
  {
   "cell_type": "markdown",
   "metadata": {},
   "source": [
    "### O dataset Fashion-MNIST\n",
    "\n",
    "Se você está iniciando os estudos em Deep Learning (ou Machine Learning) e\n",
    "der uma olhada por aí, vai perceber que algumas pessoas, posts e blogs podem\n",
    "recomendar o uso de um dataset chamado MNIST.\n",
    "\n",
    "O [MNIST](http://yann.lecun.com/exdb/mnist/) (site em inglês) é um conjunto de imagens de números escritos à mão,\n",
    "e o seu nome significa literalmente que é um dataset Modificado do Instituto\n",
    "Nacional de Padrões e Tecnologia (em inglês Modified National Institute of\n",
    "Standards and Technology database). E por que modificado? Porque já havia um\n",
    "dataset chamado NIST (do Instituto Nacional de Padrões e Tecnologia) que tinha\n",
    "sido formado por imagens de números escritos à mão coletados de um\n",
    "escritório norte americano responsável pelo censo e também de estudantes do\n",
    "colegial.\n",
    "\n",
    "![](https://cdn3.gnarususercontent.com.br/982-tensorflow/image7.png)\n",
    "\n",
    "Então, agora sabemos que antes tinha o NIST, e depois o MNIST que modificou o\n",
    "NIST. Logo, o MNIST pegou as imagens de números no NIST, formatou essas\n",
    "imagens em 28x28 pixels e as deixou em escala de cinza. Ele possui 60.000\n",
    "imagens para treino e 10.000 imagens para teste.\n",
    "\n",
    "Após a criação do MNIST, ele acabou virando o padrão de uso para o\n",
    "aprendizado de máquina, e resultados próximos a uma identificação humana de\n",
    "dígitos foram atingidos com ele. O que tornou a tarefa de reconhecer dígitos\n",
    "mais fácil, tão fácil que entender esse dataset parou de ser algo desafiador para\n",
    "os modelos da época.\n",
    "\n",
    "![](https://cdn3.gnarususercontent.com.br/982-tensorflow/image18.png)\n",
    "\n",
    "E aí foi necessário pensar numa solução. Você tem um dataset que está fácil\n",
    "demais de identificar? O que dá pra fazer? Colocar mais imagens? Colocar\n",
    "imagens diferentes? Essa foi uma das respostas. Aumentar esse dataset, fazendo\n",
    "uma extensão dele para dificultar o aprendizado de máquina.\n",
    "\n",
    "E aí surgiu o [EMNIST](https://arxiv.org/pdf/1702.05373.pdf) (arquivo em inglês), com E de extensão. E, do mesmo\n",
    "modo que o MNIST tinha herdado do NIST, o EMNIST herdou a \"estrutura\" do\n",
    "MNIST e adicionou letras aos números. Agora, tínhamos um dataset com\n",
    "números e letras.\n",
    "\n",
    "Mas, ao começar a usar o dataset, as letras do EMNIST ainda ficavam muito\n",
    "próximas dos números, o que não foi o bastante para aumentar a complexidade\n",
    "da tarefa. As pessoas criando modelos e fazendo pesquisa ainda queriam algo\n",
    "mais desafiador. E agora? Uma resposta foi mudar o padrão original \"alfa-\n",
    "numérico\" e identificar imagens de roupas de uma loja alemã chamada [Zalando](https://jobs.zalando.com/en/)\n",
    "(site em inglês), criando assim o [Fashion MNIST](https://github.com/zalandoresearch/fashion-mnist) (github em inglês).\n",
    "\n",
    "![](https://cdn3.gnarususercontent.com.br/982-tensorflow/image17.png)\n",
    "\n",
    "Hoje em dia, o Fashion-MNIST é um dos datasets mais recomendados para uma\n",
    "introdução no estudo de Deep Learning. O que é um dos motivos para\n",
    "explorarmos esse dataset neste curso."
   ]
  },
  {
   "cell_type": "markdown",
   "metadata": {},
   "source": [
    "# 01.06.Outras bases de dados"
   ]
  },
  {
   "cell_type": "markdown",
   "metadata": {},
   "source": [
    "Você pode usar outras bases de dados ou datasets para aplicar os conhecimentos\n",
    "adquiridos neste curso.\n",
    "\n",
    "Há muitas bases disponíveis, como as da [Kaggle](https://www.kaggle.com/datasets), [AWS](https://registry.opendata.aws/), [Google](https://storage.googleapis.com/openimages/web/index.html) e fazendo uma\n",
    "busca você vai encontrar ainda mais bases e sites que as agrupam.\n",
    "\n",
    "Caso queira fazer o teste, o que eu aonselho é testar primeiro com outra base\n",
    "do próprio [Keras](https://keras.io/datasets/), pois ela já estará limpa e pronta para ser carregada.\n",
    "\n",
    "E então partir para outros sites.\n",
    "\n",
    "No entanto, será necessário _limpar_ as bases e _carregá-las_, algo que não\n",
    "abordamos neste curso, ok?\n",
    "\n",
    "Também atente para a _qualidade_, _variedade_ e _tipo dos dados_, algo muito\n",
    "importante para não termos redes enviesadas ou que performem de modo\n",
    "precário.\n",
    "\n",
    "O projeto deste curso cobre um tipo de classificação, há outros tipos e diversas\n",
    "formas de treinar a rede dependendo do dado, que também vai depender do\n",
    "exemplo que você testar e do tipo de dado que escolher. Fica a seu critério.\n",
    "\n",
    "Siga confiante e bom aprendizado!"
   ]
  },
  {
   "cell_type": "markdown",
   "metadata": {},
   "source": [
    "# 01.07.Entendendo as imagens"
   ]
  },
  {
   "cell_type": "code",
   "execution_count": 4,
   "metadata": {},
   "outputs": [
    {
     "ename": "ImportError",
     "evalue": "cannot import name 'rcParams' from 'matplotlib.axes' (/home/cristoffer_pogan/.local/lib/python3.10/site-packages/matplotlib/axes/__init__.py)",
     "output_type": "error",
     "traceback": [
      "\u001b[0;31m---------------------------------------------------------------------------\u001b[0m",
      "\u001b[0;31mImportError\u001b[0m                               Traceback (most recent call last)",
      "Cell \u001b[0;32mIn[4], line 1\u001b[0m\n\u001b[0;32m----> 1\u001b[0m \u001b[38;5;28;01mimport\u001b[39;00m \u001b[38;5;21;01mmatplotlib\u001b[39;00m\u001b[38;5;21;01m.\u001b[39;00m\u001b[38;5;21;01mpyplot\u001b[39;00m \u001b[38;5;28;01mas\u001b[39;00m \u001b[38;5;21;01mplt\u001b[39;00m\n",
      "File \u001b[0;32m~/.local/lib/python3.10/site-packages/matplotlib/pyplot.py:66\u001b[0m\n\u001b[1;32m     63\u001b[0m \u001b[38;5;28;01mfrom\u001b[39;00m \u001b[38;5;21;01mmatplotlib\u001b[39;00m \u001b[38;5;28;01mimport\u001b[39;00m _docstring\n\u001b[1;32m     64\u001b[0m \u001b[38;5;28;01mfrom\u001b[39;00m \u001b[38;5;21;01mmatplotlib\u001b[39;00m\u001b[38;5;21;01m.\u001b[39;00m\u001b[38;5;21;01mbackend_bases\u001b[39;00m \u001b[38;5;28;01mimport\u001b[39;00m (\n\u001b[1;32m     65\u001b[0m     FigureCanvasBase, FigureManagerBase, MouseButton)\n\u001b[0;32m---> 66\u001b[0m \u001b[38;5;28;01mfrom\u001b[39;00m \u001b[38;5;21;01mmatplotlib\u001b[39;00m\u001b[38;5;21;01m.\u001b[39;00m\u001b[38;5;21;01mfigure\u001b[39;00m \u001b[38;5;28;01mimport\u001b[39;00m Figure, FigureBase, figaspect\n\u001b[1;32m     67\u001b[0m \u001b[38;5;28;01mfrom\u001b[39;00m \u001b[38;5;21;01mmatplotlib\u001b[39;00m\u001b[38;5;21;01m.\u001b[39;00m\u001b[38;5;21;01mgridspec\u001b[39;00m \u001b[38;5;28;01mimport\u001b[39;00m GridSpec, SubplotSpec\n\u001b[1;32m     68\u001b[0m \u001b[38;5;28;01mfrom\u001b[39;00m \u001b[38;5;21;01mmatplotlib\u001b[39;00m \u001b[38;5;28;01mimport\u001b[39;00m rcsetup, rcParamsDefault, rcParamsOrig\n",
      "File \u001b[0;32m~/.local/lib/python3.10/site-packages/matplotlib/figure.py:43\u001b[0m\n\u001b[1;32m     40\u001b[0m \u001b[38;5;28;01mimport\u001b[39;00m \u001b[38;5;21;01mnumpy\u001b[39;00m \u001b[38;5;28;01mas\u001b[39;00m \u001b[38;5;21;01mnp\u001b[39;00m\n\u001b[1;32m     42\u001b[0m \u001b[38;5;28;01mimport\u001b[39;00m \u001b[38;5;21;01mmatplotlib\u001b[39;00m \u001b[38;5;28;01mas\u001b[39;00m \u001b[38;5;21;01mmpl\u001b[39;00m\n\u001b[0;32m---> 43\u001b[0m \u001b[38;5;28;01mfrom\u001b[39;00m \u001b[38;5;21;01mmatplotlib\u001b[39;00m \u001b[38;5;28;01mimport\u001b[39;00m _blocking_input, backend_bases, _docstring, projections\n\u001b[1;32m     44\u001b[0m \u001b[38;5;28;01mfrom\u001b[39;00m \u001b[38;5;21;01mmatplotlib\u001b[39;00m\u001b[38;5;21;01m.\u001b[39;00m\u001b[38;5;21;01martist\u001b[39;00m \u001b[38;5;28;01mimport\u001b[39;00m (\n\u001b[1;32m     45\u001b[0m     Artist, allow_rasterization, _finalize_rasterization)\n\u001b[1;32m     46\u001b[0m \u001b[38;5;28;01mfrom\u001b[39;00m \u001b[38;5;21;01mmatplotlib\u001b[39;00m\u001b[38;5;21;01m.\u001b[39;00m\u001b[38;5;21;01mbackend_bases\u001b[39;00m \u001b[38;5;28;01mimport\u001b[39;00m (\n\u001b[1;32m     47\u001b[0m     DrawEvent, FigureCanvasBase, NonGuiException, MouseButton, _get_renderer)\n",
      "File \u001b[0;32m~/.local/lib/python3.10/site-packages/matplotlib/projections/__init__.py:58\u001b[0m\n\u001b[1;32m     56\u001b[0m \u001b[38;5;28;01mfrom\u001b[39;00m \u001b[38;5;21;01m.\u001b[39;00m\u001b[38;5;21;01mgeo\u001b[39;00m \u001b[38;5;28;01mimport\u001b[39;00m AitoffAxes, HammerAxes, LambertAxes, MollweideAxes\n\u001b[1;32m     57\u001b[0m \u001b[38;5;28;01mfrom\u001b[39;00m \u001b[38;5;21;01m.\u001b[39;00m\u001b[38;5;21;01mpolar\u001b[39;00m \u001b[38;5;28;01mimport\u001b[39;00m PolarAxes\n\u001b[0;32m---> 58\u001b[0m \u001b[38;5;28;01mfrom\u001b[39;00m \u001b[38;5;21;01mmpl_toolkits\u001b[39;00m\u001b[38;5;21;01m.\u001b[39;00m\u001b[38;5;21;01mmplot3d\u001b[39;00m \u001b[38;5;28;01mimport\u001b[39;00m Axes3D\n\u001b[1;32m     61\u001b[0m \u001b[38;5;28;01mclass\u001b[39;00m \u001b[38;5;21;01mProjectionRegistry\u001b[39;00m:\n\u001b[1;32m     62\u001b[0m \u001b[38;5;250m    \u001b[39m\u001b[38;5;124;03m\"\"\"A mapping of registered projection names to projection classes.\"\"\"\u001b[39;00m\n",
      "File \u001b[0;32m/usr/lib/python3/dist-packages/mpl_toolkits/mplot3d/__init__.py:1\u001b[0m\n\u001b[0;32m----> 1\u001b[0m \u001b[38;5;28;01mfrom\u001b[39;00m \u001b[38;5;21;01m.\u001b[39;00m\u001b[38;5;21;01maxes3d\u001b[39;00m \u001b[38;5;28;01mimport\u001b[39;00m Axes3D\n",
      "File \u001b[0;32m/usr/lib/python3/dist-packages/mpl_toolkits/mplot3d/axes3d.py:34\u001b[0m\n\u001b[1;32m     32\u001b[0m \u001b[38;5;28;01mimport\u001b[39;00m \u001b[38;5;21;01mmatplotlib\u001b[39;00m\u001b[38;5;21;01m.\u001b[39;00m\u001b[38;5;21;01mcontainer\u001b[39;00m \u001b[38;5;28;01mas\u001b[39;00m \u001b[38;5;21;01mmcontainer\u001b[39;00m\n\u001b[1;32m     33\u001b[0m \u001b[38;5;28;01mimport\u001b[39;00m \u001b[38;5;21;01mmatplotlib\u001b[39;00m\u001b[38;5;21;01m.\u001b[39;00m\u001b[38;5;21;01mtransforms\u001b[39;00m \u001b[38;5;28;01mas\u001b[39;00m \u001b[38;5;21;01mmtransforms\u001b[39;00m\n\u001b[0;32m---> 34\u001b[0m \u001b[38;5;28;01mfrom\u001b[39;00m \u001b[38;5;21;01mmatplotlib\u001b[39;00m\u001b[38;5;21;01m.\u001b[39;00m\u001b[38;5;21;01maxes\u001b[39;00m \u001b[38;5;28;01mimport\u001b[39;00m Axes, rcParams\n\u001b[1;32m     35\u001b[0m \u001b[38;5;28;01mfrom\u001b[39;00m \u001b[38;5;21;01mmatplotlib\u001b[39;00m\u001b[38;5;21;01m.\u001b[39;00m\u001b[38;5;21;01maxes\u001b[39;00m\u001b[38;5;21;01m.\u001b[39;00m\u001b[38;5;21;01m_base\u001b[39;00m \u001b[38;5;28;01mimport\u001b[39;00m _axis_method_wrapper, _process_plot_format\n\u001b[1;32m     36\u001b[0m \u001b[38;5;28;01mfrom\u001b[39;00m \u001b[38;5;21;01mmatplotlib\u001b[39;00m\u001b[38;5;21;01m.\u001b[39;00m\u001b[38;5;21;01mtransforms\u001b[39;00m \u001b[38;5;28;01mimport\u001b[39;00m Bbox\n",
      "\u001b[0;31mImportError\u001b[0m: cannot import name 'rcParams' from 'matplotlib.axes' (/home/cristoffer_pogan/.local/lib/python3.10/site-packages/matplotlib/axes/__init__.py)"
     ]
    }
   ],
   "source": [
    "import matplotlib.pyplot as plt"
   ]
  },
  {
   "cell_type": "code",
   "execution_count": null,
   "metadata": {},
   "outputs": [],
   "source": [
    "# len(imagens_treino)\n",
    "print(imagens_treino.shape)\n",
    "len(identificacoes_treino)"
   ]
  },
  {
   "cell_type": "code",
   "execution_count": null,
   "metadata": {},
   "outputs": [],
   "source": [
    "print(imagens_teste.shape)\n",
    "len(identificacoes_teste)"
   ]
  },
  {
   "cell_type": "code",
   "execution_count": null,
   "metadata": {},
   "outputs": [],
   "source": [
    "plt.imshow(imagens_treino[0])"
   ]
  },
  {
   "cell_type": "markdown",
   "metadata": {},
   "source": [
    "# 01.09.Para saber mais"
   ]
  },
  {
   "cell_type": "markdown",
   "metadata": {},
   "source": [
    "Keras, Tensorflow e outras bibliotecas de Deep Learning\n",
    "\n",
    "Estamos escrevendo a maior parte do nosso código usando uma API de alto nível chamada [Keras](https://keras.io/).\n",
    "\n",
    "Mas o Keras não roda direto em cima do [Tensorflow](https://www.tensorflow.org/), ele foi construído em cima de uma outra biblioteca chamada [Theano](http://www.deeplearning.net/software/theano/), [como cita o seu criador](https://www.quora.com/What-are-some-important-engineering-and-design-decisions-you-made-in-creating-Keras) nesta resposta do Quora (site em inglês).\n",
    "\n",
    "Dada a agilidade que o Keras proporciona para gerarmos e testarmos modelos, ele foi integrado ao Tensorflow, por isso que ao importarmos o Tensorflow, importamos também o Keras.\n",
    "\n",
    "Mas, se o Keras está acima do Tensorflow, porque não usamos o Tensorflow direto? Um aspecto da resposta é porque a maioria das implementações de projetos de Deep Learning se baseia em duas coisas: vetores e tensores.\n",
    "\n",
    "Se eu te pedir para me dizer quais as distâncias que juntas mostram onde o ponto vermelho está nesse gráfico,\n",
    "\n",
    "![](https://cdn3.gnarususercontent.com.br/982-tensorflow/image6.png)\n",
    "\n",
    "você irá me dizer 5 cm, 12 cm, certo? E aí podemos agrupar esses números para\n",
    "facilitar, como\n",
    "\n",
    "![(5, 12)](https://cdn3.gnarususercontent.com.br/982-tensorflow/image11.png)\n",
    "\n",
    "Esse agrupamento que descreve onde o ponto está, ou as suas coordenadas, é um vetor. E sim, o conceito de vetor que temos aqui é um conceito um pouco diferente daquele que aprendemos quando estudamos as disciplinas de Física ou Matemática.\n",
    "\n",
    "E, se olharmos para esse vetor (5, 12), temos 2 números que descrevem um ponto, mas podíamos ter 3 números, como nesse vértice do cubo.\n",
    "\n",
    "![](https://cdn3.gnarususercontent.com.br/982-tensorflow/image2.png)\n",
    "\n",
    "E aí para descrevê-lo teríamos\n",
    "\n",
    "![vetor = (10, 10, 10)](https://cdn3.gnarususercontent.com.br/982-tensorflow/image15.png)\n",
    "\n",
    "E esse vetor que usamos para descrever o ponto do cubo pode ser chamado também de tensor.\n",
    "\n",
    "Então tensor e vetor são a mesma coisa? Não, tensor é uma generalização que serve também para vetor, então todo vetor é um tensor, mas nem sempre podemos chamar um tensor de vetor.\n",
    "\n",
    "Repare que no gráfico temos 2 coordenadas para descrever o ponto, então temos 2 eixos e duas dimensões. Já, quando descrevemos o vértice do cubo temos 3 números, então 3 eixos e 3 dimensões.\n",
    "\n",
    "Um vetor vai ter duas dimensões, mas um tensor pode ter quantas dimensões quisermos.\n",
    "\n",
    "Agora, imagine declarar e configurar um tensor de 70.000 dimensões. Começa a ficar complicado. E imagine implementar cada algoritmo que vai rodar nesse tensor, vai levar um pouco mais de tempo. Estamos extrapolando nesse exemplo, muitas dessas coisas são facilitadas pelo próprio Tensorflow, mas podemos usar o Keras para abstrairmos e só dizermos o que a gente quer que o nosso modelo faça, deixando o Tensorflow se virar para fazer isso lá no baixo nível.\n",
    "\n",
    "Mas, não há apenas o Keras como API de Deep Learning, há também muitas outras como:\n",
    "\n",
    "- [Caffe](http://caffe.berkeleyvision.org/) do grupo de pesquisa da universidade de Berkeley,\n",
    "- [Torch](http://torch.ch/) uma implementação usando Lua,\n",
    "- [PyTorch](https://pytorch.org/) uma variação do Torch para Python,\n",
    "- [CNTK](https://www.microsoft.com/en-us/cognitive-toolkit/) da Microsoft,\n",
    "- [DL4J](https://deeplearning4j.org/) uma implementação usando Java,\n",
    "- [MXNet](https://mxnet.incubator.apache.org/) da Apache.\n",
    "\n",
    "Cada uma delas tem as suas particularidades, é sempre legal experimentar e ver aquela com a qual se sente mais confortável.\n",
    "\n",
    "Além disso, tudo depende do objetivo do projeto. Se está desenvolvendo e testando um modelo, prototipando, é interessante usar uma API de alto nível para ganhar velocidade e descer de nível ao ter algo mais concreto para implementar à medida que for precisando obter mais controle sobre o modelo.\n",
    "\n",
    "Lembrando que, quanto mais a API for próxima da linguagem natural, menos controle você vai ter do que acontece por debaixo dos panos, e quanto mais próxima ela for do baixo nível ou dos tensores (um teste pode ser fazer uma implementação usando Tensorflow puro) mais controle você vai ter do modelo que for desenvolver."
   ]
  }
 ],
 "metadata": {
  "kernelspec": {
   "display_name": ".venv",
   "language": "python",
   "name": "python3"
  },
  "language_info": {
   "codemirror_mode": {
    "name": "ipython",
    "version": 3
   },
   "file_extension": ".py",
   "mimetype": "text/x-python",
   "name": "python",
   "nbconvert_exporter": "python",
   "pygments_lexer": "ipython3",
   "version": "3.10.12"
  }
 },
 "nbformat": 4,
 "nbformat_minor": 2
}
