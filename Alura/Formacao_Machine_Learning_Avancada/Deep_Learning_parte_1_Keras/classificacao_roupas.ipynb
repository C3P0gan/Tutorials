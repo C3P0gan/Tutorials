{
 "cells": [
  {
   "cell_type": "markdown",
   "metadata": {},
   "source": [
    "# 01.03.Carregando o dataset"
   ]
  },
  {
   "cell_type": "code",
   "execution_count": 1,
   "metadata": {},
   "outputs": [
    {
     "name": "stderr",
     "output_type": "stream",
     "text": [
      "2024-04-24 13:52:46.407454: I tensorflow/core/util/port.cc:113] oneDNN custom operations are on. You may see slightly different numerical results due to floating-point round-off errors from different computation orders. To turn them off, set the environment variable `TF_ENABLE_ONEDNN_OPTS=0`.\n",
      "2024-04-24 13:52:46.407857: I external/local_tsl/tsl/cuda/cudart_stub.cc:32] Could not find cuda drivers on your machine, GPU will not be used.\n",
      "2024-04-24 13:52:46.410768: I external/local_tsl/tsl/cuda/cudart_stub.cc:32] Could not find cuda drivers on your machine, GPU will not be used.\n",
      "2024-04-24 13:52:46.444571: I tensorflow/core/platform/cpu_feature_guard.cc:210] This TensorFlow binary is optimized to use available CPU instructions in performance-critical operations.\n",
      "To enable the following instructions: AVX2 AVX512F AVX512_VNNI FMA, in other operations, rebuild TensorFlow with the appropriate compiler flags.\n",
      "2024-04-24 13:52:47.027624: W tensorflow/compiler/tf2tensorrt/utils/py_utils.cc:38] TF-TRT Warning: Could not find TensorRT\n"
     ]
    }
   ],
   "source": [
    "import tensorflow\n",
    "from tensorflow import keras"
   ]
  },
  {
   "cell_type": "code",
   "execution_count": 2,
   "metadata": {},
   "outputs": [],
   "source": [
    "dataset = keras.datasets.fashion_mnist\n",
    "((imagens_treino, identificacoes_treino), (imagens_teste, identificacoes_teste)) = dataset.load_data()"
   ]
  },
  {
   "cell_type": "code",
   "execution_count": 3,
   "metadata": {},
   "outputs": [
    {
     "data": {
      "text/plain": [
       "array([[[0, 0, 0, ..., 0, 0, 0],\n",
       "        [0, 0, 0, ..., 0, 0, 0],\n",
       "        [0, 0, 0, ..., 0, 0, 0],\n",
       "        ...,\n",
       "        [0, 0, 0, ..., 0, 0, 0],\n",
       "        [0, 0, 0, ..., 0, 0, 0],\n",
       "        [0, 0, 0, ..., 0, 0, 0]],\n",
       "\n",
       "       [[0, 0, 0, ..., 0, 0, 0],\n",
       "        [0, 0, 0, ..., 0, 0, 0],\n",
       "        [0, 0, 0, ..., 0, 0, 0],\n",
       "        ...,\n",
       "        [0, 0, 0, ..., 0, 0, 0],\n",
       "        [0, 0, 0, ..., 0, 0, 0],\n",
       "        [0, 0, 0, ..., 0, 0, 0]],\n",
       "\n",
       "       [[0, 0, 0, ..., 0, 0, 0],\n",
       "        [0, 0, 0, ..., 0, 0, 0],\n",
       "        [0, 0, 0, ..., 0, 0, 0],\n",
       "        ...,\n",
       "        [0, 0, 0, ..., 0, 0, 0],\n",
       "        [0, 0, 0, ..., 0, 0, 0],\n",
       "        [0, 0, 0, ..., 0, 0, 0]],\n",
       "\n",
       "       ...,\n",
       "\n",
       "       [[0, 0, 0, ..., 0, 0, 0],\n",
       "        [0, 0, 0, ..., 0, 0, 0],\n",
       "        [0, 0, 0, ..., 0, 0, 0],\n",
       "        ...,\n",
       "        [0, 0, 0, ..., 0, 0, 0],\n",
       "        [0, 0, 0, ..., 0, 0, 0],\n",
       "        [0, 0, 0, ..., 0, 0, 0]],\n",
       "\n",
       "       [[0, 0, 0, ..., 0, 0, 0],\n",
       "        [0, 0, 0, ..., 0, 0, 0],\n",
       "        [0, 0, 0, ..., 0, 0, 0],\n",
       "        ...,\n",
       "        [0, 0, 0, ..., 0, 0, 0],\n",
       "        [0, 0, 0, ..., 0, 0, 0],\n",
       "        [0, 0, 0, ..., 0, 0, 0]],\n",
       "\n",
       "       [[0, 0, 0, ..., 0, 0, 0],\n",
       "        [0, 0, 0, ..., 0, 0, 0],\n",
       "        [0, 0, 0, ..., 0, 0, 0],\n",
       "        ...,\n",
       "        [0, 0, 0, ..., 0, 0, 0],\n",
       "        [0, 0, 0, ..., 0, 0, 0],\n",
       "        [0, 0, 0, ..., 0, 0, 0]]], dtype=uint8)"
      ]
     },
     "execution_count": 3,
     "metadata": {},
     "output_type": "execute_result"
    }
   ],
   "source": [
    "imagens_treino"
   ]
  },
  {
   "cell_type": "markdown",
   "metadata": {},
   "source": [
    "# 01.05.Para saber mais"
   ]
  },
  {
   "cell_type": "markdown",
   "metadata": {},
   "source": [
    "### O dataset Fashion-MNIST\n",
    "\n",
    "Se você está iniciando os estudos em Deep Learning (ou Machine Learning) e\n",
    "der uma olhada por aí, vai perceber que algumas pessoas, posts e blogs podem\n",
    "recomendar o uso de um dataset chamado MNIST.\n",
    "\n",
    "O [MNIST](http://yann.lecun.com/exdb/mnist/) (site em inglês) é um conjunto de imagens de números escritos à mão,\n",
    "e o seu nome significa literalmente que é um dataset Modificado do Instituto\n",
    "Nacional de Padrões e Tecnologia (em inglês Modified National Institute of\n",
    "Standards and Technology database). E por que modificado? Porque já havia um\n",
    "dataset chamado NIST (do Instituto Nacional de Padrões e Tecnologia) que tinha\n",
    "sido formado por imagens de números escritos à mão coletados de um\n",
    "escritório norte americano responsável pelo censo e também de estudantes do\n",
    "colegial.\n",
    "\n",
    "![](https://cdn3.gnarususercontent.com.br/982-tensorflow/image7.png)\n",
    "\n",
    "Então, agora sabemos que antes tinha o NIST, e depois o MNIST que modificou o\n",
    "NIST. Logo, o MNIST pegou as imagens de números no NIST, formatou essas\n",
    "imagens em 28x28 pixels e as deixou em escala de cinza. Ele possui 60.000\n",
    "imagens para treino e 10.000 imagens para teste.\n",
    "\n",
    "Após a criação do MNIST, ele acabou virando o padrão de uso para o\n",
    "aprendizado de máquina, e resultados próximos a uma identificação humana de\n",
    "dígitos foram atingidos com ele. O que tornou a tarefa de reconhecer dígitos\n",
    "mais fácil, tão fácil que entender esse dataset parou de ser algo desafiador para\n",
    "os modelos da época.\n",
    "\n",
    "![](https://cdn3.gnarususercontent.com.br/982-tensorflow/image18.png)\n",
    "\n",
    "E aí foi necessário pensar numa solução. Você tem um dataset que está fácil\n",
    "demais de identificar? O que dá pra fazer? Colocar mais imagens? Colocar\n",
    "imagens diferentes? Essa foi uma das respostas. Aumentar esse dataset, fazendo\n",
    "uma extensão dele para dificultar o aprendizado de máquina.\n",
    "\n",
    "E aí surgiu o [EMNIST](https://arxiv.org/pdf/1702.05373.pdf) (arquivo em inglês), com E de extensão. E, do mesmo\n",
    "modo que o MNIST tinha herdado do NIST, o EMNIST herdou a \"estrutura\" do\n",
    "MNIST e adicionou letras aos números. Agora, tínhamos um dataset com\n",
    "números e letras.\n",
    "\n",
    "Mas, ao começar a usar o dataset, as letras do EMNIST ainda ficavam muito\n",
    "próximas dos números, o que não foi o bastante para aumentar a complexidade\n",
    "da tarefa. As pessoas criando modelos e fazendo pesquisa ainda queriam algo\n",
    "mais desafiador. E agora? Uma resposta foi mudar o padrão original \"alfa-\n",
    "numérico\" e identificar imagens de roupas de uma loja alemã chamada [Zalando](https://jobs.zalando.com/en/)\n",
    "(site em inglês), criando assim o [Fashion MNIST](https://github.com/zalandoresearch/fashion-mnist) (github em inglês).\n",
    "\n",
    "![](https://cdn3.gnarususercontent.com.br/982-tensorflow/image17.png)\n",
    "\n",
    "Hoje em dia, o Fashion-MNIST é um dos datasets mais recomendados para uma\n",
    "introdução no estudo de Deep Learning. O que é um dos motivos para\n",
    "explorarmos esse dataset neste curso."
   ]
  },
  {
   "cell_type": "markdown",
   "metadata": {},
   "source": [
    "# 01.06.Outras bases de dados"
   ]
  },
  {
   "cell_type": "markdown",
   "metadata": {},
   "source": [
    "Você pode usar outras bases de dados ou datasets para aplicar os conhecimentos\n",
    "adquiridos neste curso.\n",
    "\n",
    "Há muitas bases disponíveis, como as da [Kaggle](https://www.kaggle.com/datasets), [AWS](https://registry.opendata.aws/), [Google](https://storage.googleapis.com/openimages/web/index.html) e fazendo uma\n",
    "busca você vai encontrar ainda mais bases e sites que as agrupam.\n",
    "\n",
    "Caso queira fazer o teste, o que eu aonselho é testar primeiro com outra base\n",
    "do próprio [Keras](https://keras.io/datasets/), pois ela já estará limpa e pronta para ser carregada.\n",
    "\n",
    "E então partir para outros sites.\n",
    "\n",
    "No entanto, será necessário _limpar_ as bases e _carregá-las_, algo que não\n",
    "abordamos neste curso, ok?\n",
    "\n",
    "Também atente para a _qualidade_, _variedade_ e _tipo dos dados_, algo muito\n",
    "importante para não termos redes enviesadas ou que performem de modo\n",
    "precário.\n",
    "\n",
    "O projeto deste curso cobre um tipo de classificação, há outros tipos e diversas\n",
    "formas de treinar a rede dependendo do dado, que também vai depender do\n",
    "exemplo que você testar e do tipo de dado que escolher. Fica a seu critério.\n",
    "\n",
    "Siga confiante e bom aprendizado!"
   ]
  },
  {
   "cell_type": "markdown",
   "metadata": {},
   "source": [
    "# 01.07.Entendendo as imagens"
   ]
  },
  {
   "cell_type": "code",
   "execution_count": 4,
   "metadata": {},
   "outputs": [],
   "source": [
    "import matplotlib.pyplot as plt"
   ]
  },
  {
   "cell_type": "code",
   "execution_count": 5,
   "metadata": {},
   "outputs": [
    {
     "name": "stdout",
     "output_type": "stream",
     "text": [
      "(60000, 28, 28)\n"
     ]
    },
    {
     "data": {
      "text/plain": [
       "60000"
      ]
     },
     "execution_count": 5,
     "metadata": {},
     "output_type": "execute_result"
    }
   ],
   "source": [
    "# len(imagens_treino)\n",
    "print(imagens_treino.shape)\n",
    "len(identificacoes_treino)"
   ]
  },
  {
   "cell_type": "code",
   "execution_count": 6,
   "metadata": {},
   "outputs": [
    {
     "name": "stdout",
     "output_type": "stream",
     "text": [
      "(10000, 28, 28)\n"
     ]
    },
    {
     "data": {
      "text/plain": [
       "10000"
      ]
     },
     "execution_count": 6,
     "metadata": {},
     "output_type": "execute_result"
    }
   ],
   "source": [
    "print(imagens_teste.shape)\n",
    "len(identificacoes_teste)"
   ]
  },
  {
   "cell_type": "code",
   "execution_count": 7,
   "metadata": {},
   "outputs": [
    {
     "data": {
      "text/plain": [
       "<matplotlib.image.AxesImage at 0x796861f03c10>"
      ]
     },
     "execution_count": 7,
     "metadata": {},
     "output_type": "execute_result"
    },
    {
     "data": {
      "image/png": "[encoded data removed]",
      "text/plain": [
       "<Figure size 640x480 with 1 Axes>"
      ]
     },
     "metadata": {},
     "output_type": "display_data"
    }
   ],
   "source": [
    "plt.imshow(imagens_treino[0])"
   ]
  },
  {
   "cell_type": "markdown",
   "metadata": {},
   "source": [
    "# 01.09.Para saber mais"
   ]
  },
  {
   "cell_type": "markdown",
   "metadata": {},
   "source": [
    "Keras, Tensorflow e outras bibliotecas de Deep Learning\n",
    "\n",
    "Estamos escrevendo a maior parte do nosso código usando uma API de alto nível chamada [Keras](https://keras.io/).\n",
    "\n",
    "Mas o Keras não roda direto em cima do [Tensorflow](https://www.tensorflow.org/), ele foi construído em cima de uma outra biblioteca chamada [Theano](http://www.deeplearning.net/software/theano/), [como cita o seu criador](https://www.quora.com/What-are-some-important-engineering-and-design-decisions-you-made-in-creating-Keras) nesta resposta do Quora (site em inglês).\n",
    "\n",
    "Dada a agilidade que o Keras proporciona para gerarmos e testarmos modelos, ele foi integrado ao Tensorflow, por isso que ao importarmos o Tensorflow, importamos também o Keras.\n",
    "\n",
    "Mas, se o Keras está acima do Tensorflow, porque não usamos o Tensorflow direto? Um aspecto da resposta é porque a maioria das implementações de projetos de Deep Learning se baseia em duas coisas: vetores e tensores.\n",
    "\n",
    "Se eu te pedir para me dizer quais as distâncias que juntas mostram onde o ponto vermelho está nesse gráfico,\n",
    "\n",
    "![](https://cdn3.gnarususercontent.com.br/982-tensorflow/image6.png)\n",
    "\n",
    "você irá me dizer 5 cm, 12 cm, certo? E aí podemos agrupar esses números para\n",
    "facilitar, como\n",
    "\n",
    "![(5, 12)](https://cdn3.gnarususercontent.com.br/982-tensorflow/image11.png)\n",
    "\n",
    "Esse agrupamento que descreve onde o ponto está, ou as suas coordenadas, é um vetor. E sim, o conceito de vetor que temos aqui é um conceito um pouco diferente daquele que aprendemos quando estudamos as disciplinas de Física ou Matemática.\n",
    "\n",
    "E, se olharmos para esse vetor (5, 12), temos 2 números que descrevem um ponto, mas podíamos ter 3 números, como nesse vértice do cubo.\n",
    "\n",
    "![](https://cdn3.gnarususercontent.com.br/982-tensorflow/image2.png)\n",
    "\n",
    "E aí para descrevê-lo teríamos\n",
    "\n",
    "![vetor = (10, 10, 10)](https://cdn3.gnarususercontent.com.br/982-tensorflow/image15.png)\n",
    "\n",
    "E esse vetor que usamos para descrever o ponto do cubo pode ser chamado também de tensor.\n",
    "\n",
    "Então tensor e vetor são a mesma coisa? Não, tensor é uma generalização que serve também para vetor, então todo vetor é um tensor, mas nem sempre podemos chamar um tensor de vetor.\n",
    "\n",
    "Repare que no gráfico temos 2 coordenadas para descrever o ponto, então temos 2 eixos e duas dimensões. Já, quando descrevemos o vértice do cubo temos 3 números, então 3 eixos e 3 dimensões.\n",
    "\n",
    "Um vetor vai ter duas dimensões, mas um tensor pode ter quantas dimensões quisermos.\n",
    "\n",
    "Agora, imagine declarar e configurar um tensor de 70.000 dimensões. Começa a ficar complicado. E imagine implementar cada algoritmo que vai rodar nesse tensor, vai levar um pouco mais de tempo. Estamos extrapolando nesse exemplo, muitas dessas coisas são facilitadas pelo próprio Tensorflow, mas podemos usar o Keras para abstrairmos e só dizermos o que a gente quer que o nosso modelo faça, deixando o Tensorflow se virar para fazer isso lá no baixo nível.\n",
    "\n",
    "Mas, não há apenas o Keras como API de Deep Learning, há também muitas outras como:\n",
    "\n",
    "- [Caffe](http://caffe.berkeleyvision.org/) do grupo de pesquisa da universidade de Berkeley,\n",
    "- [Torch](http://torch.ch/) uma implementação usando Lua,\n",
    "- [PyTorch](https://pytorch.org/) uma variação do Torch para Python,\n",
    "- [CNTK](https://www.microsoft.com/en-us/cognitive-toolkit/) da Microsoft,\n",
    "- [DL4J](https://deeplearning4j.org/) uma implementação usando Java,\n",
    "- [MXNet](https://mxnet.incubator.apache.org/) da Apache.\n",
    "\n",
    "Cada uma delas tem as suas particularidades, é sempre legal experimentar e ver aquela com a qual se sente mais confortável.\n",
    "\n",
    "Além disso, tudo depende do objetivo do projeto. Se está desenvolvendo e testando um modelo, prototipando, é interessante usar uma API de alto nível para ganhar velocidade e descer de nível ao ter algo mais concreto para implementar à medida que for precisando obter mais controle sobre o modelo.\n",
    "\n",
    "Lembrando que, quanto mais a API for próxima da linguagem natural, menos controle você vai ter do que acontece por debaixo dos panos, e quanto mais próxima ela for do baixo nível ou dos tensores (um teste pode ser fazer uma implementação usando Tensorflow puro) mais controle você vai ter do modelo que for desenvolver."
   ]
  },
  {
   "cell_type": "markdown",
   "metadata": {},
   "source": [
    "# 02.02.Exibindo as categorias"
   ]
  },
  {
   "cell_type": "code",
   "execution_count": 15,
   "metadata": {},
   "outputs": [
    {
     "name": "stdout",
     "output_type": "stream",
     "text": [
      "min: 0\n",
      "max: 9\n"
     ]
    },
    {
     "data": {
      "image/png": "[encoded data removed]",
      "text/plain": [
       "<Figure size 640x480 with 1 Axes>"
      ]
     },
     "metadata": {},
     "output_type": "display_data"
    }
   ],
   "source": [
    "plt.title(identificacoes_treino[0])\n",
    "plt.imshow(imagens_treino[0])\n",
    "print('min: %d' % identificacoes_treino.min())\n",
    "print('max: %d' % identificacoes_treino.max())"
   ]
  },
  {
   "cell_type": "code",
   "execution_count": 20,
   "metadata": {},
   "outputs": [
    {
     "data": {
      "image/png": "[encoded data removed]",
      "text/plain": [
       "<Figure size 640x480 with 10 Axes>"
      ]
     },
     "metadata": {},
     "output_type": "display_data"
    }
   ],
   "source": [
    "total_classificacoes = 10\n",
    "nomes_classificacoes = [\n",
    "    'T-shirt/Top',\n",
    "    'Trousers',\n",
    "    'Pullover',\n",
    "    'Dress',\n",
    "    'Coat',\n",
    "    'Sandal',\n",
    "    'Shirt',\n",
    "    'Sneaker',\n",
    "    'Bag',\n",
    "    'Ankle boot'\n",
    "]\n",
    "\n",
    "for imagem in range(10):\n",
    "    plt.subplot(2, 5, imagem+1)\n",
    "    plt.imshow(imagens_treino[imagem])\n",
    "    plt.title(nomes_classificacoes[identificacoes_treino[imagem]])"
   ]
  },
  {
   "cell_type": "markdown",
   "metadata": {},
   "source": [
    "# 02.04.Refinamento do código"
   ]
  },
  {
   "cell_type": "code",
   "execution_count": null,
   "metadata": {},
   "outputs": [],
   "source": [
    "# imports\n",
    "import tensorflow\n",
    "from tensorflow import keras\n",
    "import matplotlib.pyplot as plt"
   ]
  },
  {
   "cell_type": "code",
   "execution_count": null,
   "metadata": {},
   "outputs": [],
   "source": [
    "# carregar o dataset\n",
    "dataset = keras.datasets.fashion_mnist\n",
    "((imagens_treino, identificacoes_treino), (imagens_teste, identificacoes_teste)) = dataset.load_data()"
   ]
  },
  {
   "cell_type": "code",
   "execution_count": 22,
   "metadata": {},
   "outputs": [
    {
     "name": "stdout",
     "output_type": "stream",
     "text": [
      "(60000, 28, 28)\n",
      "(10000, 28, 28)\n",
      "min: 0\n",
      "max: 9\n"
     ]
    }
   ],
   "source": [
    "# explorar os dados\n",
    "print(imagens_treino.shape)\n",
    "len(identificacoes_treino)\n",
    "print(imagens_teste.shape)\n",
    "len(identificacoes_teste)\n",
    "print('min: %d' % identificacoes_treino.min())\n",
    "print('max: %d' % identificacoes_treino.max())"
   ]
  },
  {
   "cell_type": "code",
   "execution_count": null,
   "metadata": {},
   "outputs": [],
   "source": [
    "# exibir os dados\n",
    "total_classificacoes = 10\n",
    "nomes_classificacoes = [\n",
    "    'T-shirt/Top',\n",
    "    'Trousers',\n",
    "    'Pullover',\n",
    "    'Dress',\n",
    "    'Coat',\n",
    "    'Sandal',\n",
    "    'Shirt',\n",
    "    'Sneaker',\n",
    "    'Bag',\n",
    "    'Ankle boot'\n",
    "]\n",
    "\n",
    "plt.title(identificacoes_treino[0])\n",
    "plt.imshow(imagens_treino[0])\n",
    "\n",
    "for imagem in range(10):\n",
    "    plt.subplot(2, 5, imagem+1)\n",
    "    plt.imshow(imagens_treino[imagem])\n",
    "    plt.title(nomes_classificacoes[identificacoes_treino[imagem]])"
   ]
  },
  {
   "cell_type": "markdown",
   "metadata": {},
   "source": [
    "# 02.05.Criando a camada 0"
   ]
  },
  {
   "cell_type": "code",
   "execution_count": 27,
   "metadata": {},
   "outputs": [
    {
     "name": "stderr",
     "output_type": "stream",
     "text": [
      "/home/cristoffer_pogan/Documents/dev/Tutorials/Alura/Formacao_Machine_Learning_Avancada/Deep_Learning_parte_1_Keras/.venv/lib/python3.10/site-packages/keras/src/layers/reshaping/flatten.py:37: UserWarning: Do not pass an `input_shape`/`input_dim` argument to a layer. When using Sequential models, prefer using an `Input(shape)` object as the first layer in the model instead.\n",
      "  super().__init__(**kwargs)\n"
     ]
    }
   ],
   "source": [
    "modelo = keras.Sequential([\n",
    "    keras.layers.Flatten(input_shape=(28, 28)),\n",
    "    # processamento\n",
    "    # saida\n",
    "])"
   ]
  },
  {
   "cell_type": "markdown",
   "metadata": {},
   "source": [
    "# 02.07.Para saber mais"
   ]
  },
  {
   "cell_type": "markdown",
   "metadata": {},
   "source": [
    "Trabalhando com imagens\n",
    "\n",
    "Estamos trabalhando com um dataset que, além de ser interno ao Keras, é\n",
    "preparado para facilitar ao máximo o teste com nossos modelos. Como?\n",
    "\n",
    "Imagine que você tenha que dizer qual o conteúdo das três imagens abaixo:\n",
    "\n",
    "![](https://cdn3.gnarususercontent.com.br/982-tensorflow/image16.png)\n",
    "\n",
    "Olhando nós sabemos que as três têm patos.\n",
    "\n",
    "Na imagem 1 o pato está bem contorcido e tem bastante azul, verde e marrom na imagem. Na imagem 2, é um pato de borracha, mas conseguimos ver a carinha dele, e tem bastante amarelo e laranja na imagem. Na imagem 3, o pato está distante e abrindo as asas, tem bastante verde na imagem. Repare como a imagem 1 é bem diferente da imagem 2 que também é bem diferente da imagem 3. Elas são pouco semelhantes.\n",
    "\n",
    "E quanto mais dados diferentes tivermos, mais complexo vai ficar o nosso modelo. O que poderíamos fazer para simplificar? Poderíamos retirar algumas informações, como a cor.\n",
    "\n",
    "![](https://cdn3.gnarususercontent.com.br/982-tensorflow/image14.png)\n",
    "\n",
    "Deixando as imagens em uma escala de cinza, já criamos uma uniformidade entre elas que facilita e simplifica para que o nosso modelo reconheça as semelhanças e diferenças.\n",
    "\n",
    "Além disso, o que mais poderíamos fazer? Podemos destacar os nossos patos do fundo, exagerando no contraste das imagens.\n",
    "\n",
    "![](https://cdn3.gnarususercontent.com.br/982-tensorflow/image1.png)\n",
    "\n",
    "Ao fazermos isso, já percebemos que, por exemplo, o contorno da imagem 2 se perde, confundindo mais do que ajudando a reconhecer o contorno, então talvez seja mais interessante termos outra imagem desse tipo ou trabalhar com as outras duas.\n",
    "\n",
    "Nós já retiramos a cor e aumentamos bastante o contraste entre as imagens, será que tem mais alguma coisa que podemos fazer? Sim, podemos deixar os patos no centro delas, redimensionando-as e centralizando a forma do pato, que é essencial.\n",
    "\n",
    "![](https://cdn3.gnarususercontent.com.br/982-tensorflow/image10.png)\n",
    "\n",
    "Agora temos duas imagens simples, com pouca informação, centralizadas e com as formas dos patos em destaque, o que irá facilitar para que o nosso modelo as reconheça.\n",
    "\n",
    "Este foi um exemplo do que é possível fazer para pré-processarmos um dataset, algo muito comum ao treinar modelos no dia a dia e que consome uma boa parte do tempo de quem trabalha com isso.\n",
    "\n",
    "Para fazer essas transformações, precisamos explorar os dados como fazemos no curso com o pyplot do matplotlib, e usar também uma biblioteca como a scipy do Python que tem um módulo chamado ndimage apenas para lidar com imagens.\n",
    "\n",
    "```python\n",
    "from scipy import ndimage\n",
    "```\n",
    "\n",
    "Para ver os códigos, é possível dar uma olhada neste [tutorial](http://www.scipy-lectures.org/advanced/image_processing/) (site em inglês)."
   ]
  },
  {
   "cell_type": "markdown",
   "metadata": {},
   "source": [
    "# 03.02.Criando a camada 1"
   ]
  },
  {
   "cell_type": "code",
   "execution_count": 29,
   "metadata": {},
   "outputs": [],
   "source": [
    "modelo = keras.Sequential([\n",
    "    keras.layers.Flatten(input_shape=(28, 28)),\n",
    "    keras.layers.Dense(256, activation=tensorflow.nn.relu),\n",
    "    # saída\n",
    "])"
   ]
  },
  {
   "cell_type": "markdown",
   "metadata": {},
   "source": [
    "# 03.04.Relu e não linearidade"
   ]
  },
  {
   "cell_type": "code",
   "execution_count": null,
   "metadata": {},
   "outputs": [],
   "source": [
    "# ReLU = Rectified Linear Unit => números negativos se tornam 0\n",
    "# Função não linear            => números positivos se mantém\n",
    "\n",
    "# modelo = keras.Sequential([\n",
    "#     keras.layers.Flatten(input_shape=(28, 28)),\n",
    "#     keras.layers.Dense(256, activation=tensorflow.nn.relu),\n",
    "#     keras.layers.Dense(10, activation=tensorflow.nn.)\n",
    "# ])"
   ]
  },
  {
   "cell_type": "markdown",
   "metadata": {},
   "source": [
    "# 03.06.Softmax e multicamadas"
   ]
  },
  {
   "cell_type": "code",
   "execution_count": 30,
   "metadata": {},
   "outputs": [
    {
     "name": "stderr",
     "output_type": "stream",
     "text": [
      "/home/cristoffer_pogan/Documents/dev/Tutorials/Alura/Formacao_Machine_Learning_Avancada/Deep_Learning_parte_1_Keras/.venv/lib/python3.10/site-packages/keras/src/layers/reshaping/flatten.py:37: UserWarning: Do not pass an `input_shape`/`input_dim` argument to a layer. When using Sequential models, prefer using an `Input(shape)` object as the first layer in the model instead.\n",
      "  super().__init__(**kwargs)\n"
     ]
    },
    {
     "ename": "ValueError",
     "evalue": "You must call `compile()` before using the model.",
     "output_type": "error",
     "traceback": [
      "\u001b[0;31m---------------------------------------------------------------------------\u001b[0m",
      "\u001b[0;31mValueError\u001b[0m                                Traceback (most recent call last)",
      "Cell \u001b[0;32mIn[30], line 7\u001b[0m\n\u001b[1;32m      1\u001b[0m modelo \u001b[38;5;241m=\u001b[39m keras\u001b[38;5;241m.\u001b[39mSequential([\n\u001b[1;32m      2\u001b[0m     keras\u001b[38;5;241m.\u001b[39mlayers\u001b[38;5;241m.\u001b[39mFlatten(input_shape\u001b[38;5;241m=\u001b[39m(\u001b[38;5;241m28\u001b[39m, \u001b[38;5;241m28\u001b[39m)),\n\u001b[1;32m      3\u001b[0m     keras\u001b[38;5;241m.\u001b[39mlayers\u001b[38;5;241m.\u001b[39mDense(\u001b[38;5;241m256\u001b[39m, activation\u001b[38;5;241m=\u001b[39mtensorflow\u001b[38;5;241m.\u001b[39mnn\u001b[38;5;241m.\u001b[39mrelu),\n\u001b[1;32m      4\u001b[0m     keras\u001b[38;5;241m.\u001b[39mlayers\u001b[38;5;241m.\u001b[39mDense(\u001b[38;5;241m10\u001b[39m, activation\u001b[38;5;241m=\u001b[39mtensorflow\u001b[38;5;241m.\u001b[39mnn\u001b[38;5;241m.\u001b[39msoftmax)\n\u001b[1;32m      5\u001b[0m ])\n\u001b[0;32m----> 7\u001b[0m \u001b[43mmodelo\u001b[49m\u001b[38;5;241;43m.\u001b[39;49m\u001b[43mfit\u001b[49m\u001b[43m(\u001b[49m\u001b[43mimagens_treino\u001b[49m\u001b[43m,\u001b[49m\u001b[43m \u001b[49m\u001b[43midentificacoes_treino\u001b[49m\u001b[43m)\u001b[49m\n",
      "File \u001b[0;32m~/Documents/dev/Tutorials/Alura/Formacao_Machine_Learning_Avancada/Deep_Learning_parte_1_Keras/.venv/lib/python3.10/site-packages/keras/src/utils/traceback_utils.py:122\u001b[0m, in \u001b[0;36mfilter_traceback.<locals>.error_handler\u001b[0;34m(*args, **kwargs)\u001b[0m\n\u001b[1;32m    119\u001b[0m     filtered_tb \u001b[38;5;241m=\u001b[39m _process_traceback_frames(e\u001b[38;5;241m.\u001b[39m__traceback__)\n\u001b[1;32m    120\u001b[0m     \u001b[38;5;66;03m# To get the full stack trace, call:\u001b[39;00m\n\u001b[1;32m    121\u001b[0m     \u001b[38;5;66;03m# `keras.config.disable_traceback_filtering()`\u001b[39;00m\n\u001b[0;32m--> 122\u001b[0m     \u001b[38;5;28;01mraise\u001b[39;00m e\u001b[38;5;241m.\u001b[39mwith_traceback(filtered_tb) \u001b[38;5;28;01mfrom\u001b[39;00m \u001b[38;5;28;01mNone\u001b[39;00m\n\u001b[1;32m    123\u001b[0m \u001b[38;5;28;01mfinally\u001b[39;00m:\n\u001b[1;32m    124\u001b[0m     \u001b[38;5;28;01mdel\u001b[39;00m filtered_tb\n",
      "File \u001b[0;32m~/Documents/dev/Tutorials/Alura/Formacao_Machine_Learning_Avancada/Deep_Learning_parte_1_Keras/.venv/lib/python3.10/site-packages/keras/src/trainers/trainer.py:961\u001b[0m, in \u001b[0;36mTrainer._assert_compile_called\u001b[0;34m(self, method_name)\u001b[0m\n\u001b[1;32m    959\u001b[0m \u001b[38;5;28;01melse\u001b[39;00m:\n\u001b[1;32m    960\u001b[0m     msg \u001b[38;5;241m+\u001b[39m\u001b[38;5;241m=\u001b[39m \u001b[38;5;124mf\u001b[39m\u001b[38;5;124m\"\u001b[39m\u001b[38;5;124mcalling `\u001b[39m\u001b[38;5;132;01m{\u001b[39;00mmethod_name\u001b[38;5;132;01m}\u001b[39;00m\u001b[38;5;124m()`.\u001b[39m\u001b[38;5;124m\"\u001b[39m\n\u001b[0;32m--> 961\u001b[0m \u001b[38;5;28;01mraise\u001b[39;00m \u001b[38;5;167;01mValueError\u001b[39;00m(msg)\n",
      "\u001b[0;31mValueError\u001b[0m: You must call `compile()` before using the model."
     ]
    }
   ],
   "source": [
    "modelo = keras.Sequential([\n",
    "    keras.layers.Flatten(input_shape=(28, 28)),\n",
    "    keras.layers.Dense(256, activation=tensorflow.nn.relu),\n",
    "    keras.layers.Dense(10, activation=tensorflow.nn.softmax)\n",
    "])\n",
    "\n",
    "# ValueError: You must call `compile()` before using the model.\n",
    "# modelo.compile()\n",
    "\n",
    "modelo.fit(imagens_treino, identificacoes_treino)"
   ]
  }
 ],
 "metadata": {
  "kernelspec": {
   "display_name": ".venv",
   "language": "python",
   "name": "python3"
  },
  "language_info": {
   "codemirror_mode": {
    "name": "ipython",
    "version": 3
   },
   "file_extension": ".py",
   "mimetype": "text/x-python",
   "name": "python",
   "nbconvert_exporter": "python",
   "pygments_lexer": "ipython3",
   "version": "3.10.12"
  }
 },
 "nbformat": 4,
 "nbformat_minor": 2
}
