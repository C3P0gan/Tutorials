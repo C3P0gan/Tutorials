{
 "cells": [
  {
   "cell_type": "markdown",
   "metadata": {},
   "source": [
    "# Corretor Ortográfico em Python: aplicando técnicas de NLP"
   ]
  },
  {
   "cell_type": "markdown",
   "metadata": {},
   "source": [
    "## 01. Explorando um projeto de NLP"
   ]
  },
  {
   "cell_type": "markdown",
   "metadata": {},
   "source": [
    "### 04. Importando um corpus textual"
   ]
  },
  {
   "cell_type": "code",
   "execution_count": 4,
   "metadata": {},
   "outputs": [
    {
     "data": {
      "text/plain": [
       "'\\n\\n\\nimagem \\n\\nTemos a seguinte classe que representa um usuário no nosso sistema:\\n\\njava\\n\\nPara salvar um novo usuário, várias validações são feitas, como por exemplo: Ver se o nome só contém letras, [**o CPF só números**] e ver se o usuário possui no mínimo 18 anos. Veja o método que faz essa validação:\\n\\njava \\n\\nSuponha agora que eu tenha outra classe, a classe `Produto`, que contém um atributo nome e eu quero fazer a mesma validação que fiz para o nome do usuário: Ver se só contém letras. E aí? Vou'"
      ]
     },
     "execution_count": 4,
     "metadata": {},
     "output_type": "execute_result"
    }
   ],
   "source": [
    "with open(\"dados/artigos.txt\") as f:\n",
    "    artigos = f.read()\n",
    "\n",
    "artigos[:500]"
   ]
  },
  {
   "cell_type": "markdown",
   "metadata": {},
   "source": [
    "### 05. Tokenização"
   ]
  },
  {
   "cell_type": "code",
   "execution_count": 5,
   "metadata": {},
   "outputs": [
    {
     "name": "stdout",
     "output_type": "stream",
     "text": [
      "3\n",
      "['Olá,', 'tudo', 'bem?']\n"
     ]
    }
   ],
   "source": [
    "texto_exemplo = \"Olá, tudo bem?\"\n",
    "tokens = texto_exemplo.split(\" \")\n",
    "print(len(tokens))\n",
    "print(tokens)"
   ]
  },
  {
   "cell_type": "markdown",
   "metadata": {},
   "source": [
    "## 02. Utilizando NLTK para tokenizar um texto"
   ]
  },
  {
   "cell_type": "markdown",
   "metadata": {},
   "source": [
    "### 02. Refinando a tokenização"
   ]
  },
  {
   "cell_type": "markdown",
   "metadata": {},
   "source": [
    "[Natural Language Toolkit - NLTK](https://www.nltk.org/)"
   ]
  },
  {
   "cell_type": "code",
   "execution_count": 16,
   "metadata": {},
   "outputs": [
    {
     "data": {
      "text/plain": [
       "['imagem',\n",
       " 'Temos',\n",
       " 'a',\n",
       " 'seguinte',\n",
       " 'classe',\n",
       " 'que',\n",
       " 'representa',\n",
       " 'um',\n",
       " 'usuário',\n",
       " 'no',\n",
       " 'nosso',\n",
       " 'sistema',\n",
       " ':',\n",
       " 'java',\n",
       " 'Para',\n",
       " 'salvar',\n",
       " 'um',\n",
       " 'novo',\n",
       " 'usuário',\n",
       " ',',\n",
       " 'várias',\n",
       " 'validações',\n",
       " 'são',\n",
       " 'feitas',\n",
       " ',',\n",
       " 'como',\n",
       " 'por',\n",
       " 'exemplo',\n",
       " ':',\n",
       " 'Ver',\n",
       " 'se',\n",
       " 'o',\n",
       " 'nome',\n",
       " 'só',\n",
       " 'contém',\n",
       " 'letras',\n",
       " ',',\n",
       " '[',\n",
       " '*',\n",
       " '*',\n",
       " 'o',\n",
       " 'CPF',\n",
       " 'só',\n",
       " 'números',\n",
       " '*',\n",
       " '*',\n",
       " ']',\n",
       " 'e',\n",
       " 'ver',\n",
       " 'se']"
      ]
     },
     "execution_count": 16,
     "metadata": {},
     "output_type": "execute_result"
    }
   ],
   "source": [
    "import nltk\n",
    "\n",
    "lista_tokens = nltk.tokenize.word_tokenize(artigos)\n",
    "lista_tokens[:50]"
   ]
  },
  {
   "cell_type": "markdown",
   "metadata": {},
   "source": [
    "### 04. Separando palavras de tokens"
   ]
  },
  {
   "cell_type": "code",
   "execution_count": 11,
   "metadata": {},
   "outputs": [],
   "source": [
    "from typing import List\n",
    "\n",
    "def separa_palavras(lista_tokens: List[str]) -> List[str]:\n",
    "    lista_palavras = list()\n",
    "    for token in lista_tokens:\n",
    "        if token.isalpha():\n",
    "            lista_palavras.append(token)\n",
    "    return lista_palavras"
   ]
  },
  {
   "cell_type": "markdown",
   "metadata": {},
   "source": [
    "### 05. Contando palavras do Corpus"
   ]
  },
  {
   "cell_type": "code",
   "execution_count": 17,
   "metadata": {},
   "outputs": [
    {
     "data": {
      "text/plain": [
       "403104"
      ]
     },
     "execution_count": 17,
     "metadata": {},
     "output_type": "execute_result"
    }
   ],
   "source": [
    "lista_palavras = separa_palavras(lista_tokens)\n",
    "len(lista_palavras)"
   ]
  },
  {
   "cell_type": "markdown",
   "metadata": {},
   "source": [
    "### 06. Normalização"
   ]
  },
  {
   "cell_type": "code",
   "execution_count": 18,
   "metadata": {},
   "outputs": [],
   "source": [
    "def normalizacao(lista_palavras: List[str]) -> List[str]:\n",
    "    lista_normalizada = list()\n",
    "    for palavra in lista_palavras:\n",
    "        lista_normalizada.append(palavra.lower())\n",
    "    return lista_normalizada"
   ]
  },
  {
   "cell_type": "code",
   "execution_count": 19,
   "metadata": {},
   "outputs": [
    {
     "data": {
      "text/plain": [
       "['imagem', 'temos', 'a', 'seguinte', 'classe']"
      ]
     },
     "execution_count": 19,
     "metadata": {},
     "output_type": "execute_result"
    }
   ],
   "source": [
    "lista_normalizada = normalizacao(lista_palavras)\n",
    "lista_normalizada[:5]"
   ]
  },
  {
   "cell_type": "markdown",
   "metadata": {},
   "source": [
    "### 07. Tipos de palavras"
   ]
  },
  {
   "cell_type": "code",
   "execution_count": 22,
   "metadata": {},
   "outputs": [
    {
     "name": "stdout",
     "output_type": "stream",
     "text": [
      "18465\n"
     ]
    }
   ],
   "source": [
    "print(len(set(lista_normalizada)))"
   ]
  },
  {
   "cell_type": "markdown",
   "metadata": {},
   "source": [
    "## 03. Desenvolvendo e testando o corretor"
   ]
  },
  {
   "cell_type": "markdown",
   "metadata": {},
   "source": [
    "### 03. Fatiando strings"
   ]
  },
  {
   "cell_type": "code",
   "execution_count": 33,
   "metadata": {},
   "outputs": [],
   "source": [
    "palavra_exemplo = \"Lgica\"\n",
    "def gerador_palavras(palavra: str) -> List[str]:\n",
    "    fatias = list()\n",
    "    for i in range(len(palavra) + 1):\n",
    "        fatias.append((palavra[:i], palavra[i:]))\n",
    "    print(fatias)\n",
    "    # palavras_geradas = insere_letras(fatias)"
   ]
  },
  {
   "cell_type": "code",
   "execution_count": 25,
   "metadata": {},
   "outputs": [],
   "source": [
    "gerador_palavras(palavra_exemplo)"
   ]
  },
  {
   "cell_type": "markdown",
   "metadata": {},
   "source": [
    "### 04. Operação de inserção"
   ]
  },
  {
   "cell_type": "code",
   "execution_count": 35,
   "metadata": {},
   "outputs": [],
   "source": [
    "from typing import Tuple\n",
    "\n",
    "def insere_letras(fatias: List[Tuple]) -> List:\n",
    "    novas_palavras = list()\n",
    "    letras = \"abcdefghijklmnopqrstuvwxyzáâàãéêèẽíîìĩóôòõúûùũç\"\n",
    "    for E, D in fatias:\n",
    "        for letra in letras:\n",
    "            novas_palavras.append(E + letra + D)\n",
    "    return novas_palavras"
   ]
  },
  {
   "cell_type": "code",
   "execution_count": 59,
   "metadata": {},
   "outputs": [],
   "source": [
    "palavra_exemplo = \"Lgica\"\n",
    "\n",
    "def insere_letras(fatias: List[Tuple]) -> List:\n",
    "    novas_palavras = list()\n",
    "    letras = \"abcdefghijklmnopqrstuvwxyzáâàãéêèẽíîìĩóôòõúûùũç\"\n",
    "    for E, D in fatias:\n",
    "        for letra in letras:\n",
    "            novas_palavras.append(E + letra + D)\n",
    "    return novas_palavras\n",
    "\n",
    "\n",
    "def gerador_palavras(palavra: str) -> List[str]:\n",
    "    fatias = list()\n",
    "    for i in range(len(palavra) + 1):\n",
    "        fatias.append((palavra[:i], palavra[i:]))\n",
    "    palavras_geradas = insere_letras(fatias)\n",
    "    return palavras_geradas"
   ]
  },
  {
   "cell_type": "code",
   "execution_count": 74,
   "metadata": {},
   "outputs": [
    {
     "data": {
      "text/plain": [
       "['aLgica',\n",
       " 'bLgica',\n",
       " 'cLgica',\n",
       " 'dLgica',\n",
       " 'eLgica',\n",
       " 'fLgica',\n",
       " 'gLgica',\n",
       " 'hLgica',\n",
       " 'iLgica',\n",
       " 'jLgica',\n",
       " 'kLgica',\n",
       " 'lLgica',\n",
       " 'mLgica',\n",
       " 'nLgica',\n",
       " 'oLgica',\n",
       " 'pLgica',\n",
       " 'qLgica',\n",
       " 'rLgica',\n",
       " 'sLgica',\n",
       " 'tLgica',\n",
       " 'uLgica',\n",
       " 'vLgica',\n",
       " 'wLgica',\n",
       " 'xLgica',\n",
       " 'yLgica',\n",
       " 'zLgica',\n",
       " 'áLgica',\n",
       " 'âLgica',\n",
       " 'àLgica',\n",
       " 'ãLgica',\n",
       " 'éLgica',\n",
       " 'êLgica',\n",
       " 'èLgica',\n",
       " 'ẽLgica',\n",
       " 'íLgica',\n",
       " 'îLgica',\n",
       " 'ìLgica',\n",
       " 'ĩLgica',\n",
       " 'óLgica',\n",
       " 'ôLgica',\n",
       " 'òLgica',\n",
       " 'õLgica',\n",
       " 'úLgica',\n",
       " 'ûLgica',\n",
       " 'ùLgica',\n",
       " 'ũLgica',\n",
       " 'çLgica',\n",
       " 'Lagica',\n",
       " 'Lbgica',\n",
       " 'Lcgica',\n",
       " 'Ldgica',\n",
       " 'Legica',\n",
       " 'Lfgica',\n",
       " 'Lggica',\n",
       " 'Lhgica',\n",
       " 'Ligica',\n",
       " 'Ljgica',\n",
       " 'Lkgica',\n",
       " 'Llgica',\n",
       " 'Lmgica',\n",
       " 'Lngica',\n",
       " 'Logica',\n",
       " 'Lpgica',\n",
       " 'Lqgica',\n",
       " 'Lrgica',\n",
       " 'Lsgica',\n",
       " 'Ltgica',\n",
       " 'Lugica',\n",
       " 'Lvgica',\n",
       " 'Lwgica',\n",
       " 'Lxgica',\n",
       " 'Lygica',\n",
       " 'Lzgica',\n",
       " 'Lágica',\n",
       " 'Lâgica',\n",
       " 'Làgica',\n",
       " 'Lãgica',\n",
       " 'Légica',\n",
       " 'Lêgica',\n",
       " 'Lègica',\n",
       " 'Lẽgica',\n",
       " 'Lígica',\n",
       " 'Lîgica',\n",
       " 'Lìgica',\n",
       " 'Lĩgica',\n",
       " 'Lógica',\n",
       " 'Lôgica',\n",
       " 'Lògica',\n",
       " 'Lõgica',\n",
       " 'Lúgica',\n",
       " 'Lûgica',\n",
       " 'Lùgica',\n",
       " 'Lũgica',\n",
       " 'Lçgica',\n",
       " 'Lgaica',\n",
       " 'Lgbica',\n",
       " 'Lgcica',\n",
       " 'Lgdica',\n",
       " 'Lgeica',\n",
       " 'Lgfica',\n",
       " 'Lggica',\n",
       " 'Lghica',\n",
       " 'Lgiica',\n",
       " 'Lgjica',\n",
       " 'Lgkica',\n",
       " 'Lglica',\n",
       " 'Lgmica',\n",
       " 'Lgnica',\n",
       " 'Lgoica',\n",
       " 'Lgpica',\n",
       " 'Lgqica',\n",
       " 'Lgrica',\n",
       " 'Lgsica',\n",
       " 'Lgtica',\n",
       " 'Lguica',\n",
       " 'Lgvica',\n",
       " 'Lgwica',\n",
       " 'Lgxica',\n",
       " 'Lgyica',\n",
       " 'Lgzica',\n",
       " 'Lgáica',\n",
       " 'Lgâica',\n",
       " 'Lgàica',\n",
       " 'Lgãica',\n",
       " 'Lgéica',\n",
       " 'Lgêica',\n",
       " 'Lgèica',\n",
       " 'Lgẽica',\n",
       " 'Lgíica',\n",
       " 'Lgîica',\n",
       " 'Lgìica',\n",
       " 'Lgĩica',\n",
       " 'Lgóica',\n",
       " 'Lgôica',\n",
       " 'Lgòica',\n",
       " 'Lgõica',\n",
       " 'Lgúica',\n",
       " 'Lgûica',\n",
       " 'Lgùica',\n",
       " 'Lgũica',\n",
       " 'Lgçica',\n",
       " 'Lgiaca',\n",
       " 'Lgibca',\n",
       " 'Lgicca',\n",
       " 'Lgidca',\n",
       " 'Lgieca',\n",
       " 'Lgifca',\n",
       " 'Lgigca',\n",
       " 'Lgihca',\n",
       " 'Lgiica',\n",
       " 'Lgijca',\n",
       " 'Lgikca',\n",
       " 'Lgilca',\n",
       " 'Lgimca',\n",
       " 'Lginca',\n",
       " 'Lgioca',\n",
       " 'Lgipca',\n",
       " 'Lgiqca',\n",
       " 'Lgirca',\n",
       " 'Lgisca',\n",
       " 'Lgitca',\n",
       " 'Lgiuca',\n",
       " 'Lgivca',\n",
       " 'Lgiwca',\n",
       " 'Lgixca',\n",
       " 'Lgiyca',\n",
       " 'Lgizca',\n",
       " 'Lgiáca',\n",
       " 'Lgiâca',\n",
       " 'Lgiàca',\n",
       " 'Lgiãca',\n",
       " 'Lgiéca',\n",
       " 'Lgiêca',\n",
       " 'Lgièca',\n",
       " 'Lgiẽca',\n",
       " 'Lgiíca',\n",
       " 'Lgiîca',\n",
       " 'Lgiìca',\n",
       " 'Lgiĩca',\n",
       " 'Lgióca',\n",
       " 'Lgiôca',\n",
       " 'Lgiòca',\n",
       " 'Lgiõca',\n",
       " 'Lgiúca',\n",
       " 'Lgiûca',\n",
       " 'Lgiùca',\n",
       " 'Lgiũca',\n",
       " 'Lgiçca',\n",
       " 'Lgicaa',\n",
       " 'Lgicba',\n",
       " 'Lgicca',\n",
       " 'Lgicda',\n",
       " 'Lgicea',\n",
       " 'Lgicfa',\n",
       " 'Lgicga',\n",
       " 'Lgicha',\n",
       " 'Lgicia',\n",
       " 'Lgicja',\n",
       " 'Lgicka',\n",
       " 'Lgicla',\n",
       " 'Lgicma',\n",
       " 'Lgicna',\n",
       " 'Lgicoa',\n",
       " 'Lgicpa',\n",
       " 'Lgicqa',\n",
       " 'Lgicra',\n",
       " 'Lgicsa',\n",
       " 'Lgicta',\n",
       " 'Lgicua',\n",
       " 'Lgicva',\n",
       " 'Lgicwa',\n",
       " 'Lgicxa',\n",
       " 'Lgicya',\n",
       " 'Lgicza',\n",
       " 'Lgicáa',\n",
       " 'Lgicâa',\n",
       " 'Lgicàa',\n",
       " 'Lgicãa',\n",
       " 'Lgicéa',\n",
       " 'Lgicêa',\n",
       " 'Lgicèa',\n",
       " 'Lgicẽa',\n",
       " 'Lgicía',\n",
       " 'Lgicîa',\n",
       " 'Lgicìa',\n",
       " 'Lgicĩa',\n",
       " 'Lgicóa',\n",
       " 'Lgicôa',\n",
       " 'Lgicòa',\n",
       " 'Lgicõa',\n",
       " 'Lgicúa',\n",
       " 'Lgicûa',\n",
       " 'Lgicùa',\n",
       " 'Lgicũa',\n",
       " 'Lgicça',\n",
       " 'Lgicaa',\n",
       " 'Lgicab',\n",
       " 'Lgicac',\n",
       " 'Lgicad',\n",
       " 'Lgicae',\n",
       " 'Lgicaf',\n",
       " 'Lgicag',\n",
       " 'Lgicah',\n",
       " 'Lgicai',\n",
       " 'Lgicaj',\n",
       " 'Lgicak',\n",
       " 'Lgical',\n",
       " 'Lgicam',\n",
       " 'Lgican',\n",
       " 'Lgicao',\n",
       " 'Lgicap',\n",
       " 'Lgicaq',\n",
       " 'Lgicar',\n",
       " 'Lgicas',\n",
       " 'Lgicat',\n",
       " 'Lgicau',\n",
       " 'Lgicav',\n",
       " 'Lgicaw',\n",
       " 'Lgicax',\n",
       " 'Lgicay',\n",
       " 'Lgicaz',\n",
       " 'Lgicaá',\n",
       " 'Lgicaâ',\n",
       " 'Lgicaà',\n",
       " 'Lgicaã',\n",
       " 'Lgicaé',\n",
       " 'Lgicaê',\n",
       " 'Lgicaè',\n",
       " 'Lgicaẽ',\n",
       " 'Lgicaí',\n",
       " 'Lgicaî',\n",
       " 'Lgicaì',\n",
       " 'Lgicaĩ',\n",
       " 'Lgicaó',\n",
       " 'Lgicaô',\n",
       " 'Lgicaò',\n",
       " 'Lgicaõ',\n",
       " 'Lgicaú',\n",
       " 'Lgicaû',\n",
       " 'Lgicaù',\n",
       " 'Lgicaũ',\n",
       " 'Lgicaç']"
      ]
     },
     "execution_count": 74,
     "metadata": {},
     "output_type": "execute_result"
    }
   ],
   "source": [
    "gerador_palavras(palavra_exemplo)"
   ]
  },
  {
   "cell_type": "markdown",
   "metadata": {},
   "source": [
    "### 06. Construindo a função corretor"
   ]
  },
  {
   "cell_type": "code",
   "execution_count": 40,
   "metadata": {},
   "outputs": [],
   "source": [
    "def corretor(palavra: str) -> str:\n",
    "    palavras_geradas = gerador_palavras(palavra)\n",
    "    palavra_correta = max(palavras_geradas, key=probabilidade)\n",
    "    return palavra_correta"
   ]
  },
  {
   "cell_type": "markdown",
   "metadata": {},
   "source": [
    "### 07. Probabilidade das palavras geradas"
   ]
  },
  {
   "cell_type": "code",
   "execution_count": 41,
   "metadata": {},
   "outputs": [
    {
     "data": {
      "text/plain": [
       "[('de', 15502),\n",
       " ('o', 14056),\n",
       " ('que', 12230),\n",
       " ('a', 11099),\n",
       " ('e', 10501),\n",
       " ('para', 7710),\n",
       " ('um', 6368),\n",
       " ('é', 5899),\n",
       " ('uma', 5220),\n",
       " ('do', 5124)]"
      ]
     },
     "execution_count": 41,
     "metadata": {},
     "output_type": "execute_result"
    }
   ],
   "source": [
    "frequencia = nltk.FreqDist(lista_normalizada)\n",
    "frequencia.most_common(10)"
   ]
  },
  {
   "cell_type": "code",
   "execution_count": 66,
   "metadata": {},
   "outputs": [],
   "source": [
    "frequencia = nltk.FreqDist(lista_normalizada)\n",
    "total_palavras = len(lista_normalizada)\n",
    "\n",
    "def probabilidade(palavra_gerada: str):\n",
    "    print(frequencia[palavra_gerada], total_palavras, frequencia[palavra_gerada]/total_palavras)\n",
    "    return frequencia[palavra_gerada]/total_palavras"
   ]
  },
  {
   "cell_type": "code",
   "execution_count": 61,
   "metadata": {},
   "outputs": [],
   "source": [
    "def corretor(palavra: str) -> str:\n",
    "    palavras_geradas = gerador_palavras(palavra)\n",
    "    palavra_correta = max(palavras_geradas, key=probabilidade)\n",
    "    return palavra_correta"
   ]
  },
  {
   "cell_type": "code",
   "execution_count": 75,
   "metadata": {},
   "outputs": [
    {
     "data": {
      "text/plain": [
       "FreqDist({'de': 15502, 'o': 14056, 'que': 12230, 'a': 11099, 'e': 10501, 'para': 7710, 'um': 6368, 'é': 5899, 'uma': 5220, 'do': 5124, ...})"
      ]
     },
     "execution_count": 75,
     "metadata": {},
     "output_type": "execute_result"
    }
   ],
   "source": []
  }
 ],
 "metadata": {
  "kernelspec": {
   "display_name": ".venv",
   "language": "python",
   "name": "python3"
  },
  "language_info": {
   "codemirror_mode": {
    "name": "ipython",
    "version": 3
   },
   "file_extension": ".py",
   "mimetype": "text/x-python",
   "name": "python",
   "nbconvert_exporter": "python",
   "pygments_lexer": "ipython3",
   "version": "3.12.3"
  }
 },
 "nbformat": 4,
 "nbformat_minor": 2
}
