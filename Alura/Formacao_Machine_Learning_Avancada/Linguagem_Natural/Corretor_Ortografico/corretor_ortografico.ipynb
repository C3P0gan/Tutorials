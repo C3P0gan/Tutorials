{
 "cells": [
  {
   "cell_type": "markdown",
   "metadata": {},
   "source": [
    "# Corretor Ortográfico em Python: aplicando técnicas de NLP"
   ]
  },
  {
   "cell_type": "markdown",
   "metadata": {},
   "source": [
    "## 01. Explorando um projeto de NLP"
   ]
  },
  {
   "cell_type": "markdown",
   "metadata": {},
   "source": [
    "### 04. Importando um corpus textual"
   ]
  },
  {
   "cell_type": "code",
   "execution_count": 1,
   "metadata": {},
   "outputs": [
    {
     "data": {
      "text/plain": [
       "'\\n\\n\\nimagem \\n\\nTemos a seguinte classe que representa um usuário no nosso sistema:\\n\\njava\\n\\nPara salvar um novo usuário, várias validações são feitas, como por exemplo: Ver se o nome só contém letras, [**o CPF só números**] e ver se o usuário possui no mínimo 18 anos. Veja o método que faz essa validação:\\n\\njava \\n\\nSuponha agora que eu tenha outra classe, a classe `Produto`, que contém um atributo nome e eu quero fazer a mesma validação que fiz para o nome do usuário: Ver se só contém letras. E aí? Vou'"
      ]
     },
     "execution_count": 1,
     "metadata": {},
     "output_type": "execute_result"
    }
   ],
   "source": [
    "with open(\"dados/artigos.txt\") as f:\n",
    "    artigos = f.read()\n",
    "\n",
    "artigos[:500]"
   ]
  },
  {
   "cell_type": "markdown",
   "metadata": {},
   "source": [
    "### 05. Tokenização"
   ]
  },
  {
   "cell_type": "code",
   "execution_count": null,
   "metadata": {},
   "outputs": [
    {
     "name": "stdout",
     "output_type": "stream",
     "text": [
      "3\n",
      "['Olá,', 'tudo', 'bem?']\n"
     ]
    }
   ],
   "source": [
    "texto_exemplo = \"Olá, tudo bem?\"\n",
    "tokens = texto_exemplo.split(\" \")\n",
    "print(len(tokens))\n",
    "print(tokens)"
   ]
  },
  {
   "cell_type": "markdown",
   "metadata": {},
   "source": [
    "## 02. Utilizando NLTK para tokenizar um texto"
   ]
  },
  {
   "cell_type": "markdown",
   "metadata": {},
   "source": [
    "### 02. Refinando a tokenização"
   ]
  },
  {
   "cell_type": "markdown",
   "metadata": {},
   "source": [
    "[Natural Language Toolkit - NLTK](https://www.nltk.org/)"
   ]
  },
  {
   "cell_type": "code",
   "execution_count": 7,
   "metadata": {},
   "outputs": [
    {
     "data": {
      "text/plain": [
       "['imagem',\n",
       " 'Temos',\n",
       " 'a',\n",
       " 'seguinte',\n",
       " 'classe',\n",
       " 'que',\n",
       " 'representa',\n",
       " 'um',\n",
       " 'usuário',\n",
       " 'no',\n",
       " 'nosso',\n",
       " 'sistema',\n",
       " ':',\n",
       " 'java',\n",
       " 'Para',\n",
       " 'salvar',\n",
       " 'um',\n",
       " 'novo',\n",
       " 'usuário',\n",
       " ',',\n",
       " 'várias',\n",
       " 'validações',\n",
       " 'são',\n",
       " 'feitas',\n",
       " ',',\n",
       " 'como',\n",
       " 'por',\n",
       " 'exemplo',\n",
       " ':',\n",
       " 'Ver',\n",
       " 'se',\n",
       " 'o',\n",
       " 'nome',\n",
       " 'só',\n",
       " 'contém',\n",
       " 'letras',\n",
       " ',',\n",
       " '[',\n",
       " '*',\n",
       " '*',\n",
       " 'o',\n",
       " 'CPF',\n",
       " 'só',\n",
       " 'números',\n",
       " '*',\n",
       " '*',\n",
       " ']',\n",
       " 'e',\n",
       " 'ver',\n",
       " 'se']"
      ]
     },
     "execution_count": 7,
     "metadata": {},
     "output_type": "execute_result"
    }
   ],
   "source": [
    "import nltk\n",
    "\n",
    "lista_tokens = nltk.tokenize.word_tokenize(artigos)\n",
    "lista_tokens[:50]"
   ]
  },
  {
   "cell_type": "markdown",
   "metadata": {},
   "source": [
    "### 04. Separando palavras de tokens"
   ]
  },
  {
   "cell_type": "code",
   "execution_count": 5,
   "metadata": {},
   "outputs": [],
   "source": [
    "from typing import List\n",
    "\n",
    "def separa_palavras(lista_tokens: List[str]) -> List[str]:\n",
    "    lista_palavras = list()\n",
    "    for token in lista_tokens:\n",
    "        if token.isalpha():\n",
    "            lista_palavras.append(token)\n",
    "    return lista_palavras"
   ]
  },
  {
   "cell_type": "markdown",
   "metadata": {},
   "source": [
    "### 05. Contando palavras do Corpus"
   ]
  },
  {
   "cell_type": "code",
   "execution_count": 8,
   "metadata": {},
   "outputs": [
    {
     "data": {
      "text/plain": [
       "403104"
      ]
     },
     "execution_count": 8,
     "metadata": {},
     "output_type": "execute_result"
    }
   ],
   "source": [
    "lista_palavras = separa_palavras(lista_tokens)\n",
    "len(lista_palavras)"
   ]
  },
  {
   "cell_type": "markdown",
   "metadata": {},
   "source": [
    "### 06. Normalização"
   ]
  },
  {
   "cell_type": "code",
   "execution_count": 9,
   "metadata": {},
   "outputs": [],
   "source": [
    "def normalizacao(lista_palavras: List[str]) -> List[str]:\n",
    "    lista_normalizada = list()\n",
    "    for palavra in lista_palavras:\n",
    "        lista_normalizada.append(palavra.lower())\n",
    "    return lista_normalizada"
   ]
  },
  {
   "cell_type": "code",
   "execution_count": 10,
   "metadata": {},
   "outputs": [
    {
     "data": {
      "text/plain": [
       "['imagem', 'temos', 'a', 'seguinte', 'classe']"
      ]
     },
     "execution_count": 10,
     "metadata": {},
     "output_type": "execute_result"
    }
   ],
   "source": [
    "lista_normalizada = normalizacao(lista_palavras)\n",
    "lista_normalizada[:5]"
   ]
  },
  {
   "cell_type": "markdown",
   "metadata": {},
   "source": [
    "### 07. Tipos de palavras"
   ]
  },
  {
   "cell_type": "code",
   "execution_count": 11,
   "metadata": {},
   "outputs": [
    {
     "name": "stdout",
     "output_type": "stream",
     "text": [
      "18465\n"
     ]
    }
   ],
   "source": [
    "print(len(set(lista_normalizada)))"
   ]
  },
  {
   "cell_type": "markdown",
   "metadata": {},
   "source": [
    "## 03. Desenvolvendo e testando o corretor"
   ]
  },
  {
   "cell_type": "markdown",
   "metadata": {},
   "source": [
    "### 03. Fatiando strings"
   ]
  },
  {
   "cell_type": "code",
   "execution_count": 34,
   "metadata": {},
   "outputs": [],
   "source": [
    "palavra_exemplo = \"lgica\"\n",
    "\n",
    "def gerador_palavras(palavra: str) -> List[str]:\n",
    "    fatias = list()\n",
    "    for i in range(len(palavra) + 1):\n",
    "        fatias.append((palavra[:i], palavra[i:]))\n",
    "    print(fatias)"
   ]
  },
  {
   "cell_type": "code",
   "execution_count": 35,
   "metadata": {},
   "outputs": [
    {
     "name": "stdout",
     "output_type": "stream",
     "text": [
      "[('', 'lgica'), ('l', 'gica'), ('lg', 'ica'), ('lgi', 'ca'), ('lgic', 'a'), ('lgica', '')]\n"
     ]
    }
   ],
   "source": [
    "gerador_palavras(palavra_exemplo)"
   ]
  },
  {
   "cell_type": "markdown",
   "metadata": {},
   "source": [
    "### 04. Operação de inserção"
   ]
  },
  {
   "cell_type": "code",
   "execution_count": 36,
   "metadata": {},
   "outputs": [],
   "source": [
    "from typing import Tuple\n",
    "\n",
    "def insere_letras(fatias: List[Tuple[str, str]]) -> List:\n",
    "    novas_palavras = list()\n",
    "    letras = \"abcdefghijklmnopqrstuvwxyzáâàãéêèẽíîìĩóôòõúûùũç\"\n",
    "    for E, D in fatias:\n",
    "        for letra in letras:\n",
    "            novas_palavras.append(E + letra + D)\n",
    "    return novas_palavras"
   ]
  },
  {
   "cell_type": "code",
   "execution_count": 97,
   "metadata": {},
   "outputs": [],
   "source": [
    "def gerador_palavras(palavra: str) -> List[str]:\n",
    "    fatias = list()\n",
    "    for i in range(len(palavra) + 1):\n",
    "        fatias.append((palavra[:i], palavra[i:]))\n",
    "    palavras_geradas = insere_letras(fatias)\n",
    "    return palavras_geradas"
   ]
  },
  {
   "cell_type": "code",
   "execution_count": 38,
   "metadata": {},
   "outputs": [
    {
     "data": {
      "text/plain": [
       "['algica',\n",
       " 'blgica',\n",
       " 'clgica',\n",
       " 'dlgica',\n",
       " 'elgica',\n",
       " 'flgica',\n",
       " 'glgica',\n",
       " 'hlgica',\n",
       " 'ilgica',\n",
       " 'jlgica']"
      ]
     },
     "execution_count": 38,
     "metadata": {},
     "output_type": "execute_result"
    }
   ],
   "source": [
    "gerador_palavras(palavra_exemplo)[:10]"
   ]
  },
  {
   "cell_type": "markdown",
   "metadata": {},
   "source": [
    "### 06. Construindo a função corretor"
   ]
  },
  {
   "cell_type": "code",
   "execution_count": 98,
   "metadata": {},
   "outputs": [],
   "source": [
    "def corretor(palavra: str) -> str:\n",
    "    palavras_geradas = gerador_palavras(palavra)\n",
    "    palavra_correta = max(palavras_geradas, key=probabilidade)\n",
    "    return palavra_correta"
   ]
  },
  {
   "cell_type": "markdown",
   "metadata": {},
   "source": [
    "### 07. Probabilidade das palavras geradas"
   ]
  },
  {
   "cell_type": "code",
   "execution_count": 18,
   "metadata": {},
   "outputs": [],
   "source": [
    "frequencia = nltk.FreqDist(lista_normalizada)\n",
    "total_palavras = len(lista_normalizada)"
   ]
  },
  {
   "cell_type": "code",
   "execution_count": 92,
   "metadata": {},
   "outputs": [],
   "source": [
    "def probabilidade(palavra_gerada: str):\n",
    "    return frequencia[palavra_gerada]/total_palavras"
   ]
  },
  {
   "cell_type": "code",
   "execution_count": 96,
   "metadata": {},
   "outputs": [],
   "source": [
    "def corretor(palavra: str) -> str:\n",
    "    palavras_geradas = gerador_palavras(palavra)\n",
    "    palavra_correta = max(palavras_geradas, key=probabilidade)\n",
    "    return palavra_correta"
   ]
  },
  {
   "cell_type": "code",
   "execution_count": 93,
   "metadata": {},
   "outputs": [
    {
     "data": {
      "text/plain": [
       "'lógica'"
      ]
     },
     "execution_count": 93,
     "metadata": {},
     "output_type": "execute_result"
    }
   ],
   "source": [
    "corretor(palavra_exemplo)"
   ]
  },
  {
   "cell_type": "markdown",
   "metadata": {},
   "source": [
    "## 04. Avaliando a qualidade do corretor"
   ]
  },
  {
   "cell_type": "markdown",
   "metadata": {},
   "source": [
    "### 02. Preparando dados de teste"
   ]
  },
  {
   "cell_type": "code",
   "execution_count": 86,
   "metadata": {},
   "outputs": [],
   "source": [
    "def cria_dados_teste(nome_arquivo: str) -> List[str]:\n",
    "    lista_palavras_teste = list()\n",
    "    f = open(nome_arquivo, \"r\")\n",
    "    for linha in f:\n",
    "        correta, errada = linha.split(\" \")\n",
    "        lista_palavras_teste.append((correta, errada.replace(\"\\n\", \"\")))\n",
    "    f.close()\n",
    "    return lista_palavras_teste"
   ]
  },
  {
   "cell_type": "code",
   "execution_count": 87,
   "metadata": {},
   "outputs": [
    {
     "data": {
      "text/plain": [
       "[('podemos', 'pyodemos'),\n",
       " ('esse', 'esje'),\n",
       " ('já', 'jrá'),\n",
       " ('nosso', 'nossov'),\n",
       " ('são', 'sãêo'),\n",
       " ('dos', 'dosa'),\n",
       " ('muito', 'muifo'),\n",
       " ('imagem', 'iômagem'),\n",
       " ('sua', 'ósua'),\n",
       " ('também', 'tambéùm')]"
      ]
     },
     "execution_count": 87,
     "metadata": {},
     "output_type": "execute_result"
    }
   ],
   "source": [
    "lista_teste = cria_dados_teste(\"./dados/palavras.txt\")\n",
    "lista_teste[:10]"
   ]
  },
  {
   "cell_type": "markdown",
   "metadata": {},
   "source": [
    "### 03. Avaliando o corretor"
   ]
  },
  {
   "cell_type": "code",
   "execution_count": 75,
   "metadata": {},
   "outputs": [],
   "source": [
    "def avaliador(testes: List[str]) -> None:\n",
    "    numero_palavras = len(testes)\n",
    "    acertou = 0\n",
    "    for correta, errada in testes:\n",
    "        palavra_corrigida = corretor(errada)\n",
    "        # print('palavra corrigida:', palavra_corrigida)\n",
    "        if palavra_corrigida == correta:\n",
    "            acertou += 1\n",
    "    taxa_acerto = round(acertou*100/numero_palavras, 2)\n",
    "    print(f\"{taxa_acerto}% de {numero_palavras} palavras\")"
   ]
  },
  {
   "cell_type": "code",
   "execution_count": 99,
   "metadata": {},
   "outputs": [
    {
     "name": "stdout",
     "output_type": "stream",
     "text": [
      "1.08% de 186 palavras\n"
     ]
    }
   ],
   "source": [
    "avaliador(lista_teste)"
   ]
  },
  {
   "cell_type": "markdown",
   "metadata": {},
   "source": [
    "## 05. Incrementando o corretor"
   ]
  },
  {
   "cell_type": "markdown",
   "metadata": {},
   "source": [
    "### 03. Implementando o delete de caracteres"
   ]
  },
  {
   "cell_type": "code",
   "execution_count": 57,
   "metadata": {},
   "outputs": [],
   "source": [
    "def deletando_caracteres(fatias: List[Tuple[str, str]]) -> List[str]:\n",
    "    novas_palavras = list()\n",
    "    for E, D in fatias:\n",
    "        novas_palavras.append(E + D[1:])\n",
    "    return novas_palavras"
   ]
  },
  {
   "cell_type": "markdown",
   "metadata": {},
   "source": [
    "### 05. Avaliando o novo corretor"
   ]
  },
  {
   "cell_type": "code",
   "execution_count": 100,
   "metadata": {},
   "outputs": [],
   "source": [
    "def gerador_palavras(palavra: str) -> List[str]:\n",
    "    fatias = list()\n",
    "    for i in range(len(palavra) + 1):\n",
    "        fatias.append((palavra[:i], palavra[i:]))\n",
    "    palavras_geradas = insere_letras(fatias)\n",
    "    palavras_geradas += deletando_caracteres(fatias)\n",
    "    return palavras_geradas"
   ]
  },
  {
   "cell_type": "code",
   "execution_count": 82,
   "metadata": {},
   "outputs": [
    {
     "data": {
      "text/plain": [
       "['alóigica',\n",
       " 'blóigica',\n",
       " 'clóigica',\n",
       " 'dlóigica',\n",
       " 'elóigica',\n",
       " 'flóigica',\n",
       " 'glóigica',\n",
       " 'hlóigica',\n",
       " 'ilóigica',\n",
       " 'jlóigica',\n",
       " 'klóigica',\n",
       " 'llóigica',\n",
       " 'mlóigica',\n",
       " 'nlóigica',\n",
       " 'olóigica',\n",
       " 'plóigica',\n",
       " 'qlóigica',\n",
       " 'rlóigica',\n",
       " 'slóigica',\n",
       " 'tlóigica',\n",
       " 'ulóigica',\n",
       " 'vlóigica',\n",
       " 'wlóigica',\n",
       " 'xlóigica',\n",
       " 'ylóigica',\n",
       " 'zlóigica',\n",
       " 'álóigica',\n",
       " 'âlóigica',\n",
       " 'àlóigica',\n",
       " 'ãlóigica',\n",
       " 'élóigica',\n",
       " 'êlóigica',\n",
       " 'èlóigica',\n",
       " 'ẽlóigica',\n",
       " 'ílóigica',\n",
       " 'îlóigica',\n",
       " 'ìlóigica',\n",
       " 'ĩlóigica',\n",
       " 'ólóigica',\n",
       " 'ôlóigica',\n",
       " 'òlóigica',\n",
       " 'õlóigica',\n",
       " 'úlóigica',\n",
       " 'ûlóigica',\n",
       " 'ùlóigica',\n",
       " 'ũlóigica',\n",
       " 'çlóigica',\n",
       " 'laóigica',\n",
       " 'lbóigica',\n",
       " 'lcóigica',\n",
       " 'ldóigica',\n",
       " 'leóigica',\n",
       " 'lfóigica',\n",
       " 'lgóigica',\n",
       " 'lhóigica',\n",
       " 'lióigica',\n",
       " 'ljóigica',\n",
       " 'lkóigica',\n",
       " 'llóigica',\n",
       " 'lmóigica',\n",
       " 'lnóigica',\n",
       " 'loóigica',\n",
       " 'lpóigica',\n",
       " 'lqóigica',\n",
       " 'lróigica',\n",
       " 'lsóigica',\n",
       " 'ltóigica',\n",
       " 'luóigica',\n",
       " 'lvóigica',\n",
       " 'lwóigica',\n",
       " 'lxóigica',\n",
       " 'lyóigica',\n",
       " 'lzóigica',\n",
       " 'láóigica',\n",
       " 'lâóigica',\n",
       " 'làóigica',\n",
       " 'lãóigica',\n",
       " 'léóigica',\n",
       " 'lêóigica',\n",
       " 'lèóigica',\n",
       " 'lẽóigica',\n",
       " 'líóigica',\n",
       " 'lîóigica',\n",
       " 'lìóigica',\n",
       " 'lĩóigica',\n",
       " 'lóóigica',\n",
       " 'lôóigica',\n",
       " 'lòóigica',\n",
       " 'lõóigica',\n",
       " 'lúóigica',\n",
       " 'lûóigica',\n",
       " 'lùóigica',\n",
       " 'lũóigica',\n",
       " 'lçóigica',\n",
       " 'lóaigica',\n",
       " 'lóbigica',\n",
       " 'lócigica',\n",
       " 'lódigica',\n",
       " 'lóeigica',\n",
       " 'lófigica',\n",
       " 'lógigica',\n",
       " 'lóhigica',\n",
       " 'lóiigica',\n",
       " 'lójigica',\n",
       " 'lókigica',\n",
       " 'lóligica',\n",
       " 'lómigica',\n",
       " 'lónigica',\n",
       " 'lóoigica',\n",
       " 'lópigica',\n",
       " 'lóqigica',\n",
       " 'lórigica',\n",
       " 'lósigica',\n",
       " 'lótigica',\n",
       " 'lóuigica',\n",
       " 'lóvigica',\n",
       " 'lówigica',\n",
       " 'lóxigica',\n",
       " 'lóyigica',\n",
       " 'lózigica',\n",
       " 'lóáigica',\n",
       " 'lóâigica',\n",
       " 'lóàigica',\n",
       " 'lóãigica',\n",
       " 'lóéigica',\n",
       " 'lóêigica',\n",
       " 'lóèigica',\n",
       " 'lóẽigica',\n",
       " 'lóíigica',\n",
       " 'lóîigica',\n",
       " 'lóìigica',\n",
       " 'lóĩigica',\n",
       " 'lóóigica',\n",
       " 'lóôigica',\n",
       " 'lóòigica',\n",
       " 'lóõigica',\n",
       " 'lóúigica',\n",
       " 'lóûigica',\n",
       " 'lóùigica',\n",
       " 'lóũigica',\n",
       " 'lóçigica',\n",
       " 'lóiagica',\n",
       " 'lóibgica',\n",
       " 'lóicgica',\n",
       " 'lóidgica',\n",
       " 'lóiegica',\n",
       " 'lóifgica',\n",
       " 'lóiggica',\n",
       " 'lóihgica',\n",
       " 'lóiigica',\n",
       " 'lóijgica',\n",
       " 'lóikgica',\n",
       " 'lóilgica',\n",
       " 'lóimgica',\n",
       " 'lóingica',\n",
       " 'lóiogica',\n",
       " 'lóipgica',\n",
       " 'lóiqgica',\n",
       " 'lóirgica',\n",
       " 'lóisgica',\n",
       " 'lóitgica',\n",
       " 'lóiugica',\n",
       " 'lóivgica',\n",
       " 'lóiwgica',\n",
       " 'lóixgica',\n",
       " 'lóiygica',\n",
       " 'lóizgica',\n",
       " 'lóiágica',\n",
       " 'lóiâgica',\n",
       " 'lóiàgica',\n",
       " 'lóiãgica',\n",
       " 'lóiégica',\n",
       " 'lóiêgica',\n",
       " 'lóiègica',\n",
       " 'lóiẽgica',\n",
       " 'lóiígica',\n",
       " 'lóiîgica',\n",
       " 'lóiìgica',\n",
       " 'lóiĩgica',\n",
       " 'lóiógica',\n",
       " 'lóiôgica',\n",
       " 'lóiògica',\n",
       " 'lóiõgica',\n",
       " 'lóiúgica',\n",
       " 'lóiûgica',\n",
       " 'lóiùgica',\n",
       " 'lóiũgica',\n",
       " 'lóiçgica',\n",
       " 'lóigaica',\n",
       " 'lóigbica',\n",
       " 'lóigcica',\n",
       " 'lóigdica',\n",
       " 'lóigeica',\n",
       " 'lóigfica',\n",
       " 'lóiggica',\n",
       " 'lóighica',\n",
       " 'lóigiica',\n",
       " 'lóigjica',\n",
       " 'lóigkica',\n",
       " 'lóiglica',\n",
       " 'lóigmica',\n",
       " 'lóignica',\n",
       " 'lóigoica',\n",
       " 'lóigpica',\n",
       " 'lóigqica',\n",
       " 'lóigrica',\n",
       " 'lóigsica',\n",
       " 'lóigtica',\n",
       " 'lóiguica',\n",
       " 'lóigvica',\n",
       " 'lóigwica',\n",
       " 'lóigxica',\n",
       " 'lóigyica',\n",
       " 'lóigzica',\n",
       " 'lóigáica',\n",
       " 'lóigâica',\n",
       " 'lóigàica',\n",
       " 'lóigãica',\n",
       " 'lóigéica',\n",
       " 'lóigêica',\n",
       " 'lóigèica',\n",
       " 'lóigẽica',\n",
       " 'lóigíica',\n",
       " 'lóigîica',\n",
       " 'lóigìica',\n",
       " 'lóigĩica',\n",
       " 'lóigóica',\n",
       " 'lóigôica',\n",
       " 'lóigòica',\n",
       " 'lóigõica',\n",
       " 'lóigúica',\n",
       " 'lóigûica',\n",
       " 'lóigùica',\n",
       " 'lóigũica',\n",
       " 'lóigçica',\n",
       " 'lóigiaca',\n",
       " 'lóigibca',\n",
       " 'lóigicca',\n",
       " 'lóigidca',\n",
       " 'lóigieca',\n",
       " 'lóigifca',\n",
       " 'lóigigca',\n",
       " 'lóigihca',\n",
       " 'lóigiica',\n",
       " 'lóigijca',\n",
       " 'lóigikca',\n",
       " 'lóigilca',\n",
       " 'lóigimca',\n",
       " 'lóiginca',\n",
       " 'lóigioca',\n",
       " 'lóigipca',\n",
       " 'lóigiqca',\n",
       " 'lóigirca',\n",
       " 'lóigisca',\n",
       " 'lóigitca',\n",
       " 'lóigiuca',\n",
       " 'lóigivca',\n",
       " 'lóigiwca',\n",
       " 'lóigixca',\n",
       " 'lóigiyca',\n",
       " 'lóigizca',\n",
       " 'lóigiáca',\n",
       " 'lóigiâca',\n",
       " 'lóigiàca',\n",
       " 'lóigiãca',\n",
       " 'lóigiéca',\n",
       " 'lóigiêca',\n",
       " 'lóigièca',\n",
       " 'lóigiẽca',\n",
       " 'lóigiíca',\n",
       " 'lóigiîca',\n",
       " 'lóigiìca',\n",
       " 'lóigiĩca',\n",
       " 'lóigióca',\n",
       " 'lóigiôca',\n",
       " 'lóigiòca',\n",
       " 'lóigiõca',\n",
       " 'lóigiúca',\n",
       " 'lóigiûca',\n",
       " 'lóigiùca',\n",
       " 'lóigiũca',\n",
       " 'lóigiçca',\n",
       " 'lóigicaa',\n",
       " 'lóigicba',\n",
       " 'lóigicca',\n",
       " 'lóigicda',\n",
       " 'lóigicea',\n",
       " 'lóigicfa',\n",
       " 'lóigicga',\n",
       " 'lóigicha',\n",
       " 'lóigicia',\n",
       " 'lóigicja',\n",
       " 'lóigicka',\n",
       " 'lóigicla',\n",
       " 'lóigicma',\n",
       " 'lóigicna',\n",
       " 'lóigicoa',\n",
       " 'lóigicpa',\n",
       " 'lóigicqa',\n",
       " 'lóigicra',\n",
       " 'lóigicsa',\n",
       " 'lóigicta',\n",
       " 'lóigicua',\n",
       " 'lóigicva',\n",
       " 'lóigicwa',\n",
       " 'lóigicxa',\n",
       " 'lóigicya',\n",
       " 'lóigicza',\n",
       " 'lóigicáa',\n",
       " 'lóigicâa',\n",
       " 'lóigicàa',\n",
       " 'lóigicãa',\n",
       " 'lóigicéa',\n",
       " 'lóigicêa',\n",
       " 'lóigicèa',\n",
       " 'lóigicẽa',\n",
       " 'lóigicía',\n",
       " 'lóigicîa',\n",
       " 'lóigicìa',\n",
       " 'lóigicĩa',\n",
       " 'lóigicóa',\n",
       " 'lóigicôa',\n",
       " 'lóigicòa',\n",
       " 'lóigicõa',\n",
       " 'lóigicúa',\n",
       " 'lóigicûa',\n",
       " 'lóigicùa',\n",
       " 'lóigicũa',\n",
       " 'lóigicça',\n",
       " 'lóigicaa',\n",
       " 'lóigicab',\n",
       " 'lóigicac',\n",
       " 'lóigicad',\n",
       " 'lóigicae',\n",
       " 'lóigicaf',\n",
       " 'lóigicag',\n",
       " 'lóigicah',\n",
       " 'lóigicai',\n",
       " 'lóigicaj',\n",
       " 'lóigicak',\n",
       " 'lóigical',\n",
       " 'lóigicam',\n",
       " 'lóigican',\n",
       " 'lóigicao',\n",
       " 'lóigicap',\n",
       " 'lóigicaq',\n",
       " 'lóigicar',\n",
       " 'lóigicas',\n",
       " 'lóigicat',\n",
       " 'lóigicau',\n",
       " 'lóigicav',\n",
       " 'lóigicaw',\n",
       " 'lóigicax',\n",
       " 'lóigicay',\n",
       " 'lóigicaz',\n",
       " 'lóigicaá',\n",
       " 'lóigicaâ',\n",
       " 'lóigicaà',\n",
       " 'lóigicaã',\n",
       " 'lóigicaé',\n",
       " 'lóigicaê',\n",
       " 'lóigicaè',\n",
       " 'lóigicaẽ',\n",
       " 'lóigicaí',\n",
       " 'lóigicaî',\n",
       " 'lóigicaì',\n",
       " 'lóigicaĩ',\n",
       " 'lóigicaó',\n",
       " 'lóigicaô',\n",
       " 'lóigicaò',\n",
       " 'lóigicaõ',\n",
       " 'lóigicaú',\n",
       " 'lóigicaû',\n",
       " 'lóigicaù',\n",
       " 'lóigicaũ',\n",
       " 'lóigicaç',\n",
       " 'óigica',\n",
       " 'ligica',\n",
       " 'lógica',\n",
       " 'lóiica',\n",
       " 'lóigca',\n",
       " 'lóigia',\n",
       " 'lóigic',\n",
       " 'lóigica']"
      ]
     },
     "execution_count": 82,
     "metadata": {},
     "output_type": "execute_result"
    }
   ],
   "source": [
    "palavra_exemplo = \"lóigica\"\n",
    "gerador_palavras(palavra_exemplo)"
   ]
  },
  {
   "cell_type": "code",
   "execution_count": 101,
   "metadata": {},
   "outputs": [
    {
     "name": "stdout",
     "output_type": "stream",
     "text": [
      "41.4% de 186 palavras\n"
     ]
    }
   ],
   "source": [
    "avaliador(lista_teste)"
   ]
  }
 ],
 "metadata": {
  "kernelspec": {
   "display_name": ".venv",
   "language": "python",
   "name": "python3"
  },
  "language_info": {
   "codemirror_mode": {
    "name": "ipython",
    "version": 3
   },
   "file_extension": ".py",
   "mimetype": "text/x-python",
   "name": "python",
   "nbconvert_exporter": "python",
   "pygments_lexer": "ipython3",
   "version": "3.12.3"
  }
 },
 "nbformat": 4,
 "nbformat_minor": 2
}
