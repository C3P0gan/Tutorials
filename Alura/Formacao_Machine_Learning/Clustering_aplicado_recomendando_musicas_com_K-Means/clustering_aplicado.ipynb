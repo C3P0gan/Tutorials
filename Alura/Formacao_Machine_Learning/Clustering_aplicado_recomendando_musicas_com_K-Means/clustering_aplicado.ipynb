{
 "cells": [
  {
   "attachments": {},
   "cell_type": "markdown",
   "metadata": {},
   "source": [
    "# 01. Jornada Musical"
   ]
  },
  {
   "attachments": {},
   "cell_type": "markdown",
   "metadata": {},
   "source": [
    "## Aula 1.4 Análise dos dados"
   ]
  },
  {
   "cell_type": "code",
   "execution_count": 1,
   "metadata": {},
   "outputs": [],
   "source": [
    "import pandas as pd\n",
    "import numpy as np"
   ]
  },
  {
   "cell_type": "code",
   "execution_count": 2,
   "metadata": {},
   "outputs": [],
   "source": [
    "total_data = pd.read_csv(\"./Dados/Dados_totais.csv\")\n",
    "data_by_genre = pd.read_csv(\"./Dados/data_by_genres.csv\")\n",
    "data_by_year = pd.read_csv(\"./Dados/data_by_year.csv\")"
   ]
  },
  {
   "cell_type": "code",
   "execution_count": 3,
   "metadata": {},
   "outputs": [
    {
     "data": {
      "text/html": [
       "<div>\n",
       "<style scoped>\n",
       "    .dataframe tbody tr th:only-of-type {\n",
       "        vertical-align: middle;\n",
       "    }\n",
       "\n",
       "    .dataframe tbody tr th {\n",
       "        vertical-align: top;\n",
       "    }\n",
       "\n",
       "    .dataframe thead th {\n",
       "        text-align: right;\n",
       "    }\n",
       "</style>\n",
       "<table border=\"1\" class=\"dataframe\">\n",
       "  <thead>\n",
       "    <tr style=\"text-align: right;\">\n",
       "      <th></th>\n",
       "      <th>valence</th>\n",
       "      <th>year</th>\n",
       "      <th>acousticness</th>\n",
       "      <th>artists</th>\n",
       "      <th>danceability</th>\n",
       "      <th>duration_ms</th>\n",
       "      <th>energy</th>\n",
       "      <th>explicit</th>\n",
       "      <th>id</th>\n",
       "      <th>instrumentalness</th>\n",
       "      <th>key</th>\n",
       "      <th>liveness</th>\n",
       "      <th>loudness</th>\n",
       "      <th>mode</th>\n",
       "      <th>name</th>\n",
       "      <th>popularity</th>\n",
       "      <th>speechiness</th>\n",
       "      <th>tempo</th>\n",
       "      <th>artists_song</th>\n",
       "    </tr>\n",
       "  </thead>\n",
       "  <tbody>\n",
       "    <tr>\n",
       "      <th>0</th>\n",
       "      <td>0.285</td>\n",
       "      <td>2000</td>\n",
       "      <td>0.00239</td>\n",
       "      <td>Coldplay</td>\n",
       "      <td>0.429</td>\n",
       "      <td>266773</td>\n",
       "      <td>0.661</td>\n",
       "      <td>0</td>\n",
       "      <td>3AJwUDP919kvQ9QcozQPxg</td>\n",
       "      <td>0.000121</td>\n",
       "      <td>11</td>\n",
       "      <td>0.2340</td>\n",
       "      <td>-7.227</td>\n",
       "      <td>1</td>\n",
       "      <td>Yellow</td>\n",
       "      <td>84</td>\n",
       "      <td>0.0281</td>\n",
       "      <td>173.372</td>\n",
       "      <td>Coldplay - Yellow</td>\n",
       "    </tr>\n",
       "    <tr>\n",
       "      <th>1</th>\n",
       "      <td>0.613</td>\n",
       "      <td>2000</td>\n",
       "      <td>0.14300</td>\n",
       "      <td>OutKast</td>\n",
       "      <td>0.843</td>\n",
       "      <td>270507</td>\n",
       "      <td>0.806</td>\n",
       "      <td>1</td>\n",
       "      <td>0I3q5fE6wg7LIfHGngUTnV</td>\n",
       "      <td>0.000000</td>\n",
       "      <td>4</td>\n",
       "      <td>0.0771</td>\n",
       "      <td>-5.946</td>\n",
       "      <td>0</td>\n",
       "      <td>Ms. Jackson</td>\n",
       "      <td>80</td>\n",
       "      <td>0.2690</td>\n",
       "      <td>94.948</td>\n",
       "      <td>OutKast - Ms. Jackson</td>\n",
       "    </tr>\n",
       "    <tr>\n",
       "      <th>2</th>\n",
       "      <td>0.400</td>\n",
       "      <td>2000</td>\n",
       "      <td>0.00958</td>\n",
       "      <td>Linkin Park</td>\n",
       "      <td>0.556</td>\n",
       "      <td>216880</td>\n",
       "      <td>0.864</td>\n",
       "      <td>0</td>\n",
       "      <td>60a0Rd6pjrkxjPbaKzXjfq</td>\n",
       "      <td>0.000000</td>\n",
       "      <td>3</td>\n",
       "      <td>0.2090</td>\n",
       "      <td>-5.870</td>\n",
       "      <td>0</td>\n",
       "      <td>In the End</td>\n",
       "      <td>84</td>\n",
       "      <td>0.0584</td>\n",
       "      <td>105.143</td>\n",
       "      <td>Linkin Park - In the End</td>\n",
       "    </tr>\n",
       "    <tr>\n",
       "      <th>3</th>\n",
       "      <td>0.543</td>\n",
       "      <td>2000</td>\n",
       "      <td>0.00664</td>\n",
       "      <td>3 Doors Down</td>\n",
       "      <td>0.545</td>\n",
       "      <td>233933</td>\n",
       "      <td>0.865</td>\n",
       "      <td>0</td>\n",
       "      <td>6ZOBP3NvffbU4SZcrnt1k6</td>\n",
       "      <td>0.000011</td>\n",
       "      <td>11</td>\n",
       "      <td>0.1680</td>\n",
       "      <td>-5.708</td>\n",
       "      <td>0</td>\n",
       "      <td>Kryptonite</td>\n",
       "      <td>78</td>\n",
       "      <td>0.0286</td>\n",
       "      <td>99.009</td>\n",
       "      <td>3 Doors Down - Kryptonite</td>\n",
       "    </tr>\n",
       "    <tr>\n",
       "      <th>4</th>\n",
       "      <td>0.760</td>\n",
       "      <td>2000</td>\n",
       "      <td>0.03020</td>\n",
       "      <td>Eminem</td>\n",
       "      <td>0.949</td>\n",
       "      <td>284200</td>\n",
       "      <td>0.661</td>\n",
       "      <td>1</td>\n",
       "      <td>3yfqSUWxFvZELEM4PmlwIR</td>\n",
       "      <td>0.000000</td>\n",
       "      <td>5</td>\n",
       "      <td>0.0454</td>\n",
       "      <td>-4.244</td>\n",
       "      <td>0</td>\n",
       "      <td>The Real Slim Shady</td>\n",
       "      <td>80</td>\n",
       "      <td>0.0572</td>\n",
       "      <td>104.504</td>\n",
       "      <td>Eminem - The Real Slim Shady</td>\n",
       "    </tr>\n",
       "  </tbody>\n",
       "</table>\n",
       "</div>"
      ],
      "text/plain": [
       "   valence  year  acousticness       artists  danceability  duration_ms  \\\n",
       "0    0.285  2000       0.00239      Coldplay         0.429       266773   \n",
       "1    0.613  2000       0.14300       OutKast         0.843       270507   \n",
       "2    0.400  2000       0.00958   Linkin Park         0.556       216880   \n",
       "3    0.543  2000       0.00664  3 Doors Down         0.545       233933   \n",
       "4    0.760  2000       0.03020        Eminem         0.949       284200   \n",
       "\n",
       "   energy  explicit                      id  instrumentalness  key  liveness  \\\n",
       "0   0.661         0  3AJwUDP919kvQ9QcozQPxg          0.000121   11    0.2340   \n",
       "1   0.806         1  0I3q5fE6wg7LIfHGngUTnV          0.000000    4    0.0771   \n",
       "2   0.864         0  60a0Rd6pjrkxjPbaKzXjfq          0.000000    3    0.2090   \n",
       "3   0.865         0  6ZOBP3NvffbU4SZcrnt1k6          0.000011   11    0.1680   \n",
       "4   0.661         1  3yfqSUWxFvZELEM4PmlwIR          0.000000    5    0.0454   \n",
       "\n",
       "   loudness  mode                 name  popularity  speechiness    tempo  \\\n",
       "0    -7.227     1               Yellow          84       0.0281  173.372   \n",
       "1    -5.946     0          Ms. Jackson          80       0.2690   94.948   \n",
       "2    -5.870     0           In the End          84       0.0584  105.143   \n",
       "3    -5.708     0           Kryptonite          78       0.0286   99.009   \n",
       "4    -4.244     0  The Real Slim Shady          80       0.0572  104.504   \n",
       "\n",
       "                   artists_song  \n",
       "0             Coldplay - Yellow  \n",
       "1         OutKast - Ms. Jackson  \n",
       "2      Linkin Park - In the End  \n",
       "3     3 Doors Down - Kryptonite  \n",
       "4  Eminem - The Real Slim Shady  "
      ]
     },
     "execution_count": 3,
     "metadata": {},
     "output_type": "execute_result"
    }
   ],
   "source": [
    "total_data.head()"
   ]
  },
  {
   "cell_type": "code",
   "execution_count": 4,
   "metadata": {},
   "outputs": [
    {
     "data": {
      "text/plain": [
       "array([2000, 2001, 2002, 2003, 2004, 2005, 2006, 2007, 2008, 2009, 2010,\n",
       "       2011, 2012, 2013, 2014, 2015, 2016, 2017, 2018, 2019, 2020])"
      ]
     },
     "execution_count": 4,
     "metadata": {},
     "output_type": "execute_result"
    }
   ],
   "source": [
    "total_data[\"year\"].unique()"
   ]
  },
  {
   "cell_type": "code",
   "execution_count": 5,
   "metadata": {},
   "outputs": [
    {
     "data": {
      "text/plain": [
       "(20311, 19)"
      ]
     },
     "execution_count": 5,
     "metadata": {},
     "output_type": "execute_result"
    }
   ],
   "source": [
    "total_data.shape"
   ]
  },
  {
   "cell_type": "code",
   "execution_count": 6,
   "metadata": {},
   "outputs": [
    {
     "data": {
      "text/html": [
       "<div>\n",
       "<style scoped>\n",
       "    .dataframe tbody tr th:only-of-type {\n",
       "        vertical-align: middle;\n",
       "    }\n",
       "\n",
       "    .dataframe tbody tr th {\n",
       "        vertical-align: top;\n",
       "    }\n",
       "\n",
       "    .dataframe thead th {\n",
       "        text-align: right;\n",
       "    }\n",
       "</style>\n",
       "<table border=\"1\" class=\"dataframe\">\n",
       "  <thead>\n",
       "    <tr style=\"text-align: right;\">\n",
       "      <th></th>\n",
       "      <th>valence</th>\n",
       "      <th>year</th>\n",
       "      <th>acousticness</th>\n",
       "      <th>artists</th>\n",
       "      <th>danceability</th>\n",
       "      <th>duration_ms</th>\n",
       "      <th>energy</th>\n",
       "      <th>id</th>\n",
       "      <th>instrumentalness</th>\n",
       "      <th>liveness</th>\n",
       "      <th>loudness</th>\n",
       "      <th>name</th>\n",
       "      <th>popularity</th>\n",
       "      <th>speechiness</th>\n",
       "      <th>tempo</th>\n",
       "      <th>artists_song</th>\n",
       "    </tr>\n",
       "  </thead>\n",
       "  <tbody>\n",
       "    <tr>\n",
       "      <th>0</th>\n",
       "      <td>0.285</td>\n",
       "      <td>2000</td>\n",
       "      <td>0.00239</td>\n",
       "      <td>Coldplay</td>\n",
       "      <td>0.429</td>\n",
       "      <td>266773</td>\n",
       "      <td>0.661</td>\n",
       "      <td>3AJwUDP919kvQ9QcozQPxg</td>\n",
       "      <td>0.000121</td>\n",
       "      <td>0.2340</td>\n",
       "      <td>-7.227</td>\n",
       "      <td>Yellow</td>\n",
       "      <td>84</td>\n",
       "      <td>0.0281</td>\n",
       "      <td>173.372</td>\n",
       "      <td>Coldplay - Yellow</td>\n",
       "    </tr>\n",
       "    <tr>\n",
       "      <th>1</th>\n",
       "      <td>0.613</td>\n",
       "      <td>2000</td>\n",
       "      <td>0.14300</td>\n",
       "      <td>OutKast</td>\n",
       "      <td>0.843</td>\n",
       "      <td>270507</td>\n",
       "      <td>0.806</td>\n",
       "      <td>0I3q5fE6wg7LIfHGngUTnV</td>\n",
       "      <td>0.000000</td>\n",
       "      <td>0.0771</td>\n",
       "      <td>-5.946</td>\n",
       "      <td>Ms. Jackson</td>\n",
       "      <td>80</td>\n",
       "      <td>0.2690</td>\n",
       "      <td>94.948</td>\n",
       "      <td>OutKast - Ms. Jackson</td>\n",
       "    </tr>\n",
       "    <tr>\n",
       "      <th>2</th>\n",
       "      <td>0.400</td>\n",
       "      <td>2000</td>\n",
       "      <td>0.00958</td>\n",
       "      <td>Linkin Park</td>\n",
       "      <td>0.556</td>\n",
       "      <td>216880</td>\n",
       "      <td>0.864</td>\n",
       "      <td>60a0Rd6pjrkxjPbaKzXjfq</td>\n",
       "      <td>0.000000</td>\n",
       "      <td>0.2090</td>\n",
       "      <td>-5.870</td>\n",
       "      <td>In the End</td>\n",
       "      <td>84</td>\n",
       "      <td>0.0584</td>\n",
       "      <td>105.143</td>\n",
       "      <td>Linkin Park - In the End</td>\n",
       "    </tr>\n",
       "    <tr>\n",
       "      <th>3</th>\n",
       "      <td>0.543</td>\n",
       "      <td>2000</td>\n",
       "      <td>0.00664</td>\n",
       "      <td>3 Doors Down</td>\n",
       "      <td>0.545</td>\n",
       "      <td>233933</td>\n",
       "      <td>0.865</td>\n",
       "      <td>6ZOBP3NvffbU4SZcrnt1k6</td>\n",
       "      <td>0.000011</td>\n",
       "      <td>0.1680</td>\n",
       "      <td>-5.708</td>\n",
       "      <td>Kryptonite</td>\n",
       "      <td>78</td>\n",
       "      <td>0.0286</td>\n",
       "      <td>99.009</td>\n",
       "      <td>3 Doors Down - Kryptonite</td>\n",
       "    </tr>\n",
       "    <tr>\n",
       "      <th>4</th>\n",
       "      <td>0.760</td>\n",
       "      <td>2000</td>\n",
       "      <td>0.03020</td>\n",
       "      <td>Eminem</td>\n",
       "      <td>0.949</td>\n",
       "      <td>284200</td>\n",
       "      <td>0.661</td>\n",
       "      <td>3yfqSUWxFvZELEM4PmlwIR</td>\n",
       "      <td>0.000000</td>\n",
       "      <td>0.0454</td>\n",
       "      <td>-4.244</td>\n",
       "      <td>The Real Slim Shady</td>\n",
       "      <td>80</td>\n",
       "      <td>0.0572</td>\n",
       "      <td>104.504</td>\n",
       "      <td>Eminem - The Real Slim Shady</td>\n",
       "    </tr>\n",
       "  </tbody>\n",
       "</table>\n",
       "</div>"
      ],
      "text/plain": [
       "   valence  year  acousticness       artists  danceability  duration_ms  \\\n",
       "0    0.285  2000       0.00239      Coldplay         0.429       266773   \n",
       "1    0.613  2000       0.14300       OutKast         0.843       270507   \n",
       "2    0.400  2000       0.00958   Linkin Park         0.556       216880   \n",
       "3    0.543  2000       0.00664  3 Doors Down         0.545       233933   \n",
       "4    0.760  2000       0.03020        Eminem         0.949       284200   \n",
       "\n",
       "   energy                      id  instrumentalness  liveness  loudness  \\\n",
       "0   0.661  3AJwUDP919kvQ9QcozQPxg          0.000121    0.2340    -7.227   \n",
       "1   0.806  0I3q5fE6wg7LIfHGngUTnV          0.000000    0.0771    -5.946   \n",
       "2   0.864  60a0Rd6pjrkxjPbaKzXjfq          0.000000    0.2090    -5.870   \n",
       "3   0.865  6ZOBP3NvffbU4SZcrnt1k6          0.000011    0.1680    -5.708   \n",
       "4   0.661  3yfqSUWxFvZELEM4PmlwIR          0.000000    0.0454    -4.244   \n",
       "\n",
       "                  name  popularity  speechiness    tempo  \\\n",
       "0               Yellow          84       0.0281  173.372   \n",
       "1          Ms. Jackson          80       0.2690   94.948   \n",
       "2           In the End          84       0.0584  105.143   \n",
       "3           Kryptonite          78       0.0286   99.009   \n",
       "4  The Real Slim Shady          80       0.0572  104.504   \n",
       "\n",
       "                   artists_song  \n",
       "0             Coldplay - Yellow  \n",
       "1         OutKast - Ms. Jackson  \n",
       "2      Linkin Park - In the End  \n",
       "3     3 Doors Down - Kryptonite  \n",
       "4  Eminem - The Real Slim Shady  "
      ]
     },
     "execution_count": 6,
     "metadata": {},
     "output_type": "execute_result"
    }
   ],
   "source": [
    "total_data.drop(columns=[\"explicit\", \"key\", \"mode\"], axis=1, inplace=True)\n",
    "total_data.head()"
   ]
  },
  {
   "cell_type": "code",
   "execution_count": 7,
   "metadata": {},
   "outputs": [
    {
     "data": {
      "text/plain": [
       "(20311, 16)"
      ]
     },
     "execution_count": 7,
     "metadata": {},
     "output_type": "execute_result"
    }
   ],
   "source": [
    "total_data.shape"
   ]
  },
  {
   "cell_type": "code",
   "execution_count": 8,
   "metadata": {},
   "outputs": [
    {
     "data": {
      "text/plain": [
       "valence             0\n",
       "year                0\n",
       "acousticness        0\n",
       "artists             0\n",
       "danceability        0\n",
       "duration_ms         0\n",
       "energy              0\n",
       "id                  0\n",
       "instrumentalness    0\n",
       "liveness            0\n",
       "loudness            0\n",
       "name                0\n",
       "popularity          0\n",
       "speechiness         0\n",
       "tempo               0\n",
       "artists_song        0\n",
       "dtype: int64"
      ]
     },
     "execution_count": 8,
     "metadata": {},
     "output_type": "execute_result"
    }
   ],
   "source": [
    "total_data.isnull().sum()"
   ]
  },
  {
   "cell_type": "code",
   "execution_count": 9,
   "metadata": {},
   "outputs": [
    {
     "data": {
      "text/plain": [
       "valence             0\n",
       "year                0\n",
       "acousticness        0\n",
       "artists             0\n",
       "danceability        0\n",
       "duration_ms         0\n",
       "energy              0\n",
       "id                  0\n",
       "instrumentalness    0\n",
       "liveness            0\n",
       "loudness            0\n",
       "name                0\n",
       "popularity          0\n",
       "speechiness         0\n",
       "tempo               0\n",
       "artists_song        0\n",
       "dtype: int64"
      ]
     },
     "execution_count": 9,
     "metadata": {},
     "output_type": "execute_result"
    }
   ],
   "source": [
    "total_data.isna().sum()"
   ]
  },
  {
   "cell_type": "code",
   "execution_count": 10,
   "metadata": {},
   "outputs": [
    {
     "data": {
      "text/html": [
       "<div>\n",
       "<style scoped>\n",
       "    .dataframe tbody tr th:only-of-type {\n",
       "        vertical-align: middle;\n",
       "    }\n",
       "\n",
       "    .dataframe tbody tr th {\n",
       "        vertical-align: top;\n",
       "    }\n",
       "\n",
       "    .dataframe thead th {\n",
       "        text-align: right;\n",
       "    }\n",
       "</style>\n",
       "<table border=\"1\" class=\"dataframe\">\n",
       "  <thead>\n",
       "    <tr style=\"text-align: right;\">\n",
       "      <th></th>\n",
       "      <th>mode</th>\n",
       "      <th>genres</th>\n",
       "      <th>acousticness</th>\n",
       "      <th>danceability</th>\n",
       "      <th>duration_ms</th>\n",
       "      <th>energy</th>\n",
       "      <th>instrumentalness</th>\n",
       "      <th>liveness</th>\n",
       "      <th>loudness</th>\n",
       "      <th>speechiness</th>\n",
       "      <th>tempo</th>\n",
       "      <th>valence</th>\n",
       "      <th>popularity</th>\n",
       "      <th>key</th>\n",
       "    </tr>\n",
       "  </thead>\n",
       "  <tbody>\n",
       "    <tr>\n",
       "      <th>0</th>\n",
       "      <td>1</td>\n",
       "      <td>21st century classical</td>\n",
       "      <td>0.979333</td>\n",
       "      <td>0.162883</td>\n",
       "      <td>1.602977e+05</td>\n",
       "      <td>0.071317</td>\n",
       "      <td>0.606834</td>\n",
       "      <td>0.361600</td>\n",
       "      <td>-31.514333</td>\n",
       "      <td>0.040567</td>\n",
       "      <td>75.336500</td>\n",
       "      <td>0.103783</td>\n",
       "      <td>27.833333</td>\n",
       "      <td>6</td>\n",
       "    </tr>\n",
       "    <tr>\n",
       "      <th>1</th>\n",
       "      <td>1</td>\n",
       "      <td>432hz</td>\n",
       "      <td>0.494780</td>\n",
       "      <td>0.299333</td>\n",
       "      <td>1.048887e+06</td>\n",
       "      <td>0.450678</td>\n",
       "      <td>0.477762</td>\n",
       "      <td>0.131000</td>\n",
       "      <td>-16.854000</td>\n",
       "      <td>0.076817</td>\n",
       "      <td>120.285667</td>\n",
       "      <td>0.221750</td>\n",
       "      <td>52.500000</td>\n",
       "      <td>5</td>\n",
       "    </tr>\n",
       "    <tr>\n",
       "      <th>2</th>\n",
       "      <td>1</td>\n",
       "      <td>8-bit</td>\n",
       "      <td>0.762000</td>\n",
       "      <td>0.712000</td>\n",
       "      <td>1.151770e+05</td>\n",
       "      <td>0.818000</td>\n",
       "      <td>0.876000</td>\n",
       "      <td>0.126000</td>\n",
       "      <td>-9.180000</td>\n",
       "      <td>0.047000</td>\n",
       "      <td>133.444000</td>\n",
       "      <td>0.975000</td>\n",
       "      <td>48.000000</td>\n",
       "      <td>7</td>\n",
       "    </tr>\n",
       "    <tr>\n",
       "      <th>3</th>\n",
       "      <td>1</td>\n",
       "      <td>[]</td>\n",
       "      <td>0.651417</td>\n",
       "      <td>0.529093</td>\n",
       "      <td>2.328809e+05</td>\n",
       "      <td>0.419146</td>\n",
       "      <td>0.205309</td>\n",
       "      <td>0.218696</td>\n",
       "      <td>-12.288965</td>\n",
       "      <td>0.107872</td>\n",
       "      <td>112.857352</td>\n",
       "      <td>0.513604</td>\n",
       "      <td>20.859882</td>\n",
       "      <td>7</td>\n",
       "    </tr>\n",
       "    <tr>\n",
       "      <th>4</th>\n",
       "      <td>1</td>\n",
       "      <td>a cappella</td>\n",
       "      <td>0.676557</td>\n",
       "      <td>0.538961</td>\n",
       "      <td>1.906285e+05</td>\n",
       "      <td>0.316434</td>\n",
       "      <td>0.003003</td>\n",
       "      <td>0.172254</td>\n",
       "      <td>-12.479387</td>\n",
       "      <td>0.082851</td>\n",
       "      <td>112.110362</td>\n",
       "      <td>0.448249</td>\n",
       "      <td>45.820071</td>\n",
       "      <td>7</td>\n",
       "    </tr>\n",
       "  </tbody>\n",
       "</table>\n",
       "</div>"
      ],
      "text/plain": [
       "   mode                  genres  acousticness  danceability   duration_ms  \\\n",
       "0     1  21st century classical      0.979333      0.162883  1.602977e+05   \n",
       "1     1                   432hz      0.494780      0.299333  1.048887e+06   \n",
       "2     1                   8-bit      0.762000      0.712000  1.151770e+05   \n",
       "3     1                      []      0.651417      0.529093  2.328809e+05   \n",
       "4     1              a cappella      0.676557      0.538961  1.906285e+05   \n",
       "\n",
       "     energy  instrumentalness  liveness   loudness  speechiness       tempo  \\\n",
       "0  0.071317          0.606834  0.361600 -31.514333     0.040567   75.336500   \n",
       "1  0.450678          0.477762  0.131000 -16.854000     0.076817  120.285667   \n",
       "2  0.818000          0.876000  0.126000  -9.180000     0.047000  133.444000   \n",
       "3  0.419146          0.205309  0.218696 -12.288965     0.107872  112.857352   \n",
       "4  0.316434          0.003003  0.172254 -12.479387     0.082851  112.110362   \n",
       "\n",
       "    valence  popularity  key  \n",
       "0  0.103783   27.833333    6  \n",
       "1  0.221750   52.500000    5  \n",
       "2  0.975000   48.000000    7  \n",
       "3  0.513604   20.859882    7  \n",
       "4  0.448249   45.820071    7  "
      ]
     },
     "execution_count": 10,
     "metadata": {},
     "output_type": "execute_result"
    }
   ],
   "source": [
    "data_by_genre.head()"
   ]
  },
  {
   "cell_type": "code",
   "execution_count": 11,
   "metadata": {},
   "outputs": [
    {
     "data": {
      "text/html": [
       "<div>\n",
       "<style scoped>\n",
       "    .dataframe tbody tr th:only-of-type {\n",
       "        vertical-align: middle;\n",
       "    }\n",
       "\n",
       "    .dataframe tbody tr th {\n",
       "        vertical-align: top;\n",
       "    }\n",
       "\n",
       "    .dataframe thead th {\n",
       "        text-align: right;\n",
       "    }\n",
       "</style>\n",
       "<table border=\"1\" class=\"dataframe\">\n",
       "  <thead>\n",
       "    <tr style=\"text-align: right;\">\n",
       "      <th></th>\n",
       "      <th>genres</th>\n",
       "      <th>acousticness</th>\n",
       "      <th>danceability</th>\n",
       "      <th>duration_ms</th>\n",
       "      <th>energy</th>\n",
       "      <th>instrumentalness</th>\n",
       "      <th>liveness</th>\n",
       "      <th>loudness</th>\n",
       "      <th>speechiness</th>\n",
       "      <th>tempo</th>\n",
       "      <th>valence</th>\n",
       "      <th>popularity</th>\n",
       "    </tr>\n",
       "  </thead>\n",
       "  <tbody>\n",
       "    <tr>\n",
       "      <th>0</th>\n",
       "      <td>21st century classical</td>\n",
       "      <td>0.979333</td>\n",
       "      <td>0.162883</td>\n",
       "      <td>1.602977e+05</td>\n",
       "      <td>0.071317</td>\n",
       "      <td>0.606834</td>\n",
       "      <td>0.361600</td>\n",
       "      <td>-31.514333</td>\n",
       "      <td>0.040567</td>\n",
       "      <td>75.336500</td>\n",
       "      <td>0.103783</td>\n",
       "      <td>27.833333</td>\n",
       "    </tr>\n",
       "    <tr>\n",
       "      <th>1</th>\n",
       "      <td>432hz</td>\n",
       "      <td>0.494780</td>\n",
       "      <td>0.299333</td>\n",
       "      <td>1.048887e+06</td>\n",
       "      <td>0.450678</td>\n",
       "      <td>0.477762</td>\n",
       "      <td>0.131000</td>\n",
       "      <td>-16.854000</td>\n",
       "      <td>0.076817</td>\n",
       "      <td>120.285667</td>\n",
       "      <td>0.221750</td>\n",
       "      <td>52.500000</td>\n",
       "    </tr>\n",
       "    <tr>\n",
       "      <th>2</th>\n",
       "      <td>8-bit</td>\n",
       "      <td>0.762000</td>\n",
       "      <td>0.712000</td>\n",
       "      <td>1.151770e+05</td>\n",
       "      <td>0.818000</td>\n",
       "      <td>0.876000</td>\n",
       "      <td>0.126000</td>\n",
       "      <td>-9.180000</td>\n",
       "      <td>0.047000</td>\n",
       "      <td>133.444000</td>\n",
       "      <td>0.975000</td>\n",
       "      <td>48.000000</td>\n",
       "    </tr>\n",
       "    <tr>\n",
       "      <th>3</th>\n",
       "      <td>[]</td>\n",
       "      <td>0.651417</td>\n",
       "      <td>0.529093</td>\n",
       "      <td>2.328809e+05</td>\n",
       "      <td>0.419146</td>\n",
       "      <td>0.205309</td>\n",
       "      <td>0.218696</td>\n",
       "      <td>-12.288965</td>\n",
       "      <td>0.107872</td>\n",
       "      <td>112.857352</td>\n",
       "      <td>0.513604</td>\n",
       "      <td>20.859882</td>\n",
       "    </tr>\n",
       "    <tr>\n",
       "      <th>4</th>\n",
       "      <td>a cappella</td>\n",
       "      <td>0.676557</td>\n",
       "      <td>0.538961</td>\n",
       "      <td>1.906285e+05</td>\n",
       "      <td>0.316434</td>\n",
       "      <td>0.003003</td>\n",
       "      <td>0.172254</td>\n",
       "      <td>-12.479387</td>\n",
       "      <td>0.082851</td>\n",
       "      <td>112.110362</td>\n",
       "      <td>0.448249</td>\n",
       "      <td>45.820071</td>\n",
       "    </tr>\n",
       "  </tbody>\n",
       "</table>\n",
       "</div>"
      ],
      "text/plain": [
       "                   genres  acousticness  danceability   duration_ms    energy  \\\n",
       "0  21st century classical      0.979333      0.162883  1.602977e+05  0.071317   \n",
       "1                   432hz      0.494780      0.299333  1.048887e+06  0.450678   \n",
       "2                   8-bit      0.762000      0.712000  1.151770e+05  0.818000   \n",
       "3                      []      0.651417      0.529093  2.328809e+05  0.419146   \n",
       "4              a cappella      0.676557      0.538961  1.906285e+05  0.316434   \n",
       "\n",
       "   instrumentalness  liveness   loudness  speechiness       tempo   valence  \\\n",
       "0          0.606834  0.361600 -31.514333     0.040567   75.336500  0.103783   \n",
       "1          0.477762  0.131000 -16.854000     0.076817  120.285667  0.221750   \n",
       "2          0.876000  0.126000  -9.180000     0.047000  133.444000  0.975000   \n",
       "3          0.205309  0.218696 -12.288965     0.107872  112.857352  0.513604   \n",
       "4          0.003003  0.172254 -12.479387     0.082851  112.110362  0.448249   \n",
       "\n",
       "   popularity  \n",
       "0   27.833333  \n",
       "1   52.500000  \n",
       "2   48.000000  \n",
       "3   20.859882  \n",
       "4   45.820071  "
      ]
     },
     "execution_count": 11,
     "metadata": {},
     "output_type": "execute_result"
    }
   ],
   "source": [
    "data_by_genre.drop(columns=[\"key\", \"mode\"], axis=1, inplace=True)\n",
    "data_by_genre.head()"
   ]
  },
  {
   "cell_type": "code",
   "execution_count": 12,
   "metadata": {},
   "outputs": [
    {
     "data": {
      "text/plain": [
       "genres              0\n",
       "acousticness        0\n",
       "danceability        0\n",
       "duration_ms         0\n",
       "energy              0\n",
       "instrumentalness    0\n",
       "liveness            0\n",
       "loudness            0\n",
       "speechiness         0\n",
       "tempo               0\n",
       "valence             0\n",
       "popularity          0\n",
       "dtype: int64"
      ]
     },
     "execution_count": 12,
     "metadata": {},
     "output_type": "execute_result"
    }
   ],
   "source": [
    "data_by_genre.isnull().sum()"
   ]
  },
  {
   "cell_type": "code",
   "execution_count": 13,
   "metadata": {},
   "outputs": [
    {
     "data": {
      "text/plain": [
       "genres              0\n",
       "acousticness        0\n",
       "danceability        0\n",
       "duration_ms         0\n",
       "energy              0\n",
       "instrumentalness    0\n",
       "liveness            0\n",
       "loudness            0\n",
       "speechiness         0\n",
       "tempo               0\n",
       "valence             0\n",
       "popularity          0\n",
       "dtype: int64"
      ]
     },
     "execution_count": 13,
     "metadata": {},
     "output_type": "execute_result"
    }
   ],
   "source": [
    "data_by_genre.isna().sum()"
   ]
  },
  {
   "cell_type": "code",
   "execution_count": 14,
   "metadata": {},
   "outputs": [
    {
     "data": {
      "text/html": [
       "<div>\n",
       "<style scoped>\n",
       "    .dataframe tbody tr th:only-of-type {\n",
       "        vertical-align: middle;\n",
       "    }\n",
       "\n",
       "    .dataframe tbody tr th {\n",
       "        vertical-align: top;\n",
       "    }\n",
       "\n",
       "    .dataframe thead th {\n",
       "        text-align: right;\n",
       "    }\n",
       "</style>\n",
       "<table border=\"1\" class=\"dataframe\">\n",
       "  <thead>\n",
       "    <tr style=\"text-align: right;\">\n",
       "      <th></th>\n",
       "      <th>mode</th>\n",
       "      <th>year</th>\n",
       "      <th>acousticness</th>\n",
       "      <th>danceability</th>\n",
       "      <th>duration_ms</th>\n",
       "      <th>energy</th>\n",
       "      <th>instrumentalness</th>\n",
       "      <th>liveness</th>\n",
       "      <th>loudness</th>\n",
       "      <th>speechiness</th>\n",
       "      <th>tempo</th>\n",
       "      <th>valence</th>\n",
       "      <th>popularity</th>\n",
       "      <th>key</th>\n",
       "    </tr>\n",
       "  </thead>\n",
       "  <tbody>\n",
       "    <tr>\n",
       "      <th>0</th>\n",
       "      <td>1</td>\n",
       "      <td>1921</td>\n",
       "      <td>0.886896</td>\n",
       "      <td>0.418597</td>\n",
       "      <td>260537.166667</td>\n",
       "      <td>0.231815</td>\n",
       "      <td>0.344878</td>\n",
       "      <td>0.205710</td>\n",
       "      <td>-17.048667</td>\n",
       "      <td>0.073662</td>\n",
       "      <td>101.531493</td>\n",
       "      <td>0.379327</td>\n",
       "      <td>0.653333</td>\n",
       "      <td>2</td>\n",
       "    </tr>\n",
       "    <tr>\n",
       "      <th>1</th>\n",
       "      <td>1</td>\n",
       "      <td>1922</td>\n",
       "      <td>0.938592</td>\n",
       "      <td>0.482042</td>\n",
       "      <td>165469.746479</td>\n",
       "      <td>0.237815</td>\n",
       "      <td>0.434195</td>\n",
       "      <td>0.240720</td>\n",
       "      <td>-19.275282</td>\n",
       "      <td>0.116655</td>\n",
       "      <td>100.884521</td>\n",
       "      <td>0.535549</td>\n",
       "      <td>0.140845</td>\n",
       "      <td>10</td>\n",
       "    </tr>\n",
       "    <tr>\n",
       "      <th>2</th>\n",
       "      <td>1</td>\n",
       "      <td>1923</td>\n",
       "      <td>0.957247</td>\n",
       "      <td>0.577341</td>\n",
       "      <td>177942.362162</td>\n",
       "      <td>0.262406</td>\n",
       "      <td>0.371733</td>\n",
       "      <td>0.227462</td>\n",
       "      <td>-14.129211</td>\n",
       "      <td>0.093949</td>\n",
       "      <td>114.010730</td>\n",
       "      <td>0.625492</td>\n",
       "      <td>5.389189</td>\n",
       "      <td>0</td>\n",
       "    </tr>\n",
       "    <tr>\n",
       "      <th>3</th>\n",
       "      <td>1</td>\n",
       "      <td>1924</td>\n",
       "      <td>0.940200</td>\n",
       "      <td>0.549894</td>\n",
       "      <td>191046.707627</td>\n",
       "      <td>0.344347</td>\n",
       "      <td>0.581701</td>\n",
       "      <td>0.235219</td>\n",
       "      <td>-14.231343</td>\n",
       "      <td>0.092089</td>\n",
       "      <td>120.689572</td>\n",
       "      <td>0.663725</td>\n",
       "      <td>0.661017</td>\n",
       "      <td>10</td>\n",
       "    </tr>\n",
       "    <tr>\n",
       "      <th>4</th>\n",
       "      <td>1</td>\n",
       "      <td>1925</td>\n",
       "      <td>0.962607</td>\n",
       "      <td>0.573863</td>\n",
       "      <td>184986.924460</td>\n",
       "      <td>0.278594</td>\n",
       "      <td>0.418297</td>\n",
       "      <td>0.237668</td>\n",
       "      <td>-14.146414</td>\n",
       "      <td>0.111918</td>\n",
       "      <td>115.521921</td>\n",
       "      <td>0.621929</td>\n",
       "      <td>2.604317</td>\n",
       "      <td>5</td>\n",
       "    </tr>\n",
       "  </tbody>\n",
       "</table>\n",
       "</div>"
      ],
      "text/plain": [
       "   mode  year  acousticness  danceability    duration_ms    energy  \\\n",
       "0     1  1921      0.886896      0.418597  260537.166667  0.231815   \n",
       "1     1  1922      0.938592      0.482042  165469.746479  0.237815   \n",
       "2     1  1923      0.957247      0.577341  177942.362162  0.262406   \n",
       "3     1  1924      0.940200      0.549894  191046.707627  0.344347   \n",
       "4     1  1925      0.962607      0.573863  184986.924460  0.278594   \n",
       "\n",
       "   instrumentalness  liveness   loudness  speechiness       tempo   valence  \\\n",
       "0          0.344878  0.205710 -17.048667     0.073662  101.531493  0.379327   \n",
       "1          0.434195  0.240720 -19.275282     0.116655  100.884521  0.535549   \n",
       "2          0.371733  0.227462 -14.129211     0.093949  114.010730  0.625492   \n",
       "3          0.581701  0.235219 -14.231343     0.092089  120.689572  0.663725   \n",
       "4          0.418297  0.237668 -14.146414     0.111918  115.521921  0.621929   \n",
       "\n",
       "   popularity  key  \n",
       "0    0.653333    2  \n",
       "1    0.140845   10  \n",
       "2    5.389189    0  \n",
       "3    0.661017   10  \n",
       "4    2.604317    5  "
      ]
     },
     "execution_count": 14,
     "metadata": {},
     "output_type": "execute_result"
    }
   ],
   "source": [
    "data_by_year.head()"
   ]
  },
  {
   "cell_type": "code",
   "execution_count": 15,
   "metadata": {},
   "outputs": [
    {
     "data": {
      "text/html": [
       "<div>\n",
       "<style scoped>\n",
       "    .dataframe tbody tr th:only-of-type {\n",
       "        vertical-align: middle;\n",
       "    }\n",
       "\n",
       "    .dataframe tbody tr th {\n",
       "        vertical-align: top;\n",
       "    }\n",
       "\n",
       "    .dataframe thead th {\n",
       "        text-align: right;\n",
       "    }\n",
       "</style>\n",
       "<table border=\"1\" class=\"dataframe\">\n",
       "  <thead>\n",
       "    <tr style=\"text-align: right;\">\n",
       "      <th></th>\n",
       "      <th>year</th>\n",
       "      <th>acousticness</th>\n",
       "      <th>danceability</th>\n",
       "      <th>duration_ms</th>\n",
       "      <th>energy</th>\n",
       "      <th>instrumentalness</th>\n",
       "      <th>liveness</th>\n",
       "      <th>loudness</th>\n",
       "      <th>speechiness</th>\n",
       "      <th>tempo</th>\n",
       "      <th>valence</th>\n",
       "      <th>popularity</th>\n",
       "    </tr>\n",
       "  </thead>\n",
       "  <tbody>\n",
       "    <tr>\n",
       "      <th>0</th>\n",
       "      <td>1921</td>\n",
       "      <td>0.886896</td>\n",
       "      <td>0.418597</td>\n",
       "      <td>260537.166667</td>\n",
       "      <td>0.231815</td>\n",
       "      <td>0.344878</td>\n",
       "      <td>0.205710</td>\n",
       "      <td>-17.048667</td>\n",
       "      <td>0.073662</td>\n",
       "      <td>101.531493</td>\n",
       "      <td>0.379327</td>\n",
       "      <td>0.653333</td>\n",
       "    </tr>\n",
       "    <tr>\n",
       "      <th>1</th>\n",
       "      <td>1922</td>\n",
       "      <td>0.938592</td>\n",
       "      <td>0.482042</td>\n",
       "      <td>165469.746479</td>\n",
       "      <td>0.237815</td>\n",
       "      <td>0.434195</td>\n",
       "      <td>0.240720</td>\n",
       "      <td>-19.275282</td>\n",
       "      <td>0.116655</td>\n",
       "      <td>100.884521</td>\n",
       "      <td>0.535549</td>\n",
       "      <td>0.140845</td>\n",
       "    </tr>\n",
       "    <tr>\n",
       "      <th>2</th>\n",
       "      <td>1923</td>\n",
       "      <td>0.957247</td>\n",
       "      <td>0.577341</td>\n",
       "      <td>177942.362162</td>\n",
       "      <td>0.262406</td>\n",
       "      <td>0.371733</td>\n",
       "      <td>0.227462</td>\n",
       "      <td>-14.129211</td>\n",
       "      <td>0.093949</td>\n",
       "      <td>114.010730</td>\n",
       "      <td>0.625492</td>\n",
       "      <td>5.389189</td>\n",
       "    </tr>\n",
       "    <tr>\n",
       "      <th>3</th>\n",
       "      <td>1924</td>\n",
       "      <td>0.940200</td>\n",
       "      <td>0.549894</td>\n",
       "      <td>191046.707627</td>\n",
       "      <td>0.344347</td>\n",
       "      <td>0.581701</td>\n",
       "      <td>0.235219</td>\n",
       "      <td>-14.231343</td>\n",
       "      <td>0.092089</td>\n",
       "      <td>120.689572</td>\n",
       "      <td>0.663725</td>\n",
       "      <td>0.661017</td>\n",
       "    </tr>\n",
       "    <tr>\n",
       "      <th>4</th>\n",
       "      <td>1925</td>\n",
       "      <td>0.962607</td>\n",
       "      <td>0.573863</td>\n",
       "      <td>184986.924460</td>\n",
       "      <td>0.278594</td>\n",
       "      <td>0.418297</td>\n",
       "      <td>0.237668</td>\n",
       "      <td>-14.146414</td>\n",
       "      <td>0.111918</td>\n",
       "      <td>115.521921</td>\n",
       "      <td>0.621929</td>\n",
       "      <td>2.604317</td>\n",
       "    </tr>\n",
       "  </tbody>\n",
       "</table>\n",
       "</div>"
      ],
      "text/plain": [
       "   year  acousticness  danceability    duration_ms    energy  \\\n",
       "0  1921      0.886896      0.418597  260537.166667  0.231815   \n",
       "1  1922      0.938592      0.482042  165469.746479  0.237815   \n",
       "2  1923      0.957247      0.577341  177942.362162  0.262406   \n",
       "3  1924      0.940200      0.549894  191046.707627  0.344347   \n",
       "4  1925      0.962607      0.573863  184986.924460  0.278594   \n",
       "\n",
       "   instrumentalness  liveness   loudness  speechiness       tempo   valence  \\\n",
       "0          0.344878  0.205710 -17.048667     0.073662  101.531493  0.379327   \n",
       "1          0.434195  0.240720 -19.275282     0.116655  100.884521  0.535549   \n",
       "2          0.371733  0.227462 -14.129211     0.093949  114.010730  0.625492   \n",
       "3          0.581701  0.235219 -14.231343     0.092089  120.689572  0.663725   \n",
       "4          0.418297  0.237668 -14.146414     0.111918  115.521921  0.621929   \n",
       "\n",
       "   popularity  \n",
       "0    0.653333  \n",
       "1    0.140845  \n",
       "2    5.389189  \n",
       "3    0.661017  \n",
       "4    2.604317  "
      ]
     },
     "execution_count": 15,
     "metadata": {},
     "output_type": "execute_result"
    }
   ],
   "source": [
    "data_by_year.drop(columns=[\"mode\", \"key\"], axis=1, inplace=True)\n",
    "data_by_year.head()"
   ]
  },
  {
   "cell_type": "code",
   "execution_count": 16,
   "metadata": {},
   "outputs": [
    {
     "data": {
      "text/plain": [
       "year                0\n",
       "acousticness        0\n",
       "danceability        0\n",
       "duration_ms         0\n",
       "energy              0\n",
       "instrumentalness    0\n",
       "liveness            0\n",
       "loudness            0\n",
       "speechiness         0\n",
       "tempo               0\n",
       "valence             0\n",
       "popularity          0\n",
       "dtype: int64"
      ]
     },
     "execution_count": 16,
     "metadata": {},
     "output_type": "execute_result"
    }
   ],
   "source": [
    "data_by_year.isnull().sum()"
   ]
  },
  {
   "cell_type": "code",
   "execution_count": 17,
   "metadata": {},
   "outputs": [
    {
     "data": {
      "text/plain": [
       "year                0\n",
       "acousticness        0\n",
       "danceability        0\n",
       "duration_ms         0\n",
       "energy              0\n",
       "instrumentalness    0\n",
       "liveness            0\n",
       "loudness            0\n",
       "speechiness         0\n",
       "tempo               0\n",
       "valence             0\n",
       "popularity          0\n",
       "dtype: int64"
      ]
     },
     "execution_count": 17,
     "metadata": {},
     "output_type": "execute_result"
    }
   ],
   "source": [
    "data_by_year.isna().sum()"
   ]
  },
  {
   "cell_type": "code",
   "execution_count": 18,
   "metadata": {},
   "outputs": [
    {
     "data": {
      "text/plain": [
       "array([1921, 1922, 1923, 1924, 1925, 1926, 1927, 1928, 1929, 1930, 1931,\n",
       "       1932, 1933, 1934, 1935, 1936, 1937, 1938, 1939, 1940, 1941, 1942,\n",
       "       1943, 1944, 1945, 1946, 1947, 1948, 1949, 1950, 1951, 1952, 1953,\n",
       "       1954, 1955, 1956, 1957, 1958, 1959, 1960, 1961, 1962, 1963, 1964,\n",
       "       1965, 1966, 1967, 1968, 1969, 1970, 1971, 1972, 1973, 1974, 1975,\n",
       "       1976, 1977, 1978, 1979, 1980, 1981, 1982, 1983, 1984, 1985, 1986,\n",
       "       1987, 1988, 1989, 1990, 1991, 1992, 1993, 1994, 1995, 1996, 1997,\n",
       "       1998, 1999, 2000, 2001, 2002, 2003, 2004, 2005, 2006, 2007, 2008,\n",
       "       2009, 2010, 2011, 2012, 2013, 2014, 2015, 2016, 2017, 2018, 2019,\n",
       "       2020])"
      ]
     },
     "execution_count": 18,
     "metadata": {},
     "output_type": "execute_result"
    }
   ],
   "source": [
    "data_by_year[\"year\"].unique()"
   ]
  },
  {
   "cell_type": "code",
   "execution_count": 19,
   "metadata": {},
   "outputs": [
    {
     "data": {
      "text/plain": [
       "array([2000, 2001, 2002, 2003, 2004, 2005, 2006, 2007, 2008, 2009, 2010,\n",
       "       2011, 2012, 2013, 2014, 2015, 2016, 2017, 2018, 2019, 2020])"
      ]
     },
     "execution_count": 19,
     "metadata": {},
     "output_type": "execute_result"
    }
   ],
   "source": [
    "data_by_year = data_by_year[data_by_year[\"year\"]>1999]\n",
    "data_by_year[\"year\"].unique()"
   ]
  },
  {
   "cell_type": "code",
   "execution_count": 20,
   "metadata": {},
   "outputs": [
    {
     "data": {
      "text/html": [
       "<div>\n",
       "<style scoped>\n",
       "    .dataframe tbody tr th:only-of-type {\n",
       "        vertical-align: middle;\n",
       "    }\n",
       "\n",
       "    .dataframe tbody tr th {\n",
       "        vertical-align: top;\n",
       "    }\n",
       "\n",
       "    .dataframe thead th {\n",
       "        text-align: right;\n",
       "    }\n",
       "</style>\n",
       "<table border=\"1\" class=\"dataframe\">\n",
       "  <thead>\n",
       "    <tr style=\"text-align: right;\">\n",
       "      <th></th>\n",
       "      <th>year</th>\n",
       "      <th>acousticness</th>\n",
       "      <th>danceability</th>\n",
       "      <th>duration_ms</th>\n",
       "      <th>energy</th>\n",
       "      <th>instrumentalness</th>\n",
       "      <th>liveness</th>\n",
       "      <th>loudness</th>\n",
       "      <th>speechiness</th>\n",
       "      <th>tempo</th>\n",
       "      <th>valence</th>\n",
       "      <th>popularity</th>\n",
       "    </tr>\n",
       "  </thead>\n",
       "  <tbody>\n",
       "    <tr>\n",
       "      <th>79</th>\n",
       "      <td>2000</td>\n",
       "      <td>0.289323</td>\n",
       "      <td>0.590918</td>\n",
       "      <td>242724.642638</td>\n",
       "      <td>0.625413</td>\n",
       "      <td>0.101168</td>\n",
       "      <td>0.197686</td>\n",
       "      <td>-8.247766</td>\n",
       "      <td>0.089205</td>\n",
       "      <td>118.999323</td>\n",
       "      <td>0.559475</td>\n",
       "      <td>46.684049</td>\n",
       "    </tr>\n",
       "    <tr>\n",
       "      <th>80</th>\n",
       "      <td>2001</td>\n",
       "      <td>0.286842</td>\n",
       "      <td>0.583318</td>\n",
       "      <td>240307.796010</td>\n",
       "      <td>0.626986</td>\n",
       "      <td>0.107214</td>\n",
       "      <td>0.187026</td>\n",
       "      <td>-8.305095</td>\n",
       "      <td>0.089182</td>\n",
       "      <td>117.765399</td>\n",
       "      <td>0.541479</td>\n",
       "      <td>48.750125</td>\n",
       "    </tr>\n",
       "    <tr>\n",
       "      <th>81</th>\n",
       "      <td>2002</td>\n",
       "      <td>0.282624</td>\n",
       "      <td>0.576160</td>\n",
       "      <td>239503.283000</td>\n",
       "      <td>0.641270</td>\n",
       "      <td>0.088048</td>\n",
       "      <td>0.193911</td>\n",
       "      <td>-7.686640</td>\n",
       "      <td>0.084308</td>\n",
       "      <td>119.239738</td>\n",
       "      <td>0.542397</td>\n",
       "      <td>48.655500</td>\n",
       "    </tr>\n",
       "    <tr>\n",
       "      <th>82</th>\n",
       "      <td>2003</td>\n",
       "      <td>0.256471</td>\n",
       "      <td>0.575763</td>\n",
       "      <td>244670.575230</td>\n",
       "      <td>0.660165</td>\n",
       "      <td>0.083049</td>\n",
       "      <td>0.196976</td>\n",
       "      <td>-7.485545</td>\n",
       "      <td>0.093926</td>\n",
       "      <td>120.914622</td>\n",
       "      <td>0.530504</td>\n",
       "      <td>48.626407</td>\n",
       "    </tr>\n",
       "    <tr>\n",
       "      <th>83</th>\n",
       "      <td>2004</td>\n",
       "      <td>0.280559</td>\n",
       "      <td>0.567680</td>\n",
       "      <td>237378.708037</td>\n",
       "      <td>0.648868</td>\n",
       "      <td>0.077934</td>\n",
       "      <td>0.202199</td>\n",
       "      <td>-7.601655</td>\n",
       "      <td>0.094239</td>\n",
       "      <td>121.290346</td>\n",
       "      <td>0.524489</td>\n",
       "      <td>49.273143</td>\n",
       "    </tr>\n",
       "  </tbody>\n",
       "</table>\n",
       "</div>"
      ],
      "text/plain": [
       "    year  acousticness  danceability    duration_ms    energy  \\\n",
       "79  2000      0.289323      0.590918  242724.642638  0.625413   \n",
       "80  2001      0.286842      0.583318  240307.796010  0.626986   \n",
       "81  2002      0.282624      0.576160  239503.283000  0.641270   \n",
       "82  2003      0.256471      0.575763  244670.575230  0.660165   \n",
       "83  2004      0.280559      0.567680  237378.708037  0.648868   \n",
       "\n",
       "    instrumentalness  liveness  loudness  speechiness       tempo   valence  \\\n",
       "79          0.101168  0.197686 -8.247766     0.089205  118.999323  0.559475   \n",
       "80          0.107214  0.187026 -8.305095     0.089182  117.765399  0.541479   \n",
       "81          0.088048  0.193911 -7.686640     0.084308  119.239738  0.542397   \n",
       "82          0.083049  0.196976 -7.485545     0.093926  120.914622  0.530504   \n",
       "83          0.077934  0.202199 -7.601655     0.094239  121.290346  0.524489   \n",
       "\n",
       "    popularity  \n",
       "79   46.684049  \n",
       "80   48.750125  \n",
       "81   48.655500  \n",
       "82   48.626407  \n",
       "83   49.273143  "
      ]
     },
     "execution_count": 20,
     "metadata": {},
     "output_type": "execute_result"
    }
   ],
   "source": [
    "data_by_year.head()"
   ]
  },
  {
   "cell_type": "code",
   "execution_count": 21,
   "metadata": {},
   "outputs": [
    {
     "data": {
      "text/html": [
       "<div>\n",
       "<style scoped>\n",
       "    .dataframe tbody tr th:only-of-type {\n",
       "        vertical-align: middle;\n",
       "    }\n",
       "\n",
       "    .dataframe tbody tr th {\n",
       "        vertical-align: top;\n",
       "    }\n",
       "\n",
       "    .dataframe thead th {\n",
       "        text-align: right;\n",
       "    }\n",
       "</style>\n",
       "<table border=\"1\" class=\"dataframe\">\n",
       "  <thead>\n",
       "    <tr style=\"text-align: right;\">\n",
       "      <th></th>\n",
       "      <th>index</th>\n",
       "      <th>year</th>\n",
       "      <th>acousticness</th>\n",
       "      <th>danceability</th>\n",
       "      <th>duration_ms</th>\n",
       "      <th>energy</th>\n",
       "      <th>instrumentalness</th>\n",
       "      <th>liveness</th>\n",
       "      <th>loudness</th>\n",
       "      <th>speechiness</th>\n",
       "      <th>tempo</th>\n",
       "      <th>valence</th>\n",
       "      <th>popularity</th>\n",
       "    </tr>\n",
       "  </thead>\n",
       "  <tbody>\n",
       "    <tr>\n",
       "      <th>0</th>\n",
       "      <td>79</td>\n",
       "      <td>2000</td>\n",
       "      <td>0.289323</td>\n",
       "      <td>0.590918</td>\n",
       "      <td>242724.642638</td>\n",
       "      <td>0.625413</td>\n",
       "      <td>0.101168</td>\n",
       "      <td>0.197686</td>\n",
       "      <td>-8.247766</td>\n",
       "      <td>0.089205</td>\n",
       "      <td>118.999323</td>\n",
       "      <td>0.559475</td>\n",
       "      <td>46.684049</td>\n",
       "    </tr>\n",
       "    <tr>\n",
       "      <th>1</th>\n",
       "      <td>80</td>\n",
       "      <td>2001</td>\n",
       "      <td>0.286842</td>\n",
       "      <td>0.583318</td>\n",
       "      <td>240307.796010</td>\n",
       "      <td>0.626986</td>\n",
       "      <td>0.107214</td>\n",
       "      <td>0.187026</td>\n",
       "      <td>-8.305095</td>\n",
       "      <td>0.089182</td>\n",
       "      <td>117.765399</td>\n",
       "      <td>0.541479</td>\n",
       "      <td>48.750125</td>\n",
       "    </tr>\n",
       "    <tr>\n",
       "      <th>2</th>\n",
       "      <td>81</td>\n",
       "      <td>2002</td>\n",
       "      <td>0.282624</td>\n",
       "      <td>0.576160</td>\n",
       "      <td>239503.283000</td>\n",
       "      <td>0.641270</td>\n",
       "      <td>0.088048</td>\n",
       "      <td>0.193911</td>\n",
       "      <td>-7.686640</td>\n",
       "      <td>0.084308</td>\n",
       "      <td>119.239738</td>\n",
       "      <td>0.542397</td>\n",
       "      <td>48.655500</td>\n",
       "    </tr>\n",
       "    <tr>\n",
       "      <th>3</th>\n",
       "      <td>82</td>\n",
       "      <td>2003</td>\n",
       "      <td>0.256471</td>\n",
       "      <td>0.575763</td>\n",
       "      <td>244670.575230</td>\n",
       "      <td>0.660165</td>\n",
       "      <td>0.083049</td>\n",
       "      <td>0.196976</td>\n",
       "      <td>-7.485545</td>\n",
       "      <td>0.093926</td>\n",
       "      <td>120.914622</td>\n",
       "      <td>0.530504</td>\n",
       "      <td>48.626407</td>\n",
       "    </tr>\n",
       "    <tr>\n",
       "      <th>4</th>\n",
       "      <td>83</td>\n",
       "      <td>2004</td>\n",
       "      <td>0.280559</td>\n",
       "      <td>0.567680</td>\n",
       "      <td>237378.708037</td>\n",
       "      <td>0.648868</td>\n",
       "      <td>0.077934</td>\n",
       "      <td>0.202199</td>\n",
       "      <td>-7.601655</td>\n",
       "      <td>0.094239</td>\n",
       "      <td>121.290346</td>\n",
       "      <td>0.524489</td>\n",
       "      <td>49.273143</td>\n",
       "    </tr>\n",
       "    <tr>\n",
       "      <th>5</th>\n",
       "      <td>84</td>\n",
       "      <td>2005</td>\n",
       "      <td>0.255764</td>\n",
       "      <td>0.572281</td>\n",
       "      <td>237229.588205</td>\n",
       "      <td>0.653209</td>\n",
       "      <td>0.090194</td>\n",
       "      <td>0.190082</td>\n",
       "      <td>-7.466159</td>\n",
       "      <td>0.093334</td>\n",
       "      <td>121.617967</td>\n",
       "      <td>0.532531</td>\n",
       "      <td>50.953333</td>\n",
       "    </tr>\n",
       "    <tr>\n",
       "      <th>6</th>\n",
       "      <td>85</td>\n",
       "      <td>2006</td>\n",
       "      <td>0.279986</td>\n",
       "      <td>0.568230</td>\n",
       "      <td>234042.914359</td>\n",
       "      <td>0.650326</td>\n",
       "      <td>0.077701</td>\n",
       "      <td>0.188289</td>\n",
       "      <td>-7.265501</td>\n",
       "      <td>0.085847</td>\n",
       "      <td>121.798615</td>\n",
       "      <td>0.520028</td>\n",
       "      <td>51.313846</td>\n",
       "    </tr>\n",
       "    <tr>\n",
       "      <th>7</th>\n",
       "      <td>86</td>\n",
       "      <td>2007</td>\n",
       "      <td>0.254081</td>\n",
       "      <td>0.563414</td>\n",
       "      <td>241049.962564</td>\n",
       "      <td>0.668305</td>\n",
       "      <td>0.072957</td>\n",
       "      <td>0.196127</td>\n",
       "      <td>-7.044536</td>\n",
       "      <td>0.084347</td>\n",
       "      <td>124.087516</td>\n",
       "      <td>0.516794</td>\n",
       "      <td>51.075897</td>\n",
       "    </tr>\n",
       "    <tr>\n",
       "      <th>8</th>\n",
       "      <td>87</td>\n",
       "      <td>2008</td>\n",
       "      <td>0.249192</td>\n",
       "      <td>0.579193</td>\n",
       "      <td>240107.315601</td>\n",
       "      <td>0.671461</td>\n",
       "      <td>0.063662</td>\n",
       "      <td>0.198431</td>\n",
       "      <td>-6.843804</td>\n",
       "      <td>0.077356</td>\n",
       "      <td>123.509934</td>\n",
       "      <td>0.527542</td>\n",
       "      <td>50.630179</td>\n",
       "    </tr>\n",
       "    <tr>\n",
       "      <th>9</th>\n",
       "      <td>88</td>\n",
       "      <td>2009</td>\n",
       "      <td>0.261929</td>\n",
       "      <td>0.564190</td>\n",
       "      <td>238140.013265</td>\n",
       "      <td>0.670749</td>\n",
       "      <td>0.075872</td>\n",
       "      <td>0.205252</td>\n",
       "      <td>-7.046015</td>\n",
       "      <td>0.085458</td>\n",
       "      <td>123.463808</td>\n",
       "      <td>0.507170</td>\n",
       "      <td>51.440816</td>\n",
       "    </tr>\n",
       "    <tr>\n",
       "      <th>10</th>\n",
       "      <td>89</td>\n",
       "      <td>2010</td>\n",
       "      <td>0.242687</td>\n",
       "      <td>0.572488</td>\n",
       "      <td>242811.804563</td>\n",
       "      <td>0.681778</td>\n",
       "      <td>0.082981</td>\n",
       "      <td>0.199701</td>\n",
       "      <td>-6.909904</td>\n",
       "      <td>0.081031</td>\n",
       "      <td>123.570215</td>\n",
       "      <td>0.520895</td>\n",
       "      <td>52.730159</td>\n",
       "    </tr>\n",
       "    <tr>\n",
       "      <th>11</th>\n",
       "      <td>90</td>\n",
       "      <td>2011</td>\n",
       "      <td>0.273183</td>\n",
       "      <td>0.552867</td>\n",
       "      <td>236998.787308</td>\n",
       "      <td>0.648301</td>\n",
       "      <td>0.103772</td>\n",
       "      <td>0.203309</td>\n",
       "      <td>-7.574986</td>\n",
       "      <td>0.087479</td>\n",
       "      <td>121.483997</td>\n",
       "      <td>0.472454</td>\n",
       "      <td>53.307387</td>\n",
       "    </tr>\n",
       "    <tr>\n",
       "      <th>12</th>\n",
       "      <td>91</td>\n",
       "      <td>2012</td>\n",
       "      <td>0.249953</td>\n",
       "      <td>0.570882</td>\n",
       "      <td>245807.457584</td>\n",
       "      <td>0.656571</td>\n",
       "      <td>0.085206</td>\n",
       "      <td>0.189733</td>\n",
       "      <td>-7.260550</td>\n",
       "      <td>0.081742</td>\n",
       "      <td>121.781736</td>\n",
       "      <td>0.462709</td>\n",
       "      <td>52.655013</td>\n",
       "    </tr>\n",
       "    <tr>\n",
       "      <th>13</th>\n",
       "      <td>92</td>\n",
       "      <td>2013</td>\n",
       "      <td>0.257488</td>\n",
       "      <td>0.571148</td>\n",
       "      <td>242267.661437</td>\n",
       "      <td>0.645597</td>\n",
       "      <td>0.098365</td>\n",
       "      <td>0.199631</td>\n",
       "      <td>-7.472039</td>\n",
       "      <td>0.093849</td>\n",
       "      <td>120.806829</td>\n",
       "      <td>0.454741</td>\n",
       "      <td>54.047065</td>\n",
       "    </tr>\n",
       "    <tr>\n",
       "      <th>14</th>\n",
       "      <td>93</td>\n",
       "      <td>2014</td>\n",
       "      <td>0.249313</td>\n",
       "      <td>0.589948</td>\n",
       "      <td>233728.314713</td>\n",
       "      <td>0.648795</td>\n",
       "      <td>0.076570</td>\n",
       "      <td>0.191822</td>\n",
       "      <td>-7.067440</td>\n",
       "      <td>0.084061</td>\n",
       "      <td>122.305263</td>\n",
       "      <td>0.463049</td>\n",
       "      <td>55.543142</td>\n",
       "    </tr>\n",
       "    <tr>\n",
       "      <th>15</th>\n",
       "      <td>94</td>\n",
       "      <td>2015</td>\n",
       "      <td>0.253952</td>\n",
       "      <td>0.593774</td>\n",
       "      <td>230029.046606</td>\n",
       "      <td>0.627064</td>\n",
       "      <td>0.106787</td>\n",
       "      <td>0.188856</td>\n",
       "      <td>-7.625639</td>\n",
       "      <td>0.096779</td>\n",
       "      <td>120.115411</td>\n",
       "      <td>0.432098</td>\n",
       "      <td>56.700608</td>\n",
       "    </tr>\n",
       "    <tr>\n",
       "      <th>16</th>\n",
       "      <td>95</td>\n",
       "      <td>2016</td>\n",
       "      <td>0.284171</td>\n",
       "      <td>0.600202</td>\n",
       "      <td>221396.510295</td>\n",
       "      <td>0.592855</td>\n",
       "      <td>0.093984</td>\n",
       "      <td>0.181170</td>\n",
       "      <td>-8.061056</td>\n",
       "      <td>0.104313</td>\n",
       "      <td>118.652630</td>\n",
       "      <td>0.431532</td>\n",
       "      <td>59.647190</td>\n",
       "    </tr>\n",
       "    <tr>\n",
       "      <th>17</th>\n",
       "      <td>96</td>\n",
       "      <td>2017</td>\n",
       "      <td>0.286099</td>\n",
       "      <td>0.612217</td>\n",
       "      <td>211115.696787</td>\n",
       "      <td>0.590421</td>\n",
       "      <td>0.097091</td>\n",
       "      <td>0.191713</td>\n",
       "      <td>-8.312630</td>\n",
       "      <td>0.110536</td>\n",
       "      <td>117.202740</td>\n",
       "      <td>0.416476</td>\n",
       "      <td>63.263554</td>\n",
       "    </tr>\n",
       "    <tr>\n",
       "      <th>18</th>\n",
       "      <td>97</td>\n",
       "      <td>2018</td>\n",
       "      <td>0.267633</td>\n",
       "      <td>0.663500</td>\n",
       "      <td>206001.007133</td>\n",
       "      <td>0.602435</td>\n",
       "      <td>0.054217</td>\n",
       "      <td>0.176326</td>\n",
       "      <td>-7.168785</td>\n",
       "      <td>0.127176</td>\n",
       "      <td>121.922308</td>\n",
       "      <td>0.447921</td>\n",
       "      <td>63.296243</td>\n",
       "    </tr>\n",
       "    <tr>\n",
       "      <th>19</th>\n",
       "      <td>98</td>\n",
       "      <td>2019</td>\n",
       "      <td>0.278299</td>\n",
       "      <td>0.644814</td>\n",
       "      <td>201024.788096</td>\n",
       "      <td>0.593224</td>\n",
       "      <td>0.077640</td>\n",
       "      <td>0.172616</td>\n",
       "      <td>-7.722192</td>\n",
       "      <td>0.121043</td>\n",
       "      <td>120.235644</td>\n",
       "      <td>0.458818</td>\n",
       "      <td>65.256542</td>\n",
       "    </tr>\n",
       "    <tr>\n",
       "      <th>20</th>\n",
       "      <td>99</td>\n",
       "      <td>2020</td>\n",
       "      <td>0.219931</td>\n",
       "      <td>0.692904</td>\n",
       "      <td>193728.397537</td>\n",
       "      <td>0.631232</td>\n",
       "      <td>0.016376</td>\n",
       "      <td>0.178535</td>\n",
       "      <td>-6.595067</td>\n",
       "      <td>0.141384</td>\n",
       "      <td>124.283129</td>\n",
       "      <td>0.501048</td>\n",
       "      <td>64.301970</td>\n",
       "    </tr>\n",
       "  </tbody>\n",
       "</table>\n",
       "</div>"
      ],
      "text/plain": [
       "    index  year  acousticness  danceability    duration_ms    energy  \\\n",
       "0      79  2000      0.289323      0.590918  242724.642638  0.625413   \n",
       "1      80  2001      0.286842      0.583318  240307.796010  0.626986   \n",
       "2      81  2002      0.282624      0.576160  239503.283000  0.641270   \n",
       "3      82  2003      0.256471      0.575763  244670.575230  0.660165   \n",
       "4      83  2004      0.280559      0.567680  237378.708037  0.648868   \n",
       "5      84  2005      0.255764      0.572281  237229.588205  0.653209   \n",
       "6      85  2006      0.279986      0.568230  234042.914359  0.650326   \n",
       "7      86  2007      0.254081      0.563414  241049.962564  0.668305   \n",
       "8      87  2008      0.249192      0.579193  240107.315601  0.671461   \n",
       "9      88  2009      0.261929      0.564190  238140.013265  0.670749   \n",
       "10     89  2010      0.242687      0.572488  242811.804563  0.681778   \n",
       "11     90  2011      0.273183      0.552867  236998.787308  0.648301   \n",
       "12     91  2012      0.249953      0.570882  245807.457584  0.656571   \n",
       "13     92  2013      0.257488      0.571148  242267.661437  0.645597   \n",
       "14     93  2014      0.249313      0.589948  233728.314713  0.648795   \n",
       "15     94  2015      0.253952      0.593774  230029.046606  0.627064   \n",
       "16     95  2016      0.284171      0.600202  221396.510295  0.592855   \n",
       "17     96  2017      0.286099      0.612217  211115.696787  0.590421   \n",
       "18     97  2018      0.267633      0.663500  206001.007133  0.602435   \n",
       "19     98  2019      0.278299      0.644814  201024.788096  0.593224   \n",
       "20     99  2020      0.219931      0.692904  193728.397537  0.631232   \n",
       "\n",
       "    instrumentalness  liveness  loudness  speechiness       tempo   valence  \\\n",
       "0           0.101168  0.197686 -8.247766     0.089205  118.999323  0.559475   \n",
       "1           0.107214  0.187026 -8.305095     0.089182  117.765399  0.541479   \n",
       "2           0.088048  0.193911 -7.686640     0.084308  119.239738  0.542397   \n",
       "3           0.083049  0.196976 -7.485545     0.093926  120.914622  0.530504   \n",
       "4           0.077934  0.202199 -7.601655     0.094239  121.290346  0.524489   \n",
       "5           0.090194  0.190082 -7.466159     0.093334  121.617967  0.532531   \n",
       "6           0.077701  0.188289 -7.265501     0.085847  121.798615  0.520028   \n",
       "7           0.072957  0.196127 -7.044536     0.084347  124.087516  0.516794   \n",
       "8           0.063662  0.198431 -6.843804     0.077356  123.509934  0.527542   \n",
       "9           0.075872  0.205252 -7.046015     0.085458  123.463808  0.507170   \n",
       "10          0.082981  0.199701 -6.909904     0.081031  123.570215  0.520895   \n",
       "11          0.103772  0.203309 -7.574986     0.087479  121.483997  0.472454   \n",
       "12          0.085206  0.189733 -7.260550     0.081742  121.781736  0.462709   \n",
       "13          0.098365  0.199631 -7.472039     0.093849  120.806829  0.454741   \n",
       "14          0.076570  0.191822 -7.067440     0.084061  122.305263  0.463049   \n",
       "15          0.106787  0.188856 -7.625639     0.096779  120.115411  0.432098   \n",
       "16          0.093984  0.181170 -8.061056     0.104313  118.652630  0.431532   \n",
       "17          0.097091  0.191713 -8.312630     0.110536  117.202740  0.416476   \n",
       "18          0.054217  0.176326 -7.168785     0.127176  121.922308  0.447921   \n",
       "19          0.077640  0.172616 -7.722192     0.121043  120.235644  0.458818   \n",
       "20          0.016376  0.178535 -6.595067     0.141384  124.283129  0.501048   \n",
       "\n",
       "    popularity  \n",
       "0    46.684049  \n",
       "1    48.750125  \n",
       "2    48.655500  \n",
       "3    48.626407  \n",
       "4    49.273143  \n",
       "5    50.953333  \n",
       "6    51.313846  \n",
       "7    51.075897  \n",
       "8    50.630179  \n",
       "9    51.440816  \n",
       "10   52.730159  \n",
       "11   53.307387  \n",
       "12   52.655013  \n",
       "13   54.047065  \n",
       "14   55.543142  \n",
       "15   56.700608  \n",
       "16   59.647190  \n",
       "17   63.263554  \n",
       "18   63.296243  \n",
       "19   65.256542  \n",
       "20   64.301970  "
      ]
     },
     "execution_count": 21,
     "metadata": {},
     "output_type": "execute_result"
    }
   ],
   "source": [
    "data_by_year.reset_index()"
   ]
  },
  {
   "attachments": {},
   "cell_type": "markdown",
   "metadata": {},
   "source": [
    "## 1.5 Análise Gráfica"
   ]
  },
  {
   "cell_type": "code",
   "execution_count": 22,
   "metadata": {},
   "outputs": [],
   "source": [
    "import plotly.express as px"
   ]
  },
  {
   "cell_type": "code",
   "execution_count": 23,
   "metadata": {},
   "outputs": [
    {
     "data": {
      "application/vnd.plotly.v1+json": {
       "config": {
        "plotlyServerURL": "https://plot.ly"
       },
       "data": [
        {
         "hovertemplate": "year=%{x}<br>loudness=%{y}<extra></extra>",
         "legendgroup": "",
         "line": {
          "color": "#636efa",
          "dash": "solid"
         },
         "marker": {
          "symbol": "circle"
         },
         "mode": "markers+lines",
         "name": "",
         "orientation": "v",
         "showlegend": false,
         "type": "scatter",
         "x": [
          2000,
          2001,
          2002,
          2003,
          2004,
          2005,
          2006,
          2007,
          2008,
          2009,
          2010,
          2011,
          2012,
          2013,
          2014,
          2015,
          2016,
          2017,
          2018,
          2019,
          2020
         ],
         "xaxis": "x",
         "y": [
          -8.247765848670758,
          -8.305095261845384,
          -7.686639500000013,
          -7.485545035823955,
          -7.601655137334684,
          -7.46615897435897,
          -7.265500512820514,
          -7.044535897435892,
          -6.8438040920716166,
          -7.0460147959183645,
          -6.9099042658730125,
          -7.574986117997006,
          -7.260549614395888,
          -7.472039473684207,
          -7.06743990024938,
          -7.625639311043569,
          -8.061056204785759,
          -8.31262951807228,
          -7.168785068949124,
          -7.722191893278596,
          -6.595066995073878
         ],
         "yaxis": "y"
        }
       ],
       "layout": {
        "legend": {
         "tracegroupgap": 0
        },
        "template": {
         "data": {
          "bar": [
           {
            "error_x": {
             "color": "#2a3f5f"
            },
            "error_y": {
             "color": "#2a3f5f"
            },
            "marker": {
             "line": {
              "color": "#E5ECF6",
              "width": 0.5
             },
             "pattern": {
              "fillmode": "overlay",
              "size": 10,
              "solidity": 0.2
             }
            },
            "type": "bar"
           }
          ],
          "barpolar": [
           {
            "marker": {
             "line": {
              "color": "#E5ECF6",
              "width": 0.5
             },
             "pattern": {
              "fillmode": "overlay",
              "size": 10,
              "solidity": 0.2
             }
            },
            "type": "barpolar"
           }
          ],
          "carpet": [
           {
            "aaxis": {
             "endlinecolor": "#2a3f5f",
             "gridcolor": "white",
             "linecolor": "white",
             "minorgridcolor": "white",
             "startlinecolor": "#2a3f5f"
            },
            "baxis": {
             "endlinecolor": "#2a3f5f",
             "gridcolor": "white",
             "linecolor": "white",
             "minorgridcolor": "white",
             "startlinecolor": "#2a3f5f"
            },
            "type": "carpet"
           }
          ],
          "choropleth": [
           {
            "colorbar": {
             "outlinewidth": 0,
             "ticks": ""
            },
            "type": "choropleth"
           }
          ],
          "contour": [
           {
            "colorbar": {
             "outlinewidth": 0,
             "ticks": ""
            },
            "colorscale": [
             [
              0,
              "#0d0887"
             ],
             [
              0.1111111111111111,
              "#46039f"
             ],
             [
              0.2222222222222222,
              "#7201a8"
             ],
             [
              0.3333333333333333,
              "#9c179e"
             ],
             [
              0.4444444444444444,
              "#bd3786"
             ],
             [
              0.5555555555555556,
              "#d8576b"
             ],
             [
              0.6666666666666666,
              "#ed7953"
             ],
             [
              0.7777777777777778,
              "#fb9f3a"
             ],
             [
              0.8888888888888888,
              "#fdca26"
             ],
             [
              1,
              "#f0f921"
             ]
            ],
            "type": "contour"
           }
          ],
          "contourcarpet": [
           {
            "colorbar": {
             "outlinewidth": 0,
             "ticks": ""
            },
            "type": "contourcarpet"
           }
          ],
          "heatmap": [
           {
            "colorbar": {
             "outlinewidth": 0,
             "ticks": ""
            },
            "colorscale": [
             [
              0,
              "#0d0887"
             ],
             [
              0.1111111111111111,
              "#46039f"
             ],
             [
              0.2222222222222222,
              "#7201a8"
             ],
             [
              0.3333333333333333,
              "#9c179e"
             ],
             [
              0.4444444444444444,
              "#bd3786"
             ],
             [
              0.5555555555555556,
              "#d8576b"
             ],
             [
              0.6666666666666666,
              "#ed7953"
             ],
             [
              0.7777777777777778,
              "#fb9f3a"
             ],
             [
              0.8888888888888888,
              "#fdca26"
             ],
             [
              1,
              "#f0f921"
             ]
            ],
            "type": "heatmap"
           }
          ],
          "heatmapgl": [
           {
            "colorbar": {
             "outlinewidth": 0,
             "ticks": ""
            },
            "colorscale": [
             [
              0,
              "#0d0887"
             ],
             [
              0.1111111111111111,
              "#46039f"
             ],
             [
              0.2222222222222222,
              "#7201a8"
             ],
             [
              0.3333333333333333,
              "#9c179e"
             ],
             [
              0.4444444444444444,
              "#bd3786"
             ],
             [
              0.5555555555555556,
              "#d8576b"
             ],
             [
              0.6666666666666666,
              "#ed7953"
             ],
             [
              0.7777777777777778,
              "#fb9f3a"
             ],
             [
              0.8888888888888888,
              "#fdca26"
             ],
             [
              1,
              "#f0f921"
             ]
            ],
            "type": "heatmapgl"
           }
          ],
          "histogram": [
           {
            "marker": {
             "pattern": {
              "fillmode": "overlay",
              "size": 10,
              "solidity": 0.2
             }
            },
            "type": "histogram"
           }
          ],
          "histogram2d": [
           {
            "colorbar": {
             "outlinewidth": 0,
             "ticks": ""
            },
            "colorscale": [
             [
              0,
              "#0d0887"
             ],
             [
              0.1111111111111111,
              "#46039f"
             ],
             [
              0.2222222222222222,
              "#7201a8"
             ],
             [
              0.3333333333333333,
              "#9c179e"
             ],
             [
              0.4444444444444444,
              "#bd3786"
             ],
             [
              0.5555555555555556,
              "#d8576b"
             ],
             [
              0.6666666666666666,
              "#ed7953"
             ],
             [
              0.7777777777777778,
              "#fb9f3a"
             ],
             [
              0.8888888888888888,
              "#fdca26"
             ],
             [
              1,
              "#f0f921"
             ]
            ],
            "type": "histogram2d"
           }
          ],
          "histogram2dcontour": [
           {
            "colorbar": {
             "outlinewidth": 0,
             "ticks": ""
            },
            "colorscale": [
             [
              0,
              "#0d0887"
             ],
             [
              0.1111111111111111,
              "#46039f"
             ],
             [
              0.2222222222222222,
              "#7201a8"
             ],
             [
              0.3333333333333333,
              "#9c179e"
             ],
             [
              0.4444444444444444,
              "#bd3786"
             ],
             [
              0.5555555555555556,
              "#d8576b"
             ],
             [
              0.6666666666666666,
              "#ed7953"
             ],
             [
              0.7777777777777778,
              "#fb9f3a"
             ],
             [
              0.8888888888888888,
              "#fdca26"
             ],
             [
              1,
              "#f0f921"
             ]
            ],
            "type": "histogram2dcontour"
           }
          ],
          "mesh3d": [
           {
            "colorbar": {
             "outlinewidth": 0,
             "ticks": ""
            },
            "type": "mesh3d"
           }
          ],
          "parcoords": [
           {
            "line": {
             "colorbar": {
              "outlinewidth": 0,
              "ticks": ""
             }
            },
            "type": "parcoords"
           }
          ],
          "pie": [
           {
            "automargin": true,
            "type": "pie"
           }
          ],
          "scatter": [
           {
            "fillpattern": {
             "fillmode": "overlay",
             "size": 10,
             "solidity": 0.2
            },
            "type": "scatter"
           }
          ],
          "scatter3d": [
           {
            "line": {
             "colorbar": {
              "outlinewidth": 0,
              "ticks": ""
             }
            },
            "marker": {
             "colorbar": {
              "outlinewidth": 0,
              "ticks": ""
             }
            },
            "type": "scatter3d"
           }
          ],
          "scattercarpet": [
           {
            "marker": {
             "colorbar": {
              "outlinewidth": 0,
              "ticks": ""
             }
            },
            "type": "scattercarpet"
           }
          ],
          "scattergeo": [
           {
            "marker": {
             "colorbar": {
              "outlinewidth": 0,
              "ticks": ""
             }
            },
            "type": "scattergeo"
           }
          ],
          "scattergl": [
           {
            "marker": {
             "colorbar": {
              "outlinewidth": 0,
              "ticks": ""
             }
            },
            "type": "scattergl"
           }
          ],
          "scattermapbox": [
           {
            "marker": {
             "colorbar": {
              "outlinewidth": 0,
              "ticks": ""
             }
            },
            "type": "scattermapbox"
           }
          ],
          "scatterpolar": [
           {
            "marker": {
             "colorbar": {
              "outlinewidth": 0,
              "ticks": ""
             }
            },
            "type": "scatterpolar"
           }
          ],
          "scatterpolargl": [
           {
            "marker": {
             "colorbar": {
              "outlinewidth": 0,
              "ticks": ""
             }
            },
            "type": "scatterpolargl"
           }
          ],
          "scatterternary": [
           {
            "marker": {
             "colorbar": {
              "outlinewidth": 0,
              "ticks": ""
             }
            },
            "type": "scatterternary"
           }
          ],
          "surface": [
           {
            "colorbar": {
             "outlinewidth": 0,
             "ticks": ""
            },
            "colorscale": [
             [
              0,
              "#0d0887"
             ],
             [
              0.1111111111111111,
              "#46039f"
             ],
             [
              0.2222222222222222,
              "#7201a8"
             ],
             [
              0.3333333333333333,
              "#9c179e"
             ],
             [
              0.4444444444444444,
              "#bd3786"
             ],
             [
              0.5555555555555556,
              "#d8576b"
             ],
             [
              0.6666666666666666,
              "#ed7953"
             ],
             [
              0.7777777777777778,
              "#fb9f3a"
             ],
             [
              0.8888888888888888,
              "#fdca26"
             ],
             [
              1,
              "#f0f921"
             ]
            ],
            "type": "surface"
           }
          ],
          "table": [
           {
            "cells": {
             "fill": {
              "color": "#EBF0F8"
             },
             "line": {
              "color": "white"
             }
            },
            "header": {
             "fill": {
              "color": "#C8D4E3"
             },
             "line": {
              "color": "white"
             }
            },
            "type": "table"
           }
          ]
         },
         "layout": {
          "annotationdefaults": {
           "arrowcolor": "#2a3f5f",
           "arrowhead": 0,
           "arrowwidth": 1
          },
          "autotypenumbers": "strict",
          "coloraxis": {
           "colorbar": {
            "outlinewidth": 0,
            "ticks": ""
           }
          },
          "colorscale": {
           "diverging": [
            [
             0,
             "#8e0152"
            ],
            [
             0.1,
             "#c51b7d"
            ],
            [
             0.2,
             "#de77ae"
            ],
            [
             0.3,
             "#f1b6da"
            ],
            [
             0.4,
             "#fde0ef"
            ],
            [
             0.5,
             "#f7f7f7"
            ],
            [
             0.6,
             "#e6f5d0"
            ],
            [
             0.7,
             "#b8e186"
            ],
            [
             0.8,
             "#7fbc41"
            ],
            [
             0.9,
             "#4d9221"
            ],
            [
             1,
             "#276419"
            ]
           ],
           "sequential": [
            [
             0,
             "#0d0887"
            ],
            [
             0.1111111111111111,
             "#46039f"
            ],
            [
             0.2222222222222222,
             "#7201a8"
            ],
            [
             0.3333333333333333,
             "#9c179e"
            ],
            [
             0.4444444444444444,
             "#bd3786"
            ],
            [
             0.5555555555555556,
             "#d8576b"
            ],
            [
             0.6666666666666666,
             "#ed7953"
            ],
            [
             0.7777777777777778,
             "#fb9f3a"
            ],
            [
             0.8888888888888888,
             "#fdca26"
            ],
            [
             1,
             "#f0f921"
            ]
           ],
           "sequentialminus": [
            [
             0,
             "#0d0887"
            ],
            [
             0.1111111111111111,
             "#46039f"
            ],
            [
             0.2222222222222222,
             "#7201a8"
            ],
            [
             0.3333333333333333,
             "#9c179e"
            ],
            [
             0.4444444444444444,
             "#bd3786"
            ],
            [
             0.5555555555555556,
             "#d8576b"
            ],
            [
             0.6666666666666666,
             "#ed7953"
            ],
            [
             0.7777777777777778,
             "#fb9f3a"
            ],
            [
             0.8888888888888888,
             "#fdca26"
            ],
            [
             1,
             "#f0f921"
            ]
           ]
          },
          "colorway": [
           "#636efa",
           "#EF553B",
           "#00cc96",
           "#ab63fa",
           "#FFA15A",
           "#19d3f3",
           "#FF6692",
           "#B6E880",
           "#FF97FF",
           "#FECB52"
          ],
          "font": {
           "color": "#2a3f5f"
          },
          "geo": {
           "bgcolor": "white",
           "lakecolor": "white",
           "landcolor": "#E5ECF6",
           "showlakes": true,
           "showland": true,
           "subunitcolor": "white"
          },
          "hoverlabel": {
           "align": "left"
          },
          "hovermode": "closest",
          "mapbox": {
           "style": "light"
          },
          "paper_bgcolor": "white",
          "plot_bgcolor": "#E5ECF6",
          "polar": {
           "angularaxis": {
            "gridcolor": "white",
            "linecolor": "white",
            "ticks": ""
           },
           "bgcolor": "#E5ECF6",
           "radialaxis": {
            "gridcolor": "white",
            "linecolor": "white",
            "ticks": ""
           }
          },
          "scene": {
           "xaxis": {
            "backgroundcolor": "#E5ECF6",
            "gridcolor": "white",
            "gridwidth": 2,
            "linecolor": "white",
            "showbackground": true,
            "ticks": "",
            "zerolinecolor": "white"
           },
           "yaxis": {
            "backgroundcolor": "#E5ECF6",
            "gridcolor": "white",
            "gridwidth": 2,
            "linecolor": "white",
            "showbackground": true,
            "ticks": "",
            "zerolinecolor": "white"
           },
           "zaxis": {
            "backgroundcolor": "#E5ECF6",
            "gridcolor": "white",
            "gridwidth": 2,
            "linecolor": "white",
            "showbackground": true,
            "ticks": "",
            "zerolinecolor": "white"
           }
          },
          "shapedefaults": {
           "line": {
            "color": "#2a3f5f"
           }
          },
          "ternary": {
           "aaxis": {
            "gridcolor": "white",
            "linecolor": "white",
            "ticks": ""
           },
           "baxis": {
            "gridcolor": "white",
            "linecolor": "white",
            "ticks": ""
           },
           "bgcolor": "#E5ECF6",
           "caxis": {
            "gridcolor": "white",
            "linecolor": "white",
            "ticks": ""
           }
          },
          "title": {
           "x": 0.05
          },
          "xaxis": {
           "automargin": true,
           "gridcolor": "white",
           "linecolor": "white",
           "ticks": "",
           "title": {
            "standoff": 15
           },
           "zerolinecolor": "white",
           "zerolinewidth": 2
          },
          "yaxis": {
           "automargin": true,
           "gridcolor": "white",
           "linecolor": "white",
           "ticks": "",
           "title": {
            "standoff": 15
           },
           "zerolinecolor": "white",
           "zerolinewidth": 2
          }
         }
        },
        "title": {
         "text": "Loudness Variation by Years"
        },
        "xaxis": {
         "anchor": "y",
         "domain": [
          0,
          1
         ],
         "title": {
          "text": "year"
         }
        },
        "yaxis": {
         "anchor": "x",
         "domain": [
          0,
          1
         ],
         "title": {
          "text": "loudness"
         }
        }
       }
      }
     },
     "metadata": {},
     "output_type": "display_data"
    }
   ],
   "source": [
    "fig = px.line(data_by_year, x=\"year\",y=\"loudness\",markers=True,title=\"Loudness Variation by Years\")\n",
    "fig.show()"
   ]
  },
  {
   "cell_type": "code",
   "execution_count": 24,
   "metadata": {},
   "outputs": [],
   "source": [
    "import plotly.graph_objects as go"
   ]
  },
  {
   "cell_type": "code",
   "execution_count": 25,
   "metadata": {},
   "outputs": [
    {
     "data": {
      "application/vnd.plotly.v1+json": {
       "config": {
        "plotlyServerURL": "https://plot.ly"
       },
       "data": [
        {
         "name": "Acousticness",
         "type": "scatter",
         "x": [
          2000,
          2001,
          2002,
          2003,
          2004,
          2005,
          2006,
          2007,
          2008,
          2009,
          2010,
          2011,
          2012,
          2013,
          2014,
          2015,
          2016,
          2017,
          2018,
          2019,
          2020
         ],
         "y": [
          0.2893227005163599,
          0.2868424748428934,
          0.282624289885001,
          0.2564705181729783,
          0.2805589466225845,
          0.2557635068666665,
          0.2799863520256408,
          0.2540809575538463,
          0.2491917627212275,
          0.261928619096939,
          0.2426866435515872,
          0.2731826625185919,
          0.2499530443804624,
          0.2574880859564779,
          0.249312645880299,
          0.2539522577102332,
          0.2841710299554814,
          0.2860990665261043,
          0.2676329907750836,
          0.2782985863365824,
          0.2199308880935964
         ]
        },
        {
         "name": "Valence",
         "type": "scatter",
         "x": [
          2000,
          2001,
          2002,
          2003,
          2004,
          2005,
          2006,
          2007,
          2008,
          2009,
          2010,
          2011,
          2012,
          2013,
          2014,
          2015,
          2016,
          2017,
          2018,
          2019,
          2020
         ],
         "y": [
          0.5594754601226991,
          0.541479107231919,
          0.5423971500000008,
          0.5305042476970324,
          0.5244885554425227,
          0.5325309230769236,
          0.5200283076923078,
          0.5167938461538473,
          0.5275418925831203,
          0.5071696617346935,
          0.5208951587301589,
          0.4724536787307882,
          0.4627090128534706,
          0.4547411943319834,
          0.4630487780548628,
          0.4320983687943254,
          0.4315320589872012,
          0.4164763112449793,
          0.4479212743699474,
          0.4588176295536167,
          0.5010478078817729
         ]
        },
        {
         "name": "Danceability",
         "type": "scatter",
         "x": [
          2000,
          2001,
          2002,
          2003,
          2004,
          2005,
          2006,
          2007,
          2008,
          2009,
          2010,
          2011,
          2012,
          2013,
          2014,
          2015,
          2016,
          2017,
          2018,
          2019,
          2020
         ],
         "y": [
          0.590918047034764,
          0.5833178553615969,
          0.5761602999999997,
          0.5757633060388944,
          0.5676803662258397,
          0.5722805641025652,
          0.5682301538461539,
          0.5634143589743592,
          0.5791928388746803,
          0.5641903571428577,
          0.5724883432539687,
          0.5528669806643526,
          0.5708818508997433,
          0.5711480263157896,
          0.5899476807980057,
          0.5937740628166152,
          0.6002023928770179,
          0.6122170180722886,
          0.6635004755111744,
          0.6448141097998967,
          0.6929043349753701
         ]
        },
        {
         "name": "Energy",
         "type": "scatter",
         "x": [
          2000,
          2001,
          2002,
          2003,
          2004,
          2005,
          2006,
          2007,
          2008,
          2009,
          2010,
          2011,
          2012,
          2013,
          2014,
          2015,
          2016,
          2017,
          2018,
          2019,
          2020
         ],
         "y": [
          0.6254128323108387,
          0.6269855221945144,
          0.6412697960000012,
          0.6601652610030712,
          0.6488679450661226,
          0.653208511282051,
          0.6503262820512825,
          0.6683047743589737,
          0.6714608207672623,
          0.6707487551020408,
          0.6817778026289684,
          0.6483008934060499,
          0.6565714601542408,
          0.6455968914473688,
          0.6487954437905223,
          0.6270642715298895,
          0.5928552316082347,
          0.5904210208835337,
          0.6024346220161672,
          0.5932240360184717,
          0.6312316354679793
         ]
        },
        {
         "name": "Instrumentalness",
         "type": "scatter",
         "x": [
          2000,
          2001,
          2002,
          2003,
          2004,
          2005,
          2006,
          2007,
          2008,
          2009,
          2010,
          2011,
          2012,
          2013,
          2014,
          2015,
          2016,
          2017,
          2018,
          2019,
          2020
         ],
         "y": [
          0.1011677687934559,
          0.1072140189925186,
          0.0880483503149999,
          0.0830492746673491,
          0.0779340349084435,
          0.0901943611846154,
          0.0777014718769231,
          0.0729572680512819,
          0.0636620903171356,
          0.0758720736836735,
          0.0829805682192461,
          0.103772332166584,
          0.0852055206786631,
          0.0983650539170038,
          0.0765695548379051,
          0.1067868780547114,
          0.0939843871174179,
          0.0970906090662649,
          0.0542171216690441,
          0.0776402469728064,
          0.0163755243054187
         ]
        },
        {
         "name": "Liveness",
         "type": "scatter",
         "x": [
          2000,
          2001,
          2002,
          2003,
          2004,
          2005,
          2006,
          2007,
          2008,
          2009,
          2010,
          2011,
          2012,
          2013,
          2014,
          2015,
          2016,
          2017,
          2018,
          2019,
          2020
         ],
         "y": [
          0.1976860429447853,
          0.1870256359102248,
          0.1939111999999998,
          0.196976305015353,
          0.2021994404883014,
          0.1900816256410258,
          0.1882892820512821,
          0.1961265641025642,
          0.1984314066496162,
          0.2052522959183674,
          0.1997006448412699,
          0.2033088249876056,
          0.1897330077120824,
          0.1996308198380571,
          0.1918215960099752,
          0.1888564336372847,
          0.181169894268225,
          0.1917126004016064,
          0.1763255349500711,
          0.1726164186762446,
          0.1785354187192117
         ]
        },
        {
         "name": "Speechiness",
         "type": "scatter",
         "x": [
          2000,
          2001,
          2002,
          2003,
          2004,
          2005,
          2006,
          2007,
          2008,
          2009,
          2010,
          2011,
          2012,
          2013,
          2014,
          2015,
          2016,
          2017,
          2018,
          2019,
          2020
         ],
         "y": [
          0.0892054192229039,
          0.0891822942643391,
          0.0843075999999999,
          0.0939257420675538,
          0.0942388097660224,
          0.093333692307692,
          0.0858467692307692,
          0.0843473333333333,
          0.077356368286445,
          0.0854578061224489,
          0.0810314980158731,
          0.087479276152702,
          0.081742467866324,
          0.0938488866396761,
          0.0840605486284289,
          0.0967792299898684,
          0.1043132999443518,
          0.1105364959839356,
          0.1271755587256302,
          0.1210433555669573,
          0.1413836945812805
         ]
        }
       ],
       "layout": {
        "template": {
         "data": {
          "bar": [
           {
            "error_x": {
             "color": "#2a3f5f"
            },
            "error_y": {
             "color": "#2a3f5f"
            },
            "marker": {
             "line": {
              "color": "#E5ECF6",
              "width": 0.5
             },
             "pattern": {
              "fillmode": "overlay",
              "size": 10,
              "solidity": 0.2
             }
            },
            "type": "bar"
           }
          ],
          "barpolar": [
           {
            "marker": {
             "line": {
              "color": "#E5ECF6",
              "width": 0.5
             },
             "pattern": {
              "fillmode": "overlay",
              "size": 10,
              "solidity": 0.2
             }
            },
            "type": "barpolar"
           }
          ],
          "carpet": [
           {
            "aaxis": {
             "endlinecolor": "#2a3f5f",
             "gridcolor": "white",
             "linecolor": "white",
             "minorgridcolor": "white",
             "startlinecolor": "#2a3f5f"
            },
            "baxis": {
             "endlinecolor": "#2a3f5f",
             "gridcolor": "white",
             "linecolor": "white",
             "minorgridcolor": "white",
             "startlinecolor": "#2a3f5f"
            },
            "type": "carpet"
           }
          ],
          "choropleth": [
           {
            "colorbar": {
             "outlinewidth": 0,
             "ticks": ""
            },
            "type": "choropleth"
           }
          ],
          "contour": [
           {
            "colorbar": {
             "outlinewidth": 0,
             "ticks": ""
            },
            "colorscale": [
             [
              0,
              "#0d0887"
             ],
             [
              0.1111111111111111,
              "#46039f"
             ],
             [
              0.2222222222222222,
              "#7201a8"
             ],
             [
              0.3333333333333333,
              "#9c179e"
             ],
             [
              0.4444444444444444,
              "#bd3786"
             ],
             [
              0.5555555555555556,
              "#d8576b"
             ],
             [
              0.6666666666666666,
              "#ed7953"
             ],
             [
              0.7777777777777778,
              "#fb9f3a"
             ],
             [
              0.8888888888888888,
              "#fdca26"
             ],
             [
              1,
              "#f0f921"
             ]
            ],
            "type": "contour"
           }
          ],
          "contourcarpet": [
           {
            "colorbar": {
             "outlinewidth": 0,
             "ticks": ""
            },
            "type": "contourcarpet"
           }
          ],
          "heatmap": [
           {
            "colorbar": {
             "outlinewidth": 0,
             "ticks": ""
            },
            "colorscale": [
             [
              0,
              "#0d0887"
             ],
             [
              0.1111111111111111,
              "#46039f"
             ],
             [
              0.2222222222222222,
              "#7201a8"
             ],
             [
              0.3333333333333333,
              "#9c179e"
             ],
             [
              0.4444444444444444,
              "#bd3786"
             ],
             [
              0.5555555555555556,
              "#d8576b"
             ],
             [
              0.6666666666666666,
              "#ed7953"
             ],
             [
              0.7777777777777778,
              "#fb9f3a"
             ],
             [
              0.8888888888888888,
              "#fdca26"
             ],
             [
              1,
              "#f0f921"
             ]
            ],
            "type": "heatmap"
           }
          ],
          "heatmapgl": [
           {
            "colorbar": {
             "outlinewidth": 0,
             "ticks": ""
            },
            "colorscale": [
             [
              0,
              "#0d0887"
             ],
             [
              0.1111111111111111,
              "#46039f"
             ],
             [
              0.2222222222222222,
              "#7201a8"
             ],
             [
              0.3333333333333333,
              "#9c179e"
             ],
             [
              0.4444444444444444,
              "#bd3786"
             ],
             [
              0.5555555555555556,
              "#d8576b"
             ],
             [
              0.6666666666666666,
              "#ed7953"
             ],
             [
              0.7777777777777778,
              "#fb9f3a"
             ],
             [
              0.8888888888888888,
              "#fdca26"
             ],
             [
              1,
              "#f0f921"
             ]
            ],
            "type": "heatmapgl"
           }
          ],
          "histogram": [
           {
            "marker": {
             "pattern": {
              "fillmode": "overlay",
              "size": 10,
              "solidity": 0.2
             }
            },
            "type": "histogram"
           }
          ],
          "histogram2d": [
           {
            "colorbar": {
             "outlinewidth": 0,
             "ticks": ""
            },
            "colorscale": [
             [
              0,
              "#0d0887"
             ],
             [
              0.1111111111111111,
              "#46039f"
             ],
             [
              0.2222222222222222,
              "#7201a8"
             ],
             [
              0.3333333333333333,
              "#9c179e"
             ],
             [
              0.4444444444444444,
              "#bd3786"
             ],
             [
              0.5555555555555556,
              "#d8576b"
             ],
             [
              0.6666666666666666,
              "#ed7953"
             ],
             [
              0.7777777777777778,
              "#fb9f3a"
             ],
             [
              0.8888888888888888,
              "#fdca26"
             ],
             [
              1,
              "#f0f921"
             ]
            ],
            "type": "histogram2d"
           }
          ],
          "histogram2dcontour": [
           {
            "colorbar": {
             "outlinewidth": 0,
             "ticks": ""
            },
            "colorscale": [
             [
              0,
              "#0d0887"
             ],
             [
              0.1111111111111111,
              "#46039f"
             ],
             [
              0.2222222222222222,
              "#7201a8"
             ],
             [
              0.3333333333333333,
              "#9c179e"
             ],
             [
              0.4444444444444444,
              "#bd3786"
             ],
             [
              0.5555555555555556,
              "#d8576b"
             ],
             [
              0.6666666666666666,
              "#ed7953"
             ],
             [
              0.7777777777777778,
              "#fb9f3a"
             ],
             [
              0.8888888888888888,
              "#fdca26"
             ],
             [
              1,
              "#f0f921"
             ]
            ],
            "type": "histogram2dcontour"
           }
          ],
          "mesh3d": [
           {
            "colorbar": {
             "outlinewidth": 0,
             "ticks": ""
            },
            "type": "mesh3d"
           }
          ],
          "parcoords": [
           {
            "line": {
             "colorbar": {
              "outlinewidth": 0,
              "ticks": ""
             }
            },
            "type": "parcoords"
           }
          ],
          "pie": [
           {
            "automargin": true,
            "type": "pie"
           }
          ],
          "scatter": [
           {
            "fillpattern": {
             "fillmode": "overlay",
             "size": 10,
             "solidity": 0.2
            },
            "type": "scatter"
           }
          ],
          "scatter3d": [
           {
            "line": {
             "colorbar": {
              "outlinewidth": 0,
              "ticks": ""
             }
            },
            "marker": {
             "colorbar": {
              "outlinewidth": 0,
              "ticks": ""
             }
            },
            "type": "scatter3d"
           }
          ],
          "scattercarpet": [
           {
            "marker": {
             "colorbar": {
              "outlinewidth": 0,
              "ticks": ""
             }
            },
            "type": "scattercarpet"
           }
          ],
          "scattergeo": [
           {
            "marker": {
             "colorbar": {
              "outlinewidth": 0,
              "ticks": ""
             }
            },
            "type": "scattergeo"
           }
          ],
          "scattergl": [
           {
            "marker": {
             "colorbar": {
              "outlinewidth": 0,
              "ticks": ""
             }
            },
            "type": "scattergl"
           }
          ],
          "scattermapbox": [
           {
            "marker": {
             "colorbar": {
              "outlinewidth": 0,
              "ticks": ""
             }
            },
            "type": "scattermapbox"
           }
          ],
          "scatterpolar": [
           {
            "marker": {
             "colorbar": {
              "outlinewidth": 0,
              "ticks": ""
             }
            },
            "type": "scatterpolar"
           }
          ],
          "scatterpolargl": [
           {
            "marker": {
             "colorbar": {
              "outlinewidth": 0,
              "ticks": ""
             }
            },
            "type": "scatterpolargl"
           }
          ],
          "scatterternary": [
           {
            "marker": {
             "colorbar": {
              "outlinewidth": 0,
              "ticks": ""
             }
            },
            "type": "scatterternary"
           }
          ],
          "surface": [
           {
            "colorbar": {
             "outlinewidth": 0,
             "ticks": ""
            },
            "colorscale": [
             [
              0,
              "#0d0887"
             ],
             [
              0.1111111111111111,
              "#46039f"
             ],
             [
              0.2222222222222222,
              "#7201a8"
             ],
             [
              0.3333333333333333,
              "#9c179e"
             ],
             [
              0.4444444444444444,
              "#bd3786"
             ],
             [
              0.5555555555555556,
              "#d8576b"
             ],
             [
              0.6666666666666666,
              "#ed7953"
             ],
             [
              0.7777777777777778,
              "#fb9f3a"
             ],
             [
              0.8888888888888888,
              "#fdca26"
             ],
             [
              1,
              "#f0f921"
             ]
            ],
            "type": "surface"
           }
          ],
          "table": [
           {
            "cells": {
             "fill": {
              "color": "#EBF0F8"
             },
             "line": {
              "color": "white"
             }
            },
            "header": {
             "fill": {
              "color": "#C8D4E3"
             },
             "line": {
              "color": "white"
             }
            },
            "type": "table"
           }
          ]
         },
         "layout": {
          "annotationdefaults": {
           "arrowcolor": "#2a3f5f",
           "arrowhead": 0,
           "arrowwidth": 1
          },
          "autotypenumbers": "strict",
          "coloraxis": {
           "colorbar": {
            "outlinewidth": 0,
            "ticks": ""
           }
          },
          "colorscale": {
           "diverging": [
            [
             0,
             "#8e0152"
            ],
            [
             0.1,
             "#c51b7d"
            ],
            [
             0.2,
             "#de77ae"
            ],
            [
             0.3,
             "#f1b6da"
            ],
            [
             0.4,
             "#fde0ef"
            ],
            [
             0.5,
             "#f7f7f7"
            ],
            [
             0.6,
             "#e6f5d0"
            ],
            [
             0.7,
             "#b8e186"
            ],
            [
             0.8,
             "#7fbc41"
            ],
            [
             0.9,
             "#4d9221"
            ],
            [
             1,
             "#276419"
            ]
           ],
           "sequential": [
            [
             0,
             "#0d0887"
            ],
            [
             0.1111111111111111,
             "#46039f"
            ],
            [
             0.2222222222222222,
             "#7201a8"
            ],
            [
             0.3333333333333333,
             "#9c179e"
            ],
            [
             0.4444444444444444,
             "#bd3786"
            ],
            [
             0.5555555555555556,
             "#d8576b"
            ],
            [
             0.6666666666666666,
             "#ed7953"
            ],
            [
             0.7777777777777778,
             "#fb9f3a"
            ],
            [
             0.8888888888888888,
             "#fdca26"
            ],
            [
             1,
             "#f0f921"
            ]
           ],
           "sequentialminus": [
            [
             0,
             "#0d0887"
            ],
            [
             0.1111111111111111,
             "#46039f"
            ],
            [
             0.2222222222222222,
             "#7201a8"
            ],
            [
             0.3333333333333333,
             "#9c179e"
            ],
            [
             0.4444444444444444,
             "#bd3786"
            ],
            [
             0.5555555555555556,
             "#d8576b"
            ],
            [
             0.6666666666666666,
             "#ed7953"
            ],
            [
             0.7777777777777778,
             "#fb9f3a"
            ],
            [
             0.8888888888888888,
             "#fdca26"
            ],
            [
             1,
             "#f0f921"
            ]
           ]
          },
          "colorway": [
           "#636efa",
           "#EF553B",
           "#00cc96",
           "#ab63fa",
           "#FFA15A",
           "#19d3f3",
           "#FF6692",
           "#B6E880",
           "#FF97FF",
           "#FECB52"
          ],
          "font": {
           "color": "#2a3f5f"
          },
          "geo": {
           "bgcolor": "white",
           "lakecolor": "white",
           "landcolor": "#E5ECF6",
           "showlakes": true,
           "showland": true,
           "subunitcolor": "white"
          },
          "hoverlabel": {
           "align": "left"
          },
          "hovermode": "closest",
          "mapbox": {
           "style": "light"
          },
          "paper_bgcolor": "white",
          "plot_bgcolor": "#E5ECF6",
          "polar": {
           "angularaxis": {
            "gridcolor": "white",
            "linecolor": "white",
            "ticks": ""
           },
           "bgcolor": "#E5ECF6",
           "radialaxis": {
            "gridcolor": "white",
            "linecolor": "white",
            "ticks": ""
           }
          },
          "scene": {
           "xaxis": {
            "backgroundcolor": "#E5ECF6",
            "gridcolor": "white",
            "gridwidth": 2,
            "linecolor": "white",
            "showbackground": true,
            "ticks": "",
            "zerolinecolor": "white"
           },
           "yaxis": {
            "backgroundcolor": "#E5ECF6",
            "gridcolor": "white",
            "gridwidth": 2,
            "linecolor": "white",
            "showbackground": true,
            "ticks": "",
            "zerolinecolor": "white"
           },
           "zaxis": {
            "backgroundcolor": "#E5ECF6",
            "gridcolor": "white",
            "gridwidth": 2,
            "linecolor": "white",
            "showbackground": true,
            "ticks": "",
            "zerolinecolor": "white"
           }
          },
          "shapedefaults": {
           "line": {
            "color": "#2a3f5f"
           }
          },
          "ternary": {
           "aaxis": {
            "gridcolor": "white",
            "linecolor": "white",
            "ticks": ""
           },
           "baxis": {
            "gridcolor": "white",
            "linecolor": "white",
            "ticks": ""
           },
           "bgcolor": "#E5ECF6",
           "caxis": {
            "gridcolor": "white",
            "linecolor": "white",
            "ticks": ""
           }
          },
          "title": {
           "x": 0.05
          },
          "xaxis": {
           "automargin": true,
           "gridcolor": "white",
           "linecolor": "white",
           "ticks": "",
           "title": {
            "standoff": 15
           },
           "zerolinecolor": "white",
           "zerolinewidth": 2
          },
          "yaxis": {
           "automargin": true,
           "gridcolor": "white",
           "linecolor": "white",
           "ticks": "",
           "title": {
            "standoff": 15
           },
           "zerolinecolor": "white",
           "zerolinewidth": 2
          }
         }
        }
       }
      }
     },
     "metadata": {},
     "output_type": "display_data"
    }
   ],
   "source": [
    "fig = go.Figure()\n",
    "\n",
    "fig.add_trace(go.Scatter(x=data_by_year[\"year\"], y=data_by_year[\"acousticness\"],\n",
    "                                                name=\"Acousticness\"))\n",
    "fig.add_trace(go.Scatter(x=data_by_year[\"year\"], y=data_by_year[\"valence\"],\n",
    "                                                name=\"Valence\"))\n",
    "fig.add_trace(go.Scatter(x=data_by_year[\"year\"], y=data_by_year[\"danceability\"],\n",
    "                                                name=\"Danceability\"))\n",
    "fig.add_trace(go.Scatter(x=data_by_year[\"year\"], y=data_by_year[\"energy\"],\n",
    "                                                name=\"Energy\"))\n",
    "fig.add_trace(go.Scatter(x=data_by_year[\"year\"], y=data_by_year[\"instrumentalness\"],\n",
    "                                                name=\"Instrumentalness\"))\n",
    "fig.add_trace(go.Scatter(x=data_by_year[\"year\"], y=data_by_year[\"liveness\"],\n",
    "                                                name=\"Liveness\"))\n",
    "fig.add_trace(go.Scatter(x=data_by_year[\"year\"], y=data_by_year[\"speechiness\"],\n",
    "                                                name=\"Speechiness\"))\n",
    "\n",
    "fig.show()"
   ]
  },
  {
   "cell_type": "code",
   "execution_count": 26,
   "metadata": {},
   "outputs": [
    {
     "name": "stderr",
     "output_type": "stream",
     "text": [
      "/tmp/ipykernel_530939/2794360484.py:1: FutureWarning:\n",
      "\n",
      "The default value of numeric_only in DataFrame.corr is deprecated. In a future version, it will default to False. Select only valid columns or specify the value of numeric_only to silence this warning.\n",
      "\n"
     ]
    },
    {
     "data": {
      "application/vnd.plotly.v1+json": {
       "config": {
        "plotlyServerURL": "https://plot.ly"
       },
       "data": [
        {
         "coloraxis": "coloraxis",
         "hovertemplate": "x: %{x}<br>y: %{y}<br>color: %{z}<extra></extra>",
         "name": "0",
         "texttemplate": "%{z}",
         "type": "heatmap",
         "x": [
          "valence",
          "year",
          "acousticness",
          "danceability",
          "duration_ms",
          "energy",
          "instrumentalness",
          "liveness",
          "loudness",
          "popularity",
          "speechiness",
          "tempo"
         ],
         "xaxis": "x",
         "y": [
          "valence",
          "year",
          "acousticness",
          "danceability",
          "duration_ms",
          "energy",
          "instrumentalness",
          "liveness",
          "loudness",
          "popularity",
          "speechiness",
          "tempo"
         ],
         "yaxis": "y",
         "z": [
          [
           1,
           -0.11152818996552269,
           -0.17906507578880113,
           0.4706016928505381,
           -0.19255117869290994,
           0.35029199798428345,
           -0.2557841048653347,
           0.02221366049722543,
           0.3378977669900986,
           -0.02666406634639214,
           0.08252614933102408,
           0.07315334866798318
          ],
          [
           -0.11152818996552269,
           1,
           -0.011224012558530316,
           0.17440028973064198,
           -0.14627395555186518,
           -0.06995658525945365,
           -0.13203456252176587,
           -0.04295002368784964,
           0.052483197651396335,
           0.5520537744643068,
           0.12405143773766447,
           0.02311722172289499
          ],
          [
           -0.17906507578880113,
           -0.011224012558530316,
           1,
           -0.1758942916516538,
           -0.05596681465486787,
           -0.7091107964699702,
           0.29973973152822125,
           -0.09844289738151028,
           -0.6036127005064934,
           -0.03187901141421101,
           -0.12082482277726948,
           -0.15474122793050457
          ],
          [
           0.4706016928505381,
           0.17440028973064198,
           -0.1758942916516538,
           1,
           -0.15971497774585897,
           0.08735820678113757,
           -0.3142998559030547,
           -0.0696597044523255,
           0.2679343205070181,
           0.1809607849711362,
           0.2267015756782655,
           -0.09486499562608043
          ],
          [
           -0.19255117869290994,
           -0.14627395555186518,
           -0.05596681465486787,
           -0.15971497774585897,
           1,
           0.014565108670534132,
           0.07164598789913075,
           0.052743206410793615,
           -0.017003038059048684,
           -0.10932110003241752,
           -0.02851359221465405,
           -0.028602148844984
          ],
          [
           0.35029199798428345,
           -0.06995658525945365,
           -0.7091107964699702,
           0.08735820678113757,
           0.014565108670534132,
           1,
           -0.3164682501295295,
           0.17387777376175623,
           0.7595724242928918,
           -0.028459539491050623,
           0.11401773090551177,
           0.1916455676981815
          ],
          [
           -0.2557841048653347,
           -0.13203456252176587,
           0.29973973152822125,
           -0.3142998559030547,
           0.07164598789913075,
           -0.3164682501295295,
           1,
           -0.06234712806061889,
           -0.5588938236531733,
           -0.12504620012490858,
           -0.1371187140191706,
           -0.09444020881622293
          ],
          [
           0.02221366049722543,
           -0.04295002368784964,
           -0.09844289738151028,
           -0.0696597044523255,
           0.052743206410793615,
           0.17387777376175623,
           -0.06234712806061889,
           1,
           0.09144172661855732,
           -0.06860593075406679,
           0.11955070410710385,
           0.014857567069808593
          ],
          [
           0.3378977669900986,
           0.052483197651396335,
           -0.6036127005064934,
           0.2679343205070181,
           -0.017003038059048684,
           0.7595724242928918,
           -0.5588938236531733,
           0.09144172661855732,
           1,
           0.09292468076617552,
           0.07902873344113712,
           0.18045939002871472
          ],
          [
           -0.02666406634639214,
           0.5520537744643068,
           -0.03187901141421101,
           0.1809607849711362,
           -0.10932110003241752,
           -0.028459539491050623,
           -0.12504620012490858,
           -0.06860593075406679,
           0.09292468076617552,
           1,
           0.057125553208252515,
           -0.00033755419876421543
          ],
          [
           0.08252614933102408,
           0.12405143773766447,
           -0.12082482277726948,
           0.2267015756782655,
           -0.02851359221465405,
           0.11401773090551177,
           -0.1371187140191706,
           0.11955070410710385,
           0.07902873344113712,
           0.057125553208252515,
           1,
           0.04062153175888837
          ],
          [
           0.07315334866798318,
           0.02311722172289499,
           -0.15474122793050457,
           -0.09486499562608043,
           -0.028602148844984,
           0.1916455676981815,
           -0.09444020881622293,
           0.014857567069808593,
           0.18045939002871472,
           -0.00033755419876421543,
           0.04062153175888837,
           1
          ]
         ]
        }
       ],
       "layout": {
        "coloraxis": {
         "colorscale": [
          [
           0,
           "#0d0887"
          ],
          [
           0.1111111111111111,
           "#46039f"
          ],
          [
           0.2222222222222222,
           "#7201a8"
          ],
          [
           0.3333333333333333,
           "#9c179e"
          ],
          [
           0.4444444444444444,
           "#bd3786"
          ],
          [
           0.5555555555555556,
           "#d8576b"
          ],
          [
           0.6666666666666666,
           "#ed7953"
          ],
          [
           0.7777777777777778,
           "#fb9f3a"
          ],
          [
           0.8888888888888888,
           "#fdca26"
          ],
          [
           1,
           "#f0f921"
          ]
         ]
        },
        "margin": {
         "t": 60
        },
        "template": {
         "data": {
          "bar": [
           {
            "error_x": {
             "color": "#2a3f5f"
            },
            "error_y": {
             "color": "#2a3f5f"
            },
            "marker": {
             "line": {
              "color": "#E5ECF6",
              "width": 0.5
             },
             "pattern": {
              "fillmode": "overlay",
              "size": 10,
              "solidity": 0.2
             }
            },
            "type": "bar"
           }
          ],
          "barpolar": [
           {
            "marker": {
             "line": {
              "color": "#E5ECF6",
              "width": 0.5
             },
             "pattern": {
              "fillmode": "overlay",
              "size": 10,
              "solidity": 0.2
             }
            },
            "type": "barpolar"
           }
          ],
          "carpet": [
           {
            "aaxis": {
             "endlinecolor": "#2a3f5f",
             "gridcolor": "white",
             "linecolor": "white",
             "minorgridcolor": "white",
             "startlinecolor": "#2a3f5f"
            },
            "baxis": {
             "endlinecolor": "#2a3f5f",
             "gridcolor": "white",
             "linecolor": "white",
             "minorgridcolor": "white",
             "startlinecolor": "#2a3f5f"
            },
            "type": "carpet"
           }
          ],
          "choropleth": [
           {
            "colorbar": {
             "outlinewidth": 0,
             "ticks": ""
            },
            "type": "choropleth"
           }
          ],
          "contour": [
           {
            "colorbar": {
             "outlinewidth": 0,
             "ticks": ""
            },
            "colorscale": [
             [
              0,
              "#0d0887"
             ],
             [
              0.1111111111111111,
              "#46039f"
             ],
             [
              0.2222222222222222,
              "#7201a8"
             ],
             [
              0.3333333333333333,
              "#9c179e"
             ],
             [
              0.4444444444444444,
              "#bd3786"
             ],
             [
              0.5555555555555556,
              "#d8576b"
             ],
             [
              0.6666666666666666,
              "#ed7953"
             ],
             [
              0.7777777777777778,
              "#fb9f3a"
             ],
             [
              0.8888888888888888,
              "#fdca26"
             ],
             [
              1,
              "#f0f921"
             ]
            ],
            "type": "contour"
           }
          ],
          "contourcarpet": [
           {
            "colorbar": {
             "outlinewidth": 0,
             "ticks": ""
            },
            "type": "contourcarpet"
           }
          ],
          "heatmap": [
           {
            "colorbar": {
             "outlinewidth": 0,
             "ticks": ""
            },
            "colorscale": [
             [
              0,
              "#0d0887"
             ],
             [
              0.1111111111111111,
              "#46039f"
             ],
             [
              0.2222222222222222,
              "#7201a8"
             ],
             [
              0.3333333333333333,
              "#9c179e"
             ],
             [
              0.4444444444444444,
              "#bd3786"
             ],
             [
              0.5555555555555556,
              "#d8576b"
             ],
             [
              0.6666666666666666,
              "#ed7953"
             ],
             [
              0.7777777777777778,
              "#fb9f3a"
             ],
             [
              0.8888888888888888,
              "#fdca26"
             ],
             [
              1,
              "#f0f921"
             ]
            ],
            "type": "heatmap"
           }
          ],
          "heatmapgl": [
           {
            "colorbar": {
             "outlinewidth": 0,
             "ticks": ""
            },
            "colorscale": [
             [
              0,
              "#0d0887"
             ],
             [
              0.1111111111111111,
              "#46039f"
             ],
             [
              0.2222222222222222,
              "#7201a8"
             ],
             [
              0.3333333333333333,
              "#9c179e"
             ],
             [
              0.4444444444444444,
              "#bd3786"
             ],
             [
              0.5555555555555556,
              "#d8576b"
             ],
             [
              0.6666666666666666,
              "#ed7953"
             ],
             [
              0.7777777777777778,
              "#fb9f3a"
             ],
             [
              0.8888888888888888,
              "#fdca26"
             ],
             [
              1,
              "#f0f921"
             ]
            ],
            "type": "heatmapgl"
           }
          ],
          "histogram": [
           {
            "marker": {
             "pattern": {
              "fillmode": "overlay",
              "size": 10,
              "solidity": 0.2
             }
            },
            "type": "histogram"
           }
          ],
          "histogram2d": [
           {
            "colorbar": {
             "outlinewidth": 0,
             "ticks": ""
            },
            "colorscale": [
             [
              0,
              "#0d0887"
             ],
             [
              0.1111111111111111,
              "#46039f"
             ],
             [
              0.2222222222222222,
              "#7201a8"
             ],
             [
              0.3333333333333333,
              "#9c179e"
             ],
             [
              0.4444444444444444,
              "#bd3786"
             ],
             [
              0.5555555555555556,
              "#d8576b"
             ],
             [
              0.6666666666666666,
              "#ed7953"
             ],
             [
              0.7777777777777778,
              "#fb9f3a"
             ],
             [
              0.8888888888888888,
              "#fdca26"
             ],
             [
              1,
              "#f0f921"
             ]
            ],
            "type": "histogram2d"
           }
          ],
          "histogram2dcontour": [
           {
            "colorbar": {
             "outlinewidth": 0,
             "ticks": ""
            },
            "colorscale": [
             [
              0,
              "#0d0887"
             ],
             [
              0.1111111111111111,
              "#46039f"
             ],
             [
              0.2222222222222222,
              "#7201a8"
             ],
             [
              0.3333333333333333,
              "#9c179e"
             ],
             [
              0.4444444444444444,
              "#bd3786"
             ],
             [
              0.5555555555555556,
              "#d8576b"
             ],
             [
              0.6666666666666666,
              "#ed7953"
             ],
             [
              0.7777777777777778,
              "#fb9f3a"
             ],
             [
              0.8888888888888888,
              "#fdca26"
             ],
             [
              1,
              "#f0f921"
             ]
            ],
            "type": "histogram2dcontour"
           }
          ],
          "mesh3d": [
           {
            "colorbar": {
             "outlinewidth": 0,
             "ticks": ""
            },
            "type": "mesh3d"
           }
          ],
          "parcoords": [
           {
            "line": {
             "colorbar": {
              "outlinewidth": 0,
              "ticks": ""
             }
            },
            "type": "parcoords"
           }
          ],
          "pie": [
           {
            "automargin": true,
            "type": "pie"
           }
          ],
          "scatter": [
           {
            "fillpattern": {
             "fillmode": "overlay",
             "size": 10,
             "solidity": 0.2
            },
            "type": "scatter"
           }
          ],
          "scatter3d": [
           {
            "line": {
             "colorbar": {
              "outlinewidth": 0,
              "ticks": ""
             }
            },
            "marker": {
             "colorbar": {
              "outlinewidth": 0,
              "ticks": ""
             }
            },
            "type": "scatter3d"
           }
          ],
          "scattercarpet": [
           {
            "marker": {
             "colorbar": {
              "outlinewidth": 0,
              "ticks": ""
             }
            },
            "type": "scattercarpet"
           }
          ],
          "scattergeo": [
           {
            "marker": {
             "colorbar": {
              "outlinewidth": 0,
              "ticks": ""
             }
            },
            "type": "scattergeo"
           }
          ],
          "scattergl": [
           {
            "marker": {
             "colorbar": {
              "outlinewidth": 0,
              "ticks": ""
             }
            },
            "type": "scattergl"
           }
          ],
          "scattermapbox": [
           {
            "marker": {
             "colorbar": {
              "outlinewidth": 0,
              "ticks": ""
             }
            },
            "type": "scattermapbox"
           }
          ],
          "scatterpolar": [
           {
            "marker": {
             "colorbar": {
              "outlinewidth": 0,
              "ticks": ""
             }
            },
            "type": "scatterpolar"
           }
          ],
          "scatterpolargl": [
           {
            "marker": {
             "colorbar": {
              "outlinewidth": 0,
              "ticks": ""
             }
            },
            "type": "scatterpolargl"
           }
          ],
          "scatterternary": [
           {
            "marker": {
             "colorbar": {
              "outlinewidth": 0,
              "ticks": ""
             }
            },
            "type": "scatterternary"
           }
          ],
          "surface": [
           {
            "colorbar": {
             "outlinewidth": 0,
             "ticks": ""
            },
            "colorscale": [
             [
              0,
              "#0d0887"
             ],
             [
              0.1111111111111111,
              "#46039f"
             ],
             [
              0.2222222222222222,
              "#7201a8"
             ],
             [
              0.3333333333333333,
              "#9c179e"
             ],
             [
              0.4444444444444444,
              "#bd3786"
             ],
             [
              0.5555555555555556,
              "#d8576b"
             ],
             [
              0.6666666666666666,
              "#ed7953"
             ],
             [
              0.7777777777777778,
              "#fb9f3a"
             ],
             [
              0.8888888888888888,
              "#fdca26"
             ],
             [
              1,
              "#f0f921"
             ]
            ],
            "type": "surface"
           }
          ],
          "table": [
           {
            "cells": {
             "fill": {
              "color": "#EBF0F8"
             },
             "line": {
              "color": "white"
             }
            },
            "header": {
             "fill": {
              "color": "#C8D4E3"
             },
             "line": {
              "color": "white"
             }
            },
            "type": "table"
           }
          ]
         },
         "layout": {
          "annotationdefaults": {
           "arrowcolor": "#2a3f5f",
           "arrowhead": 0,
           "arrowwidth": 1
          },
          "autotypenumbers": "strict",
          "coloraxis": {
           "colorbar": {
            "outlinewidth": 0,
            "ticks": ""
           }
          },
          "colorscale": {
           "diverging": [
            [
             0,
             "#8e0152"
            ],
            [
             0.1,
             "#c51b7d"
            ],
            [
             0.2,
             "#de77ae"
            ],
            [
             0.3,
             "#f1b6da"
            ],
            [
             0.4,
             "#fde0ef"
            ],
            [
             0.5,
             "#f7f7f7"
            ],
            [
             0.6,
             "#e6f5d0"
            ],
            [
             0.7,
             "#b8e186"
            ],
            [
             0.8,
             "#7fbc41"
            ],
            [
             0.9,
             "#4d9221"
            ],
            [
             1,
             "#276419"
            ]
           ],
           "sequential": [
            [
             0,
             "#0d0887"
            ],
            [
             0.1111111111111111,
             "#46039f"
            ],
            [
             0.2222222222222222,
             "#7201a8"
            ],
            [
             0.3333333333333333,
             "#9c179e"
            ],
            [
             0.4444444444444444,
             "#bd3786"
            ],
            [
             0.5555555555555556,
             "#d8576b"
            ],
            [
             0.6666666666666666,
             "#ed7953"
            ],
            [
             0.7777777777777778,
             "#fb9f3a"
            ],
            [
             0.8888888888888888,
             "#fdca26"
            ],
            [
             1,
             "#f0f921"
            ]
           ],
           "sequentialminus": [
            [
             0,
             "#0d0887"
            ],
            [
             0.1111111111111111,
             "#46039f"
            ],
            [
             0.2222222222222222,
             "#7201a8"
            ],
            [
             0.3333333333333333,
             "#9c179e"
            ],
            [
             0.4444444444444444,
             "#bd3786"
            ],
            [
             0.5555555555555556,
             "#d8576b"
            ],
            [
             0.6666666666666666,
             "#ed7953"
            ],
            [
             0.7777777777777778,
             "#fb9f3a"
            ],
            [
             0.8888888888888888,
             "#fdca26"
            ],
            [
             1,
             "#f0f921"
            ]
           ]
          },
          "colorway": [
           "#636efa",
           "#EF553B",
           "#00cc96",
           "#ab63fa",
           "#FFA15A",
           "#19d3f3",
           "#FF6692",
           "#B6E880",
           "#FF97FF",
           "#FECB52"
          ],
          "font": {
           "color": "#2a3f5f"
          },
          "geo": {
           "bgcolor": "white",
           "lakecolor": "white",
           "landcolor": "#E5ECF6",
           "showlakes": true,
           "showland": true,
           "subunitcolor": "white"
          },
          "hoverlabel": {
           "align": "left"
          },
          "hovermode": "closest",
          "mapbox": {
           "style": "light"
          },
          "paper_bgcolor": "white",
          "plot_bgcolor": "#E5ECF6",
          "polar": {
           "angularaxis": {
            "gridcolor": "white",
            "linecolor": "white",
            "ticks": ""
           },
           "bgcolor": "#E5ECF6",
           "radialaxis": {
            "gridcolor": "white",
            "linecolor": "white",
            "ticks": ""
           }
          },
          "scene": {
           "xaxis": {
            "backgroundcolor": "#E5ECF6",
            "gridcolor": "white",
            "gridwidth": 2,
            "linecolor": "white",
            "showbackground": true,
            "ticks": "",
            "zerolinecolor": "white"
           },
           "yaxis": {
            "backgroundcolor": "#E5ECF6",
            "gridcolor": "white",
            "gridwidth": 2,
            "linecolor": "white",
            "showbackground": true,
            "ticks": "",
            "zerolinecolor": "white"
           },
           "zaxis": {
            "backgroundcolor": "#E5ECF6",
            "gridcolor": "white",
            "gridwidth": 2,
            "linecolor": "white",
            "showbackground": true,
            "ticks": "",
            "zerolinecolor": "white"
           }
          },
          "shapedefaults": {
           "line": {
            "color": "#2a3f5f"
           }
          },
          "ternary": {
           "aaxis": {
            "gridcolor": "white",
            "linecolor": "white",
            "ticks": ""
           },
           "baxis": {
            "gridcolor": "white",
            "linecolor": "white",
            "ticks": ""
           },
           "bgcolor": "#E5ECF6",
           "caxis": {
            "gridcolor": "white",
            "linecolor": "white",
            "ticks": ""
           }
          },
          "title": {
           "x": 0.05
          },
          "xaxis": {
           "automargin": true,
           "gridcolor": "white",
           "linecolor": "white",
           "ticks": "",
           "title": {
            "standoff": 15
           },
           "zerolinecolor": "white",
           "zerolinewidth": 2
          },
          "yaxis": {
           "automargin": true,
           "gridcolor": "white",
           "linecolor": "white",
           "ticks": "",
           "title": {
            "standoff": 15
           },
           "zerolinecolor": "white",
           "zerolinewidth": 2
          }
         }
        },
        "xaxis": {
         "anchor": "y",
         "constrain": "domain",
         "domain": [
          0,
          1
         ],
         "scaleanchor": "y"
        },
        "yaxis": {
         "anchor": "x",
         "autorange": "reversed",
         "constrain": "domain",
         "domain": [
          0,
          1
         ]
        }
       }
      }
     },
     "metadata": {},
     "output_type": "display_data"
    }
   ],
   "source": [
    "corr_matrix = px.imshow(total_data.corr(), text_auto=True)\n",
    "corr_matrix.show()"
   ]
  },
  {
   "cell_type": "code",
   "execution_count": null,
   "metadata": {},
   "outputs": [],
   "source": []
  },
  {
   "attachments": {},
   "cell_type": "markdown",
   "metadata": {},
   "source": [
    "# 02. Clusterização por gênero"
   ]
  },
  {
   "attachments": {},
   "cell_type": "markdown",
   "metadata": {},
   "source": [
    "## 2.1 PCA e StandarScaler"
   ]
  },
  {
   "cell_type": "code",
   "execution_count": 29,
   "metadata": {},
   "outputs": [
    {
     "data": {
      "text/html": [
       "<div>\n",
       "<style scoped>\n",
       "    .dataframe tbody tr th:only-of-type {\n",
       "        vertical-align: middle;\n",
       "    }\n",
       "\n",
       "    .dataframe tbody tr th {\n",
       "        vertical-align: top;\n",
       "    }\n",
       "\n",
       "    .dataframe thead th {\n",
       "        text-align: right;\n",
       "    }\n",
       "</style>\n",
       "<table border=\"1\" class=\"dataframe\">\n",
       "  <thead>\n",
       "    <tr style=\"text-align: right;\">\n",
       "      <th></th>\n",
       "      <th>genres</th>\n",
       "      <th>acousticness</th>\n",
       "      <th>danceability</th>\n",
       "      <th>duration_ms</th>\n",
       "      <th>energy</th>\n",
       "      <th>instrumentalness</th>\n",
       "      <th>liveness</th>\n",
       "      <th>loudness</th>\n",
       "      <th>speechiness</th>\n",
       "      <th>tempo</th>\n",
       "      <th>valence</th>\n",
       "      <th>popularity</th>\n",
       "    </tr>\n",
       "  </thead>\n",
       "  <tbody>\n",
       "    <tr>\n",
       "      <th>0</th>\n",
       "      <td>21st century classical</td>\n",
       "      <td>0.979333</td>\n",
       "      <td>0.162883</td>\n",
       "      <td>1.602977e+05</td>\n",
       "      <td>0.071317</td>\n",
       "      <td>0.606834</td>\n",
       "      <td>0.361600</td>\n",
       "      <td>-31.514333</td>\n",
       "      <td>0.040567</td>\n",
       "      <td>75.336500</td>\n",
       "      <td>0.103783</td>\n",
       "      <td>27.833333</td>\n",
       "    </tr>\n",
       "    <tr>\n",
       "      <th>1</th>\n",
       "      <td>432hz</td>\n",
       "      <td>0.494780</td>\n",
       "      <td>0.299333</td>\n",
       "      <td>1.048887e+06</td>\n",
       "      <td>0.450678</td>\n",
       "      <td>0.477762</td>\n",
       "      <td>0.131000</td>\n",
       "      <td>-16.854000</td>\n",
       "      <td>0.076817</td>\n",
       "      <td>120.285667</td>\n",
       "      <td>0.221750</td>\n",
       "      <td>52.500000</td>\n",
       "    </tr>\n",
       "    <tr>\n",
       "      <th>2</th>\n",
       "      <td>8-bit</td>\n",
       "      <td>0.762000</td>\n",
       "      <td>0.712000</td>\n",
       "      <td>1.151770e+05</td>\n",
       "      <td>0.818000</td>\n",
       "      <td>0.876000</td>\n",
       "      <td>0.126000</td>\n",
       "      <td>-9.180000</td>\n",
       "      <td>0.047000</td>\n",
       "      <td>133.444000</td>\n",
       "      <td>0.975000</td>\n",
       "      <td>48.000000</td>\n",
       "    </tr>\n",
       "    <tr>\n",
       "      <th>3</th>\n",
       "      <td>[]</td>\n",
       "      <td>0.651417</td>\n",
       "      <td>0.529093</td>\n",
       "      <td>2.328809e+05</td>\n",
       "      <td>0.419146</td>\n",
       "      <td>0.205309</td>\n",
       "      <td>0.218696</td>\n",
       "      <td>-12.288965</td>\n",
       "      <td>0.107872</td>\n",
       "      <td>112.857352</td>\n",
       "      <td>0.513604</td>\n",
       "      <td>20.859882</td>\n",
       "    </tr>\n",
       "    <tr>\n",
       "      <th>4</th>\n",
       "      <td>a cappella</td>\n",
       "      <td>0.676557</td>\n",
       "      <td>0.538961</td>\n",
       "      <td>1.906285e+05</td>\n",
       "      <td>0.316434</td>\n",
       "      <td>0.003003</td>\n",
       "      <td>0.172254</td>\n",
       "      <td>-12.479387</td>\n",
       "      <td>0.082851</td>\n",
       "      <td>112.110362</td>\n",
       "      <td>0.448249</td>\n",
       "      <td>45.820071</td>\n",
       "    </tr>\n",
       "    <tr>\n",
       "      <th>...</th>\n",
       "      <td>...</td>\n",
       "      <td>...</td>\n",
       "      <td>...</td>\n",
       "      <td>...</td>\n",
       "      <td>...</td>\n",
       "      <td>...</td>\n",
       "      <td>...</td>\n",
       "      <td>...</td>\n",
       "      <td>...</td>\n",
       "      <td>...</td>\n",
       "      <td>...</td>\n",
       "      <td>...</td>\n",
       "    </tr>\n",
       "    <tr>\n",
       "      <th>2968</th>\n",
       "      <td>zolo</td>\n",
       "      <td>0.222625</td>\n",
       "      <td>0.547082</td>\n",
       "      <td>2.580991e+05</td>\n",
       "      <td>0.610240</td>\n",
       "      <td>0.143872</td>\n",
       "      <td>0.204206</td>\n",
       "      <td>-11.295878</td>\n",
       "      <td>0.061088</td>\n",
       "      <td>125.494919</td>\n",
       "      <td>0.596155</td>\n",
       "      <td>33.778943</td>\n",
       "    </tr>\n",
       "    <tr>\n",
       "      <th>2969</th>\n",
       "      <td>zouglou</td>\n",
       "      <td>0.161000</td>\n",
       "      <td>0.863000</td>\n",
       "      <td>2.063200e+05</td>\n",
       "      <td>0.909000</td>\n",
       "      <td>0.000000</td>\n",
       "      <td>0.108000</td>\n",
       "      <td>-5.985000</td>\n",
       "      <td>0.081300</td>\n",
       "      <td>119.038000</td>\n",
       "      <td>0.845000</td>\n",
       "      <td>58.000000</td>\n",
       "    </tr>\n",
       "    <tr>\n",
       "      <th>2970</th>\n",
       "      <td>zouk</td>\n",
       "      <td>0.263261</td>\n",
       "      <td>0.748889</td>\n",
       "      <td>3.060728e+05</td>\n",
       "      <td>0.622444</td>\n",
       "      <td>0.257227</td>\n",
       "      <td>0.089678</td>\n",
       "      <td>-10.289222</td>\n",
       "      <td>0.038778</td>\n",
       "      <td>101.965222</td>\n",
       "      <td>0.824111</td>\n",
       "      <td>46.666667</td>\n",
       "    </tr>\n",
       "    <tr>\n",
       "      <th>2971</th>\n",
       "      <td>zurich indie</td>\n",
       "      <td>0.993000</td>\n",
       "      <td>0.705667</td>\n",
       "      <td>1.984173e+05</td>\n",
       "      <td>0.172667</td>\n",
       "      <td>0.468633</td>\n",
       "      <td>0.179667</td>\n",
       "      <td>-11.453333</td>\n",
       "      <td>0.348667</td>\n",
       "      <td>91.278000</td>\n",
       "      <td>0.739000</td>\n",
       "      <td>0.000000</td>\n",
       "    </tr>\n",
       "    <tr>\n",
       "      <th>2972</th>\n",
       "      <td>zydeco</td>\n",
       "      <td>0.421038</td>\n",
       "      <td>0.629409</td>\n",
       "      <td>1.716717e+05</td>\n",
       "      <td>0.609369</td>\n",
       "      <td>0.019248</td>\n",
       "      <td>0.255877</td>\n",
       "      <td>-9.854825</td>\n",
       "      <td>0.050491</td>\n",
       "      <td>126.366087</td>\n",
       "      <td>0.808544</td>\n",
       "      <td>30.261905</td>\n",
       "    </tr>\n",
       "  </tbody>\n",
       "</table>\n",
       "<p>2973 rows × 12 columns</p>\n",
       "</div>"
      ],
      "text/plain": [
       "                      genres  acousticness  danceability   duration_ms  \\\n",
       "0     21st century classical      0.979333      0.162883  1.602977e+05   \n",
       "1                      432hz      0.494780      0.299333  1.048887e+06   \n",
       "2                      8-bit      0.762000      0.712000  1.151770e+05   \n",
       "3                         []      0.651417      0.529093  2.328809e+05   \n",
       "4                 a cappella      0.676557      0.538961  1.906285e+05   \n",
       "...                      ...           ...           ...           ...   \n",
       "2968                    zolo      0.222625      0.547082  2.580991e+05   \n",
       "2969                 zouglou      0.161000      0.863000  2.063200e+05   \n",
       "2970                    zouk      0.263261      0.748889  3.060728e+05   \n",
       "2971            zurich indie      0.993000      0.705667  1.984173e+05   \n",
       "2972                  zydeco      0.421038      0.629409  1.716717e+05   \n",
       "\n",
       "        energy  instrumentalness  liveness   loudness  speechiness  \\\n",
       "0     0.071317          0.606834  0.361600 -31.514333     0.040567   \n",
       "1     0.450678          0.477762  0.131000 -16.854000     0.076817   \n",
       "2     0.818000          0.876000  0.126000  -9.180000     0.047000   \n",
       "3     0.419146          0.205309  0.218696 -12.288965     0.107872   \n",
       "4     0.316434          0.003003  0.172254 -12.479387     0.082851   \n",
       "...        ...               ...       ...        ...          ...   \n",
       "2968  0.610240          0.143872  0.204206 -11.295878     0.061088   \n",
       "2969  0.909000          0.000000  0.108000  -5.985000     0.081300   \n",
       "2970  0.622444          0.257227  0.089678 -10.289222     0.038778   \n",
       "2971  0.172667          0.468633  0.179667 -11.453333     0.348667   \n",
       "2972  0.609369          0.019248  0.255877  -9.854825     0.050491   \n",
       "\n",
       "           tempo   valence  popularity  \n",
       "0      75.336500  0.103783   27.833333  \n",
       "1     120.285667  0.221750   52.500000  \n",
       "2     133.444000  0.975000   48.000000  \n",
       "3     112.857352  0.513604   20.859882  \n",
       "4     112.110362  0.448249   45.820071  \n",
       "...          ...       ...         ...  \n",
       "2968  125.494919  0.596155   33.778943  \n",
       "2969  119.038000  0.845000   58.000000  \n",
       "2970  101.965222  0.824111   46.666667  \n",
       "2971   91.278000  0.739000    0.000000  \n",
       "2972  126.366087  0.808544   30.261905  \n",
       "\n",
       "[2973 rows x 12 columns]"
      ]
     },
     "execution_count": 29,
     "metadata": {},
     "output_type": "execute_result"
    }
   ],
   "source": [
    "data_by_genre"
   ]
  },
  {
   "cell_type": "code",
   "execution_count": 31,
   "metadata": {},
   "outputs": [
    {
     "data": {
      "text/plain": [
       "2973"
      ]
     },
     "execution_count": 31,
     "metadata": {},
     "output_type": "execute_result"
    }
   ],
   "source": [
    "data_by_genre[\"genres\"].value_counts().sum()"
   ]
  },
  {
   "cell_type": "code",
   "execution_count": 33,
   "metadata": {},
   "outputs": [
    {
     "data": {
      "text/html": [
       "<div>\n",
       "<style scoped>\n",
       "    .dataframe tbody tr th:only-of-type {\n",
       "        vertical-align: middle;\n",
       "    }\n",
       "\n",
       "    .dataframe tbody tr th {\n",
       "        vertical-align: top;\n",
       "    }\n",
       "\n",
       "    .dataframe thead th {\n",
       "        text-align: right;\n",
       "    }\n",
       "</style>\n",
       "<table border=\"1\" class=\"dataframe\">\n",
       "  <thead>\n",
       "    <tr style=\"text-align: right;\">\n",
       "      <th></th>\n",
       "      <th>acousticness</th>\n",
       "      <th>danceability</th>\n",
       "      <th>duration_ms</th>\n",
       "      <th>energy</th>\n",
       "      <th>instrumentalness</th>\n",
       "      <th>liveness</th>\n",
       "      <th>loudness</th>\n",
       "      <th>speechiness</th>\n",
       "      <th>tempo</th>\n",
       "      <th>valence</th>\n",
       "      <th>popularity</th>\n",
       "    </tr>\n",
       "  </thead>\n",
       "  <tbody>\n",
       "    <tr>\n",
       "      <th>0</th>\n",
       "      <td>0.979333</td>\n",
       "      <td>0.162883</td>\n",
       "      <td>1.602977e+05</td>\n",
       "      <td>0.071317</td>\n",
       "      <td>0.606834</td>\n",
       "      <td>0.361600</td>\n",
       "      <td>-31.514333</td>\n",
       "      <td>0.040567</td>\n",
       "      <td>75.336500</td>\n",
       "      <td>0.103783</td>\n",
       "      <td>27.833333</td>\n",
       "    </tr>\n",
       "    <tr>\n",
       "      <th>1</th>\n",
       "      <td>0.494780</td>\n",
       "      <td>0.299333</td>\n",
       "      <td>1.048887e+06</td>\n",
       "      <td>0.450678</td>\n",
       "      <td>0.477762</td>\n",
       "      <td>0.131000</td>\n",
       "      <td>-16.854000</td>\n",
       "      <td>0.076817</td>\n",
       "      <td>120.285667</td>\n",
       "      <td>0.221750</td>\n",
       "      <td>52.500000</td>\n",
       "    </tr>\n",
       "    <tr>\n",
       "      <th>2</th>\n",
       "      <td>0.762000</td>\n",
       "      <td>0.712000</td>\n",
       "      <td>1.151770e+05</td>\n",
       "      <td>0.818000</td>\n",
       "      <td>0.876000</td>\n",
       "      <td>0.126000</td>\n",
       "      <td>-9.180000</td>\n",
       "      <td>0.047000</td>\n",
       "      <td>133.444000</td>\n",
       "      <td>0.975000</td>\n",
       "      <td>48.000000</td>\n",
       "    </tr>\n",
       "    <tr>\n",
       "      <th>3</th>\n",
       "      <td>0.651417</td>\n",
       "      <td>0.529093</td>\n",
       "      <td>2.328809e+05</td>\n",
       "      <td>0.419146</td>\n",
       "      <td>0.205309</td>\n",
       "      <td>0.218696</td>\n",
       "      <td>-12.288965</td>\n",
       "      <td>0.107872</td>\n",
       "      <td>112.857352</td>\n",
       "      <td>0.513604</td>\n",
       "      <td>20.859882</td>\n",
       "    </tr>\n",
       "    <tr>\n",
       "      <th>4</th>\n",
       "      <td>0.676557</td>\n",
       "      <td>0.538961</td>\n",
       "      <td>1.906285e+05</td>\n",
       "      <td>0.316434</td>\n",
       "      <td>0.003003</td>\n",
       "      <td>0.172254</td>\n",
       "      <td>-12.479387</td>\n",
       "      <td>0.082851</td>\n",
       "      <td>112.110362</td>\n",
       "      <td>0.448249</td>\n",
       "      <td>45.820071</td>\n",
       "    </tr>\n",
       "    <tr>\n",
       "      <th>...</th>\n",
       "      <td>...</td>\n",
       "      <td>...</td>\n",
       "      <td>...</td>\n",
       "      <td>...</td>\n",
       "      <td>...</td>\n",
       "      <td>...</td>\n",
       "      <td>...</td>\n",
       "      <td>...</td>\n",
       "      <td>...</td>\n",
       "      <td>...</td>\n",
       "      <td>...</td>\n",
       "    </tr>\n",
       "    <tr>\n",
       "      <th>2968</th>\n",
       "      <td>0.222625</td>\n",
       "      <td>0.547082</td>\n",
       "      <td>2.580991e+05</td>\n",
       "      <td>0.610240</td>\n",
       "      <td>0.143872</td>\n",
       "      <td>0.204206</td>\n",
       "      <td>-11.295878</td>\n",
       "      <td>0.061088</td>\n",
       "      <td>125.494919</td>\n",
       "      <td>0.596155</td>\n",
       "      <td>33.778943</td>\n",
       "    </tr>\n",
       "    <tr>\n",
       "      <th>2969</th>\n",
       "      <td>0.161000</td>\n",
       "      <td>0.863000</td>\n",
       "      <td>2.063200e+05</td>\n",
       "      <td>0.909000</td>\n",
       "      <td>0.000000</td>\n",
       "      <td>0.108000</td>\n",
       "      <td>-5.985000</td>\n",
       "      <td>0.081300</td>\n",
       "      <td>119.038000</td>\n",
       "      <td>0.845000</td>\n",
       "      <td>58.000000</td>\n",
       "    </tr>\n",
       "    <tr>\n",
       "      <th>2970</th>\n",
       "      <td>0.263261</td>\n",
       "      <td>0.748889</td>\n",
       "      <td>3.060728e+05</td>\n",
       "      <td>0.622444</td>\n",
       "      <td>0.257227</td>\n",
       "      <td>0.089678</td>\n",
       "      <td>-10.289222</td>\n",
       "      <td>0.038778</td>\n",
       "      <td>101.965222</td>\n",
       "      <td>0.824111</td>\n",
       "      <td>46.666667</td>\n",
       "    </tr>\n",
       "    <tr>\n",
       "      <th>2971</th>\n",
       "      <td>0.993000</td>\n",
       "      <td>0.705667</td>\n",
       "      <td>1.984173e+05</td>\n",
       "      <td>0.172667</td>\n",
       "      <td>0.468633</td>\n",
       "      <td>0.179667</td>\n",
       "      <td>-11.453333</td>\n",
       "      <td>0.348667</td>\n",
       "      <td>91.278000</td>\n",
       "      <td>0.739000</td>\n",
       "      <td>0.000000</td>\n",
       "    </tr>\n",
       "    <tr>\n",
       "      <th>2972</th>\n",
       "      <td>0.421038</td>\n",
       "      <td>0.629409</td>\n",
       "      <td>1.716717e+05</td>\n",
       "      <td>0.609369</td>\n",
       "      <td>0.019248</td>\n",
       "      <td>0.255877</td>\n",
       "      <td>-9.854825</td>\n",
       "      <td>0.050491</td>\n",
       "      <td>126.366087</td>\n",
       "      <td>0.808544</td>\n",
       "      <td>30.261905</td>\n",
       "    </tr>\n",
       "  </tbody>\n",
       "</table>\n",
       "<p>2973 rows × 11 columns</p>\n",
       "</div>"
      ],
      "text/plain": [
       "      acousticness  danceability   duration_ms    energy  instrumentalness  \\\n",
       "0         0.979333      0.162883  1.602977e+05  0.071317          0.606834   \n",
       "1         0.494780      0.299333  1.048887e+06  0.450678          0.477762   \n",
       "2         0.762000      0.712000  1.151770e+05  0.818000          0.876000   \n",
       "3         0.651417      0.529093  2.328809e+05  0.419146          0.205309   \n",
       "4         0.676557      0.538961  1.906285e+05  0.316434          0.003003   \n",
       "...            ...           ...           ...       ...               ...   \n",
       "2968      0.222625      0.547082  2.580991e+05  0.610240          0.143872   \n",
       "2969      0.161000      0.863000  2.063200e+05  0.909000          0.000000   \n",
       "2970      0.263261      0.748889  3.060728e+05  0.622444          0.257227   \n",
       "2971      0.993000      0.705667  1.984173e+05  0.172667          0.468633   \n",
       "2972      0.421038      0.629409  1.716717e+05  0.609369          0.019248   \n",
       "\n",
       "      liveness   loudness  speechiness       tempo   valence  popularity  \n",
       "0     0.361600 -31.514333     0.040567   75.336500  0.103783   27.833333  \n",
       "1     0.131000 -16.854000     0.076817  120.285667  0.221750   52.500000  \n",
       "2     0.126000  -9.180000     0.047000  133.444000  0.975000   48.000000  \n",
       "3     0.218696 -12.288965     0.107872  112.857352  0.513604   20.859882  \n",
       "4     0.172254 -12.479387     0.082851  112.110362  0.448249   45.820071  \n",
       "...        ...        ...          ...         ...       ...         ...  \n",
       "2968  0.204206 -11.295878     0.061088  125.494919  0.596155   33.778943  \n",
       "2969  0.108000  -5.985000     0.081300  119.038000  0.845000   58.000000  \n",
       "2970  0.089678 -10.289222     0.038778  101.965222  0.824111   46.666667  \n",
       "2971  0.179667 -11.453333     0.348667   91.278000  0.739000    0.000000  \n",
       "2972  0.255877  -9.854825     0.050491  126.366087  0.808544   30.261905  \n",
       "\n",
       "[2973 rows x 11 columns]"
      ]
     },
     "execution_count": 33,
     "metadata": {},
     "output_type": "execute_result"
    }
   ],
   "source": [
    "data_by_genre_1 = data_by_genre.drop(columns=[\"genres\"], axis=1)\n",
    "data_by_genre_1"
   ]
  },
  {
   "attachments": {},
   "cell_type": "markdown",
   "metadata": {},
   "source": [
    "Agora vamo utilizar vários conceitos em um processo de *pipeline*, então a primeira coisa que vamos fazer é importar o método **Pipeline** do sklearn.pipeline e esse método faz literalmente uma pipeline de *machine learning*, mas de uma forma automática, onde aplica sequencialmente uma lista de transformações até um resultado final. Então o que precisamos passar é o que a nossa pipeline vai fazer, como o primeiro passo e o que queremos de resultado final dela.\n",
    "\n",
    "Neste ponto precisamos reduzir a dimensionalidade da tabela que está com várias colunas, porém se utilizarmos um processo de redução diretamente, sem fazer a padronização dos dados na parte de pré processamento, os resultados ficarão totalmente desbalanceados, trazendo maior peso para as variáveis que têm uma amplitude maior, como por exemplo o *loudness* em relação às outras variáveis que compõem a música.\n",
    "\n",
    "Para resolver esse problema, o primeiro passo da *pipeline* vai ser usar o **StandardScaler** para trazer essa padronização e redução de escala para que no próximo passo seja feita a redução de dimensionalidade com um método de decomposição, no nosso caso vamos escolher o **PCA**.\n",
    "\n",
    "**PCA** significa Análise de Componentes Principais e ele trás consigo uma série de análises matemáticas que são feitas para que possamos transformar aquelas milhares de colunas que temos em uma quantidade menos, com um valor n que escolhermos, porém, quanto mais colunas a gente tem no *dataset* original e menos colunas queremos no *dataset* final, o aprendizado depois pode ser prejudicado.\n",
    "\n",
    "Na parte **n_components** podemos colocar a quantidade de % de explicação que queremos que o algoritmo tenha no final, como por exemplo 0.3, que seria 30%, ou um valor como por exemplo um valor X de colunas.\n",
    "\n",
    "---\n",
    "\n",
    "Depois de feita a pipeline, vamos salvar em um arquivo chamado **projection**, com as colunas x e y, que são as posições dos pontos no *cluster*."
   ]
  },
  {
   "cell_type": "code",
   "execution_count": 35,
   "metadata": {},
   "outputs": [],
   "source": [
    "from sklearn.pipeline import Pipeline\n",
    "from sklearn.preprocessing import StandardScaler\n",
    "from sklearn.decomposition import PCA"
   ]
  },
  {
   "cell_type": "code",
   "execution_count": 36,
   "metadata": {},
   "outputs": [],
   "source": [
    "SEED = 1224\n",
    "np.random.seed(SEED)\n",
    "\n",
    "pca_pipeline = Pipeline([(\"scaler\", StandardScaler()), (\"PCA\", PCA(n_components=2, random_state=SEED))])"
   ]
  },
  {
   "cell_type": "code",
   "execution_count": 38,
   "metadata": {},
   "outputs": [],
   "source": [
    "genre_embedding_pca = pca_pipeline.fit_transform(data_by_genre_1)\n",
    "projection = pd.DataFrame(columns=[\"x\", \"y\"], data=genre_embedding_pca)"
   ]
  },
  {
   "cell_type": "code",
   "execution_count": 39,
   "metadata": {},
   "outputs": [
    {
     "data": {
      "text/html": [
       "<div>\n",
       "<style scoped>\n",
       "    .dataframe tbody tr th:only-of-type {\n",
       "        vertical-align: middle;\n",
       "    }\n",
       "\n",
       "    .dataframe tbody tr th {\n",
       "        vertical-align: top;\n",
       "    }\n",
       "\n",
       "    .dataframe thead th {\n",
       "        text-align: right;\n",
       "    }\n",
       "</style>\n",
       "<table border=\"1\" class=\"dataframe\">\n",
       "  <thead>\n",
       "    <tr style=\"text-align: right;\">\n",
       "      <th></th>\n",
       "      <th>x</th>\n",
       "      <th>y</th>\n",
       "    </tr>\n",
       "  </thead>\n",
       "  <tbody>\n",
       "    <tr>\n",
       "      <th>0</th>\n",
       "      <td>5.910268</td>\n",
       "      <td>-0.011146</td>\n",
       "    </tr>\n",
       "    <tr>\n",
       "      <th>1</th>\n",
       "      <td>2.787093</td>\n",
       "      <td>4.498483</td>\n",
       "    </tr>\n",
       "    <tr>\n",
       "      <th>2</th>\n",
       "      <td>-0.757538</td>\n",
       "      <td>-1.258495</td>\n",
       "    </tr>\n",
       "    <tr>\n",
       "      <th>3</th>\n",
       "      <td>1.020521</td>\n",
       "      <td>-0.931690</td>\n",
       "    </tr>\n",
       "    <tr>\n",
       "      <th>4</th>\n",
       "      <td>0.753911</td>\n",
       "      <td>-0.999861</td>\n",
       "    </tr>\n",
       "    <tr>\n",
       "      <th>...</th>\n",
       "      <td>...</td>\n",
       "      <td>...</td>\n",
       "    </tr>\n",
       "    <tr>\n",
       "      <th>2968</th>\n",
       "      <td>-0.475136</td>\n",
       "      <td>-0.017126</td>\n",
       "    </tr>\n",
       "    <tr>\n",
       "      <th>2969</th>\n",
       "      <td>-3.026756</td>\n",
       "      <td>-1.304983</td>\n",
       "    </tr>\n",
       "    <tr>\n",
       "      <th>2970</th>\n",
       "      <td>-0.832511</td>\n",
       "      <td>-1.089726</td>\n",
       "    </tr>\n",
       "    <tr>\n",
       "      <th>2971</th>\n",
       "      <td>1.774790</td>\n",
       "      <td>-3.695233</td>\n",
       "    </tr>\n",
       "    <tr>\n",
       "      <th>2972</th>\n",
       "      <td>-1.028069</td>\n",
       "      <td>-1.390709</td>\n",
       "    </tr>\n",
       "  </tbody>\n",
       "</table>\n",
       "<p>2973 rows × 2 columns</p>\n",
       "</div>"
      ],
      "text/plain": [
       "             x         y\n",
       "0     5.910268 -0.011146\n",
       "1     2.787093  4.498483\n",
       "2    -0.757538 -1.258495\n",
       "3     1.020521 -0.931690\n",
       "4     0.753911 -0.999861\n",
       "...        ...       ...\n",
       "2968 -0.475136 -0.017126\n",
       "2969 -3.026756 -1.304983\n",
       "2970 -0.832511 -1.089726\n",
       "2971  1.774790 -3.695233\n",
       "2972 -1.028069 -1.390709\n",
       "\n",
       "[2973 rows x 2 columns]"
      ]
     },
     "execution_count": 39,
     "metadata": {},
     "output_type": "execute_result"
    }
   ],
   "source": [
    "projection"
   ]
  },
  {
   "attachments": {},
   "cell_type": "markdown",
   "metadata": {},
   "source": [
    "### Para saber mais: normalização ou padronização?\n",
    "\n",
    "Quando estamos lidando com algoritmos de *machine learning*, alguns algoritmos aprendem melhor quando utilizamos variáveis numéricas dimensionadas em um intervalo padrão. O algoritmo usado no curso, por exemplo, é um dos que utilizam as distâncias para fazer os cálculos.\n",
    "\n",
    "Para dimensionarmos os dados numéricos antes da modelagem, podemos utilizar a **normalização** ou a **padronização**, que são técnicas populares e bem confundidas em âmbitos gerais. Vamos analisar cada uma delas separadamente.\n",
    "\n",
    "A **normalização** dimensiona cada variável de entrada separadamente para o intervalo 0-1, que é o intervalo para valores de ponto flutuante em que temos mais precisão. Então, de forma matemática, temos:\n",
    "\n",
    "# $$y = \\dfrac{x-min}{máx-min}$$\n",
    "\n",
    "Uma observação muito importante é que caso seja fornecido um valor de x fora dos limites dos valores mínimos e mmáximos, o valor resultante não estará dentro do limite de 0 e 1.\n",
    "\n",
    "Com o objetivo de normalizar os dados podemos utilizar a função **MinMaxScaler**, presente na biblioteca *sklearn*, para que ela redimensione as variáveis no intervalo padrão de [0,1], embora também possamos mudar o intervalo por meio do argumento *feature_range* passando uma tupla com o intervalo mínimo e máximo.\n",
    "\n",
    "Já a **padronização** dimensiona cada variável de entrada separadamente, subtraindo a média (chamada de centralização) e a dividindo pelo desvio padrão para deslocar a distribuição, a fim de ter uma média de 0 e um desvio padrão de 1. Esse processo pode ser pensado cocmo subtrair o valor médio ou centralizar os dados e é necessário conhecer os valores de média e de desvio padrão dos dados.\n",
    "\n",
    "Um valor é padronizado da seguinte forma:\n",
    "\n",
    "# $$y = \\dfrac{x-média}{DesvioPadrão} $$\n",
    "\n",
    "Em que a média é calculada como:\n",
    "\n",
    "# $$média = \\dfrac{soma(x)}{contagem(x)}$$\n",
    "\n",
    "E o desvio padrão pode ser calculado como:\n",
    "\n",
    "# $$DesvioPadrão = \\sqrt \\dfrac{soma((x-média)^2)}{contagem(x)}$$\n",
    "\n",
    "Para padronizar os dados podemos usar a função [StandardScaler](https://scikit-learn.org/stable/modules/generated/sklearn.preprocessing.StandardScaler.html) do Sklearn. É importante lembrar que a padronização assume que as suas observações de dados se ajustam a uma distribuição gaussiana (curva de sino/distribuição normal), com média e desvio padrão bem comportados.\n",
    "\n",
    "**E a pergunta final, devo normalizar ou padronizar meus dados?**\n",
    "\n",
    "Depende do seu problema, das suas variáveis e de todo o contexto, porém você pode decidir com base nos dados já apresentados anteriormente. Por exemplo, se a distribuição da quantidade for normal, ela deve ser padronizada, caso contrário usamos a normalização.\n",
    "\n",
    "Os problemas, de uma forma geral, não nos entregam todas as respostas apenas com a análise prévia dos dados, então, em caso de dúvida, ainda é uma opção explorar como fica a modelagem com os dados brutos, com os dados padronizados e com os dados normalizados. Dessa forma é possível notar alguma diferença benéfica no desempenho do modelo aplicado."
   ]
  },
  {
   "attachments": {},
   "cell_type": "markdown",
   "metadata": {},
   "source": [
    "## 2.2 K-Means"
   ]
  },
  {
   "cell_type": "code",
   "execution_count": 40,
   "metadata": {},
   "outputs": [],
   "source": [
    "from sklearn.cluster import KMeans"
   ]
  },
  {
   "cell_type": "code",
   "execution_count": 42,
   "metadata": {},
   "outputs": [
    {
     "name": "stderr",
     "output_type": "stream",
     "text": [
      "/home/cristoffer_pogan/.local/lib/python3.10/site-packages/sklearn/cluster/_kmeans.py:870: FutureWarning:\n",
      "\n",
      "The default value of `n_init` will change from 10 to 'auto' in 1.4. Set the value of `n_init` explicitly to suppress the warning\n",
      "\n"
     ]
    },
    {
     "name": "stdout",
     "output_type": "stream",
     "text": [
      "Initialization complete\n",
      "Iteration 0, inertia 4523.567815543687.\n",
      "Iteration 1, inertia 3668.9855521560216.\n",
      "Iteration 2, inertia 3624.730925711816.\n",
      "Iteration 3, inertia 3602.495813758811.\n",
      "Iteration 4, inertia 3588.060791240485.\n",
      "Iteration 5, inertia 3575.439570259301.\n",
      "Iteration 6, inertia 3566.376131163015.\n",
      "Iteration 7, inertia 3562.5917284574884.\n",
      "Iteration 8, inertia 3560.314467700929.\n",
      "Iteration 9, inertia 3558.885495152644.\n",
      "Iteration 10, inertia 3558.002748934047.\n",
      "Iteration 11, inertia 3557.729554775489.\n",
      "Converged at iteration 11: center shift 9.319981044865762e-05 within tolerance 0.0002709886847099648.\n",
      "Initialization complete\n",
      "Iteration 0, inertia 3650.5166847646483.\n",
      "Iteration 1, inertia 3552.8915365648127.\n",
      "Iteration 2, inertia 3528.942542123219.\n",
      "Iteration 3, inertia 3518.8491320487083.\n",
      "Iteration 4, inertia 3512.6717916139714.\n",
      "Iteration 5, inertia 3509.174107824741.\n",
      "Iteration 6, inertia 3506.3883335513733.\n",
      "Iteration 7, inertia 3505.0910743094046.\n",
      "Iteration 8, inertia 3504.6465117384905.\n",
      "Converged at iteration 8: center shift 7.503519990461772e-05 within tolerance 0.0002709886847099648.\n",
      "Initialization complete\n",
      "Iteration 0, inertia 4414.321464862236.\n",
      "Iteration 1, inertia 4264.089604762597.\n",
      "Iteration 2, inertia 4086.216471856397.\n",
      "Iteration 3, inertia 3913.5040021644504.\n",
      "Iteration 4, inertia 3808.4662476218086.\n",
      "Iteration 5, inertia 3745.661059736378.\n",
      "Iteration 6, inertia 3695.2334705998915.\n",
      "Iteration 7, inertia 3657.9034106955396.\n",
      "Iteration 8, inertia 3632.6437458148407.\n",
      "Iteration 9, inertia 3614.3881006065585.\n",
      "Iteration 10, inertia 3596.108483986039.\n",
      "Iteration 11, inertia 3579.525044096392.\n",
      "Iteration 12, inertia 3568.0798454948736.\n",
      "Iteration 13, inertia 3560.7114931318356.\n",
      "Iteration 14, inertia 3555.6789278427464.\n",
      "Iteration 15, inertia 3551.0457527019735.\n",
      "Iteration 16, inertia 3547.8151952209137.\n",
      "Iteration 17, inertia 3544.585854658791.\n",
      "Iteration 18, inertia 3541.2249019489177.\n",
      "Iteration 19, inertia 3537.2207553145113.\n",
      "Iteration 20, inertia 3533.4811126828045.\n",
      "Iteration 21, inertia 3530.8313918691915.\n",
      "Iteration 22, inertia 3528.2990382894923.\n",
      "Iteration 23, inertia 3525.9628488182016.\n",
      "Iteration 24, inertia 3523.3024936096867.\n",
      "Iteration 25, inertia 3521.2371826846506.\n",
      "Iteration 26, inertia 3519.7176960588313.\n",
      "Iteration 27, inertia 3518.2921892437616.\n",
      "Iteration 28, inertia 3517.650346116123.\n",
      "Iteration 29, inertia 3517.291990899682.\n",
      "Iteration 30, inertia 3516.8130739026533.\n",
      "Iteration 31, inertia 3516.080736548988.\n",
      "Iteration 32, inertia 3515.6638221959593.\n",
      "Converged at iteration 32: center shift 5.325555309193941e-05 within tolerance 0.0002709886847099648.\n",
      "Initialization complete\n",
      "Iteration 0, inertia 4454.784085215447.\n",
      "Iteration 1, inertia 3768.566040695695.\n",
      "Iteration 2, inertia 3646.0793671699166.\n",
      "Iteration 3, inertia 3588.10525462654.\n",
      "Iteration 4, inertia 3563.817454593436.\n",
      "Iteration 5, inertia 3553.0609261815275.\n",
      "Iteration 6, inertia 3547.5721096084685.\n",
      "Iteration 7, inertia 3544.586617139571.\n",
      "Iteration 8, inertia 3542.319966113136.\n",
      "Iteration 9, inertia 3541.491829826792.\n",
      "Iteration 10, inertia 3541.1635525310166.\n",
      "Converged at iteration 10: center shift 0.00011361514233643839 within tolerance 0.0002709886847099648.\n",
      "Initialization complete\n",
      "Iteration 0, inertia 4292.020575436033.\n",
      "Iteration 1, inertia 3675.203362882236.\n",
      "Iteration 2, inertia 3600.26520590245.\n",
      "Iteration 3, inertia 3567.104006679195.\n",
      "Iteration 4, inertia 3555.9954996232505.\n",
      "Iteration 5, inertia 3551.7224371196407.\n",
      "Iteration 6, inertia 3549.4587985327516.\n",
      "Iteration 7, inertia 3547.6816324276347.\n",
      "Iteration 8, inertia 3546.140998056871.\n",
      "Iteration 9, inertia 3545.1814280411913.\n",
      "Iteration 10, inertia 3544.5660486551924.\n",
      "Converged at iteration 10: center shift 0.00021718608215508343 within tolerance 0.0002709886847099648.\n",
      "Initialization complete\n",
      "Iteration 0, inertia 5229.734133923948.\n",
      "Iteration 1, inertia 3901.914075416335.\n",
      "Iteration 2, inertia 3684.1389561104656.\n",
      "Iteration 3, inertia 3625.7642920482617.\n",
      "Iteration 4, inertia 3598.6788312808385.\n",
      "Iteration 5, inertia 3577.346348139742.\n",
      "Iteration 6, inertia 3558.470378680761.\n",
      "Iteration 7, inertia 3543.761390560813.\n",
      "Iteration 8, inertia 3531.7513344899407.\n",
      "Iteration 9, inertia 3523.3922006839093.\n",
      "Iteration 10, inertia 3517.458751167246.\n",
      "Iteration 11, inertia 3511.3577748406797.\n",
      "Iteration 12, inertia 3507.9073202368354.\n",
      "Iteration 13, inertia 3506.4491270909602.\n",
      "Iteration 14, inertia 3505.530597167008.\n",
      "Iteration 15, inertia 3505.16829650992.\n",
      "Iteration 16, inertia 3504.8127932137027.\n",
      "Converged at iteration 16: center shift 0.00015979191515766512 within tolerance 0.0002709886847099648.\n",
      "Initialization complete\n",
      "Iteration 0, inertia 4258.464385644744.\n",
      "Iteration 1, inertia 3757.8259124946726.\n",
      "Iteration 2, inertia 3651.05814540355.\n",
      "Iteration 3, inertia 3609.354504537881.\n",
      "Iteration 4, inertia 3585.893849803638.\n",
      "Iteration 5, inertia 3570.9418046622186.\n",
      "Iteration 6, inertia 3564.037650400688.\n",
      "Iteration 7, inertia 3561.2995261283813.\n",
      "Iteration 8, inertia 3559.858925115205.\n",
      "Iteration 9, inertia 3558.9549261156644.\n",
      "Iteration 10, inertia 3558.6446576486587.\n",
      "Iteration 11, inertia 3558.2505645806045.\n",
      "Converged at iteration 11: center shift 0.00017503536183741795 within tolerance 0.0002709886847099648.\n",
      "Initialization complete\n",
      "Iteration 0, inertia 4718.526135999652.\n",
      "Iteration 1, inertia 3758.1507091224685.\n",
      "Iteration 2, inertia 3624.922738585425.\n",
      "Iteration 3, inertia 3583.400450514339.\n",
      "Iteration 4, inertia 3564.5252982782044.\n",
      "Iteration 5, inertia 3555.2726539991427.\n",
      "Iteration 6, inertia 3551.3232033549493.\n",
      "Iteration 7, inertia 3548.777394285313.\n",
      "Iteration 8, inertia 3546.7064877067.\n",
      "Iteration 9, inertia 3544.940808912313.\n",
      "Iteration 10, inertia 3541.6029264340455.\n",
      "Iteration 11, inertia 3538.295416432582.\n",
      "Iteration 12, inertia 3535.9986063113734.\n",
      "Iteration 13, inertia 3534.3664369979265.\n",
      "Iteration 14, inertia 3532.1532885577435.\n",
      "Iteration 15, inertia 3529.021959937262.\n",
      "Iteration 16, inertia 3523.7411194979672.\n",
      "Iteration 17, inertia 3519.0747925846867.\n",
      "Iteration 18, inertia 3516.68108283014.\n",
      "Iteration 19, inertia 3515.673695498441.\n",
      "Iteration 20, inertia 3514.1110599644608.\n",
      "Iteration 21, inertia 3511.926542778681.\n",
      "Iteration 22, inertia 3509.9239973639246.\n",
      "Iteration 23, inertia 3508.6659460439228.\n",
      "Iteration 24, inertia 3507.5767141188617.\n",
      "Iteration 25, inertia 3506.3382872728134.\n",
      "Iteration 26, inertia 3505.3138272242336.\n",
      "Iteration 27, inertia 3504.804797928719.\n",
      "Iteration 28, inertia 3504.5524335160185.\n",
      "Converged at iteration 28: center shift 0.00012946374322485448 within tolerance 0.0002709886847099648.\n",
      "Initialization complete\n",
      "Iteration 0, inertia 5726.817439830048.\n",
      "Iteration 1, inertia 4002.8186163759897.\n",
      "Iteration 2, inertia 3677.022813030335.\n",
      "Iteration 3, inertia 3594.0235945734903.\n",
      "Iteration 4, inertia 3568.0392461810325.\n",
      "Iteration 5, inertia 3559.4047642395462.\n",
      "Iteration 6, inertia 3554.535649933384.\n",
      "Iteration 7, inertia 3550.9000086430397.\n",
      "Iteration 8, inertia 3547.9319773120287.\n",
      "Iteration 9, inertia 3546.1862064637085.\n",
      "Iteration 10, inertia 3544.59307990121.\n",
      "Iteration 11, inertia 3544.157310008574.\n",
      "Iteration 12, inertia 3543.9417539989713.\n",
      "Converged at iteration 12: center shift 0.00010369698781414895 within tolerance 0.0002709886847099648.\n",
      "Initialization complete\n",
      "Iteration 0, inertia 4375.718400720171.\n",
      "Iteration 1, inertia 3663.371869736929.\n",
      "Iteration 2, inertia 3584.822890767264.\n",
      "Iteration 3, inertia 3560.55257717944.\n",
      "Iteration 4, inertia 3552.653553654182.\n",
      "Iteration 5, inertia 3550.9863322071305.\n",
      "Iteration 6, inertia 3548.841299825506.\n",
      "Iteration 7, inertia 3546.3432965447773.\n",
      "Iteration 8, inertia 3544.27211411086.\n",
      "Iteration 9, inertia 3541.0832411176893.\n",
      "Iteration 10, inertia 3538.70378625446.\n",
      "Iteration 11, inertia 3536.9610470989583.\n",
      "Iteration 12, inertia 3535.1468370885505.\n",
      "Iteration 13, inertia 3533.5433662533455.\n",
      "Iteration 14, inertia 3530.7882440270596.\n",
      "Iteration 15, inertia 3527.196024419158.\n",
      "Iteration 16, inertia 3522.541969152162.\n",
      "Iteration 17, inertia 3518.244795809636.\n",
      "Iteration 18, inertia 3516.6343144695334.\n",
      "Iteration 19, inertia 3515.6221060844664.\n",
      "Iteration 20, inertia 3513.997398179616.\n",
      "Iteration 21, inertia 3511.188703670772.\n",
      "Iteration 22, inertia 3509.9782526878776.\n",
      "Iteration 23, inertia 3508.792500367631.\n",
      "Iteration 24, inertia 3507.658797555077.\n",
      "Iteration 25, inertia 3506.36517212843.\n",
      "Iteration 26, inertia 3505.3138272242336.\n",
      "Iteration 27, inertia 3504.804797928719.\n",
      "Iteration 28, inertia 3504.5524335160194.\n",
      "Converged at iteration 28: center shift 0.00012946374322485445 within tolerance 0.0002709886847099648.\n"
     ]
    }
   ],
   "source": [
    "kmeans_pca = KMeans(n_clusters=5, verbose=True, random_state=SEED)\n",
    "kmeans_pca.fit(projection)\n",
    "\n",
    "data_by_genre[\"cluster_pca\"] = kmeans_pca.predict(projection)\n",
    "projection[\"cluster_pca\"] = kmeans_pca.predict(projection)"
   ]
  },
  {
   "cell_type": "code",
   "execution_count": 43,
   "metadata": {},
   "outputs": [
    {
     "data": {
      "text/html": [
       "<div>\n",
       "<style scoped>\n",
       "    .dataframe tbody tr th:only-of-type {\n",
       "        vertical-align: middle;\n",
       "    }\n",
       "\n",
       "    .dataframe tbody tr th {\n",
       "        vertical-align: top;\n",
       "    }\n",
       "\n",
       "    .dataframe thead th {\n",
       "        text-align: right;\n",
       "    }\n",
       "</style>\n",
       "<table border=\"1\" class=\"dataframe\">\n",
       "  <thead>\n",
       "    <tr style=\"text-align: right;\">\n",
       "      <th></th>\n",
       "      <th>x</th>\n",
       "      <th>y</th>\n",
       "      <th>cluster_pca</th>\n",
       "    </tr>\n",
       "  </thead>\n",
       "  <tbody>\n",
       "    <tr>\n",
       "      <th>0</th>\n",
       "      <td>5.910268</td>\n",
       "      <td>-0.011146</td>\n",
       "      <td>3</td>\n",
       "    </tr>\n",
       "    <tr>\n",
       "      <th>1</th>\n",
       "      <td>2.787093</td>\n",
       "      <td>4.498483</td>\n",
       "      <td>3</td>\n",
       "    </tr>\n",
       "    <tr>\n",
       "      <th>2</th>\n",
       "      <td>-0.757538</td>\n",
       "      <td>-1.258495</td>\n",
       "      <td>4</td>\n",
       "    </tr>\n",
       "    <tr>\n",
       "      <th>3</th>\n",
       "      <td>1.020521</td>\n",
       "      <td>-0.931690</td>\n",
       "      <td>1</td>\n",
       "    </tr>\n",
       "    <tr>\n",
       "      <th>4</th>\n",
       "      <td>0.753911</td>\n",
       "      <td>-0.999861</td>\n",
       "      <td>1</td>\n",
       "    </tr>\n",
       "    <tr>\n",
       "      <th>...</th>\n",
       "      <td>...</td>\n",
       "      <td>...</td>\n",
       "      <td>...</td>\n",
       "    </tr>\n",
       "    <tr>\n",
       "      <th>2968</th>\n",
       "      <td>-0.475136</td>\n",
       "      <td>-0.017126</td>\n",
       "      <td>2</td>\n",
       "    </tr>\n",
       "    <tr>\n",
       "      <th>2969</th>\n",
       "      <td>-3.026756</td>\n",
       "      <td>-1.304983</td>\n",
       "      <td>4</td>\n",
       "    </tr>\n",
       "    <tr>\n",
       "      <th>2970</th>\n",
       "      <td>-0.832511</td>\n",
       "      <td>-1.089726</td>\n",
       "      <td>4</td>\n",
       "    </tr>\n",
       "    <tr>\n",
       "      <th>2971</th>\n",
       "      <td>1.774790</td>\n",
       "      <td>-3.695233</td>\n",
       "      <td>1</td>\n",
       "    </tr>\n",
       "    <tr>\n",
       "      <th>2972</th>\n",
       "      <td>-1.028069</td>\n",
       "      <td>-1.390709</td>\n",
       "      <td>4</td>\n",
       "    </tr>\n",
       "  </tbody>\n",
       "</table>\n",
       "<p>2973 rows × 3 columns</p>\n",
       "</div>"
      ],
      "text/plain": [
       "             x         y  cluster_pca\n",
       "0     5.910268 -0.011146            3\n",
       "1     2.787093  4.498483            3\n",
       "2    -0.757538 -1.258495            4\n",
       "3     1.020521 -0.931690            1\n",
       "4     0.753911 -0.999861            1\n",
       "...        ...       ...          ...\n",
       "2968 -0.475136 -0.017126            2\n",
       "2969 -3.026756 -1.304983            4\n",
       "2970 -0.832511 -1.089726            4\n",
       "2971  1.774790 -3.695233            1\n",
       "2972 -1.028069 -1.390709            4\n",
       "\n",
       "[2973 rows x 3 columns]"
      ]
     },
     "execution_count": 43,
     "metadata": {},
     "output_type": "execute_result"
    }
   ],
   "source": [
    "projection"
   ]
  },
  {
   "cell_type": "code",
   "execution_count": 44,
   "metadata": {},
   "outputs": [
    {
     "data": {
      "text/html": [
       "<div>\n",
       "<style scoped>\n",
       "    .dataframe tbody tr th:only-of-type {\n",
       "        vertical-align: middle;\n",
       "    }\n",
       "\n",
       "    .dataframe tbody tr th {\n",
       "        vertical-align: top;\n",
       "    }\n",
       "\n",
       "    .dataframe thead th {\n",
       "        text-align: right;\n",
       "    }\n",
       "</style>\n",
       "<table border=\"1\" class=\"dataframe\">\n",
       "  <thead>\n",
       "    <tr style=\"text-align: right;\">\n",
       "      <th></th>\n",
       "      <th>x</th>\n",
       "      <th>y</th>\n",
       "      <th>cluster_pca</th>\n",
       "      <th>genres</th>\n",
       "    </tr>\n",
       "  </thead>\n",
       "  <tbody>\n",
       "    <tr>\n",
       "      <th>0</th>\n",
       "      <td>5.910268</td>\n",
       "      <td>-0.011146</td>\n",
       "      <td>3</td>\n",
       "      <td>21st century classical</td>\n",
       "    </tr>\n",
       "    <tr>\n",
       "      <th>1</th>\n",
       "      <td>2.787093</td>\n",
       "      <td>4.498483</td>\n",
       "      <td>3</td>\n",
       "      <td>432hz</td>\n",
       "    </tr>\n",
       "    <tr>\n",
       "      <th>2</th>\n",
       "      <td>-0.757538</td>\n",
       "      <td>-1.258495</td>\n",
       "      <td>4</td>\n",
       "      <td>8-bit</td>\n",
       "    </tr>\n",
       "    <tr>\n",
       "      <th>3</th>\n",
       "      <td>1.020521</td>\n",
       "      <td>-0.931690</td>\n",
       "      <td>1</td>\n",
       "      <td>[]</td>\n",
       "    </tr>\n",
       "    <tr>\n",
       "      <th>4</th>\n",
       "      <td>0.753911</td>\n",
       "      <td>-0.999861</td>\n",
       "      <td>1</td>\n",
       "      <td>a cappella</td>\n",
       "    </tr>\n",
       "    <tr>\n",
       "      <th>...</th>\n",
       "      <td>...</td>\n",
       "      <td>...</td>\n",
       "      <td>...</td>\n",
       "      <td>...</td>\n",
       "    </tr>\n",
       "    <tr>\n",
       "      <th>2968</th>\n",
       "      <td>-0.475136</td>\n",
       "      <td>-0.017126</td>\n",
       "      <td>2</td>\n",
       "      <td>zolo</td>\n",
       "    </tr>\n",
       "    <tr>\n",
       "      <th>2969</th>\n",
       "      <td>-3.026756</td>\n",
       "      <td>-1.304983</td>\n",
       "      <td>4</td>\n",
       "      <td>zouglou</td>\n",
       "    </tr>\n",
       "    <tr>\n",
       "      <th>2970</th>\n",
       "      <td>-0.832511</td>\n",
       "      <td>-1.089726</td>\n",
       "      <td>4</td>\n",
       "      <td>zouk</td>\n",
       "    </tr>\n",
       "    <tr>\n",
       "      <th>2971</th>\n",
       "      <td>1.774790</td>\n",
       "      <td>-3.695233</td>\n",
       "      <td>1</td>\n",
       "      <td>zurich indie</td>\n",
       "    </tr>\n",
       "    <tr>\n",
       "      <th>2972</th>\n",
       "      <td>-1.028069</td>\n",
       "      <td>-1.390709</td>\n",
       "      <td>4</td>\n",
       "      <td>zydeco</td>\n",
       "    </tr>\n",
       "  </tbody>\n",
       "</table>\n",
       "<p>2973 rows × 4 columns</p>\n",
       "</div>"
      ],
      "text/plain": [
       "             x         y  cluster_pca                  genres\n",
       "0     5.910268 -0.011146            3  21st century classical\n",
       "1     2.787093  4.498483            3                   432hz\n",
       "2    -0.757538 -1.258495            4                   8-bit\n",
       "3     1.020521 -0.931690            1                      []\n",
       "4     0.753911 -0.999861            1              a cappella\n",
       "...        ...       ...          ...                     ...\n",
       "2968 -0.475136 -0.017126            2                    zolo\n",
       "2969 -3.026756 -1.304983            4                 zouglou\n",
       "2970 -0.832511 -1.089726            4                    zouk\n",
       "2971  1.774790 -3.695233            1            zurich indie\n",
       "2972 -1.028069 -1.390709            4                  zydeco\n",
       "\n",
       "[2973 rows x 4 columns]"
      ]
     },
     "execution_count": 44,
     "metadata": {},
     "output_type": "execute_result"
    }
   ],
   "source": [
    "projection[\"genres\"] = data_by_genre[\"genres\"]\n",
    "projection"
   ]
  },
  {
   "attachments": {},
   "cell_type": "markdown",
   "metadata": {},
   "source": [
    "### Para saber mais: K-Means com PCA\n",
    "\n",
    "Quando lidamos com um problema de agrupamento, queremos usar um algoritmo que descubra grupos significativos nos dados, como é o nosso caso, agrupar gêneros musicais e músicas. Seja para qualquer outro fim, o algoritmo descobre os grupos sem intervenções externas, já que não precisa de rótulos para realizar previsões.\n",
    "\n",
    "Sabendo disso, o K-Means tenta organizar os dados em um único número k de clusters, que definimos inicialmente, e, a partir disso, ele identifica os pontos de dados semelhantes e vai criando agrupamentos, tentando distanciar cada cluster o máximo possível. O cálculo das semelhanças é feito utilizando a distância euclidiana ou uma linha reta comum entre dois pontos. Quanto menor a distância euclidiana, mais próximos os dois pontos estão e mais semelhantes eles são por consequência.\n",
    "\n",
    "O processo de como K-Means funciona é relativamente simples e repetitivo.\n",
    "\n",
    "1. O usuário define o valor de clusters (k);\n",
    "2. O K-Means seleciona um ponto aleatório para cada centróide, temos k-centróides nesse ponto, e um centróide é o ponto em torno do qual cada cluster é construído.\n",
    "3. A distância euclidiana é calculada entre cada ponto e cada centróide, e, a partr disto, cada ponto será atribuído a um centróide (mais próximo com base na distância euclidiana);\n",
    "4. O algoritmo calcula a média da distância euclidiana entre cada ponto do cluster e o centróide para definir um novo centróide;\n",
    "5. O processo 4 se repete até que os centróides dos clusters não se movam mais.\n",
    "\n",
    "Existe um site onde podemos ver uma animação de como esse processo acontece, ele se chama [K-Means Clustering Demo](https://user.ceng.metu.edu.tr/~akifakkus/courses/ceng574/k-means/).\n",
    "\n",
    "Porém nem tudo é extremamente bom no K-Means, ele ainda não consegue resolver problemas com **escalas diferentes** e também não consegue agrupar com precisão dados de **alta dimensionalidade**.\n",
    "\n",
    "Para a primeira parte, em relação às escalas, é necessário que todos estejam na mesma escala de [0,1], como fizemos anteriormente com o [StandardScaler](https://scikit-learn.org/stable/modules/generated/sklearn.preprocessing.StandardScaler.html), caso contrário, ele colocará maior peso em variáveis que têm variâncias maiores e esses recursos terão maios influência na forma final do cluster.\n",
    "\n",
    "Em relação à alta dimensionalidade, o algoritmo usa a distância euclidiana para determinar a associação de agrupamento, porém, quando temos uma alta dimensionalidade, pares de pontos começarão a ter distâncias muito semelhantes e não conseguiremos obter agrupamentos significativos. Para reduzir a quantidade de dados podemos utilizar a técnica chamada Análise de Componentes Principais (PCA).\n",
    "\n",
    "[PCA](https://scikit-learn.org/stable/modules/generated/sklearn.decomposition.PCA.html) é um método clássico usado para reduzir dados de alta domensionalidade para um espaço de baixa dimensão. Em outras palavras, simplesmente não podemos visualizar com precisão conjuntos de dados de alta dimensão, porque não podemos visualizar nada acima de 3 dimensões (3D). Um dos principais objetivos do PCA é transformar conjuntos de dados com mais de 3 dimensões (alta dimensão) em gráficos tipicamente 2D ou 3D. Essa ação é o que chamamos de espaço de baixa dimensão.\n",
    "\n",
    "Mesmo fazendo toda a redução de n dimensões existentes para 2D, no nosso caso, ainda conseguimos reter a maior parte da informação necessária do conjunto de dados de alta dimensão, ou seja, a informação foi \"espremida\" até caber em 2 dimensões.\n",
    "\n",
    "Então, as informações que eram contidas em n dimensões passam a estar em 2 componentes principais (PC). O primeiro PC contém a maioria das informações dos recursos originais, o segundo PC conterá a próxima maior quantidade de informações, e, caso tivéssemos mais PC's, seria essa mesma sequência, sendo os PC's não correlacionados entre si, o que significa que cada um guarda informações únicas.\n",
    "\n",
    "Usando os dois módulos de auxílio, a padronização dos dados com o StandardScaler e a redução de dimensionalidade com o PCA, quando necessário, os resultados obtidos com o K-Means serão melhores do que apenas aplicar ele diretamente nos dados."
   ]
  },
  {
   "attachments": {},
   "cell_type": "markdown",
   "metadata": {},
   "source": [
    "## 2.3 Plotando o clustering"
   ]
  },
  {
   "cell_type": "code",
   "execution_count": 46,
   "metadata": {},
   "outputs": [
    {
     "data": {
      "application/vnd.plotly.v1+json": {
       "config": {
        "plotlyServerURL": "https://plot.ly"
       },
       "data": [
        {
         "customdata": [
          [
           "21st century classical"
          ],
          [
           "432hz"
          ],
          [
           "8-bit"
          ],
          [
           "[]"
          ],
          [
           "a cappella"
          ],
          [
           "abstract"
          ],
          [
           "abstract beats"
          ],
          [
           "abstract hip hop"
          ],
          [
           "accordeon"
          ],
          [
           "accordion"
          ],
          [
           "acid house"
          ],
          [
           "acid rock"
          ],
          [
           "acid trance"
          ],
          [
           "acousmatic"
          ],
          [
           "acoustic blues"
          ],
          [
           "acoustic pop"
          ],
          [
           "acoustic punk"
          ],
          [
           "acoustic rock"
          ],
          [
           "action rock"
          ],
          [
           "adoracion"
          ],
          [
           "adult standards"
          ],
          [
           "adventista"
          ],
          [
           "afghan pop"
          ],
          [
           "afghan traditional"
          ],
          [
           "african percussion"
          ],
          [
           "african reggae"
          ],
          [
           "african rock"
          ],
          [
           "african-american classical"
          ],
          [
           "afro dancehall"
          ],
          [
           "afro house"
          ],
          [
           "afro psych"
          ],
          [
           "afro soul"
          ],
          [
           "afro-funk"
          ],
          [
           "afrobeat"
          ],
          [
           "afrofuturism"
          ],
          [
           "afrofuturismo brasileiro"
          ],
          [
           "afropop"
          ],
          [
           "afroswing"
          ],
          [
           "aggrotech"
          ],
          [
           "alabama indie"
          ],
          [
           "alabama metal"
          ],
          [
           "alabama rap"
          ],
          [
           "alaska indie"
          ],
          [
           "albanian pop"
          ],
          [
           "albany ny indie"
          ],
          [
           "alberta country"
          ],
          [
           "alberta hip hop"
          ],
          [
           "album rock"
          ],
          [
           "albuquerque indie"
          ],
          [
           "alt-idol"
          ],
          [
           "alte"
          ],
          [
           "alternative americana"
          ],
          [
           "alternative country"
          ],
          [
           "alternative dance"
          ],
          [
           "alternative emo"
          ],
          [
           "alternative hip hop"
          ],
          [
           "alternative metal"
          ],
          [
           "alternative pop"
          ],
          [
           "alternative pop rock"
          ],
          [
           "alternative r&b"
          ],
          [
           "alternative rock"
          ],
          [
           "alternative roots rock"
          ],
          [
           "ambeat"
          ],
          [
           "ambient"
          ],
          [
           "ambient black metal"
          ],
          [
           "ambient folk"
          ],
          [
           "ambient house"
          ],
          [
           "ambient idm"
          ],
          [
           "ambient industrial"
          ],
          [
           "ambient pop"
          ],
          [
           "ambient techno"
          ],
          [
           "ambient worship"
          ],
          [
           "american 21st century classical"
          ],
          [
           "american choir"
          ],
          [
           "american classical piano"
          ],
          [
           "american contemporary classical"
          ],
          [
           "american early music"
          ],
          [
           "american folk revival"
          ],
          [
           "american metalcore"
          ],
          [
           "american modern classical"
          ],
          [
           "american oi"
          ],
          [
           "american orchestra"
          ],
          [
           "american post-rock"
          ],
          [
           "american primitive"
          ],
          [
           "american romanticism"
          ],
          [
           "american shoegaze"
          ],
          [
           "anadolu rock"
          ],
          [
           "anarcho-punk"
          ],
          [
           "anglican liturgy"
          ],
          [
           "animal singing"
          ],
          [
           "anime"
          ],
          [
           "anime latino"
          ],
          [
           "anime rock"
          ],
          [
           "anime score"
          ],
          [
           "ann arbor indie"
          ],
          [
           "anthem emo"
          ],
          [
           "anthem worship"
          ],
          [
           "anti-folk"
          ],
          [
           "antilliaanse folklore"
          ],
          [
           "antiviral pop"
          ],
          [
           "appalachian folk"
          ],
          [
           "arab folk"
          ],
          [
           "arab groove"
          ],
          [
           "arab pop"
          ],
          [
           "arabesk"
          ],
          [
           "arabic hip hop"
          ],
          [
           "arabic jazz"
          ],
          [
           "argentine ambient"
          ],
          [
           "argentine hardcore"
          ],
          [
           "argentine heavy metal"
          ],
          [
           "argentine hip hop"
          ],
          [
           "argentine indie"
          ],
          [
           "argentine metal"
          ],
          [
           "argentine punk"
          ],
          [
           "argentine reggae"
          ],
          [
           "argentine rock"
          ],
          [
           "argentine telepop"
          ],
          [
           "arizona punk"
          ],
          [
           "arkansas country"
          ],
          [
           "arkansas hip hop"
          ],
          [
           "arkansas indie"
          ],
          [
           "armenian folk"
          ],
          [
           "art pop"
          ],
          [
           "art punk"
          ],
          [
           "art rock"
          ],
          [
           "art song"
          ],
          [
           "asbury park indie"
          ],
          [
           "asheville indie"
          ],
          [
           "asian american hip hop"
          ],
          [
           "asmr"
          ],
          [
           "athens indie"
          ],
          [
           "atl hip hop"
          ],
          [
           "atl trap"
          ],
          [
           "atlanta indie"
          ],
          [
           "atlanta metal"
          ],
          [
           "atlanta punk"
          ],
          [
           "atmosphere"
          ],
          [
           "atmospheric black metal"
          ],
          [
           "atmospheric dnb"
          ],
          [
           "atmospheric post-metal"
          ],
          [
           "atmospheric post-rock"
          ],
          [
           "atmospheric sludge"
          ],
          [
           "auckland indie"
          ],
          [
           "audiophile vocal"
          ],
          [
           "aussietronica"
          ],
          [
           "austin americana"
          ],
          [
           "austin singer-songwriter"
          ],
          [
           "austindie"
          ],
          [
           "australian alternative pop"
          ],
          [
           "australian alternative rock"
          ],
          [
           "australian ambient"
          ],
          [
           "australian children's music"
          ],
          [
           "australian choir"
          ],
          [
           "australian classical"
          ],
          [
           "australian classical piano"
          ],
          [
           "australian country"
          ],
          [
           "australian dance"
          ],
          [
           "australian electropop"
          ],
          [
           "australian garage punk"
          ],
          [
           "australian hip hop"
          ],
          [
           "australian house"
          ],
          [
           "australian indie"
          ],
          [
           "australian indie folk"
          ],
          [
           "australian indie rock"
          ],
          [
           "australian indigenous"
          ],
          [
           "australian metal"
          ],
          [
           "australian metalcore"
          ],
          [
           "australian pop"
          ],
          [
           "australian post-hardcore"
          ],
          [
           "australian post-punk"
          ],
          [
           "australian psych"
          ],
          [
           "australian r&b"
          ],
          [
           "australian reggae fusion"
          ],
          [
           "australian rock"
          ],
          [
           "australian singer-songwriter"
          ],
          [
           "australian ska"
          ],
          [
           "australian talent show"
          ],
          [
           "australian trap"
          ],
          [
           "australian underground hip hop"
          ],
          [
           "austrian choir"
          ],
          [
           "austrian classical piano"
          ],
          [
           "austrian orchestra"
          ],
          [
           "austrian pop"
          ],
          [
           "austro-german modernism"
          ],
          [
           "austropop"
          ],
          [
           "autoharp"
          ],
          [
           "autonomous black metal"
          ],
          [
           "avant-garde"
          ],
          [
           "avant-garde jazz"
          ],
          [
           "avant-garde metal"
          ],
          [
           "axe"
          ],
          [
           "azeri traditional"
          ],
          [
           "azonto"
          ],
          [
           "azontobeats"
          ],
          [
           "bachata"
          ],
          [
           "bachata dominicana"
          ],
          [
           "background music"
          ],
          [
           "background piano"
          ],
          [
           "baglama"
          ],
          [
           "bahai"
          ],
          [
           "bahamian folk"
          ],
          [
           "bahamian pop"
          ],
          [
           "baiao"
          ],
          [
           "bajki"
          ],
          [
           "bakersfield sound"
          ],
          [
           "balearic"
          ],
          [
           "balkan brass"
          ],
          [
           "balkan classical piano"
          ],
          [
           "ballet class"
          ],
          [
           "ballroom"
          ],
          [
           "baltic classical"
          ],
          [
           "baltimore hip hop"
          ],
          [
           "baltimore indie"
          ],
          [
           "banda"
          ],
          [
           "banda caliente"
          ],
          [
           "banda carnavalera"
          ],
          [
           "bandinhas"
          ],
          [
           "bandolim"
          ],
          [
           "bandoneon"
          ],
          [
           "bangla"
          ],
          [
           "banjo"
          ],
          [
           "bansuri"
          ],
          [
           "barbadian pop"
          ],
          [
           "barbershop"
          ],
          [
           "bard"
          ],
          [
           "barnmusik"
          ],
          [
           "barockinterpreten"
          ],
          [
           "baroque"
          ],
          [
           "baroque brass"
          ],
          [
           "baroque ensemble"
          ],
          [
           "baroque pop"
          ],
          [
           "baroque singing"
          ],
          [
           "baroque violin"
          ],
          [
           "baroque woodwind"
          ],
          [
           "bass house"
          ],
          [
           "bass music"
          ],
          [
           "bass trap"
          ],
          [
           "basshall"
          ],
          [
           "bassline"
          ],
          [
           "bath indie"
          ],
          [
           "baton rouge indie"
          ],
          [
           "baton rouge rap"
          ],
          [
           "battle rap"
          ],
          [
           "bay area hip hop"
          ],
          [
           "bay area indie"
          ],
          [
           "bboy"
          ],
          [
           "bc underground hip hop"
          ],
          [
           "beach music"
          ],
          [
           "beat italiano"
          ],
          [
           "beat poetry"
          ],
          [
           "beatboxing"
          ],
          [
           "beatlesque"
          ],
          [
           "bebop"
          ],
          [
           "bedroom pop"
          ],
          [
           "bedroom soul"
          ],
          [
           "belarusian indie"
          ],
          [
           "belarusian pop"
          ],
          [
           "belarusian rock"
          ],
          [
           "belgian classical piano"
          ],
          [
           "belgian contemporary classical"
          ],
          [
           "belgian dance"
          ],
          [
           "belgian edm"
          ],
          [
           "belgian hardcore"
          ],
          [
           "belgian indie"
          ],
          [
           "belgian indie rock"
          ],
          [
           "belgian jazz"
          ],
          [
           "belgian new wave"
          ],
          [
           "belgian pop"
          ],
          [
           "belgian rock"
          ],
          [
           "belgian singer-songwriter"
          ],
          [
           "belgian techno"
          ],
          [
           "belly dance"
          ],
          [
           "bengali folk"
          ],
          [
           "beninese pop"
          ],
          [
           "bergen indie"
          ],
          [
           "berlin minimal techno"
          ],
          [
           "berlin school"
          ],
          [
           "bhajan"
          ],
          [
           "bhangra"
          ],
          [
           "bible"
          ],
          [
           "big band"
          ],
          [
           "big beat"
          ],
          [
           "big room"
          ],
          [
           "binaural"
          ],
          [
           "birdsong"
          ],
          [
           "birmingham grime"
          ],
          [
           "birmingham hip hop"
          ],
          [
           "birmingham metal"
          ],
          [
           "bitpop"
          ],
          [
           "black 'n' roll"
          ],
          [
           "black comedy"
          ],
          [
           "black metal"
          ],
          [
           "black punk"
          ],
          [
           "black thrash"
          ],
          [
           "blackened crust"
          ],
          [
           "blackgaze"
          ],
          [
           "bleep techno"
          ],
          [
           "bluegrass"
          ],
          [
           "bluegrass fiddle"
          ],
          [
           "bluegrass gospel"
          ],
          [
           "blues"
          ],
          [
           "blues latinoamericano"
          ],
          [
           "blues mexicano"
          ],
          [
           "blues rock"
          ],
          [
           "bmore"
          ],
          [
           "bolero"
          ],
          [
           "bolero cubano"
          ],
          [
           "boogaloo"
          ],
          [
           "boogie"
          ],
          [
           "boogie-woogie"
          ],
          [
           "boom bap"
          ],
          [
           "boom bap brasileiro"
          ],
          [
           "bossa nova"
          ],
          [
           "bossa nova jazz"
          ],
          [
           "boston folk"
          ],
          [
           "boston hardcore"
          ],
          [
           "boston hip hop"
          ],
          [
           "boston indie"
          ],
          [
           "boston metal"
          ],
          [
           "boston punk"
          ],
          [
           "boston rock"
          ],
          [
           "bounce"
          ],
          [
           "bouncy house"
          ],
          [
           "bouzouki"
          ],
          [
           "bow pop"
          ],
          [
           "boy band"
          ],
          [
           "boy pop"
          ],
          [
           "boy soprano"
          ],
          [
           "brain waves"
          ],
          [
           "braindance"
          ],
          [
           "brass band"
          ],
          [
           "brass ensemble"
          ],
          [
           "brass quintet"
          ],
          [
           "brazilian boogie"
          ],
          [
           "brazilian classical"
          ],
          [
           "brazilian classical piano"
          ],
          [
           "brazilian contemporary classical"
          ],
          [
           "brazilian edm"
          ],
          [
           "brazilian groove metal"
          ],
          [
           "brazilian hip hop"
          ],
          [
           "brazilian indie"
          ],
          [
           "brazilian jazz"
          ],
          [
           "brazilian metal"
          ],
          [
           "brazilian modern jazz"
          ],
          [
           "brazilian percussion"
          ],
          [
           "brazilian punk"
          ],
          [
           "brazilian reggae"
          ],
          [
           "brazilian rock"
          ],
          [
           "brazilian ska"
          ],
          [
           "brazilian soul"
          ],
          [
           "brazilian thrash metal"
          ],
          [
           "breakbeat"
          ],
          [
           "breakcore"
          ],
          [
           "brega"
          ],
          [
           "breton folk"
          ],
          [
           "brighton indie"
          ],
          [
           "brill building pop"
          ],
          [
           "brisbane indie"
          ],
          [
           "bristol electronic"
          ],
          [
           "bristol indie"
          ],
          [
           "brit funk"
          ],
          [
           "british alternative rock"
          ],
          [
           "british black metal"
          ],
          [
           "british blues"
          ],
          [
           "british children's music"
          ],
          [
           "british choir"
          ],
          [
           "british classical piano"
          ],
          [
           "british comedy"
          ],
          [
           "british contemporary classical"
          ],
          [
           "british dance band"
          ],
          [
           "british death metal"
          ],
          [
           "british experimental"
          ],
          [
           "british folk"
          ],
          [
           "british grindcore"
          ],
          [
           "british indie rock"
          ],
          [
           "british industrial"
          ],
          [
           "british invasion"
          ],
          [
           "british jazz"
          ],
          [
           "british modern classical"
          ],
          [
           "british orchestra"
          ],
          [
           "british post-rock"
          ],
          [
           "british power metal"
          ],
          [
           "british singer-songwriter"
          ],
          [
           "british soul"
          ],
          [
           "british soundtrack"
          ],
          [
           "britpop"
          ],
          [
           "broadway"
          ],
          [
           "broken beat"
          ],
          [
           "bronx hip hop"
          ],
          [
           "brooklyn drill"
          ],
          [
           "brooklyn indie"
          ],
          [
           "brostep"
          ],
          [
           "brutal death metal"
          ],
          [
           "brutal deathcore"
          ],
          [
           "bubble trance"
          ],
          [
           "bubblegrunge"
          ],
          [
           "bubblegum dance"
          ],
          [
           "bubblegum pop"
          ],
          [
           "buffalo hip hop"
          ],
          [
           "buffalo ny indie"
          ],
          [
           "buffalo ny metal"
          ],
          [
           "bulgarian experimental"
          ],
          [
           "burmese traditional"
          ],
          [
           "bush ballad"
          ],
          [
           "c-pop"
          ],
          [
           "c86"
          ],
          [
           "cabaret"
          ],
          [
           "cajun"
          ],
          [
           "calgary indie"
          ],
          [
           "cali rap"
          ],
          [
           "calming instrumental"
          ],
          [
           "calypso"
          ],
          [
           "cambodian rock"
          ],
          [
           "cambridge choir"
          ],
          [
           "cambridgeshire indie"
          ],
          [
           "cameroonian pop"
          ],
          [
           "canadian americana"
          ],
          [
           "canadian blues"
          ],
          [
           "canadian ccm"
          ],
          [
           "canadian celtic"
          ],
          [
           "canadian children's music"
          ],
          [
           "canadian choir"
          ],
          [
           "canadian classical"
          ],
          [
           "canadian classical piano"
          ],
          [
           "canadian comedy"
          ],
          [
           "canadian contemporary country"
          ],
          [
           "canadian contemporary r&b"
          ],
          [
           "canadian country"
          ],
          [
           "canadian electronic"
          ],
          [
           "canadian electropop"
          ],
          [
           "canadian experimental"
          ],
          [
           "canadian folk"
          ],
          [
           "canadian hardcore"
          ],
          [
           "canadian hip hop"
          ],
          [
           "canadian house"
          ],
          [
           "canadian indie"
          ],
          [
           "canadian indie folk"
          ],
          [
           "canadian indigenous"
          ],
          [
           "canadian indigenous hip hop"
          ],
          [
           "canadian latin"
          ],
          [
           "canadian metal"
          ],
          [
           "canadian metalcore"
          ],
          [
           "canadian modern jazz"
          ],
          [
           "canadian pop"
          ],
          [
           "canadian pop punk"
          ],
          [
           "canadian post-hardcore"
          ],
          [
           "canadian post-rock"
          ],
          [
           "canadian psychedelic"
          ],
          [
           "canadian punk"
          ],
          [
           "canadian rock"
          ],
          [
           "canadian rockabilly"
          ],
          [
           "canadian singer-songwriter"
          ],
          [
           "canadian soundtrack"
          ],
          [
           "cancion melodica"
          ],
          [
           "candy pop"
          ],
          [
           "cantautor"
          ],
          [
           "cante flamenco"
          ],
          [
           "canterbury scene"
          ],
          [
           "canto popular uruguayo"
          ],
          [
           "cantopop"
          ],
          [
           "canzone d'autore"
          ],
          [
           "canzone genovese"
          ],
          [
           "canzone napoletana"
          ],
          [
           "cape town indie"
          ],
          [
           "cape verdean folk"
          ],
          [
           "capoeira"
          ],
          [
           "caracas indie"
          ],
          [
           "carnatic"
          ],
          [
           "carnatic instrumental"
          ],
          [
           "carnatic vocal"
          ],
          [
           "cartoon"
          ],
          [
           "cathedral choir"
          ],
          [
           "caucasian classical"
          ],
          [
           "caucasian classical piano"
          ],
          [
           "ccm"
          ],
          [
           "cedm"
          ],
          [
           "cello"
          ],
          [
           "celtic"
          ],
          [
           "celtic harp"
          ],
          [
           "celtic metal"
          ],
          [
           "celtic punk"
          ],
          [
           "celtic rock"
          ],
          [
           "cha-cha-cha"
          ],
          [
           "chakra"
          ],
          [
           "chamame"
          ],
          [
           "chamber choir"
          ],
          [
           "chamber ensemble"
          ],
          [
           "chamber folk"
          ],
          [
           "chamber orchestra"
          ],
          [
           "chamber pop"
          ],
          [
           "chamber psych"
          ],
          [
           "champeta"
          ],
          [
           "channel islands indie"
          ],
          [
           "channel pop"
          ],
          [
           "chanson"
          ],
          [
           "chanson paillarde"
          ],
          [
           "chaotic hardcore"
          ],
          [
           "charanga"
          ],
          [
           "charango"
          ],
          [
           "charlotte nc indie"
          ],
          [
           "charlottesville indie"
          ],
          [
           "chattanooga indie"
          ],
          [
           "chicago blues"
          ],
          [
           "chicago drill"
          ],
          [
           "chicago hardcore"
          ],
          [
           "chicago house"
          ],
          [
           "chicago indie"
          ],
          [
           "chicago pop punk"
          ],
          [
           "chicago punk"
          ],
          [
           "chicago rap"
          ],
          [
           "chicago soul"
          ],
          [
           "chicano punk"
          ],
          [
           "chicano rap"
          ],
          [
           "chicha"
          ],
          [
           "chihuahua indie"
          ],
          [
           "children's choir"
          ],
          [
           "children's folk"
          ],
          [
           "children's music"
          ],
          [
           "children's story"
          ],
          [
           "chilean hardcore"
          ],
          [
           "chilean indie"
          ],
          [
           "chilean rock"
          ],
          [
           "chilena"
          ],
          [
           "chill beats"
          ],
          [
           "chill guitar"
          ],
          [
           "chill lounge"
          ],
          [
           "chill out"
          ],
          [
           "chill pop"
          ],
          [
           "chill r&b"
          ],
          [
           "chillhop"
          ],
          [
           "chillstep"
          ],
          [
           "chillwave"
          ],
          [
           "chinese audiophile"
          ],
          [
           "chinese classical"
          ],
          [
           "chinese classical performance"
          ],
          [
           "chinese classical piano"
          ],
          [
           "chinese electropop"
          ],
          [
           "chinese hip hop"
          ],
          [
           "chinese idol pop"
          ],
          [
           "chinese indie"
          ],
          [
           "chinese indie rock"
          ],
          [
           "chinese instrumental"
          ],
          [
           "chinese jazz"
          ],
          [
           "chinese r&b"
          ],
          [
           "chinese soundtrack"
          ],
          [
           "chinese traditional"
          ],
          [
           "chiptune"
          ],
          [
           "chopped and screwed"
          ],
          [
           "choral"
          ],
          [
           "choro"
          ],
          [
           "christchurch indie"
          ],
          [
           "christelijk"
          ],
          [
           "christian a cappella"
          ],
          [
           "christian alternative rock"
          ],
          [
           "christian dance"
          ],
          [
           "christian hard rock"
          ],
          [
           "christian hardcore"
          ],
          [
           "christian hip hop"
          ],
          [
           "christian indie"
          ],
          [
           "christian metal"
          ],
          [
           "christian metalcore"
          ],
          [
           "christian music"
          ],
          [
           "christian pop"
          ],
          [
           "christian power metal"
          ],
          [
           "christian punk"
          ],
          [
           "christian relaxative"
          ],
          [
           "christian rock"
          ],
          [
           "christian trap"
          ],
          [
           "christian uplift"
          ],
          [
           "christmas instrumental"
          ],
          [
           "christmas product"
          ],
          [
           "chunchaca"
          ],
          [
           "chutney"
          ],
          [
           "cincinnati rap"
          ],
          [
           "cinematic post-rock"
          ],
          [
           "circuit"
          ],
          [
           "circus"
          ],
          [
           "classic afrobeat"
          ],
          [
           "classic arab pop"
          ],
          [
           "classic australian country"
          ],
          [
           "classic belgian pop"
          ],
          [
           "classic bhangra"
          ],
          [
           "classic bollywood"
          ],
          [
           "classic canadian rock"
          ],
          [
           "classic cantopop"
          ],
          [
           "classic colombian pop"
          ],
          [
           "classic country pop"
          ],
          [
           "classic czech pop"
          ],
          [
           "classic danish pop"
          ],
          [
           "classic dubstep"
          ],
          [
           "classic eurovision"
          ],
          [
           "classic finnish pop"
          ],
          [
           "classic french pop"
          ],
          [
           "classic garage rock"
          ],
          [
           "classic girl group"
          ],
          [
           "classic greek pop"
          ],
          [
           "classic hardstyle"
          ],
          [
           "classic icelandic pop"
          ],
          [
           "classic indo pop"
          ],
          [
           "classic iskelma"
          ],
          [
           "classic israeli pop"
          ],
          [
           "classic italian folk pop"
          ],
          [
           "classic italian pop"
          ],
          [
           "classic j-rock"
          ],
          [
           "classic japanese jazz"
          ],
          [
           "classic korean pop"
          ],
          [
           "classic latvian pop"
          ],
          [
           "classic mandopop"
          ],
          [
           "classic norwegian pop"
          ],
          [
           "classic opm"
          ],
          [
           "classic pakistani pop"
          ],
          [
           "classic persian pop"
          ],
          [
           "classic peruvian pop"
          ],
          [
           "classic polish pop"
          ],
          [
           "classic praise"
          ],
          [
           "classic psychedelic rock"
          ],
          [
           "classic punjabi pop"
          ],
          [
           "classic rock"
          ],
          [
           "classic russian pop"
          ],
          [
           "classic russian rock"
          ],
          [
           "classic schlager"
          ],
          [
           "classic soul"
          ],
          [
           "classic soundtrack"
          ],
          [
           "classic swedish pop"
          ],
          [
           "classic thai pop"
          ],
          [
           "classic tunisian pop"
          ],
          [
           "classic turkish pop"
          ],
          [
           "classic uk pop"
          ],
          [
           "classic venezuelan pop"
          ],
          [
           "classical"
          ],
          [
           "classical accordion"
          ],
          [
           "classical baritone"
          ],
          [
           "classical bass"
          ],
          [
           "classical cello"
          ],
          [
           "classical clarinet"
          ],
          [
           "classical contralto"
          ],
          [
           "classical countertenor"
          ],
          [
           "classical era"
          ],
          [
           "classical flute"
          ],
          [
           "classical guitar"
          ],
          [
           "classical harp"
          ],
          [
           "classical horn"
          ],
          [
           "classical mandolin"
          ],
          [
           "classical mezzo-soprano"
          ],
          [
           "classical oboe"
          ],
          [
           "classical organ"
          ],
          [
           "classical performance"
          ],
          [
           "classical piano"
          ],
          [
           "classical piano duo"
          ],
          [
           "classical piano trio"
          ],
          [
           "classical saxophone"
          ],
          [
           "classical soprano"
          ],
          [
           "classical tenor"
          ],
          [
           "classical trumpet"
          ],
          [
           "classify"
          ],
          [
           "clawhammer banjo"
          ],
          [
           "clean comedy"
          ],
          [
           "cleveland metal"
          ],
          [
           "coco"
          ],
          [
           "collage pop"
          ],
          [
           "college a cappella"
          ],
          [
           "colombian hip hop"
          ],
          [
           "colombian pop"
          ],
          [
           "colombian rock"
          ],
          [
           "columbus ohio indie"
          ],
          [
           "comedy"
          ],
          [
           "comedy rap"
          ],
          [
           "comedy rock"
          ],
          [
           "comic"
          ],
          [
           "comic metal"
          ],
          [
           "commons"
          ],
          [
           "complextro"
          ],
          [
           "compositional ambient"
          ],
          [
           "concepcion indie"
          ],
          [
           "concert band"
          ],
          [
           "connecticut hardcore"
          ],
          [
           "connecticut indie"
          ],
          [
           "conscious hip hop"
          ],
          [
           "contemporary choir"
          ],
          [
           "contemporary classical"
          ],
          [
           "contemporary classical piano"
          ],
          [
           "contemporary country"
          ],
          [
           "contemporary folk"
          ],
          [
           "contemporary gospel"
          ],
          [
           "contemporary jazz"
          ],
          [
           "contemporary post-bop"
          ],
          [
           "contemporary vocal jazz"
          ],
          [
           "contrabass"
          ],
          [
           "cool jazz"
          ],
          [
           "copla"
          ],
          [
           "cornish folk"
          ],
          [
           "cornwall indie"
          ],
          [
           "corrido"
          ],
          [
           "corridos cristianos"
          ],
          [
           "corridos tumbados"
          ],
          [
           "corrosion"
          ],
          [
           "cosmic american"
          ],
          [
           "cosmic post-rock"
          ],
          [
           "country"
          ],
          [
           "country blues"
          ],
          [
           "country boogie"
          ],
          [
           "country dawn"
          ],
          [
           "country gospel"
          ],
          [
           "country pop"
          ],
          [
           "country rap"
          ],
          [
           "country road"
          ],
          [
           "country rock"
          ],
          [
           "coverchill"
          ],
          [
           "cowboy western"
          ],
          [
           "cowpunk"
          ],
          [
           "crack rock steady"
          ],
          [
           "croatian folk"
          ],
          [
           "croatian pop"
          ],
          [
           "croatian rock"
          ],
          [
           "crossover thrash"
          ],
          [
           "crunk"
          ],
          [
           "crust punk"
          ],
          [
           "cuarteto"
          ],
          [
           "cuatro venezolano"
          ],
          [
           "cuban alternative"
          ],
          [
           "cuban rumba"
          ],
          [
           "cubaton"
          ],
          [
           "cumbia"
          ],
          [
           "cumbia andina mexicana"
          ],
          [
           "cumbia chilena"
          ],
          [
           "cumbia colombiana regia"
          ],
          [
           "cumbia ecuatoriana"
          ],
          [
           "cumbia funk"
          ],
          [
           "cumbia lagunera"
          ],
          [
           "cumbia paraguaya"
          ],
          [
           "cumbia peruana"
          ],
          [
           "cumbia pop"
          ],
          [
           "cumbia ranchera"
          ],
          [
           "cumbia salvadorena"
          ],
          [
           "cumbia santafesina"
          ],
          [
           "cumbia sonidera"
          ],
          [
           "cumbia villera"
          ],
          [
           "cyberpunk"
          ],
          [
           "cymraeg"
          ],
          [
           "cypriot pop"
          ],
          [
           "czech classical"
          ],
          [
           "czech classical piano"
          ],
          [
           "czech contemporary classical"
          ],
          [
           "d-beat"
          ],
          [
           "dabke"
          ],
          [
           "dakke dak"
          ],
          [
           "dallas indie"
          ],
          [
           "dance pop"
          ],
          [
           "dance rock"
          ],
          [
           "dance-punk"
          ],
          [
           "dancehall"
          ],
          [
           "dangdut"
          ],
          [
           "danish alternative rock"
          ],
          [
           "danish classical"
          ],
          [
           "danish electronic"
          ],
          [
           "danish electropop"
          ],
          [
           "danish hip hop"
          ],
          [
           "danish jazz"
          ],
          [
           "danish metal"
          ],
          [
           "danish pop"
          ],
          [
           "danish pop rock"
          ],
          [
           "danish post-punk"
          ],
          [
           "danish punk"
          ],
          [
           "danish rock"
          ],
          [
           "danish singer-songwriter"
          ],
          [
           "dansband"
          ],
          [
           "danseband"
          ],
          [
           "dansktop"
          ],
          [
           "danspunk"
          ],
          [
           "dark cabaret"
          ],
          [
           "dark clubbing"
          ],
          [
           "dark disco"
          ],
          [
           "dark hardcore"
          ],
          [
           "dark jazz"
          ],
          [
           "dark minimal techno"
          ],
          [
           "dark post-punk"
          ],
          [
           "dark techno"
          ],
          [
           "dark trap"
          ],
          [
           "dark wave"
          ],
          [
           "darksynth"
          ],
          [
           "dayton indie"
          ],
          [
           "dc hardcore"
          ],
          [
           "dc indie"
          ],
          [
           "death 'n' roll"
          ],
          [
           "death metal"
          ],
          [
           "deathcore"
          ],
          [
           "deathgrass"
          ],
          [
           "deathgrind"
          ],
          [
           "deathrash"
          ],
          [
           "deathrock"
          ],
          [
           "deathstep"
          ],
          [
           "deep acoustic pop"
          ],
          [
           "deep adult standards"
          ],
          [
           "deep big room"
          ],
          [
           "deep ccm"
          ],
          [
           "deep christian rock"
          ],
          [
           "deep classic garage rock"
          ],
          [
           "deep comedy"
          ],
          [
           "deep contemporary country"
          ],
          [
           "deep dance pop"
          ],
          [
           "deep delta blues"
          ],
          [
           "deep disco"
          ],
          [
           "deep disco house"
          ],
          [
           "deep dnb"
          ],
          [
           "deep east coast hip hop"
          ],
          [
           "deep euro house"
          ],
          [
           "deep flow"
          ],
          [
           "deep free jazz"
          ],
          [
           "deep freestyle"
          ],
          [
           "deep full on"
          ],
          [
           "deep funk"
          ],
          [
           "deep g funk"
          ],
          [
           "deep gothic post-punk"
          ],
          [
           "deep groove house"
          ],
          [
           "deep house"
          ],
          [
           "deep idm"
          ],
          [
           "deep indian pop"
          ],
          [
           "deep indie singer-songwriter"
          ],
          [
           "deep latin alternative"
          ],
          [
           "deep latin christian"
          ],
          [
           "deep melodic metalcore"
          ],
          [
           "deep minimal techno"
          ],
          [
           "deep motown"
          ],
          [
           "deep new americana"
          ],
          [
           "deep new wave"
          ],
          [
           "deep norteno"
          ],
          [
           "deep northern soul"
          ],
          [
           "deep pop edm"
          ],
          [
           "deep progressive house"
          ],
          [
           "deep psychobilly"
          ],
          [
           "deep punk rock"
          ],
          [
           "deep r&b"
          ],
          [
           "deep ragga"
          ],
          [
           "deep regional mexican"
          ],
          [
           "deep smooth jazz"
          ],
          [
           "deep soft rock"
          ],
          [
           "deep soul house"
          ],
          [
           "deep soundtrack"
          ],
          [
           "deep southern soul"
          ],
          [
           "deep southern trap"
          ],
          [
           "deep space rock"
          ],
          [
           "deep talent show"
          ],
          [
           "deep tech house"
          ],
          [
           "deep techno"
          ],
          [
           "deep tropical house"
          ],
          [
           "deep underground hip hop"
          ],
          [
           "deep uplifting trance"
          ],
          [
           "delta blues"
          ],
          [
           "dembow"
          ],
          [
           "denpa-kei"
          ],
          [
           "denton tx indie"
          ],
          [
           "denver indie"
          ],
          [
           "depressive black metal"
          ],
          [
           "derby indie"
          ],
          [
           "desert blues"
          ],
          [
           "desi hip hop"
          ],
          [
           "desi pop"
          ],
          [
           "destroy techno"
          ],
          [
           "detroit hip hop"
          ],
          [
           "detroit house"
          ],
          [
           "detroit techno"
          ],
          [
           "detroit trap"
          ],
          [
           "detske pisnicky"
          ],
          [
           "detskie pesni"
          ],
          [
           "devon indie"
          ],
          [
           "dfw rap"
          ],
          [
           "dhrupad"
          ],
          [
           "digital hardcore"
          ],
          [
           "dinner jazz"
          ],
          [
           "dirty south rap"
          ],
          [
           "dirty texas rap"
          ],
          [
           "disco"
          ],
          [
           "disco house"
          ],
          [
           "disney"
          ],
          [
           "diva house"
          ],
          [
           "dixieland"
          ],
          [
           "diy emo"
          ],
          [
           "djent"
          ],
          [
           "dmv rap"
          ],
          [
           "dominican pop"
          ],
          [
           "dong-yo"
          ],
          [
           "doo-wop"
          ],
          [
           "doom metal"
          ],
          [
           "double drumming"
          ],
          [
           "downtempo"
          ],
          [
           "drama"
          ],
          [
           "dream pop"
          ],
          [
           "dream trance"
          ],
          [
           "dreamgaze"
          ],
          [
           "dreamo"
          ],
          [
           "drift"
          ],
          [
           "drill"
          ],
          [
           "drill and bass"
          ],
          [
           "drone"
          ],
          [
           "drone folk"
          ],
          [
           "drone metal"
          ],
          [
           "drum and bass"
          ],
          [
           "dub"
          ],
          [
           "dub metal"
          ],
          [
           "dub poetry"
          ],
          [
           "dub techno"
          ],
          [
           "dubstep"
          ],
          [
           "dubsteppe"
          ],
          [
           "duduk"
          ],
          [
           "duluth indie"
          ],
          [
           "dunedin indie"
          ],
          [
           "dunedin sound"
          ],
          [
           "dungeon synth"
          ],
          [
           "duranguense"
          ],
          [
           "dusseldorf electronic"
          ],
          [
           "dutch blues"
          ],
          [
           "dutch cabaret"
          ],
          [
           "dutch classical piano"
          ],
          [
           "dutch death metal"
          ],
          [
           "dutch dnb"
          ],
          [
           "dutch edm"
          ],
          [
           "dutch folk"
          ],
          [
           "dutch hip hop"
          ],
          [
           "dutch house"
          ],
          [
           "dutch indie"
          ],
          [
           "dutch jazz"
          ],
          [
           "dutch metal"
          ],
          [
           "dutch pop"
          ],
          [
           "dutch prog"
          ],
          [
           "dutch rap pop"
          ],
          [
           "dutch rock"
          ],
          [
           "dutch trance"
          ],
          [
           "e6fi"
          ],
          [
           "early american folk"
          ],
          [
           "early avant garde"
          ],
          [
           "early modern classical"
          ],
          [
           "early music"
          ],
          [
           "early music choir"
          ],
          [
           "early music ensemble"
          ],
          [
           "early reggae"
          ],
          [
           "early romantic era"
          ],
          [
           "early synthpop"
          ],
          [
           "early us punk"
          ],
          [
           "east coast hip hop"
          ],
          [
           "east coast reggae"
          ],
          [
           "eastern bloc groove"
          ],
          [
           "easy listening"
          ],
          [
           "easycore"
          ],
          [
           "eau claire indie"
          ],
          [
           "ebm"
          ],
          [
           "ecm-style jazz"
          ],
          [
           "ectofolk"
          ],
          [
           "ecuadorian pop"
          ],
          [
           "edm"
          ],
          [
           "edmonton indie"
          ],
          [
           "egyptian pop"
          ],
          [
           "egyptian traditional"
          ],
          [
           "el paso indie"
          ],
          [
           "electra"
          ],
          [
           "electric bass"
          ],
          [
           "electric blues"
          ],
          [
           "electro"
          ],
          [
           "electro house"
          ],
          [
           "electro jazz"
          ],
          [
           "electro latino"
          ],
          [
           "electro swing"
          ],
          [
           "electro-industrial"
          ],
          [
           "electro-pop francais"
          ],
          [
           "electroclash"
          ],
          [
           "electrofox"
          ],
          [
           "electronic djent"
          ],
          [
           "electronic rock"
          ],
          [
           "electronic trap"
          ],
          [
           "electronica"
          ],
          [
           "electronica argentina"
          ],
          [
           "electropop"
          ],
          [
           "electropowerpop"
          ],
          [
           "emo"
          ],
          [
           "emo mexicano"
          ],
          [
           "emo punk"
          ],
          [
           "emo rap"
          ],
          [
           "emocore"
          ],
          [
           "english baroque"
          ],
          [
           "english indie rock"
          ],
          [
           "english renaissance"
          ],
          [
           "enka"
          ],
          [
           "entehno"
          ],
          [
           "environmental"
          ],
          [
           "epic doom"
          ],
          [
           "epicore"
          ],
          [
           "erhu"
          ],
          [
           "escape room"
          ],
          [
           "esperanto"
          ],
          [
           "essex indie"
          ],
          [
           "estonian hip hop"
          ],
          [
           "estonian pop"
          ],
          [
           "ethereal wave"
          ],
          [
           "etherpop"
          ],
          [
           "ethio-jazz"
          ],
          [
           "ethiopian pop"
          ],
          [
           "ethnomusicology"
          ],
          [
           "ethnotronica"
          ],
          [
           "eugene indie"
          ],
          [
           "euphoric hardstyle"
          ],
          [
           "eurobeat"
          ],
          [
           "eurodance"
          ],
          [
           "europop"
          ],
          [
           "euroska"
          ],
          [
           "eurovision"
          ],
          [
           "exotica"
          ],
          [
           "experimental"
          ],
          [
           "experimental ambient"
          ],
          [
           "experimental big band"
          ],
          [
           "experimental dub"
          ],
          [
           "experimental folk"
          ],
          [
           "experimental guitar"
          ],
          [
           "experimental hip hop"
          ],
          [
           "experimental house"
          ],
          [
           "experimental indie"
          ],
          [
           "experimental jazz"
          ],
          [
           "experimental pop"
          ],
          [
           "experimental rock"
          ],
          [
           "experimental vocal"
          ],
          [
           "fado"
          ],
          [
           "family gospel"
          ],
          [
           "faroese pop"
          ],
          [
           "fast melodic punk"
          ],
          [
           "fidget house"
          ],
          [
           "filmi"
          ],
          [
           "filter house"
          ],
          [
           "filthstep"
          ],
          [
           "final fantasy"
          ],
          [
           "fingerstyle"
          ],
          [
           "finnish alternative rock"
          ],
          [
           "finnish classical"
          ],
          [
           "finnish contemporary classical"
          ],
          [
           "finnish death metal"
          ],
          [
           "finnish edm"
          ],
          [
           "finnish hard rock"
          ],
          [
           "finnish heavy metal"
          ],
          [
           "finnish metal"
          ],
          [
           "finnish power metal"
          ],
          [
           "finnish soul"
          ],
          [
           "flamenco"
          ],
          [
           "flamenco guitar"
          ],
          [
           "flick hop"
          ],
          [
           "flint hip hop"
          ],
          [
           "float house"
          ],
          [
           "florida death metal"
          ],
          [
           "florida rap"
          ],
          [
           "fluxwork"
          ],
          [
           "fo jing"
          ],
          [
           "focus"
          ],
          [
           "focus beats"
          ],
          [
           "focus trance"
          ],
          [
           "folclor afrocolombiano"
          ],
          [
           "folclor colombiano"
          ],
          [
           "folclore extremeno"
          ],
          [
           "folclore jujeno"
          ],
          [
           "folclore navarra"
          ],
          [
           "folclore salteno"
          ],
          [
           "folclore tucumano"
          ],
          [
           "folk"
          ],
          [
           "folk metal"
          ],
          [
           "folk punk"
          ],
          [
           "folk rock"
          ],
          [
           "folk rock italiano"
          ],
          [
           "folk-pop"
          ],
          [
           "folklore argentino"
          ],
          [
           "folklore boliviano"
          ],
          [
           "folklore chileno"
          ],
          [
           "folklore ecuatoriano"
          ],
          [
           "folklore peruano"
          ],
          [
           "folklore venezolano"
          ],
          [
           "folklore veracruzano"
          ],
          [
           "folkmusik"
          ],
          [
           "folktronica"
          ],
          [
           "footwork"
          ],
          [
           "forro"
          ],
          [
           "forro tradicional"
          ],
          [
           "fort worth indie"
          ],
          [
           "fourth world"
          ],
          [
           "francoton"
          ],
          [
           "freak folk"
          ],
          [
           "freakbeat"
          ],
          [
           "free folk"
          ],
          [
           "free improvisation"
          ],
          [
           "free jazz"
          ],
          [
           "freestyle"
          ],
          [
           "french baroque"
          ],
          [
           "french classical piano"
          ],
          [
           "french contemporary classical"
          ],
          [
           "french death metal"
          ],
          [
           "french dnb"
          ],
          [
           "french hip hop"
          ],
          [
           "french indie folk"
          ],
          [
           "french indie pop"
          ],
          [
           "french indietronica"
          ],
          [
           "french jazz"
          ],
          [
           "french metal"
          ],
          [
           "french movie tunes"
          ],
          [
           "french opera"
          ],
          [
           "french orchestra"
          ],
          [
           "french pop"
          ],
          [
           "french post-punk"
          ],
          [
           "french psychedelic"
          ],
          [
           "french reggae"
          ],
          [
           "french rock"
          ],
          [
           "french romanticism"
          ],
          [
           "french shoegaze"
          ],
          [
           "french soundtrack"
          ],
          [
           "french synthpop"
          ],
          [
           "french techno"
          ],
          [
           "frenchcore"
          ],
          [
           "full on"
          ],
          [
           "funana"
          ],
          [
           "funeral doom"
          ],
          [
           "funk"
          ],
          [
           "funk 150 bpm"
          ],
          [
           "funk carioca"
          ],
          [
           "funk das antigas"
          ],
          [
           "funk metal"
          ],
          [
           "funk mexicano"
          ],
          [
           "funk ostentacao"
          ],
          [
           "funk paulista"
          ],
          [
           "funk pop"
          ],
          [
           "funk rock"
          ],
          [
           "funky breaks"
          ],
          [
           "funky tech house"
          ],
          [
           "future bass"
          ],
          [
           "future funk"
          ],
          [
           "future garage"
          ],
          [
           "future house"
          ],
          [
           "future rock"
          ],
          [
           "futurepop"
          ],
          [
           "g funk"
          ],
          [
           "gabba"
          ],
          [
           "gabonese pop"
          ],
          [
           "gaian doom"
          ],
          [
           "gainesville indie"
          ],
          [
           "gaita zuliana"
          ],
          [
           "galante era"
          ],
          [
           "gamelan"
          ],
          [
           "gaming dubstep"
          ],
          [
           "gaming edm"
          ],
          [
           "gangster rap"
          ],
          [
           "garage house"
          ],
          [
           "garage pop"
          ],
          [
           "garage psych"
          ],
          [
           "garage punk"
          ],
          [
           "garage punk blues"
          ],
          [
           "garage rock"
          ],
          [
           "garage rock revival"
          ],
          [
           "gauze pop"
          ],
          [
           "gbvfi"
          ],
          [
           "geek folk"
          ],
          [
           "geek rock"
          ],
          [
           "georgian folk"
          ],
          [
           "german alternative rock"
          ],
          [
           "german baroque"
          ],
          [
           "german choir"
          ],
          [
           "german classical piano"
          ],
          [
           "german country"
          ],
          [
           "german dance"
          ],
          [
           "german hard rock"
          ],
          [
           "german heavy metal"
          ],
          [
           "german house"
          ],
          [
           "german indie"
          ],
          [
           "german jazz"
          ],
          [
           "german literature"
          ],
          [
           "german metal"
          ],
          [
           "german oi"
          ],
          [
           "german opera"
          ],
          [
           "german orchestra"
          ],
          [
           "german pop"
          ],
          [
           "german pop rock"
          ],
          [
           "german post-hardcore"
          ],
          [
           "german power metal"
          ],
          [
           "german punk"
          ],
          [
           "german renaissance"
          ],
          [
           "german rock"
          ],
          [
           "german romanticism"
          ],
          [
           "german show tunes"
          ],
          [
           "german soundtrack"
          ],
          [
           "german techno"
          ],
          [
           "german thrash metal"
          ],
          [
           "german trance"
          ],
          [
           "german underground rap"
          ],
          [
           "ghanaian hip hop"
          ],
          [
           "ghanaian traditional"
          ],
          [
           "ghazal"
          ],
          [
           "ghent indie"
          ],
          [
           "girl group"
          ],
          [
           "glam metal"
          ],
          [
           "glam punk"
          ],
          [
           "glam rock"
          ],
          [
           "glee club"
          ],
          [
           "glitch"
          ],
          [
           "glitch hop"
          ],
          [
           "glitch pop"
          ],
          [
           "glitchcore"
          ],
          [
           "go-go"
          ],
          [
           "goregrind"
          ],
          [
           "gospel"
          ],
          [
           "gospel antigas"
          ],
          [
           "gospel blues"
          ],
          [
           "gospel italiano"
          ],
          [
           "gospel r&b"
          ],
          [
           "gospel rap"
          ],
          [
           "gospel singers"
          ],
          [
           "gospel soul"
          ],
          [
           "gothabilly"
          ],
          [
           "gothenburg indie"
          ],
          [
           "gothenburg metal"
          ],
          [
           "gothic alternative"
          ],
          [
           "gothic americana"
          ],
          [
           "gothic black metal"
          ],
          [
           "gothic metal"
          ],
          [
           "gothic post-punk"
          ],
          [
           "gothic rock"
          ],
          [
           "gothic symphonic metal"
          ],
          [
           "gqom"
          ],
          [
           "grand rapids indie"
          ],
          [
           "grave wave"
          ],
          [
           "greek clarinet"
          ],
          [
           "greek contemporary classical"
          ],
          [
           "greek folk"
          ],
          [
           "greek guitar"
          ],
          [
           "greek house"
          ],
          [
           "greek jazz"
          ],
          [
           "greek pop"
          ],
          [
           "greek swing"
          ],
          [
           "gregorian chant"
          ],
          [
           "grime"
          ],
          [
           "grindcore"
          ],
          [
           "griot"
          ],
          [
           "groove metal"
          ],
          [
           "groove room"
          ],
          [
           "grunge"
          ],
          [
           "grunge pop"
          ],
          [
           "grupera"
          ],
          [
           "gruperas inmortales"
          ],
          [
           "guadalajara indie"
          ],
          [
           "guam indie"
          ],
          [
           "guaracha"
          ],
          [
           "guatemalan pop"
          ],
          [
           "guidance"
          ],
          [
           "guinean pop"
          ],
          [
           "guitarra argentina"
          ],
          [
           "guitarra clasica"
          ],
          [
           "guitarra portuguesa"
          ],
          [
           "gujarati garba"
          ],
          [
           "gujarati pop"
          ],
          [
           "guzheng"
          ],
          [
           "gymcore"
          ],
          [
           "gypsy"
          ],
          [
           "gypsy jazz"
          ],
          [
           "gypsy punk"
          ],
          [
           "haitian traditional"
          ],
          [
           "halifax indie"
          ],
          [
           "halloween"
          ],
          [
           "hamburg electronic"
          ],
          [
           "hammered dulcimer"
          ],
          [
           "hammond organ"
          ],
          [
           "hands up"
          ],
          [
           "hangpan"
          ],
          [
           "happy hardcore"
          ],
          [
           "hard alternative"
          ],
          [
           "hard bop"
          ],
          [
           "hard minimal techno"
          ],
          [
           "hard rock"
          ],
          [
           "hard rock brasileiro"
          ],
          [
           "hardcore"
          ],
          [
           "hardcore hip hop"
          ],
          [
           "hardcore punk"
          ],
          [
           "hardcore techno"
          ],
          [
           "hardstyle"
          ],
          [
           "harlem hip hop"
          ],
          [
           "harlem renaissance"
          ],
          [
           "harmonica blues"
          ],
          [
           "harmonica jazz"
          ],
          [
           "harp"
          ],
          [
           "harpsichord"
          ],
          [
           "haryanvi pop"
          ],
          [
           "hauntology"
          ],
          [
           "hawaiian"
          ],
          [
           "hawaiian hip hop"
          ],
          [
           "hawaiian indie"
          ],
          [
           "healing"
          ],
          [
           "heartland rock"
          ],
          [
           "hi-nrg"
          ],
          [
           "highlife"
          ],
          [
           "hindi hip hop"
          ],
          [
           "hindi indie"
          ],
          [
           "hindustani classical"
          ],
          [
           "hindustani instrumental"
          ],
          [
           "hindustani vocal"
          ],
          [
           "hip hop"
          ],
          [
           "hip hop cubano"
          ],
          [
           "hip house"
          ],
          [
           "hip pop"
          ],
          [
           "hiplife"
          ],
          [
           "histoire pour enfants"
          ],
          [
           "historic classical performance"
          ],
          [
           "historic orchestral performance"
          ],
          [
           "historic piano performance"
          ],
          [
           "historic string quartet"
          ],
          [
           "historical keyboard"
          ],
          [
           "historically informed performance"
          ],
          [
           "hoerspiel"
          ],
          [
           "hokkien pop"
          ],
          [
           "hollywood"
          ],
          [
           "hong kong hip hop"
          ],
          [
           "hong kong indie"
          ],
          [
           "hong kong rock"
          ],
          [
           "honky tonk"
          ],
          [
           "honky-tonk piano"
          ],
          [
           "hopebeat"
          ],
          [
           "horror punk"
          ],
          [
           "horror synth"
          ],
          [
           "horrorcore"
          ],
          [
           "house"
          ],
          [
           "houston rap"
          ],
          [
           "huapango"
          ],
          [
           "huayno"
          ],
          [
           "hula"
          ],
          [
           "humppa"
          ],
          [
           "hungarian choir"
          ],
          [
           "hungarian classical performance"
          ],
          [
           "hungarian classical piano"
          ],
          [
           "hungarian contemporary classical"
          ],
          [
           "hungarian edm"
          ],
          [
           "hungarian folk"
          ],
          [
           "hungarian pop"
          ],
          [
           "hungarian rock"
          ],
          [
           "hungarian techno"
          ],
          [
           "hurdy-gurdy"
          ],
          [
           "hyperpop"
          ],
          [
           "hyphy"
          ],
          [
           "icelandic classical"
          ],
          [
           "icelandic electronic"
          ],
          [
           "icelandic experimental"
          ],
          [
           "icelandic folk"
          ],
          [
           "icelandic indie"
          ],
          [
           "icelandic jazz"
          ],
          [
           "icelandic pop"
          ],
          [
           "icelandic rock"
          ],
          [
           "idaho indie"
          ],
          [
           "idol"
          ],
          [
           "idol rock"
          ],
          [
           "ilahiler"
          ],
          [
           "ilocano pop"
          ],
          [
           "impressionism"
          ],
          [
           "indian classical"
          ],
          [
           "indian edm"
          ],
          [
           "indian folk"
          ],
          [
           "indian fusion"
          ],
          [
           "indian indie"
          ],
          [
           "indian instrumental"
          ],
          [
           "indian jazz"
          ],
          [
           "indiana hip hop"
          ],
          [
           "indie anthem-folk"
          ],
          [
           "indie cafe pop"
          ],
          [
           "indie deutschrap"
          ],
          [
           "indie dream pop"
          ],
          [
           "indie electronica"
          ],
          [
           "indie electropop"
          ],
          [
           "indie folk"
          ],
          [
           "indie game soundtrack"
          ],
          [
           "indie garage rock"
          ],
          [
           "indie hip hop"
          ],
          [
           "indie jazz"
          ],
          [
           "indie pop"
          ],
          [
           "indie pop rap"
          ],
          [
           "indie poptimism"
          ],
          [
           "indie psych-pop"
          ],
          [
           "indie punk"
          ],
          [
           "indie quebecois"
          ],
          [
           "indie r&b"
          ],
          [
           "indie rock"
          ],
          [
           "indie rock mexicano"
          ],
          [
           "indie rockism"
          ],
          [
           "indie shoegaze"
          ],
          [
           "indie singer-songwriter"
          ],
          [
           "indie soul"
          ],
          [
           "indie surf"
          ],
          [
           "indie triste"
          ],
          [
           "indiecoustica"
          ],
          [
           "indietronica"
          ],
          [
           "indonesian hip hop"
          ],
          [
           "indonesian indie"
          ],
          [
           "indonesian pop"
          ],
          [
           "indonesian r&b"
          ],
          [
           "indonesian worship"
          ],
          [
           "industrial"
          ],
          [
           "industrial hardcore"
          ],
          [
           "industrial hip hop"
          ],
          [
           "industrial metal"
          ],
          [
           "industrial rock"
          ],
          [
           "indy indie"
          ],
          [
           "instrumental acoustic guitar"
          ],
          [
           "instrumental bluegrass"
          ],
          [
           "instrumental funk"
          ],
          [
           "instrumental grime"
          ],
          [
           "instrumental math rock"
          ],
          [
           "instrumental post-rock"
          ],
          [
           "instrumental progressive metal"
          ],
          [
           "instrumental rock"
          ],
          [
           "instrumental soul"
          ],
          [
           "instrumental stoner rock"
          ],
          [
           "instrumental surf"
          ],
          [
           "intelligent dance music"
          ],
          [
           "iowa hip hop"
          ],
          [
           "irish accordion"
          ],
          [
           "irish ballad"
          ],
          [
           "irish banjo"
          ],
          [
           "irish classical"
          ],
          [
           "irish country"
          ],
          [
           "irish dance"
          ],
          [
           "irish fiddle"
          ],
          [
           "irish folk"
          ],
          [
           "irish hip hop"
          ],
          [
           "irish indie"
          ],
          [
           "irish metal"
          ],
          [
           "irish pop"
          ],
          [
           "irish pub song"
          ],
          [
           "irish rock"
          ],
          [
           "irish singer-songwriter"
          ],
          [
           "iskelma"
          ],
          [
           "islamic recitation"
          ],
          [
           "isle of wight indie"
          ],
          [
           "israeli classical"
          ],
          [
           "israeli classical piano"
          ],
          [
           "israeli folk"
          ],
          [
           "israeli hip hop"
          ],
          [
           "israeli mediterranean"
          ],
          [
           "israeli pop"
          ],
          [
           "israeli rock"
          ],
          [
           "israeli singer-songwriter"
          ],
          [
           "israeli techno"
          ],
          [
           "italian adult pop"
          ],
          [
           "italian baritone"
          ],
          [
           "italian baroque"
          ],
          [
           "italian baroque ensemble"
          ],
          [
           "italian bass"
          ],
          [
           "italian blues"
          ],
          [
           "italian classical guitar"
          ],
          [
           "italian classical piano"
          ],
          [
           "italian contemporary jazz"
          ],
          [
           "italian disco"
          ],
          [
           "italian gothic"
          ],
          [
           "italian gothic metal"
          ],
          [
           "italian indie pop"
          ],
          [
           "italian jazz"
          ],
          [
           "italian library music"
          ],
          [
           "italian mandolin"
          ],
          [
           "italian metal"
          ],
          [
           "italian mezzo-soprano"
          ],
          [
           "italian modern prog"
          ],
          [
           "italian opera"
          ],
          [
           "italian orchestra"
          ],
          [
           "italian pop rock"
          ],
          [
           "italian power metal"
          ],
          [
           "italian progressive metal"
          ],
          [
           "italian progressive rock"
          ],
          [
           "italian renaissance"
          ],
          [
           "italian romanticism"
          ],
          [
           "italian soprano"
          ],
          [
           "italian soundtrack"
          ],
          [
           "italian techno"
          ],
          [
           "italian tenor"
          ],
          [
           "italian violin"
          ],
          [
           "italo dance"
          ],
          [
           "italo house"
          ],
          [
           "j-acoustic"
          ],
          [
           "j-ambient"
          ],
          [
           "j-dance"
          ],
          [
           "j-division"
          ],
          [
           "j-idol"
          ],
          [
           "j-metal"
          ],
          [
           "j-pixie"
          ],
          [
           "j-pop"
          ],
          [
           "j-pop girl group"
          ],
          [
           "j-poprock"
          ],
          [
           "j-punk"
          ],
          [
           "j-reggae"
          ],
          [
           "j-rock"
          ],
          [
           "jacksonville indie"
          ],
          [
           "jam band"
          ],
          [
           "jamgrass"
          ],
          [
           "jamtronica"
          ],
          [
           "jangle pop"
          ],
          [
           "japanese alternative rock"
          ],
          [
           "japanese chillhop"
          ],
          [
           "japanese city pop"
          ],
          [
           "japanese classical"
          ],
          [
           "japanese classical performance"
          ],
          [
           "japanese classical piano"
          ],
          [
           "japanese concert band"
          ],
          [
           "japanese dream pop"
          ],
          [
           "japanese electronic"
          ],
          [
           "japanese electropop"
          ],
          [
           "japanese emo"
          ],
          [
           "japanese experimental"
          ],
          [
           "japanese folk"
          ],
          [
           "japanese garage rock"
          ],
          [
           "japanese girl punk"
          ],
          [
           "japanese heavy metal"
          ],
          [
           "japanese idm"
          ],
          [
           "japanese indie folk"
          ],
          [
           "japanese indie rock"
          ],
          [
           "japanese instrumental"
          ],
          [
           "japanese jazz"
          ],
          [
           "japanese jazz fusion"
          ],
          [
           "japanese jazztronica"
          ],
          [
           "japanese metalcore"
          ],
          [
           "japanese new wave"
          ],
          [
           "japanese piano"
          ],
          [
           "japanese pop punk"
          ],
          [
           "japanese post-hardcore"
          ],
          [
           "japanese power metal"
          ],
          [
           "japanese prog"
          ],
          [
           "japanese psychedelic"
          ],
          [
           "japanese punk rock"
          ],
          [
           "japanese r&b"
          ],
          [
           "japanese rockabilly"
          ],
          [
           "japanese singer-songwriter"
          ],
          [
           "japanese soundtrack"
          ],
          [
           "japanese traditional"
          ],
          [
           "japanese vgm"
          ],
          [
           "japanese vocal jazz"
          ],
          [
           "jawaiian"
          ],
          [
           "jazz"
          ],
          [
           "jazz accordion"
          ],
          [
           "jazz blues"
          ],
          [
           "jazz boom bap"
          ],
          [
           "jazz brass"
          ],
          [
           "jazz chileno"
          ],
          [
           "jazz clarinet"
          ],
          [
           "jazz colombiano"
          ],
          [
           "jazz cubano"
          ],
          [
           "jazz double bass"
          ],
          [
           "jazz drums"
          ],
          [
           "jazz flute"
          ],
          [
           "jazz funk"
          ],
          [
           "jazz fusion"
          ],
          [
           "jazz guitar"
          ],
          [
           "jazz harp"
          ],
          [
           "jazz metal"
          ],
          [
           "jazz mexicano"
          ],
          [
           "jazz orchestra"
          ],
          [
           "jazz organ"
          ],
          [
           "jazz piano"
          ],
          [
           "jazz pop"
          ],
          [
           "jazz quartet"
          ],
          [
           "jazz rap"
          ],
          [
           "jazz rock"
          ],
          [
           "jazz saxophone"
          ],
          [
           "jazz trio"
          ],
          [
           "jazz trombone"
          ],
          [
           "jazz trumpet"
          ],
          [
           "jazz tuba"
          ],
          [
           "jazz venezolano"
          ],
          [
           "jazz vibraphone"
          ],
          [
           "jazz violin"
          ],
          [
           "jazztronica"
          ],
          [
           "jewish cantorial"
          ],
          [
           "jewish hip hop"
          ],
          [
           "jig and reel"
          ],
          [
           "jordanian pop"
          ],
          [
           "joropo"
          ],
          [
           "jovem guarda"
          ],
          [
           "jug band"
          ],
          [
           "juju"
          ],
          [
           "jump blues"
          ],
          [
           "jump up"
          ],
          [
           "k-indie"
          ],
          [
           "k-pop"
          ],
          [
           "k-pop boy group"
          ],
          [
           "k-pop girl group"
          ],
          [
           "k-rap"
          ],
          [
           "kabarett"
          ],
          [
           "kabyle"
          ],
          [
           "kaneka"
          ],
          [
           "kannada bhava geethe"
          ],
          [
           "kansas city hip hop"
          ],
          [
           "kashmiri pop"
          ],
          [
           "kawaii future bass"
          ],
          [
           "kawaii metal"
          ],
          [
           "kayokyoku"
          ],
          [
           "kc indie"
          ],
          [
           "kent indie"
          ],
          [
           "kentucky hip hop"
          ],
          [
           "kentucky indie"
          ],
          [
           "kentucky metal"
          ],
          [
           "kentucky mountain folk"
          ],
          [
           "kentucky punk"
          ],
          [
           "kentucky roots"
          ],
          [
           "keroncong"
          ],
          [
           "khaleeji iraqi"
          ],
          [
           "khmer"
          ],
          [
           "kids dance party"
          ],
          [
           "kindie rock"
          ],
          [
           "kingston on indie"
          ],
          [
           "kirtan"
          ],
          [
           "kiwi rock"
          ],
          [
           "kizomba antigas"
          ],
          [
           "kleine hoerspiel"
          ],
          [
           "klezmer"
          ],
          [
           "knoxville indie"
          ],
          [
           "kodomo no ongaku"
          ],
          [
           "kolsche karneval"
          ],
          [
           "komedi"
          ],
          [
           "kompa"
          ],
          [
           "kora"
          ],
          [
           "korean classical performance"
          ],
          [
           "korean classical piano"
          ],
          [
           "korean indie rock"
          ],
          [
           "korean mask singer"
          ],
          [
           "korean pop"
          ],
          [
           "korean r&b"
          ],
          [
           "korean trap"
          ],
          [
           "koto"
          ],
          [
           "krautrock"
          ],
          [
           "kundiman"
          ],
          [
           "la indie"
          ],
          [
           "la pop"
          ],
          [
           "laboratorio"
          ],
          [
           "lafayette indie"
          ],
          [
           "laiko"
          ],
          [
           "lancashire indie"
          ],
          [
           "lancaster pa indie"
          ],
          [
           "late romantic era"
          ],
          [
           "latin"
          ],
          [
           "latin afrobeat"
          ],
          [
           "latin alternative"
          ],
          [
           "latin american classical piano"
          ],
          [
           "latin arena pop"
          ],
          [
           "latin christian"
          ],
          [
           "latin classical"
          ],
          [
           "latin funk"
          ],
          [
           "latin hip hop"
          ],
          [
           "latin house"
          ],
          [
           "latin jazz"
          ],
          [
           "latin metal"
          ],
          [
           "latin pop"
          ],
          [
           "latin rock"
          ],
          [
           "latin ska"
          ],
          [
           "latin soundtrack"
          ],
          [
           "latin talent show"
          ],
          [
           "latin tech house"
          ],
          [
           "latin viral pop"
          ],
          [
           "latin worship"
          ],
          [
           "latincore"
          ],
          [
           "latino comedy"
          ],
          [
           "latintronica"
          ],
          [
           "latinx alternative"
          ],
          [
           "latvian pop"
          ],
          [
           "lds"
          ],
          [
           "lds youth"
          ],
          [
           "lebanese pop"
          ],
          [
           "leicester indie"
          ],
          [
           "lexington ky indie"
          ],
          [
           "lgbtq+ hip hop"
          ],
          [
           "library music"
          ],
          [
           "liedermacher"
          ],
          [
           "light music"
          ],
          [
           "lilith"
          ],
          [
           "liquid funk"
          ],
          [
           "lithuanian electronic"
          ],
          [
           "liverpool indie"
          ],
          [
           "livetronica"
          ],
          [
           "lldm"
          ],
          [
           "lo star"
          ],
          [
           "lo-fi"
          ],
          [
           "lo-fi beats"
          ],
          [
           "lo-fi brasileiro"
          ],
          [
           "lo-fi chill"
          ],
          [
           "lo-fi cover"
          ],
          [
           "lo-fi emo"
          ],
          [
           "lo-fi house"
          ],
          [
           "lo-fi indie"
          ],
          [
           "lo-fi vgm"
          ],
          [
           "london rap"
          ],
          [
           "louisiana blues"
          ],
          [
           "louisiana metal"
          ],
          [
           "louisville indie"
          ],
          [
           "louisville underground"
          ],
          [
           "lounge"
          ],
          [
           "louvor"
          ],
          [
           "lovers rock"
          ],
          [
           "lullaby"
          ],
          [
           "lund indie"
          ],
          [
           "lute"
          ],
          [
           "macedonian folk"
          ],
          [
           "madchester"
          ],
          [
           "madrigal"
          ],
          [
           "magyar alternative"
          ],
          [
           "maine hip hop"
          ],
          [
           "maine indie"
          ],
          [
           "mainland chinese pop"
          ],
          [
           "makossa"
          ],
          [
           "malaysian mandopop"
          ],
          [
           "malaysian pop"
          ],
          [
           "malian blues"
          ],
          [
           "mallet"
          ],
          [
           "malmo indie"
          ],
          [
           "mambo"
          ],
          [
           "manchester hip hop"
          ],
          [
           "manchester indie"
          ],
          [
           "mande pop"
          ],
          [
           "mandolin"
          ],
          [
           "mandopop"
          ],
          [
           "manguebeat"
          ],
          [
           "manila sound"
          ],
          [
           "manitoba indie"
          ],
          [
           "mantra"
          ],
          [
           "marathi pop"
          ],
          [
           "marathi traditional"
          ],
          [
           "marching band"
          ],
          [
           "mariachi"
          ],
          [
           "mariachi cristiano"
          ],
          [
           "marimba orquesta"
          ],
          [
           "martial industrial"
          ],
          [
           "mashup"
          ],
          [
           "math rock"
          ],
          [
           "mathcore"
          ],
          [
           "mbalax"
          ],
          [
           "medieval"
          ],
          [
           "medieval folk"
          ],
          [
           "medieval rock"
          ],
          [
           "meditation"
          ],
          [
           "melancholia"
          ],
          [
           "melbourne bounce"
          ],
          [
           "melbourne bounce international"
          ],
          [
           "melbourne indie"
          ],
          [
           "mellow gold"
          ],
          [
           "melodic death metal"
          ],
          [
           "melodic deathcore"
          ],
          [
           "melodic dubstep"
          ],
          [
           "melodic groove metal"
          ],
          [
           "melodic hard rock"
          ],
          [
           "melodic hardcore"
          ],
          [
           "melodic metal"
          ],
          [
           "melodic metalcore"
          ],
          [
           "melodic power metal"
          ],
          [
           "melodic rap"
          ],
          [
           "melodic thrash"
          ],
          [
           "meme rap"
          ],
          [
           "memphis americana"
          ],
          [
           "memphis blues"
          ],
          [
           "memphis hip hop"
          ],
          [
           "memphis indie"
          ],
          [
           "memphis soul"
          ],
          [
           "mento"
          ],
          [
           "merengue"
          ],
          [
           "merengue tipico"
          ],
          [
           "merseybeat"
          ],
          [
           "messianic praise"
          ],
          [
           "metal"
          ],
          [
           "metal guitar"
          ],
          [
           "metal mineiro"
          ],
          [
           "metalcore"
          ],
          [
           "metropopolis"
          ],
          [
           "mexican classic rock"
          ],
          [
           "mexican classical"
          ],
          [
           "mexican hip hop"
          ],
          [
           "mexican indie"
          ],
          [
           "mexican pop"
          ],
          [
           "mexican pop punk"
          ],
          [
           "mexican rock"
          ],
          [
           "mexican rock-and-roll"
          ],
          [
           "mexican son"
          ],
          [
           "mexican traditional"
          ],
          [
           "miami bass"
          ],
          [
           "miami hip hop"
          ],
          [
           "miami indie"
          ],
          [
           "miami metal"
          ],
          [
           "michigan indie"
          ],
          [
           "microhouse"
          ],
          [
           "microtonal"
          ],
          [
           "middle earth"
          ],
          [
           "middle east hip hop"
          ],
          [
           "middle eastern traditional"
          ],
          [
           "midwest americana"
          ],
          [
           "midwest emo"
          ],
          [
           "military cadence"
          ],
          [
           "military rap"
          ],
          [
           "milwaukee indie"
          ],
          [
           "mindfulness"
          ],
          [
           "minecraft"
          ],
          [
           "minimal melodic techno"
          ],
          [
           "minimal tech house"
          ],
          [
           "minimal techno"
          ],
          [
           "minimal wave"
          ],
          [
           "minimalism"
          ],
          [
           "minneapolis indie"
          ],
          [
           "minneapolis metal"
          ],
          [
           "minneapolis punk"
          ],
          [
           "minneapolis sound"
          ],
          [
           "minnesota hip hop"
          ],
          [
           "mississippi hip hop"
          ],
          [
           "mississippi indie"
          ],
          [
           "mizrahi"
          ],
          [
           "mod revival"
          ],
          [
           "modern alternative pop"
          ],
          [
           "modern alternative rock"
          ],
          [
           "modern big band"
          ],
          [
           "modern blues"
          ],
          [
           "modern blues rock"
          ],
          [
           "modern bollywood"
          ],
          [
           "modern country rock"
          ],
          [
           "modern dream pop"
          ],
          [
           "modern folk rock"
          ],
          [
           "modern funk"
          ],
          [
           "modern hard rock"
          ],
          [
           "modern indie pop"
          ],
          [
           "modern jazz piano"
          ],
          [
           "modern jazz trio"
          ],
          [
           "modern old-time"
          ],
          [
           "modern performance"
          ],
          [
           "modern power pop"
          ],
          [
           "modern psychedelic folk"
          ],
          [
           "modern reggae"
          ],
          [
           "modern rock"
          ],
          [
           "modern salsa"
          ],
          [
           "modern ska punk"
          ],
          [
           "modern southern rock"
          ],
          [
           "modern string quartet"
          ],
          [
           "modern swing"
          ],
          [
           "modern uplift"
          ],
          [
           "modular synth"
          ],
          [
           "moldovan pop"
          ],
          [
           "mollywood"
          ],
          [
           "mongolian hip hop"
          ],
          [
           "mongolian pop"
          ],
          [
           "monterrey indie"
          ],
          [
           "montreal indie"
          ],
          [
           "moog"
          ],
          [
           "moombahton"
          ],
          [
           "morna"
          ],
          [
           "motivation"
          ],
          [
           "motown"
          ],
          [
           "mountain dulcimer"
          ],
          [
           "movie tunes"
          ],
          [
           "mpb"
          ],
          [
           "music box"
          ],
          [
           "music hall"
          ],
          [
           "musica afroperuana"
          ],
          [
           "musica alagoana"
          ],
          [
           "musica andina"
          ],
          [
           "musica andina colombiana"
          ],
          [
           "musica antigua"
          ],
          [
           "musica aragonesa"
          ],
          [
           "musica ayacuchana"
          ],
          [
           "musica canaria"
          ],
          [
           "musica costarricense"
          ],
          [
           "musica costena"
          ],
          [
           "musica cristiana guatemalteca"
          ],
          [
           "musica de fondo"
          ],
          [
           "musica gaucha tradicionalista"
          ],
          [
           "musica hondurena"
          ],
          [
           "musica infantil"
          ],
          [
           "musica jibara"
          ],
          [
           "musica juiz-forana"
          ],
          [
           "musica llanera"
          ],
          [
           "musica nicaraguense"
          ],
          [
           "musica para criancas"
          ],
          [
           "musica para ninos"
          ],
          [
           "musica paraibana"
          ],
          [
           "musica piemonteisa"
          ],
          [
           "musica popular colombiana"
          ],
          [
           "musica popular mineira"
          ],
          [
           "musica popular paraense"
          ],
          [
           "musica potosina"
          ],
          [
           "musica prehispanica"
          ],
          [
           "musica sarda"
          ],
          [
           "musica tradicional cubana"
          ],
          [
           "musica tropical guatemalteca"
          ],
          [
           "musical advocacy"
          ],
          [
           "musikkorps"
          ],
          [
           "musique concrete"
          ],
          [
           "musique peule"
          ],
          [
           "musique pour enfant quebecois"
          ],
          [
           "musique pour enfants"
          ],
          [
           "musique touareg"
          ],
          [
           "muzica populara"
          ],
          [
           "muzika l'yeladim"
          ],
          [
           "naija worship"
          ],
          [
           "nantes indie"
          ],
          [
           "narodna muzika"
          ],
          [
           "nashville americana"
          ],
          [
           "nashville hip hop"
          ],
          [
           "nashville indie"
          ],
          [
           "nashville singer-songwriter"
          ],
          [
           "nashville sound"
          ],
          [
           "native american"
          ],
          [
           "native american contemporary"
          ],
          [
           "native american flute"
          ],
          [
           "native american hip hop"
          ],
          [
           "native american spiritual"
          ],
          [
           "navajo"
          ],
          [
           "nederlandse hardstyle"
          ],
          [
           "nederpop"
          ],
          [
           "neo classical metal"
          ],
          [
           "neo kyma"
          ],
          [
           "neo mellow"
          ],
          [
           "neo r&b"
          ],
          [
           "neo soul"
          ],
          [
           "neo-classical"
          ],
          [
           "neo-kraut"
          ],
          [
           "neo-pagan"
          ],
          [
           "neo-progressive"
          ],
          [
           "neo-psychedelic"
          ],
          [
           "neo-rockabilly"
          ],
          [
           "neo-singer-songwriter"
          ],
          [
           "neo-synthpop"
          ],
          [
           "neo-trad metal"
          ],
          [
           "neo-traditional bluegrass"
          ],
          [
           "neo-traditional country"
          ],
          [
           "neoclassical darkwave"
          ],
          [
           "neoclassicism"
          ],
          [
           "neofolk"
          ],
          [
           "neon pop punk"
          ],
          [
           "neotango"
          ],
          [
           "nepali indie"
          ],
          [
           "nepali pop"
          ],
          [
           "nerdcore"
          ],
          [
           "neue deutsche harte"
          ],
          [
           "neue deutsche todeskunst"
          ],
          [
           "neue deutsche welle"
          ],
          [
           "neurofunk"
          ],
          [
           "new age"
          ],
          [
           "new age piano"
          ],
          [
           "new americana"
          ],
          [
           "new beat"
          ],
          [
           "new comedy"
          ],
          [
           "new england americana"
          ],
          [
           "new england emo"
          ],
          [
           "new french touch"
          ],
          [
           "new isolationism"
          ],
          [
           "new jack swing"
          ],
          [
           "new jersey hardcore"
          ],
          [
           "new jersey indie"
          ],
          [
           "new jersey punk"
          ],
          [
           "new jersey rap"
          ],
          [
           "new mexico music"
          ],
          [
           "new orleans blues"
          ],
          [
           "new orleans funk"
          ],
          [
           "new orleans indie"
          ],
          [
           "new orleans jazz"
          ],
          [
           "new orleans rap"
          ],
          [
           "new rave"
          ],
          [
           "new romantic"
          ],
          [
           "new tribe"
          ],
          [
           "new wave"
          ],
          [
           "new wave of thrash metal"
          ],
          [
           "new wave pop"
          ],
          [
           "new weird america"
          ],
          [
           "new york death metal"
          ],
          [
           "new york drill"
          ],
          [
           "new zealand classical"
          ],
          [
           "newcastle indie"
          ],
          [
           "newcastle nsw indie"
          ],
          [
           "nigerian hip hop"
          ],
          [
           "nigerian pop"
          ],
          [
           "nightcore"
          ],
          [
           "nightrun"
          ],
          [
           "ninja"
          ],
          [
           "nintendocore"
          ],
          [
           "nisiotika"
          ],
          [
           "nl folk"
          ],
          [
           "no wave"
          ],
          [
           "noise pop"
          ],
          [
           "noise punk"
          ],
          [
           "noise rock"
          ],
          [
           "nordic classical piano"
          ],
          [
           "nordic contemporary classical"
          ],
          [
           "nordic folk"
          ],
          [
           "nordic house"
          ],
          [
           "nordic orchestra"
          ],
          [
           "nordic post-rock"
          ],
          [
           "nordic soundtrack"
          ],
          [
           "norman ok indie"
          ],
          [
           "norsk lovsang"
          ],
          [
           "norteno"
          ],
          [
           "norteno-sax"
          ],
          [
           "north carolina emo"
          ],
          [
           "north carolina hip hop"
          ],
          [
           "north carolina indie"
          ],
          [
           "north carolina metal"
          ],
          [
           "north carolina roots"
          ],
          [
           "north east england indie"
          ],
          [
           "northern irish indie"
          ],
          [
           "northern irish punk"
          ],
          [
           "northern soul"
          ],
          [
           "norwegian black metal"
          ],
          [
           "norwegian choir"
          ],
          [
           "norwegian classical"
          ],
          [
           "norwegian contemporary jazz"
          ],
          [
           "norwegian death metal"
          ],
          [
           "norwegian experimental"
          ],
          [
           "norwegian hip hop"
          ],
          [
           "norwegian indie"
          ],
          [
           "norwegian jazz"
          ],
          [
           "norwegian metal"
          ],
          [
           "norwegian pop"
          ],
          [
           "norwegian pop rap"
          ],
          [
           "norwegian punk rock"
          ],
          [
           "norwegian rock"
          ],
          [
           "norwegian singer-songwriter"
          ],
          [
           "norwegian space disco"
          ],
          [
           "nottingham indie"
          ],
          [
           "nouvelle chanson francaise"
          ],
          [
           "nova canco"
          ],
          [
           "nova mpb"
          ],
          [
           "nova musica pernambucana"
          ],
          [
           "novelty"
          ],
          [
           "nu age"
          ],
          [
           "nu disco"
          ],
          [
           "nu gaze"
          ],
          [
           "nu jazz"
          ],
          [
           "nu metal"
          ],
          [
           "nu skool breaks"
          ],
          [
           "nu-cumbia"
          ],
          [
           "nu-metalcore"
          ],
          [
           "nubian traditional"
          ],
          [
           "nueva cancion"
          ],
          [
           "nueva ola chilena"
          ],
          [
           "nueva ola peruana"
          ],
          [
           "nuevo flamenco"
          ],
          [
           "nuevo folklore mexicano"
          ],
          [
           "nuevo regional mexicano"
          ],
          [
           "nuevo tango"
          ],
          [
           "nursery"
          ],
          [
           "nwobhm"
          ],
          [
           "nwothm"
          ],
          [
           "ny roots"
          ],
          [
           "nyc pop"
          ],
          [
           "nyc rap"
          ],
          [
           "nyhc"
          ],
          [
           "nz christian"
          ],
          [
           "nz folk"
          ],
          [
           "nz hardcore"
          ],
          [
           "nz indie"
          ],
          [
           "nz pop"
          ],
          [
           "nz punk"
          ],
          [
           "nz reggae"
          ],
          [
           "nz singer-songwriter"
          ],
          [
           "oakland hip hop"
          ],
          [
           "oakland indie"
          ],
          [
           "oc indie"
          ],
          [
           "oc rap"
          ],
          [
           "oceania soundtrack"
          ],
          [
           "ohio hip hop"
          ],
          [
           "ohio indie"
          ],
          [
           "oi"
          ],
          [
           "ok indie"
          ],
          [
           "okc indie"
          ],
          [
           "okinawan pop"
          ],
          [
           "oklahoma country"
          ],
          [
           "old school dancehall"
          ],
          [
           "old school hip hop"
          ],
          [
           "old school rap francais"
          ],
          [
           "old school thrash"
          ],
          [
           "old school uk hip hop"
          ],
          [
           "old west"
          ],
          [
           "old-time"
          ],
          [
           "old-time fiddle"
          ],
          [
           "olympia wa indie"
          ],
          [
           "omaha indie"
          ],
          [
           "one-person band"
          ],
          [
           "ontario indie"
          ],
          [
           "opera"
          ],
          [
           "opera chorus"
          ],
          [
           "opera metal"
          ],
          [
           "operatic pop"
          ],
          [
           "operetta"
          ],
          [
           "opm"
          ],
          [
           "oratory"
          ],
          [
           "orchestra"
          ],
          [
           "orchestral performance"
          ],
          [
           "orebro indie"
          ],
          [
           "organic ambient"
          ],
          [
           "organic electronic"
          ],
          [
           "organic house"
          ],
          [
           "orgcore"
          ],
          [
           "oriental classical"
          ],
          [
           "orkney and shetland folk"
          ],
          [
           "orlando indie"
          ],
          [
           "orquesta tipica"
          ],
          [
           "orthodox chant"
          ],
          [
           "oshare kei"
          ],
          [
           "otacore"
          ],
          [
           "oth indie"
          ],
          [
           "ottawa indie"
          ],
          [
           "ottawa rap"
          ],
          [
           "oud"
          ],
          [
           "outer hip hop"
          ],
          [
           "outlaw country"
          ],
          [
           "outsider"
          ],
          [
           "outsider house"
          ],
          [
           "oxford choir"
          ],
          [
           "oxford indie"
          ],
          [
           "p funk"
          ],
          [
           "pagan black metal"
          ],
          [
           "pagode"
          ],
          [
           "pagode baiano"
          ],
          [
           "paisley underground"
          ],
          [
           "pakistani folk"
          ],
          [
           "pakistani hip hop"
          ],
          [
           "pakistani pop"
          ],
          [
           "palestinian pop"
          ],
          [
           "palm desert scene"
          ],
          [
           "panamanian pop"
          ],
          [
           "panamanian rock"
          ],
          [
           "panpipe"
          ],
          [
           "papuri"
          ],
          [
           "parody"
          ],
          [
           "partido alto"
          ],
          [
           "partyschlager"
          ],
          [
           "pei indie"
          ],
          [
           "permanent wave"
          ],
          [
           "perreo"
          ],
          [
           "persian pop"
          ],
          [
           "persian traditional"
          ],
          [
           "perth indie"
          ],
          [
           "peruvian hip hop"
          ],
          [
           "peruvian rock"
          ],
          [
           "pet calming"
          ],
          [
           "philly indie"
          ],
          [
           "philly rap"
          ],
          [
           "philly soul"
          ],
          [
           "phoenix indie"
          ],
          [
           "phonk"
          ],
          [
           "pianissimo"
          ],
          [
           "piano blues"
          ],
          [
           "piano cover"
          ],
          [
           "piano mpb"
          ],
          [
           "piano rock"
          ],
          [
           "pibroch"
          ],
          [
           "piedmont blues"
          ],
          [
           "pinoy hip hop"
          ],
          [
           "pinoy indie"
          ],
          [
           "pinoy pop punk"
          ],
          [
           "pinoy praise"
          ],
          [
           "pinoy r&b"
          ],
          [
           "pinoy reggae"
          ],
          [
           "pinoy rock"
          ],
          [
           "pinoy traditional"
          ],
          [
           "pinoy trap"
          ],
          [
           "pirate"
          ],
          [
           "pittsburgh indie"
          ],
          [
           "pittsburgh rap"
          ],
          [
           "pittsburgh rock"
          ],
          [
           "pixie"
          ],
          [
           "plunderphonics"
          ],
          [
           "poetry"
          ],
          [
           "polca paraguaya"
          ],
          [
           "polish blues"
          ],
          [
           "polish classical"
          ],
          [
           "polish classical piano"
          ],
          [
           "polish contemporary classical"
          ],
          [
           "polish jazz"
          ],
          [
           "polish modern jazz"
          ],
          [
           "polish pop"
          ],
          [
           "polish post-rock"
          ],
          [
           "polish reggae"
          ],
          [
           "polish rock"
          ],
          [
           "political hip hop"
          ],
          [
           "polka"
          ],
          [
           "polynesian hip hop"
          ],
          [
           "polynesian pop"
          ],
          [
           "polyphony"
          ],
          [
           "pony"
          ],
          [
           "pop"
          ],
          [
           "pop argentino"
          ],
          [
           "pop chileno"
          ],
          [
           "pop dance"
          ],
          [
           "pop edm"
          ],
          [
           "pop electronico"
          ],
          [
           "pop emo"
          ],
          [
           "pop flamenco"
          ],
          [
           "pop folk"
          ],
          [
           "pop house"
          ],
          [
           "pop nacional"
          ],
          [
           "pop nacional antigas"
          ],
          [
           "pop peruano"
          ],
          [
           "pop punk"
          ],
          [
           "pop quebecois"
          ],
          [
           "pop r&b"
          ],
          [
           "pop rap"
          ],
          [
           "pop reggaeton"
          ],
          [
           "pop rock"
          ],
          [
           "pop rock brasileiro"
          ],
          [
           "pop romantico"
          ],
          [
           "pop soul"
          ],
          [
           "pop venezolano"
          ],
          [
           "pop violin"
          ],
          [
           "popgaze"
          ],
          [
           "popping"
          ],
          [
           "pops orchestra"
          ],
          [
           "popwave"
          ],
          [
           "pornogrind"
          ],
          [
           "porro"
          ],
          [
           "portland hip hop"
          ],
          [
           "portland indie"
          ],
          [
           "portland metal"
          ],
          [
           "portland punk"
          ],
          [
           "portuguese early music"
          ],
          [
           "post-disco"
          ],
          [
           "post-disco soul"
          ],
          [
           "post-doom metal"
          ],
          [
           "post-grunge"
          ],
          [
           "post-hardcore"
          ],
          [
           "post-metal"
          ],
          [
           "post-minimalism"
          ],
          [
           "post-post-hardcore"
          ],
          [
           "post-punk"
          ],
          [
           "post-punk argentina"
          ],
          [
           "post-rock"
          ],
          [
           "post-romantic era"
          ],
          [
           "post-screamo"
          ],
          [
           "post-teen pop"
          ],
          [
           "power metal"
          ],
          [
           "power pop"
          ],
          [
           "power thrash"
          ],
          [
           "power-pop punk"
          ],
          [
           "praise"
          ],
          [
           "prepared piano"
          ],
          [
           "preschool children's music"
          ],
          [
           "prog quebec"
          ],
          [
           "progressive alternative"
          ],
          [
           "progressive bluegrass"
          ],
          [
           "progressive deathcore"
          ],
          [
           "progressive electro house"
          ],
          [
           "progressive groove metal"
          ],
          [
           "progressive house"
          ],
          [
           "progressive jazz fusion"
          ],
          [
           "progressive metal"
          ],
          [
           "progressive metalcore"
          ],
          [
           "progressive post-hardcore"
          ],
          [
           "progressive power metal"
          ],
          [
           "progressive psytrance"
          ],
          [
           "progressive rock"
          ],
          [
           "progressive sludge"
          ],
          [
           "progressive trance"
          ],
          [
           "progressive trance house"
          ],
          [
           "progressive uplifting trance"
          ],
          [
           "proto-rap"
          ],
          [
           "proto-techno"
          ],
          [
           "protopunk"
          ],
          [
           "psalmen"
          ],
          [
           "psicodelia brasileira"
          ],
          [
           "psybass"
          ],
          [
           "psychedelic blues-rock"
          ],
          [
           "psychedelic doom"
          ],
          [
           "psychedelic folk"
          ],
          [
           "psychedelic folk rock"
          ],
          [
           "psychedelic hip hop"
          ],
          [
           "psychedelic pop"
          ],
          [
           "psychedelic punk"
          ],
          [
           "psychedelic rock"
          ],
          [
           "psychedelic soul"
          ],
          [
           "psychedelic trance"
          ],
          [
           "psychill"
          ],
          [
           "psychobilly"
          ],
          [
           "pub rock"
          ],
          [
           "puerto rican folk"
          ],
          [
           "puerto rican pop"
          ],
          [
           "puerto rican rock"
          ],
          [
           "punjabi folk"
          ],
          [
           "punjabi hip hop"
          ],
          [
           "punjabi pop"
          ],
          [
           "punk"
          ],
          [
           "punk 'n' roll"
          ],
          [
           "punk blues"
          ],
          [
           "punk rock italiano"
          ],
          [
           "punk rock mexicano"
          ],
          [
           "punta"
          ],
          [
           "purple sound"
          ],
          [
           "qawwali"
          ],
          [
           "quartetto d'archi"
          ],
          [
           "quatuor a cordes"
          ],
          [
           "quebec death metal"
          ],
          [
           "quebec indie"
          ],
          [
           "queens hip hop"
          ],
          [
           "queer country"
          ],
          [
           "queercore"
          ],
          [
           "quiet storm"
          ],
          [
           "quran"
          ],
          [
           "r&b"
          ],
          [
           "r&b en espanol"
          ],
          [
           "rabindra sangeet"
          ],
          [
           "radio symphony"
          ],
          [
           "ragtime"
          ],
          [
           "rai"
          ],
          [
           "ranchera"
          ],
          [
           "rap"
          ],
          [
           "rap chileno"
          ],
          [
           "rap conciencia"
          ],
          [
           "rap conscient"
          ],
          [
           "rap cristiano"
          ],
          [
           "rap dominicano"
          ],
          [
           "rap kreyol"
          ],
          [
           "rap latina"
          ],
          [
           "rap metal"
          ],
          [
           "rap nacional antigo"
          ],
          [
           "rap napoletano"
          ],
          [
           "rap rock"
          ],
          [
           "rap underground mexicano"
          ],
          [
           "rare groove"
          ],
          [
           "rave"
          ],
          [
           "rawstyle"
          ],
          [
           "reading"
          ],
          [
           "reading indie"
          ],
          [
           "rebel blues"
          ],
          [
           "rebetiko"
          ],
          [
           "recorder"
          ],
          [
           "red dirt"
          ],
          [
           "redneck"
          ],
          [
           "reggae"
          ],
          [
           "reggae en espanol"
          ],
          [
           "reggae fusion"
          ],
          [
           "reggae rock"
          ],
          [
           "reggaeton"
          ],
          [
           "reggaeton colombiano"
          ],
          [
           "reggaeton cristiano"
          ],
          [
           "reggaeton flow"
          ],
          [
           "reggaeton mexicano"
          ],
          [
           "regional mexican"
          ],
          [
           "relaxative"
          ],
          [
           "renaissance"
          ],
          [
           "rennes indie"
          ],
          [
           "retro metal"
          ],
          [
           "retro soul"
          ],
          [
           "rhode island indie"
          ],
          [
           "rhode island rap"
          ],
          [
           "rhythm and blues"
          ],
          [
           "riddim"
          ],
          [
           "rif"
          ],
          [
           "riot grrrl"
          ],
          [
           "ritmo kombina"
          ],
          [
           "rochester mn indie"
          ],
          [
           "rochester ny indie"
          ],
          [
           "rock"
          ],
          [
           "rock alternatif francais"
          ],
          [
           "rock alternativo brasileiro"
          ],
          [
           "rock andaluz"
          ],
          [
           "rock baiano"
          ],
          [
           "rock brasiliense"
          ],
          [
           "rock chapin"
          ],
          [
           "rock cristiano"
          ],
          [
           "rock drums"
          ],
          [
           "rock en espanol"
          ],
          [
           "rock gaucho"
          ],
          [
           "rock independant francais"
          ],
          [
           "rock kapak"
          ],
          [
           "rock keyboard"
          ],
          [
           "rock nacional"
          ],
          [
           "rock nacional brasileiro"
          ],
          [
           "rock pernambucano"
          ],
          [
           "rock progressif francais"
          ],
          [
           "rock steady"
          ],
          [
           "rock urbano mexicano"
          ],
          [
           "rock-and-roll"
          ],
          [
           "rockabilly"
          ],
          [
           "rockabilly en espanol"
          ],
          [
           "roda de samba"
          ],
          [
           "romanian classical piano"
          ],
          [
           "romanian electronic"
          ],
          [
           "romanian folk"
          ],
          [
           "romanian pop"
          ],
          [
           "romanian rock"
          ],
          [
           "romantico"
          ],
          [
           "roots americana"
          ],
          [
           "roots reggae"
          ],
          [
           "roots rock"
          ],
          [
           "roots worship"
          ],
          [
           "rosary"
          ],
          [
           "rumba"
          ],
          [
           "rumba congolaise"
          ],
          [
           "rune folk"
          ],
          [
           "russian alternative rock"
          ],
          [
           "russian ccm"
          ],
          [
           "russian chanson"
          ],
          [
           "russian choir"
          ],
          [
           "russian classical piano"
          ],
          [
           "russian dance"
          ],
          [
           "russian edm"
          ],
          [
           "russian folk"
          ],
          [
           "russian folk rock"
          ],
          [
           "russian jazz"
          ],
          [
           "russian metal"
          ],
          [
           "russian metalcore"
          ],
          [
           "russian modern classical"
          ],
          [
           "russian orchestra"
          ],
          [
           "russian pop"
          ],
          [
           "russian post-punk"
          ],
          [
           "russian punk"
          ],
          [
           "russian rock"
          ],
          [
           "russian romanticism"
          ],
          [
           "russian shoegaze"
          ],
          [
           "russian trance"
          ],
          [
           "rva indie"
          ],
          [
           "rwandan traditional"
          ],
          [
           "ryukyu ongaku"
          ],
          [
           "sacramento hip hop"
          ],
          [
           "sacramento indie"
          ],
          [
           "sacred steel"
          ],
          [
           "sad rap"
          ],
          [
           "salsa"
          ],
          [
           "salsa choke"
          ],
          [
           "salsa colombiana"
          ],
          [
           "salsa cubana"
          ],
          [
           "salsa international"
          ],
          [
           "salsa peruana"
          ],
          [
           "salsa puertorriquena"
          ],
          [
           "salsa venezolana"
          ],
          [
           "samba"
          ],
          [
           "samba de roda"
          ],
          [
           "samba moderno"
          ],
          [
           "samba-enredo"
          ],
          [
           "samba-jazz"
          ],
          [
           "samba-rock"
          ],
          [
           "san antonio rap"
          ],
          [
           "san diego indie"
          ],
          [
           "san diego rap"
          ],
          [
           "san marcos tx indie"
          ],
          [
           "sandalwood"
          ],
          [
           "sarod"
          ],
          [
           "saskatchewan indie"
          ],
          [
           "scam rap"
          ],
          [
           "scandinavian r&b"
          ],
          [
           "scandipop"
          ],
          [
           "schlager"
          ],
          [
           "scorecore"
          ],
          [
           "scottish electronic"
          ],
          [
           "scottish fiddle"
          ],
          [
           "scottish folk"
          ],
          [
           "scottish hip hop"
          ],
          [
           "scottish indie"
          ],
          [
           "scottish jazz"
          ],
          [
           "scottish metal"
          ],
          [
           "scottish new wave"
          ],
          [
           "scottish rock"
          ],
          [
           "scottish singer-songwriter"
          ],
          [
           "scratch"
          ],
          [
           "scream rap"
          ],
          [
           "screamo"
          ],
          [
           "seattle hip hop"
          ],
          [
           "seattle indie"
          ],
          [
           "second line"
          ],
          [
           "sefardi"
          ],
          [
           "serbian electronic"
          ],
          [
           "serialism"
          ],
          [
           "sertanejo"
          ],
          [
           "sertanejo pop"
          ],
          [
           "sertanejo tradicional"
          ],
          [
           "sertanejo universitario"
          ],
          [
           "sevdah"
          ],
          [
           "sevillanas"
          ],
          [
           "shaabi"
          ],
          [
           "shabad"
          ],
          [
           "shakuhachi"
          ],
          [
           "shamanic"
          ],
          [
           "shanty"
          ],
          [
           "sheffield indie"
          ],
          [
           "shibuya-kei"
          ],
          [
           "shimmer pop"
          ],
          [
           "shimmer psych"
          ],
          [
           "shiver pop"
          ],
          [
           "shoegaze"
          ],
          [
           "show tunes"
          ],
          [
           "shred"
          ],
          [
           "shush"
          ],
          [
           "sierreno"
          ],
          [
           "singaporean mandopop"
          ],
          [
           "singaporean pop"
          ],
          [
           "singaporean singer-songwriter"
          ],
          [
           "singer-songwriter"
          ],
          [
           "singing bowl"
          ],
          [
           "sitar"
          ],
          [
           "ska"
          ],
          [
           "ska argentino"
          ],
          [
           "ska chileno"
          ],
          [
           "ska jazz"
          ],
          [
           "ska mexicano"
          ],
          [
           "ska punk"
          ],
          [
           "ska revival"
          ],
          [
           "skate punk"
          ],
          [
           "skiffle"
          ],
          [
           "skramz"
          ],
          [
           "sky room"
          ],
          [
           "slack-key guitar"
          ],
          [
           "slam poetry"
          ],
          [
           "slamming deathcore"
          ],
          [
           "slavic folk metal"
          ],
          [
           "slayer"
          ],
          [
           "slc indie"
          ],
          [
           "sleaze rock"
          ],
          [
           "sleep"
          ],
          [
           "slovak electronic"
          ],
          [
           "slovenian electronic"
          ],
          [
           "slovenian metal"
          ],
          [
           "slow game"
          ],
          [
           "slowcore"
          ],
          [
           "sludge metal"
          ],
          [
           "small room"
          ],
          [
           "smooth jazz"
          ],
          [
           "smooth saxophone"
          ],
          [
           "smooth soul"
          ],
          [
           "soca"
          ],
          [
           "socal pop punk"
          ],
          [
           "social media pop"
          ],
          [
           "soda pop"
          ],
          [
           "soft rock"
          ],
          [
           "solipsynthm"
          ],
          [
           "son cubano"
          ],
          [
           "son cubano clasico"
          ],
          [
           "son jarocho"
          ],
          [
           "sophisti-pop"
          ],
          [
           "sotalaulut"
          ],
          [
           "soukous"
          ],
          [
           "soul"
          ],
          [
           "soul blues"
          ],
          [
           "soul flow"
          ],
          [
           "soul jazz"
          ],
          [
           "souldies"
          ],
          [
           "sound"
          ],
          [
           "sound art"
          ],
          [
           "sound effects"
          ],
          [
           "sound team"
          ],
          [
           "soundtrack"
          ],
          [
           "south african alternative"
          ],
          [
           "south african choral"
          ],
          [
           "south african country"
          ],
          [
           "south african hip hop"
          ],
          [
           "south african house"
          ],
          [
           "south african jazz"
          ],
          [
           "south african pop"
          ],
          [
           "south african pop dance"
          ],
          [
           "south african rock"
          ],
          [
           "south carolina hip hop"
          ],
          [
           "south carolina indie"
          ],
          [
           "south carolina metal"
          ],
          [
           "south dakota indie"
          ],
          [
           "southampton indie"
          ],
          [
           "southern americana"
          ],
          [
           "southern gospel"
          ],
          [
           "southern hip hop"
          ],
          [
           "southern metal"
          ],
          [
           "southern rock"
          ],
          [
           "southern soul"
          ],
          [
           "southern soul blues"
          ],
          [
           "soviet synthpop"
          ],
          [
           "sovietwave"
          ],
          [
           "spa"
          ],
          [
           "space age pop"
          ],
          [
           "space ambient"
          ],
          [
           "space rock"
          ],
          [
           "spanish baroque"
          ],
          [
           "spanish classical"
          ],
          [
           "spanish classical piano"
          ],
          [
           "spanish folk metal"
          ],
          [
           "spanish hip hop"
          ],
          [
           "spanish indie pop"
          ],
          [
           "spanish invasion"
          ],
          [
           "spanish metal"
          ],
          [
           "spanish modern rock"
          ],
          [
           "spanish new wave"
          ],
          [
           "spanish noise pop"
          ],
          [
           "spanish pop"
          ],
          [
           "spanish pop rock"
          ],
          [
           "spanish renaissance"
          ],
          [
           "spanish rock"
          ],
          [
           "spanish synthpop"
          ],
          [
           "spanish techno"
          ],
          [
           "speed garage"
          ],
          [
           "speed metal"
          ],
          [
           "speedcore"
          ],
          [
           "spiritual hip hop"
          ],
          [
           "spiritual jazz"
          ],
          [
           "spirituals"
          ],
          [
           "springfield mo indie"
          ],
          [
           "spytrack"
          ],
          [
           "st louis rap"
          ],
          [
           "steampunk"
          ],
          [
           "steel guitar"
          ],
          [
           "steelpan"
          ],
          [
           "stl indie"
          ],
          [
           "stomp and flutter"
          ],
          [
           "stomp and holler"
          ],
          [
           "stomp and whittle"
          ],
          [
           "stomp pop"
          ],
          [
           "stoner metal"
          ],
          [
           "stoner rock"
          ],
          [
           "straight edge"
          ],
          [
           "straight-ahead jazz"
          ],
          [
           "street band"
          ],
          [
           "street punk"
          ],
          [
           "streichquartett"
          ],
          [
           "stride"
          ],
          [
           "string band"
          ],
          [
           "string folk"
          ],
          [
           "string orchestra"
          ],
          [
           "string quartet"
          ],
          [
           "strut"
          ],
          [
           "substep"
          ],
          [
           "sudanese pop"
          ],
          [
           "sufi"
          ],
          [
           "sufi chant"
          ],
          [
           "sunshine pop"
          ],
          [
           "supergroup"
          ],
          [
           "surf music"
          ],
          [
           "surf punk"
          ],
          [
           "svensk progg"
          ],
          [
           "swamp blues"
          ],
          [
           "swamp pop"
          ],
          [
           "swamp rock"
          ],
          [
           "swancore"
          ],
          [
           "swedish alternative rock"
          ],
          [
           "swedish americana"
          ],
          [
           "swedish black metal"
          ],
          [
           "swedish choir"
          ],
          [
           "swedish country"
          ],
          [
           "swedish dancehall"
          ],
          [
           "swedish death metal"
          ],
          [
           "swedish doom metal"
          ],
          [
           "swedish electronic"
          ],
          [
           "swedish electropop"
          ],
          [
           "swedish eurodance"
          ],
          [
           "swedish garage rock"
          ],
          [
           "swedish hard rock"
          ],
          [
           "swedish hardcore"
          ],
          [
           "swedish heavy metal"
          ],
          [
           "swedish house"
          ],
          [
           "swedish idol pop"
          ],
          [
           "swedish indie folk"
          ],
          [
           "swedish indie pop"
          ],
          [
           "swedish indie rock"
          ],
          [
           "swedish jazz"
          ],
          [
           "swedish jazz orkester"
          ],
          [
           "swedish melodic rock"
          ],
          [
           "swedish metal"
          ],
          [
           "swedish metalcore"
          ],
          [
           "swedish pop"
          ],
          [
           "swedish post-hardcore"
          ],
          [
           "swedish power metal"
          ],
          [
           "swedish prog"
          ],
          [
           "swedish progressive metal"
          ],
          [
           "swedish rock-and-roll"
          ],
          [
           "swedish singer-songwriter"
          ],
          [
           "swedish soul"
          ],
          [
           "swedish stoner rock"
          ],
          [
           "swedish synth"
          ],
          [
           "swedish synthpop"
          ],
          [
           "swedish tropical house"
          ],
          [
           "swedish underground rap"
          ],
          [
           "swing"
          ],
          [
           "swing italiano"
          ],
          [
           "swing revival"
          ],
          [
           "swiss black metal"
          ],
          [
           "swiss classical piano"
          ],
          [
           "swiss country"
          ],
          [
           "swiss metal"
          ],
          [
           "swiss pop"
          ],
          [
           "swiss rock"
          ],
          [
           "swiss worship"
          ],
          [
           "sydney indie"
          ],
          [
           "symphonic black metal"
          ],
          [
           "symphonic metal"
          ],
          [
           "symphonic rock"
          ],
          [
           "synth funk"
          ],
          [
           "synthpop"
          ],
          [
           "synthwave"
          ],
          [
           "syrian pop"
          ],
          [
           "tabla"
          ],
          [
           "tagalog rap"
          ],
          [
           "tagalog worship"
          ],
          [
           "taiwan campus folk"
          ],
          [
           "taiwan classical performance"
          ],
          [
           "taiwan hip hop"
          ],
          [
           "taiwan indie"
          ],
          [
           "taiwan pop"
          ],
          [
           "taiwan singer-songwriter"
          ],
          [
           "tajik pop"
          ],
          [
           "talent show"
          ],
          [
           "tamaulipas indie"
          ],
          [
           "tamaulipas rap"
          ],
          [
           "tamborazo"
          ],
          [
           "tamil hip hop"
          ],
          [
           "tamil pop"
          ],
          [
           "tamil worship"
          ],
          [
           "tampa indie"
          ],
          [
           "tango"
          ],
          [
           "tango cancion"
          ],
          [
           "tape club"
          ],
          [
           "tech house"
          ],
          [
           "technical death metal"
          ],
          [
           "technical deathcore"
          ],
          [
           "technical groove metal"
          ],
          [
           "technical melodic death metal"
          ],
          [
           "technical thrash"
          ],
          [
           "techno"
          ],
          [
           "techno kayo"
          ],
          [
           "tecnobanda"
          ],
          [
           "teen pop"
          ],
          [
           "tejano"
          ],
          [
           "tempe indie"
          ],
          [
           "tennessee hip hop"
          ],
          [
           "tennessee metal"
          ],
          [
           "tex-mex"
          ],
          [
           "texas blues"
          ],
          [
           "texas country"
          ],
          [
           "texas latin rap"
          ],
          [
           "texas pop punk"
          ],
          [
           "texas punk"
          ],
          [
           "thai folk"
          ],
          [
           "thai folk rock"
          ],
          [
           "thai idol"
          ],
          [
           "thai indie rock"
          ],
          [
           "thai pop"
          ],
          [
           "thall"
          ],
          [
           "theme"
          ],
          [
           "theremin"
          ],
          [
           "thrash core"
          ],
          [
           "thrash metal"
          ],
          [
           "timba"
          ],
          [
           "tin pan alley"
          ],
          [
           "tipico"
          ],
          [
           "tolkien metal"
          ],
          [
           "tollywood"
          ],
          [
           "tone"
          ],
          [
           "torch song"
          ],
          [
           "toronto indie"
          ],
          [
           "toronto rap"
          ],
          [
           "trad jazz catala"
          ],
          [
           "traditional bluegrass"
          ],
          [
           "traditional blues"
          ],
          [
           "traditional british folk"
          ],
          [
           "traditional country"
          ],
          [
           "traditional folk"
          ],
          [
           "traditional funk"
          ],
          [
           "traditional rockabilly"
          ],
          [
           "traditional ska"
          ],
          [
           "traditional soul"
          ],
          [
           "trance"
          ],
          [
           "trance mexicano"
          ],
          [
           "trancecore"
          ],
          [
           "transpop"
          ],
          [
           "trap"
          ],
          [
           "trap argentino"
          ],
          [
           "trap chileno"
          ],
          [
           "trap dominicano"
          ],
          [
           "trap latino"
          ],
          [
           "trap mexicano"
          ],
          [
           "trap queen"
          ],
          [
           "trap soul"
          ],
          [
           "trap triste"
          ],
          [
           "trap venezolano"
          ],
          [
           "traprun"
          ],
          [
           "trash rock"
          ],
          [
           "triangle indie"
          ],
          [
           "tribal house"
          ],
          [
           "trinidadian reggae"
          ],
          [
           "trio cubano"
          ],
          [
           "trip hop"
          ],
          [
           "trival"
          ],
          [
           "tropical"
          ],
          [
           "tropical house"
          ],
          [
           "tropicalia"
          ],
          [
           "trova"
          ],
          [
           "trova mexicana"
          ],
          [
           "truck-driving country"
          ],
          [
           "tuareg guitar"
          ],
          [
           "tucson indie"
          ],
          [
           "tulsa indie"
          ],
          [
           "tuna estudiantil"
          ],
          [
           "tunisian pop"
          ],
          [
           "turbo folk"
          ],
          [
           "turkish classical"
          ],
          [
           "turkish classical performance"
          ],
          [
           "turkish edm"
          ],
          [
           "turkish experimental"
          ],
          [
           "turkish folk"
          ],
          [
           "turkish jazz"
          ],
          [
           "turkish modern jazz"
          ],
          [
           "turkish pop"
          ],
          [
           "turkish psych"
          ],
          [
           "turkish trap"
          ],
          [
           "turkish trap pop"
          ],
          [
           "turntablism"
          ],
          [
           "twee pop"
          ],
          [
           "twoubadou"
          ],
          [
           "tzadik"
          ],
          [
           "ugandan pop"
          ],
          [
           "uilleann pipes"
          ],
          [
           "uk alternative hip hop"
          ],
          [
           "uk alternative pop"
          ],
          [
           "uk americana"
          ],
          [
           "uk contemporary jazz"
          ],
          [
           "uk contemporary r&b"
          ],
          [
           "uk dance"
          ],
          [
           "uk dancehall"
          ],
          [
           "uk diy punk"
          ],
          [
           "uk dnb"
          ],
          [
           "uk doom metal"
          ],
          [
           "uk dub"
          ],
          [
           "uk experimental electronic"
          ],
          [
           "uk funky"
          ],
          [
           "uk garage"
          ],
          [
           "uk hip hop"
          ],
          [
           "uk house"
          ],
          [
           "uk metalcore"
          ],
          [
           "uk noise rock"
          ],
          [
           "uk pop"
          ],
          [
           "uk pop punk"
          ],
          [
           "uk post-hardcore"
          ],
          [
           "uk post-punk"
          ],
          [
           "uk reggae"
          ],
          [
           "uk rockabilly"
          ],
          [
           "uk stoner rock"
          ],
          [
           "uk worship"
          ],
          [
           "uk82"
          ],
          [
           "ukrainian choir"
          ],
          [
           "ukrainian classical"
          ],
          [
           "ukrainian classical piano"
          ],
          [
           "ukrainian electronic"
          ],
          [
           "ukrainian pop"
          ],
          [
           "ukulele"
          ],
          [
           "umbanda"
          ],
          [
           "underground hip hop"
          ],
          [
           "underground power pop"
          ],
          [
           "underground rap"
          ],
          [
           "university choir"
          ],
          [
           "uplifting trance"
          ],
          [
           "uptempo hardcore"
          ],
          [
           "urban contemporary"
          ],
          [
           "urbano espanol"
          ],
          [
           "us power metal"
          ],
          [
           "utah indie"
          ],
          [
           "uzbek pop"
          ],
          [
           "uzbek traditional"
          ],
          [
           "v-pop"
          ],
          [
           "vallenato"
          ],
          [
           "vallenato moderno"
          ],
          [
           "vancouver indie"
          ],
          [
           "vancouver metal"
          ],
          [
           "vancouver punk"
          ],
          [
           "vapor pop"
          ],
          [
           "vapor soul"
          ],
          [
           "vapor trap"
          ],
          [
           "vapor twitch"
          ],
          [
           "vaporwave"
          ],
          [
           "variete francaise"
          ],
          [
           "vaudeville"
          ],
          [
           "vbs"
          ],
          [
           "veena"
          ],
          [
           "vegan straight edge"
          ],
          [
           "vegas indie"
          ],
          [
           "velha guarda"
          ],
          [
           "venezuelan hip hop"
          ],
          [
           "venezuelan indie"
          ],
          [
           "venezuelan rock"
          ],
          [
           "veracruz indie"
          ],
          [
           "vermont indie"
          ],
          [
           "vgm instrumental"
          ],
          [
           "vgm remix"
          ],
          [
           "victoria bc indie"
          ],
          [
           "victorian britain"
          ],
          [
           "video game music"
          ],
          [
           "vienna indie"
          ],
          [
           "vietnamese bolero"
          ],
          [
           "vietnamese pop"
          ],
          [
           "viking black metal"
          ],
          [
           "viking folk"
          ],
          [
           "viking metal"
          ],
          [
           "villancicos"
          ],
          [
           "vintage chanson"
          ],
          [
           "vintage chinese pop"
          ],
          [
           "vintage classical singing"
          ],
          [
           "vintage country folk"
          ],
          [
           "vintage dutch pop"
          ],
          [
           "vintage french electronic"
          ],
          [
           "vintage gospel"
          ],
          [
           "vintage hollywood"
          ],
          [
           "vintage italian pop"
          ],
          [
           "vintage italian soundtrack"
          ],
          [
           "vintage jazz"
          ],
          [
           "vintage old-time"
          ],
          [
           "vintage rockabilly"
          ],
          [
           "vintage schlager"
          ],
          [
           "vintage spanish pop"
          ],
          [
           "vintage swedish pop"
          ],
          [
           "vintage swing"
          ],
          [
           "vintage tango"
          ],
          [
           "viola"
          ],
          [
           "violao"
          ],
          [
           "violao classico"
          ],
          [
           "violin"
          ],
          [
           "viral pop"
          ],
          [
           "viral rap"
          ],
          [
           "viral trap"
          ],
          [
           "virgin islands reggae"
          ],
          [
           "virginia hip hop"
          ],
          [
           "virginia metal"
          ],
          [
           "virginia punk"
          ],
          [
           "visor"
          ],
          [
           "visual kei"
          ],
          [
           "vocal ensemble"
          ],
          [
           "vocal harmony group"
          ],
          [
           "vocal house"
          ],
          [
           "vocal jazz"
          ],
          [
           "vocal trance"
          ],
          [
           "vocaloid"
          ],
          [
           "vogue"
          ],
          [
           "volksmusik"
          ],
          [
           "warm drone"
          ],
          [
           "washboard"
          ],
          [
           "washington indie"
          ],
          [
           "wassoulou"
          ],
          [
           "water"
          ],
          [
           "wave"
          ],
          [
           "welsh folk"
          ],
          [
           "welsh indie"
          ],
          [
           "welsh metal"
          ],
          [
           "welsh rock"
          ],
          [
           "west african jazz"
          ],
          [
           "west australian hip hop"
          ],
          [
           "west coast rap"
          ],
          [
           "west coast reggae"
          ],
          [
           "west coast trap"
          ],
          [
           "west end"
          ],
          [
           "west virginia indie"
          ],
          [
           "western americana"
          ],
          [
           "western mass indie"
          ],
          [
           "western saharan folk"
          ],
          [
           "western swing"
          ],
          [
           "white noise"
          ],
          [
           "wind ensemble"
          ],
          [
           "wind quintet"
          ],
          [
           "wisconsin indie"
          ],
          [
           "witch house"
          ],
          [
           "women's choir"
          ],
          [
           "women's music"
          ],
          [
           "wonky"
          ],
          [
           "worcester ma indie"
          ],
          [
           "world"
          ],
          [
           "world fusion"
          ],
          [
           "world meditation"
          ],
          [
           "world worship"
          ],
          [
           "worship"
          ],
          [
           "wrestling"
          ],
          [
           "wu fam"
          ],
          [
           "wyoming indie"
          ],
          [
           "wyoming roots"
          ],
          [
           "xhosa"
          ],
          [
           "xtra raw"
          ],
          [
           "yacht rock"
          ],
          [
           "ye ye"
          ],
          [
           "yiddish folk"
          ],
          [
           "yodeling"
          ],
          [
           "yoga"
          ],
          [
           "yoik"
          ],
          [
           "york indie"
          ],
          [
           "yorkshire folk"
          ],
          [
           "yugoslav new wave"
          ],
          [
           "yugoslav rock"
          ],
          [
           "zambian pop"
          ],
          [
           "zeuhl"
          ],
          [
           "zhongguo feng"
          ],
          [
           "zimdancehall"
          ],
          [
           "zolo"
          ],
          [
           "zouglou"
          ],
          [
           "zouk"
          ],
          [
           "zurich indie"
          ],
          [
           "zydeco"
          ]
         ],
         "hovertemplate": "x=%{x}<br>y=%{y}<br>genres=%{customdata[0]}<br>cluster_pca=%{marker.color}<extra></extra>",
         "legendgroup": "",
         "marker": {
          "color": [
           3,
           3,
           4,
           1,
           1,
           2,
           2,
           4,
           1,
           1,
           0,
           2,
           0,
           3,
           1,
           2,
           4,
           2,
           0,
           2,
           1,
           1,
           4,
           1,
           2,
           4,
           4,
           3,
           4,
           4,
           4,
           4,
           4,
           2,
           2,
           0,
           2,
           4,
           0,
           2,
           0,
           4,
           4,
           4,
           2,
           4,
           4,
           2,
           4,
           0,
           4,
           2,
           2,
           0,
           0,
           4,
           0,
           0,
           4,
           4,
           0,
           2,
           4,
           3,
           0,
           2,
           0,
           0,
           2,
           3,
           2,
           2,
           3,
           3,
           3,
           3,
           3,
           1,
           0,
           3,
           2,
           3,
           2,
           3,
           3,
           0,
           1,
           0,
           3,
           4,
           0,
           0,
           0,
           2,
           2,
           0,
           0,
           2,
           1,
           4,
           1,
           3,
           2,
           2,
           2,
           2,
           3,
           2,
           4,
           0,
           4,
           2,
           4,
           4,
           4,
           4,
           4,
           0,
           2,
           4,
           2,
           3,
           2,
           4,
           2,
           3,
           4,
           2,
           4,
           3,
           2,
           4,
           4,
           4,
           0,
           4,
           3,
           0,
           4,
           0,
           4,
           0,
           0,
           1,
           0,
           2,
           2,
           4,
           2,
           4,
           3,
           4,
           3,
           3,
           3,
           2,
           0,
           0,
           4,
           4,
           0,
           0,
           2,
           0,
           4,
           0,
           0,
           4,
           4,
           2,
           0,
           2,
           2,
           4,
           4,
           0,
           2,
           4,
           4,
           3,
           3,
           3,
           2,
           3,
           4,
           1,
           0,
           3,
           3,
           0,
           4,
           1,
           4,
           4,
           4,
           4,
           3,
           3,
           1,
           2,
           1,
           4,
           1,
           1,
           1,
           0,
           2,
           3,
           3,
           1,
           3,
           4,
           0,
           4,
           4,
           4,
           1,
           1,
           1,
           1,
           2,
           3,
           4,
           1,
           1,
           1,
           3,
           3,
           3,
           3,
           2,
           3,
           3,
           1,
           4,
           2,
           0,
           4,
           4,
           0,
           4,
           4,
           4,
           4,
           0,
           4,
           4,
           1,
           2,
           1,
           4,
           2,
           1,
           2,
           4,
           0,
           0,
           0,
           3,
           3,
           0,
           0,
           4,
           2,
           0,
           1,
           0,
           4,
           2,
           2,
           2,
           2,
           1,
           4,
           4,
           2,
           3,
           1,
           4,
           3,
           1,
           0,
           0,
           3,
           3,
           4,
           4,
           0,
           0,
           0,
           4,
           0,
           0,
           0,
           0,
           2,
           0,
           2,
           1,
           2,
           1,
           0,
           0,
           2,
           4,
           1,
           1,
           4,
           4,
           1,
           4,
           4,
           1,
           1,
           2,
           4,
           4,
           4,
           0,
           0,
           2,
           4,
           4,
           1,
           2,
           4,
           4,
           3,
           3,
           3,
           2,
           3,
           3,
           4,
           3,
           3,
           3,
           4,
           0,
           4,
           1,
           1,
           0,
           1,
           1,
           4,
           4,
           4,
           0,
           4,
           0,
           0,
           4,
           2,
           3,
           2,
           2,
           0,
           0,
           0,
           4,
           0,
           0,
           2,
           4,
           3,
           3,
           4,
           3,
           1,
           0,
           2,
           1,
           0,
           0,
           2,
           2,
           2,
           3,
           3,
           2,
           0,
           2,
           4,
           3,
           0,
           2,
           2,
           4,
           4,
           4,
           0,
           0,
           4,
           0,
           2,
           4,
           4,
           4,
           2,
           0,
           3,
           1,
           1,
           2,
           2,
           1,
           4,
           0,
           4,
           3,
           1,
           4,
           3,
           2,
           4,
           1,
           4,
           0,
           4,
           1,
           3,
           3,
           3,
           1,
           4,
           2,
           2,
           0,
           4,
           3,
           1,
           0,
           4,
           0,
           2,
           1,
           2,
           4,
           4,
           0,
           0,
           2,
           4,
           0,
           0,
           3,
           2,
           0,
           0,
           4,
           2,
           3,
           2,
           0,
           2,
           2,
           2,
           1,
           2,
           2,
           1,
           1,
           0,
           1,
           1,
           4,
           1,
           1,
           1,
           4,
           3,
           3,
           3,
           0,
           4,
           3,
           1,
           3,
           0,
           4,
           4,
           1,
           3,
           1,
           3,
           3,
           2,
           3,
           2,
           2,
           0,
           4,
           2,
           2,
           4,
           0,
           1,
           4,
           4,
           0,
           1,
           1,
           4,
           0,
           4,
           0,
           0,
           0,
           4,
           2,
           0,
           4,
           4,
           4,
           1,
           1,
           4,
           1,
           4,
           2,
           2,
           4,
           0,
           3,
           1,
           2,
           1,
           4,
           1,
           0,
           2,
           2,
           3,
           3,
           3,
           0,
           0,
           4,
           2,
           0,
           3,
           2,
           2,
           3,
           3,
           3,
           4,
           3,
           1,
           2,
           1,
           2,
           0,
           4,
           0,
           4,
           4,
           2,
           0,
           0,
           2,
           0,
           0,
           4,
           3,
           0,
           4,
           2,
           3,
           2,
           4,
           4,
           4,
           0,
           0,
           2,
           4,
           1,
           1,
           4,
           4,
           1,
           4,
           2,
           1,
           1,
           1,
           1,
           0,
           1,
           4,
           4,
           4,
           2,
           1,
           0,
           0,
           0,
           1,
           2,
           1,
           2,
           0,
           1,
           1,
           1,
           2,
           4,
           2,
           1,
           2,
           4,
           1,
           2,
           2,
           4,
           2,
           1,
           0,
           1,
           2,
           3,
           4,
           4,
           4,
           2,
           2,
           4,
           3,
           2,
           3,
           3,
           3,
           3,
           3,
           3,
           3,
           3,
           3,
           3,
           3,
           1,
           3,
           3,
           3,
           3,
           3,
           3,
           3,
           2,
           3,
           3,
           3,
           1,
           1,
           4,
           0,
           4,
           4,
           4,
           4,
           4,
           4,
           4,
           4,
           4,
           1,
           4,
           0,
           2,
           0,
           3,
           4,
           3,
           0,
           0,
           4,
           3,
           3,
           3,
           4,
           2,
           2,
           3,
           1,
           1,
           3,
           1,
           1,
           1,
           0,
           4,
           4,
           4,
           0,
           2,
           3,
           4,
           1,
           1,
           2,
           1,
           4,
           4,
           4,
           2,
           1,
           1,
           4,
           4,
           2,
           4,
           4,
           0,
           4,
           0,
           4,
           4,
           4,
           1,
           4,
           4,
           4,
           4,
           4,
           4,
           4,
           4,
           4,
           1,
           4,
           1,
           4,
           4,
           4,
           4,
           0,
           0,
           1,
           3,
           3,
           1,
           0,
           1,
           4,
           4,
           4,
           4,
           0,
           4,
           0,
           0,
           3,
           0,
           3,
           4,
           3,
           0,
           4,
           2,
           0,
           4,
           0,
           0,
           1,
           4,
           1,
           4,
           4,
           0,
           4,
           0,
           3,
           2,
           0,
           2,
           4,
           0,
           0,
           0,
           0,
           2,
           0,
           0,
           0,
           4,
           0,
           0,
           0,
           0,
           4,
           1,
           0,
           0,
           2,
           4,
           1,
           2,
           4,
           1,
           4,
           2,
           0,
           4,
           4,
           4,
           1,
           4,
           0,
           4,
           4,
           0,
           4,
           4,
           3,
           1,
           0,
           1,
           2,
           0,
           2,
           1,
           2,
           4,
           4,
           3,
           0,
           0,
           0,
           4,
           0,
           4,
           4,
           2,
           2,
           2,
           3,
           1,
           4,
           2,
           4,
           2,
           2,
           4,
           4,
           0,
           1,
           4,
           4,
           4,
           4,
           2,
           4,
           2,
           4,
           4,
           0,
           4,
           2,
           0,
           4,
           2,
           1,
           2,
           4,
           1,
           0,
           3,
           4,
           4,
           4,
           4,
           1,
           4,
           1,
           0,
           0,
           4,
           4,
           4,
           1,
           0,
           0,
           2,
           1,
           2,
           0,
           0,
           0,
           3,
           4,
           2,
           3,
           3,
           0,
           0,
           4,
           0,
           4,
           3,
           0,
           2,
           3,
           2,
           1,
           1,
           0,
           4,
           2,
           0,
           1,
           3,
           0,
           0,
           4,
           1,
           4,
           0,
           1,
           3,
           0,
           4,
           0,
           4,
           2,
           0,
           2,
           1,
           1,
           3,
           3,
           3,
           3,
           4,
           3,
           2,
           0,
           4,
           4,
           2,
           1,
           4,
           2,
           0,
           3,
           2,
           4,
           0,
           4,
           4,
           1,
           0,
           0,
           1,
           2,
           4,
           0,
           2,
           4,
           4,
           0,
           2,
           0,
           4,
           0,
           0,
           0,
           2,
           4,
           4,
           4,
           0,
           0,
           0,
           4,
           0,
           3,
           0,
           3,
           2,
           1,
           3,
           0,
           2,
           1,
           4,
           3,
           0,
           1,
           4,
           2,
           2,
           2,
           3,
           1,
           2,
           4,
           0,
           0,
           4,
           4,
           4,
           4,
           1,
           2,
           3,
           3,
           4,
           4,
           3,
           2,
           4,
           0,
           3,
           2,
           2,
           1,
           1,
           2,
           1,
           0,
           4,
           1,
           4,
           0,
           2,
           3,
           0,
           3,
           3,
           0,
           0,
           0,
           0,
           0,
           0,
           4,
           2,
           2,
           3,
           4,
           2,
           0,
           4,
           0,
           2,
           3,
           4,
           0,
           4,
           4,
           1,
           1,
           1,
           1,
           2,
           2,
           0,
           4,
           2,
           2,
           2,
           2,
           4,
           1,
           1,
           4,
           4,
           4,
           1,
           2,
           2,
           4,
           4,
           0,
           3,
           4,
           2,
           2,
           2,
           3,
           3,
           4,
           3,
           3,
           1,
           0,
           0,
           4,
           2,
           2,
           0,
           1,
           0,
           1,
           3,
           3,
           2,
           4,
           0,
           4,
           4,
           3,
           0,
           1,
           4,
           0,
           0,
           0,
           4,
           0,
           2,
           1,
           4,
           4,
           0,
           0,
           1,
           4,
           4,
           4,
           4,
           0,
           0,
           4,
           2,
           4,
           0,
           2,
           4,
           0,
           2,
           0,
           0,
           4,
           1,
           3,
           0,
           0,
           4,
           4,
           0,
           2,
           0,
           2,
           0,
           4,
           0,
           2,
           2,
           4,
           2,
           0,
           3,
           3,
           3,
           2,
           4,
           0,
           0,
           4,
           4,
           3,
           1,
           0,
           0,
           3,
           3,
           4,
           4,
           4,
           0,
           4,
           3,
           0,
           3,
           3,
           3,
           0,
           0,
           0,
           4,
           4,
           1,
           1,
           0,
           4,
           0,
           0,
           2,
           4,
           0,
           0,
           0,
           4,
           4,
           0,
           2,
           1,
           1,
           1,
           2,
           4,
           1,
           2,
           0,
           2,
           0,
           4,
           4,
           0,
           0,
           2,
           0,
           0,
           4,
           4,
           0,
           1,
           3,
           1,
           1,
           0,
           3,
           1,
           1,
           3,
           4,
           0,
           2,
           0,
           4,
           0,
           0,
           4,
           4,
           4,
           4,
           0,
           0,
           1,
           2,
           1,
           3,
           1,
           1,
           1,
           3,
           0,
           1,
           1,
           2,
           1,
           4,
           4,
           4,
           3,
           2,
           4,
           3,
           0,
           0,
           1,
           2,
           0,
           4,
           0,
           4,
           0,
           0,
           0,
           4,
           1,
           1,
           1,
           3,
           3,
           3,
           3,
           1,
           4,
           4,
           3,
           4,
           4,
           4,
           2,
           4,
           3,
           3,
           1,
           4,
           4,
           4,
           4,
           4,
           3,
           3,
           3,
           3,
           3,
           3,
           3,
           1,
           2,
           2,
           4,
           2,
           2,
           1,
           1,
           4,
           0,
           3,
           4,
           4,
           4,
           4,
           4,
           1,
           4,
           3,
           3,
           3,
           3,
           2,
           1,
           1,
           1,
           2,
           2,
           4,
           4,
           3,
           0,
           3,
           2,
           2,
           2,
           2,
           2,
           2,
           2,
           0,
           2,
           1,
           3,
           1,
           4,
           4,
           3,
           4,
           1,
           1,
           4,
           2,
           2,
           1,
           2,
           3,
           4,
           2,
           2,
           2,
           4,
           2,
           2,
           4,
           4,
           2,
           0,
           2,
           4,
           2,
           0,
           4,
           0,
           2,
           2,
           0,
           1,
           2,
           0,
           4,
           0,
           2,
           4,
           3,
           2,
           2,
           4,
           0,
           0,
           2,
           1,
           1,
           2,
           4,
           0,
           0,
           0,
           0,
           2,
           0,
           2,
           2,
           4,
           4,
           1,
           2,
           3,
           2,
           2,
           1,
           1,
           4,
           3,
           0,
           2,
           1,
           0,
           1,
           4,
           1,
           1,
           3,
           3,
           1,
           4,
           0,
           4,
           2,
           2,
           2,
           2,
           3,
           3,
           3,
           3,
           0,
           3,
           3,
           2,
           4,
           0,
           0,
           4,
           3,
           2,
           3,
           0,
           3,
           0,
           3,
           3,
           2,
           0,
           2,
           0,
           3,
           3,
           3,
           3,
           2,
           1,
           1,
           4,
           4,
           0,
           3,
           2,
           0,
           4,
           0,
           0,
           0,
           4,
           0,
           0,
           4,
           0,
           0,
           2,
           2,
           4,
           4,
           0,
           1,
           4,
           3,
           3,
           3,
           3,
           0,
           3,
           4,
           0,
           2,
           2,
           4,
           0,
           0,
           3,
           1,
           4,
           2,
           1,
           2,
           0,
           0,
           2,
           0,
           0,
           0,
           0,
           2,
           0,
           0,
           4,
           4,
           0,
           2,
           3,
           2,
           2,
           4,
           1,
           1,
           1,
           4,
           1,
           1,
           1,
           2,
           1,
           3,
           1,
           1,
           2,
           2,
           1,
           1,
           0,
           3,
           1,
           2,
           1,
           2,
           1,
           4,
           2,
           1,
           3,
           1,
           1,
           1,
           1,
           1,
           1,
           2,
           3,
           4,
           2,
           4,
           4,
           2,
           1,
           4,
           1,
           0,
           4,
           4,
           4,
           4,
           4,
           1,
           1,
           4,
           1,
           4,
           1,
           0,
           0,
           2,
           0,
           2,
           4,
           2,
           4,
           1,
           4,
           4,
           1,
           3,
           4,
           4,
           1,
           4,
           3,
           2,
           2,
           1,
           1,
           4,
           3,
           3,
           3,
           2,
           1,
           3,
           3,
           0,
           4,
           4,
           4,
           4,
           3,
           3,
           1,
           4,
           0,
           3,
           4,
           1,
           2,
           2,
           3,
           4,
           4,
           4,
           3,
           4,
           2,
           1,
           4,
           4,
           4,
           4,
           0,
           4,
           4,
           4,
           1,
           4,
           4,
           4,
           2,
           4,
           4,
           4,
           4,
           1,
           3,
           2,
           2,
           0,
           4,
           4,
           1,
           2,
           3,
           2,
           0,
           2,
           2,
           0,
           1,
           4,
           2,
           1,
           4,
           1,
           2,
           2,
           1,
           2,
           2,
           4,
           1,
           0,
           0,
           0,
           1,
           2,
           4,
           3,
           2,
           1,
           2,
           0,
           3,
           1,
           4,
           2,
           2,
           4,
           2,
           0,
           2,
           3,
           0,
           1,
           4,
           0,
           2,
           2,
           2,
           4,
           1,
           2,
           1,
           4,
           1,
           1,
           2,
           2,
           4,
           2,
           4,
           2,
           0,
           2,
           3,
           2,
           0,
           3,
           2,
           4,
           4,
           0,
           2,
           0,
           0,
           0,
           0,
           0,
           0,
           0,
           0,
           0,
           4,
           0,
           4,
           2,
           1,
           4,
           0,
           2,
           1,
           4,
           4,
           2,
           1,
           0,
           0,
           0,
           0,
           0,
           2,
           3,
           4,
           0,
           4,
           0,
           4,
           1,
           4,
           4,
           4,
           4,
           4,
           0,
           4,
           2,
           3,
           3,
           2,
           3,
           2,
           0,
           1,
           4,
           2,
           3,
           2,
           0,
           4,
           2,
           0,
           3,
           2,
           0,
           0,
           4,
           4,
           4,
           2,
           3,
           0,
           2,
           0,
           2,
           2,
           0,
           4,
           4,
           0,
           2,
           2,
           4,
           2,
           3,
           3,
           4,
           3,
           0,
           4,
           4,
           0,
           4,
           4,
           4,
           3,
           0,
           0,
           3,
           4,
           1,
           1,
           1,
           2,
           4,
           3,
           4,
           1,
           1,
           2,
           1,
           1,
           2,
           1,
           1,
           4,
           2,
           2,
           4,
           3,
           0,
           4,
           4,
           2,
           4,
           2,
           3,
           1,
           4,
           1,
           1,
           4,
           4,
           1,
           4,
           1,
           1,
           1,
           4,
           2,
           4,
           4,
           1,
           1,
           1,
           4,
           2,
           1,
           0,
           0,
           4,
           3,
           2,
           1,
           1,
           0,
           0,
           2,
           2,
           4,
           0,
           2,
           1,
           3,
           4,
           3,
           4,
           3,
           1,
           0,
           2,
           0,
           1,
           2,
           4,
           4,
           3,
           2,
           1,
           2,
           0,
           4,
           2,
           0,
           0,
           2,
           2,
           2,
           3,
           2,
           4,
           2,
           1,
           1,
           2,
           0,
           0,
           4,
           0,
           3,
           3,
           2,
           4,
           4,
           2,
           0,
           2,
           3,
           4,
           0,
           2,
           0,
           4,
           1,
           1,
           4,
           4,
           1,
           4,
           0,
           4,
           2,
           4,
           0,
           4,
           2,
           0,
           4,
           3,
           0,
           0,
           4,
           4,
           0,
           0,
           2,
           0,
           1,
           4,
           2,
           0,
           0,
           0,
           3,
           3,
           2,
           4,
           3,
           2,
           3,
           1,
           0,
           4,
           4,
           0,
           4,
           2,
           0,
           2,
           0,
           4,
           0,
           4,
           0,
           3,
           3,
           3,
           0,
           3,
           4,
           2,
           3,
           0,
           0,
           0,
           0,
           0,
           2,
           0,
           2,
           4,
           2,
           2,
           4,
           4,
           3,
           4,
           0,
           2,
           0,
           0,
           4,
           0,
           1,
           2,
           2,
           2,
           2,
           1,
           4,
           1,
           1,
           0,
           0,
           4,
           4,
           4,
           0,
           3,
           2,
           4,
           2,
           4,
           4,
           0,
           2,
           4,
           4,
           0,
           4,
           3,
           4,
           2,
           0,
           4,
           2,
           4,
           2,
           4,
           4,
           4,
           0,
           4,
           2,
           1,
           1,
           2,
           0,
           4,
           2,
           3,
           3,
           0,
           3,
           3,
           2,
           3,
           3,
           3,
           0,
           3,
           0,
           2,
           0,
           3,
           3,
           1,
           1,
           3,
           4,
           0,
           4,
           4,
           4,
           1,
           4,
           2,
           2,
           3,
           3,
           0,
           4,
           0,
           4,
           4,
           0,
           1,
           4,
           1,
           2,
           2,
           4,
           4,
           3,
           2,
           4,
           4,
           4,
           1,
           2,
           4,
           2,
           1,
           0,
           4,
           4,
           1,
           0,
           4,
           2,
           4,
           4,
           4,
           1,
           3,
           2,
           2,
           3,
           1,
           4,
           0,
           0,
           0,
           1,
           2,
           0,
           2,
           4,
           4,
           4,
           4,
           4,
           0,
           0,
           1,
           3,
           4,
           3,
           3,
           3,
           3,
           3,
           1,
           0,
           1,
           4,
           4,
           1,
           4,
           4,
           3,
           4,
           4,
           4,
           2,
           4,
           0,
           4,
           0,
           4,
           2,
           4,
           4,
           2,
           4,
           0,
           2,
           4,
           4,
           4,
           4,
           0,
           2,
           2,
           4,
           2,
           4,
           4,
           3,
           0,
           1,
           4,
           2,
           2,
           0,
           2,
           3,
           4,
           4,
           0,
           0,
           0,
           0,
           3,
           0,
           2,
           2,
           3,
           3,
           0,
           4,
           0,
           4,
           0,
           0,
           2,
           3,
           4,
           2,
           2,
           2,
           0,
           0,
           0,
           0,
           0,
           0,
           0,
           0,
           0,
           0,
           2,
           0,
           0,
           2,
           0,
           1,
           0,
           2,
           1,
           2,
           0,
           2,
           0,
           1,
           2,
           4,
           2,
           0,
           2,
           2,
           0,
           0,
           0,
           4,
           1,
           2,
           4,
           1,
           4,
           4,
           0,
           0,
           0,
           4,
           0,
           4,
           4,
           1,
           3,
           3,
           0,
           2,
           4,
           4,
           4,
           2,
           1,
           4,
           4,
           1,
           3,
           1,
           2,
           2,
           4,
           4,
           4,
           4,
           2,
           4,
           4,
           4,
           0,
           4,
           3,
           0,
           4,
           2,
           0,
           0,
           1,
           0,
           4,
           1,
           1,
           0,
           4,
           4,
           4,
           4,
           4,
           4,
           4,
           0,
           4,
           4,
           4,
           1,
           3,
           4,
           0,
           4,
           2,
           4,
           1,
           4,
           2,
           0,
           4,
           0,
           4,
           0,
           4,
           4,
           4,
           4,
           2,
           0,
           0,
           2,
           4,
           0,
           0,
           4,
           2,
           2,
           4,
           1,
           2,
           4,
           0,
           2,
           4,
           4,
           1,
           3,
           2,
           3,
           4,
           1,
           2,
           2,
           4,
           2,
           2,
           1,
           2,
           2,
           2,
           0,
           0,
           1,
           3,
           3,
           0,
           0,
           1,
           2,
           1,
           0,
           0,
           3,
           3,
           4,
           0,
           2,
           2,
           3,
           2,
           0,
           4,
           3,
           1,
           4,
           0,
           4,
           4,
           4,
           4,
           4,
           4,
           4,
           4,
           4,
           2,
           1,
           1,
           4,
           4,
           1,
           4,
           4,
           0,
           4,
           2,
           1,
           3,
           1,
           4,
           2,
           4,
           2,
           3,
           4,
           3,
           2,
           4,
           2,
           1,
           4,
           4,
           4,
           4,
           4,
           4,
           0,
           4,
           2,
           4,
           4,
           2,
           3,
           2,
           1,
           1,
           4,
           2,
           2,
           4,
           1,
           3,
           3,
           1,
           0,
           2,
           0,
           2,
           2,
           0,
           2,
           0,
           3,
           4,
           2,
           2,
           0,
           2,
           3,
           3,
           4,
           4,
           4,
           2,
           4,
           4,
           4,
           0,
           1,
           1,
           0,
           1,
           0,
           0,
           0,
           0,
           2,
           0,
           3,
           2,
           4,
           0,
           4,
           2,
           0,
           2,
           2,
           2,
           2,
           4,
           0,
           4,
           1,
           2,
           4,
           2,
           1,
           4,
           4,
           4,
           1,
           2,
           2,
           4,
           1,
           2,
           3,
           3,
           3,
           4,
           3,
           4,
           1,
           4,
           4,
           4,
           1,
           4,
           4,
           0,
           4,
           2,
           0,
           0,
           2,
           4,
           2,
           4,
           0,
           2,
           2,
           4,
           4,
           0,
           3,
           1,
           3,
           2,
           3,
           3,
           3,
           0,
           4,
           2,
           4,
           0,
           2,
           4,
           2,
           4,
           4,
           3,
           4,
           4,
           2,
           4,
           0,
           2,
           4,
           2,
           1,
           2,
           1,
           4,
           4,
           1,
           1,
           4,
           1,
           2,
           1,
           4,
           0,
           0,
           0,
           3,
           4,
           0,
           3,
           1,
           1,
           3,
           3,
           3,
           4,
           0,
           2,
           2,
           2,
           2,
           2,
           2,
           0,
           0,
           4,
           4,
           4,
           0,
           0,
           2,
           0,
           3,
           4,
           4,
           0,
           0,
           2,
           0,
           0,
           4,
           0,
           0,
           2,
           2,
           0,
           2,
           0,
           0,
           3,
           1,
           2,
           0,
           0,
           4,
           0,
           0,
           0,
           0,
           4,
           2,
           2,
           2,
           3,
           2,
           0,
           4,
           1,
           1,
           2,
           0,
           3,
           3,
           0,
           4,
           2,
           3,
           1,
           0,
           0,
           2,
           4,
           4,
           0,
           1,
           1,
           4,
           2,
           2,
           3,
           1,
           2,
           2,
           2,
           1,
           4,
           4,
           4,
           4,
           1,
           1,
           1,
           0,
           1,
           1,
           2,
           2,
           0,
           2,
           0,
           0,
           0,
           2,
           2,
           4,
           4,
           4,
           4,
           4,
           0,
           4,
           2,
           2,
           4,
           4,
           4,
           4,
           4,
           2,
           1,
           4,
           0,
           1,
           3,
           0,
           0,
           4,
           1,
           2,
           2,
           1,
           3,
           1,
           2,
           4,
           1,
           2,
           1,
           2,
           1,
           1,
           2,
           4,
           4,
           4,
           0,
           0,
           0,
           4,
           4,
           4,
           0,
           2,
           4,
           4,
           4,
           4,
           4,
           4,
           0,
           0,
           0,
           4,
           1,
           1,
           2,
           4,
           4,
           4,
           2,
           2,
           1,
           1,
           2,
           4,
           2,
           4,
           4,
           4,
           1,
           3,
           0,
           0,
           1,
           1,
           1,
           2,
           1,
           0,
           2,
           4,
           2,
           1,
           3,
           2,
           1,
           4,
           4,
           2,
           2,
           4,
           4,
           4,
           0,
           0,
           0,
           4,
           2,
           4,
           4,
           4,
           4,
           0,
           4,
           4,
           4,
           0,
           2,
           4,
           4,
           0,
           2,
           0,
           3,
           3,
           3,
           0,
           4,
           1,
           4,
           4,
           4,
           4,
           3,
           0,
           0,
           4,
           4,
           0,
           2,
           1,
           1,
           4,
           4,
           4,
           2,
           0,
           0,
           2,
           2,
           4,
           2,
           0,
           2,
           1,
           4,
           1,
           0,
           0,
           1,
           4,
           4,
           4,
           4,
           2,
           3,
           0,
           4,
           3,
           2,
           2,
           4,
           4,
           0,
           2,
           0,
           1,
           1,
           1,
           3,
           1,
           1,
           2,
           1,
           1,
           1,
           3,
           1,
           1,
           4,
           1,
           1,
           1,
           1,
           1,
           3,
           1,
           1,
           3,
           2,
           4,
           4,
           4,
           4,
           0,
           0,
           1,
           0,
           3,
           1,
           4,
           1,
           0,
           0,
           4,
           1,
           3,
           1,
           4,
           2,
           3,
           4,
           3,
           0,
           0,
           0,
           2,
           4,
           4,
           4,
           4,
           1,
           4,
           2,
           4,
           2,
           1,
           3,
           3,
           3,
           3,
           2,
           0,
           2,
           2,
           4,
           2,
           2,
           3,
           0,
           2,
           0,
           4,
           0,
           2,
           2,
           0,
           2,
           2,
           3,
           1,
           3,
           3,
           1,
           2,
           4,
           4,
           4,
           0,
           4,
           4,
           2,
           4,
           4,
           1,
           4
          ],
          "coloraxis": "coloraxis",
          "symbol": "circle"
         },
         "mode": "markers",
         "name": "",
         "showlegend": false,
         "type": "scattergl",
         "x": [
          5.910268108221789,
          2.787093152808592,
          -0.7575375383744649,
          1.0205214866168149,
          0.7539105142791418,
          1.7971062652419418,
          -0.46204960544893575,
          -1.311672259563727,
          0.5984179553898573,
          0.5982012013950385,
          -1.1656525385277152,
          -0.07118124655695972,
          -2.171711585828401,
          3.6732966630297677,
          0.8327855889826021,
          0.0014059392111354188,
          -0.9273057420077752,
          0.679620374513937,
          -1.487800537177718,
          -0.2501697630725659,
          0.954189410396076,
          0.8894938464845351,
          -0.9349244756981557,
          2.43524221670291,
          -0.5794096848078699,
          -1.6872704870086677,
          -1.066529075903029,
          3.743308758581933,
          -2.154301657445694,
          -1.0808503055522514,
          -0.9549632645218938,
          -3.2358726515928007,
          -1.711975534173557,
          -0.43365637370201987,
          -0.6062336832001028,
          -0.9441629326199631,
          -0.21897352791237004,
          -1.561766720905516,
          -1.3458348880477138,
          -0.6937048482628608,
          -1.6190405446646994,
          -1.5333276858350346,
          -1.6988335792571154,
          -1.809396508350608,
          1.001862140555473,
          -1.5505557919539057,
          -2.616201799535103,
          -0.7218561265706732,
          -0.9358284356998533,
          -2.3217190043773894,
          -2.169859771706418,
          -0.11704076484140077,
          -0.17798254163413801,
          -1.3770978627884969,
          -1.2775706484489109,
          -1.6689082229336605,
          -1.4330066722916885,
          -0.8812940272849331,
          -1.9337278510850233,
          -0.9919561769523909,
          -0.8554408012501129,
          -0.45004862859253436,
          -1.0642892702634443,
          3.462606271585077,
          0.6998427652454089,
          1.0246979229312394,
          -0.8535513919608638,
          0.650479260929853,
          -0.4774877693274704,
          3.6547368585169053,
          -0.5680284493815138,
          1.2275685578826758,
          6.308184544302043,
          3.3947572178066747,
          4.909954292792231,
          4.521497311111668,
          3.4368402266794433,
          1.7065111212663069,
          -1.9949213104070904,
          2.883522671902224,
          -0.04924041576369503,
          4.2518819078176975,
          1.5205339090003147,
          2.7578274763525523,
          3.8188688418188854,
          0.522223338512437,
          0.6640664570007105,
          -1.837726538497229,
          4.3073699327256145,
          -0.9793272008623102,
          -1.7532546732907144,
          -2.255179190561468,
          -2.290441566421829,
          -0.2800789416316534,
          0.22291185347269354,
          -1.510182195528752,
          -0.619284508979634,
          -0.07420986987072373,
          1.6728243374303753,
          -1.94335301465705,
          1.0149766128732851,
          2.719557668645423,
          0.9057166961074976,
          -0.21837300691801112,
          -0.26256655656215383,
          0.8449080453819606,
          2.8327794759317673,
          1.4614957709996292,
          -1.584260298828402,
          -1.8856176787118497,
          -2.393866425909584,
          -0.008422928392726278,
          -3.078642085622772,
          -1.6438199733026304,
          -2.03937298441557,
          -0.9968674357840713,
          -1.9809887425444184,
          -1.9736099706764731,
          -0.21426030082170983,
          -2.320158888094007,
          0.6288114935083478,
          5.262718544641115,
          -0.1216653640882377,
          -1.0121054754613958,
          0.03526096300568488,
          3.492610514342788,
          -1.2753710449014168,
          0.3282646881366828,
          -1.6951789119860818,
          3.7286177933129565,
          -0.6107015592017117,
          -1.9032893260849402,
          -1.8874273931826746,
          -1.4787588103471279,
          -1.6879273436441113,
          -2.160665941591209,
          4.658088207506918,
          0.6998427652454089,
          -1.8094474553131519,
          0.6443884999442725,
          -2.8182814169138863,
          0.6443884999442725,
          -1.4716926838801545,
          1.8781753016297513,
          -1.1338434847768144,
          -0.7702516670886768,
          -0.5221138504004783,
          -0.9270989547196357,
          0.5931378934821802,
          -1.3843251626688342,
          5.271177784407819,
          -0.9642170705834131,
          3.754319584280466,
          2.99265270807343,
          4.167831601809078,
          -0.3896280793317455,
          -1.6424751435576135,
          -1.1675433931298071,
          -1.7381524969306446,
          -1.938338440805134,
          -1.67575294549025,
          -1.187337265148715,
          -0.3541927469754763,
          -1.974893016210449,
          -1.4332166640427924,
          -1.8599621279939191,
          -1.6285081252103302,
          -1.2616275422044276,
          -1.239736281074939,
          0.1886828812437274,
          -1.2018029791688278,
          0.0775439069895695,
          -0.4360699705802085,
          -1.2727953385235407,
          -1.0274090397486304,
          -1.8617821657705738,
          -0.8788683358223195,
          -2.6221998744781305,
          -1.6576596345415078,
          4.075563099476092,
          4.89432234058422,
          4.158854712674677,
          0.3441558565252696,
          3.252965531703461,
          -2.0146663246069747,
          0.19335161691421157,
          0.5398747178532824,
          4.407656001383199,
          2.359553565217614,
          -1.013481282683202,
          -1.4775598253498052,
          1.7516550987332928,
          -1.9813204401207751,
          -1.5921148477738607,
          -1.860354398632211,
          -1.643868394262874,
          4.74351152734234,
          2.1646111991229047,
          1.9271058748133247,
          0.2486755325717124,
          0.26404958881534374,
          -3.1062145776446375,
          1.0069292318079586,
          0.7363487998666427,
          0.013770393933029071,
          -0.9862592055897753,
          -0.010758925244006014,
          5.38124993709506,
          3.0311340782567373,
          2.121957979975027,
          5.376825054885018,
          -1.8715344938197171,
          -0.8257044500186856,
          -1.805099952094078,
          -1.5965747063171396,
          -1.3903620518490425,
          2.3817849882339264,
          0.3267105421940249,
          1.1855448365432064,
          2.230795233307348,
          0.1827340785201257,
          4.819813386113588,
          -1.8931190472758395,
          1.087727703636127,
          1.239002854832121,
          2.3940366677464024,
          2.576594196723721,
          3.758125064467634,
          3.6033879217230926,
          3.0892966317647015,
          -0.2978414883711005,
          4.138457045658253,
          2.6839649557379275,
          0.9951124914788206,
          -1.640926922819029,
          -0.10733653159368219,
          -1.7242942774158052,
          -2.297203719466081,
          -2.151173770862402,
          -1.5759181415763395,
          -1.3487051914956143,
          -2.0265484820804582,
          -2.120690474768989,
          -1.9307654535976801,
          -0.9234066530601974,
          -1.2516471860681753,
          -1.9113516620063316,
          0.781255091989098,
          -0.5237497338668536,
          1.5258122967139578,
          -1.4815229037775166,
          -0.8608015003990185,
          2.066445088869663,
          -0.39181100273553804,
          -0.8627420859305029,
          -1.7244851503949092,
          -2.4519764221514793,
          -2.4519764221514793,
          4.911094086350665,
          2.1284228776298364,
          -2.026227680053004,
          -1.7259688400927653,
          -1.7612462995881772,
          -0.32942484453738136,
          -0.7167812722224327,
          2.35991265579725,
          -0.4109516244751062,
          -2.0724990678317288,
          0.4941512548817779,
          0.39473675784610485,
          0.5011147455994415,
          -0.15019477310741244,
          2.2643665658299237,
          -1.354015453680447,
          -1.470053255445316,
          -0.3914865896117486,
          2.9286868308441942,
          1.5627344941817916,
          -1.8046533953228465,
          4.421919934708997,
          1.6666341252458137,
          -0.8630069468661093,
          -1.8240161816083933,
          6.20232983245355,
          2.700729757114219,
          -1.9219988731601114,
          -3.885335156982536,
          -0.3237352337227907,
          -1.483043799221634,
          -0.6661581305866552,
          -0.8975313027897498,
          -0.27150010958598736,
          -2.0260074964118395,
          0.030668548225327403,
          -0.6661581305866552,
          1.6679376175634013,
          -0.9628431990032466,
          0.05229047058608217,
          1.4342428370670806,
          -0.07440927214208844,
          0.3161956897243023,
          -1.6854348307187512,
          -1.3783735498215939,
          -0.5302811239602091,
          -1.9482834157370135,
          0.437681665380243,
          0.4611651127096486,
          -0.616921747171934,
          -1.140025637705938,
          1.2533220435925603,
          -1.806501142362129,
          -2.105897560651469,
          0.5834156893519916,
          0.6150431813346542,
          0.8314068380244768,
          -1.1677498330947182,
          -1.879745158025085,
          -1.5737313828666786,
          -1.7148709729100593,
          -1.2187163240425545,
          -0.9081075934919375,
          -2.4076385061986554,
          -2.6312477371308907,
          1.5673168136376285,
          1.2606761374764386,
          -1.273136278441533,
          -1.9933897451720608,
          6.078392568331341,
          6.20232983245355,
          1.8806471974660988,
          0.48550384897295135,
          3.7247868746474624,
          4.999022851023017,
          -0.6507019188068326,
          2.8317540321081105,
          5.1572241210913194,
          3.819290274650809,
          -1.8812815325483472,
          -1.0170415780895785,
          -2.3431142778733136,
          -0.06139419459486212,
          1.124497322633509,
          -1.0170415780895785,
          1.5499874451851439,
          -0.23880439879089196,
          -2.05489488332625,
          -1.4608536919332904,
          -1.2511268482027644,
          -1.4326231369090194,
          -0.8322050040893014,
          -1.0170415780895785,
          -1.4771002595731522,
          -2.6286065993341583,
          -0.21035255659038998,
          3.72204110649193,
          -0.6601937727661517,
          -0.0889808127707046,
          -1.3796424287630276,
          0.8934594009314095,
          -0.6029963198787506,
          -0.7120551860400113,
          -0.7769839379468486,
          -0.6805758573158133,
          -0.24279844901403588,
          -1.9562315383510145,
          4.118042026063583,
          5.713741031844159,
          -0.7417411626392648,
          4.424095099147772,
          2.3273182406295367,
          0.017763471206450138,
          0.3014939930849985,
          0.9650215283895116,
          0.022468392622499063,
          -1.219965045969141,
          0.34177511590531096,
          -0.5378912868672481,
          0.8644678960471944,
          4.004696577326852,
          4.008320181774835,
          1.382966313126258,
          -2.0574297891427626,
          1.309477413759331,
          -1.224422354766764,
          3.301387747874773,
          -1.110760418476589,
          0.5360702750732709,
          -0.24744053697254723,
          -1.9441899850782944,
          -2.133057653760354,
          -1.0891187918604004,
          -1.8302469752259645,
          -0.1551641644934392,
          -0.9951653539849203,
          -1.359606053701545,
          -0.6110809564064185,
          -2.549815498266093,
          -0.6067753052647099,
          -0.7288872748469326,
          -0.6427561202341456,
          -0.8384661829154166,
          7.0481605341988445,
          3.0862995100788626,
          1.649916053914381,
          0.5039626516959584,
          -0.7628234779254295,
          1.9098861430974048,
          -0.7381554703584138,
          -1.2105050375339603,
          -1.6165006411449976,
          2.915285284524164,
          0.7875315395435409,
          -1.4713066508652926,
          3.840536654487977,
          0.8180105809922922,
          -1.5363920461225513,
          1.5017010248753784,
          -0.8269573928584225,
          -1.2365537984863493,
          -1.1213910396496642,
          0.3532535757130934,
          4.156988672470462,
          4.181143915852828,
          5.874241617946336,
          0.7726737970500174,
          -1.2384651584229949,
          0.17391144426442467,
          -0.29101915682132595,
          -1.3643289196729782,
          -1.001357622951205,
          2.8143610849320826,
          1.0152267748235693,
          -0.8997096472317081,
          -1.8161225830951806,
          -0.40691985636643285,
          -0.6222506022041553,
          0.9298554236724571,
          -0.031158874814142697,
          -1.8953253854099985,
          -2.086459473772658,
          -1.0330740365002833,
          -1.6484788353344264,
          -0.07688967377256094,
          -0.9626729037514544,
          -2.0140350530214643,
          -1.3293413005641397,
          2.9602001025583236,
          0.3366612973343739,
          -1.7136150221763602,
          -1.4322797629514932,
          -0.9929724146692341,
          0.3710468481112411,
          2.6387134059669592,
          -0.028077801649979858,
          -1.6676648655046524,
          -0.6079060289417969,
          0.022377474382158778,
          0.9645203776907133,
          1.238776128033602,
          0.32115465675815713,
          0.3993101634015982,
          1.448049386029833,
          2.2798976418949333,
          -0.226634020103617,
          0.2531651111744019,
          -0.21480126217786263,
          -2.462853233747322,
          1.369780176535797,
          1.7508953452310536,
          1.3863298495833405,
          -1.2538737101450228,
          5.133050169971326,
          3.5265151258837,
          6.346033202222223,
          -0.616137349920731,
          -2.3748289472525173,
          2.2533078147803622,
          0.8167571253489762,
          3.653765378813388,
          -1.8047421918261282,
          -1.8627951125034792,
          -0.9242152643491603,
          0.7066524688936511,
          4.942598053975865,
          1.1252336127832718,
          4.795289250255228,
          2.463567849011501,
          -0.09446247231001555,
          4.247306482872685,
          0.2490357613668704,
          -0.11019294017436464,
          -1.8060319312706887,
          -1.4690797127486255,
          -0.02542594636096576,
          0.3370037422179004,
          -1.0272113725970837,
          -1.1806601610443475,
          -0.0846238341474122,
          -1.2131974145350364,
          -1.528977431905266,
          -1.3378086857797158,
          0.9015460755941901,
          0.3470413035334121,
          -1.839103081430006,
          -1.210592631037,
          -1.3843046322401926,
          -1.1745523891881078,
          -0.8900534710795255,
          -1.7792525918076738,
          -1.7629015313750143,
          -0.22626369877920632,
          -1.3596743740108517,
          -1.4373298042223683,
          -1.0505476390009736,
          -1.2326907154182067,
          1.356528349909239,
          -0.31742155846790243,
          -0.8073456954282051,
          0.6294753135461051,
          -2.017437359162992,
          -0.11454795107119005,
          -0.5797367236830109,
          -1.8188905101656403,
          -0.2170509895157,
          4.529430260517016,
          0.3331897153750468,
          0.9708797436014688,
          -0.17127054263204292,
          -0.7941852500264392,
          0.15892132499726522,
          -1.1876432241511563,
          -0.6402858806840843,
          0.8750838457096441,
          3.6087315817291605,
          5.022988638057468,
          5.805832447701811,
          -2.484585586954586,
          -0.06723872685756611,
          -1.8199456802868184,
          -0.1646375105025462,
          -0.9373426065815214,
          3.695987464448694,
          -0.11499063549310323,
          -0.31191194974263675,
          3.6087315817291605,
          2.962821117328596,
          1.9745255543280626,
          -1.8693347569376901,
          3.9265835294224654,
          0.8514655969973872,
          0.2516548733824612,
          1.5069037952476534,
          0.8765073635953349,
          -0.8493286256975369,
          -2.7670422182850545,
          -1.9426782361716513,
          -1.940458374188966,
          -2.327714153105752,
          -0.4893008855169191,
          -1.2448085534620552,
          -1.4681887969761513,
          -0.4197705078970205,
          -1.1794041820554666,
          -0.7316519448921248,
          -1.9934477924940694,
          2.658957468748414,
          -1.8424902425655312,
          -1.9752037541359393,
          0.49738213453453783,
          2.8030142480459284,
          0.8898853897758201,
          -1.6997216230484258,
          -1.1189657700263969,
          -2.229727615330852,
          -0.7369155743144529,
          -2.8860579727672384,
          -0.04773120798274697,
          -1.2455077589325843,
          1.5812933821637318,
          0.3862402573486096,
          -1.3826420603119778,
          -2.477582977687051,
          1.1497627661579235,
          -1.0859697564578679,
          0.6207099620941163,
          -0.07313623450419081,
          0.0026958861477238104,
          2.170027229768547,
          0.36718627717097696,
          -0.931442687200206,
          2.353248545597482,
          -1.0597890934720624,
          -2.2761098556941257,
          -0.7031780913867121,
          -0.2926633824128878,
          1.028040233030182,
          -1.1648221376777186,
          0.4511604577525455,
          -0.5491172599185631,
          -0.6751459147216383,
          0.2997968815429107,
          2.6834129126268147,
          0.598407463850864,
          -0.5498879058004902,
          1.5305789710549675,
          1.6719273733102384,
          2.3650341880945853,
          0.5073760258805253,
          -1.353909825927525,
          0.5151319213344538,
          1.0608289232294785,
          0.5729789672192851,
          -0.7152407495550092,
          -0.043178192952210946,
          1.6217258746453853,
          0.3675158568404529,
          -0.7640261804664336,
          -0.5419837729171582,
          1.0156004276682946,
          -1.0104901039718688,
          0.3474543065382497,
          -0.28074619404286927,
          3.1877031348523146,
          -0.5452603790317768,
          -1.6326205624300438,
          -1.1815682360615913,
          0.483161788588811,
          -0.46624827532572416,
          -0.6461748391001948,
          4.245475571774243,
          -0.1703279404175995,
          3.479867491808314,
          3.840975880940369,
          4.963938781947,
          4.408080150824801,
          4.139496296933861,
          4.031285308102276,
          3.9363214242193956,
          4.1870784897135245,
          4.917808163601019,
          4.959531607032034,
          5.491363812178901,
          1.5324624690552489,
          3.78600497019443,
          4.22440519760561,
          3.8134457247031834,
          4.269047290947429,
          5.3558862763863235,
          5.634525317250317,
          5.131366024213474,
          1.5778734844665683,
          3.6283998048062975,
          3.3748679584004266,
          3.136640936473176,
          1.5464616640991633,
          1.7734555001668146,
          -0.5736981384083492,
          -1.3474769379185052,
          -1.4095676969430257,
          -1.7902349574504635,
          -0.9599392716314971,
          -2.337850209070727,
          -1.9219232563386313,
          -1.455468336595947,
          -1.9072262876723372,
          -0.6716795002770664,
          -2.004656223155101,
          0.32515666255138054,
          -1.1523860720717656,
          -1.455704457106724,
          0.18059071362684115,
          -1.9079350595148392,
          3.523659061137905,
          -2.0491186934792043,
          3.6180834062291503,
          -1.7374845146577085,
          -1.439294851657235,
          -1.5714083380161565,
          6.308184544302043,
          5.008294840003461,
          5.403265664257088,
          -1.4853710029965534,
          0.3311437672951772,
          -0.46419951317278113,
          2.7937786280697052,
          2.2293271459533766,
          1.3893334009215672,
          4.269223510110593,
          2.147444725142783,
          0.7629686163768565,
          0.53138806495396,
          -1.1115207404332872,
          -1.8204209333872419,
          -2.192137645569147,
          -1.673062677563712,
          -0.562561128693775,
          0.45191804574873995,
          1.919573857543194,
          -0.8702170708257271,
          1.0741748437685985,
          -0.22718136569597866,
          -0.8526204872249906,
          0.4309833958102195,
          -1.5594414900233988,
          -1.788385764949037,
          -1.2843690828034695,
          -0.3289293614603018,
          1.0518143755809566,
          0.5340816012176938,
          -1.1097151949345352,
          -1.9685741228713411,
          1.3526971314440255,
          -1.1080951590932833,
          -1.1080951590932833,
          -0.7862581323449468,
          -2.186656988218458,
          -0.796602805439534,
          -1.8418411545862146,
          -0.7800250543797581,
          -2.4784838201281767,
          0.25976035564036354,
          -1.3550297693817046,
          -1.6177557993272018,
          -1.8260772103567122,
          -2.304690502949195,
          -1.7235553968485764,
          -1.376194964792646,
          -1.0218757432852508,
          -1.7791379054828047,
          -2.6566225729098734,
          1.0291146255100527,
          -3.0946663512600616,
          0.2724699225082939,
          -1.7900071853916149,
          -2.4793830877712417,
          -1.8871690235505918,
          -2.6430738121785344,
          -0.35738013666149215,
          -2.5671936495562404,
          1.3794835128663592,
          4.525123553936597,
          4.716885186699745,
          2.59502559197107,
          -1.1366165372990882,
          1.9842254319975132,
          -2.4281391425039107,
          -1.3561754011404537,
          -1.6507557002712343,
          -0.9916773688297719,
          -1.4614838432330972,
          -2.1097261247542534,
          -0.5491172599185631,
          -1.9852742550337772,
          4.386572613899495,
          -1.1101722919442192,
          3.3776002947938,
          -2.434424783398596,
          3.593493867103373,
          -0.49643132082921176,
          -2.4420108168095602,
          1.0393967728352158,
          0.024172636350283046,
          -2.536043601464764,
          -1.4224961761214594,
          0.024172636350283046,
          -0.2612995615269713,
          -0.9108428135470117,
          2.094042485609154,
          -2.5645649137076534,
          -1.238622185314989,
          -0.3084219235875952,
          -1.515589512572244,
          -2.0312986146780356,
          3.86310488973433,
          -0.10838299594407762,
          -0.6022552644160724,
          0.5177509655213369,
          -1.7090697231493595,
          -0.2761452223050095,
          -0.75513725480199,
          -1.3763064760423556,
          -0.5312260392016565,
          0.23717195172482453,
          -0.30260817294211984,
          -0.506528002114744,
          -1.2055895512885524,
          -0.8204348260187271,
          0.2660650637100637,
          -0.29884421461537436,
          -0.8728012554034755,
          -1.7175667292646388,
          -1.5155528888804208,
          0.8864093485671755,
          -1.6766468747459666,
          -0.4694345966142328,
          0.8710775895722576,
          -0.8644705676615122,
          -0.7144561741353894,
          -0.44068855694914766,
          -2.790270900922427,
          2.8904146176546677,
          -1.1507276718314716,
          -0.8031773216690994,
          -1.947382401954023,
          -2.1629636170947366,
          -1.472365498550097,
          -2.6893121402844162,
          0.9240011933509124,
          -1.7474528809598417,
          -0.14576653368649653,
          -1.8983586902445275,
          -2.669347847935736,
          -0.5221693744493319,
          -1.4548434949416955,
          -1.0283096381666228,
          2.3622397711804495,
          0.5436395862813661,
          -1.868930436853077,
          1.171003621255902,
          0.6999040042938859,
          -1.7044471429551524,
          -0.5920546990026871,
          0.4498649728207413,
          -0.3295745148089147,
          -1.6376693914418603,
          -1.457260990166547,
          2.4660708696178215,
          -1.2095953675949729,
          0.5254555899481594,
          0.07547147484810836,
          -1.584713439364367,
          -2.908061928223539,
          -1.1765084408048712,
          -1.9119343526634272,
          0.9356036829290545,
          -0.3608660025696729,
          0.9679635861196798,
          4.699816675368836,
          -0.4723314055617336,
          -2.005630532214278,
          1.5727472398500435,
          -0.9464089318334703,
          1.4686267276229208,
          0.5011147455994415,
          -1.3537495043623868,
          -1.8434120476123388,
          -0.6537657414667484,
          0.8902655962892346,
          -2.8162591250589286,
          -1.223509588635168,
          -1.5127849605175294,
          -0.9684779368006285,
          1.1487058582651957,
          -1.0984469249325657,
          0.5022377972137847,
          -1.4812543999862988,
          -0.5435665341609952,
          -1.2909649366086209,
          -2.162833307478608,
          -0.8354743294354066,
          -0.0331485624612478,
          -2.014926569249319,
          1.796033242084349,
          0.784616346011823,
          0.3211437615970807,
          -2.190137139222609,
          2.5971373640646975,
          -1.6127967117375026,
          3.0260530289477483,
          -2.0657056457669616,
          -1.5210993374175872,
          -0.9258655178346512,
          -2.0743795323201715,
          0.7511849781136237,
          -1.7164833605229044,
          1.3199455730608414,
          -0.2996749088548947,
          -1.0601592783170932,
          -1.579386163216749,
          -1.6924656514757916,
          -3.1331777327955384,
          -0.037246232862970984,
          -0.08421121464129931,
          -0.7467746719958053,
          -0.1647082456687919,
          1.4022482201741062,
          0.4677989764236735,
          -1.3373216840889628,
          0.08110278845448679,
          -1.3779265458413674,
          5.03110784490364,
          -1.8983922147789336,
          0.59955520834811,
          3.525204639447453,
          2.268319149636232,
          0.9096299592015582,
          -1.0264189143478963,
          -1.0690904627080782,
          0.6556631320797377,
          -2.023769019412258,
          2.1959209999050593,
          -1.9202674340983537,
          0.6521268829335805,
          5.262718544641115,
          -0.6974112188432159,
          0.7820338260369188,
          -0.20904323278860984,
          0.6998427652454089,
          -2.0224335239758706,
          0.47120716399528284,
          -1.2604802866831215,
          1.8271454550885409,
          6.083318328609308,
          -0.8508696332442782,
          -2.082504837264754,
          -2.2243366255023718,
          1.4014298850676397,
          -2.7228295299586773,
          -1.6085417664418014,
          1.6013054390496688,
          3.317048515490671,
          -0.8936287712527974,
          -1.045953972709039,
          -0.7263218841932991,
          -2.9436481698922803,
          0.062214037564451666,
          -1.1663865563967541,
          -0.5132483562854901,
          0.6525178740460712,
          2.213623428481486,
          4.157689233042855,
          3.9952644486572737,
          3.7441441343435877,
          3.3340361292652143,
          -0.670692286236161,
          3.7210836024692684,
          -0.7220199150774411,
          -1.5037488884709538,
          -1.8208063443174323,
          -1.3092499530556858,
          -0.5828274996029208,
          1.8767430181001132,
          -2.313572197189643,
          0.7099128201293103,
          -0.7812682277707907,
          3.3949279818682614,
          0.9032880273730479,
          -1.5365804542172716,
          -1.6283452043117528,
          -1.702268481494209,
          -2.4352854352283106,
          2.0186542826167453,
          -0.3166155515639342,
          -0.8941954290264559,
          1.1047609784727352,
          -0.1961274070336847,
          -1.3280200419065078,
          -1.870446312712764,
          -0.7325588346573656,
          -2.432210455632507,
          -1.0631051517428243,
          -0.901845855979822,
          -0.5690495861384958,
          -1.7303866732825874,
          -2.1007718092553658,
          0.12062405251041762,
          -1.5280973319537645,
          -1.9108022973619903,
          -0.21031089609908818,
          -1.7943548127338835,
          -1.536121305827937,
          -2.216000136727967,
          -1.4955985695299714,
          -2.5500589751698,
          -1.098226216720644,
          -1.239327734038691,
          -0.8577092210584594,
          3.660395664513193,
          -2.660151441663601,
          4.225043041397306,
          0.4150807814857086,
          1.1880597387996,
          2.753189107588192,
          -0.29049845972908866,
          0.5136929486352008,
          1.879218880668545,
          -1.6657745499794445,
          4.166293634806008,
          -0.5221693744493319,
          1.043433710466218,
          -1.873099653497444,
          0.8500285353730033,
          -0.33185038438281395,
          0.27442997513218725,
          3.481276240454128,
          2.3317755006466845,
          -0.07084590733890565,
          -1.2092837434063082,
          -1.3631427295039138,
          -2.450222781385805,
          -2.0884769934788587,
          -1.8057549808143696,
          -3.399583731082438,
          -1.6998225891375291,
          1.520901822244388,
          0.7646308800896886,
          4.478609512834523,
          2.46611331980397,
          -2.2354904599284433,
          -0.8246614851720233,
          3.432450645076326,
          -0.4882362322682682,
          -2.081322355130962,
          0.14989400405551817,
          1.8973889528910979,
          -0.13683775308019436,
          0.450259234235419,
          2.0957686662777846,
          0.9153914685653902,
          0.5857264273779645,
          2.2333595333061376,
          -3.0450765877715424,
          -2.3291508714311773,
          0.45432202704512464,
          -1.630120735089727,
          -1.4143229884606325,
          0.24435456870028327,
          3.2107996485644104,
          -0.9304532954544271,
          5.150035753984847,
          5.004281707388849,
          -1.3148675759101827,
          -0.7597385878813306,
          -1.6628375487419653,
          -1.8902303297831131,
          -1.5328467352522677,
          -1.2536233695640064,
          -1.2302352255235947,
          0.10461162581345526,
          0.5222047642496472,
          4.4310454019223044,
          -1.189688486841707,
          0.3826515107286243,
          -0.7773625634585365,
          -1.4952959189875166,
          1.6675267223984016,
          1.4852428780681362,
          4.356729544123438,
          -0.9108592533331853,
          0.1816427229341859,
          -1.8732582454237803,
          -1.6946786996734693,
          0.4358314317588741,
          0.4879910198583241,
          2.7658581502204425,
          1.9540876681797281,
          -0.17613599599091725,
          0.4227931229385325,
          -1.61173593698219,
          -1.0419915528465535,
          -0.12021237473150596,
          -0.1114023380185063,
          -0.34434278626743614,
          0.6672750904822229,
          -1.2131974145350364,
          2.5136903101093644,
          1.1845545043666188,
          -1.755389031147312,
          -0.6992418306210517,
          -1.0580195579562395,
          2.311940378611574,
          -0.13688948178293095,
          -0.8741749815567244,
          -0.9304422088236289,
          -0.9840382097343742,
          -1.3564305630785582,
          3.396628728792949,
          -1.7688160662074714,
          0.25324946539756976,
          -0.5625432966733258,
          0.13894980838009324,
          2.9951823246963105,
          2.3219296947796297,
          -1.4964895263633473,
          3.2743693149316195,
          5.3355366381637825,
          1.197094866717349,
          -0.9325106706495214,
          -1.034809835802779,
          -2.025148199151575,
          1.065774782580105,
          -0.3857410564931715,
          -0.6253799907794826,
          1.5479900682861572,
          -0.9325106706495214,
          1.1810200528402144,
          3.680927642400888,
          3.757014733272656,
          0.012415187357943643,
          -3.0305697190318264,
          -0.9098410453161847,
          -1.5191912139342894,
          -0.9195814288618506,
          3.8284561838288953,
          -1.1117133103932133,
          2.267337362057982,
          -1.5150721309734032,
          -1.392503325761307,
          -1.2995846666732829,
          -0.12266151502753635,
          -1.8668753039071255,
          -1.5018729408205695,
          -0.5700160017381589,
          3.039882270510461,
          -1.8005405433301163,
          -3.663231559968168,
          -1.4679455092351446,
          -1.0800614696303588,
          0.8055109936842502,
          -2.8202672391359043,
          -3.4529710337762105,
          -1.1110635172556047,
          -2.791897090464661,
          -0.6542529218710753,
          -1.2316328350265462,
          -1.3092383176769777,
          -0.44699410320140975,
          -2.114793859435531,
          -0.8486770478305609,
          -0.9409778444685293,
          -1.8320832439959553,
          -1.4789288509342486,
          -0.26031174767671983,
          0.7062856706652373,
          -0.9472312383775637,
          -1.8280677033103938,
          2.8968869857554744,
          4.209593201660836,
          -2.754870819905932,
          -1.545945924038412,
          -1.8925052109960359,
          -1.7067784255245098,
          -1.6774539508660635,
          -0.45635185837174097,
          -1.3346043453735295,
          -0.32162950035436927,
          -1.5006475935961918,
          -1.4595938170239795,
          -0.8243341544860159,
          -0.6580875903276738,
          0.28642701434719353,
          -1.2796134458978505,
          -0.3704970587555018,
          -1.2343513887207458,
          3.996300547145879,
          3.3395779158555348,
          5.38401648434695,
          0.21837706806185947,
          -2.306768848291024,
          -0.5021981388206936,
          -1.0068978534182276,
          -2.1476944439402614,
          -2.3968637435576934,
          2.7096069646934557,
          1.7560435745437526,
          -0.9443973872998467,
          -1.1396430988151258,
          3.557863814296516,
          3.853519820121416,
          -0.8855858941782221,
          -0.9829651653205767,
          -2.3201254212705917,
          -1.2569492976214969,
          -1.7231498462043988,
          5.96107428123808,
          -0.9304306817837578,
          3.7923096640832332,
          2.5338939245783836,
          2.400346932906477,
          -1.7878372257776913,
          -0.2335289532416351,
          -1.8863702813551408,
          -3.0007847223145743,
          -2.088853425657693,
          1.0430639994862407,
          1.4753691607777757,
          -0.7167812722224327,
          -1.824163976086663,
          -1.093981826487538,
          -1.4173759806756008,
          -0.9227672156589173,
          -1.1044280464120806,
          0.06735268474735898,
          -0.789536593046344,
          -0.0707214945679872,
          -1.8517630213186191,
          -1.8601271467736307,
          -0.08828355973957522,
          -0.25544103116343236,
          1.8793807339843192,
          0.911685387880505,
          0.10012379315177426,
          -0.60394397797254,
          -2.929817585496708,
          0.19839714092277608,
          -0.44918673033604134,
          -0.7937960986538549,
          -0.6206510300666286,
          -1.445924049009497,
          -2.3369061253580066,
          -1.4633820680402183,
          -1.2208847510985505,
          -1.1296546207459404,
          -0.17787330371714571,
          -0.6960752028433892,
          -1.3678339527436478,
          -2.344688244689029,
          -1.5994355501742874,
          -0.6953135901672165,
          1.622938852032896,
          2.7823998445336744,
          2.285874428736386,
          2.1555507987969467,
          -0.264782944410473,
          2.827606248898015,
          0.6100656850450609,
          1.3174805042783115,
          2.7468007751696337,
          -2.2523754075787212,
          0.7036343124900796,
          -0.0011837602491455133,
          -1.4829619080699714,
          -1.1075232058518323,
          -0.6971997960267908,
          -1.9568620208735583,
          -1.1054970278095253,
          -1.3264831935701504,
          -1.7849025600389337,
          -1.2811371791205028,
          -2.8860579727672384,
          -1.241834856815289,
          -0.1542720354675383,
          0.5668302283795724,
          3.1638738295315676,
          5.047031224564758,
          1.2487075452916356,
          0.6273736799906386,
          0.07539853780510453,
          4.046423353988648,
          -2.0948414895359444,
          1.7704705061504258,
          1.3428053485486433,
          -0.628115902860407,
          2.7007571007879982,
          -2.896459582461672,
          -0.4890714865795594,
          -2.4153603716354706,
          3.350597068739794,
          0.11785838188577111,
          -2.0818315040779063,
          3.3833813768610854,
          -2.028868370344412,
          -1.9296895864420207,
          1.9624352875108118,
          -0.11473781767402338,
          -0.8976185323361068,
          -0.6162589382614432,
          -1.3398506344220267,
          -1.8605094581925588,
          -1.1256165151572635,
          -1.3471905127214157,
          -1.6634667301389143,
          -1.7937172212243648,
          1.7116070792188414,
          0.6875307868210195,
          2.35991265579725,
          3.4077455863709947,
          3.420163417355512,
          3.170408043356182,
          4.189709436743141,
          0.8861883023723542,
          -1.2041336806401506,
          -2.4332660384219977,
          4.396257729264005,
          -0.9943458450544882,
          -1.6640786009656174,
          -0.6530120732992518,
          -0.7024160963306568,
          -1.6162721975405978,
          2.7000671233999913,
          3.1332303142138045,
          2.6230336450209095,
          -1.7234064226917913,
          -2.8800245580393926,
          -1.8011679111545567,
          -1.6369871043498483,
          -1.8914809660644956,
          4.61893578016116,
          4.050843042184679,
          4.352663051268986,
          5.122067061563873,
          3.9068164100335823,
          3.986678980914988,
          2.7852234093895074,
          0.9999800069643565,
          0.6799719491218086,
          0.014298306941483652,
          -3.1561527611479896,
          0.022755347441268933,
          0.022755347441268933,
          0.162155218350465,
          1.8848249364406555,
          -1.6357883699260098,
          -1.4405368092396196,
          1.9595862552593764,
          -1.9643963626404664,
          -1.5973738646502844,
          -2.0894463149704245,
          -1.8026658189060811,
          -1.2917710621025635,
          1.6122957977964245,
          -1.0597890934720624,
          4.6016318315288425,
          4.450568176559051,
          5.210196579660403,
          5.777399769903289,
          0.20076562572775833,
          2.1326120989580404,
          1.7459968094343272,
          1.7459968094343272,
          0.20076562572775833,
          0.3454668439277417,
          -1.5154226810918983,
          -1.6922378597241023,
          4.31068187824916,
          0.4692689472391091,
          2.324208231380985,
          0.9381121233998012,
          1.184125244273473,
          -0.3743066976564631,
          1.0133098935057994,
          1.0103085340590092,
          0.7875315203113392,
          -0.5858043284252901,
          -2.6432273139517264,
          0.7454678649645954,
          1.0437438961384282,
          4.839564142521274,
          2.289658143604798,
          -1.302533341046243,
          -1.3212499387413408,
          4.033258007856048,
          -0.9054653279761936,
          1.4077154542863595,
          1.8197767618637946,
          -2.026680141298869,
          0.40697399193667577,
          -0.1789885307304618,
          0.4847618118735946,
          0.2637378078660126,
          1.949047289770571,
          -1.261784182150272,
          0.149215148005536,
          -0.21755040086465105,
          -0.7624724066787726,
          -0.9387029953969086,
          0.27949977926882413,
          -0.7588630483770609,
          -2.1527959857986345,
          -1.5357814618078691,
          0.8290154285889054,
          -0.9817137056298602,
          0.0007320463538197944,
          -1.0590701782309835,
          -0.7529011708788523,
          -2.5175145217551615,
          -2.31994051712219,
          -0.23471491664775065,
          -0.2212072962441545,
          -0.681030571993421,
          -1.3423911334200616,
          0.9329099433229728,
          -0.33138598600913177,
          -1.3663419235685048,
          -1.0192775239661636,
          -0.5491172599185631,
          0.05306629499184389,
          -1.2567107324055797,
          5.259661506974289,
          -0.29656343051103284,
          -0.20192591787070102,
          -2.024602339850487,
          -1.4443686593541996,
          -0.9751839182365086,
          0.054527146408120446,
          1.4523524534217256,
          0.8192739231873546,
          0.07698261684037504,
          -2.4241133476805623,
          -1.0499396836036308,
          1.3593481661758235,
          -0.8437018248035669,
          -0.40543864743120406,
          0.6101227140817003,
          0.12017397103912063,
          -1.0084097097668359,
          1.2229974720456425,
          -1.1031682937994722,
          -1.4083418571679762,
          2.575630306021975,
          -0.15864834545483905,
          2.9154589235875865,
          0.014968192928109865,
          1.4088806725999046,
          0.8082967149746645,
          0.446494580276255,
          -1.2795600059785797,
          2.8272600811544866,
          -0.42771336379759695,
          -0.8837451046928382,
          -0.23093094143364817,
          -0.5371447045574764,
          1.3880784370526693,
          -1.0597890934720624,
          0.8795324448096465,
          1.4764147298242947,
          2.7650016272370337,
          5.637075618753221,
          3.5002357640189063,
          -1.5104184002125947,
          -1.23348435915451,
          -0.7529405029218754,
          0.0851118732430911,
          0.32051098514515086,
          -0.9120762581936722,
          -0.2785807002941413,
          3.08843362476748,
          4.143247777999696,
          2.399716316397861,
          3.176957929846899,
          -0.6044283440694063,
          5.574219688203976,
          5.333727896640726,
          -0.1703279404175995,
          -1.4427210612478676,
          -1.3399879370214864,
          -1.3399879370214864,
          -1.0802458985701935,
          3.9166593931872025,
          1.1333539879918568,
          3.1319240633605436,
          -1.3399879370214864,
          3.1351717246654625,
          0.052961063614170474,
          3.8242286853002536,
          3.3139603610314188,
          0.6376433975357706,
          -1.3678276494516473,
          1.479594968952716,
          0.5075398114106479,
          4.025163763893027,
          3.397634175449694,
          3.302529115701344,
          2.8311288224741102,
          0.4298703987209272,
          2.652603820099899,
          1.989439518742534,
          -2.4451348377062505,
          -1.982899282441323,
          -2.9088138803783696,
          4.910713009747099,
          -0.6498036654322954,
          -1.5303444494937977,
          -2.715389745415452,
          -2.0687544157967626,
          -2.2542542997003814,
          -2.0100526796115536,
          -2.1099099573153444,
          -2.2236326075156,
          -2.313210306482977,
          -0.9502346814249334,
          -2.1364027095393237,
          -1.0065335489460199,
          -0.5635117535932602,
          -0.5452437114590939,
          -2.2698090988609723,
          -1.2016336137926886,
          -1.3117714960738533,
          0.11607867116484613,
          -1.1573319711835894,
          2.8442612084686387,
          4.8169710470501,
          5.388502137886449,
          4.902234021478255,
          0.17804007974110764,
          3.1296296239009402,
          -2.6715653444756327,
          -1.4732881003033516,
          1.2109456547170139,
          -0.6283268472049907,
          -1.823215985258661,
          -2.7616267192664945,
          -0.8038412941572934,
          3.1296296239009402,
          1.2775355899569312,
          -3.4999871537662997,
          1.3589483043899582,
          1.73855544628032,
          -0.22573449118776828,
          -2.274067346388714,
          -2.7222920271687374,
          -0.5665714728194751,
          -0.7245547433332948,
          -1.8992419894110664,
          -2.8397395979008873,
          -2.0779173370881674,
          -0.8771721526876274,
          -0.40668386778986576,
          -2.4626824440774824,
          -0.9502346814249334,
          -0.8848052512508255,
          -1.4759715630515935,
          1.0340563390737687,
          3.926653088228387,
          1.35041894916264,
          0.4022811443833145,
          -0.7883433217568944,
          2.0279654140200636,
          2.040217954687528,
          0.8979910073856007,
          -1.370362281983276,
          2.1959478767859335,
          -0.3257151107438957,
          2.166790516006022,
          -0.10849963879625155,
          0.5555801926793538,
          2.685527235091842,
          2.0629718502740504,
          1.9327789730120868,
          0.5823874663723912,
          1.428007669470053,
          2.2279502077988336,
          2.01411172372446,
          -1.7548260472472803,
          3.145271157736503,
          1.8851878311394745,
          0.5461741363291327,
          2.356396628203318,
          0.8590333940405672,
          1.575003622578238,
          -1.4254079176047507,
          0.1322950570473498,
          1.6585341861753553,
          2.633080100731384,
          1.2919858967101794,
          1.530773141237544,
          1.8030112846657074,
          0.06706942676045809,
          1.804540350598169,
          1.3745874347744294,
          -0.08395614302769251,
          4.0497491727114605,
          -2.127550029030416,
          0.5273523375187041,
          -3.091473789327692,
          -0.9291176379098606,
          -0.4015548957102339,
          1.1987811941730044,
          -1.4489486989802904,
          0.42164195837834406,
          -1.034809835802779,
          -0.6337420572126484,
          -2.183496509851046,
          -2.1758672952105003,
          -2.82435685604712,
          -1.5657851439064698,
          2.4888524869873803,
          1.7069952938522621,
          -1.7699525413624655,
          2.0944287535894515,
          -2.538940561074889,
          1.775756257601299,
          -1.367381381578481,
          -2.3217190043773894,
          -0.07145510003716211,
          -0.1295351565608192,
          0.01705652057736868,
          -1.6918615662065608,
          0.24788898634041873,
          -3.371949005692058,
          1.810943972534713,
          -2.9563167102804058,
          -0.9326576513945359,
          1.5453563721904233,
          2.0175676302543004,
          -0.9777384825203524,
          -1.8088045851480508,
          -0.19764938933701628,
          -1.7360045350795752,
          3.6842201989297214,
          -0.684709448550962,
          -0.26031174767671983,
          1.5422988888047582,
          0.5930026646121619,
          -1.7912959670136774,
          3.1180214989226323,
          3.3580144918752315,
          3.5099309650882833,
          -0.19461924016162052,
          2.480527963790225,
          4.517776810914006,
          6.091867137337176,
          -1.386425812758796,
          -1.65908942919348,
          -0.8451615089399575,
          -1.041719254878501,
          -2.2126328441140064,
          3.9047624185662837,
          2.3576582971520192,
          0.03992601661587229,
          -1.100495324757871,
          -1.3293394373721137,
          2.4179234417138873,
          -1.8494158071698894,
          0.6194589894389146,
          0.7007141496868093,
          -0.22131099576619256,
          4.069805840259909,
          -1.691519858942959,
          -1.6480326701342511,
          -1.6266757262409488,
          5.0705984901097185,
          -1.2012069430765233,
          -0.20161483159628837,
          2.212377949900126,
          -2.4649248397008874,
          -1.9249814682117177,
          -2.4080164096721752,
          -0.39816065469449086,
          -1.1481127843950465,
          -1.2373304643909675,
          -1.4628181365509445,
          -2.6429915346372557,
          1.953301703300397,
          -2.119572558061232,
          -1.0140421857817679,
          -1.8430894155768578,
          -0.17434341580478332,
          -1.8079063743752255,
          -1.077009866773891,
          -1.4905481769240276,
          -1.2980784897176674,
          2.3650341880945853,
          2.8056902680785316,
          0.4847235106188629,
          0.8549288236322976,
          -1.501392214950878,
          -1.3673565615887993,
          -1.5786623309290853,
          1.9460913874910186,
          0.03174403073604786,
          3.518987096487807,
          -0.12194207361813132,
          -0.8643826427197105,
          -0.34316401580846134,
          0.148799569828516,
          -0.7021345155769465,
          2.526890730193046,
          -1.5907428957012457,
          -0.04081922184563134,
          0.7899298288307427,
          -0.9108592533331853,
          0.5345492960066748,
          1.711864051424775,
          0.3291372387869497,
          1.193120225310695,
          1.0958689907088615,
          1.2545681987114246,
          -1.6454912421714343,
          0.06998303323160365,
          -0.6562708849308341,
          -0.8025844842561608,
          1.0288670632622714,
          1.5503148149597885,
          0.7522544149888796,
          -1.3594752795046878,
          3.018000391387946,
          1.0712957412947142,
          3.2217287372984567,
          -0.09309152149855236,
          -1.2985779973467582,
          3.2186280625537034,
          2.1326120989580404,
          -2.344673001682561,
          0.40529331240226657,
          -0.5726023021440036,
          -0.8831651240421446,
          0.2864992879018397,
          -1.1602891468274341,
          0.7158496154657066,
          3.5107534356200003,
          -0.20646597214665516,
          0.13893639159218502,
          -1.805818815917158,
          -1.769051266009554,
          0.8116576480875319,
          0.3375246919062724,
          -0.010394775910613207,
          -0.8944573785036687,
          0.21387473617623035,
          0.2310045243481411,
          2.030878227187982,
          -2.2995204704233037,
          2.4641111195466663,
          2.1192178617213573,
          0.039000464651964384,
          -0.65387592408223,
          -2.5086272188807186,
          0.8123565472634445,
          -1.578753055761895,
          0.21465726009403907,
          -1.8370165087569883,
          0.9229565319598538,
          5.65635081813316,
          1.2758796109944477,
          -0.5087977010750409,
          4.278428722085262,
          0.6992100078765249,
          -2.3841364242986836,
          -1.7777308426945013,
          -1.7803898860126552,
          -0.4167539682681077,
          -1.1894418289754762,
          -1.316881436583952,
          -1.3415980593024446,
          -1.9057076077566881,
          -0.9399967293329489,
          -1.6808685152004783,
          -1.1904065555534982,
          -1.4119055620195065,
          -1.919022355587359,
          -1.6818203902001196,
          -1.4359027004171412,
          -2.0112309024792436,
          0.09121406890156537,
          0.505586962212966,
          -2.3991249477716154,
          -1.487800537177718,
          0.09012877718788212,
          0.3101465274982111,
          -1.4468211063157417,
          -1.8879364766330238,
          -0.43080997590404696,
          1.9127398992549003,
          -0.9340739420096678,
          -0.09245424702742877,
          -1.0170415780895785,
          -1.4337106390703647,
          -1.1513085587600564,
          -0.3505327260134423,
          4.891728612485043,
          -2.2620354657009685,
          -1.1646239535239467,
          -1.419487651844678,
          -2.178982674772513,
          -1.7048467653411046,
          0.08723516303489717,
          -1.5513713971895968,
          -1.130591932974703,
          -2.008601460302474,
          -1.971984908729131,
          -0.760355244170043,
          -1.7081845936205493,
          -1.452644788376456,
          1.0936536290838423,
          4.707297316935377,
          4.066416551661848,
          0.8449080453819606,
          2.0175676302543004,
          -0.5221029502555887,
          -1.0819030183511773,
          0.9363603495410857,
          -1.6901930633720712,
          -0.06734437755377393,
          3.1284096100847627,
          -0.013372924890361515,
          0.9315488370480712,
          -1.1078988413689919,
          0.9836845171357764,
          -0.6216384167307965,
          4.176384153224832,
          -0.8174650647916104,
          -0.9844049327521095,
          -1.934020852138305,
          -0.9150586306583647,
          -1.9024375077661237,
          -1.5991191899978696,
          -0.397912267344281,
          3.189010773438727,
          -1.3604505665769009,
          -0.7141034047337274,
          -1.5914938986038443,
          -0.26981790114743476,
          -0.3205716019590925,
          -0.9748467556979394,
          -0.6346112423952777,
          -1.4852467869909058,
          -0.648836141309311,
          -0.6875208972982043,
          -0.5235210522524474,
          -1.2997644179330246,
          -0.39374742517973965,
          3.492407798994574,
          2.5763577232711774,
          -1.2550502056471335,
          3.852758067026382,
          -1.3963654042352827,
          -1.597041994849095,
          -1.6886328758157627,
          -1.3774550293604086,
          -1.3690729524620981,
          -2.082618199581339,
          -1.1954018276570264,
          3.402751152566495,
          -1.9587229941745226,
          -2.646314841291691,
          2.335312795097435,
          -2.3458247510817447,
          1.3957426239486508,
          0.3091765784289799,
          0.3091765784289799,
          0.048258746895680084,
          -1.0823520722647515,
          3.049088181041763,
          -2.097576909584194,
          0.2531651111744019,
          -0.1542720354675383,
          -0.41240181977992524,
          2.8948856676427654,
          0.9925700176837297,
          -0.10380387445274504,
          1.8938195243268816,
          0.9398182903443805,
          -2.219007000192061,
          -0.4028999508832659,
          0.4855598419464199,
          -1.6946786996734693,
          4.453263833371455,
          -1.7698042251004986,
          -1.2917710621025635,
          -1.845644154747359,
          0.09262464006245355,
          -1.853771804976348,
          -0.32412406221746115,
          5.69903030487743,
          2.3817849882339264,
          -1.5609102360473253,
          -0.27991740748156413,
          -0.5542550572699032,
          -0.663745499914656,
          -0.32926983060965265,
          0.6663435469489151,
          -0.8145720543150358,
          0.693926519749139,
          1.4162075885952412,
          0.5778186477553648,
          -1.258474178901717,
          -0.187723658790723,
          -0.88360137570681,
          -1.687550678598696,
          1.521134032798548,
          0.21959081948294884,
          0.28850205362560905,
          -1.4926217671802835,
          -0.21175692447557928,
          -0.17581020496163435,
          -0.8875625801717648,
          -1.2556219866206952,
          -1.2269361604283753,
          4.61893578016116,
          1.3552239026426218,
          1.933616409353556,
          0.34368407284732483,
          -0.5690376399407612,
          -1.8919920103002272,
          -0.5841890549176634,
          0.33276996189999675,
          -1.9175550818936062,
          -1.2392356281844927,
          -0.09546520325791734,
          0.5577786585832484,
          3.002801573904521,
          -0.5753522125886531,
          4.1610225258379305,
          -1.9988770057703382,
          3.7468909865289723,
          2.224478260333408,
          -2.0601769600584996,
          -0.765174794011318,
          -0.8818233752987549,
          2.2008285870324467,
          -0.5335105742105516,
          -0.5913765417068712,
          -0.8686121365386245,
          3.1269291911696295,
          1.5727472398500435,
          1.8241788630931575,
          0.9487631695800605,
          -0.7979632686424216,
          -1.5274385093734066,
          -0.04031006817489326,
          -1.4688940844932499,
          -1.5189484652220893,
          -0.33363903038412523,
          -0.28741846532537707,
          1.9173914860919663,
          4.217793257754892,
          0.8123565472634445,
          -2.026822876035974,
          -0.9888603025879955,
          1.3505978175446565,
          1.3505978175446565,
          -0.22448253695649276,
          -1.5599823753878836,
          -0.9445110188851531,
          -0.968737494136997,
          -1.947382401954023,
          3.2626195808960086,
          3.3357502012362756,
          -0.08400104548677001,
          -1.8353016618474354,
          -1.014776886033098,
          0.6805879787852307,
          -0.9288952404986102,
          -0.9673631567290877,
          4.168363339147134,
          -0.8950461905575409,
          -1.6554978350332126,
          -0.6736705457075529,
          -1.569479403445226,
          -1.661983630782516,
          -0.15889958107504268,
          0.6637508483382952,
          -0.830756170623465,
          -2.2833156359466367,
          0.8752453390642218,
          -2.4277401058841876,
          -1.4224065981480545,
          -1.103766214033281,
          1.5650671095135884,
          -1.0895612371376289,
          -1.1687147925779515,
          -0.9946974720841737,
          0.7352426388393156,
          0.05685055929293742,
          -2.3649098795794226,
          4.9047511308781395,
          -2.803040390957145,
          -2.2525620808187825,
          -1.8959245730757264,
          -2.091751605201151,
          -2.5083171311632455,
          -1.0932669094952756,
          0.23002712834864822,
          -1.76640240001583,
          0.6845546448708248,
          -0.9024606571237715,
          -0.4794045361365271,
          -0.7455458630228232,
          -0.901332679054791,
          -0.7150579071819952,
          5.521484025398483,
          4.330780758381717,
          1.05075177723107,
          -1.6734809168327196,
          4.236594177348254,
          -0.27450214919145755,
          4.055818049656477,
          2.135766913281718,
          -0.8330021081673888,
          -1.8279298926842606,
          -1.7462095781463174,
          -1.4292748016739285,
          -1.804335648043358,
          -0.03892607223897983,
          -1.3609492642096943,
          0.4479854069546501,
          -1.68819661974215,
          -2.260555498082256,
          -1.6032958665289616,
          -0.5719868279724866,
          0.2268062184392586,
          3.000746418246712,
          5.26205861814063,
          2.8858699481600514,
          -0.6661581305866552,
          4.647416850813503,
          -2.3259805083008858,
          -0.8749418351069337,
          3.435844753643245,
          -0.18592056996048006,
          -1.3252577961419485,
          -1.645482650470813,
          -2.274363772769265,
          -1.137548985445836,
          -0.3059464908211029,
          -0.26321036146484106,
          0.36823439087847804,
          -0.7749919598416072,
          -0.17119199961990836,
          -0.06981557094042519,
          -1.207258832602026,
          -0.6241021127308292,
          5.419874741023523,
          -1.5972222455784255,
          -0.3638951753809361,
          -0.34450217250929605,
          -1.6165697131635002,
          -1.1021594097961762,
          -1.2273516660222623,
          -2.045214098687463,
          2.0186542826167453,
          0.42982899271672514,
          0.6052682794470793,
          -0.4423537865870969,
          0.02294714194443552,
          0.001594477147352688,
          -1.8238846076569701,
          2.2317541681982687,
          0.7642748141635706,
          -0.8433282919666278,
          -1.3230875790813383,
          -1.3298929349932962,
          -1.2267220894847883,
          -2.149994931085678,
          -1.216392087713244,
          3.463484711466784,
          0.4539412166357168,
          -3.061338303198413,
          0.22729614518138522,
          -1.1344768325631738,
          -3.061338303198413,
          -0.7072963438992366,
          0.3418433804143048,
          -1.5671182591234905,
          -0.8696666900612366,
          -1.5795590761486467,
          -0.8772502462786,
          3.5825006834571176,
          -2.226834278061471,
          -0.20126115331103753,
          -1.6675215191123838,
          -1.1676869386410904,
          -0.09594405636152653,
          -2.3820664249846017,
          -0.1287226442254751,
          -1.5822498519629937,
          -1.638743461776029,
          -2.025148199151574,
          -0.6993509873931978,
          -1.8764670933076533,
          0.35443256089681174,
          0.5717167306430484,
          3.1019647144481786,
          -0.5188294035461426,
          -1.0126741219338118,
          -0.7097641046725921,
          -0.7276269751785627,
          3.3634624924175145,
          2.9752226817107936,
          -0.8219366599034365,
          2.208962871622311,
          2.7850640053433655,
          0.2981463520357146,
          1.86648847416386,
          4.140411488353789,
          4.133048817017731,
          0.5282838272987568,
          2.605572101764561,
          -0.264782944410473,
          -0.1783242076444086,
          -1.9380303715726235,
          2.9039050390292216,
          3.6496770215064633,
          -0.012929923744354463,
          0.9703843368446665,
          4.840030364876463,
          -2.3821204287662274,
          -1.5441689772345768,
          -1.3888697809804085,
          -1.954261376586501,
          -1.584981903082227,
          2.44669553578958,
          -1.366648048374637,
          -0.2676245317046499,
          0.4023034180521383,
          2.374570566204159,
          5.050054496026232,
          -0.9053180429942425,
          -1.2698419846443332,
          0.5398747178532824,
          -0.9479576954954887,
          -3.0324499813922867,
          -1.112151754758308,
          1.0543642222548264,
          -2.1748260590504604,
          0.878339188240544,
          0.8449080453819606,
          -0.28380427510568806,
          -1.808364745025448,
          -3.2024704591966735,
          3.321552105448821,
          0.8539122759964444,
          -1.05270798354319,
          -1.6233526075106723,
          -1.4951842716237826,
          1.7519453777759304,
          -0.8298967446281684,
          -2.1873335437017474,
          -0.249440806646349,
          1.1074723601112282,
          -2.0859355414082117,
          -2.412511518031863,
          -1.2499990583699128,
          1.2918669581773603,
          -1.4808604861756567,
          -2.0144429700235005,
          -0.541348129667004,
          -1.6534058002388412,
          -1.4317917003045726,
          -0.9871359024336299,
          1.1655411567729175,
          3.000235685866882,
          0.15000872558749045,
          -0.5219177664341913,
          3.047428758666203,
          0.8524577565344745,
          -1.841970877137911,
          -1.4212505387436176,
          -1.5990912760966633,
          -0.09245231702928315,
          0.7589239174389384,
          -0.388617536762926,
          -0.4886912992334426,
          0.18601744652391772,
          -0.576742320239114,
          -1.044525985652121,
          -1.410342501775072,
          -0.9467174638564454,
          -1.5570907577492819,
          -2.0316565223762746,
          -1.5050207141774004,
          2.0330414338414093,
          2.997241190313891,
          -1.1131903712057172,
          3.4143457476927637,
          5.320867729182726,
          4.085991435509483,
          2.1274425358348825,
          4.947269754284722,
          0.4726197924305071,
          -2.2016868255719304,
          0.43167185305864125,
          -1.1131903712057172,
          -1.605770239647183,
          0.831219705010406,
          -1.764247923318848,
          -1.159073207027635,
          4.081447099437761,
          -1.1266837590924164,
          -1.2919547680535042,
          -1.772331172307608,
          0.02190056390348117,
          -1.833336844358951,
          -1.7602758888628403,
          -1.869346061592217,
          -2.0465422770963437,
          -1.056139046860633,
          1.177051678970372,
          -1.8762990960288097,
          -2.425224032256407,
          -0.12210277573933456,
          -1.6260066325782974,
          -1.8445494912080052,
          -0.303308297103034,
          -1.2048764587975167,
          -1.8182765975060033,
          -1.4422094887527543,
          -1.0947009976647606,
          -1.9236465210710874,
          0.06349215750229663,
          -0.7967643032374758,
          -1.30896003935697,
          0.5354649061742401,
          -1.1538421770428804,
          -1.1326586912829244,
          3.105698982407421,
          -0.5655314564562375,
          1.6711847582607378,
          -1.69035928089656,
          -0.17282411226062422,
          -0.1534234424262182,
          -1.1213935734132454,
          -0.35601148920323855,
          4.264393263445868,
          -0.9702087331231126,
          -1.47952070114031,
          -0.01916393802213676,
          -1.6262673095858808,
          -1.072934906636466,
          0.6594213427915591,
          4.066995385985656,
          -1.7593947139165298,
          -0.6148631774543108,
          -0.5328443733186651,
          2.195131016648978,
          4.211073384228147,
          -2.0951936831935845,
          -1.712677312219174,
          -1.317622605279381,
          -1.2398389440352913,
          -0.6365159443123227,
          -1.8680718365870277,
          -0.20774898984439655,
          4.663158190213196,
          -0.7172902492876058,
          1.412637536211511,
          -0.05348159629165229,
          0.12258449104649233,
          -0.6930082747630649,
          -1.6842462616801204,
          -0.9997143462304247,
          -0.9925277416519351,
          -0.4055455246851502,
          -0.7943307030855619,
          -1.417976688202368,
          -1.5077618691738772,
          -0.11864752625193926,
          0.06513251514330017,
          0.4479061806002196,
          -0.5905352698295542,
          -0.6656940772015774,
          -0.12568353651020495,
          -0.2968239783275768,
          -0.30208503695033145,
          -0.4431538767660772,
          -0.8497568273164442,
          1.5069037952476534,
          0.48036613331287814,
          -0.6970804646138765,
          -0.10347402499997078,
          0.4261184411829138,
          1.7181988956708971,
          -0.1488087242056269,
          -0.8608961760184053,
          -0.21186655948989602,
          -1.207440562477614,
          -0.24447286527723044,
          -0.11108361445809385,
          0.4331828913071629,
          -0.46666599304565864,
          -1.8413507629642496,
          -1.0214066744382932,
          -0.49758848808652084,
          -0.6844849178178243,
          -1.6697028500088267,
          1.9435278334052561,
          -2.590401210503965,
          -0.9832888022778716,
          -1.510245045648749,
          -1.5772672834448822,
          -1.3747547479445195,
          -1.2001953198664042,
          -2.5500589751698,
          -1.5609102360473253,
          -1.890277639273256,
          1.6587543910014162,
          2.7931435870373336,
          3.3936697303588166,
          -0.3078197169386804,
          -0.5170085720229922,
          -1.938067491497645,
          -0.8915763547993776,
          -0.9886668262046698,
          -0.569617887442526,
          0.8795324448096465,
          -1.144733415870365,
          -2.006545406729141,
          2.820574209762172,
          4.028986191210213,
          1.7372253796499755,
          1.5655853810053755,
          0.07802122878736947,
          -1.8274876886852278,
          -1.9502075389529852,
          -1.735406529644579,
          -1.8699631356031972,
          -0.5644354650111917,
          -2.0061121385605514,
          -1.7634140784138794,
          -1.8723008941323505,
          -1.863993220422242,
          -2.105897560651469,
          2.9575397143169178,
          -1.9232812200626463,
          -1.7291945028487063,
          -0.3394603933605102,
          -1.4817947434057144,
          -1.364827290068007,
          1.6184380633196045,
          0.6731669759445246,
          -1.398152579711438,
          1.4897707598582133,
          1.0157432689846015,
          -1.056850952974355,
          -1.75182496349327,
          -1.2421958404602662,
          -1.9336938727708384,
          -1.759821704033374,
          -1.4555523482943327,
          -2.1082944798688454,
          -2.060666043906393,
          -1.4904194189397022,
          -2.0734945064138404,
          -3.993754718462849,
          -1.780450300922481,
          0.41880137678603635,
          4.074252866889351,
          -1.6540996021001355,
          -0.8706935586305707,
          -1.2311045301288563,
          -0.0778845353742987,
          -2.4434013956713945,
          -0.07625660353628277,
          -2.1318590249117157,
          -0.16461671372417597,
          -1.7771222855258422,
          -2.2929023354570366,
          -1.2277075421191306,
          -2.4270031251579978,
          -1.0198781946837476,
          -0.638574425698387,
          -0.6162589382614432,
          -1.5903114999670274,
          -1.1226867924008348,
          -0.7780117610925471,
          -1.241834856815289,
          -0.4187722487021988,
          -0.5887610453578064,
          -1.4255157505699625,
          -1.9236465210710874,
          -0.8321122702871229,
          -0.7103155395647769,
          -0.45457897450550916,
          -0.5006469673618126,
          -1.343386016517009,
          -0.5586881735072369,
          0.7183670596719591,
          -0.8757146430848199,
          -1.068489112956906,
          -0.37919072063458864,
          -0.5255270518176566,
          -0.4899308370179337,
          -0.15972671026188542,
          4.813777021504075,
          -0.8690009426865852,
          3.321552105448821,
          -2.5792042125307053,
          1.5603981597326724,
          0.8888968989143607,
          -0.4769077058258341,
          -1.3173980164012014,
          -0.49625704700887874,
          0.33757641276583583,
          2.1487550179202057,
          0.5205896223390911,
          0.002390378671263377,
          1.4438543702229798,
          -1.772292075671438,
          -0.21138765775075322,
          0.9097158032319762,
          4.844601565033672,
          5.666384156661316,
          -1.9417108967056629,
          -2.1065509824092166,
          1.1407962580835314,
          0.23103463786948475,
          0.4256175781974638,
          -1.5657114923930808,
          -1.5657114923930808,
          4.2444809943559925,
          5.176708744973613,
          -0.859602709337009,
          -1.0270738870476308,
          0.37512427692022565,
          0.051811371512324476,
          4.582553845204488,
          0.5168944033678458,
          0.06057426972990631,
          -1.778492725569419,
          5.408174041012419,
          2.532775701991874,
          -1.5302866131478003,
          -1.0610339222842102,
          -1.09477363805292,
          -0.9227741339323359,
          -0.960553310918279,
          -2.1322400770566374,
          -1.6689001793002773,
          -1.4351673016485866,
          -0.7169772246162478,
          -0.9568264963416657,
          -0.9416875707314998,
          -0.4133385047052847,
          0.1688307025811002,
          1.4322493420169782,
          -0.7813213297476463,
          -1.1271281147595347,
          0.6524595908390043,
          -0.69274030140422,
          -0.6732878229230718,
          -1.1414799926170112,
          -1.489277070264691,
          -0.3553585485210679,
          1.8294487165805144,
          3.6560772718222276,
          0.7261799401622571,
          -1.8969714198549807,
          -0.41939395144300917,
          -1.2730663318838351,
          0.10397499296520893,
          2.096483641589661,
          -0.8776788935290583,
          2.5299097893625833,
          1.0082003519061762,
          -1.890277639273256,
          -0.42207825344761124,
          2.1090057143499488,
          -2.3715612187519297,
          -1.0444388347634843,
          -1.2311316155798775,
          -1.1776970800546378,
          -1.0345327312064307,
          -2.723466640316101,
          -1.710442011355728,
          -1.9914059300228166,
          -0.622692747590639,
          -1.0468527623234296,
          -1.290024838233273,
          0.12309112973266181,
          4.65240368969126,
          -0.40462364134067424,
          0.4430017973536196,
          0.7869224265474059,
          -0.5605651851159852,
          -0.12843809243295443,
          -0.5314028806277069,
          -1.023829088862141,
          3.174879734132035,
          3.859538766764741,
          2.602623133165772,
          0.1583326346192803,
          -0.771040365579825,
          -0.49954195302792986,
          -1.2938074605601002,
          -0.35805426889126385,
          -0.8371847600040473,
          0.2332762265516238,
          -0.08852138585591898,
          -0.6084691009396391,
          3.8798628593031763,
          -1.6480835900823718,
          -0.07920628817761159,
          0.1812255467426348,
          -0.7235894288501377,
          0.38067681393629804,
          7.226544609014921,
          3.4015397135220784,
          -1.4159279091453272,
          -1.9127960305645069,
          -2.017437359162992,
          -0.8956325749527941,
          -2.2603496043111884,
          -1.9407337361195243,
          -1.4539395308420215,
          -1.989933134522249,
          0.5563608894958324,
          1.3655741274589226,
          -0.6778354788931377,
          1.487258627957036,
          -1.423700845133621,
          -1.2748104198497425,
          -2.552461167194012,
          -1.7375662708101334,
          0.8903585804759313,
          -1.3514066895790255,
          3.6734951616390195,
          0.23893979548550576,
          -1.8009380597154059,
          -0.6930082747630649,
          -1.1302346153383864,
          1.0424609969554546,
          -0.3854930285215778,
          0.4808026898470223,
          0.3696015150662239,
          -0.24312431299061138,
          -0.31429896661330287,
          -2.122990542540929,
          -1.7729246995643366,
          -1.617369675471301,
          0.23810845387496654,
          -0.48339166999374167,
          -1.7273711551849689,
          -0.10198804553304813,
          0.5055144803084023,
          -0.7131430817527235,
          -0.8951228201123639,
          -1.0597890934720624,
          0.36743215471166607,
          -0.3275524799958208,
          -0.15392290335129144,
          -1.007975195906829,
          1.3312267508392603,
          0.14879178398842074,
          2.5937576493924177,
          5.280198100270837,
          2.6125401236233956,
          -1.242918729466782,
          2.8834607480253336,
          -0.8454958932986624,
          2.12556317963689,
          -1.2848447129982985,
          -2.3335290439494845,
          -2.3874608455512787,
          0.47081022186238475,
          -1.8703654091300095,
          -2.604864563143926,
          -1.5249585479981802,
          -1.9311352130461579,
          0.1592591431131283,
          -0.33685427467472573,
          -1.7238132206500603,
          -0.14523173932935907,
          -1.1513324744387912,
          0.5329054203221855,
          -1.9612249102027286,
          -1.2399292163761013,
          -0.9213520425348978,
          -0.2934493481289041,
          -0.7878251517408998,
          -1.9817641589624,
          -1.7244851503949092,
          3.925517286069733,
          1.594293129963459,
          3.1863353179970493,
          0.9775969311537852,
          3.5867432508255215,
          2.6477450497993615,
          5.2702177596449715,
          -1.7082485977385509,
          -2.1998039804602203,
          -0.06578081779005324,
          -0.8368706284559644,
          -0.7854677175050839,
          -0.20916402742117712,
          -1.7085754585994817,
          -0.20916402742117712,
          -1.3997320777127065,
          -1.090959055413606,
          4.169466471505721,
          -1.3684630603624202,
          -1.9324283671873026,
          0.11061706995923604,
          -1.8318071541194516,
          -0.9598571387641506,
          -0.20192591787070102,
          -2.322482104084647,
          1.2956242638589615,
          2.4399389680424686,
          -0.0034299770508509015,
          1.9689878707923254,
          -1.8110394558681593,
          -1.2760228016973982,
          1.751264609190847,
          0.04735484250802857,
          -1.4262864308855514,
          0.8119245867926471,
          -0.3351614731377252,
          -0.28854191440586135,
          -1.9135217129716549,
          -0.4450657468956547,
          -0.3898013592395581,
          -1.0965604946490624,
          2.8632445586955457,
          -1.006436653664148,
          -1.6679956265557812,
          5.037072097193788,
          2.3072516687894193,
          0.9817234747421197,
          3.023290887104781,
          4.1170107344729825,
          4.113361444554915,
          -1.7640887933065441,
          0.15200397301154822,
          1.0100574747776057,
          -0.09826825918659808,
          0.7454678649645954,
          -0.07912913968776608,
          -0.5869929672815045,
          0.061376567586416235,
          -1.249318554441786,
          -1.1625329569665963,
          -0.5446464357178715,
          -0.5257359411169934,
          -0.6973969041449736,
          -0.9719600477668974,
          -1.7113924337417692,
          0.6626099536052518,
          0.37990667046115606,
          4.353172762386834,
          -1.7505111883218216,
          -2.608281914795239,
          -0.7744430956484709,
          -0.29049845972908866,
          0.19347918400083922,
          -1.500564841771931,
          -1.3802231760043502,
          -2.520149113309609,
          -0.6742590697690063,
          -1.2280633296074592,
          0.422974212595444,
          0.19347918400083922,
          -1.6139893679672415,
          0.24592070134157076,
          -0.9320241203449566,
          -2.0291882153646794,
          3.086164823529944,
          3.289630235628946,
          -0.8430280926050698,
          -1.01910802601215,
          -1.2581311719443307,
          -1.4293847145323795,
          -1.2280633296074592,
          -0.8918518314853019,
          -1.1625329569665963,
          0.3320094024663953,
          -1.400615775117919,
          0.4749551626010548,
          -0.3285383111216558,
          1.2317234135229205,
          1.8982351464781353,
          -0.8272044736771336,
          -1.1182953375910332,
          -1.2140979999974273,
          1.4102809155728917,
          1.116255824414093,
          -0.9625261685035061,
          -0.22774342883917056,
          4.820483671447005,
          2.806672678167791,
          -0.8910597762575774,
          -1.419710022543954,
          -0.6373053624231052,
          2.667811075962947,
          1.3709647550842816,
          -0.8509927620370403,
          -1.1349369532310416,
          0.3083139857621749,
          -1.41832217564096,
          -1.1093252736015078,
          -0.7858824490959329,
          2.1433565649047104,
          1.6998034813955645,
          -0.5767423202391139,
          1.1753290502836968,
          0.7683249437917375,
          3.067247968624568,
          2.1713827731880704,
          0.09109228763953148,
          0.1742419604951196,
          0.31907993640080984,
          0.5277083757468595,
          -1.589141834011743,
          -1.8079063743752255,
          -3.0009494117127997,
          -1.568343055410002,
          1.2531320966526045,
          0.4800788069577333,
          1.1470176346512164,
          -1.3095170917389245,
          1.592938815983414,
          1.071042013249127,
          -0.6277790692076216,
          -0.7049891902633252,
          -0.3660994904340916,
          -0.48717640946067103,
          -0.7621598571323492,
          -0.09005428008472965,
          -0.1486852055596877,
          -0.2507783494082102,
          -0.7043224955062207,
          -2.109018269583259,
          -1.8793340708111208,
          -1.4483273104314522,
          -1.6855200932596452,
          -1.8814813682552227,
          -1.4090316369170106,
          -1.8761815210993216,
          -0.4113534767140595,
          -0.8662032598582581,
          -1.584362410576006,
          -2.4428347518126063,
          -1.0024189493957545,
          -0.747011061310792,
          -1.2099907754251191,
          0.8179688501593763,
          -0.3212642807458112,
          -1.1398522347318438,
          -0.8437018248035669,
          2.042252885206129,
          4.763938610263661,
          -0.828416858409842,
          -0.6352570447275013,
          -0.8515059856345202,
          2.2461767341646777,
          -0.39823929265682956,
          0.6404987805565763,
          1.2643075804942276,
          5.199354627810794,
          1.8583829004360737,
          0.7197917125418748,
          -1.8100918480866632,
          -0.05143589477032499,
          0.3738921019551166,
          0.7611727109350744,
          0.8241113127768871,
          0.5550844565870723,
          0.7400410988074464,
          0.4304758860098791,
          -1.1913376013534485,
          -2.0196290838920707,
          -1.0362298519507225,
          -0.6266858975965711,
          -1.761743557811233,
          -1.9484506333422835,
          -1.0008080358122444,
          -1.9465609399407109,
          -2.4761756352926847,
          -2.657580092427615,
          -0.7988177186083177,
          -2.1323643057110795,
          -2.5641686556704393,
          -2.1305638358695553,
          -1.0271095058981723,
          -2.2711827620735545,
          -2.995567970719322,
          -2.013777147378136,
          -1.543760062900461,
          -0.5641657478210647,
          -1.9539615900671412,
          0.13531177462093785,
          1.5240830508840983,
          -0.38979132753569984,
          -2.1472490541110054,
          -1.7165767230653313,
          -1.7102416567782448,
          -0.2945681091475034,
          0.6183200167274998,
          1.1050523168212674,
          0.013477089149455567,
          1.3552239026426218,
          -1.4987842085344647,
          -0.8367365709615128,
          -1.0892869241339997,
          -1.1815682360615913,
          -0.835998626540165,
          1.806422945520716,
          4.573522285535851,
          -2.3895472039585006,
          -0.8875625801717648,
          1.5623932472527657,
          1.6129921406346872,
          2.378287010706773,
          0.24814725641207433,
          0.8731453432239884,
          -1.764764526742546,
          -0.13139150759423252,
          -1.6129773081287335,
          -0.5758965096135334,
          0.07342012773008551,
          5.948310252700196,
          -0.26031174767671983,
          2.3439529774231587,
          -2.0317748746875957,
          -1.3422308343188212,
          0.525704994311735,
          0.22042439977144998,
          -1.4231533307505306,
          -1.9680325183749636,
          -2.490004187789632,
          -3.6403170139945296,
          -0.7100689834528794,
          0.18037744575466602,
          -2.7307792390101286,
          0.6051493269356286,
          -2.012226808574385,
          -2.9882377865906733,
          -1.9881226567087884,
          -1.1001811056752302,
          -1.6322560102481374,
          -1.5585212785368736,
          -1.200376905617608,
          -1.151803565517245,
          -1.5626575408762526,
          -0.7030185679656767,
          -1.5109878564250234,
          -2.0949762564053698,
          0.21820803727112137,
          0.2810209256473469,
          -1.599901598510911,
          3.6364376718953944,
          4.377634569812745,
          5.517832620777445,
          -0.1559322046983319,
          -2.782354500681215,
          1.705818604551293,
          -0.33256344644116276,
          -1.560633597882819,
          -1.4666166729454648,
          -1.6720377493956833,
          5.050054496026232,
          -0.42113023519586873,
          -1.4156805781784683,
          -1.0310175317531438,
          -2.059461933825433,
          -1.1993121002513571,
          0.8418391167498283,
          0.5277083757468595,
          3.200054060466446,
          -1.0918956593169198,
          -1.6640321370290698,
          -1.7940379519331608,
          0.26759154444683014,
          -1.1761461616742324,
          -0.9236608800933432,
          -0.7383878592737918,
          -0.7370115676562266,
          -1.7260061487881717,
          -0.8276749826467549,
          -1.0981889258275135,
          -0.0686037331421917,
          -0.19842300499809074,
          -1.7252882884251954,
          1.9027041250642664,
          -1.2041377469319985,
          -2.1467615740377113,
          0.5675226390225938,
          -2.7378605856359566,
          -2.3646735229993037,
          -1.515905185254407,
          -1.1991820155424167,
          -0.23901879110390278,
          3.755510100997641,
          -0.9172187524603722,
          -0.6027578678703448,
          4.365128553031846,
          1.3570526592632626,
          1.0610805001881747,
          -1.0918956593169198,
          -1.0918956593169198,
          0.37990667046115606,
          1.0507517772310702,
          -0.8347222062997993,
          -0.43629024499739405,
          1.8393460147500817,
          0.974932326238851,
          3.5998474603595265,
          1.3878500421641145,
          1.8808998932641332,
          -0.24102161445379197,
          2.524288141841367,
          1.822645487978486,
          2.3824054687967253,
          2.716071146567463,
          1.3400521098127411,
          2.0675085711905976,
          -1.3774147805614494,
          2.11690171280941,
          0.47253708128567856,
          1.700509033027919,
          1.0124138734776396,
          1.463848986140684,
          4.517415285770565,
          1.606239066466427,
          1.509098548391415,
          3.328173071321643,
          -0.7586867391814026,
          -1.9710893785207457,
          -2.6279453478185064,
          -1.0959217221133746,
          -1.7330340393361574,
          -1.550942156958273,
          -1.9153264230825657,
          3.286543067630068,
          -1.8853012598366472,
          4.031929446383434,
          1.0917032949632033,
          -2.0995891751226217,
          1.6077515138179548,
          -0.7338996331495029,
          -2.329923166852286,
          -1.6714994013804192,
          1.3227936929233697,
          3.2245788048711375,
          0.8493078136160135,
          -0.8991050041159989,
          -0.25963697831105603,
          2.4878459896885188,
          -1.005738107458144,
          3.7826527020996887,
          -1.9157679231230462,
          -2.0026233957398736,
          -1.66964482723312,
          0.35150546256900733,
          -2.4460483692044024,
          -1.761901935635351,
          -1.651777456767838,
          -1.6237547621234039,
          0.8957766323986612,
          -1.864228674327059,
          0.05337344824099921,
          -1.6425344618411393,
          1.3552239026426218,
          0.1462460887456518,
          5.858209721616867,
          3.7180312609607884,
          4.993793590175092,
          1.8999455539621672,
          -0.8127854597663099,
          -0.9882751706880328,
          0.6321516301100976,
          0.013416667960795515,
          -1.2772504087424366,
          0.575109529383852,
          1.8650579113698977,
          4.510568593122146,
          -0.08449905553375495,
          -0.2416463803129779,
          -1.9830682310610857,
          -1.8494850568377137,
          -2.5072492769425168,
          -0.3120875385222822,
          -0.19799516276388043,
          -1.9132406824951937,
          -0.4667570855707588,
          0.5301321114835889,
          2.805989237136696,
          0.6503978876248558,
          4.008015267389633,
          3.000746418246712,
          0.3032852502015839,
          0.7826398955578466,
          -1.4792219052824105,
          -1.3563827742336998,
          -0.966070926083058,
          -0.052599324175077636,
          -1.3776523091749255,
          -3.0725256635991194,
          -0.4751356317600314,
          -3.026756059954507,
          -0.8325111872744715,
          1.7747900310136315,
          -1.0280691588067068
         ],
         "xaxis": "x",
         "y": [
          -0.011146290126840376,
          4.498483040491577,
          -1.2584950530912307,
          -0.9316902391794336,
          -0.9998605575699306,
          1.4491987952161274,
          -0.15349105666352117,
          -1.0976948285917036,
          -1.2029511963611914,
          -1.672071018582589,
          0.6245816077119468,
          0.35427951833409604,
          0.6218862595041142,
          -0.7257260770647099,
          -1.7533744258913706,
          0.09456002264657437,
          -0.7607765416859081,
          0.09023324070522688,
          0.6354891072036857,
          0.9549247299482818,
          -0.8173396601849978,
          -1.2470979651002116,
          -1.0384504583107184,
          -1.8477530524363968,
          0.3664056587919294,
          -1.0939423326821656,
          -0.5130725914703972,
          0.19285191038163374,
          -0.4085058347890214,
          -0.4019127768691342,
          -0.539036086835645,
          -0.5093297116411084,
          -1.5551823065201944,
          -0.32752024826158116,
          -0.11881659332814426,
          0.6359085300784652,
          -0.5876810821821724,
          -1.6234813101233736,
          0.9261554472362543,
          -0.00258371463444595,
          0.9482384115361006,
          -0.4325272360306109,
          -1.0477234546789909,
          -0.5884127949167809,
          0.10962376719394623,
          -0.17631562638303325,
          -2.2313108525205188,
          0.3421759568804058,
          -0.13393724871445747,
          1.8282937839211082,
          -1.5586608599510356,
          0.39413770702294415,
          -0.16899555980659361,
          0.6402870848131587,
          0.7535261568595847,
          -1.0071979202008496,
          1.251381544732152,
          0.7283795254050467,
          -0.3155870920706928,
          -0.3743084277381316,
          0.6971582660739021,
          0.4907815022846522,
          -1.4496313293936147,
          1.4022237154782489,
          3.1825154078065756,
          -0.13343620635138392,
          0.7231412843907885,
          2.4356732324127663,
          -0.6624452959668002,
          0.882861064926846,
          -0.4539974243368569,
          1.2895652026945343,
          0.7021569500085958,
          -0.03212034941795162,
          0.15589311833334768,
          0.04483740558801448,
          0.7644853720457673,
          -1.8700830086717863,
          1.9424014130733982,
          -0.5355532328520151,
          -0.7101916522494003,
          0.6821340814378517,
          1.5096042889137284,
          1.0677125248492423,
          -0.20319345565050437,
          1.9000703759917077,
          -0.9569272319374206,
          1.7957948181498646,
          -0.5045512816835367,
          -3.0351142354928813,
          1.1858743295178054,
          0.8760206158908896,
          1.0658710831443394,
          0.8982598530428646,
          -0.10984688935740097,
          0.7719022721632358,
          1.1990816803218616,
          -0.052756160150404414,
          -1.8569894900465926,
          -0.32643552532892045,
          -1.6939481840668273,
          -0.1043879637646182,
          -0.14531043781235575,
          -0.49969689446459475,
          0.32606478883571577,
          0.5077876996619047,
          -0.05048147181217402,
          0.4746966598255518,
          -0.38797355248059673,
          0.9981145621078831,
          -0.0645886857741158,
          -0.16680607960514277,
          0.6183612930258786,
          0.3466789772890162,
          -0.8498816694047575,
          0.028285354530938642,
          -0.4309880876226691,
          0.9716433758065651,
          -1.0005494442087874,
          0.566529012538571,
          1.146581119526797,
          1.396474433756297,
          0.43319264302379307,
          0.0928686867080548,
          0.28271702966358075,
          -0.4675119546435429,
          0.30059066562798387,
          -0.25683121926391855,
          -0.7082299299146106,
          1.9653556872423188,
          0.5402660920588368,
          -0.4733052245128052,
          -0.4590570749385371,
          0.17712840735323726,
          1.322605743013245,
          -0.18364572119185552,
          0.5715418725763812,
          3.1825154078065756,
          -0.22520769265871596,
          3.3372777729058756,
          -1.178701656053359,
          3.3372777729058756,
          0.8919286352285122,
          -1.66212293410152,
          0.912651891687268,
          0.045442205047156334,
          0.15799090914535127,
          -0.38811167466529706,
          0.7693841067862268,
          0.3165200353751105,
          1.5899977353431267,
          -1.9047868000468362,
          -0.957085038930015,
          0.2230345128472571,
          2.105384987244772,
          -0.6995465461225111,
          0.7111076327776099,
          1.00924017141946,
          0.3238118826696455,
          -0.16319434873238028,
          1.0404375904923129,
          0.656479398965914,
          0.39517415148942014,
          1.2410104338213024,
          0.3769590932264066,
          2.4618886452370767,
          1.2357005578886235,
          0.2634743406935078,
          -0.31498030623084655,
          0.5105081730241814,
          1.1597876950391817,
          -0.15864705407279106,
          0.296058445991033,
          0.08484118937578695,
          -0.7467089182464844,
          2.211413217937468,
          0.08320541248182196,
          -1.0443441784920666,
          0.19123446817489476,
          0.6089226265344316,
          0.7789952619638899,
          0.9523723915944737,
          1.029639140542466,
          -0.36267015960538324,
          -0.9711390263760906,
          -2.6424864233452094,
          3.1033319622259343,
          0.2161930877317927,
          0.014957619740980496,
          3.9190384728573697,
          -0.5723148273970248,
          -0.9986452552999883,
          -0.9516486023188393,
          -0.6906988660514799,
          -1.1840841818426273,
          -1.3006189908905759,
          0.5947979963623171,
          0.08054162638613391,
          -1.8790387512323155,
          -0.33885212574193196,
          -1.6309491743985505,
          -1.0941715165686383,
          -2.4464617479279016,
          -1.14070599302664,
          -1.8453286786660479,
          0.6507379346285561,
          -0.47118087570082073,
          1.019732591308463,
          -0.27336515637365444,
          0.017367780195283698,
          0.7744178910726884,
          -1.1653490752846156,
          1.5829275370760405,
          -1.2845530401926462,
          -1.3462327707720667,
          -1.192458691217082,
          -2.3552209829195077,
          -1.6350920282524628,
          -0.7943134394819863,
          -1.5948015187911282,
          -1.0367744163767667,
          0.23834202586568884,
          -0.9150329918104095,
          -1.6791143643828903,
          -1.114008183778782,
          -0.4264153508845713,
          0.19720315170070032,
          -0.7675781583836282,
          -0.6634064026910876,
          0.018494863427136046,
          0.032393957429233206,
          0.5429849610833224,
          -0.5502293308844975,
          -2.587755947082537,
          0.07003755588592948,
          0.7387646468178277,
          0.8517448089595098,
          -1.0045392123559707,
          0.02274491893062068,
          1.1028840070236017,
          -0.9711482695074349,
          -0.5747759434969181,
          -0.7041665708533709,
          -1.2590290776964805,
          0.5110837248386938,
          -0.44739293027467175,
          -0.7770987572885039,
          -1.5128098061317314,
          -0.010119072281302245,
          -2.6565170442836443,
          -1.8578537653499505,
          0.02967834875154234,
          -0.4881176600840497,
          -0.46263501008077496,
          -0.632321319300211,
          0.8689648267049033,
          3.240477508030488,
          3.240477508030488,
          0.02389228731724715,
          0.6703963948146863,
          0.7996627431599495,
          0.5833737164149405,
          -0.11689578549234178,
          0.7123683209024143,
          1.5310948073312298,
          -1.6069800221607162,
          1.8559942570662085,
          0.044375399803954385,
          1.2105451052359455,
          -0.6133121765032407,
          1.0809283795559987,
          -0.2120533698888616,
          -1.1818910023338203,
          -0.7775444494726176,
          -0.62340882273839,
          0.5694778943370082,
          1.7175189370213604,
          -1.0189490622171686,
          -1.1180976339575928,
          0.5457794249420154,
          -1.2203204394225342,
          0.890689833142355,
          0.9608276029309006,
          -1.2672613034227687,
          1.6835784222939243,
          -0.7047166607825179,
          -0.6445389710374141,
          1.7118067203121339,
          2.0700335917909642,
          3.7740953500324244,
          -2.526402043882322,
          3.0277051545857105,
          0.7863022708009577,
          2.853662751981009,
          3.7740953500324244,
          2.05135705576308,
          1.4012277428553161,
          -0.9266969511957167,
          -0.6326476919953276,
          -1.1279563071617347,
          -1.1810383810275693,
          1.957537768774416,
          1.9979683623798499,
          0.06784792539787199,
          0.5362425827548235,
          -1.4777415250203854,
          -1.977790167123198,
          -1.1096645491064092,
          -0.789528295659512,
          -1.4068333771286456,
          -0.8359585182991184,
          -1.5475653090428962,
          -1.2046762480700821,
          -1.6143833336086204,
          -0.5314998546403867,
          0.1802771201047223,
          -0.7320794166920233,
          -0.035066869396597956,
          1.9807742361710285,
          0.4223294232920448,
          0.2836067607286724,
          -0.6255932639365399,
          0.7112353207108784,
          -1.1077101885611704,
          0.4882490801131047,
          -0.2279573044765787,
          0.19717824977674062,
          0.3150319980462648,
          -1.2672613034227687,
          1.1177165541627019,
          -0.4457172777483625,
          -0.8138693535483436,
          0.3178642790899799,
          -1.146466302455804,
          -0.17714161009328036,
          0.3484442111053168,
          2.4064049724463197,
          -0.00035252177764139546,
          1.8873203415832394,
          -1.3725204164548277,
          -1.265768837753668,
          -0.6949733179444157,
          1.8873203415832394,
          -0.8101213187323151,
          -2.918341516468277,
          -0.9151402576715274,
          -0.989486937361539,
          -0.29923272082723956,
          0.4760198718631214,
          -1.509449856271787,
          1.8873203415832394,
          1.1113603909961722,
          -0.3749760147515914,
          -1.2545771481814065,
          0.9048464943468949,
          0.1449198321361029,
          -1.0798413560153624,
          0.8958070512138041,
          2.060755763387268,
          1.3380694906666473,
          -0.7927850799345,
          0.7801239402947853,
          2.3890026316786557,
          0.010923878415342887,
          -2.7011628810914123,
          0.3071600666562833,
          0.4060177721073498,
          -1.7931461706698166,
          0.658252872669041,
          -1.5634644260717607,
          2.415054241488725,
          0.5843336029259829,
          -0.6038418556220879,
          2.2825376777124307,
          0.5348228328720827,
          0.4434997849539584,
          -0.6515118089357842,
          1.053350465893428,
          -0.05684593511018302,
          0.7667072369066965,
          1.992429924558504,
          1.6650019235103042,
          0.0989133857527146,
          -0.2103044597197816,
          1.4049591878689205,
          0.6572987131801536,
          -0.7572609888099833,
          -0.4289788550163678,
          -1.1663827255438712,
          -1.0375737857811465,
          0.31776025996952,
          1.1770272825990251,
          2.522013302298844,
          -0.3556569717547146,
          1.273915947111186,
          0.12552664107295944,
          -0.044436888535213506,
          -0.9598826795695853,
          -0.9994617694103644,
          -0.17192238560156936,
          2.0825047669647545,
          9.80861566527574,
          -1.9109995363880032,
          -1.5953448853504677,
          -0.20772046078352746,
          0.3837984365774661,
          -1.6622338726879435,
          -0.5449138158014981,
          0.3926042114015634,
          -1.0816366373679882,
          0.25331032353653904,
          -2.3938747210539546,
          -0.4715012759360965,
          -0.17561167281722825,
          0.7451440430086228,
          -1.6873495018785998,
          -0.20380451675243608,
          -0.6772495315786111,
          0.4515441159027924,
          -0.472748606466054,
          -2.612478894522987,
          -0.526326226618557,
          0.8079535533547766,
          0.11383168486562255,
          -0.8406691236039641,
          -0.07662975110137657,
          -0.5132639481080147,
          -0.5820581328286771,
          1.4966189151479734,
          0.2159129418191693,
          0.8749333087385118,
          -0.49583472433259784,
          1.2667969389178937,
          -0.6352214968617681,
          1.7116862484490984,
          -0.05981311705814007,
          -0.649772473616233,
          -0.6584021042342962,
          -0.11984531532774763,
          -0.649892721693872,
          1.6583247694069465,
          2.002139326406231,
          0.1046709494493267,
          0.1259307123953042,
          0.9211842808505284,
          1.1566985880876246,
          4.137971827721904,
          0.4510339910091254,
          0.7392753979079741,
          0.7802223761612843,
          -2.0010115300907687,
          -0.5462424385825626,
          1.2886913072683825,
          -0.4138934852797082,
          0.5142060333389605,
          -0.19834002790450006,
          -1.1325191168425917,
          1.088833514659238,
          -0.8852774981108753,
          -0.2595736667103287,
          -0.33655960124604084,
          -1.4383020605948744,
          -0.855368929785126,
          2.0374156634903358,
          -1.0849805099308263,
          -2.6249725104295423,
          -0.2911849371881088,
          -0.9406771827196821,
          -0.8619638727305432,
          -0.7446552433346783,
          -1.5806404300447283,
          -0.24540199652620837,
          0.166132347980952,
          0.2552234665149158,
          0.8974807722274404,
          0.6208671719375558,
          0.2805925306926596,
          -0.6340873085014085,
          1.0661851762831909,
          1.55039648712664,
          -0.7612398420860148,
          -0.06922749235527355,
          -2.1577156365998,
          2.187271309515392,
          -1.321554852062227,
          0.7356238326523709,
          0.7673642510824707,
          -0.06979929244776217,
          0.4886676650433191,
          0.2669812198875647,
          0.7328123563979578,
          0.5861214875061428,
          -0.9953858151396177,
          -0.17759522520564058,
          -0.6764116893753352,
          -1.2989213224117382,
          0.8921496309187893,
          -2.267536479736286,
          -0.6406026434243614,
          0.08160718107044618,
          0.7976536903440729,
          -2.5319163057702383,
          -1.0799014176355535,
          -0.19615586969321178,
          1.1384170320766436,
          0.28707549080251205,
          0.4226851034531922,
          1.580405897300446,
          0.7663364597659549,
          -0.6146786963745614,
          -1.117519342186271,
          0.6785761172927803,
          -1.180636339439068,
          -1.2359788765089332,
          -0.3195532424962425,
          -0.37440710690790113,
          -1.8640708749147674,
          -1.7773287436540215,
          -1.9813608548146162,
          0.25707335983406904,
          -0.6155426574374925,
          0.24292559938267627,
          -1.161632422408504,
          1.8958622798558793,
          -0.3356606365168627,
          -1.0694624857178185,
          1.7513158520768182,
          -2.4367945237996866,
          -0.7722764505011073,
          -1.1810989500449758,
          1.9317052289038203,
          0.5716358610330134,
          -0.4666957497791046,
          0.7085487574433704,
          0.2816180026787525,
          0.390779689139949,
          1.866457264485949,
          1.257051539574466,
          -0.025989927797276255,
          0.08292369316000693,
          2.212558250703966,
          0.325061764560869,
          -1.1703087112108892,
          0.27426832099094717,
          0.7085487574433704,
          1.1437392895821443,
          1.375264594431321,
          -0.5836498678916372,
          0.19823214236745884,
          -1.614894781019969,
          1.0620864810567876,
          -0.9361637998069967,
          -0.02286677611899081,
          0.6613537913076022,
          0.3853063184308239,
          1.2299781646381958,
          -0.07782348751577103,
          -0.15923645755136226,
          0.46279131029195253,
          0.8672704536836481,
          1.5854835718191624,
          0.7367549070529643,
          0.7140682739125929,
          0.9688369678118346,
          0.25126802391534414,
          0.513203911765991,
          0.8372222203501722,
          -0.35736707481577407,
          0.7717816493276987,
          -0.6074502986416013,
          -0.269461179789519,
          -0.8556227790287751,
          -1.1068158657389342,
          0.18685711887944928,
          0.6816277954199114,
          0.9788842536594302,
          0.45208387285022106,
          -0.7983021441809096,
          -0.1338552566481265,
          -1.3796314186286869,
          -0.2107813864028434,
          -0.9811799170595026,
          -1.3319948163180702,
          -0.19328093980775293,
          -0.27708365578956357,
          -1.9783775271564608,
          -1.3738927533892695,
          -1.2024447361796213,
          -1.3080694576617176,
          1.7650475397544296,
          -1.1229156368814144,
          -2.730925832158351,
          -0.8706224842112538,
          -0.524317346908618,
          -1.1097479863616213,
          -1.230803983194946,
          1.1494624022273876,
          1.964197765747786,
          2.178529382318971,
          -2.813561060773157,
          -0.4446860762774564,
          -1.3634716348410416,
          -0.6220149462494259,
          1.0416800370699886,
          -0.3952177166580236,
          -0.194494695535844,
          -0.38526083549147394,
          -0.06318642030527014,
          -0.06793988912861072,
          0.047525272443750155,
          -1.2880149374051046,
          -0.4742245086831711,
          -1.3815311599721647,
          -1.4991282734577815,
          0.10597497457687788,
          1.2977230389711782,
          -1.4864565185645942,
          -0.04309271241806812,
          -2.33283117977008,
          0.9425352116267064,
          -0.9782852103707466,
          -0.8375933378434278,
          0.24182119457517456,
          -0.8490077081291288,
          0.06737530831032472,
          -1.1745357862551782,
          -0.6271315392818416,
          -0.5770669957486695,
          -1.3448712697469216,
          0.23196544102466607,
          0.8445197390903172,
          -0.40290098978720934,
          -0.0057362143611140205,
          0.44991433403587067,
          0.6750056141422697,
          0.28269214284247357,
          1.269607218037025,
          -0.4871801805221611,
          0.610810489623635,
          -0.49485873149141407,
          0.11817817238233944,
          0.7334875142917857,
          -0.5180917961506768,
          0.18106416040857973,
          0.7146230917208717,
          0.7428997971628247,
          0.5593656303835131,
          0.4849053310827787,
          -1.0171259983707737,
          0.38781049055470646,
          1.6226377843395503,
          -0.17809704794334788,
          -0.12476503646774122,
          -0.2961779604109362,
          -0.27379892263627575,
          -0.9268841480713031,
          -2.038010112230403,
          1.4506337137912262,
          -2.057908520167518,
          0.03302731056234269,
          -0.688735696252968,
          -0.5190815328898626,
          -0.7472663186110954,
          -0.8682390206907916,
          -0.23433916561783058,
          -1.405339282447923,
          -1.2981861098399983,
          -1.112746750628704,
          -0.9768526143068008,
          0.6741636247927301,
          -0.9814765781246787,
          1.0934127148953348,
          1.1383910108144188,
          0.06965396958827563,
          1.9959801067556338,
          0.9755122541602324,
          0.662384870019932,
          -0.8861233320777727,
          0.7021569500085958,
          0.7363870858767123,
          0.2330089649067154,
          0.15532837478584288,
          -0.7151335683911879,
          0.45346230447626434,
          0.5953873912830401,
          -0.12083862405770175,
          -0.7904677532104011,
          0.7442943549477071,
          -0.5173945461923829,
          -1.367181553739712,
          -2.164760686281036,
          2.406575770189153,
          -1.2491142295755042,
          -1.7138057454863653,
          -1.1199854719256783,
          1.601971055773224,
          -0.729805234506004,
          2.696272599035884,
          -0.35149643953172904,
          -1.7024709074298843,
          -2.6028083441033214,
          -0.001861857381041866,
          -1.6785787472575233,
          0.17100843015583728,
          -0.26644865112001026,
          0.07288441826828135,
          -0.5148061391081229,
          -3.6521473312229276,
          -1.5229955970088478,
          -0.36150444423669426,
          0.33209914601970764,
          0.0638612806129849,
          -0.06798773550581592,
          -0.06798773550581592,
          1.6600878927881162,
          -0.549923070913885,
          1.1657589760111933,
          -0.5731714708818129,
          -1.6661836834923485,
          -1.416562462785042,
          -1.4308328180936016,
          -1.194397175358903,
          -1.4274095208739355,
          -1.1511209970770362,
          -1.4869190971071609,
          -1.5228713473950595,
          -1.451638209153416,
          0.17590165038654743,
          -1.2007541057312008,
          -1.157451330411486,
          -0.8775905383634292,
          -0.5753777267466641,
          -2.047746694373264,
          -1.261201967711882,
          -1.6578915972040782,
          -0.973837787697971,
          -1.3021828325620186,
          2.03042865204103,
          0.7354293886633634,
          -1.4150905188259968,
          0.5545644883197924,
          0.49610856408442155,
          -1.4305639637987222,
          1.6075802808416424,
          -0.8012284798287408,
          0.6747351899313596,
          0.12194654885889661,
          -0.09902124256603877,
          -0.0692492588792319,
          0.6715536596689542,
          -1.1968649079150133,
          2.178529382318971,
          0.7120396547541883,
          1.071911729382899,
          1.147852074059686,
          0.6481283190597522,
          -0.5960966025054194,
          0.2210938757975806,
          1.9766866328626052,
          0.06676449711305055,
          0.9143713972798211,
          2.8467708265343026,
          0.14701877091225696,
          1.281646969809811,
          2.8467708265343026,
          -1.9407940206375178,
          0.0459402785604342,
          -2.1062436150146926,
          -0.7473077818496973,
          0.3813305370708733,
          1.1563480223931852,
          0.09832857235023611,
          1.3195450645550884,
          0.6838502211062896,
          0.9286327150239305,
          1.2197449477602829,
          1.18126188771389,
          -0.2462677983935688,
          1.0543507232367968,
          1.6346249482684596,
          1.1208526375187793,
          1.1665004006106952,
          0.35920488968032815,
          2.936844439574078,
          2.3594110153431482,
          1.5909270645632703,
          -0.21910571865285128,
          2.278056968755221,
          2.6215188359867763,
          1.5149446421866515,
          2.1521154668475475,
          0.3527371550411666,
          -1.5239595469806966,
          0.8283125934152239,
          1.4516358923430006,
          -0.07205021415422962,
          -1.1760735761202994,
          -3.1982178651250495,
          -0.8201818438122844,
          0.64860299196621,
          -1.8391905524002885,
          -0.2958332784407968,
          -0.08593625358313221,
          2.1616477161589365,
          -1.5566511731330366,
          -0.19148102107685783,
          -0.7299870431004484,
          -0.7726676252422132,
          -0.8789815373159134,
          2.596594940330125,
          -0.9684721849669092,
          -0.012415922773760414,
          2.7776317992507376,
          0.00814624004937475,
          -0.12915323542917984,
          0.6678652880289505,
          -1.5107021703796653,
          3.0731493555380642,
          -1.443861041606533,
          -0.5025097048772164,
          1.3242077355585693,
          0.5827095805282628,
          -2.1973568753736106,
          -0.1475387356974875,
          -0.4880953525546389,
          -1.3450083943612787,
          0.32685326130838727,
          0.8459249238174401,
          2.2524644820304114,
          3.3049931546089613,
          0.03839524739570291,
          0.9816545686601088,
          -1.746105375396725,
          -1.4139744288995433,
          0.1059867032273579,
          -1.1229631780375928,
          1.384410689220133,
          -0.1616719729889426,
          -2.2544696238792823,
          -0.6869253409334265,
          0.7902407593582284,
          -0.14973732308851115,
          2.0284456703648384,
          1.0809283795559987,
          0.2532824348560121,
          -0.13986980407637278,
          1.5193532518080115,
          -1.5507576235702512,
          -0.8088935101256475,
          0.1504467045846709,
          -0.04500234018913844,
          0.1872013257608085,
          1.2968594264079567,
          -0.46262401581710955,
          1.0988180711853732,
          -0.42462718617279205,
          -0.8185606053174718,
          1.1197926281004624,
          -0.6119842950529504,
          0.29474561896678986,
          1.455103871116189,
          -0.41001794748549963,
          0.5691942254362474,
          -2.5905991500480114,
          -0.1820295137480983,
          -0.8607013036745801,
          -2.296075607260324,
          1.3167076465878864,
          -0.2725169039811783,
          -0.5566738862995967,
          -0.7152170885868747,
          -0.7028362760612358,
          0.06303033231618382,
          -0.9902208730061529,
          0.019724106704527507,
          -1.560139230215971,
          1.2645522348952971,
          1.7383022229355853,
          -0.2495732285193373,
          -1.0702528843505674,
          -1.2844295150086933,
          -1.246435643307107,
          2.2993299862982304,
          1.1641245992756342,
          0.7015448503931586,
          -1.5291054878331283,
          1.2451125043197067,
          1.2631399169680328,
          2.2103714360060174,
          0.8690317957680914,
          1.7953295321678986,
          -0.22799795098331951,
          1.0354966936301384,
          1.7471850168622853,
          0.6393512413680958,
          2.7322746057581973,
          1.938569561698776,
          -1.479781136508334,
          2.6268932317139093,
          -0.9871339708869385,
          1.5030130287038004,
          1.0529794513877153,
          1.2377964378668673,
          1.396474433756297,
          -0.4050203930043905,
          -0.9982484808587192,
          -1.5468837439767404,
          3.1825154078065756,
          -1.5412634785360066,
          0.8001407315361057,
          1.626295835384952,
          -3.4389885917615954,
          0.5753938621894676,
          2.212216389479005,
          2.4836772733522983,
          0.5885938945441707,
          -4.121183392702422,
          -1.3940325838598744,
          0.754024021484422,
          -0.9321725445352341,
          3.028110069143343,
          2.288113163027968,
          -0.40786311925112895,
          1.1182369660441527,
          -1.3045923139922637,
          -1.011471505430447,
          1.4550998217037538,
          -0.1164031822367583,
          -2.416110659060028,
          -1.9796288927708316,
          0.16213361299953938,
          -0.46828752726257117,
          0.5913167294180823,
          -0.3108898220591185,
          -2.520090736976856,
          -0.09431542449179774,
          -0.13783072116580494,
          0.6444051988424155,
          -1.1620644660524404,
          -0.5610637779327758,
          0.231688890268574,
          -0.5581193468046417,
          0.21538909230151693,
          0.3865471295851903,
          0.9889416595795407,
          0.7515095953074518,
          -0.23329405373395873,
          -1.2297478871028982,
          0.8201643769410952,
          -0.15882043442039295,
          -0.7565388853115702,
          -2.112028615171623,
          1.8405369669807925,
          0.5764743024800876,
          -0.6914969477991739,
          -0.31577070586742306,
          -0.8810996699177817,
          0.802147079884858,
          0.1934799769570046,
          -0.42601966535244085,
          -0.5943416563048258,
          1.4291872876100444,
          -0.16409245911004797,
          0.8120993643015308,
          -1.5026498422538637,
          2.598779509754666,
          0.5293587436794359,
          0.7783608326259317,
          0.6238136690580915,
          -0.12191949193504725,
          0.26791616106380634,
          0.4237906487477507,
          1.0686408169382258,
          1.4026574288018097,
          1.3879816561431058,
          -0.21462188479536476,
          1.5320826718596172,
          -0.6503647631977215,
          1.3022033030346312,
          -1.339311640585974,
          0.09681015173227885,
          -1.3155880062177079,
          3.2836447682990055,
          2.7994210517958207,
          1.347080416482283,
          -0.18101845690861088,
          -0.1754369017855191,
          0.6064345226532604,
          2.7776317992507376,
          -1.8230617493286452,
          0.13057729102599555,
          1.2313845008695974,
          0.34660452160358696,
          -0.0983293899949624,
          -0.09436777659233155,
          -1.8418970721984296,
          0.5570265612360737,
          0.33874116018653544,
          1.0151455031556162,
          0.7643506416929167,
          0.08291424450270393,
          -0.10603512351487346,
          -0.049998715508895585,
          -0.8471965335774987,
          -0.7625426989529581,
          0.44949717893278307,
          1.11257411752532,
          0.6084618967296032,
          -1.2541278438638517,
          -0.631403512926126,
          1.2962849057650507,
          0.24621207217738117,
          0.053941403926320214,
          1.4956554144984164,
          1.7899910019342082,
          0.47066581613317937,
          0.5196573621206039,
          -0.09702344877198894,
          -1.6289827036759459,
          -0.14762103535583346,
          -1.0538483392871991,
          2.5754738973101503,
          0.326982700845209,
          -1.0584835530918606,
          0.2810292146864916,
          1.479534626380904,
          0.8726252657977501,
          0.019121467791140552,
          0.8287698711128326,
          1.1378368096175675,
          0.2635445790927008,
          2.270796542627964,
          1.3077206199092581,
          0.8185767880870011,
          0.665076854933502,
          1.7874380723812962,
          2.0664051307236813,
          -0.3463926836305354,
          -0.8577415633782177,
          -0.3466429693933356,
          -1.0922817043651127,
          -1.3118166173905992,
          0.8976326080505204,
          2.5385277673135596,
          -1.1870387717949165,
          2.786982618493664,
          0.2545143723187322,
          0.3893614766751962,
          -1.1071412055199428,
          1.610770507487828,
          -1.1739525088554144,
          -2.061682013256685,
          -2.80539459638711,
          -0.8831663371685468,
          -2.0633678994235916,
          -1.7987616717190233,
          -0.42073147532697647,
          -0.6148024213290789,
          2.2743934499220657,
          0.1859934865096042,
          -0.5898593904191544,
          -1.201819946596269,
          -0.11050871698377278,
          -0.5749320975573793,
          -0.6406026434243614,
          -1.3543005202399951,
          -1.5725660924038973,
          -0.6421207488010788,
          -1.7657936503406602,
          -1.4009596285162882,
          -0.51035333569416,
          0.3136669597306122,
          0.10148720546280461,
          -2.22776166114616,
          -2.166398930590739,
          0.9798370766144233,
          1.2933397156417623,
          -0.18737478514681327,
          0.3543719949788674,
          -0.494045741013905,
          0.40820241461265133,
          0.0754588972510788,
          -0.020097489442546513,
          -0.5232755081075606,
          -1.1151845701111445,
          -0.03524547218809147,
          -1.7256356053318551,
          2.5653555509713493,
          3.7855980781445644,
          -0.5196969124319142,
          2.022522949103079,
          -0.32733611209997554,
          0.9020944113643248,
          -0.9310219539819887,
          2.5653555509713493,
          -0.9971014093097091,
          -0.2976292993379714,
          0.32410340956387035,
          -0.39729658274353363,
          -0.2918528030421956,
          1.2589704060075462,
          -1.1152716845022286,
          -0.606832770998988,
          -0.019608718525092054,
          1.8576890270533708,
          -0.4460132004082266,
          -0.08888667464901719,
          1.2226267391788121,
          1.3180419447934801,
          2.834779660631984,
          -1.6881739103057367,
          0.8702582499121737,
          -0.6016329590871639,
          -1.6520216682288373,
          -0.6742172913753628,
          -0.16801077379186044,
          0.682936885686401,
          1.0166141420885182,
          -1.157351370083178,
          -0.99203117254255,
          -0.30940759541017143,
          0.2731435477189461,
          0.015838701558656708,
          0.7240235934694027,
          0.8707080592041272,
          0.21601977979558157,
          0.4183086601789242,
          -0.7748456390260197,
          1.670090775433562,
          0.21471234273482218,
          -1.173344783806556,
          1.0707460862605116,
          -0.5757347764161727,
          2.7914806372152086,
          0.807348422048243,
          -1.051185803333697,
          -1.1638906002201044,
          -0.9323783000383269,
          1.4338452229528635,
          1.5482517667523967,
          -0.8243053696849075,
          -0.21727761748933777,
          0.7408819707686031,
          0.776644487475565,
          1.2466074522256263,
          0.7996077501042848,
          0.7098984500909349,
          0.15738238233608837,
          0.8291981600164887,
          0.41152118484000916,
          0.18507012194700861,
          -1.0699889202336408,
          0.5477835991559181,
          1.066792667970106,
          -0.8775491680441388,
          -0.4112771774398258,
          0.09562702241928234,
          0.07627133581846085,
          -0.41211540420469134,
          1.2651376595429602,
          1.135051836093588,
          -0.06337771493284089,
          -0.4354620140625761,
          0.7196787549342624,
          -4.40257891252443,
          1.968720868368259,
          0.6555126013851439,
          -0.056040088055310806,
          0.36014843924403506,
          -0.3393310530515732,
          -0.05618864061895101,
          -0.7620360756541401,
          2.276584436476022,
          -0.1809785248737464,
          0.047410307066847374,
          0.997778186213903,
          -0.10368604875802663,
          0.08477651925558427,
          0.8612425944740116,
          0.7906107892066129,
          2.2221531688980276,
          0.9271137572827811,
          -0.9330765738277917,
          -0.8988029806520116,
          -2.313794695898888,
          -1.2620312997889194,
          1.5310948073312298,
          -0.46980024727535563,
          0.821528685207602,
          0.7262953082237086,
          0.34746088691821525,
          0.19331601407251817,
          1.4030209257013262,
          1.413647275085948,
          1.4846899884981566,
          -0.31071788634395897,
          -0.105122707230389,
          2.788588196063787,
          0.6942665279067916,
          -1.6221205168196702,
          -1.5358891258969727,
          -5.390230091324003,
          -0.05382714583808449,
          -0.2898665417593122,
          -1.2603822989769278,
          -0.7803224545641386,
          1.5051495770311558,
          0.5803112501175937,
          2.0866649366493744,
          -0.1816100174064434,
          -0.6501600677716771,
          2.8005081295505785,
          2.010684631814505,
          1.026192975704612,
          0.8826209995591427,
          1.401886188573255,
          -0.16219622891775742,
          0.25599546097227677,
          0.8691497060902607,
          -1.5011848488732065,
          -0.3200597277327561,
          -1.2944994042026112,
          -0.545617884014488,
          1.8888243208697062,
          -0.5729396178889075,
          -1.4908371626662955,
          -2.1898217107727174,
          -0.6979816378653634,
          -0.23905295474811572,
          2.4092943529985362,
          0.925767584987673,
          1.5566745603483778,
          -1.0069374967242781,
          1.0084966732206193,
          0.9323963957092476,
          -1.0527303276752809,
          -1.2373064742887574,
          -1.061956511129078,
          -0.5555449222733373,
          0.9788842536594302,
          1.0408259298766669,
          -2.842826397149734,
          0.5180488529611247,
          -1.6905110652741515,
          -0.32628851114170615,
          -2.1300316136128083,
          -1.1278168907275632,
          -1.2815634859617289,
          2.4684970360729,
          1.0838583358054026,
          -3.134978290334291,
          -1.6413306810627124,
          -0.45250278470661287,
          -1.9522743211029632,
          0.4836229107519161,
          -1.4563425687414164,
          -0.10987314385042041,
          0.6158576137099456,
          -0.5868950184257326,
          0.5769079407121156,
          0.9088328834540043,
          0.9740543609654432,
          1.4055402227803453,
          -0.45150411441299754,
          0.8918181728173346,
          0.8975360796648462,
          -0.6621999979037592,
          0.9635875557455991,
          -1.225200516924057,
          0.8707039875644649,
          0.8253771930222148,
          1.0561426926150983,
          -0.9405407931339511,
          -1.828782838684248,
          -1.3540124493050318,
          -1.6069800221607162,
          0.3460117677467215,
          -0.48224370036170455,
          -1.0797421576520239,
          2.049442378801724,
          -0.6863589864441045,
          -1.231205815556135,
          -0.4408077734631797,
          1.9103928827398984,
          0.032705837403535595,
          -0.20996796039133692,
          -0.6289580764774869,
          0.5105359440905747,
          -0.9591936739663651,
          -0.6258817633061405,
          0.06520142346467692,
          -1.7822998845983384,
          -0.840575561513405,
          -0.6824369774306046,
          -0.3050667357507059,
          -0.6683855409374178,
          -1.2952094103434524,
          4.826559931350414,
          -0.33603727332859495,
          0.5404265351754705,
          -0.12259444631687366,
          0.40405031095811234,
          -0.4306863303344544,
          -0.24231908854981496,
          -3.7463039154987774,
          0.3903540292108674,
          -0.35595835639308937,
          0.06001886261223087,
          -0.8933600247286184,
          -0.8933600247286184,
          -2.0865163953577026,
          -1.7010795872307352,
          0.2606769403007985,
          1.0922593933929898,
          1.2345506751356432,
          -0.4882407877851615,
          0.45241863132259585,
          -0.8399721363552312,
          -1.5610763688475253,
          -0.5750562636036337,
          -0.8381301731828625,
          -2.730925832158351,
          0.7874939756284233,
          0.49119509274400436,
          0.37744873752101205,
          -0.9967827441174497,
          1.2010413815187724,
          -1.6818591537753493,
          -1.4601155094272056,
          -1.4601155094272056,
          1.2010413815187724,
          1.0670428479198992,
          -0.4567946599848592,
          -1.2245378851001345,
          0.6475400473459283,
          1.7194337387580336,
          0.47215205017965184,
          0.13514671558855101,
          -0.28063377886379437,
          -0.3541260846265778,
          1.0318573930800443,
          1.7208456743530496,
          1.3009344093014181,
          0.47899759126323416,
          1.8697348981141606,
          -0.5914828614287014,
          -2.0590376645165525,
          0.2675743062137751,
          -0.9853266239471599,
          -0.46048160047545605,
          -0.5391510807840071,
          0.9443175429761765,
          -0.25995302986961843,
          -1.0649853089125974,
          -0.23905742054502832,
          -0.7345811253619373,
          -0.08720400421958079,
          -0.04894204937688912,
          -2.865759634712719,
          0.6414594616910201,
          0.6520037893508095,
          0.27478687873120305,
          -0.0878401370863133,
          0.6768356895737305,
          0.3592067485852682,
          -1.3101377947307782,
          -0.06956410118681562,
          0.21875627038952777,
          -0.10658644268280965,
          0.32576837086843835,
          -0.2924354141491244,
          0.6336547576565366,
          0.3133456930887094,
          -0.5032505939465268,
          0.5371220456325394,
          2.3743377142720044,
          0.27904299357174045,
          3.1922750681240406,
          0.08380126477325249,
          -0.34517502480052115,
          0.6167098993104868,
          -1.0792900548148563,
          0.1493614346866991,
          0.4447099327029943,
          -0.5114790901334081,
          2.178529382318971,
          0.4572206020731482,
          -0.2555612326053261,
          -0.8074208670098936,
          0.9472386308757956,
          -1.2426905814373919,
          -0.3364176185262595,
          1.073665137318418,
          1.1904782212570613,
          0.762368129241082,
          -0.6732696472195204,
          -0.6440393410699297,
          -0.4569795729109642,
          -0.9355214742832679,
          2.9929437226692377,
          2.726004010412562,
          0.5718932501658398,
          1.5889260213849836,
          -0.206473484984832,
          2.503834748957686,
          0.2961501475715511,
          1.0846189796399597,
          -2.202209531135032,
          -1.4404515406505782,
          -1.2821572583643752,
          -1.0392645050027691,
          -0.8359784282430499,
          -0.30479871560060107,
          2.0729705769748596,
          -1.8586859035534262,
          -1.2049475634533073,
          -0.5032153485091917,
          0.33624312056904093,
          2.5649619811228224,
          0.30175743185269577,
          -1.7667927291437744,
          0.8235435410088721,
          -0.22551329798239156,
          -2.730925832158351,
          -1.6613392304245733,
          -0.5014512201902239,
          -0.6092820716180177,
          0.8458223801724083,
          -1.9773985178392322,
          -1.053851972624269,
          1.860797620854681,
          -0.33956864941393444,
          -0.9174984834704704,
          -0.812575454736848,
          0.14301701527301403,
          -0.4362737933068568,
          -0.904499171551434,
          -0.27678921811505697,
          -0.24579307422651095,
          -0.824401194635501,
          0.9298124473763043,
          -0.5950664354754132,
          0.4412507041863264,
          0.8445197390903172,
          -0.46507013203248226,
          2.131933849812737,
          2.131933849812737,
          -0.3313983578893617,
          0.4415323021122098,
          0.07998978375631582,
          -0.39632114260764273,
          2.131933849812737,
          -0.8155413081291459,
          3.171873475784769,
          -0.5190281872867477,
          -0.04992336453818165,
          -0.571952780999041,
          1.4382986039502832,
          1.0900669684738824,
          1.7843626906751429,
          0.10095590734267645,
          -0.6444052078607307,
          -0.6061843984291272,
          0.5550883374467234,
          1.5481209530840498,
          -0.7817051706674039,
          -0.638848642377906,
          -0.17090223401107335,
          -0.32611218191329744,
          2.301222596672437,
          1.7357442769118465,
          0.04692563163928205,
          1.334490315292295,
          -0.31151254721625377,
          1.5407603460529946,
          1.508579927316921,
          0.8075604130275312,
          -0.44106858959039014,
          1.1461892091104084,
          1.0750781640158065,
          -0.02528769687673826,
          1.0359956773490926,
          0.7940371917879285,
          0.010298079972031087,
          -0.23136664446222135,
          -1.1263578380899035,
          0.3482735683073864,
          0.7188007759804157,
          -1.2006685866016773,
          -0.4887491938537948,
          1.051132944151734,
          0.7337050641208345,
          0.5801340207770146,
          1.746518548949684,
          1.5845399675574965,
          1.2293627570567134,
          -0.06943785397606625,
          1.314224599079931,
          0.3466877992177116,
          -0.3224727914058869,
          0.2900924021945538,
          1.2744631039301644,
          1.9501468899176138,
          1.2293627570567134,
          -2.374200815105653,
          0.8097924046763024,
          0.32574938288037786,
          -0.1136722977489471,
          0.5239443339764652,
          1.6637469576513098,
          1.7453471747826605,
          0.19832259823787016,
          1.7258681710226293,
          1.4745753880275598,
          1.6228113586987185,
          2.1264928384127186,
          0.30837059075439444,
          1.16420308806538,
          1.1415398106539267,
          -0.02528769687673826,
          -0.694278299541056,
          0.6062441505324682,
          0.8056575915427319,
          -0.9718696038331139,
          1.1846475025888175,
          0.222603931209873,
          -1.1380333885721865,
          -0.42294171070276954,
          -0.9603842841299497,
          -1.2655864882815993,
          -1.6743094682762147,
          -0.9592325696676607,
          -2.2082757823500097,
          -0.7614311127461251,
          -0.9283602915772459,
          -1.000387277803417,
          0.33305942804359734,
          -0.19978661479337184,
          -0.09779050727088667,
          -0.32732316638661985,
          0.3299914922454782,
          -0.17328787315154434,
          -0.2181039074702156,
          2.0778770647655023,
          0.025489112912356372,
          -0.9418507803283751,
          -0.48049402993067075,
          -0.4777960559294726,
          -0.5236326235491922,
          -0.916367184242462,
          -1.2884126387002164,
          0.7256755059981285,
          -0.5361754770471576,
          -0.20004831834695272,
          -1.5613522001109836,
          -0.6142121203837285,
          -1.194131190809025,
          -2.112375819129675,
          -0.747546210983973,
          -1.0862550094175318,
          0.6072921779752892,
          -0.3597777472887297,
          -1.582108505581862,
          -0.13876869479145842,
          -0.003982163539611234,
          -1.7721004542251835,
          -0.10800633824616061,
          -1.7184551482442936,
          -0.7220600773571383,
          -2.0084981311726864,
          3.7855980781445644,
          -0.6245323153977063,
          -0.1811411093788347,
          -0.022800292142004894,
          -0.15263025560776425,
          -0.18879500559028262,
          -2.3234479758534636,
          -1.6129585756299791,
          -1.9259738186536444,
          -1.4099877285403806,
          0.10661860207797262,
          -3.2055384867100893,
          0.532307265292735,
          1.8282937839211082,
          -0.6155007542491472,
          1.3122550950150003,
          0.6822192108782604,
          -1.0354897180880436,
          -0.45676528942886335,
          -0.8453131010072332,
          -1.9210975153315704,
          -0.6527180829080111,
          0.024262505451435174,
          -1.1247553043951906,
          0.40145569484541826,
          0.053466258378491484,
          -1.7065805207387745,
          -1.92357029218522,
          -0.6810658577223928,
          1.6164448236652136,
          0.0944169078011896,
          -0.5757347764161727,
          -5.324849710991144,
          -1.8070057827169603,
          -0.021224692335781902,
          -0.8179812815431754,
          -1.3805997531516423,
          -0.4252552251575282,
          -1.1523424561827982,
          -0.6194712237286756,
          0.2735411475255157,
          -1.2756162640421824,
          1.7770619659271694,
          -0.45488241736513535,
          -0.42176108068622664,
          -0.638431370514771,
          0.39834270537014815,
          -0.18775644327673544,
          1.6973069926470339,
          -1.5495981205691747,
          0.19379976247851807,
          0.48139350196031916,
          -0.2051231030281135,
          -1.0982469509351989,
          -1.5081390298152677,
          1.4235176038388062,
          0.8841847068181811,
          0.20932951138073658,
          -0.5197990686970071,
          -0.7780011535498242,
          -0.08477339014202857,
          0.714339398301584,
          0.1373683521468967,
          0.7007718477066589,
          -1.0091976515141259,
          -1.0020222624106285,
          -0.7434581785608999,
          -0.7805593020332101,
          -1.3122341658827246,
          1.0170344495471015,
          -0.30407331253456643,
          0.08946315030054336,
          -0.31230681270171773,
          -0.16456801441916113,
          -0.20494956985882962,
          -0.07991557811551497,
          -0.48004023356821096,
          1.0418746296709671,
          0.41832376286280015,
          -1.0277443701393945,
          -0.6611049658549465,
          -0.6489680497255792,
          -0.3852608354914741,
          0.17448410537177664,
          0.5248339009637604,
          -0.43529139936164873,
          1.1609463777718714,
          0.2589852009041751,
          -0.42691453943558355,
          -0.6464046362867754,
          0.42815031752521276,
          0.4327388460338232,
          -0.10281476747520317,
          1.7409198864727373,
          0.538972018481561,
          0.20213755898732785,
          0.7995084254451709,
          -2.2233358551456615,
          -0.29818416988592883,
          0.41034709323556,
          -1.183936702847158,
          -1.1071412055199428,
          -1.155973739361504,
          0.4471515763880717,
          0.7108677100843049,
          -0.4873342819660075,
          0.6078594827312316,
          0.14936260868723147,
          -0.5306247834551371,
          -1.4600986525329194,
          2.158879972144931,
          1.4175724059415626,
          2.3234746462337315,
          -0.726434092470406,
          0.5380051620704782,
          -1.5551401795197852,
          -0.2368190968048594,
          0.48309881468210897,
          -1.6654053221269067,
          -0.7714833608045416,
          0.4358784205841071,
          -0.9528768477392688,
          -1.6818591537753493,
          -1.185353298489264,
          0.03981564058480949,
          0.4276802732664089,
          -1.1439320101672588,
          0.48812003926868075,
          1.0666625856504615,
          0.011626124047277482,
          0.5060631780243166,
          1.4863001605179222,
          -1.2844967685177455,
          -0.37133890488071103,
          1.964001700166651,
          -0.16778180715887264,
          -0.6040355782456608,
          0.2917830774540978,
          -1.4741218575235382,
          -1.1120222115701321,
          0.3059623637210827,
          -0.4379365403909978,
          -0.5672204471636608,
          -1.489832811794986,
          -0.4367731715365494,
          -0.9923148417845812,
          -0.20902437743052532,
          -1.0654567706274025,
          0.7770097252992095,
          0.33401701714382787,
          0.5252445248516937,
          1.8155609678787485,
          0.5081082583965704,
          -1.7117626410225626,
          0.49594484497374375,
          1.7418772023653037,
          1.4017740558582323,
          0.28192218743011366,
          0.1353671250446778,
          0.07841349962985583,
          0.6245229490939087,
          -0.3594263708981448,
          1.7406762762745647,
          1.7810790132391279,
          1.6140113589621852,
          1.6826908295445573,
          1.2215784649122412,
          0.9220277790772237,
          1.76173952869635,
          1.5690767467252897,
          2.7233564576301728,
          -0.4776370803199377,
          2.123302287001612,
          -1.1063612328204973,
          0.10993501322157784,
          -1.6569223971159326,
          -0.7710263136821031,
          0.6354891072036857,
          -0.9350760961442328,
          -3.1540523613575204,
          -1.213793872987983,
          -0.8438981481839066,
          -0.912537509800452,
          0.23681176346469998,
          1.7845842030479495,
          1.9879280654500098,
          1.8873203415832394,
          1.3890820852305392,
          0.5250577760428037,
          -0.6949754865209055,
          -1.6187760969086653,
          -1.001906597455531,
          0.46327213127597927,
          -0.1628034037795062,
          0.9104905958323051,
          0.4298723392551112,
          -1.1802309291515334,
          -1.1011781151568218,
          -2.4095640228892563,
          -1.1367904663450663,
          -0.48103855836933573,
          -1.2429177650114969,
          0.6135342320569038,
          0.06955499887095122,
          0.8825057082452454,
          5.661064469750125,
          -0.16173252619485826,
          0.5077876996619047,
          0.40145569484541826,
          0.609926730635765,
          0.7221971732916738,
          -1.1482497042279,
          -0.30695042305714765,
          -0.7545499809956968,
          2.3277517381735153,
          0.24686911448379603,
          2.4368300251600568,
          0.343485208959828,
          0.5893342154021531,
          1.0175082866881127,
          0.6428230485845193,
          0.08601275154033293,
          1.321632533798586,
          1.7160008601508716,
          -0.5715956896217795,
          -0.8386394424269141,
          -0.3763273731967991,
          -0.0043249871001258934,
          0.8203433536037043,
          0.91616675108715,
          -0.14941271670467776,
          0.6042109943935756,
          1.0137097562146593,
          0.13603763028618515,
          0.5283163487891237,
          -0.7549928952607782,
          0.16600454255353303,
          0.9505098176612267,
          -0.121267437684022,
          -0.27660102442963996,
          0.28234405241928917,
          -0.6505340216336367,
          0.584214596728774,
          0.5598043266791858,
          -0.45918743614202256,
          1.1835659275212256,
          0.7476109366159922,
          0.09042435986383134,
          -1.1641913972188513,
          0.5884791515413861,
          -0.9406279038400529,
          0.185249429899978,
          0.19004799950629717,
          0.8947453894033387,
          1.5051506536341932,
          0.8918238940497766,
          2.9135456906314956,
          0.19535040548850774,
          -2.134704275267384,
          -1.096344142717051,
          -1.096344142717051,
          -0.17984935525889711,
          -0.8950542673028729,
          0.4247555799804454,
          0.5831053065264432,
          -1.0849805099308263,
          -2.842826397149734,
          -0.9306059402806285,
          -1.2361284238426455,
          -0.9994364223214944,
          -0.8532624380946272,
          -1.2052063378789586,
          -3.006413789118249,
          -0.7091852339985245,
          -1.0871716684012844,
          -0.5411080761057511,
          -2.061682013256685,
          -1.860614398221935,
          1.0730684436328795,
          -0.5750562636036337,
          -1.4422160971020879,
          0.18867895860108677,
          -1.3758920059641702,
          -0.5901899611195282,
          0.9140536000059488,
          -2.3552209829195077,
          -1.1982458217627998,
          -1.435492445988596,
          -2.28237240176311,
          -1.4495411317022102,
          -1.3961646106574364,
          -1.2322459853919863,
          -0.6873446047620457,
          -1.3331003309856104,
          -0.3457065151016555,
          -1.6510206389647268,
          -1.2550499258583405,
          -0.6079438902660641,
          -1.3761751048259672,
          -1.5947288333897762,
          -2.7568151461037513,
          -2.097517448153189,
          -1.7890453009986331,
          0.2693814055156135,
          0.6810389452681509,
          -1.4846548825159813,
          0.7411803149126475,
          1.923587843674429,
          -3.1653627866074654,
          4.826559931350414,
          -0.08741851902060667,
          -2.0674106916733903,
          -2.968734440754026,
          0.9064658020706784,
          0.7987656364710458,
          -0.557138245544946,
          -0.2985993159826255,
          -1.143049858764685,
          0.4817104725042961,
          0.2431661077492262,
          -1.2805711408949856,
          -0.5518033813859781,
          -1.1406132411762953,
          -0.62814514486873,
          -1.8650987670142032,
          -0.07153712703738073,
          -1.5947560608544444,
          1.4829391941010024,
          -0.030417443991500124,
          1.9025446924993952,
          -0.6947868184198253,
          0.14542983433201243,
          -0.7902420934319339,
          -0.4958217071530854,
          0.4233905789931002,
          0.7902407593582284,
          -0.32635118487361736,
          1.1445857085486626,
          0.8799311581112457,
          -0.9439438340615385,
          -0.4296076407966281,
          0.6670912404694642,
          2.293376654437114,
          -0.48544282290058743,
          -0.7261160220214975,
          0.6223149471238124,
          0.16143317928932321,
          0.7770097252992095,
          0.44940732397601985,
          0.2917261998932655,
          -2.855966032511476,
          -2.855966032511476,
          0.6559230533819516,
          1.4062937358818361,
          1.0147877716635718,
          -0.2578256762650232,
          2.1616477161589365,
          0.9725077360054112,
          0.5566877659983627,
          -0.12451622959310184,
          0.38684109384886567,
          -2.2742671474040606,
          -0.5032745309280615,
          0.46325743828392907,
          0.24131108774215948,
          0.43473066937475585,
          -0.4860819155388507,
          1.3493684929291598,
          0.5291162113167027,
          1.3688832383135687,
          -0.7445120828736239,
          -1.4873373485364938,
          -1.4723501299578932,
          -0.5094951483576838,
          -0.66263602779938,
          -1.0397485474220602,
          -0.514791397664519,
          0.6622361023624523,
          -0.1298494266082234,
          2.5095452655964987,
          0.03438825382887506,
          1.6820118145061878,
          -0.22151898410253973,
          -0.41545765369234694,
          1.8643364588341291,
          -0.6931916182715566,
          3.3892843225133165,
          1.6888125651475752,
          0.7724804102748075,
          -0.027114204062821827,
          -0.44158173588628813,
          0.8066569243264353,
          1.3009605925765562,
          0.8036905200841299,
          1.4551854278010665,
          -0.966841712081987,
          -1.6011254016144738,
          0.4239634544031921,
          0.9768693414114803,
          1.6643262992104506,
          0.6616282733623561,
          -0.07493749940943388,
          -0.05341915052323568,
          1.5817331684268583,
          0.2508037832268131,
          1.4150167553021724,
          0.946462461411537,
          1.7854208091586607,
          -1.8986513450642548,
          1.660281990069678,
          -1.2797034194713297,
          -1.2278698439781448,
          1.53820792511009,
          -0.9416686159264916,
          0.2595421804552317,
          1.0825135388044278,
          -0.4795650203233557,
          2.5234170447632343,
          0.5799128089869467,
          0.8994140052267777,
          -1.1652508706177394,
          3.5410661345301513,
          -0.6151603064563372,
          1.203779723677562,
          -0.1918949055853417,
          3.7740953500324244,
          1.4190247050954952,
          0.46052362278153885,
          0.1950646540055771,
          0.8894868952712818,
          3.4923409189643326,
          0.509530688919449,
          2.5580337274539575,
          2.94132960356337,
          2.958537628387941,
          0.6664854167602038,
          1.2751122185382011,
          1.085854990563476,
          -1.0223874893828693,
          -0.4896122311522334,
          -0.8883453305418885,
          -1.0527146426813931,
          -1.5979672130884655,
          2.420543579808559,
          -0.01840980869446398,
          1.3150039075834277,
          0.05034428153885757,
          1.2175238766675394,
          1.4513188974470865,
          -0.7764384500968176,
          1.498983150219844,
          -2.112028615171623,
          -0.8242950319505026,
          -0.7193176773642302,
          -0.5324102979469496,
          -0.7377570441587132,
          -1.7549264883420401,
          -1.1175832891565354,
          -0.8167610018597032,
          -1.424607664856223,
          1.9210094918522982,
          2.5107890898612353,
          -1.09838101492089,
          -0.3190782424130788,
          -0.7018982279762382,
          1.111843294972246,
          -0.43925124042932395,
          0.22403578221356174,
          0.6909457256744272,
          0.13117975779423097,
          0.17250022808780388,
          0.6909457256744272,
          0.8801445212944193,
          -0.17264943240538572,
          -0.9571843923901048,
          -0.34187442727366624,
          1.2354223195199199,
          -0.47727735997843346,
          0.6744175097128791,
          -0.4013353354818014,
          0.02450269516566829,
          1.0114888345052584,
          -0.8582289768525565,
          0.9394174796720542,
          0.41812138172327307,
          -0.8914675871467135,
          -1.5430309314244615,
          -1.0478864536138857,
          -0.5196969124319143,
          2.0933789127353655,
          0.04095302452669445,
          0.9543876770247649,
          -1.2613527108263525,
          -1.349769887503242,
          0.10155215220948781,
          1.139522497877639,
          -0.622492682443775,
          -0.2996109399796013,
          -0.038761203351085204,
          -0.33284134816921074,
          2.194871046268536,
          0.39266547523340684,
          -0.7082917138338323,
          0.2902319832740661,
          1.392268030544629,
          0.6626605141152936,
          0.669344679027495,
          3.8268321408784503,
          1.0358556804491104,
          1.8888243208697062,
          0.943067246158582,
          1.2597163972076546,
          -0.8635581785887441,
          -1.6236929721271725,
          -1.293950019808431,
          -1.6971954084151994,
          1.9663728384182058,
          0.5163649992285015,
          0.5004206553924495,
          0.1409209811682237,
          -1.3864965358510797,
          -0.025169305094829616,
          -1.1102871922238307,
          -0.7901974202446408,
          -0.8316780531167175,
          -0.6670526559898639,
          1.4554367646833988,
          0.9890710951795635,
          0.9287715899499603,
          -0.5819582864843318,
          3.1033319622259343,
          -1.2547084597372211,
          -0.5922012386467983,
          0.44359553061128637,
          -1.1720025427993512,
          0.13010784025672414,
          -0.8263097141400558,
          0.5077876996619047,
          0.9391439233166032,
          -0.836120236946264,
          -0.4171044591698186,
          0.7424716521704805,
          0.6133935006749388,
          -0.6458383516302325,
          -1.751020115721028,
          -0.31983833145671836,
          -1.459640795466039,
          0.32456410733229973,
          -0.4305756298043245,
          -1.1280657628897397,
          -0.46563576744897484,
          1.2702245745656187,
          -0.21965273572097477,
          -0.6328920510936785,
          -0.6988975412606958,
          0.7686819591582676,
          -0.8578855206836856,
          -0.6751035437408781,
          -0.4860554777818979,
          -0.6387093576147168,
          -2.3003554276697606,
          -1.40898696373995,
          0.5329524166170273,
          -0.5503229283988353,
          0.26496692510713715,
          0.16553005113670177,
          -1.7294067262714838,
          -1.5577347517846163,
          0.7672821803529766,
          1.200465886173405,
          1.4061401453545936,
          -2.350193203598047,
          -0.08627299783939865,
          0.8446557092574329,
          -0.6487851809748266,
          -1.7149594650926825,
          0.0013927407355512397,
          -0.6547324029555917,
          -0.6716498259605319,
          -0.23597623740894386,
          0.9064187971729892,
          0.8189954933017434,
          -3.9657535964109014,
          -0.11703497197782815,
          -2.2567515427796625,
          -0.09410452304932444,
          0.38125867172017797,
          2.6976463366123933,
          0.5131120537669305,
          0.9959213711304543,
          -1.2402689930457103,
          1.5628972442439988,
          -1.0607416100157336,
          -2.2567515427796625,
          -0.9567877399977984,
          -1.7290648744164627,
          0.20449305184851513,
          -1.423900417611845,
          0.2450571907275319,
          -0.25033575125748947,
          -0.056872802905975,
          -0.0614359183948074,
          0.7385669494015928,
          0.21719128364849952,
          0.7781800659952584,
          -0.656351362998912,
          0.6651735153459138,
          -0.8660248605849077,
          0.10023142404119101,
          0.43555699753972693,
          -0.2041627944480563,
          -0.2306611770102512,
          -0.8316304566337281,
          0.7676614983898059,
          -0.2407920173599859,
          -0.26152158860559815,
          -0.41122320695675907,
          -0.8988800994715395,
          0.3336941223407036,
          0.6860578631441834,
          -0.49512140506259267,
          -0.05956019009530034,
          0.12075812107373358,
          0.4444178437987869,
          -0.6616514069680512,
          -1.4117539522982117,
          0.27815757325230667,
          1.243929359758914,
          -0.23523107582541092,
          -1.2922767646910254,
          0.13248114283798118,
          -0.5926544520710961,
          3.1162867697322625,
          0.2378234107972371,
          -0.6096458997580998,
          -0.6930003232440013,
          -1.1323136221586476,
          2.198696819625902,
          1.1580810480104016,
          1.245779047423989,
          2.3900983846499217,
          0.24373481668966415,
          1.0924350472163011,
          0.29035429531492096,
          -0.22221128725046033,
          1.8975682273569123,
          0.021286560459712237,
          1.3744385074292977,
          0.015710810497530626,
          1.9290845928997908,
          0.19741899494320037,
          2.316189655961481,
          0.8430468316977244,
          0.7314162765751067,
          -0.7154802731599028,
          -2.200464925014328,
          0.7920409187021236,
          -0.5335446105803917,
          -0.6116306323663957,
          3.60318211277672,
          1.0162723217827372,
          2.5978306373195363,
          1.0108598689274593,
          1.0938512321728906,
          2.2513235929449373,
          1.5770042098068637,
          1.3467527027553343,
          4.185024132169867,
          2.0897495005941042,
          1.0383832443919552,
          2.350845883738034,
          1.2583716721302391,
          0.7401609265457796,
          2.1602288633856817,
          -1.7852850671989033,
          1.0456398874007047,
          0.02815417728787422,
          -0.9361637998069967,
          -0.522071823744878,
          3.513969831465885,
          1.1131804574029114,
          2.537556457175944,
          -0.29017001406721926,
          -0.5300761897294429,
          -0.25693064754724504,
          -0.3142662177413441,
          2.556676519754193,
          -0.03293520236964128,
          -0.19885795871475323,
          2.4016454281870843,
          1.0351778267918181,
          0.6444849876155517,
          0.028306074933143473,
          -2.1162902439844733,
          0.002363599937539327,
          0.11962982789440293,
          -2.347549242540531,
          -0.9201381858245027,
          -0.9743563680480019,
          0.685502885275577,
          1.1370901144624268,
          0.5578793427893983,
          0.2654487617243395,
          1.4026574288018097,
          -1.1982458217627998,
          -0.4598399809985904,
          0.004144946964959507,
          -0.12385926837783473,
          0.9074993270322164,
          2.9661176348304314,
          0.23373058553335077,
          -1.0639389150223253,
          -0.4622098125985696,
          -0.2980526711510957,
          -0.594315332648695,
          -1.6613392304245733,
          -0.36790667229535506,
          -1.0497134604561347,
          -1.3494016832394529,
          0.7991499058784397,
          -1.6325913148629299,
          1.6707445011481437,
          -0.9660544362186653,
          -0.6556564907066467,
          -2.0606593454143627,
          -0.9655688502559278,
          -0.6386814446471727,
          0.39223597708810404,
          -0.8850916940287188,
          -0.37443829851878946,
          -0.8776851115060563,
          1.0174448376284797,
          -1.5475653090428962,
          -0.3476754195333709,
          0.7476935362147721,
          -1.7158149473483115,
          -0.10726619418296365,
          1.1371005994234749,
          1.1252714892569784,
          -3.393722940762152,
          2.0080019600142647,
          0.3406402701807218,
          -1.9378358956816604,
          -1.6406240108949246,
          0.3611379628164936,
          -0.1184879455672429,
          -1.3859775972109285,
          -0.8010825313436051,
          -0.6575570841874506,
          -0.83943669751608,
          -0.5271531372802942,
          -0.611421277488056,
          1.5845151521137262,
          -0.464376053753591,
          -1.301883253295835,
          -1.151666825670537,
          -0.8751633821228635,
          -0.8847666158004641,
          -1.1693233863795713,
          1.7741759054637407,
          -0.0879762404941779,
          0.003121604499784033,
          -0.2194826927177561,
          -1.465568998881666,
          -1.546373016633717,
          0.40327617661500836,
          0.7755578306120944,
          -0.7059657906162875,
          0.5503898665299503,
          -1.1182317836598301,
          0.562403675169846,
          -1.454991112591585,
          -0.6621999979037592,
          -0.46814956413727704,
          -0.48704101382319775,
          0.33010939541902556,
          1.0408259298766669,
          1.4738730430602949,
          0.5156531889061444,
          -0.015715671755881178,
          0.6860578631441834,
          1.2872874286237384,
          -1.7328518095993406,
          0.6959769757292265,
          -0.007669339267968301,
          -0.026276856447329335,
          -2.3639641186732714,
          1.163149410811648,
          -1.9638694381659367,
          0.5622885515036883,
          -1.1870319739345843,
          -1.2154061426403053,
          -1.4566505898126134,
          -2.265914905684875,
          0.1794845077670345,
          0.09855330331148578,
          0.7424716521704805,
          -0.0821938135215975,
          -0.8236358611214679,
          -0.4835296956000904,
          -0.16310794825620242,
          -1.3903335627467286,
          -0.25239003901778334,
          0.48731616639509684,
          -0.4786048260815319,
          -0.3195944017333603,
          -0.4228383605114777,
          0.4615724899439192,
          1.3345949133414934,
          2.1353388542792664,
          -1.2603689420633675,
          0.6396464239450921,
          0.7174376136046063,
          2.345272967063734,
          1.3733289406188702,
          -0.5966630580451404,
          -0.8228496570941349,
          -2.416942245443599,
          0.9336350514741288,
          0.9336350514741288,
          0.23664873280864987,
          1.2386911146487656,
          -0.5418841654097438,
          0.8575279188846295,
          -0.7605992017394498,
          -0.23040106781687586,
          0.5411367955330891,
          1.3618413519709731,
          2.4571862199258576,
          -1.4898216303774794,
          -1.0689235689502836,
          -2.046513409718879,
          -0.9547823761436184,
          0.8758128302585241,
          -0.5020453808359139,
          -0.8450034896699761,
          -1.1505866051408808,
          -1.016271917275197,
          -0.6633142881216187,
          -1.6697928510711924,
          -1.3533738902887777,
          -0.9919352561058715,
          -1.0803934023175568,
          -0.6401416299877911,
          -1.3024094498395509,
          -1.5274633223822713,
          -1.8816369915962348,
          -0.6241541934765691,
          -1.1087513872616175,
          -1.0937437785451842,
          -0.576965556910763,
          1.3501165937602113,
          -0.683570777646196,
          -0.2133349589123078,
          -1.7208881667392955,
          0.6069933473401367,
          -0.9485578909088251,
          0.3406380049689803,
          -0.6728024875104733,
          0.009588568549988963,
          -0.33186820729642064,
          1.2099337331859197,
          -0.04351653889015266,
          0.47249730841774756,
          0.16670061782509685,
          -0.4598399809985904,
          0.8379678502770359,
          -1.866808391639633,
          0.39134901070350475,
          0.030032344428859416,
          0.3334601091239043,
          -0.4109946285590803,
          -0.7476281108276688,
          -0.5327999702766567,
          1.4165753877023461,
          -0.9778755269931425,
          0.5343302360287043,
          -1.102307666103705,
          -0.861099026349942,
          -0.7747711983975587,
          -0.14363907758537467,
          -0.9146586648127366,
          -0.9765413938527029,
          -1.7663661393860055,
          -1.1307289608189763,
          -0.7087335536763938,
          -0.5947383472184736,
          0.07306755370479465,
          -1.515879694964562,
          0.6613108686606747,
          1.1286274880828142,
          -2.0581977671876954,
          1.067705210326923,
          -0.3012459235234428,
          0.42578014988780455,
          -0.40263933571266514,
          0.2989675907068785,
          1.628563669796174,
          -0.6663501829263629,
          1.8664334683739892,
          2.420357930284378,
          -1.1092347492996695,
          0.32008414751743564,
          0.03169189012697891,
          1.1160776457145432,
          -0.43945652058233325,
          2.0898309796232097,
          -0.7570751399473826,
          -0.7746598120563282,
          -0.3865389189137333,
          0.25707335983406904,
          0.06329890129218634,
          0.33736198173459214,
          0.22643180698531232,
          -1.3546107260806555,
          0.8002025039600897,
          -0.8889081107644075,
          -0.7286812887095739,
          1.307869486534647,
          -0.611430259190773,
          0.546666760070322,
          1.823484071908326,
          2.2518211503014918,
          1.5327451810884467,
          1.6920378828976872,
          0.702292143188859,
          1.9109285289174844,
          0.2804484614653235,
          -1.0498417887903462,
          3.60318211277672,
          -0.5242582112536078,
          0.7861182653546184,
          2.0403271912218015,
          0.168930161323762,
          -0.08526345403740836,
          -0.011024140739630464,
          -0.791675538642383,
          -1.2147270836405055,
          0.7724463413233444,
          -0.3037457413035925,
          -2.333542719980749,
          -0.3562168495073644,
          0.12430303586946613,
          -1.1706210899866953,
          -2.360627446467735,
          -1.6367819175495613,
          -0.5023576395671451,
          -2.730925832158351,
          -1.242344612795521,
          -0.8386470327706333,
          -1.0079198521398582,
          -0.22761893527392418,
          -0.42160553228633396,
          -0.9631389674046079,
          2.4898319782499594,
          0.7343740197596811,
          2.1153640634076156,
          0.13724873880508268,
          1.0125213152896368,
          -0.37005291574945315,
          -1.7815300896312853,
          -1.188730482761494,
          -0.2404274433168924,
          -0.6167239342012047,
          -0.9734476761826609,
          -0.5688906477444734,
          -0.4861672206217958,
          1.0076600514519922,
          -0.30150576336683227,
          0.1289729471511759,
          2.5309300185056163,
          0.9337858603263645,
          0.841809151050022,
          -0.9333434321358246,
          -0.19397496311706466,
          -0.5671126380023003,
          1.5106561492724915,
          0.1807485566750763,
          -1.0463627822229706,
          -0.7333067303892994,
          -1.0246191375816276,
          0.8689648267049032,
          2.413138762792474,
          -1.0475814842246283,
          0.9736919192976593,
          1.7212392934745582,
          -1.342900371291422,
          -0.5792383396463363,
          1.3474157429635756,
          1.2378265189856132,
          -0.6277344905438629,
          -0.46693744531297743,
          -0.6195438014522854,
          1.4249282490014072,
          0.9643381077505915,
          0.11165727459268102,
          0.9643381077505915,
          -0.12094841593244857,
          -0.43451549773971826,
          -0.8717228134320297,
          0.15079746470859492,
          0.2779790895369178,
          1.1894891272965906,
          0.13692337593368997,
          2.2951298743783073,
          -1.2426905814373919,
          -0.3485694162350351,
          0.30276431226280975,
          -0.9565041870588181,
          -0.03455778115238488,
          -0.23528215500303304,
          -0.2877116065230725,
          0.33490144838208835,
          -0.5519801147930533,
          -1.6671675160620294,
          0.3483655714328107,
          -0.6829322826912638,
          0.1027995161211972,
          -1.9959511402427053,
          0.26851184677195244,
          1.9946169248668189,
          1.8483060822592685,
          1.0554925588676232,
          0.21879040449048065,
          -0.13570197581660673,
          0.9851968861900027,
          1.0680519747125785,
          -0.9423944222871227,
          -1.3267365895545908,
          0.23792831775974063,
          1.0906730354380896,
          0.8260360840052858,
          -0.11461723951061548,
          1.840407711419561,
          1.0823540919940666,
          -0.8687738626484457,
          -0.5914828614287014,
          -0.8089063660175041,
          0.6170449549147391,
          -0.03580072293818545,
          1.5913428281037103,
          1.3560670015995662,
          -1.6287481707392584,
          -1.2933490428322174,
          -0.6763485851962386,
          1.183010669300967,
          0.6030493268732672,
          0.38239048371577344,
          3.0241485166452957,
          1.432044500492884,
          0.34228297341501845,
          -1.4187000715910478,
          1.6814999864821372,
          2.7994210517958207,
          -0.045492387639226584,
          0.46574141694873716,
          1.419823945602939,
          0.5888953615807233,
          1.0444386933204324,
          0.596443490531501,
          0.08844995393029649,
          -0.045492387639226584,
          0.8977977758332175,
          -0.16885058170458242,
          0.5983088128366463,
          0.6667441748139558,
          0.11485247399155965,
          -2.5769252053016802,
          0.2390964075580616,
          2.248756190662395,
          2.5387340249432415,
          -0.05632591154783243,
          0.596443490531501,
          1.978302081168273,
          1.3560670015995662,
          2.916068975918374,
          -0.6225797561996679,
          0.25594206718460194,
          -0.2907244207600365,
          0.3757386950204444,
          1.5556309456722157,
          0.45063092760922446,
          0.7757854374142277,
          0.0743194198726375,
          -1.3080925230982394,
          -1.3524345982935684,
          0.2936091768199988,
          3.309915508156943,
          -0.5551636406866748,
          0.5675987166081063,
          2.6461398776378875,
          0.033997998330896936,
          0.6786040056615522,
          0.1492336042384115,
          -0.4559136008402439,
          2.946557942362355,
          1.9486015356312532,
          0.6937156146030229,
          -0.6479161411275283,
          -0.16832643560406696,
          0.9206331889506482,
          -0.4507613510772792,
          -1.623854810793239,
          -1.7149594650926827,
          0.8246937348674296,
          -0.6046810983191553,
          0.9951455987502005,
          -0.4943961431689755,
          -0.19789301436615306,
          -0.1776336120395287,
          -0.08113594162833299,
          -3.5919281845082507,
          0.01519289863717622,
          0.41832376286280015,
          -1.3430396251065186,
          -1.1533387805480804,
          -1.5144988077562553,
          -1.5909581557697048,
          -2.3456999619452152,
          0.5187929455099849,
          -2.0068878431165347,
          -1.5610744785887436,
          0.4027243215517701,
          0.38857174117138105,
          2.4711907619370566,
          -0.21414035832917885,
          3.0020429581390773,
          2.4311389903409233,
          2.882281167231519,
          0.9642980521378548,
          0.007995287376183975,
          -1.4448575644382018,
          -0.21558652585747518,
          -1.049433743287382,
          -0.16881431329935462,
          -0.7392065333258839,
          2.1790993577352356,
          -1.082026356732057,
          -0.5618613817516004,
          0.05919103367562501,
          -1.0420534653157878,
          0.12324047273321363,
          -0.06624184533439138,
          -1.563289476917086,
          -0.20455517338152995,
          -0.2825690317516725,
          -1.7373472894249384,
          -1.0465870893288518,
          0.5718932501658398,
          0.03184445897223519,
          -0.012659131268622007,
          1.0406554362647782,
          2.080718977326505,
          -2.2215790057934988,
          -1.2942306228088343,
          -0.9232671973085141,
          1.6648500226504817,
          -2.251716443317533,
          2.227919979383772,
          -1.4934305722339811,
          0.06759763053873778,
          -0.4220085249074836,
          -1.622499456596271,
          -0.856849842162741,
          -1.7156119083516954,
          -0.4018140005258502,
          -1.9183111465675222,
          -1.028417666115483,
          0.5662509076481934,
          -1.9360921290485045,
          -1.366197026777161,
          -0.47905326674772036,
          1.5323961175618481,
          0.6372584903149981,
          1.3733798976383895,
          -0.5126351469976389,
          -0.47065776417615146,
          0.0005851604650588414,
          0.8136001906911918,
          0.38997026358277453,
          -0.39546104811196664,
          -1.5825523645928778,
          -0.9178690058179498,
          -0.3820309089909227,
          0.1570831701082977,
          -0.9806604314366211,
          1.257391239773401,
          0.5631582113333855,
          1.111455666842314,
          0.19309430754007878,
          -3.0573576367230775,
          -2.7964050900954343,
          0.4441931981329875,
          -0.5425621727635118,
          -0.820158306284963,
          0.3751431940363818,
          -1.022378084094237,
          -0.607071287647227,
          -0.9624492068779537,
          -2.023747135601465,
          -0.08741851902060667,
          -0.2046286417953897,
          -0.0891092600714137,
          -2.059162839252312,
          -1.1745357862551782,
          -0.6346088648189906,
          -0.5491745735455904,
          0.5095716897531204,
          0.8065406104992424,
          0.7411803149126475,
          -0.8558821629061234,
          -0.3657681542279284,
          -0.5309994855824139,
          -0.5213994519208935,
          -0.8095689157079913,
          1.126582546311053,
          -0.20982947444075215,
          -1.132394606692687,
          0.22119401719295204,
          -1.1950493627964522,
          1.4025390812695353,
          -0.5757347764161727,
          -0.726486910637438,
          -0.7415878471844156,
          0.06951336384573212,
          -0.2044656586852106,
          -0.01879031406313649,
          0.0313928907117907,
          0.3506700562360746,
          -1.1128956328696027,
          1.8195868927959205,
          1.8713013951568769,
          1.9181525956534902,
          -1.7186688480437644,
          0.8757893106119151,
          0.17563027053701227,
          -0.6929183840508905,
          -0.28726002097626147,
          0.20809406613316864,
          1.7764954026041304,
          -0.40857318509327284,
          0.029405535122962175,
          0.30289029594966554,
          0.9923583707665762,
          0.43377995483685805,
          -1.3564329550862622,
          0.5863758368736348,
          2.923932736424929,
          1.0230580147774813,
          0.8397768146241366,
          2.5716091789550544,
          -0.39274683629951385,
          0.31036458933882366,
          1.2122221199360639,
          -0.9105271986614446,
          -0.4231354934946333,
          -1.5022933704705297,
          -0.3958114038540027,
          0.11057980583580478,
          -1.1364627595215044,
          0.9890710951795635,
          1.6893322614019697,
          0.9299479085907907,
          -0.452596877613777,
          -0.7448746955627215,
          1.857421981839316,
          0.3162113284328065,
          -3.5919281845082507,
          -2.771569951986064,
          -1.0936649608603812,
          -0.8987367758535363,
          -0.7144851932041125,
          0.08471793830475266,
          3.402325258536723,
          0.591537639381141,
          0.19594602619168242,
          0.0359650849812177,
          -0.7572787491134714,
          0.4800421604906768,
          0.5277834265150196,
          -0.07029951988053612,
          -2.6459203144839556,
          -1.3983743516341527,
          -1.7875077633778864,
          0.8485646204971735,
          1.2059329792106608,
          -1.7241610708089108,
          -0.4721562361789334,
          -0.8206980878304476,
          -0.9083842640904389,
          -0.7454847813329039,
          -0.7426614340923864,
          -0.5761116798393053,
          1.2630604906993101,
          -0.9648409921390894,
          0.1936862231343989,
          0.9996039142658475,
          1.157524642237804,
          -1.0936649608603812,
          -1.0936649608603812,
          3.0241485166452957,
          1.5817331684268576,
          1.64525827617145,
          -2.4045788380748387,
          -2.4574249906447063,
          -0.5475715725911338,
          -1.3098373709567728,
          -2.0126521925813545,
          -2.4620510303808385,
          0.48391822240133137,
          -1.4091483830778582,
          -1.5557878439244317,
          -1.7104659017896529,
          -0.14939377576965032,
          -2.0027033980752793,
          -2.220458417816704,
          -0.911956442772372,
          -2.2209031233141725,
          -1.7536558307851036,
          -1.3764437205042677,
          -2.5396808993309907,
          -1.9288195091233937,
          0.4586528028759582,
          -0.7370750659682052,
          -1.4238717798777547,
          0.313137850157231,
          0.03164626132905495,
          -0.9437787672941992,
          0.4220331476734217,
          -0.19189119093840812,
          -0.5211679048184895,
          1.8836076923570362,
          1.254625917650511,
          -1.7980071100359758,
          1.6046581333958072,
          0.5308244007763739,
          -1.4677050692393334,
          -0.07553356999426537,
          -0.9371300061780333,
          0.974412936141929,
          1.080832786073426,
          -1.3498838940521118,
          -2.638297609738085,
          1.107574181094693,
          -1.1968544636420644,
          -0.04985157001773323,
          -1.336858623691952,
          3.3802062358742075,
          -0.9362765548657928,
          -0.8512302225203621,
          0.8312994793303616,
          1.147415931777522,
          0.8692814620397294,
          -0.0637315039881943,
          -0.45242591189056475,
          -1.048789567781987,
          -0.9786629053950864,
          -1.1203219593181064,
          -0.6009018213810898,
          0.41862414869311465,
          -0.3053760309640846,
          0.18024535423151103,
          -0.08741851902060667,
          -2.1446915046004658,
          0.861442034614347,
          0.13071407897492138,
          -0.2277504589672803,
          1.1093919174553244,
          0.5061696894655043,
          2.511450929046461,
          -0.3562583850385011,
          0.2639556727669233,
          0.271615262619146,
          -0.3396231129337285,
          0.8138121170061795,
          1.6452114399898876,
          1.2386818562700972,
          0.8050649466533367,
          0.5777097466141746,
          -0.7454513238920442,
          0.7691464789300275,
          -0.23009953334280125,
          -1.1625225503153753,
          1.0967477999867,
          -0.7762878624655963,
          -0.5844671710446081,
          -0.6061979063641793,
          -1.4869471807666146,
          1.7503448743454781,
          -0.6151603064563372,
          -1.6531344263407708,
          0.7427151707507353,
          -0.7054157806980517,
          -0.03251912330296444,
          -2.3414449224888574,
          1.84084797693717,
          0.41506437622651604,
          -0.5229064046857304,
          -0.017125860721714882,
          -1.304982846245651,
          -1.0897255704646918,
          -3.6952327527777507,
          -1.390708546476347
         ],
         "yaxis": "y"
        }
       ],
       "layout": {
        "coloraxis": {
         "colorbar": {
          "title": {
           "text": "cluster_pca"
          }
         },
         "colorscale": [
          [
           0,
           "#0d0887"
          ],
          [
           0.1111111111111111,
           "#46039f"
          ],
          [
           0.2222222222222222,
           "#7201a8"
          ],
          [
           0.3333333333333333,
           "#9c179e"
          ],
          [
           0.4444444444444444,
           "#bd3786"
          ],
          [
           0.5555555555555556,
           "#d8576b"
          ],
          [
           0.6666666666666666,
           "#ed7953"
          ],
          [
           0.7777777777777778,
           "#fb9f3a"
          ],
          [
           0.8888888888888888,
           "#fdca26"
          ],
          [
           1,
           "#f0f921"
          ]
         ]
        },
        "legend": {
         "tracegroupgap": 0
        },
        "margin": {
         "t": 60
        },
        "template": {
         "data": {
          "bar": [
           {
            "error_x": {
             "color": "#2a3f5f"
            },
            "error_y": {
             "color": "#2a3f5f"
            },
            "marker": {
             "line": {
              "color": "#E5ECF6",
              "width": 0.5
             },
             "pattern": {
              "fillmode": "overlay",
              "size": 10,
              "solidity": 0.2
             }
            },
            "type": "bar"
           }
          ],
          "barpolar": [
           {
            "marker": {
             "line": {
              "color": "#E5ECF6",
              "width": 0.5
             },
             "pattern": {
              "fillmode": "overlay",
              "size": 10,
              "solidity": 0.2
             }
            },
            "type": "barpolar"
           }
          ],
          "carpet": [
           {
            "aaxis": {
             "endlinecolor": "#2a3f5f",
             "gridcolor": "white",
             "linecolor": "white",
             "minorgridcolor": "white",
             "startlinecolor": "#2a3f5f"
            },
            "baxis": {
             "endlinecolor": "#2a3f5f",
             "gridcolor": "white",
             "linecolor": "white",
             "minorgridcolor": "white",
             "startlinecolor": "#2a3f5f"
            },
            "type": "carpet"
           }
          ],
          "choropleth": [
           {
            "colorbar": {
             "outlinewidth": 0,
             "ticks": ""
            },
            "type": "choropleth"
           }
          ],
          "contour": [
           {
            "colorbar": {
             "outlinewidth": 0,
             "ticks": ""
            },
            "colorscale": [
             [
              0,
              "#0d0887"
             ],
             [
              0.1111111111111111,
              "#46039f"
             ],
             [
              0.2222222222222222,
              "#7201a8"
             ],
             [
              0.3333333333333333,
              "#9c179e"
             ],
             [
              0.4444444444444444,
              "#bd3786"
             ],
             [
              0.5555555555555556,
              "#d8576b"
             ],
             [
              0.6666666666666666,
              "#ed7953"
             ],
             [
              0.7777777777777778,
              "#fb9f3a"
             ],
             [
              0.8888888888888888,
              "#fdca26"
             ],
             [
              1,
              "#f0f921"
             ]
            ],
            "type": "contour"
           }
          ],
          "contourcarpet": [
           {
            "colorbar": {
             "outlinewidth": 0,
             "ticks": ""
            },
            "type": "contourcarpet"
           }
          ],
          "heatmap": [
           {
            "colorbar": {
             "outlinewidth": 0,
             "ticks": ""
            },
            "colorscale": [
             [
              0,
              "#0d0887"
             ],
             [
              0.1111111111111111,
              "#46039f"
             ],
             [
              0.2222222222222222,
              "#7201a8"
             ],
             [
              0.3333333333333333,
              "#9c179e"
             ],
             [
              0.4444444444444444,
              "#bd3786"
             ],
             [
              0.5555555555555556,
              "#d8576b"
             ],
             [
              0.6666666666666666,
              "#ed7953"
             ],
             [
              0.7777777777777778,
              "#fb9f3a"
             ],
             [
              0.8888888888888888,
              "#fdca26"
             ],
             [
              1,
              "#f0f921"
             ]
            ],
            "type": "heatmap"
           }
          ],
          "heatmapgl": [
           {
            "colorbar": {
             "outlinewidth": 0,
             "ticks": ""
            },
            "colorscale": [
             [
              0,
              "#0d0887"
             ],
             [
              0.1111111111111111,
              "#46039f"
             ],
             [
              0.2222222222222222,
              "#7201a8"
             ],
             [
              0.3333333333333333,
              "#9c179e"
             ],
             [
              0.4444444444444444,
              "#bd3786"
             ],
             [
              0.5555555555555556,
              "#d8576b"
             ],
             [
              0.6666666666666666,
              "#ed7953"
             ],
             [
              0.7777777777777778,
              "#fb9f3a"
             ],
             [
              0.8888888888888888,
              "#fdca26"
             ],
             [
              1,
              "#f0f921"
             ]
            ],
            "type": "heatmapgl"
           }
          ],
          "histogram": [
           {
            "marker": {
             "pattern": {
              "fillmode": "overlay",
              "size": 10,
              "solidity": 0.2
             }
            },
            "type": "histogram"
           }
          ],
          "histogram2d": [
           {
            "colorbar": {
             "outlinewidth": 0,
             "ticks": ""
            },
            "colorscale": [
             [
              0,
              "#0d0887"
             ],
             [
              0.1111111111111111,
              "#46039f"
             ],
             [
              0.2222222222222222,
              "#7201a8"
             ],
             [
              0.3333333333333333,
              "#9c179e"
             ],
             [
              0.4444444444444444,
              "#bd3786"
             ],
             [
              0.5555555555555556,
              "#d8576b"
             ],
             [
              0.6666666666666666,
              "#ed7953"
             ],
             [
              0.7777777777777778,
              "#fb9f3a"
             ],
             [
              0.8888888888888888,
              "#fdca26"
             ],
             [
              1,
              "#f0f921"
             ]
            ],
            "type": "histogram2d"
           }
          ],
          "histogram2dcontour": [
           {
            "colorbar": {
             "outlinewidth": 0,
             "ticks": ""
            },
            "colorscale": [
             [
              0,
              "#0d0887"
             ],
             [
              0.1111111111111111,
              "#46039f"
             ],
             [
              0.2222222222222222,
              "#7201a8"
             ],
             [
              0.3333333333333333,
              "#9c179e"
             ],
             [
              0.4444444444444444,
              "#bd3786"
             ],
             [
              0.5555555555555556,
              "#d8576b"
             ],
             [
              0.6666666666666666,
              "#ed7953"
             ],
             [
              0.7777777777777778,
              "#fb9f3a"
             ],
             [
              0.8888888888888888,
              "#fdca26"
             ],
             [
              1,
              "#f0f921"
             ]
            ],
            "type": "histogram2dcontour"
           }
          ],
          "mesh3d": [
           {
            "colorbar": {
             "outlinewidth": 0,
             "ticks": ""
            },
            "type": "mesh3d"
           }
          ],
          "parcoords": [
           {
            "line": {
             "colorbar": {
              "outlinewidth": 0,
              "ticks": ""
             }
            },
            "type": "parcoords"
           }
          ],
          "pie": [
           {
            "automargin": true,
            "type": "pie"
           }
          ],
          "scatter": [
           {
            "fillpattern": {
             "fillmode": "overlay",
             "size": 10,
             "solidity": 0.2
            },
            "type": "scatter"
           }
          ],
          "scatter3d": [
           {
            "line": {
             "colorbar": {
              "outlinewidth": 0,
              "ticks": ""
             }
            },
            "marker": {
             "colorbar": {
              "outlinewidth": 0,
              "ticks": ""
             }
            },
            "type": "scatter3d"
           }
          ],
          "scattercarpet": [
           {
            "marker": {
             "colorbar": {
              "outlinewidth": 0,
              "ticks": ""
             }
            },
            "type": "scattercarpet"
           }
          ],
          "scattergeo": [
           {
            "marker": {
             "colorbar": {
              "outlinewidth": 0,
              "ticks": ""
             }
            },
            "type": "scattergeo"
           }
          ],
          "scattergl": [
           {
            "marker": {
             "colorbar": {
              "outlinewidth": 0,
              "ticks": ""
             }
            },
            "type": "scattergl"
           }
          ],
          "scattermapbox": [
           {
            "marker": {
             "colorbar": {
              "outlinewidth": 0,
              "ticks": ""
             }
            },
            "type": "scattermapbox"
           }
          ],
          "scatterpolar": [
           {
            "marker": {
             "colorbar": {
              "outlinewidth": 0,
              "ticks": ""
             }
            },
            "type": "scatterpolar"
           }
          ],
          "scatterpolargl": [
           {
            "marker": {
             "colorbar": {
              "outlinewidth": 0,
              "ticks": ""
             }
            },
            "type": "scatterpolargl"
           }
          ],
          "scatterternary": [
           {
            "marker": {
             "colorbar": {
              "outlinewidth": 0,
              "ticks": ""
             }
            },
            "type": "scatterternary"
           }
          ],
          "surface": [
           {
            "colorbar": {
             "outlinewidth": 0,
             "ticks": ""
            },
            "colorscale": [
             [
              0,
              "#0d0887"
             ],
             [
              0.1111111111111111,
              "#46039f"
             ],
             [
              0.2222222222222222,
              "#7201a8"
             ],
             [
              0.3333333333333333,
              "#9c179e"
             ],
             [
              0.4444444444444444,
              "#bd3786"
             ],
             [
              0.5555555555555556,
              "#d8576b"
             ],
             [
              0.6666666666666666,
              "#ed7953"
             ],
             [
              0.7777777777777778,
              "#fb9f3a"
             ],
             [
              0.8888888888888888,
              "#fdca26"
             ],
             [
              1,
              "#f0f921"
             ]
            ],
            "type": "surface"
           }
          ],
          "table": [
           {
            "cells": {
             "fill": {
              "color": "#EBF0F8"
             },
             "line": {
              "color": "white"
             }
            },
            "header": {
             "fill": {
              "color": "#C8D4E3"
             },
             "line": {
              "color": "white"
             }
            },
            "type": "table"
           }
          ]
         },
         "layout": {
          "annotationdefaults": {
           "arrowcolor": "#2a3f5f",
           "arrowhead": 0,
           "arrowwidth": 1
          },
          "autotypenumbers": "strict",
          "coloraxis": {
           "colorbar": {
            "outlinewidth": 0,
            "ticks": ""
           }
          },
          "colorscale": {
           "diverging": [
            [
             0,
             "#8e0152"
            ],
            [
             0.1,
             "#c51b7d"
            ],
            [
             0.2,
             "#de77ae"
            ],
            [
             0.3,
             "#f1b6da"
            ],
            [
             0.4,
             "#fde0ef"
            ],
            [
             0.5,
             "#f7f7f7"
            ],
            [
             0.6,
             "#e6f5d0"
            ],
            [
             0.7,
             "#b8e186"
            ],
            [
             0.8,
             "#7fbc41"
            ],
            [
             0.9,
             "#4d9221"
            ],
            [
             1,
             "#276419"
            ]
           ],
           "sequential": [
            [
             0,
             "#0d0887"
            ],
            [
             0.1111111111111111,
             "#46039f"
            ],
            [
             0.2222222222222222,
             "#7201a8"
            ],
            [
             0.3333333333333333,
             "#9c179e"
            ],
            [
             0.4444444444444444,
             "#bd3786"
            ],
            [
             0.5555555555555556,
             "#d8576b"
            ],
            [
             0.6666666666666666,
             "#ed7953"
            ],
            [
             0.7777777777777778,
             "#fb9f3a"
            ],
            [
             0.8888888888888888,
             "#fdca26"
            ],
            [
             1,
             "#f0f921"
            ]
           ],
           "sequentialminus": [
            [
             0,
             "#0d0887"
            ],
            [
             0.1111111111111111,
             "#46039f"
            ],
            [
             0.2222222222222222,
             "#7201a8"
            ],
            [
             0.3333333333333333,
             "#9c179e"
            ],
            [
             0.4444444444444444,
             "#bd3786"
            ],
            [
             0.5555555555555556,
             "#d8576b"
            ],
            [
             0.6666666666666666,
             "#ed7953"
            ],
            [
             0.7777777777777778,
             "#fb9f3a"
            ],
            [
             0.8888888888888888,
             "#fdca26"
            ],
            [
             1,
             "#f0f921"
            ]
           ]
          },
          "colorway": [
           "#636efa",
           "#EF553B",
           "#00cc96",
           "#ab63fa",
           "#FFA15A",
           "#19d3f3",
           "#FF6692",
           "#B6E880",
           "#FF97FF",
           "#FECB52"
          ],
          "font": {
           "color": "#2a3f5f"
          },
          "geo": {
           "bgcolor": "white",
           "lakecolor": "white",
           "landcolor": "#E5ECF6",
           "showlakes": true,
           "showland": true,
           "subunitcolor": "white"
          },
          "hoverlabel": {
           "align": "left"
          },
          "hovermode": "closest",
          "mapbox": {
           "style": "light"
          },
          "paper_bgcolor": "white",
          "plot_bgcolor": "#E5ECF6",
          "polar": {
           "angularaxis": {
            "gridcolor": "white",
            "linecolor": "white",
            "ticks": ""
           },
           "bgcolor": "#E5ECF6",
           "radialaxis": {
            "gridcolor": "white",
            "linecolor": "white",
            "ticks": ""
           }
          },
          "scene": {
           "xaxis": {
            "backgroundcolor": "#E5ECF6",
            "gridcolor": "white",
            "gridwidth": 2,
            "linecolor": "white",
            "showbackground": true,
            "ticks": "",
            "zerolinecolor": "white"
           },
           "yaxis": {
            "backgroundcolor": "#E5ECF6",
            "gridcolor": "white",
            "gridwidth": 2,
            "linecolor": "white",
            "showbackground": true,
            "ticks": "",
            "zerolinecolor": "white"
           },
           "zaxis": {
            "backgroundcolor": "#E5ECF6",
            "gridcolor": "white",
            "gridwidth": 2,
            "linecolor": "white",
            "showbackground": true,
            "ticks": "",
            "zerolinecolor": "white"
           }
          },
          "shapedefaults": {
           "line": {
            "color": "#2a3f5f"
           }
          },
          "ternary": {
           "aaxis": {
            "gridcolor": "white",
            "linecolor": "white",
            "ticks": ""
           },
           "baxis": {
            "gridcolor": "white",
            "linecolor": "white",
            "ticks": ""
           },
           "bgcolor": "#E5ECF6",
           "caxis": {
            "gridcolor": "white",
            "linecolor": "white",
            "ticks": ""
           }
          },
          "title": {
           "x": 0.05
          },
          "xaxis": {
           "automargin": true,
           "gridcolor": "white",
           "linecolor": "white",
           "ticks": "",
           "title": {
            "standoff": 15
           },
           "zerolinecolor": "white",
           "zerolinewidth": 2
          },
          "yaxis": {
           "automargin": true,
           "gridcolor": "white",
           "linecolor": "white",
           "ticks": "",
           "title": {
            "standoff": 15
           },
           "zerolinecolor": "white",
           "zerolinewidth": 2
          }
         }
        },
        "xaxis": {
         "anchor": "y",
         "domain": [
          0,
          1
         ],
         "title": {
          "text": "x"
         }
        },
        "yaxis": {
         "anchor": "x",
         "domain": [
          0,
          1
         ],
         "title": {
          "text": "y"
         }
        }
       }
      }
     },
     "metadata": {},
     "output_type": "display_data"
    }
   ],
   "source": [
    "fig = px.scatter(projection, x=\"x\", y=\"y\", color=\"cluster_pca\", hover_data=[\"x\", \"y\", \"genres\"])\n",
    "fig.show()"
   ]
  },
  {
   "cell_type": "code",
   "execution_count": 47,
   "metadata": {},
   "outputs": [
    {
     "data": {
      "text/plain": [
       "array([0.34986105, 0.14284565])"
      ]
     },
     "execution_count": 47,
     "metadata": {},
     "output_type": "execute_result"
    }
   ],
   "source": [
    "pca_pipeline[1].explained_variance_ratio_"
   ]
  },
  {
   "cell_type": "code",
   "execution_count": 48,
   "metadata": {},
   "outputs": [
    {
     "data": {
      "text/plain": [
       "0.49270669947266443"
      ]
     },
     "execution_count": 48,
     "metadata": {},
     "output_type": "execute_result"
    }
   ],
   "source": [
    "pca_pipeline[1].explained_variance_ratio_.sum()"
   ]
  },
  {
   "cell_type": "code",
   "execution_count": 49,
   "metadata": {},
   "outputs": [
    {
     "data": {
      "text/plain": [
       "array([3.84976644, 1.57183087])"
      ]
     },
     "execution_count": 49,
     "metadata": {},
     "output_type": "execute_result"
    }
   ],
   "source": [
    "pca_pipeline[1].explained_variance_"
   ]
  },
  {
   "cell_type": "code",
   "execution_count": 51,
   "metadata": {},
   "outputs": [
    {
     "data": {
      "text/plain": [
       "5.421597305805701"
      ]
     },
     "execution_count": 51,
     "metadata": {},
     "output_type": "execute_result"
    }
   ],
   "source": [
    "pca_pipeline[1].explained_variance_.sum()"
   ]
  }
 ],
 "metadata": {
  "kernelspec": {
   "display_name": "clustering",
   "language": "python",
   "name": "clustering"
  },
  "language_info": {
   "codemirror_mode": {
    "name": "ipython",
    "version": 3
   },
   "file_extension": ".py",
   "mimetype": "text/x-python",
   "name": "python",
   "nbconvert_exporter": "python",
   "pygments_lexer": "ipython3",
   "version": "3.10.6"
  },
  "orig_nbformat": 4,
  "vscode": {
   "interpreter": {
    "hash": "3b8b69dd61503cc52e29a5288855d4685e94fac44889bcc154b72688b3540044"
   }
  }
 },
 "nbformat": 4,
 "nbformat_minor": 2
}
