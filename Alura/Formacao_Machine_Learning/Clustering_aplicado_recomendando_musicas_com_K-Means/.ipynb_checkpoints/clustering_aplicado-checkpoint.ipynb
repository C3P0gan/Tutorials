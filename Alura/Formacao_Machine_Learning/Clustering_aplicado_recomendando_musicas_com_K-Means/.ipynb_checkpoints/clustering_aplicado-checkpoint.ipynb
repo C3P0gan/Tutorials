{
 "cells": [
  {
   "cell_type": "markdown",
   "metadata": {},
   "source": [
    "# 01. Jornada Musical"
   ]
  },
  {
   "cell_type": "markdown",
   "metadata": {},
   "source": [
    "## Aula 1.4 Análise dos dados"
   ]
  },
  {
   "cell_type": "code",
   "execution_count": 94,
   "metadata": {},
   "outputs": [
    {
     "name": "stdout",
     "output_type": "stream",
     "text": [
      "Defaulting to user installation because normal site-packages is not writeable\n",
      "Requirement already satisfied: pandas in /home/cristofferp/.local/lib/python3.10/site-packages (2.0.2)\n",
      "Requirement already satisfied: numpy in /usr/lib/python3.10/site-packages (1.24.2)\n",
      "Requirement already satisfied: plotly in /home/cristofferp/.local/lib/python3.10/site-packages (5.14.1)\n",
      "Requirement already satisfied: scikit-learn in /home/cristofferp/.local/lib/python3.10/site-packages (1.2.2)\n",
      "Requirement already satisfied: tzdata>=2022.1 in /home/cristofferp/.local/lib/python3.10/site-packages (from pandas) (2023.3)\n",
      "Requirement already satisfied: python-dateutil>=2.8.2 in /home/cristofferp/.local/lib/python3.10/site-packages (from pandas) (2.8.2)\n",
      "Requirement already satisfied: pytz>=2020.1 in /usr/lib/python3.10/site-packages (from pandas) (2022.7.1)\n",
      "Requirement already satisfied: tenacity>=6.2.0 in /home/cristofferp/.local/lib/python3.10/site-packages (from plotly) (8.2.2)\n",
      "Requirement already satisfied: packaging in /usr/lib/python3.10/site-packages (from plotly) (23.0)\n",
      "Requirement already satisfied: threadpoolctl>=2.0.0 in /home/cristofferp/.local/lib/python3.10/site-packages (from scikit-learn) (3.1.0)\n",
      "Requirement already satisfied: joblib>=1.1.1 in /home/cristofferp/.local/lib/python3.10/site-packages (from scikit-learn) (1.2.0)\n",
      "Requirement already satisfied: scipy>=1.3.2 in /home/cristofferp/.local/lib/python3.10/site-packages (from scikit-learn) (1.10.1)\n",
      "Requirement already satisfied: six>=1.5 in /usr/lib/python3.10/site-packages (from python-dateutil>=2.8.2->pandas) (1.16.0)\n"
     ]
    }
   ],
   "source": [
    "!pip install pandas numpy plotly scikit-learn"
   ]
  },
  {
   "cell_type": "code",
   "execution_count": 95,
   "metadata": {},
   "outputs": [],
   "source": [
    "import pandas as pd\n",
    "import numpy as np"
   ]
  },
  {
   "cell_type": "code",
   "execution_count": 96,
   "metadata": {},
   "outputs": [],
   "source": [
    "total_data = pd.read_csv(\"./Dados/Dados_totais.csv\")\n",
    "data_by_genre = pd.read_csv(\"./Dados/data_by_genres.csv\")\n",
    "data_by_year = pd.read_csv(\"./Dados/data_by_year.csv\")"
   ]
  },
  {
   "cell_type": "code",
   "execution_count": 97,
   "metadata": {},
   "outputs": [
    {
     "data": {
      "text/html": [
       "<div>\n",
       "<style scoped>\n",
       "    .dataframe tbody tr th:only-of-type {\n",
       "        vertical-align: middle;\n",
       "    }\n",
       "\n",
       "    .dataframe tbody tr th {\n",
       "        vertical-align: top;\n",
       "    }\n",
       "\n",
       "    .dataframe thead th {\n",
       "        text-align: right;\n",
       "    }\n",
       "</style>\n",
       "<table border=\"1\" class=\"dataframe\">\n",
       "  <thead>\n",
       "    <tr style=\"text-align: right;\">\n",
       "      <th></th>\n",
       "      <th>valence</th>\n",
       "      <th>year</th>\n",
       "      <th>acousticness</th>\n",
       "      <th>artists</th>\n",
       "      <th>danceability</th>\n",
       "      <th>duration_ms</th>\n",
       "      <th>energy</th>\n",
       "      <th>explicit</th>\n",
       "      <th>id</th>\n",
       "      <th>instrumentalness</th>\n",
       "      <th>key</th>\n",
       "      <th>liveness</th>\n",
       "      <th>loudness</th>\n",
       "      <th>mode</th>\n",
       "      <th>name</th>\n",
       "      <th>popularity</th>\n",
       "      <th>speechiness</th>\n",
       "      <th>tempo</th>\n",
       "      <th>artists_song</th>\n",
       "    </tr>\n",
       "  </thead>\n",
       "  <tbody>\n",
       "    <tr>\n",
       "      <th>0</th>\n",
       "      <td>0.285</td>\n",
       "      <td>2000</td>\n",
       "      <td>0.00239</td>\n",
       "      <td>Coldplay</td>\n",
       "      <td>0.429</td>\n",
       "      <td>266773</td>\n",
       "      <td>0.661</td>\n",
       "      <td>0</td>\n",
       "      <td>3AJwUDP919kvQ9QcozQPxg</td>\n",
       "      <td>0.000121</td>\n",
       "      <td>11</td>\n",
       "      <td>0.2340</td>\n",
       "      <td>-7.227</td>\n",
       "      <td>1</td>\n",
       "      <td>Yellow</td>\n",
       "      <td>84</td>\n",
       "      <td>0.0281</td>\n",
       "      <td>173.372</td>\n",
       "      <td>Coldplay - Yellow</td>\n",
       "    </tr>\n",
       "    <tr>\n",
       "      <th>1</th>\n",
       "      <td>0.613</td>\n",
       "      <td>2000</td>\n",
       "      <td>0.14300</td>\n",
       "      <td>OutKast</td>\n",
       "      <td>0.843</td>\n",
       "      <td>270507</td>\n",
       "      <td>0.806</td>\n",
       "      <td>1</td>\n",
       "      <td>0I3q5fE6wg7LIfHGngUTnV</td>\n",
       "      <td>0.000000</td>\n",
       "      <td>4</td>\n",
       "      <td>0.0771</td>\n",
       "      <td>-5.946</td>\n",
       "      <td>0</td>\n",
       "      <td>Ms. Jackson</td>\n",
       "      <td>80</td>\n",
       "      <td>0.2690</td>\n",
       "      <td>94.948</td>\n",
       "      <td>OutKast - Ms. Jackson</td>\n",
       "    </tr>\n",
       "    <tr>\n",
       "      <th>2</th>\n",
       "      <td>0.400</td>\n",
       "      <td>2000</td>\n",
       "      <td>0.00958</td>\n",
       "      <td>Linkin Park</td>\n",
       "      <td>0.556</td>\n",
       "      <td>216880</td>\n",
       "      <td>0.864</td>\n",
       "      <td>0</td>\n",
       "      <td>60a0Rd6pjrkxjPbaKzXjfq</td>\n",
       "      <td>0.000000</td>\n",
       "      <td>3</td>\n",
       "      <td>0.2090</td>\n",
       "      <td>-5.870</td>\n",
       "      <td>0</td>\n",
       "      <td>In the End</td>\n",
       "      <td>84</td>\n",
       "      <td>0.0584</td>\n",
       "      <td>105.143</td>\n",
       "      <td>Linkin Park - In the End</td>\n",
       "    </tr>\n",
       "    <tr>\n",
       "      <th>3</th>\n",
       "      <td>0.543</td>\n",
       "      <td>2000</td>\n",
       "      <td>0.00664</td>\n",
       "      <td>3 Doors Down</td>\n",
       "      <td>0.545</td>\n",
       "      <td>233933</td>\n",
       "      <td>0.865</td>\n",
       "      <td>0</td>\n",
       "      <td>6ZOBP3NvffbU4SZcrnt1k6</td>\n",
       "      <td>0.000011</td>\n",
       "      <td>11</td>\n",
       "      <td>0.1680</td>\n",
       "      <td>-5.708</td>\n",
       "      <td>0</td>\n",
       "      <td>Kryptonite</td>\n",
       "      <td>78</td>\n",
       "      <td>0.0286</td>\n",
       "      <td>99.009</td>\n",
       "      <td>3 Doors Down - Kryptonite</td>\n",
       "    </tr>\n",
       "    <tr>\n",
       "      <th>4</th>\n",
       "      <td>0.760</td>\n",
       "      <td>2000</td>\n",
       "      <td>0.03020</td>\n",
       "      <td>Eminem</td>\n",
       "      <td>0.949</td>\n",
       "      <td>284200</td>\n",
       "      <td>0.661</td>\n",
       "      <td>1</td>\n",
       "      <td>3yfqSUWxFvZELEM4PmlwIR</td>\n",
       "      <td>0.000000</td>\n",
       "      <td>5</td>\n",
       "      <td>0.0454</td>\n",
       "      <td>-4.244</td>\n",
       "      <td>0</td>\n",
       "      <td>The Real Slim Shady</td>\n",
       "      <td>80</td>\n",
       "      <td>0.0572</td>\n",
       "      <td>104.504</td>\n",
       "      <td>Eminem - The Real Slim Shady</td>\n",
       "    </tr>\n",
       "  </tbody>\n",
       "</table>\n",
       "</div>"
      ],
      "text/plain": [
       "   valence  year  acousticness       artists  danceability  duration_ms  \\\n",
       "0    0.285  2000       0.00239      Coldplay         0.429       266773   \n",
       "1    0.613  2000       0.14300       OutKast         0.843       270507   \n",
       "2    0.400  2000       0.00958   Linkin Park         0.556       216880   \n",
       "3    0.543  2000       0.00664  3 Doors Down         0.545       233933   \n",
       "4    0.760  2000       0.03020        Eminem         0.949       284200   \n",
       "\n",
       "   energy  explicit                      id  instrumentalness  key  liveness  \\\n",
       "0   0.661         0  3AJwUDP919kvQ9QcozQPxg          0.000121   11    0.2340   \n",
       "1   0.806         1  0I3q5fE6wg7LIfHGngUTnV          0.000000    4    0.0771   \n",
       "2   0.864         0  60a0Rd6pjrkxjPbaKzXjfq          0.000000    3    0.2090   \n",
       "3   0.865         0  6ZOBP3NvffbU4SZcrnt1k6          0.000011   11    0.1680   \n",
       "4   0.661         1  3yfqSUWxFvZELEM4PmlwIR          0.000000    5    0.0454   \n",
       "\n",
       "   loudness  mode                 name  popularity  speechiness    tempo  \\\n",
       "0    -7.227     1               Yellow          84       0.0281  173.372   \n",
       "1    -5.946     0          Ms. Jackson          80       0.2690   94.948   \n",
       "2    -5.870     0           In the End          84       0.0584  105.143   \n",
       "3    -5.708     0           Kryptonite          78       0.0286   99.009   \n",
       "4    -4.244     0  The Real Slim Shady          80       0.0572  104.504   \n",
       "\n",
       "                   artists_song  \n",
       "0             Coldplay - Yellow  \n",
       "1         OutKast - Ms. Jackson  \n",
       "2      Linkin Park - In the End  \n",
       "3     3 Doors Down - Kryptonite  \n",
       "4  Eminem - The Real Slim Shady  "
      ]
     },
     "execution_count": 97,
     "metadata": {},
     "output_type": "execute_result"
    }
   ],
   "source": [
    "total_data.head()"
   ]
  },
  {
   "cell_type": "code",
   "execution_count": 98,
   "metadata": {},
   "outputs": [
    {
     "data": {
      "text/plain": [
       "array([2000, 2001, 2002, 2003, 2004, 2005, 2006, 2007, 2008, 2009, 2010,\n",
       "       2011, 2012, 2013, 2014, 2015, 2016, 2017, 2018, 2019, 2020])"
      ]
     },
     "execution_count": 98,
     "metadata": {},
     "output_type": "execute_result"
    }
   ],
   "source": [
    "total_data[\"year\"].unique()"
   ]
  },
  {
   "cell_type": "code",
   "execution_count": 99,
   "metadata": {},
   "outputs": [
    {
     "data": {
      "text/plain": [
       "(20311, 19)"
      ]
     },
     "execution_count": 99,
     "metadata": {},
     "output_type": "execute_result"
    }
   ],
   "source": [
    "total_data.shape"
   ]
  },
  {
   "cell_type": "code",
   "execution_count": 100,
   "metadata": {},
   "outputs": [
    {
     "data": {
      "text/html": [
       "<div>\n",
       "<style scoped>\n",
       "    .dataframe tbody tr th:only-of-type {\n",
       "        vertical-align: middle;\n",
       "    }\n",
       "\n",
       "    .dataframe tbody tr th {\n",
       "        vertical-align: top;\n",
       "    }\n",
       "\n",
       "    .dataframe thead th {\n",
       "        text-align: right;\n",
       "    }\n",
       "</style>\n",
       "<table border=\"1\" class=\"dataframe\">\n",
       "  <thead>\n",
       "    <tr style=\"text-align: right;\">\n",
       "      <th></th>\n",
       "      <th>valence</th>\n",
       "      <th>year</th>\n",
       "      <th>acousticness</th>\n",
       "      <th>artists</th>\n",
       "      <th>danceability</th>\n",
       "      <th>duration_ms</th>\n",
       "      <th>energy</th>\n",
       "      <th>id</th>\n",
       "      <th>instrumentalness</th>\n",
       "      <th>liveness</th>\n",
       "      <th>loudness</th>\n",
       "      <th>name</th>\n",
       "      <th>popularity</th>\n",
       "      <th>speechiness</th>\n",
       "      <th>tempo</th>\n",
       "      <th>artists_song</th>\n",
       "    </tr>\n",
       "  </thead>\n",
       "  <tbody>\n",
       "    <tr>\n",
       "      <th>0</th>\n",
       "      <td>0.285</td>\n",
       "      <td>2000</td>\n",
       "      <td>0.00239</td>\n",
       "      <td>Coldplay</td>\n",
       "      <td>0.429</td>\n",
       "      <td>266773</td>\n",
       "      <td>0.661</td>\n",
       "      <td>3AJwUDP919kvQ9QcozQPxg</td>\n",
       "      <td>0.000121</td>\n",
       "      <td>0.2340</td>\n",
       "      <td>-7.227</td>\n",
       "      <td>Yellow</td>\n",
       "      <td>84</td>\n",
       "      <td>0.0281</td>\n",
       "      <td>173.372</td>\n",
       "      <td>Coldplay - Yellow</td>\n",
       "    </tr>\n",
       "    <tr>\n",
       "      <th>1</th>\n",
       "      <td>0.613</td>\n",
       "      <td>2000</td>\n",
       "      <td>0.14300</td>\n",
       "      <td>OutKast</td>\n",
       "      <td>0.843</td>\n",
       "      <td>270507</td>\n",
       "      <td>0.806</td>\n",
       "      <td>0I3q5fE6wg7LIfHGngUTnV</td>\n",
       "      <td>0.000000</td>\n",
       "      <td>0.0771</td>\n",
       "      <td>-5.946</td>\n",
       "      <td>Ms. Jackson</td>\n",
       "      <td>80</td>\n",
       "      <td>0.2690</td>\n",
       "      <td>94.948</td>\n",
       "      <td>OutKast - Ms. Jackson</td>\n",
       "    </tr>\n",
       "    <tr>\n",
       "      <th>2</th>\n",
       "      <td>0.400</td>\n",
       "      <td>2000</td>\n",
       "      <td>0.00958</td>\n",
       "      <td>Linkin Park</td>\n",
       "      <td>0.556</td>\n",
       "      <td>216880</td>\n",
       "      <td>0.864</td>\n",
       "      <td>60a0Rd6pjrkxjPbaKzXjfq</td>\n",
       "      <td>0.000000</td>\n",
       "      <td>0.2090</td>\n",
       "      <td>-5.870</td>\n",
       "      <td>In the End</td>\n",
       "      <td>84</td>\n",
       "      <td>0.0584</td>\n",
       "      <td>105.143</td>\n",
       "      <td>Linkin Park - In the End</td>\n",
       "    </tr>\n",
       "    <tr>\n",
       "      <th>3</th>\n",
       "      <td>0.543</td>\n",
       "      <td>2000</td>\n",
       "      <td>0.00664</td>\n",
       "      <td>3 Doors Down</td>\n",
       "      <td>0.545</td>\n",
       "      <td>233933</td>\n",
       "      <td>0.865</td>\n",
       "      <td>6ZOBP3NvffbU4SZcrnt1k6</td>\n",
       "      <td>0.000011</td>\n",
       "      <td>0.1680</td>\n",
       "      <td>-5.708</td>\n",
       "      <td>Kryptonite</td>\n",
       "      <td>78</td>\n",
       "      <td>0.0286</td>\n",
       "      <td>99.009</td>\n",
       "      <td>3 Doors Down - Kryptonite</td>\n",
       "    </tr>\n",
       "    <tr>\n",
       "      <th>4</th>\n",
       "      <td>0.760</td>\n",
       "      <td>2000</td>\n",
       "      <td>0.03020</td>\n",
       "      <td>Eminem</td>\n",
       "      <td>0.949</td>\n",
       "      <td>284200</td>\n",
       "      <td>0.661</td>\n",
       "      <td>3yfqSUWxFvZELEM4PmlwIR</td>\n",
       "      <td>0.000000</td>\n",
       "      <td>0.0454</td>\n",
       "      <td>-4.244</td>\n",
       "      <td>The Real Slim Shady</td>\n",
       "      <td>80</td>\n",
       "      <td>0.0572</td>\n",
       "      <td>104.504</td>\n",
       "      <td>Eminem - The Real Slim Shady</td>\n",
       "    </tr>\n",
       "  </tbody>\n",
       "</table>\n",
       "</div>"
      ],
      "text/plain": [
       "   valence  year  acousticness       artists  danceability  duration_ms  \\\n",
       "0    0.285  2000       0.00239      Coldplay         0.429       266773   \n",
       "1    0.613  2000       0.14300       OutKast         0.843       270507   \n",
       "2    0.400  2000       0.00958   Linkin Park         0.556       216880   \n",
       "3    0.543  2000       0.00664  3 Doors Down         0.545       233933   \n",
       "4    0.760  2000       0.03020        Eminem         0.949       284200   \n",
       "\n",
       "   energy                      id  instrumentalness  liveness  loudness  \\\n",
       "0   0.661  3AJwUDP919kvQ9QcozQPxg          0.000121    0.2340    -7.227   \n",
       "1   0.806  0I3q5fE6wg7LIfHGngUTnV          0.000000    0.0771    -5.946   \n",
       "2   0.864  60a0Rd6pjrkxjPbaKzXjfq          0.000000    0.2090    -5.870   \n",
       "3   0.865  6ZOBP3NvffbU4SZcrnt1k6          0.000011    0.1680    -5.708   \n",
       "4   0.661  3yfqSUWxFvZELEM4PmlwIR          0.000000    0.0454    -4.244   \n",
       "\n",
       "                  name  popularity  speechiness    tempo  \\\n",
       "0               Yellow          84       0.0281  173.372   \n",
       "1          Ms. Jackson          80       0.2690   94.948   \n",
       "2           In the End          84       0.0584  105.143   \n",
       "3           Kryptonite          78       0.0286   99.009   \n",
       "4  The Real Slim Shady          80       0.0572  104.504   \n",
       "\n",
       "                   artists_song  \n",
       "0             Coldplay - Yellow  \n",
       "1         OutKast - Ms. Jackson  \n",
       "2      Linkin Park - In the End  \n",
       "3     3 Doors Down - Kryptonite  \n",
       "4  Eminem - The Real Slim Shady  "
      ]
     },
     "execution_count": 100,
     "metadata": {},
     "output_type": "execute_result"
    }
   ],
   "source": [
    "total_data.drop(columns=[\"explicit\", \"key\", \"mode\"], axis=1, inplace=True)\n",
    "total_data.head()"
   ]
  },
  {
   "cell_type": "code",
   "execution_count": 101,
   "metadata": {},
   "outputs": [
    {
     "data": {
      "text/plain": [
       "(20311, 16)"
      ]
     },
     "execution_count": 101,
     "metadata": {},
     "output_type": "execute_result"
    }
   ],
   "source": [
    "total_data.shape"
   ]
  },
  {
   "cell_type": "code",
   "execution_count": 102,
   "metadata": {},
   "outputs": [
    {
     "data": {
      "text/plain": [
       "valence             0\n",
       "year                0\n",
       "acousticness        0\n",
       "artists             0\n",
       "danceability        0\n",
       "duration_ms         0\n",
       "energy              0\n",
       "id                  0\n",
       "instrumentalness    0\n",
       "liveness            0\n",
       "loudness            0\n",
       "name                0\n",
       "popularity          0\n",
       "speechiness         0\n",
       "tempo               0\n",
       "artists_song        0\n",
       "dtype: int64"
      ]
     },
     "execution_count": 102,
     "metadata": {},
     "output_type": "execute_result"
    }
   ],
   "source": [
    "total_data.isnull().sum()"
   ]
  },
  {
   "cell_type": "code",
   "execution_count": 103,
   "metadata": {},
   "outputs": [
    {
     "data": {
      "text/plain": [
       "valence             0\n",
       "year                0\n",
       "acousticness        0\n",
       "artists             0\n",
       "danceability        0\n",
       "duration_ms         0\n",
       "energy              0\n",
       "id                  0\n",
       "instrumentalness    0\n",
       "liveness            0\n",
       "loudness            0\n",
       "name                0\n",
       "popularity          0\n",
       "speechiness         0\n",
       "tempo               0\n",
       "artists_song        0\n",
       "dtype: int64"
      ]
     },
     "execution_count": 103,
     "metadata": {},
     "output_type": "execute_result"
    }
   ],
   "source": [
    "total_data.isna().sum()"
   ]
  },
  {
   "cell_type": "code",
   "execution_count": 104,
   "metadata": {},
   "outputs": [
    {
     "data": {
      "text/html": [
       "<div>\n",
       "<style scoped>\n",
       "    .dataframe tbody tr th:only-of-type {\n",
       "        vertical-align: middle;\n",
       "    }\n",
       "\n",
       "    .dataframe tbody tr th {\n",
       "        vertical-align: top;\n",
       "    }\n",
       "\n",
       "    .dataframe thead th {\n",
       "        text-align: right;\n",
       "    }\n",
       "</style>\n",
       "<table border=\"1\" class=\"dataframe\">\n",
       "  <thead>\n",
       "    <tr style=\"text-align: right;\">\n",
       "      <th></th>\n",
       "      <th>mode</th>\n",
       "      <th>genres</th>\n",
       "      <th>acousticness</th>\n",
       "      <th>danceability</th>\n",
       "      <th>duration_ms</th>\n",
       "      <th>energy</th>\n",
       "      <th>instrumentalness</th>\n",
       "      <th>liveness</th>\n",
       "      <th>loudness</th>\n",
       "      <th>speechiness</th>\n",
       "      <th>tempo</th>\n",
       "      <th>valence</th>\n",
       "      <th>popularity</th>\n",
       "      <th>key</th>\n",
       "    </tr>\n",
       "  </thead>\n",
       "  <tbody>\n",
       "    <tr>\n",
       "      <th>0</th>\n",
       "      <td>1</td>\n",
       "      <td>21st century classical</td>\n",
       "      <td>0.979333</td>\n",
       "      <td>0.162883</td>\n",
       "      <td>1.602977e+05</td>\n",
       "      <td>0.071317</td>\n",
       "      <td>0.606834</td>\n",
       "      <td>0.361600</td>\n",
       "      <td>-31.514333</td>\n",
       "      <td>0.040567</td>\n",
       "      <td>75.336500</td>\n",
       "      <td>0.103783</td>\n",
       "      <td>27.833333</td>\n",
       "      <td>6</td>\n",
       "    </tr>\n",
       "    <tr>\n",
       "      <th>1</th>\n",
       "      <td>1</td>\n",
       "      <td>432hz</td>\n",
       "      <td>0.494780</td>\n",
       "      <td>0.299333</td>\n",
       "      <td>1.048887e+06</td>\n",
       "      <td>0.450678</td>\n",
       "      <td>0.477762</td>\n",
       "      <td>0.131000</td>\n",
       "      <td>-16.854000</td>\n",
       "      <td>0.076817</td>\n",
       "      <td>120.285667</td>\n",
       "      <td>0.221750</td>\n",
       "      <td>52.500000</td>\n",
       "      <td>5</td>\n",
       "    </tr>\n",
       "    <tr>\n",
       "      <th>2</th>\n",
       "      <td>1</td>\n",
       "      <td>8-bit</td>\n",
       "      <td>0.762000</td>\n",
       "      <td>0.712000</td>\n",
       "      <td>1.151770e+05</td>\n",
       "      <td>0.818000</td>\n",
       "      <td>0.876000</td>\n",
       "      <td>0.126000</td>\n",
       "      <td>-9.180000</td>\n",
       "      <td>0.047000</td>\n",
       "      <td>133.444000</td>\n",
       "      <td>0.975000</td>\n",
       "      <td>48.000000</td>\n",
       "      <td>7</td>\n",
       "    </tr>\n",
       "    <tr>\n",
       "      <th>3</th>\n",
       "      <td>1</td>\n",
       "      <td>[]</td>\n",
       "      <td>0.651417</td>\n",
       "      <td>0.529093</td>\n",
       "      <td>2.328809e+05</td>\n",
       "      <td>0.419146</td>\n",
       "      <td>0.205309</td>\n",
       "      <td>0.218696</td>\n",
       "      <td>-12.288965</td>\n",
       "      <td>0.107872</td>\n",
       "      <td>112.857352</td>\n",
       "      <td>0.513604</td>\n",
       "      <td>20.859882</td>\n",
       "      <td>7</td>\n",
       "    </tr>\n",
       "    <tr>\n",
       "      <th>4</th>\n",
       "      <td>1</td>\n",
       "      <td>a cappella</td>\n",
       "      <td>0.676557</td>\n",
       "      <td>0.538961</td>\n",
       "      <td>1.906285e+05</td>\n",
       "      <td>0.316434</td>\n",
       "      <td>0.003003</td>\n",
       "      <td>0.172254</td>\n",
       "      <td>-12.479387</td>\n",
       "      <td>0.082851</td>\n",
       "      <td>112.110362</td>\n",
       "      <td>0.448249</td>\n",
       "      <td>45.820071</td>\n",
       "      <td>7</td>\n",
       "    </tr>\n",
       "  </tbody>\n",
       "</table>\n",
       "</div>"
      ],
      "text/plain": [
       "   mode                  genres  acousticness  danceability   duration_ms  \\\n",
       "0     1  21st century classical      0.979333      0.162883  1.602977e+05   \n",
       "1     1                   432hz      0.494780      0.299333  1.048887e+06   \n",
       "2     1                   8-bit      0.762000      0.712000  1.151770e+05   \n",
       "3     1                      []      0.651417      0.529093  2.328809e+05   \n",
       "4     1              a cappella      0.676557      0.538961  1.906285e+05   \n",
       "\n",
       "     energy  instrumentalness  liveness   loudness  speechiness       tempo  \\\n",
       "0  0.071317          0.606834  0.361600 -31.514333     0.040567   75.336500   \n",
       "1  0.450678          0.477762  0.131000 -16.854000     0.076817  120.285667   \n",
       "2  0.818000          0.876000  0.126000  -9.180000     0.047000  133.444000   \n",
       "3  0.419146          0.205309  0.218696 -12.288965     0.107872  112.857352   \n",
       "4  0.316434          0.003003  0.172254 -12.479387     0.082851  112.110362   \n",
       "\n",
       "    valence  popularity  key  \n",
       "0  0.103783   27.833333    6  \n",
       "1  0.221750   52.500000    5  \n",
       "2  0.975000   48.000000    7  \n",
       "3  0.513604   20.859882    7  \n",
       "4  0.448249   45.820071    7  "
      ]
     },
     "execution_count": 104,
     "metadata": {},
     "output_type": "execute_result"
    }
   ],
   "source": [
    "data_by_genre.head()"
   ]
  },
  {
   "cell_type": "code",
   "execution_count": 105,
   "metadata": {},
   "outputs": [
    {
     "data": {
      "text/html": [
       "<div>\n",
       "<style scoped>\n",
       "    .dataframe tbody tr th:only-of-type {\n",
       "        vertical-align: middle;\n",
       "    }\n",
       "\n",
       "    .dataframe tbody tr th {\n",
       "        vertical-align: top;\n",
       "    }\n",
       "\n",
       "    .dataframe thead th {\n",
       "        text-align: right;\n",
       "    }\n",
       "</style>\n",
       "<table border=\"1\" class=\"dataframe\">\n",
       "  <thead>\n",
       "    <tr style=\"text-align: right;\">\n",
       "      <th></th>\n",
       "      <th>genres</th>\n",
       "      <th>acousticness</th>\n",
       "      <th>danceability</th>\n",
       "      <th>duration_ms</th>\n",
       "      <th>energy</th>\n",
       "      <th>instrumentalness</th>\n",
       "      <th>liveness</th>\n",
       "      <th>loudness</th>\n",
       "      <th>speechiness</th>\n",
       "      <th>tempo</th>\n",
       "      <th>valence</th>\n",
       "      <th>popularity</th>\n",
       "    </tr>\n",
       "  </thead>\n",
       "  <tbody>\n",
       "    <tr>\n",
       "      <th>0</th>\n",
       "      <td>21st century classical</td>\n",
       "      <td>0.979333</td>\n",
       "      <td>0.162883</td>\n",
       "      <td>1.602977e+05</td>\n",
       "      <td>0.071317</td>\n",
       "      <td>0.606834</td>\n",
       "      <td>0.361600</td>\n",
       "      <td>-31.514333</td>\n",
       "      <td>0.040567</td>\n",
       "      <td>75.336500</td>\n",
       "      <td>0.103783</td>\n",
       "      <td>27.833333</td>\n",
       "    </tr>\n",
       "    <tr>\n",
       "      <th>1</th>\n",
       "      <td>432hz</td>\n",
       "      <td>0.494780</td>\n",
       "      <td>0.299333</td>\n",
       "      <td>1.048887e+06</td>\n",
       "      <td>0.450678</td>\n",
       "      <td>0.477762</td>\n",
       "      <td>0.131000</td>\n",
       "      <td>-16.854000</td>\n",
       "      <td>0.076817</td>\n",
       "      <td>120.285667</td>\n",
       "      <td>0.221750</td>\n",
       "      <td>52.500000</td>\n",
       "    </tr>\n",
       "    <tr>\n",
       "      <th>2</th>\n",
       "      <td>8-bit</td>\n",
       "      <td>0.762000</td>\n",
       "      <td>0.712000</td>\n",
       "      <td>1.151770e+05</td>\n",
       "      <td>0.818000</td>\n",
       "      <td>0.876000</td>\n",
       "      <td>0.126000</td>\n",
       "      <td>-9.180000</td>\n",
       "      <td>0.047000</td>\n",
       "      <td>133.444000</td>\n",
       "      <td>0.975000</td>\n",
       "      <td>48.000000</td>\n",
       "    </tr>\n",
       "    <tr>\n",
       "      <th>3</th>\n",
       "      <td>[]</td>\n",
       "      <td>0.651417</td>\n",
       "      <td>0.529093</td>\n",
       "      <td>2.328809e+05</td>\n",
       "      <td>0.419146</td>\n",
       "      <td>0.205309</td>\n",
       "      <td>0.218696</td>\n",
       "      <td>-12.288965</td>\n",
       "      <td>0.107872</td>\n",
       "      <td>112.857352</td>\n",
       "      <td>0.513604</td>\n",
       "      <td>20.859882</td>\n",
       "    </tr>\n",
       "    <tr>\n",
       "      <th>4</th>\n",
       "      <td>a cappella</td>\n",
       "      <td>0.676557</td>\n",
       "      <td>0.538961</td>\n",
       "      <td>1.906285e+05</td>\n",
       "      <td>0.316434</td>\n",
       "      <td>0.003003</td>\n",
       "      <td>0.172254</td>\n",
       "      <td>-12.479387</td>\n",
       "      <td>0.082851</td>\n",
       "      <td>112.110362</td>\n",
       "      <td>0.448249</td>\n",
       "      <td>45.820071</td>\n",
       "    </tr>\n",
       "  </tbody>\n",
       "</table>\n",
       "</div>"
      ],
      "text/plain": [
       "                   genres  acousticness  danceability   duration_ms    energy  \\\n",
       "0  21st century classical      0.979333      0.162883  1.602977e+05  0.071317   \n",
       "1                   432hz      0.494780      0.299333  1.048887e+06  0.450678   \n",
       "2                   8-bit      0.762000      0.712000  1.151770e+05  0.818000   \n",
       "3                      []      0.651417      0.529093  2.328809e+05  0.419146   \n",
       "4              a cappella      0.676557      0.538961  1.906285e+05  0.316434   \n",
       "\n",
       "   instrumentalness  liveness   loudness  speechiness       tempo   valence  \\\n",
       "0          0.606834  0.361600 -31.514333     0.040567   75.336500  0.103783   \n",
       "1          0.477762  0.131000 -16.854000     0.076817  120.285667  0.221750   \n",
       "2          0.876000  0.126000  -9.180000     0.047000  133.444000  0.975000   \n",
       "3          0.205309  0.218696 -12.288965     0.107872  112.857352  0.513604   \n",
       "4          0.003003  0.172254 -12.479387     0.082851  112.110362  0.448249   \n",
       "\n",
       "   popularity  \n",
       "0   27.833333  \n",
       "1   52.500000  \n",
       "2   48.000000  \n",
       "3   20.859882  \n",
       "4   45.820071  "
      ]
     },
     "execution_count": 105,
     "metadata": {},
     "output_type": "execute_result"
    }
   ],
   "source": [
    "data_by_genre.drop(columns=[\"key\", \"mode\"], axis=1, inplace=True)\n",
    "data_by_genre.head()"
   ]
  },
  {
   "cell_type": "code",
   "execution_count": 106,
   "metadata": {},
   "outputs": [
    {
     "data": {
      "text/plain": [
       "genres              0\n",
       "acousticness        0\n",
       "danceability        0\n",
       "duration_ms         0\n",
       "energy              0\n",
       "instrumentalness    0\n",
       "liveness            0\n",
       "loudness            0\n",
       "speechiness         0\n",
       "tempo               0\n",
       "valence             0\n",
       "popularity          0\n",
       "dtype: int64"
      ]
     },
     "execution_count": 106,
     "metadata": {},
     "output_type": "execute_result"
    }
   ],
   "source": [
    "data_by_genre.isnull().sum()"
   ]
  },
  {
   "cell_type": "code",
   "execution_count": 107,
   "metadata": {},
   "outputs": [
    {
     "data": {
      "text/plain": [
       "genres              0\n",
       "acousticness        0\n",
       "danceability        0\n",
       "duration_ms         0\n",
       "energy              0\n",
       "instrumentalness    0\n",
       "liveness            0\n",
       "loudness            0\n",
       "speechiness         0\n",
       "tempo               0\n",
       "valence             0\n",
       "popularity          0\n",
       "dtype: int64"
      ]
     },
     "execution_count": 107,
     "metadata": {},
     "output_type": "execute_result"
    }
   ],
   "source": [
    "data_by_genre.isna().sum()"
   ]
  },
  {
   "cell_type": "code",
   "execution_count": 108,
   "metadata": {},
   "outputs": [
    {
     "data": {
      "text/html": [
       "<div>\n",
       "<style scoped>\n",
       "    .dataframe tbody tr th:only-of-type {\n",
       "        vertical-align: middle;\n",
       "    }\n",
       "\n",
       "    .dataframe tbody tr th {\n",
       "        vertical-align: top;\n",
       "    }\n",
       "\n",
       "    .dataframe thead th {\n",
       "        text-align: right;\n",
       "    }\n",
       "</style>\n",
       "<table border=\"1\" class=\"dataframe\">\n",
       "  <thead>\n",
       "    <tr style=\"text-align: right;\">\n",
       "      <th></th>\n",
       "      <th>mode</th>\n",
       "      <th>year</th>\n",
       "      <th>acousticness</th>\n",
       "      <th>danceability</th>\n",
       "      <th>duration_ms</th>\n",
       "      <th>energy</th>\n",
       "      <th>instrumentalness</th>\n",
       "      <th>liveness</th>\n",
       "      <th>loudness</th>\n",
       "      <th>speechiness</th>\n",
       "      <th>tempo</th>\n",
       "      <th>valence</th>\n",
       "      <th>popularity</th>\n",
       "      <th>key</th>\n",
       "    </tr>\n",
       "  </thead>\n",
       "  <tbody>\n",
       "    <tr>\n",
       "      <th>0</th>\n",
       "      <td>1</td>\n",
       "      <td>1921</td>\n",
       "      <td>0.886896</td>\n",
       "      <td>0.418597</td>\n",
       "      <td>260537.166667</td>\n",
       "      <td>0.231815</td>\n",
       "      <td>0.344878</td>\n",
       "      <td>0.205710</td>\n",
       "      <td>-17.048667</td>\n",
       "      <td>0.073662</td>\n",
       "      <td>101.531493</td>\n",
       "      <td>0.379327</td>\n",
       "      <td>0.653333</td>\n",
       "      <td>2</td>\n",
       "    </tr>\n",
       "    <tr>\n",
       "      <th>1</th>\n",
       "      <td>1</td>\n",
       "      <td>1922</td>\n",
       "      <td>0.938592</td>\n",
       "      <td>0.482042</td>\n",
       "      <td>165469.746479</td>\n",
       "      <td>0.237815</td>\n",
       "      <td>0.434195</td>\n",
       "      <td>0.240720</td>\n",
       "      <td>-19.275282</td>\n",
       "      <td>0.116655</td>\n",
       "      <td>100.884521</td>\n",
       "      <td>0.535549</td>\n",
       "      <td>0.140845</td>\n",
       "      <td>10</td>\n",
       "    </tr>\n",
       "    <tr>\n",
       "      <th>2</th>\n",
       "      <td>1</td>\n",
       "      <td>1923</td>\n",
       "      <td>0.957247</td>\n",
       "      <td>0.577341</td>\n",
       "      <td>177942.362162</td>\n",
       "      <td>0.262406</td>\n",
       "      <td>0.371733</td>\n",
       "      <td>0.227462</td>\n",
       "      <td>-14.129211</td>\n",
       "      <td>0.093949</td>\n",
       "      <td>114.010730</td>\n",
       "      <td>0.625492</td>\n",
       "      <td>5.389189</td>\n",
       "      <td>0</td>\n",
       "    </tr>\n",
       "    <tr>\n",
       "      <th>3</th>\n",
       "      <td>1</td>\n",
       "      <td>1924</td>\n",
       "      <td>0.940200</td>\n",
       "      <td>0.549894</td>\n",
       "      <td>191046.707627</td>\n",
       "      <td>0.344347</td>\n",
       "      <td>0.581701</td>\n",
       "      <td>0.235219</td>\n",
       "      <td>-14.231343</td>\n",
       "      <td>0.092089</td>\n",
       "      <td>120.689572</td>\n",
       "      <td>0.663725</td>\n",
       "      <td>0.661017</td>\n",
       "      <td>10</td>\n",
       "    </tr>\n",
       "    <tr>\n",
       "      <th>4</th>\n",
       "      <td>1</td>\n",
       "      <td>1925</td>\n",
       "      <td>0.962607</td>\n",
       "      <td>0.573863</td>\n",
       "      <td>184986.924460</td>\n",
       "      <td>0.278594</td>\n",
       "      <td>0.418297</td>\n",
       "      <td>0.237668</td>\n",
       "      <td>-14.146414</td>\n",
       "      <td>0.111918</td>\n",
       "      <td>115.521921</td>\n",
       "      <td>0.621929</td>\n",
       "      <td>2.604317</td>\n",
       "      <td>5</td>\n",
       "    </tr>\n",
       "  </tbody>\n",
       "</table>\n",
       "</div>"
      ],
      "text/plain": [
       "   mode  year  acousticness  danceability    duration_ms    energy  \\\n",
       "0     1  1921      0.886896      0.418597  260537.166667  0.231815   \n",
       "1     1  1922      0.938592      0.482042  165469.746479  0.237815   \n",
       "2     1  1923      0.957247      0.577341  177942.362162  0.262406   \n",
       "3     1  1924      0.940200      0.549894  191046.707627  0.344347   \n",
       "4     1  1925      0.962607      0.573863  184986.924460  0.278594   \n",
       "\n",
       "   instrumentalness  liveness   loudness  speechiness       tempo   valence  \\\n",
       "0          0.344878  0.205710 -17.048667     0.073662  101.531493  0.379327   \n",
       "1          0.434195  0.240720 -19.275282     0.116655  100.884521  0.535549   \n",
       "2          0.371733  0.227462 -14.129211     0.093949  114.010730  0.625492   \n",
       "3          0.581701  0.235219 -14.231343     0.092089  120.689572  0.663725   \n",
       "4          0.418297  0.237668 -14.146414     0.111918  115.521921  0.621929   \n",
       "\n",
       "   popularity  key  \n",
       "0    0.653333    2  \n",
       "1    0.140845   10  \n",
       "2    5.389189    0  \n",
       "3    0.661017   10  \n",
       "4    2.604317    5  "
      ]
     },
     "execution_count": 108,
     "metadata": {},
     "output_type": "execute_result"
    }
   ],
   "source": [
    "data_by_year.head()"
   ]
  },
  {
   "cell_type": "code",
   "execution_count": 109,
   "metadata": {},
   "outputs": [
    {
     "data": {
      "text/html": [
       "<div>\n",
       "<style scoped>\n",
       "    .dataframe tbody tr th:only-of-type {\n",
       "        vertical-align: middle;\n",
       "    }\n",
       "\n",
       "    .dataframe tbody tr th {\n",
       "        vertical-align: top;\n",
       "    }\n",
       "\n",
       "    .dataframe thead th {\n",
       "        text-align: right;\n",
       "    }\n",
       "</style>\n",
       "<table border=\"1\" class=\"dataframe\">\n",
       "  <thead>\n",
       "    <tr style=\"text-align: right;\">\n",
       "      <th></th>\n",
       "      <th>year</th>\n",
       "      <th>acousticness</th>\n",
       "      <th>danceability</th>\n",
       "      <th>duration_ms</th>\n",
       "      <th>energy</th>\n",
       "      <th>instrumentalness</th>\n",
       "      <th>liveness</th>\n",
       "      <th>loudness</th>\n",
       "      <th>speechiness</th>\n",
       "      <th>tempo</th>\n",
       "      <th>valence</th>\n",
       "      <th>popularity</th>\n",
       "    </tr>\n",
       "  </thead>\n",
       "  <tbody>\n",
       "    <tr>\n",
       "      <th>0</th>\n",
       "      <td>1921</td>\n",
       "      <td>0.886896</td>\n",
       "      <td>0.418597</td>\n",
       "      <td>260537.166667</td>\n",
       "      <td>0.231815</td>\n",
       "      <td>0.344878</td>\n",
       "      <td>0.205710</td>\n",
       "      <td>-17.048667</td>\n",
       "      <td>0.073662</td>\n",
       "      <td>101.531493</td>\n",
       "      <td>0.379327</td>\n",
       "      <td>0.653333</td>\n",
       "    </tr>\n",
       "    <tr>\n",
       "      <th>1</th>\n",
       "      <td>1922</td>\n",
       "      <td>0.938592</td>\n",
       "      <td>0.482042</td>\n",
       "      <td>165469.746479</td>\n",
       "      <td>0.237815</td>\n",
       "      <td>0.434195</td>\n",
       "      <td>0.240720</td>\n",
       "      <td>-19.275282</td>\n",
       "      <td>0.116655</td>\n",
       "      <td>100.884521</td>\n",
       "      <td>0.535549</td>\n",
       "      <td>0.140845</td>\n",
       "    </tr>\n",
       "    <tr>\n",
       "      <th>2</th>\n",
       "      <td>1923</td>\n",
       "      <td>0.957247</td>\n",
       "      <td>0.577341</td>\n",
       "      <td>177942.362162</td>\n",
       "      <td>0.262406</td>\n",
       "      <td>0.371733</td>\n",
       "      <td>0.227462</td>\n",
       "      <td>-14.129211</td>\n",
       "      <td>0.093949</td>\n",
       "      <td>114.010730</td>\n",
       "      <td>0.625492</td>\n",
       "      <td>5.389189</td>\n",
       "    </tr>\n",
       "    <tr>\n",
       "      <th>3</th>\n",
       "      <td>1924</td>\n",
       "      <td>0.940200</td>\n",
       "      <td>0.549894</td>\n",
       "      <td>191046.707627</td>\n",
       "      <td>0.344347</td>\n",
       "      <td>0.581701</td>\n",
       "      <td>0.235219</td>\n",
       "      <td>-14.231343</td>\n",
       "      <td>0.092089</td>\n",
       "      <td>120.689572</td>\n",
       "      <td>0.663725</td>\n",
       "      <td>0.661017</td>\n",
       "    </tr>\n",
       "    <tr>\n",
       "      <th>4</th>\n",
       "      <td>1925</td>\n",
       "      <td>0.962607</td>\n",
       "      <td>0.573863</td>\n",
       "      <td>184986.924460</td>\n",
       "      <td>0.278594</td>\n",
       "      <td>0.418297</td>\n",
       "      <td>0.237668</td>\n",
       "      <td>-14.146414</td>\n",
       "      <td>0.111918</td>\n",
       "      <td>115.521921</td>\n",
       "      <td>0.621929</td>\n",
       "      <td>2.604317</td>\n",
       "    </tr>\n",
       "  </tbody>\n",
       "</table>\n",
       "</div>"
      ],
      "text/plain": [
       "   year  acousticness  danceability    duration_ms    energy  \\\n",
       "0  1921      0.886896      0.418597  260537.166667  0.231815   \n",
       "1  1922      0.938592      0.482042  165469.746479  0.237815   \n",
       "2  1923      0.957247      0.577341  177942.362162  0.262406   \n",
       "3  1924      0.940200      0.549894  191046.707627  0.344347   \n",
       "4  1925      0.962607      0.573863  184986.924460  0.278594   \n",
       "\n",
       "   instrumentalness  liveness   loudness  speechiness       tempo   valence  \\\n",
       "0          0.344878  0.205710 -17.048667     0.073662  101.531493  0.379327   \n",
       "1          0.434195  0.240720 -19.275282     0.116655  100.884521  0.535549   \n",
       "2          0.371733  0.227462 -14.129211     0.093949  114.010730  0.625492   \n",
       "3          0.581701  0.235219 -14.231343     0.092089  120.689572  0.663725   \n",
       "4          0.418297  0.237668 -14.146414     0.111918  115.521921  0.621929   \n",
       "\n",
       "   popularity  \n",
       "0    0.653333  \n",
       "1    0.140845  \n",
       "2    5.389189  \n",
       "3    0.661017  \n",
       "4    2.604317  "
      ]
     },
     "execution_count": 109,
     "metadata": {},
     "output_type": "execute_result"
    }
   ],
   "source": [
    "data_by_year.drop(columns=[\"mode\", \"key\"], axis=1, inplace=True)\n",
    "data_by_year.head()"
   ]
  },
  {
   "cell_type": "code",
   "execution_count": 110,
   "metadata": {},
   "outputs": [
    {
     "data": {
      "text/plain": [
       "year                0\n",
       "acousticness        0\n",
       "danceability        0\n",
       "duration_ms         0\n",
       "energy              0\n",
       "instrumentalness    0\n",
       "liveness            0\n",
       "loudness            0\n",
       "speechiness         0\n",
       "tempo               0\n",
       "valence             0\n",
       "popularity          0\n",
       "dtype: int64"
      ]
     },
     "execution_count": 110,
     "metadata": {},
     "output_type": "execute_result"
    }
   ],
   "source": [
    "data_by_year.isnull().sum()"
   ]
  },
  {
   "cell_type": "code",
   "execution_count": 111,
   "metadata": {},
   "outputs": [
    {
     "data": {
      "text/plain": [
       "year                0\n",
       "acousticness        0\n",
       "danceability        0\n",
       "duration_ms         0\n",
       "energy              0\n",
       "instrumentalness    0\n",
       "liveness            0\n",
       "loudness            0\n",
       "speechiness         0\n",
       "tempo               0\n",
       "valence             0\n",
       "popularity          0\n",
       "dtype: int64"
      ]
     },
     "execution_count": 111,
     "metadata": {},
     "output_type": "execute_result"
    }
   ],
   "source": [
    "data_by_year.isna().sum()"
   ]
  },
  {
   "cell_type": "code",
   "execution_count": 112,
   "metadata": {},
   "outputs": [
    {
     "data": {
      "text/plain": [
       "array([1921, 1922, 1923, 1924, 1925, 1926, 1927, 1928, 1929, 1930, 1931,\n",
       "       1932, 1933, 1934, 1935, 1936, 1937, 1938, 1939, 1940, 1941, 1942,\n",
       "       1943, 1944, 1945, 1946, 1947, 1948, 1949, 1950, 1951, 1952, 1953,\n",
       "       1954, 1955, 1956, 1957, 1958, 1959, 1960, 1961, 1962, 1963, 1964,\n",
       "       1965, 1966, 1967, 1968, 1969, 1970, 1971, 1972, 1973, 1974, 1975,\n",
       "       1976, 1977, 1978, 1979, 1980, 1981, 1982, 1983, 1984, 1985, 1986,\n",
       "       1987, 1988, 1989, 1990, 1991, 1992, 1993, 1994, 1995, 1996, 1997,\n",
       "       1998, 1999, 2000, 2001, 2002, 2003, 2004, 2005, 2006, 2007, 2008,\n",
       "       2009, 2010, 2011, 2012, 2013, 2014, 2015, 2016, 2017, 2018, 2019,\n",
       "       2020])"
      ]
     },
     "execution_count": 112,
     "metadata": {},
     "output_type": "execute_result"
    }
   ],
   "source": [
    "data_by_year[\"year\"].unique()"
   ]
  },
  {
   "cell_type": "code",
   "execution_count": 113,
   "metadata": {},
   "outputs": [
    {
     "data": {
      "text/plain": [
       "array([2000, 2001, 2002, 2003, 2004, 2005, 2006, 2007, 2008, 2009, 2010,\n",
       "       2011, 2012, 2013, 2014, 2015, 2016, 2017, 2018, 2019, 2020])"
      ]
     },
     "execution_count": 113,
     "metadata": {},
     "output_type": "execute_result"
    }
   ],
   "source": [
    "data_by_year = data_by_year[data_by_year[\"year\"]>1999]\n",
    "data_by_year[\"year\"].unique()"
   ]
  },
  {
   "cell_type": "code",
   "execution_count": 114,
   "metadata": {},
   "outputs": [
    {
     "data": {
      "text/html": [
       "<div>\n",
       "<style scoped>\n",
       "    .dataframe tbody tr th:only-of-type {\n",
       "        vertical-align: middle;\n",
       "    }\n",
       "\n",
       "    .dataframe tbody tr th {\n",
       "        vertical-align: top;\n",
       "    }\n",
       "\n",
       "    .dataframe thead th {\n",
       "        text-align: right;\n",
       "    }\n",
       "</style>\n",
       "<table border=\"1\" class=\"dataframe\">\n",
       "  <thead>\n",
       "    <tr style=\"text-align: right;\">\n",
       "      <th></th>\n",
       "      <th>year</th>\n",
       "      <th>acousticness</th>\n",
       "      <th>danceability</th>\n",
       "      <th>duration_ms</th>\n",
       "      <th>energy</th>\n",
       "      <th>instrumentalness</th>\n",
       "      <th>liveness</th>\n",
       "      <th>loudness</th>\n",
       "      <th>speechiness</th>\n",
       "      <th>tempo</th>\n",
       "      <th>valence</th>\n",
       "      <th>popularity</th>\n",
       "    </tr>\n",
       "  </thead>\n",
       "  <tbody>\n",
       "    <tr>\n",
       "      <th>79</th>\n",
       "      <td>2000</td>\n",
       "      <td>0.289323</td>\n",
       "      <td>0.590918</td>\n",
       "      <td>242724.642638</td>\n",
       "      <td>0.625413</td>\n",
       "      <td>0.101168</td>\n",
       "      <td>0.197686</td>\n",
       "      <td>-8.247766</td>\n",
       "      <td>0.089205</td>\n",
       "      <td>118.999323</td>\n",
       "      <td>0.559475</td>\n",
       "      <td>46.684049</td>\n",
       "    </tr>\n",
       "    <tr>\n",
       "      <th>80</th>\n",
       "      <td>2001</td>\n",
       "      <td>0.286842</td>\n",
       "      <td>0.583318</td>\n",
       "      <td>240307.796010</td>\n",
       "      <td>0.626986</td>\n",
       "      <td>0.107214</td>\n",
       "      <td>0.187026</td>\n",
       "      <td>-8.305095</td>\n",
       "      <td>0.089182</td>\n",
       "      <td>117.765399</td>\n",
       "      <td>0.541479</td>\n",
       "      <td>48.750125</td>\n",
       "    </tr>\n",
       "    <tr>\n",
       "      <th>81</th>\n",
       "      <td>2002</td>\n",
       "      <td>0.282624</td>\n",
       "      <td>0.576160</td>\n",
       "      <td>239503.283000</td>\n",
       "      <td>0.641270</td>\n",
       "      <td>0.088048</td>\n",
       "      <td>0.193911</td>\n",
       "      <td>-7.686640</td>\n",
       "      <td>0.084308</td>\n",
       "      <td>119.239738</td>\n",
       "      <td>0.542397</td>\n",
       "      <td>48.655500</td>\n",
       "    </tr>\n",
       "    <tr>\n",
       "      <th>82</th>\n",
       "      <td>2003</td>\n",
       "      <td>0.256471</td>\n",
       "      <td>0.575763</td>\n",
       "      <td>244670.575230</td>\n",
       "      <td>0.660165</td>\n",
       "      <td>0.083049</td>\n",
       "      <td>0.196976</td>\n",
       "      <td>-7.485545</td>\n",
       "      <td>0.093926</td>\n",
       "      <td>120.914622</td>\n",
       "      <td>0.530504</td>\n",
       "      <td>48.626407</td>\n",
       "    </tr>\n",
       "    <tr>\n",
       "      <th>83</th>\n",
       "      <td>2004</td>\n",
       "      <td>0.280559</td>\n",
       "      <td>0.567680</td>\n",
       "      <td>237378.708037</td>\n",
       "      <td>0.648868</td>\n",
       "      <td>0.077934</td>\n",
       "      <td>0.202199</td>\n",
       "      <td>-7.601655</td>\n",
       "      <td>0.094239</td>\n",
       "      <td>121.290346</td>\n",
       "      <td>0.524489</td>\n",
       "      <td>49.273143</td>\n",
       "    </tr>\n",
       "  </tbody>\n",
       "</table>\n",
       "</div>"
      ],
      "text/plain": [
       "    year  acousticness  danceability    duration_ms    energy  \\\n",
       "79  2000      0.289323      0.590918  242724.642638  0.625413   \n",
       "80  2001      0.286842      0.583318  240307.796010  0.626986   \n",
       "81  2002      0.282624      0.576160  239503.283000  0.641270   \n",
       "82  2003      0.256471      0.575763  244670.575230  0.660165   \n",
       "83  2004      0.280559      0.567680  237378.708037  0.648868   \n",
       "\n",
       "    instrumentalness  liveness  loudness  speechiness       tempo   valence  \\\n",
       "79          0.101168  0.197686 -8.247766     0.089205  118.999323  0.559475   \n",
       "80          0.107214  0.187026 -8.305095     0.089182  117.765399  0.541479   \n",
       "81          0.088048  0.193911 -7.686640     0.084308  119.239738  0.542397   \n",
       "82          0.083049  0.196976 -7.485545     0.093926  120.914622  0.530504   \n",
       "83          0.077934  0.202199 -7.601655     0.094239  121.290346  0.524489   \n",
       "\n",
       "    popularity  \n",
       "79   46.684049  \n",
       "80   48.750125  \n",
       "81   48.655500  \n",
       "82   48.626407  \n",
       "83   49.273143  "
      ]
     },
     "execution_count": 114,
     "metadata": {},
     "output_type": "execute_result"
    }
   ],
   "source": [
    "data_by_year.head()"
   ]
  },
  {
   "cell_type": "code",
   "execution_count": 115,
   "metadata": {},
   "outputs": [
    {
     "data": {
      "text/html": [
       "<div>\n",
       "<style scoped>\n",
       "    .dataframe tbody tr th:only-of-type {\n",
       "        vertical-align: middle;\n",
       "    }\n",
       "\n",
       "    .dataframe tbody tr th {\n",
       "        vertical-align: top;\n",
       "    }\n",
       "\n",
       "    .dataframe thead th {\n",
       "        text-align: right;\n",
       "    }\n",
       "</style>\n",
       "<table border=\"1\" class=\"dataframe\">\n",
       "  <thead>\n",
       "    <tr style=\"text-align: right;\">\n",
       "      <th></th>\n",
       "      <th>index</th>\n",
       "      <th>year</th>\n",
       "      <th>acousticness</th>\n",
       "      <th>danceability</th>\n",
       "      <th>duration_ms</th>\n",
       "      <th>energy</th>\n",
       "      <th>instrumentalness</th>\n",
       "      <th>liveness</th>\n",
       "      <th>loudness</th>\n",
       "      <th>speechiness</th>\n",
       "      <th>tempo</th>\n",
       "      <th>valence</th>\n",
       "      <th>popularity</th>\n",
       "    </tr>\n",
       "  </thead>\n",
       "  <tbody>\n",
       "    <tr>\n",
       "      <th>0</th>\n",
       "      <td>79</td>\n",
       "      <td>2000</td>\n",
       "      <td>0.289323</td>\n",
       "      <td>0.590918</td>\n",
       "      <td>242724.642638</td>\n",
       "      <td>0.625413</td>\n",
       "      <td>0.101168</td>\n",
       "      <td>0.197686</td>\n",
       "      <td>-8.247766</td>\n",
       "      <td>0.089205</td>\n",
       "      <td>118.999323</td>\n",
       "      <td>0.559475</td>\n",
       "      <td>46.684049</td>\n",
       "    </tr>\n",
       "    <tr>\n",
       "      <th>1</th>\n",
       "      <td>80</td>\n",
       "      <td>2001</td>\n",
       "      <td>0.286842</td>\n",
       "      <td>0.583318</td>\n",
       "      <td>240307.796010</td>\n",
       "      <td>0.626986</td>\n",
       "      <td>0.107214</td>\n",
       "      <td>0.187026</td>\n",
       "      <td>-8.305095</td>\n",
       "      <td>0.089182</td>\n",
       "      <td>117.765399</td>\n",
       "      <td>0.541479</td>\n",
       "      <td>48.750125</td>\n",
       "    </tr>\n",
       "    <tr>\n",
       "      <th>2</th>\n",
       "      <td>81</td>\n",
       "      <td>2002</td>\n",
       "      <td>0.282624</td>\n",
       "      <td>0.576160</td>\n",
       "      <td>239503.283000</td>\n",
       "      <td>0.641270</td>\n",
       "      <td>0.088048</td>\n",
       "      <td>0.193911</td>\n",
       "      <td>-7.686640</td>\n",
       "      <td>0.084308</td>\n",
       "      <td>119.239738</td>\n",
       "      <td>0.542397</td>\n",
       "      <td>48.655500</td>\n",
       "    </tr>\n",
       "    <tr>\n",
       "      <th>3</th>\n",
       "      <td>82</td>\n",
       "      <td>2003</td>\n",
       "      <td>0.256471</td>\n",
       "      <td>0.575763</td>\n",
       "      <td>244670.575230</td>\n",
       "      <td>0.660165</td>\n",
       "      <td>0.083049</td>\n",
       "      <td>0.196976</td>\n",
       "      <td>-7.485545</td>\n",
       "      <td>0.093926</td>\n",
       "      <td>120.914622</td>\n",
       "      <td>0.530504</td>\n",
       "      <td>48.626407</td>\n",
       "    </tr>\n",
       "    <tr>\n",
       "      <th>4</th>\n",
       "      <td>83</td>\n",
       "      <td>2004</td>\n",
       "      <td>0.280559</td>\n",
       "      <td>0.567680</td>\n",
       "      <td>237378.708037</td>\n",
       "      <td>0.648868</td>\n",
       "      <td>0.077934</td>\n",
       "      <td>0.202199</td>\n",
       "      <td>-7.601655</td>\n",
       "      <td>0.094239</td>\n",
       "      <td>121.290346</td>\n",
       "      <td>0.524489</td>\n",
       "      <td>49.273143</td>\n",
       "    </tr>\n",
       "    <tr>\n",
       "      <th>5</th>\n",
       "      <td>84</td>\n",
       "      <td>2005</td>\n",
       "      <td>0.255764</td>\n",
       "      <td>0.572281</td>\n",
       "      <td>237229.588205</td>\n",
       "      <td>0.653209</td>\n",
       "      <td>0.090194</td>\n",
       "      <td>0.190082</td>\n",
       "      <td>-7.466159</td>\n",
       "      <td>0.093334</td>\n",
       "      <td>121.617967</td>\n",
       "      <td>0.532531</td>\n",
       "      <td>50.953333</td>\n",
       "    </tr>\n",
       "    <tr>\n",
       "      <th>6</th>\n",
       "      <td>85</td>\n",
       "      <td>2006</td>\n",
       "      <td>0.279986</td>\n",
       "      <td>0.568230</td>\n",
       "      <td>234042.914359</td>\n",
       "      <td>0.650326</td>\n",
       "      <td>0.077701</td>\n",
       "      <td>0.188289</td>\n",
       "      <td>-7.265501</td>\n",
       "      <td>0.085847</td>\n",
       "      <td>121.798615</td>\n",
       "      <td>0.520028</td>\n",
       "      <td>51.313846</td>\n",
       "    </tr>\n",
       "    <tr>\n",
       "      <th>7</th>\n",
       "      <td>86</td>\n",
       "      <td>2007</td>\n",
       "      <td>0.254081</td>\n",
       "      <td>0.563414</td>\n",
       "      <td>241049.962564</td>\n",
       "      <td>0.668305</td>\n",
       "      <td>0.072957</td>\n",
       "      <td>0.196127</td>\n",
       "      <td>-7.044536</td>\n",
       "      <td>0.084347</td>\n",
       "      <td>124.087516</td>\n",
       "      <td>0.516794</td>\n",
       "      <td>51.075897</td>\n",
       "    </tr>\n",
       "    <tr>\n",
       "      <th>8</th>\n",
       "      <td>87</td>\n",
       "      <td>2008</td>\n",
       "      <td>0.249192</td>\n",
       "      <td>0.579193</td>\n",
       "      <td>240107.315601</td>\n",
       "      <td>0.671461</td>\n",
       "      <td>0.063662</td>\n",
       "      <td>0.198431</td>\n",
       "      <td>-6.843804</td>\n",
       "      <td>0.077356</td>\n",
       "      <td>123.509934</td>\n",
       "      <td>0.527542</td>\n",
       "      <td>50.630179</td>\n",
       "    </tr>\n",
       "    <tr>\n",
       "      <th>9</th>\n",
       "      <td>88</td>\n",
       "      <td>2009</td>\n",
       "      <td>0.261929</td>\n",
       "      <td>0.564190</td>\n",
       "      <td>238140.013265</td>\n",
       "      <td>0.670749</td>\n",
       "      <td>0.075872</td>\n",
       "      <td>0.205252</td>\n",
       "      <td>-7.046015</td>\n",
       "      <td>0.085458</td>\n",
       "      <td>123.463808</td>\n",
       "      <td>0.507170</td>\n",
       "      <td>51.440816</td>\n",
       "    </tr>\n",
       "    <tr>\n",
       "      <th>10</th>\n",
       "      <td>89</td>\n",
       "      <td>2010</td>\n",
       "      <td>0.242687</td>\n",
       "      <td>0.572488</td>\n",
       "      <td>242811.804563</td>\n",
       "      <td>0.681778</td>\n",
       "      <td>0.082981</td>\n",
       "      <td>0.199701</td>\n",
       "      <td>-6.909904</td>\n",
       "      <td>0.081031</td>\n",
       "      <td>123.570215</td>\n",
       "      <td>0.520895</td>\n",
       "      <td>52.730159</td>\n",
       "    </tr>\n",
       "    <tr>\n",
       "      <th>11</th>\n",
       "      <td>90</td>\n",
       "      <td>2011</td>\n",
       "      <td>0.273183</td>\n",
       "      <td>0.552867</td>\n",
       "      <td>236998.787308</td>\n",
       "      <td>0.648301</td>\n",
       "      <td>0.103772</td>\n",
       "      <td>0.203309</td>\n",
       "      <td>-7.574986</td>\n",
       "      <td>0.087479</td>\n",
       "      <td>121.483997</td>\n",
       "      <td>0.472454</td>\n",
       "      <td>53.307387</td>\n",
       "    </tr>\n",
       "    <tr>\n",
       "      <th>12</th>\n",
       "      <td>91</td>\n",
       "      <td>2012</td>\n",
       "      <td>0.249953</td>\n",
       "      <td>0.570882</td>\n",
       "      <td>245807.457584</td>\n",
       "      <td>0.656571</td>\n",
       "      <td>0.085206</td>\n",
       "      <td>0.189733</td>\n",
       "      <td>-7.260550</td>\n",
       "      <td>0.081742</td>\n",
       "      <td>121.781736</td>\n",
       "      <td>0.462709</td>\n",
       "      <td>52.655013</td>\n",
       "    </tr>\n",
       "    <tr>\n",
       "      <th>13</th>\n",
       "      <td>92</td>\n",
       "      <td>2013</td>\n",
       "      <td>0.257488</td>\n",
       "      <td>0.571148</td>\n",
       "      <td>242267.661437</td>\n",
       "      <td>0.645597</td>\n",
       "      <td>0.098365</td>\n",
       "      <td>0.199631</td>\n",
       "      <td>-7.472039</td>\n",
       "      <td>0.093849</td>\n",
       "      <td>120.806829</td>\n",
       "      <td>0.454741</td>\n",
       "      <td>54.047065</td>\n",
       "    </tr>\n",
       "    <tr>\n",
       "      <th>14</th>\n",
       "      <td>93</td>\n",
       "      <td>2014</td>\n",
       "      <td>0.249313</td>\n",
       "      <td>0.589948</td>\n",
       "      <td>233728.314713</td>\n",
       "      <td>0.648795</td>\n",
       "      <td>0.076570</td>\n",
       "      <td>0.191822</td>\n",
       "      <td>-7.067440</td>\n",
       "      <td>0.084061</td>\n",
       "      <td>122.305263</td>\n",
       "      <td>0.463049</td>\n",
       "      <td>55.543142</td>\n",
       "    </tr>\n",
       "    <tr>\n",
       "      <th>15</th>\n",
       "      <td>94</td>\n",
       "      <td>2015</td>\n",
       "      <td>0.253952</td>\n",
       "      <td>0.593774</td>\n",
       "      <td>230029.046606</td>\n",
       "      <td>0.627064</td>\n",
       "      <td>0.106787</td>\n",
       "      <td>0.188856</td>\n",
       "      <td>-7.625639</td>\n",
       "      <td>0.096779</td>\n",
       "      <td>120.115411</td>\n",
       "      <td>0.432098</td>\n",
       "      <td>56.700608</td>\n",
       "    </tr>\n",
       "    <tr>\n",
       "      <th>16</th>\n",
       "      <td>95</td>\n",
       "      <td>2016</td>\n",
       "      <td>0.284171</td>\n",
       "      <td>0.600202</td>\n",
       "      <td>221396.510295</td>\n",
       "      <td>0.592855</td>\n",
       "      <td>0.093984</td>\n",
       "      <td>0.181170</td>\n",
       "      <td>-8.061056</td>\n",
       "      <td>0.104313</td>\n",
       "      <td>118.652630</td>\n",
       "      <td>0.431532</td>\n",
       "      <td>59.647190</td>\n",
       "    </tr>\n",
       "    <tr>\n",
       "      <th>17</th>\n",
       "      <td>96</td>\n",
       "      <td>2017</td>\n",
       "      <td>0.286099</td>\n",
       "      <td>0.612217</td>\n",
       "      <td>211115.696787</td>\n",
       "      <td>0.590421</td>\n",
       "      <td>0.097091</td>\n",
       "      <td>0.191713</td>\n",
       "      <td>-8.312630</td>\n",
       "      <td>0.110536</td>\n",
       "      <td>117.202740</td>\n",
       "      <td>0.416476</td>\n",
       "      <td>63.263554</td>\n",
       "    </tr>\n",
       "    <tr>\n",
       "      <th>18</th>\n",
       "      <td>97</td>\n",
       "      <td>2018</td>\n",
       "      <td>0.267633</td>\n",
       "      <td>0.663500</td>\n",
       "      <td>206001.007133</td>\n",
       "      <td>0.602435</td>\n",
       "      <td>0.054217</td>\n",
       "      <td>0.176326</td>\n",
       "      <td>-7.168785</td>\n",
       "      <td>0.127176</td>\n",
       "      <td>121.922308</td>\n",
       "      <td>0.447921</td>\n",
       "      <td>63.296243</td>\n",
       "    </tr>\n",
       "    <tr>\n",
       "      <th>19</th>\n",
       "      <td>98</td>\n",
       "      <td>2019</td>\n",
       "      <td>0.278299</td>\n",
       "      <td>0.644814</td>\n",
       "      <td>201024.788096</td>\n",
       "      <td>0.593224</td>\n",
       "      <td>0.077640</td>\n",
       "      <td>0.172616</td>\n",
       "      <td>-7.722192</td>\n",
       "      <td>0.121043</td>\n",
       "      <td>120.235644</td>\n",
       "      <td>0.458818</td>\n",
       "      <td>65.256542</td>\n",
       "    </tr>\n",
       "    <tr>\n",
       "      <th>20</th>\n",
       "      <td>99</td>\n",
       "      <td>2020</td>\n",
       "      <td>0.219931</td>\n",
       "      <td>0.692904</td>\n",
       "      <td>193728.397537</td>\n",
       "      <td>0.631232</td>\n",
       "      <td>0.016376</td>\n",
       "      <td>0.178535</td>\n",
       "      <td>-6.595067</td>\n",
       "      <td>0.141384</td>\n",
       "      <td>124.283129</td>\n",
       "      <td>0.501048</td>\n",
       "      <td>64.301970</td>\n",
       "    </tr>\n",
       "  </tbody>\n",
       "</table>\n",
       "</div>"
      ],
      "text/plain": [
       "    index  year  acousticness  danceability    duration_ms    energy  \\\n",
       "0      79  2000      0.289323      0.590918  242724.642638  0.625413   \n",
       "1      80  2001      0.286842      0.583318  240307.796010  0.626986   \n",
       "2      81  2002      0.282624      0.576160  239503.283000  0.641270   \n",
       "3      82  2003      0.256471      0.575763  244670.575230  0.660165   \n",
       "4      83  2004      0.280559      0.567680  237378.708037  0.648868   \n",
       "5      84  2005      0.255764      0.572281  237229.588205  0.653209   \n",
       "6      85  2006      0.279986      0.568230  234042.914359  0.650326   \n",
       "7      86  2007      0.254081      0.563414  241049.962564  0.668305   \n",
       "8      87  2008      0.249192      0.579193  240107.315601  0.671461   \n",
       "9      88  2009      0.261929      0.564190  238140.013265  0.670749   \n",
       "10     89  2010      0.242687      0.572488  242811.804563  0.681778   \n",
       "11     90  2011      0.273183      0.552867  236998.787308  0.648301   \n",
       "12     91  2012      0.249953      0.570882  245807.457584  0.656571   \n",
       "13     92  2013      0.257488      0.571148  242267.661437  0.645597   \n",
       "14     93  2014      0.249313      0.589948  233728.314713  0.648795   \n",
       "15     94  2015      0.253952      0.593774  230029.046606  0.627064   \n",
       "16     95  2016      0.284171      0.600202  221396.510295  0.592855   \n",
       "17     96  2017      0.286099      0.612217  211115.696787  0.590421   \n",
       "18     97  2018      0.267633      0.663500  206001.007133  0.602435   \n",
       "19     98  2019      0.278299      0.644814  201024.788096  0.593224   \n",
       "20     99  2020      0.219931      0.692904  193728.397537  0.631232   \n",
       "\n",
       "    instrumentalness  liveness  loudness  speechiness       tempo   valence  \\\n",
       "0           0.101168  0.197686 -8.247766     0.089205  118.999323  0.559475   \n",
       "1           0.107214  0.187026 -8.305095     0.089182  117.765399  0.541479   \n",
       "2           0.088048  0.193911 -7.686640     0.084308  119.239738  0.542397   \n",
       "3           0.083049  0.196976 -7.485545     0.093926  120.914622  0.530504   \n",
       "4           0.077934  0.202199 -7.601655     0.094239  121.290346  0.524489   \n",
       "5           0.090194  0.190082 -7.466159     0.093334  121.617967  0.532531   \n",
       "6           0.077701  0.188289 -7.265501     0.085847  121.798615  0.520028   \n",
       "7           0.072957  0.196127 -7.044536     0.084347  124.087516  0.516794   \n",
       "8           0.063662  0.198431 -6.843804     0.077356  123.509934  0.527542   \n",
       "9           0.075872  0.205252 -7.046015     0.085458  123.463808  0.507170   \n",
       "10          0.082981  0.199701 -6.909904     0.081031  123.570215  0.520895   \n",
       "11          0.103772  0.203309 -7.574986     0.087479  121.483997  0.472454   \n",
       "12          0.085206  0.189733 -7.260550     0.081742  121.781736  0.462709   \n",
       "13          0.098365  0.199631 -7.472039     0.093849  120.806829  0.454741   \n",
       "14          0.076570  0.191822 -7.067440     0.084061  122.305263  0.463049   \n",
       "15          0.106787  0.188856 -7.625639     0.096779  120.115411  0.432098   \n",
       "16          0.093984  0.181170 -8.061056     0.104313  118.652630  0.431532   \n",
       "17          0.097091  0.191713 -8.312630     0.110536  117.202740  0.416476   \n",
       "18          0.054217  0.176326 -7.168785     0.127176  121.922308  0.447921   \n",
       "19          0.077640  0.172616 -7.722192     0.121043  120.235644  0.458818   \n",
       "20          0.016376  0.178535 -6.595067     0.141384  124.283129  0.501048   \n",
       "\n",
       "    popularity  \n",
       "0    46.684049  \n",
       "1    48.750125  \n",
       "2    48.655500  \n",
       "3    48.626407  \n",
       "4    49.273143  \n",
       "5    50.953333  \n",
       "6    51.313846  \n",
       "7    51.075897  \n",
       "8    50.630179  \n",
       "9    51.440816  \n",
       "10   52.730159  \n",
       "11   53.307387  \n",
       "12   52.655013  \n",
       "13   54.047065  \n",
       "14   55.543142  \n",
       "15   56.700608  \n",
       "16   59.647190  \n",
       "17   63.263554  \n",
       "18   63.296243  \n",
       "19   65.256542  \n",
       "20   64.301970  "
      ]
     },
     "execution_count": 115,
     "metadata": {},
     "output_type": "execute_result"
    }
   ],
   "source": [
    "data_by_year.reset_index()"
   ]
  },
  {
   "cell_type": "markdown",
   "metadata": {},
   "source": [
    "## 1.5 Análise Gráfica"
   ]
  },
  {
   "cell_type": "code",
   "execution_count": 116,
   "metadata": {},
   "outputs": [],
   "source": [
    "import plotly.express as px"
   ]
  },
  {
   "cell_type": "code",
   "execution_count": 117,
   "metadata": {
    "scrolled": true
   },
   "outputs": [
    {
     "data": {
      "application/vnd.plotly.v1+json": {
       "config": {
        "plotlyServerURL": "https://plot.ly"
       },
       "data": [
        {
         "hovertemplate": "year=%{x}<br>loudness=%{y}<extra></extra>",
         "legendgroup": "",
         "line": {
          "color": "#636efa",
          "dash": "solid"
         },
         "marker": {
          "symbol": "circle"
         },
         "mode": "lines+markers",
         "name": "",
         "orientation": "v",
         "showlegend": false,
         "type": "scatter",
         "x": [
          2000,
          2001,
          2002,
          2003,
          2004,
          2005,
          2006,
          2007,
          2008,
          2009,
          2010,
          2011,
          2012,
          2013,
          2014,
          2015,
          2016,
          2017,
          2018,
          2019,
          2020
         ],
         "xaxis": "x",
         "y": [
          -8.247765848670758,
          -8.305095261845384,
          -7.686639500000013,
          -7.485545035823955,
          -7.601655137334684,
          -7.46615897435897,
          -7.265500512820514,
          -7.044535897435892,
          -6.8438040920716166,
          -7.0460147959183645,
          -6.9099042658730125,
          -7.574986117997006,
          -7.260549614395888,
          -7.472039473684207,
          -7.06743990024938,
          -7.625639311043569,
          -8.061056204785759,
          -8.31262951807228,
          -7.168785068949124,
          -7.722191893278596,
          -6.595066995073878
         ],
         "yaxis": "y"
        }
       ],
       "layout": {
        "legend": {
         "tracegroupgap": 0
        },
        "template": {
         "data": {
          "bar": [
           {
            "error_x": {
             "color": "#2a3f5f"
            },
            "error_y": {
             "color": "#2a3f5f"
            },
            "marker": {
             "line": {
              "color": "#E5ECF6",
              "width": 0.5
             },
             "pattern": {
              "fillmode": "overlay",
              "size": 10,
              "solidity": 0.2
             }
            },
            "type": "bar"
           }
          ],
          "barpolar": [
           {
            "marker": {
             "line": {
              "color": "#E5ECF6",
              "width": 0.5
             },
             "pattern": {
              "fillmode": "overlay",
              "size": 10,
              "solidity": 0.2
             }
            },
            "type": "barpolar"
           }
          ],
          "carpet": [
           {
            "aaxis": {
             "endlinecolor": "#2a3f5f",
             "gridcolor": "white",
             "linecolor": "white",
             "minorgridcolor": "white",
             "startlinecolor": "#2a3f5f"
            },
            "baxis": {
             "endlinecolor": "#2a3f5f",
             "gridcolor": "white",
             "linecolor": "white",
             "minorgridcolor": "white",
             "startlinecolor": "#2a3f5f"
            },
            "type": "carpet"
           }
          ],
          "choropleth": [
           {
            "colorbar": {
             "outlinewidth": 0,
             "ticks": ""
            },
            "type": "choropleth"
           }
          ],
          "contour": [
           {
            "colorbar": {
             "outlinewidth": 0,
             "ticks": ""
            },
            "colorscale": [
             [
              0,
              "#0d0887"
             ],
             [
              0.1111111111111111,
              "#46039f"
             ],
             [
              0.2222222222222222,
              "#7201a8"
             ],
             [
              0.3333333333333333,
              "#9c179e"
             ],
             [
              0.4444444444444444,
              "#bd3786"
             ],
             [
              0.5555555555555556,
              "#d8576b"
             ],
             [
              0.6666666666666666,
              "#ed7953"
             ],
             [
              0.7777777777777778,
              "#fb9f3a"
             ],
             [
              0.8888888888888888,
              "#fdca26"
             ],
             [
              1,
              "#f0f921"
             ]
            ],
            "type": "contour"
           }
          ],
          "contourcarpet": [
           {
            "colorbar": {
             "outlinewidth": 0,
             "ticks": ""
            },
            "type": "contourcarpet"
           }
          ],
          "heatmap": [
           {
            "colorbar": {
             "outlinewidth": 0,
             "ticks": ""
            },
            "colorscale": [
             [
              0,
              "#0d0887"
             ],
             [
              0.1111111111111111,
              "#46039f"
             ],
             [
              0.2222222222222222,
              "#7201a8"
             ],
             [
              0.3333333333333333,
              "#9c179e"
             ],
             [
              0.4444444444444444,
              "#bd3786"
             ],
             [
              0.5555555555555556,
              "#d8576b"
             ],
             [
              0.6666666666666666,
              "#ed7953"
             ],
             [
              0.7777777777777778,
              "#fb9f3a"
             ],
             [
              0.8888888888888888,
              "#fdca26"
             ],
             [
              1,
              "#f0f921"
             ]
            ],
            "type": "heatmap"
           }
          ],
          "heatmapgl": [
           {
            "colorbar": {
             "outlinewidth": 0,
             "ticks": ""
            },
            "colorscale": [
             [
              0,
              "#0d0887"
             ],
             [
              0.1111111111111111,
              "#46039f"
             ],
             [
              0.2222222222222222,
              "#7201a8"
             ],
             [
              0.3333333333333333,
              "#9c179e"
             ],
             [
              0.4444444444444444,
              "#bd3786"
             ],
             [
              0.5555555555555556,
              "#d8576b"
             ],
             [
              0.6666666666666666,
              "#ed7953"
             ],
             [
              0.7777777777777778,
              "#fb9f3a"
             ],
             [
              0.8888888888888888,
              "#fdca26"
             ],
             [
              1,
              "#f0f921"
             ]
            ],
            "type": "heatmapgl"
           }
          ],
          "histogram": [
           {
            "marker": {
             "pattern": {
              "fillmode": "overlay",
              "size": 10,
              "solidity": 0.2
             }
            },
            "type": "histogram"
           }
          ],
          "histogram2d": [
           {
            "colorbar": {
             "outlinewidth": 0,
             "ticks": ""
            },
            "colorscale": [
             [
              0,
              "#0d0887"
             ],
             [
              0.1111111111111111,
              "#46039f"
             ],
             [
              0.2222222222222222,
              "#7201a8"
             ],
             [
              0.3333333333333333,
              "#9c179e"
             ],
             [
              0.4444444444444444,
              "#bd3786"
             ],
             [
              0.5555555555555556,
              "#d8576b"
             ],
             [
              0.6666666666666666,
              "#ed7953"
             ],
             [
              0.7777777777777778,
              "#fb9f3a"
             ],
             [
              0.8888888888888888,
              "#fdca26"
             ],
             [
              1,
              "#f0f921"
             ]
            ],
            "type": "histogram2d"
           }
          ],
          "histogram2dcontour": [
           {
            "colorbar": {
             "outlinewidth": 0,
             "ticks": ""
            },
            "colorscale": [
             [
              0,
              "#0d0887"
             ],
             [
              0.1111111111111111,
              "#46039f"
             ],
             [
              0.2222222222222222,
              "#7201a8"
             ],
             [
              0.3333333333333333,
              "#9c179e"
             ],
             [
              0.4444444444444444,
              "#bd3786"
             ],
             [
              0.5555555555555556,
              "#d8576b"
             ],
             [
              0.6666666666666666,
              "#ed7953"
             ],
             [
              0.7777777777777778,
              "#fb9f3a"
             ],
             [
              0.8888888888888888,
              "#fdca26"
             ],
             [
              1,
              "#f0f921"
             ]
            ],
            "type": "histogram2dcontour"
           }
          ],
          "mesh3d": [
           {
            "colorbar": {
             "outlinewidth": 0,
             "ticks": ""
            },
            "type": "mesh3d"
           }
          ],
          "parcoords": [
           {
            "line": {
             "colorbar": {
              "outlinewidth": 0,
              "ticks": ""
             }
            },
            "type": "parcoords"
           }
          ],
          "pie": [
           {
            "automargin": true,
            "type": "pie"
           }
          ],
          "scatter": [
           {
            "fillpattern": {
             "fillmode": "overlay",
             "size": 10,
             "solidity": 0.2
            },
            "type": "scatter"
           }
          ],
          "scatter3d": [
           {
            "line": {
             "colorbar": {
              "outlinewidth": 0,
              "ticks": ""
             }
            },
            "marker": {
             "colorbar": {
              "outlinewidth": 0,
              "ticks": ""
             }
            },
            "type": "scatter3d"
           }
          ],
          "scattercarpet": [
           {
            "marker": {
             "colorbar": {
              "outlinewidth": 0,
              "ticks": ""
             }
            },
            "type": "scattercarpet"
           }
          ],
          "scattergeo": [
           {
            "marker": {
             "colorbar": {
              "outlinewidth": 0,
              "ticks": ""
             }
            },
            "type": "scattergeo"
           }
          ],
          "scattergl": [
           {
            "marker": {
             "colorbar": {
              "outlinewidth": 0,
              "ticks": ""
             }
            },
            "type": "scattergl"
           }
          ],
          "scattermapbox": [
           {
            "marker": {
             "colorbar": {
              "outlinewidth": 0,
              "ticks": ""
             }
            },
            "type": "scattermapbox"
           }
          ],
          "scatterpolar": [
           {
            "marker": {
             "colorbar": {
              "outlinewidth": 0,
              "ticks": ""
             }
            },
            "type": "scatterpolar"
           }
          ],
          "scatterpolargl": [
           {
            "marker": {
             "colorbar": {
              "outlinewidth": 0,
              "ticks": ""
             }
            },
            "type": "scatterpolargl"
           }
          ],
          "scatterternary": [
           {
            "marker": {
             "colorbar": {
              "outlinewidth": 0,
              "ticks": ""
             }
            },
            "type": "scatterternary"
           }
          ],
          "surface": [
           {
            "colorbar": {
             "outlinewidth": 0,
             "ticks": ""
            },
            "colorscale": [
             [
              0,
              "#0d0887"
             ],
             [
              0.1111111111111111,
              "#46039f"
             ],
             [
              0.2222222222222222,
              "#7201a8"
             ],
             [
              0.3333333333333333,
              "#9c179e"
             ],
             [
              0.4444444444444444,
              "#bd3786"
             ],
             [
              0.5555555555555556,
              "#d8576b"
             ],
             [
              0.6666666666666666,
              "#ed7953"
             ],
             [
              0.7777777777777778,
              "#fb9f3a"
             ],
             [
              0.8888888888888888,
              "#fdca26"
             ],
             [
              1,
              "#f0f921"
             ]
            ],
            "type": "surface"
           }
          ],
          "table": [
           {
            "cells": {
             "fill": {
              "color": "#EBF0F8"
             },
             "line": {
              "color": "white"
             }
            },
            "header": {
             "fill": {
              "color": "#C8D4E3"
             },
             "line": {
              "color": "white"
             }
            },
            "type": "table"
           }
          ]
         },
         "layout": {
          "annotationdefaults": {
           "arrowcolor": "#2a3f5f",
           "arrowhead": 0,
           "arrowwidth": 1
          },
          "autotypenumbers": "strict",
          "coloraxis": {
           "colorbar": {
            "outlinewidth": 0,
            "ticks": ""
           }
          },
          "colorscale": {
           "diverging": [
            [
             0,
             "#8e0152"
            ],
            [
             0.1,
             "#c51b7d"
            ],
            [
             0.2,
             "#de77ae"
            ],
            [
             0.3,
             "#f1b6da"
            ],
            [
             0.4,
             "#fde0ef"
            ],
            [
             0.5,
             "#f7f7f7"
            ],
            [
             0.6,
             "#e6f5d0"
            ],
            [
             0.7,
             "#b8e186"
            ],
            [
             0.8,
             "#7fbc41"
            ],
            [
             0.9,
             "#4d9221"
            ],
            [
             1,
             "#276419"
            ]
           ],
           "sequential": [
            [
             0,
             "#0d0887"
            ],
            [
             0.1111111111111111,
             "#46039f"
            ],
            [
             0.2222222222222222,
             "#7201a8"
            ],
            [
             0.3333333333333333,
             "#9c179e"
            ],
            [
             0.4444444444444444,
             "#bd3786"
            ],
            [
             0.5555555555555556,
             "#d8576b"
            ],
            [
             0.6666666666666666,
             "#ed7953"
            ],
            [
             0.7777777777777778,
             "#fb9f3a"
            ],
            [
             0.8888888888888888,
             "#fdca26"
            ],
            [
             1,
             "#f0f921"
            ]
           ],
           "sequentialminus": [
            [
             0,
             "#0d0887"
            ],
            [
             0.1111111111111111,
             "#46039f"
            ],
            [
             0.2222222222222222,
             "#7201a8"
            ],
            [
             0.3333333333333333,
             "#9c179e"
            ],
            [
             0.4444444444444444,
             "#bd3786"
            ],
            [
             0.5555555555555556,
             "#d8576b"
            ],
            [
             0.6666666666666666,
             "#ed7953"
            ],
            [
             0.7777777777777778,
             "#fb9f3a"
            ],
            [
             0.8888888888888888,
             "#fdca26"
            ],
            [
             1,
             "#f0f921"
            ]
           ]
          },
          "colorway": [
           "#636efa",
           "#EF553B",
           "#00cc96",
           "#ab63fa",
           "#FFA15A",
           "#19d3f3",
           "#FF6692",
           "#B6E880",
           "#FF97FF",
           "#FECB52"
          ],
          "font": {
           "color": "#2a3f5f"
          },
          "geo": {
           "bgcolor": "white",
           "lakecolor": "white",
           "landcolor": "#E5ECF6",
           "showlakes": true,
           "showland": true,
           "subunitcolor": "white"
          },
          "hoverlabel": {
           "align": "left"
          },
          "hovermode": "closest",
          "mapbox": {
           "style": "light"
          },
          "paper_bgcolor": "white",
          "plot_bgcolor": "#E5ECF6",
          "polar": {
           "angularaxis": {
            "gridcolor": "white",
            "linecolor": "white",
            "ticks": ""
           },
           "bgcolor": "#E5ECF6",
           "radialaxis": {
            "gridcolor": "white",
            "linecolor": "white",
            "ticks": ""
           }
          },
          "scene": {
           "xaxis": {
            "backgroundcolor": "#E5ECF6",
            "gridcolor": "white",
            "gridwidth": 2,
            "linecolor": "white",
            "showbackground": true,
            "ticks": "",
            "zerolinecolor": "white"
           },
           "yaxis": {
            "backgroundcolor": "#E5ECF6",
            "gridcolor": "white",
            "gridwidth": 2,
            "linecolor": "white",
            "showbackground": true,
            "ticks": "",
            "zerolinecolor": "white"
           },
           "zaxis": {
            "backgroundcolor": "#E5ECF6",
            "gridcolor": "white",
            "gridwidth": 2,
            "linecolor": "white",
            "showbackground": true,
            "ticks": "",
            "zerolinecolor": "white"
           }
          },
          "shapedefaults": {
           "line": {
            "color": "#2a3f5f"
           }
          },
          "ternary": {
           "aaxis": {
            "gridcolor": "white",
            "linecolor": "white",
            "ticks": ""
           },
           "baxis": {
            "gridcolor": "white",
            "linecolor": "white",
            "ticks": ""
           },
           "bgcolor": "#E5ECF6",
           "caxis": {
            "gridcolor": "white",
            "linecolor": "white",
            "ticks": ""
           }
          },
          "title": {
           "x": 0.05
          },
          "xaxis": {
           "automargin": true,
           "gridcolor": "white",
           "linecolor": "white",
           "ticks": "",
           "title": {
            "standoff": 15
           },
           "zerolinecolor": "white",
           "zerolinewidth": 2
          },
          "yaxis": {
           "automargin": true,
           "gridcolor": "white",
           "linecolor": "white",
           "ticks": "",
           "title": {
            "standoff": 15
           },
           "zerolinecolor": "white",
           "zerolinewidth": 2
          }
         }
        },
        "title": {
         "text": "Loudness Variation by Years"
        },
        "xaxis": {
         "anchor": "y",
         "domain": [
          0,
          1
         ],
         "title": {
          "text": "year"
         }
        },
        "yaxis": {
         "anchor": "x",
         "domain": [
          0,
          1
         ],
         "title": {
          "text": "loudness"
         }
        }
       }
      },
      "text/html": [
       "<div>                            <div id=\"986b6e06-d2d5-446a-bdb6-64a0caf291cd\" class=\"plotly-graph-div\" style=\"height:525px; width:100%;\"></div>            <script type=\"text/javascript\">                require([\"plotly\"], function(Plotly) {                    window.PLOTLYENV=window.PLOTLYENV || {};                                    if (document.getElementById(\"986b6e06-d2d5-446a-bdb6-64a0caf291cd\")) {                    Plotly.newPlot(                        \"986b6e06-d2d5-446a-bdb6-64a0caf291cd\",                        [{\"hovertemplate\":\"year=%{x}<br>loudness=%{y}<extra></extra>\",\"legendgroup\":\"\",\"line\":{\"color\":\"#636efa\",\"dash\":\"solid\"},\"marker\":{\"symbol\":\"circle\"},\"mode\":\"lines+markers\",\"name\":\"\",\"orientation\":\"v\",\"showlegend\":false,\"x\":[2000,2001,2002,2003,2004,2005,2006,2007,2008,2009,2010,2011,2012,2013,2014,2015,2016,2017,2018,2019,2020],\"xaxis\":\"x\",\"y\":[-8.247765848670758,-8.305095261845384,-7.686639500000013,-7.485545035823955,-7.601655137334684,-7.46615897435897,-7.265500512820514,-7.044535897435892,-6.8438040920716166,-7.0460147959183645,-6.9099042658730125,-7.574986117997006,-7.260549614395888,-7.472039473684207,-7.06743990024938,-7.625639311043569,-8.061056204785759,-8.31262951807228,-7.168785068949124,-7.722191893278596,-6.595066995073878],\"yaxis\":\"y\",\"type\":\"scatter\"}],                        {\"template\":{\"data\":{\"histogram2dcontour\":[{\"type\":\"histogram2dcontour\",\"colorbar\":{\"outlinewidth\":0,\"ticks\":\"\"},\"colorscale\":[[0.0,\"#0d0887\"],[0.1111111111111111,\"#46039f\"],[0.2222222222222222,\"#7201a8\"],[0.3333333333333333,\"#9c179e\"],[0.4444444444444444,\"#bd3786\"],[0.5555555555555556,\"#d8576b\"],[0.6666666666666666,\"#ed7953\"],[0.7777777777777778,\"#fb9f3a\"],[0.8888888888888888,\"#fdca26\"],[1.0,\"#f0f921\"]]}],\"choropleth\":[{\"type\":\"choropleth\",\"colorbar\":{\"outlinewidth\":0,\"ticks\":\"\"}}],\"histogram2d\":[{\"type\":\"histogram2d\",\"colorbar\":{\"outlinewidth\":0,\"ticks\":\"\"},\"colorscale\":[[0.0,\"#0d0887\"],[0.1111111111111111,\"#46039f\"],[0.2222222222222222,\"#7201a8\"],[0.3333333333333333,\"#9c179e\"],[0.4444444444444444,\"#bd3786\"],[0.5555555555555556,\"#d8576b\"],[0.6666666666666666,\"#ed7953\"],[0.7777777777777778,\"#fb9f3a\"],[0.8888888888888888,\"#fdca26\"],[1.0,\"#f0f921\"]]}],\"heatmap\":[{\"type\":\"heatmap\",\"colorbar\":{\"outlinewidth\":0,\"ticks\":\"\"},\"colorscale\":[[0.0,\"#0d0887\"],[0.1111111111111111,\"#46039f\"],[0.2222222222222222,\"#7201a8\"],[0.3333333333333333,\"#9c179e\"],[0.4444444444444444,\"#bd3786\"],[0.5555555555555556,\"#d8576b\"],[0.6666666666666666,\"#ed7953\"],[0.7777777777777778,\"#fb9f3a\"],[0.8888888888888888,\"#fdca26\"],[1.0,\"#f0f921\"]]}],\"heatmapgl\":[{\"type\":\"heatmapgl\",\"colorbar\":{\"outlinewidth\":0,\"ticks\":\"\"},\"colorscale\":[[0.0,\"#0d0887\"],[0.1111111111111111,\"#46039f\"],[0.2222222222222222,\"#7201a8\"],[0.3333333333333333,\"#9c179e\"],[0.4444444444444444,\"#bd3786\"],[0.5555555555555556,\"#d8576b\"],[0.6666666666666666,\"#ed7953\"],[0.7777777777777778,\"#fb9f3a\"],[0.8888888888888888,\"#fdca26\"],[1.0,\"#f0f921\"]]}],\"contourcarpet\":[{\"type\":\"contourcarpet\",\"colorbar\":{\"outlinewidth\":0,\"ticks\":\"\"}}],\"contour\":[{\"type\":\"contour\",\"colorbar\":{\"outlinewidth\":0,\"ticks\":\"\"},\"colorscale\":[[0.0,\"#0d0887\"],[0.1111111111111111,\"#46039f\"],[0.2222222222222222,\"#7201a8\"],[0.3333333333333333,\"#9c179e\"],[0.4444444444444444,\"#bd3786\"],[0.5555555555555556,\"#d8576b\"],[0.6666666666666666,\"#ed7953\"],[0.7777777777777778,\"#fb9f3a\"],[0.8888888888888888,\"#fdca26\"],[1.0,\"#f0f921\"]]}],\"surface\":[{\"type\":\"surface\",\"colorbar\":{\"outlinewidth\":0,\"ticks\":\"\"},\"colorscale\":[[0.0,\"#0d0887\"],[0.1111111111111111,\"#46039f\"],[0.2222222222222222,\"#7201a8\"],[0.3333333333333333,\"#9c179e\"],[0.4444444444444444,\"#bd3786\"],[0.5555555555555556,\"#d8576b\"],[0.6666666666666666,\"#ed7953\"],[0.7777777777777778,\"#fb9f3a\"],[0.8888888888888888,\"#fdca26\"],[1.0,\"#f0f921\"]]}],\"mesh3d\":[{\"type\":\"mesh3d\",\"colorbar\":{\"outlinewidth\":0,\"ticks\":\"\"}}],\"scatter\":[{\"fillpattern\":{\"fillmode\":\"overlay\",\"size\":10,\"solidity\":0.2},\"type\":\"scatter\"}],\"parcoords\":[{\"type\":\"parcoords\",\"line\":{\"colorbar\":{\"outlinewidth\":0,\"ticks\":\"\"}}}],\"scatterpolargl\":[{\"type\":\"scatterpolargl\",\"marker\":{\"colorbar\":{\"outlinewidth\":0,\"ticks\":\"\"}}}],\"bar\":[{\"error_x\":{\"color\":\"#2a3f5f\"},\"error_y\":{\"color\":\"#2a3f5f\"},\"marker\":{\"line\":{\"color\":\"#E5ECF6\",\"width\":0.5},\"pattern\":{\"fillmode\":\"overlay\",\"size\":10,\"solidity\":0.2}},\"type\":\"bar\"}],\"scattergeo\":[{\"type\":\"scattergeo\",\"marker\":{\"colorbar\":{\"outlinewidth\":0,\"ticks\":\"\"}}}],\"scatterpolar\":[{\"type\":\"scatterpolar\",\"marker\":{\"colorbar\":{\"outlinewidth\":0,\"ticks\":\"\"}}}],\"histogram\":[{\"marker\":{\"pattern\":{\"fillmode\":\"overlay\",\"size\":10,\"solidity\":0.2}},\"type\":\"histogram\"}],\"scattergl\":[{\"type\":\"scattergl\",\"marker\":{\"colorbar\":{\"outlinewidth\":0,\"ticks\":\"\"}}}],\"scatter3d\":[{\"type\":\"scatter3d\",\"line\":{\"colorbar\":{\"outlinewidth\":0,\"ticks\":\"\"}},\"marker\":{\"colorbar\":{\"outlinewidth\":0,\"ticks\":\"\"}}}],\"scattermapbox\":[{\"type\":\"scattermapbox\",\"marker\":{\"colorbar\":{\"outlinewidth\":0,\"ticks\":\"\"}}}],\"scatterternary\":[{\"type\":\"scatterternary\",\"marker\":{\"colorbar\":{\"outlinewidth\":0,\"ticks\":\"\"}}}],\"scattercarpet\":[{\"type\":\"scattercarpet\",\"marker\":{\"colorbar\":{\"outlinewidth\":0,\"ticks\":\"\"}}}],\"carpet\":[{\"aaxis\":{\"endlinecolor\":\"#2a3f5f\",\"gridcolor\":\"white\",\"linecolor\":\"white\",\"minorgridcolor\":\"white\",\"startlinecolor\":\"#2a3f5f\"},\"baxis\":{\"endlinecolor\":\"#2a3f5f\",\"gridcolor\":\"white\",\"linecolor\":\"white\",\"minorgridcolor\":\"white\",\"startlinecolor\":\"#2a3f5f\"},\"type\":\"carpet\"}],\"table\":[{\"cells\":{\"fill\":{\"color\":\"#EBF0F8\"},\"line\":{\"color\":\"white\"}},\"header\":{\"fill\":{\"color\":\"#C8D4E3\"},\"line\":{\"color\":\"white\"}},\"type\":\"table\"}],\"barpolar\":[{\"marker\":{\"line\":{\"color\":\"#E5ECF6\",\"width\":0.5},\"pattern\":{\"fillmode\":\"overlay\",\"size\":10,\"solidity\":0.2}},\"type\":\"barpolar\"}],\"pie\":[{\"automargin\":true,\"type\":\"pie\"}]},\"layout\":{\"autotypenumbers\":\"strict\",\"colorway\":[\"#636efa\",\"#EF553B\",\"#00cc96\",\"#ab63fa\",\"#FFA15A\",\"#19d3f3\",\"#FF6692\",\"#B6E880\",\"#FF97FF\",\"#FECB52\"],\"font\":{\"color\":\"#2a3f5f\"},\"hovermode\":\"closest\",\"hoverlabel\":{\"align\":\"left\"},\"paper_bgcolor\":\"white\",\"plot_bgcolor\":\"#E5ECF6\",\"polar\":{\"bgcolor\":\"#E5ECF6\",\"angularaxis\":{\"gridcolor\":\"white\",\"linecolor\":\"white\",\"ticks\":\"\"},\"radialaxis\":{\"gridcolor\":\"white\",\"linecolor\":\"white\",\"ticks\":\"\"}},\"ternary\":{\"bgcolor\":\"#E5ECF6\",\"aaxis\":{\"gridcolor\":\"white\",\"linecolor\":\"white\",\"ticks\":\"\"},\"baxis\":{\"gridcolor\":\"white\",\"linecolor\":\"white\",\"ticks\":\"\"},\"caxis\":{\"gridcolor\":\"white\",\"linecolor\":\"white\",\"ticks\":\"\"}},\"coloraxis\":{\"colorbar\":{\"outlinewidth\":0,\"ticks\":\"\"}},\"colorscale\":{\"sequential\":[[0.0,\"#0d0887\"],[0.1111111111111111,\"#46039f\"],[0.2222222222222222,\"#7201a8\"],[0.3333333333333333,\"#9c179e\"],[0.4444444444444444,\"#bd3786\"],[0.5555555555555556,\"#d8576b\"],[0.6666666666666666,\"#ed7953\"],[0.7777777777777778,\"#fb9f3a\"],[0.8888888888888888,\"#fdca26\"],[1.0,\"#f0f921\"]],\"sequentialminus\":[[0.0,\"#0d0887\"],[0.1111111111111111,\"#46039f\"],[0.2222222222222222,\"#7201a8\"],[0.3333333333333333,\"#9c179e\"],[0.4444444444444444,\"#bd3786\"],[0.5555555555555556,\"#d8576b\"],[0.6666666666666666,\"#ed7953\"],[0.7777777777777778,\"#fb9f3a\"],[0.8888888888888888,\"#fdca26\"],[1.0,\"#f0f921\"]],\"diverging\":[[0,\"#8e0152\"],[0.1,\"#c51b7d\"],[0.2,\"#de77ae\"],[0.3,\"#f1b6da\"],[0.4,\"#fde0ef\"],[0.5,\"#f7f7f7\"],[0.6,\"#e6f5d0\"],[0.7,\"#b8e186\"],[0.8,\"#7fbc41\"],[0.9,\"#4d9221\"],[1,\"#276419\"]]},\"xaxis\":{\"gridcolor\":\"white\",\"linecolor\":\"white\",\"ticks\":\"\",\"title\":{\"standoff\":15},\"zerolinecolor\":\"white\",\"automargin\":true,\"zerolinewidth\":2},\"yaxis\":{\"gridcolor\":\"white\",\"linecolor\":\"white\",\"ticks\":\"\",\"title\":{\"standoff\":15},\"zerolinecolor\":\"white\",\"automargin\":true,\"zerolinewidth\":2},\"scene\":{\"xaxis\":{\"backgroundcolor\":\"#E5ECF6\",\"gridcolor\":\"white\",\"linecolor\":\"white\",\"showbackground\":true,\"ticks\":\"\",\"zerolinecolor\":\"white\",\"gridwidth\":2},\"yaxis\":{\"backgroundcolor\":\"#E5ECF6\",\"gridcolor\":\"white\",\"linecolor\":\"white\",\"showbackground\":true,\"ticks\":\"\",\"zerolinecolor\":\"white\",\"gridwidth\":2},\"zaxis\":{\"backgroundcolor\":\"#E5ECF6\",\"gridcolor\":\"white\",\"linecolor\":\"white\",\"showbackground\":true,\"ticks\":\"\",\"zerolinecolor\":\"white\",\"gridwidth\":2}},\"shapedefaults\":{\"line\":{\"color\":\"#2a3f5f\"}},\"annotationdefaults\":{\"arrowcolor\":\"#2a3f5f\",\"arrowhead\":0,\"arrowwidth\":1},\"geo\":{\"bgcolor\":\"white\",\"landcolor\":\"#E5ECF6\",\"subunitcolor\":\"white\",\"showland\":true,\"showlakes\":true,\"lakecolor\":\"white\"},\"title\":{\"x\":0.05},\"mapbox\":{\"style\":\"light\"}}},\"xaxis\":{\"anchor\":\"y\",\"domain\":[0.0,1.0],\"title\":{\"text\":\"year\"}},\"yaxis\":{\"anchor\":\"x\",\"domain\":[0.0,1.0],\"title\":{\"text\":\"loudness\"}},\"legend\":{\"tracegroupgap\":0},\"title\":{\"text\":\"Loudness Variation by Years\"}},                        {\"responsive\": true}                    ).then(function(){\n",
       "                            \n",
       "var gd = document.getElementById('986b6e06-d2d5-446a-bdb6-64a0caf291cd');\n",
       "var x = new MutationObserver(function (mutations, observer) {{\n",
       "        var display = window.getComputedStyle(gd).display;\n",
       "        if (!display || display === 'none') {{\n",
       "            console.log([gd, 'removed!']);\n",
       "            Plotly.purge(gd);\n",
       "            observer.disconnect();\n",
       "        }}\n",
       "}});\n",
       "\n",
       "// Listen for the removal of the full notebook cells\n",
       "var notebookContainer = gd.closest('#notebook-container');\n",
       "if (notebookContainer) {{\n",
       "    x.observe(notebookContainer, {childList: true});\n",
       "}}\n",
       "\n",
       "// Listen for the clearing of the current output cell\n",
       "var outputEl = gd.closest('.output');\n",
       "if (outputEl) {{\n",
       "    x.observe(outputEl, {childList: true});\n",
       "}}\n",
       "\n",
       "                        })                };                });            </script>        </div>"
      ]
     },
     "metadata": {},
     "output_type": "display_data"
    }
   ],
   "source": [
    "fig = px.line(data_by_year, x=\"year\",y=\"loudness\",markers=True,title=\"Loudness Variation by Years\")\n",
    "fig.show()"
   ]
  },
  {
   "cell_type": "code",
   "execution_count": 118,
   "metadata": {},
   "outputs": [],
   "source": [
    "import plotly.graph_objects as go"
   ]
  },
  {
   "cell_type": "code",
   "execution_count": 119,
   "metadata": {
    "scrolled": true
   },
   "outputs": [
    {
     "data": {
      "application/vnd.plotly.v1+json": {
       "config": {
        "plotlyServerURL": "https://plot.ly"
       },
       "data": [
        {
         "name": "Acousticness",
         "type": "scatter",
         "x": [
          2000,
          2001,
          2002,
          2003,
          2004,
          2005,
          2006,
          2007,
          2008,
          2009,
          2010,
          2011,
          2012,
          2013,
          2014,
          2015,
          2016,
          2017,
          2018,
          2019,
          2020
         ],
         "y": [
          0.2893227005163599,
          0.2868424748428934,
          0.282624289885001,
          0.2564705181729783,
          0.2805589466225845,
          0.2557635068666665,
          0.2799863520256408,
          0.2540809575538463,
          0.2491917627212275,
          0.261928619096939,
          0.2426866435515872,
          0.2731826625185919,
          0.2499530443804624,
          0.2574880859564779,
          0.249312645880299,
          0.2539522577102332,
          0.2841710299554814,
          0.2860990665261043,
          0.2676329907750836,
          0.2782985863365824,
          0.2199308880935964
         ]
        },
        {
         "name": "Valence",
         "type": "scatter",
         "x": [
          2000,
          2001,
          2002,
          2003,
          2004,
          2005,
          2006,
          2007,
          2008,
          2009,
          2010,
          2011,
          2012,
          2013,
          2014,
          2015,
          2016,
          2017,
          2018,
          2019,
          2020
         ],
         "y": [
          0.5594754601226991,
          0.541479107231919,
          0.5423971500000008,
          0.5305042476970324,
          0.5244885554425227,
          0.5325309230769236,
          0.5200283076923078,
          0.5167938461538473,
          0.5275418925831203,
          0.5071696617346935,
          0.5208951587301589,
          0.4724536787307882,
          0.4627090128534706,
          0.4547411943319834,
          0.4630487780548628,
          0.4320983687943254,
          0.4315320589872012,
          0.4164763112449793,
          0.4479212743699474,
          0.4588176295536167,
          0.5010478078817729
         ]
        },
        {
         "name": "Danceability",
         "type": "scatter",
         "x": [
          2000,
          2001,
          2002,
          2003,
          2004,
          2005,
          2006,
          2007,
          2008,
          2009,
          2010,
          2011,
          2012,
          2013,
          2014,
          2015,
          2016,
          2017,
          2018,
          2019,
          2020
         ],
         "y": [
          0.590918047034764,
          0.5833178553615969,
          0.5761602999999997,
          0.5757633060388944,
          0.5676803662258397,
          0.5722805641025652,
          0.5682301538461539,
          0.5634143589743592,
          0.5791928388746803,
          0.5641903571428577,
          0.5724883432539687,
          0.5528669806643526,
          0.5708818508997433,
          0.5711480263157896,
          0.5899476807980057,
          0.5937740628166152,
          0.6002023928770179,
          0.6122170180722886,
          0.6635004755111744,
          0.6448141097998967,
          0.6929043349753701
         ]
        },
        {
         "name": "Energy",
         "type": "scatter",
         "x": [
          2000,
          2001,
          2002,
          2003,
          2004,
          2005,
          2006,
          2007,
          2008,
          2009,
          2010,
          2011,
          2012,
          2013,
          2014,
          2015,
          2016,
          2017,
          2018,
          2019,
          2020
         ],
         "y": [
          0.6254128323108387,
          0.6269855221945144,
          0.6412697960000012,
          0.6601652610030712,
          0.6488679450661226,
          0.653208511282051,
          0.6503262820512825,
          0.6683047743589737,
          0.6714608207672623,
          0.6707487551020408,
          0.6817778026289684,
          0.6483008934060499,
          0.6565714601542408,
          0.6455968914473688,
          0.6487954437905223,
          0.6270642715298895,
          0.5928552316082347,
          0.5904210208835337,
          0.6024346220161672,
          0.5932240360184717,
          0.6312316354679793
         ]
        },
        {
         "name": "Instrumentalness",
         "type": "scatter",
         "x": [
          2000,
          2001,
          2002,
          2003,
          2004,
          2005,
          2006,
          2007,
          2008,
          2009,
          2010,
          2011,
          2012,
          2013,
          2014,
          2015,
          2016,
          2017,
          2018,
          2019,
          2020
         ],
         "y": [
          0.1011677687934559,
          0.1072140189925186,
          0.0880483503149999,
          0.0830492746673491,
          0.0779340349084435,
          0.0901943611846154,
          0.0777014718769231,
          0.0729572680512819,
          0.0636620903171356,
          0.0758720736836735,
          0.0829805682192461,
          0.103772332166584,
          0.0852055206786631,
          0.0983650539170038,
          0.0765695548379051,
          0.1067868780547114,
          0.0939843871174179,
          0.0970906090662649,
          0.0542171216690441,
          0.0776402469728064,
          0.0163755243054187
         ]
        },
        {
         "name": "Liveness",
         "type": "scatter",
         "x": [
          2000,
          2001,
          2002,
          2003,
          2004,
          2005,
          2006,
          2007,
          2008,
          2009,
          2010,
          2011,
          2012,
          2013,
          2014,
          2015,
          2016,
          2017,
          2018,
          2019,
          2020
         ],
         "y": [
          0.1976860429447853,
          0.1870256359102248,
          0.1939111999999998,
          0.196976305015353,
          0.2021994404883014,
          0.1900816256410258,
          0.1882892820512821,
          0.1961265641025642,
          0.1984314066496162,
          0.2052522959183674,
          0.1997006448412699,
          0.2033088249876056,
          0.1897330077120824,
          0.1996308198380571,
          0.1918215960099752,
          0.1888564336372847,
          0.181169894268225,
          0.1917126004016064,
          0.1763255349500711,
          0.1726164186762446,
          0.1785354187192117
         ]
        },
        {
         "name": "Speechiness",
         "type": "scatter",
         "x": [
          2000,
          2001,
          2002,
          2003,
          2004,
          2005,
          2006,
          2007,
          2008,
          2009,
          2010,
          2011,
          2012,
          2013,
          2014,
          2015,
          2016,
          2017,
          2018,
          2019,
          2020
         ],
         "y": [
          0.0892054192229039,
          0.0891822942643391,
          0.0843075999999999,
          0.0939257420675538,
          0.0942388097660224,
          0.093333692307692,
          0.0858467692307692,
          0.0843473333333333,
          0.077356368286445,
          0.0854578061224489,
          0.0810314980158731,
          0.087479276152702,
          0.081742467866324,
          0.0938488866396761,
          0.0840605486284289,
          0.0967792299898684,
          0.1043132999443518,
          0.1105364959839356,
          0.1271755587256302,
          0.1210433555669573,
          0.1413836945812805
         ]
        }
       ],
       "layout": {
        "template": {
         "data": {
          "bar": [
           {
            "error_x": {
             "color": "#2a3f5f"
            },
            "error_y": {
             "color": "#2a3f5f"
            },
            "marker": {
             "line": {
              "color": "#E5ECF6",
              "width": 0.5
             },
             "pattern": {
              "fillmode": "overlay",
              "size": 10,
              "solidity": 0.2
             }
            },
            "type": "bar"
           }
          ],
          "barpolar": [
           {
            "marker": {
             "line": {
              "color": "#E5ECF6",
              "width": 0.5
             },
             "pattern": {
              "fillmode": "overlay",
              "size": 10,
              "solidity": 0.2
             }
            },
            "type": "barpolar"
           }
          ],
          "carpet": [
           {
            "aaxis": {
             "endlinecolor": "#2a3f5f",
             "gridcolor": "white",
             "linecolor": "white",
             "minorgridcolor": "white",
             "startlinecolor": "#2a3f5f"
            },
            "baxis": {
             "endlinecolor": "#2a3f5f",
             "gridcolor": "white",
             "linecolor": "white",
             "minorgridcolor": "white",
             "startlinecolor": "#2a3f5f"
            },
            "type": "carpet"
           }
          ],
          "choropleth": [
           {
            "colorbar": {
             "outlinewidth": 0,
             "ticks": ""
            },
            "type": "choropleth"
           }
          ],
          "contour": [
           {
            "colorbar": {
             "outlinewidth": 0,
             "ticks": ""
            },
            "colorscale": [
             [
              0,
              "#0d0887"
             ],
             [
              0.1111111111111111,
              "#46039f"
             ],
             [
              0.2222222222222222,
              "#7201a8"
             ],
             [
              0.3333333333333333,
              "#9c179e"
             ],
             [
              0.4444444444444444,
              "#bd3786"
             ],
             [
              0.5555555555555556,
              "#d8576b"
             ],
             [
              0.6666666666666666,
              "#ed7953"
             ],
             [
              0.7777777777777778,
              "#fb9f3a"
             ],
             [
              0.8888888888888888,
              "#fdca26"
             ],
             [
              1,
              "#f0f921"
             ]
            ],
            "type": "contour"
           }
          ],
          "contourcarpet": [
           {
            "colorbar": {
             "outlinewidth": 0,
             "ticks": ""
            },
            "type": "contourcarpet"
           }
          ],
          "heatmap": [
           {
            "colorbar": {
             "outlinewidth": 0,
             "ticks": ""
            },
            "colorscale": [
             [
              0,
              "#0d0887"
             ],
             [
              0.1111111111111111,
              "#46039f"
             ],
             [
              0.2222222222222222,
              "#7201a8"
             ],
             [
              0.3333333333333333,
              "#9c179e"
             ],
             [
              0.4444444444444444,
              "#bd3786"
             ],
             [
              0.5555555555555556,
              "#d8576b"
             ],
             [
              0.6666666666666666,
              "#ed7953"
             ],
             [
              0.7777777777777778,
              "#fb9f3a"
             ],
             [
              0.8888888888888888,
              "#fdca26"
             ],
             [
              1,
              "#f0f921"
             ]
            ],
            "type": "heatmap"
           }
          ],
          "heatmapgl": [
           {
            "colorbar": {
             "outlinewidth": 0,
             "ticks": ""
            },
            "colorscale": [
             [
              0,
              "#0d0887"
             ],
             [
              0.1111111111111111,
              "#46039f"
             ],
             [
              0.2222222222222222,
              "#7201a8"
             ],
             [
              0.3333333333333333,
              "#9c179e"
             ],
             [
              0.4444444444444444,
              "#bd3786"
             ],
             [
              0.5555555555555556,
              "#d8576b"
             ],
             [
              0.6666666666666666,
              "#ed7953"
             ],
             [
              0.7777777777777778,
              "#fb9f3a"
             ],
             [
              0.8888888888888888,
              "#fdca26"
             ],
             [
              1,
              "#f0f921"
             ]
            ],
            "type": "heatmapgl"
           }
          ],
          "histogram": [
           {
            "marker": {
             "pattern": {
              "fillmode": "overlay",
              "size": 10,
              "solidity": 0.2
             }
            },
            "type": "histogram"
           }
          ],
          "histogram2d": [
           {
            "colorbar": {
             "outlinewidth": 0,
             "ticks": ""
            },
            "colorscale": [
             [
              0,
              "#0d0887"
             ],
             [
              0.1111111111111111,
              "#46039f"
             ],
             [
              0.2222222222222222,
              "#7201a8"
             ],
             [
              0.3333333333333333,
              "#9c179e"
             ],
             [
              0.4444444444444444,
              "#bd3786"
             ],
             [
              0.5555555555555556,
              "#d8576b"
             ],
             [
              0.6666666666666666,
              "#ed7953"
             ],
             [
              0.7777777777777778,
              "#fb9f3a"
             ],
             [
              0.8888888888888888,
              "#fdca26"
             ],
             [
              1,
              "#f0f921"
             ]
            ],
            "type": "histogram2d"
           }
          ],
          "histogram2dcontour": [
           {
            "colorbar": {
             "outlinewidth": 0,
             "ticks": ""
            },
            "colorscale": [
             [
              0,
              "#0d0887"
             ],
             [
              0.1111111111111111,
              "#46039f"
             ],
             [
              0.2222222222222222,
              "#7201a8"
             ],
             [
              0.3333333333333333,
              "#9c179e"
             ],
             [
              0.4444444444444444,
              "#bd3786"
             ],
             [
              0.5555555555555556,
              "#d8576b"
             ],
             [
              0.6666666666666666,
              "#ed7953"
             ],
             [
              0.7777777777777778,
              "#fb9f3a"
             ],
             [
              0.8888888888888888,
              "#fdca26"
             ],
             [
              1,
              "#f0f921"
             ]
            ],
            "type": "histogram2dcontour"
           }
          ],
          "mesh3d": [
           {
            "colorbar": {
             "outlinewidth": 0,
             "ticks": ""
            },
            "type": "mesh3d"
           }
          ],
          "parcoords": [
           {
            "line": {
             "colorbar": {
              "outlinewidth": 0,
              "ticks": ""
             }
            },
            "type": "parcoords"
           }
          ],
          "pie": [
           {
            "automargin": true,
            "type": "pie"
           }
          ],
          "scatter": [
           {
            "fillpattern": {
             "fillmode": "overlay",
             "size": 10,
             "solidity": 0.2
            },
            "type": "scatter"
           }
          ],
          "scatter3d": [
           {
            "line": {
             "colorbar": {
              "outlinewidth": 0,
              "ticks": ""
             }
            },
            "marker": {
             "colorbar": {
              "outlinewidth": 0,
              "ticks": ""
             }
            },
            "type": "scatter3d"
           }
          ],
          "scattercarpet": [
           {
            "marker": {
             "colorbar": {
              "outlinewidth": 0,
              "ticks": ""
             }
            },
            "type": "scattercarpet"
           }
          ],
          "scattergeo": [
           {
            "marker": {
             "colorbar": {
              "outlinewidth": 0,
              "ticks": ""
             }
            },
            "type": "scattergeo"
           }
          ],
          "scattergl": [
           {
            "marker": {
             "colorbar": {
              "outlinewidth": 0,
              "ticks": ""
             }
            },
            "type": "scattergl"
           }
          ],
          "scattermapbox": [
           {
            "marker": {
             "colorbar": {
              "outlinewidth": 0,
              "ticks": ""
             }
            },
            "type": "scattermapbox"
           }
          ],
          "scatterpolar": [
           {
            "marker": {
             "colorbar": {
              "outlinewidth": 0,
              "ticks": ""
             }
            },
            "type": "scatterpolar"
           }
          ],
          "scatterpolargl": [
           {
            "marker": {
             "colorbar": {
              "outlinewidth": 0,
              "ticks": ""
             }
            },
            "type": "scatterpolargl"
           }
          ],
          "scatterternary": [
           {
            "marker": {
             "colorbar": {
              "outlinewidth": 0,
              "ticks": ""
             }
            },
            "type": "scatterternary"
           }
          ],
          "surface": [
           {
            "colorbar": {
             "outlinewidth": 0,
             "ticks": ""
            },
            "colorscale": [
             [
              0,
              "#0d0887"
             ],
             [
              0.1111111111111111,
              "#46039f"
             ],
             [
              0.2222222222222222,
              "#7201a8"
             ],
             [
              0.3333333333333333,
              "#9c179e"
             ],
             [
              0.4444444444444444,
              "#bd3786"
             ],
             [
              0.5555555555555556,
              "#d8576b"
             ],
             [
              0.6666666666666666,
              "#ed7953"
             ],
             [
              0.7777777777777778,
              "#fb9f3a"
             ],
             [
              0.8888888888888888,
              "#fdca26"
             ],
             [
              1,
              "#f0f921"
             ]
            ],
            "type": "surface"
           }
          ],
          "table": [
           {
            "cells": {
             "fill": {
              "color": "#EBF0F8"
             },
             "line": {
              "color": "white"
             }
            },
            "header": {
             "fill": {
              "color": "#C8D4E3"
             },
             "line": {
              "color": "white"
             }
            },
            "type": "table"
           }
          ]
         },
         "layout": {
          "annotationdefaults": {
           "arrowcolor": "#2a3f5f",
           "arrowhead": 0,
           "arrowwidth": 1
          },
          "autotypenumbers": "strict",
          "coloraxis": {
           "colorbar": {
            "outlinewidth": 0,
            "ticks": ""
           }
          },
          "colorscale": {
           "diverging": [
            [
             0,
             "#8e0152"
            ],
            [
             0.1,
             "#c51b7d"
            ],
            [
             0.2,
             "#de77ae"
            ],
            [
             0.3,
             "#f1b6da"
            ],
            [
             0.4,
             "#fde0ef"
            ],
            [
             0.5,
             "#f7f7f7"
            ],
            [
             0.6,
             "#e6f5d0"
            ],
            [
             0.7,
             "#b8e186"
            ],
            [
             0.8,
             "#7fbc41"
            ],
            [
             0.9,
             "#4d9221"
            ],
            [
             1,
             "#276419"
            ]
           ],
           "sequential": [
            [
             0,
             "#0d0887"
            ],
            [
             0.1111111111111111,
             "#46039f"
            ],
            [
             0.2222222222222222,
             "#7201a8"
            ],
            [
             0.3333333333333333,
             "#9c179e"
            ],
            [
             0.4444444444444444,
             "#bd3786"
            ],
            [
             0.5555555555555556,
             "#d8576b"
            ],
            [
             0.6666666666666666,
             "#ed7953"
            ],
            [
             0.7777777777777778,
             "#fb9f3a"
            ],
            [
             0.8888888888888888,
             "#fdca26"
            ],
            [
             1,
             "#f0f921"
            ]
           ],
           "sequentialminus": [
            [
             0,
             "#0d0887"
            ],
            [
             0.1111111111111111,
             "#46039f"
            ],
            [
             0.2222222222222222,
             "#7201a8"
            ],
            [
             0.3333333333333333,
             "#9c179e"
            ],
            [
             0.4444444444444444,
             "#bd3786"
            ],
            [
             0.5555555555555556,
             "#d8576b"
            ],
            [
             0.6666666666666666,
             "#ed7953"
            ],
            [
             0.7777777777777778,
             "#fb9f3a"
            ],
            [
             0.8888888888888888,
             "#fdca26"
            ],
            [
             1,
             "#f0f921"
            ]
           ]
          },
          "colorway": [
           "#636efa",
           "#EF553B",
           "#00cc96",
           "#ab63fa",
           "#FFA15A",
           "#19d3f3",
           "#FF6692",
           "#B6E880",
           "#FF97FF",
           "#FECB52"
          ],
          "font": {
           "color": "#2a3f5f"
          },
          "geo": {
           "bgcolor": "white",
           "lakecolor": "white",
           "landcolor": "#E5ECF6",
           "showlakes": true,
           "showland": true,
           "subunitcolor": "white"
          },
          "hoverlabel": {
           "align": "left"
          },
          "hovermode": "closest",
          "mapbox": {
           "style": "light"
          },
          "paper_bgcolor": "white",
          "plot_bgcolor": "#E5ECF6",
          "polar": {
           "angularaxis": {
            "gridcolor": "white",
            "linecolor": "white",
            "ticks": ""
           },
           "bgcolor": "#E5ECF6",
           "radialaxis": {
            "gridcolor": "white",
            "linecolor": "white",
            "ticks": ""
           }
          },
          "scene": {
           "xaxis": {
            "backgroundcolor": "#E5ECF6",
            "gridcolor": "white",
            "gridwidth": 2,
            "linecolor": "white",
            "showbackground": true,
            "ticks": "",
            "zerolinecolor": "white"
           },
           "yaxis": {
            "backgroundcolor": "#E5ECF6",
            "gridcolor": "white",
            "gridwidth": 2,
            "linecolor": "white",
            "showbackground": true,
            "ticks": "",
            "zerolinecolor": "white"
           },
           "zaxis": {
            "backgroundcolor": "#E5ECF6",
            "gridcolor": "white",
            "gridwidth": 2,
            "linecolor": "white",
            "showbackground": true,
            "ticks": "",
            "zerolinecolor": "white"
           }
          },
          "shapedefaults": {
           "line": {
            "color": "#2a3f5f"
           }
          },
          "ternary": {
           "aaxis": {
            "gridcolor": "white",
            "linecolor": "white",
            "ticks": ""
           },
           "baxis": {
            "gridcolor": "white",
            "linecolor": "white",
            "ticks": ""
           },
           "bgcolor": "#E5ECF6",
           "caxis": {
            "gridcolor": "white",
            "linecolor": "white",
            "ticks": ""
           }
          },
          "title": {
           "x": 0.05
          },
          "xaxis": {
           "automargin": true,
           "gridcolor": "white",
           "linecolor": "white",
           "ticks": "",
           "title": {
            "standoff": 15
           },
           "zerolinecolor": "white",
           "zerolinewidth": 2
          },
          "yaxis": {
           "automargin": true,
           "gridcolor": "white",
           "linecolor": "white",
           "ticks": "",
           "title": {
            "standoff": 15
           },
           "zerolinecolor": "white",
           "zerolinewidth": 2
          }
         }
        }
       }
      },
      "text/html": [
       "<div>                            <div id=\"70550f41-619d-461b-b1fc-7b71e1dbaa6f\" class=\"plotly-graph-div\" style=\"height:525px; width:100%;\"></div>            <script type=\"text/javascript\">                require([\"plotly\"], function(Plotly) {                    window.PLOTLYENV=window.PLOTLYENV || {};                                    if (document.getElementById(\"70550f41-619d-461b-b1fc-7b71e1dbaa6f\")) {                    Plotly.newPlot(                        \"70550f41-619d-461b-b1fc-7b71e1dbaa6f\",                        [{\"name\":\"Acousticness\",\"x\":[2000,2001,2002,2003,2004,2005,2006,2007,2008,2009,2010,2011,2012,2013,2014,2015,2016,2017,2018,2019,2020],\"y\":[0.2893227005163599,0.2868424748428934,0.282624289885001,0.2564705181729783,0.2805589466225845,0.2557635068666665,0.2799863520256408,0.2540809575538463,0.2491917627212275,0.261928619096939,0.2426866435515872,0.2731826625185919,0.2499530443804624,0.2574880859564779,0.249312645880299,0.2539522577102332,0.2841710299554814,0.2860990665261043,0.2676329907750836,0.2782985863365824,0.2199308880935964],\"type\":\"scatter\"},{\"name\":\"Valence\",\"x\":[2000,2001,2002,2003,2004,2005,2006,2007,2008,2009,2010,2011,2012,2013,2014,2015,2016,2017,2018,2019,2020],\"y\":[0.5594754601226991,0.541479107231919,0.5423971500000008,0.5305042476970324,0.5244885554425227,0.5325309230769236,0.5200283076923078,0.5167938461538473,0.5275418925831203,0.5071696617346935,0.5208951587301589,0.4724536787307882,0.4627090128534706,0.4547411943319834,0.4630487780548628,0.4320983687943254,0.4315320589872012,0.4164763112449793,0.4479212743699474,0.4588176295536167,0.5010478078817729],\"type\":\"scatter\"},{\"name\":\"Danceability\",\"x\":[2000,2001,2002,2003,2004,2005,2006,2007,2008,2009,2010,2011,2012,2013,2014,2015,2016,2017,2018,2019,2020],\"y\":[0.590918047034764,0.5833178553615969,0.5761602999999997,0.5757633060388944,0.5676803662258397,0.5722805641025652,0.5682301538461539,0.5634143589743592,0.5791928388746803,0.5641903571428577,0.5724883432539687,0.5528669806643526,0.5708818508997433,0.5711480263157896,0.5899476807980057,0.5937740628166152,0.6002023928770179,0.6122170180722886,0.6635004755111744,0.6448141097998967,0.6929043349753701],\"type\":\"scatter\"},{\"name\":\"Energy\",\"x\":[2000,2001,2002,2003,2004,2005,2006,2007,2008,2009,2010,2011,2012,2013,2014,2015,2016,2017,2018,2019,2020],\"y\":[0.6254128323108387,0.6269855221945144,0.6412697960000012,0.6601652610030712,0.6488679450661226,0.653208511282051,0.6503262820512825,0.6683047743589737,0.6714608207672623,0.6707487551020408,0.6817778026289684,0.6483008934060499,0.6565714601542408,0.6455968914473688,0.6487954437905223,0.6270642715298895,0.5928552316082347,0.5904210208835337,0.6024346220161672,0.5932240360184717,0.6312316354679793],\"type\":\"scatter\"},{\"name\":\"Instrumentalness\",\"x\":[2000,2001,2002,2003,2004,2005,2006,2007,2008,2009,2010,2011,2012,2013,2014,2015,2016,2017,2018,2019,2020],\"y\":[0.1011677687934559,0.1072140189925186,0.0880483503149999,0.0830492746673491,0.0779340349084435,0.0901943611846154,0.0777014718769231,0.0729572680512819,0.0636620903171356,0.0758720736836735,0.0829805682192461,0.103772332166584,0.0852055206786631,0.0983650539170038,0.0765695548379051,0.1067868780547114,0.0939843871174179,0.0970906090662649,0.0542171216690441,0.0776402469728064,0.0163755243054187],\"type\":\"scatter\"},{\"name\":\"Liveness\",\"x\":[2000,2001,2002,2003,2004,2005,2006,2007,2008,2009,2010,2011,2012,2013,2014,2015,2016,2017,2018,2019,2020],\"y\":[0.1976860429447853,0.1870256359102248,0.1939111999999998,0.196976305015353,0.2021994404883014,0.1900816256410258,0.1882892820512821,0.1961265641025642,0.1984314066496162,0.2052522959183674,0.1997006448412699,0.2033088249876056,0.1897330077120824,0.1996308198380571,0.1918215960099752,0.1888564336372847,0.181169894268225,0.1917126004016064,0.1763255349500711,0.1726164186762446,0.1785354187192117],\"type\":\"scatter\"},{\"name\":\"Speechiness\",\"x\":[2000,2001,2002,2003,2004,2005,2006,2007,2008,2009,2010,2011,2012,2013,2014,2015,2016,2017,2018,2019,2020],\"y\":[0.0892054192229039,0.0891822942643391,0.0843075999999999,0.0939257420675538,0.0942388097660224,0.093333692307692,0.0858467692307692,0.0843473333333333,0.077356368286445,0.0854578061224489,0.0810314980158731,0.087479276152702,0.081742467866324,0.0938488866396761,0.0840605486284289,0.0967792299898684,0.1043132999443518,0.1105364959839356,0.1271755587256302,0.1210433555669573,0.1413836945812805],\"type\":\"scatter\"}],                        {\"template\":{\"data\":{\"histogram2dcontour\":[{\"type\":\"histogram2dcontour\",\"colorbar\":{\"outlinewidth\":0,\"ticks\":\"\"},\"colorscale\":[[0.0,\"#0d0887\"],[0.1111111111111111,\"#46039f\"],[0.2222222222222222,\"#7201a8\"],[0.3333333333333333,\"#9c179e\"],[0.4444444444444444,\"#bd3786\"],[0.5555555555555556,\"#d8576b\"],[0.6666666666666666,\"#ed7953\"],[0.7777777777777778,\"#fb9f3a\"],[0.8888888888888888,\"#fdca26\"],[1.0,\"#f0f921\"]]}],\"choropleth\":[{\"type\":\"choropleth\",\"colorbar\":{\"outlinewidth\":0,\"ticks\":\"\"}}],\"histogram2d\":[{\"type\":\"histogram2d\",\"colorbar\":{\"outlinewidth\":0,\"ticks\":\"\"},\"colorscale\":[[0.0,\"#0d0887\"],[0.1111111111111111,\"#46039f\"],[0.2222222222222222,\"#7201a8\"],[0.3333333333333333,\"#9c179e\"],[0.4444444444444444,\"#bd3786\"],[0.5555555555555556,\"#d8576b\"],[0.6666666666666666,\"#ed7953\"],[0.7777777777777778,\"#fb9f3a\"],[0.8888888888888888,\"#fdca26\"],[1.0,\"#f0f921\"]]}],\"heatmap\":[{\"type\":\"heatmap\",\"colorbar\":{\"outlinewidth\":0,\"ticks\":\"\"},\"colorscale\":[[0.0,\"#0d0887\"],[0.1111111111111111,\"#46039f\"],[0.2222222222222222,\"#7201a8\"],[0.3333333333333333,\"#9c179e\"],[0.4444444444444444,\"#bd3786\"],[0.5555555555555556,\"#d8576b\"],[0.6666666666666666,\"#ed7953\"],[0.7777777777777778,\"#fb9f3a\"],[0.8888888888888888,\"#fdca26\"],[1.0,\"#f0f921\"]]}],\"heatmapgl\":[{\"type\":\"heatmapgl\",\"colorbar\":{\"outlinewidth\":0,\"ticks\":\"\"},\"colorscale\":[[0.0,\"#0d0887\"],[0.1111111111111111,\"#46039f\"],[0.2222222222222222,\"#7201a8\"],[0.3333333333333333,\"#9c179e\"],[0.4444444444444444,\"#bd3786\"],[0.5555555555555556,\"#d8576b\"],[0.6666666666666666,\"#ed7953\"],[0.7777777777777778,\"#fb9f3a\"],[0.8888888888888888,\"#fdca26\"],[1.0,\"#f0f921\"]]}],\"contourcarpet\":[{\"type\":\"contourcarpet\",\"colorbar\":{\"outlinewidth\":0,\"ticks\":\"\"}}],\"contour\":[{\"type\":\"contour\",\"colorbar\":{\"outlinewidth\":0,\"ticks\":\"\"},\"colorscale\":[[0.0,\"#0d0887\"],[0.1111111111111111,\"#46039f\"],[0.2222222222222222,\"#7201a8\"],[0.3333333333333333,\"#9c179e\"],[0.4444444444444444,\"#bd3786\"],[0.5555555555555556,\"#d8576b\"],[0.6666666666666666,\"#ed7953\"],[0.7777777777777778,\"#fb9f3a\"],[0.8888888888888888,\"#fdca26\"],[1.0,\"#f0f921\"]]}],\"surface\":[{\"type\":\"surface\",\"colorbar\":{\"outlinewidth\":0,\"ticks\":\"\"},\"colorscale\":[[0.0,\"#0d0887\"],[0.1111111111111111,\"#46039f\"],[0.2222222222222222,\"#7201a8\"],[0.3333333333333333,\"#9c179e\"],[0.4444444444444444,\"#bd3786\"],[0.5555555555555556,\"#d8576b\"],[0.6666666666666666,\"#ed7953\"],[0.7777777777777778,\"#fb9f3a\"],[0.8888888888888888,\"#fdca26\"],[1.0,\"#f0f921\"]]}],\"mesh3d\":[{\"type\":\"mesh3d\",\"colorbar\":{\"outlinewidth\":0,\"ticks\":\"\"}}],\"scatter\":[{\"fillpattern\":{\"fillmode\":\"overlay\",\"size\":10,\"solidity\":0.2},\"type\":\"scatter\"}],\"parcoords\":[{\"type\":\"parcoords\",\"line\":{\"colorbar\":{\"outlinewidth\":0,\"ticks\":\"\"}}}],\"scatterpolargl\":[{\"type\":\"scatterpolargl\",\"marker\":{\"colorbar\":{\"outlinewidth\":0,\"ticks\":\"\"}}}],\"bar\":[{\"error_x\":{\"color\":\"#2a3f5f\"},\"error_y\":{\"color\":\"#2a3f5f\"},\"marker\":{\"line\":{\"color\":\"#E5ECF6\",\"width\":0.5},\"pattern\":{\"fillmode\":\"overlay\",\"size\":10,\"solidity\":0.2}},\"type\":\"bar\"}],\"scattergeo\":[{\"type\":\"scattergeo\",\"marker\":{\"colorbar\":{\"outlinewidth\":0,\"ticks\":\"\"}}}],\"scatterpolar\":[{\"type\":\"scatterpolar\",\"marker\":{\"colorbar\":{\"outlinewidth\":0,\"ticks\":\"\"}}}],\"histogram\":[{\"marker\":{\"pattern\":{\"fillmode\":\"overlay\",\"size\":10,\"solidity\":0.2}},\"type\":\"histogram\"}],\"scattergl\":[{\"type\":\"scattergl\",\"marker\":{\"colorbar\":{\"outlinewidth\":0,\"ticks\":\"\"}}}],\"scatter3d\":[{\"type\":\"scatter3d\",\"line\":{\"colorbar\":{\"outlinewidth\":0,\"ticks\":\"\"}},\"marker\":{\"colorbar\":{\"outlinewidth\":0,\"ticks\":\"\"}}}],\"scattermapbox\":[{\"type\":\"scattermapbox\",\"marker\":{\"colorbar\":{\"outlinewidth\":0,\"ticks\":\"\"}}}],\"scatterternary\":[{\"type\":\"scatterternary\",\"marker\":{\"colorbar\":{\"outlinewidth\":0,\"ticks\":\"\"}}}],\"scattercarpet\":[{\"type\":\"scattercarpet\",\"marker\":{\"colorbar\":{\"outlinewidth\":0,\"ticks\":\"\"}}}],\"carpet\":[{\"aaxis\":{\"endlinecolor\":\"#2a3f5f\",\"gridcolor\":\"white\",\"linecolor\":\"white\",\"minorgridcolor\":\"white\",\"startlinecolor\":\"#2a3f5f\"},\"baxis\":{\"endlinecolor\":\"#2a3f5f\",\"gridcolor\":\"white\",\"linecolor\":\"white\",\"minorgridcolor\":\"white\",\"startlinecolor\":\"#2a3f5f\"},\"type\":\"carpet\"}],\"table\":[{\"cells\":{\"fill\":{\"color\":\"#EBF0F8\"},\"line\":{\"color\":\"white\"}},\"header\":{\"fill\":{\"color\":\"#C8D4E3\"},\"line\":{\"color\":\"white\"}},\"type\":\"table\"}],\"barpolar\":[{\"marker\":{\"line\":{\"color\":\"#E5ECF6\",\"width\":0.5},\"pattern\":{\"fillmode\":\"overlay\",\"size\":10,\"solidity\":0.2}},\"type\":\"barpolar\"}],\"pie\":[{\"automargin\":true,\"type\":\"pie\"}]},\"layout\":{\"autotypenumbers\":\"strict\",\"colorway\":[\"#636efa\",\"#EF553B\",\"#00cc96\",\"#ab63fa\",\"#FFA15A\",\"#19d3f3\",\"#FF6692\",\"#B6E880\",\"#FF97FF\",\"#FECB52\"],\"font\":{\"color\":\"#2a3f5f\"},\"hovermode\":\"closest\",\"hoverlabel\":{\"align\":\"left\"},\"paper_bgcolor\":\"white\",\"plot_bgcolor\":\"#E5ECF6\",\"polar\":{\"bgcolor\":\"#E5ECF6\",\"angularaxis\":{\"gridcolor\":\"white\",\"linecolor\":\"white\",\"ticks\":\"\"},\"radialaxis\":{\"gridcolor\":\"white\",\"linecolor\":\"white\",\"ticks\":\"\"}},\"ternary\":{\"bgcolor\":\"#E5ECF6\",\"aaxis\":{\"gridcolor\":\"white\",\"linecolor\":\"white\",\"ticks\":\"\"},\"baxis\":{\"gridcolor\":\"white\",\"linecolor\":\"white\",\"ticks\":\"\"},\"caxis\":{\"gridcolor\":\"white\",\"linecolor\":\"white\",\"ticks\":\"\"}},\"coloraxis\":{\"colorbar\":{\"outlinewidth\":0,\"ticks\":\"\"}},\"colorscale\":{\"sequential\":[[0.0,\"#0d0887\"],[0.1111111111111111,\"#46039f\"],[0.2222222222222222,\"#7201a8\"],[0.3333333333333333,\"#9c179e\"],[0.4444444444444444,\"#bd3786\"],[0.5555555555555556,\"#d8576b\"],[0.6666666666666666,\"#ed7953\"],[0.7777777777777778,\"#fb9f3a\"],[0.8888888888888888,\"#fdca26\"],[1.0,\"#f0f921\"]],\"sequentialminus\":[[0.0,\"#0d0887\"],[0.1111111111111111,\"#46039f\"],[0.2222222222222222,\"#7201a8\"],[0.3333333333333333,\"#9c179e\"],[0.4444444444444444,\"#bd3786\"],[0.5555555555555556,\"#d8576b\"],[0.6666666666666666,\"#ed7953\"],[0.7777777777777778,\"#fb9f3a\"],[0.8888888888888888,\"#fdca26\"],[1.0,\"#f0f921\"]],\"diverging\":[[0,\"#8e0152\"],[0.1,\"#c51b7d\"],[0.2,\"#de77ae\"],[0.3,\"#f1b6da\"],[0.4,\"#fde0ef\"],[0.5,\"#f7f7f7\"],[0.6,\"#e6f5d0\"],[0.7,\"#b8e186\"],[0.8,\"#7fbc41\"],[0.9,\"#4d9221\"],[1,\"#276419\"]]},\"xaxis\":{\"gridcolor\":\"white\",\"linecolor\":\"white\",\"ticks\":\"\",\"title\":{\"standoff\":15},\"zerolinecolor\":\"white\",\"automargin\":true,\"zerolinewidth\":2},\"yaxis\":{\"gridcolor\":\"white\",\"linecolor\":\"white\",\"ticks\":\"\",\"title\":{\"standoff\":15},\"zerolinecolor\":\"white\",\"automargin\":true,\"zerolinewidth\":2},\"scene\":{\"xaxis\":{\"backgroundcolor\":\"#E5ECF6\",\"gridcolor\":\"white\",\"linecolor\":\"white\",\"showbackground\":true,\"ticks\":\"\",\"zerolinecolor\":\"white\",\"gridwidth\":2},\"yaxis\":{\"backgroundcolor\":\"#E5ECF6\",\"gridcolor\":\"white\",\"linecolor\":\"white\",\"showbackground\":true,\"ticks\":\"\",\"zerolinecolor\":\"white\",\"gridwidth\":2},\"zaxis\":{\"backgroundcolor\":\"#E5ECF6\",\"gridcolor\":\"white\",\"linecolor\":\"white\",\"showbackground\":true,\"ticks\":\"\",\"zerolinecolor\":\"white\",\"gridwidth\":2}},\"shapedefaults\":{\"line\":{\"color\":\"#2a3f5f\"}},\"annotationdefaults\":{\"arrowcolor\":\"#2a3f5f\",\"arrowhead\":0,\"arrowwidth\":1},\"geo\":{\"bgcolor\":\"white\",\"landcolor\":\"#E5ECF6\",\"subunitcolor\":\"white\",\"showland\":true,\"showlakes\":true,\"lakecolor\":\"white\"},\"title\":{\"x\":0.05},\"mapbox\":{\"style\":\"light\"}}}},                        {\"responsive\": true}                    ).then(function(){\n",
       "                            \n",
       "var gd = document.getElementById('70550f41-619d-461b-b1fc-7b71e1dbaa6f');\n",
       "var x = new MutationObserver(function (mutations, observer) {{\n",
       "        var display = window.getComputedStyle(gd).display;\n",
       "        if (!display || display === 'none') {{\n",
       "            console.log([gd, 'removed!']);\n",
       "            Plotly.purge(gd);\n",
       "            observer.disconnect();\n",
       "        }}\n",
       "}});\n",
       "\n",
       "// Listen for the removal of the full notebook cells\n",
       "var notebookContainer = gd.closest('#notebook-container');\n",
       "if (notebookContainer) {{\n",
       "    x.observe(notebookContainer, {childList: true});\n",
       "}}\n",
       "\n",
       "// Listen for the clearing of the current output cell\n",
       "var outputEl = gd.closest('.output');\n",
       "if (outputEl) {{\n",
       "    x.observe(outputEl, {childList: true});\n",
       "}}\n",
       "\n",
       "                        })                };                });            </script>        </div>"
      ]
     },
     "metadata": {},
     "output_type": "display_data"
    }
   ],
   "source": [
    "fig = go.Figure()\n",
    "\n",
    "fig.add_trace(go.Scatter(x=data_by_year[\"year\"], y=data_by_year[\"acousticness\"],\n",
    "                                                name=\"Acousticness\"))\n",
    "fig.add_trace(go.Scatter(x=data_by_year[\"year\"], y=data_by_year[\"valence\"],\n",
    "                                                name=\"Valence\"))\n",
    "fig.add_trace(go.Scatter(x=data_by_year[\"year\"], y=data_by_year[\"danceability\"],\n",
    "                                                name=\"Danceability\"))\n",
    "fig.add_trace(go.Scatter(x=data_by_year[\"year\"], y=data_by_year[\"energy\"],\n",
    "                                                name=\"Energy\"))\n",
    "fig.add_trace(go.Scatter(x=data_by_year[\"year\"], y=data_by_year[\"instrumentalness\"],\n",
    "                                                name=\"Instrumentalness\"))\n",
    "fig.add_trace(go.Scatter(x=data_by_year[\"year\"], y=data_by_year[\"liveness\"],\n",
    "                                                name=\"Liveness\"))\n",
    "fig.add_trace(go.Scatter(x=data_by_year[\"year\"], y=data_by_year[\"speechiness\"],\n",
    "                                                name=\"Speechiness\"))\n",
    "\n",
    "fig.show()"
   ]
  },
  {
   "cell_type": "code",
   "execution_count": 120,
   "metadata": {},
   "outputs": [
    {
     "data": {
      "application/vnd.plotly.v1+json": {
       "config": {
        "plotlyServerURL": "https://plot.ly"
       },
       "data": [
        {
         "coloraxis": "coloraxis",
         "hovertemplate": "x: %{x}<br>y: %{y}<br>color: %{z}<extra></extra>",
         "name": "0",
         "texttemplate": "%{z}",
         "type": "heatmap",
         "x": [
          "valence",
          "year",
          "acousticness",
          "danceability",
          "duration_ms",
          "energy",
          "instrumentalness",
          "liveness",
          "loudness",
          "popularity",
          "speechiness",
          "tempo"
         ],
         "xaxis": "x",
         "y": [
          "valence",
          "year",
          "acousticness",
          "danceability",
          "duration_ms",
          "energy",
          "instrumentalness",
          "liveness",
          "loudness",
          "popularity",
          "speechiness",
          "tempo"
         ],
         "yaxis": "y",
         "z": [
          [
           1,
           -0.11152818996552269,
           -0.17906507578880113,
           0.4706016928505381,
           -0.19255117869290994,
           0.35029199798428345,
           -0.2557841048653347,
           0.02221366049722543,
           0.3378977669900986,
           -0.02666406634639214,
           0.08252614933102408,
           0.07315334866798318
          ],
          [
           -0.11152818996552269,
           1,
           -0.011224012558530316,
           0.17440028973064198,
           -0.14627395555186518,
           -0.06995658525945365,
           -0.13203456252176587,
           -0.04295002368784964,
           0.052483197651396335,
           0.5520537744643068,
           0.12405143773766447,
           0.02311722172289499
          ],
          [
           -0.17906507578880113,
           -0.011224012558530316,
           1,
           -0.1758942916516538,
           -0.05596681465486787,
           -0.7091107964699702,
           0.29973973152822125,
           -0.09844289738151028,
           -0.6036127005064934,
           -0.03187901141421101,
           -0.12082482277726948,
           -0.15474122793050457
          ],
          [
           0.4706016928505381,
           0.17440028973064198,
           -0.1758942916516538,
           1,
           -0.15971497774585897,
           0.08735820678113757,
           -0.3142998559030547,
           -0.0696597044523255,
           0.2679343205070181,
           0.1809607849711362,
           0.2267015756782655,
           -0.09486499562608043
          ],
          [
           -0.19255117869290994,
           -0.14627395555186518,
           -0.05596681465486787,
           -0.15971497774585897,
           1,
           0.014565108670534132,
           0.07164598789913075,
           0.052743206410793615,
           -0.017003038059048684,
           -0.10932110003241752,
           -0.02851359221465405,
           -0.028602148844984
          ],
          [
           0.35029199798428345,
           -0.06995658525945365,
           -0.7091107964699702,
           0.08735820678113757,
           0.014565108670534132,
           1,
           -0.3164682501295295,
           0.17387777376175623,
           0.7595724242928918,
           -0.028459539491050623,
           0.11401773090551177,
           0.1916455676981815
          ],
          [
           -0.2557841048653347,
           -0.13203456252176587,
           0.29973973152822125,
           -0.3142998559030547,
           0.07164598789913075,
           -0.3164682501295295,
           1,
           -0.06234712806061889,
           -0.5588938236531733,
           -0.12504620012490858,
           -0.1371187140191706,
           -0.09444020881622293
          ],
          [
           0.02221366049722543,
           -0.04295002368784964,
           -0.09844289738151028,
           -0.0696597044523255,
           0.052743206410793615,
           0.17387777376175623,
           -0.06234712806061889,
           1,
           0.09144172661855732,
           -0.06860593075406679,
           0.11955070410710385,
           0.014857567069808593
          ],
          [
           0.3378977669900986,
           0.052483197651396335,
           -0.6036127005064934,
           0.2679343205070181,
           -0.017003038059048684,
           0.7595724242928918,
           -0.5588938236531733,
           0.09144172661855732,
           1,
           0.09292468076617552,
           0.07902873344113712,
           0.18045939002871472
          ],
          [
           -0.02666406634639214,
           0.5520537744643068,
           -0.03187901141421101,
           0.1809607849711362,
           -0.10932110003241752,
           -0.028459539491050623,
           -0.12504620012490858,
           -0.06860593075406679,
           0.09292468076617552,
           1,
           0.057125553208252515,
           -0.00033755419876421543
          ],
          [
           0.08252614933102408,
           0.12405143773766447,
           -0.12082482277726948,
           0.2267015756782655,
           -0.02851359221465405,
           0.11401773090551177,
           -0.1371187140191706,
           0.11955070410710385,
           0.07902873344113712,
           0.057125553208252515,
           1,
           0.04062153175888837
          ],
          [
           0.07315334866798318,
           0.02311722172289499,
           -0.15474122793050457,
           -0.09486499562608043,
           -0.028602148844984,
           0.1916455676981815,
           -0.09444020881622293,
           0.014857567069808593,
           0.18045939002871472,
           -0.00033755419876421543,
           0.04062153175888837,
           1
          ]
         ]
        }
       ],
       "layout": {
        "coloraxis": {
         "colorscale": [
          [
           0,
           "#0d0887"
          ],
          [
           0.1111111111111111,
           "#46039f"
          ],
          [
           0.2222222222222222,
           "#7201a8"
          ],
          [
           0.3333333333333333,
           "#9c179e"
          ],
          [
           0.4444444444444444,
           "#bd3786"
          ],
          [
           0.5555555555555556,
           "#d8576b"
          ],
          [
           0.6666666666666666,
           "#ed7953"
          ],
          [
           0.7777777777777778,
           "#fb9f3a"
          ],
          [
           0.8888888888888888,
           "#fdca26"
          ],
          [
           1,
           "#f0f921"
          ]
         ]
        },
        "margin": {
         "t": 60
        },
        "template": {
         "data": {
          "bar": [
           {
            "error_x": {
             "color": "#2a3f5f"
            },
            "error_y": {
             "color": "#2a3f5f"
            },
            "marker": {
             "line": {
              "color": "#E5ECF6",
              "width": 0.5
             },
             "pattern": {
              "fillmode": "overlay",
              "size": 10,
              "solidity": 0.2
             }
            },
            "type": "bar"
           }
          ],
          "barpolar": [
           {
            "marker": {
             "line": {
              "color": "#E5ECF6",
              "width": 0.5
             },
             "pattern": {
              "fillmode": "overlay",
              "size": 10,
              "solidity": 0.2
             }
            },
            "type": "barpolar"
           }
          ],
          "carpet": [
           {
            "aaxis": {
             "endlinecolor": "#2a3f5f",
             "gridcolor": "white",
             "linecolor": "white",
             "minorgridcolor": "white",
             "startlinecolor": "#2a3f5f"
            },
            "baxis": {
             "endlinecolor": "#2a3f5f",
             "gridcolor": "white",
             "linecolor": "white",
             "minorgridcolor": "white",
             "startlinecolor": "#2a3f5f"
            },
            "type": "carpet"
           }
          ],
          "choropleth": [
           {
            "colorbar": {
             "outlinewidth": 0,
             "ticks": ""
            },
            "type": "choropleth"
           }
          ],
          "contour": [
           {
            "colorbar": {
             "outlinewidth": 0,
             "ticks": ""
            },
            "colorscale": [
             [
              0,
              "#0d0887"
             ],
             [
              0.1111111111111111,
              "#46039f"
             ],
             [
              0.2222222222222222,
              "#7201a8"
             ],
             [
              0.3333333333333333,
              "#9c179e"
             ],
             [
              0.4444444444444444,
              "#bd3786"
             ],
             [
              0.5555555555555556,
              "#d8576b"
             ],
             [
              0.6666666666666666,
              "#ed7953"
             ],
             [
              0.7777777777777778,
              "#fb9f3a"
             ],
             [
              0.8888888888888888,
              "#fdca26"
             ],
             [
              1,
              "#f0f921"
             ]
            ],
            "type": "contour"
           }
          ],
          "contourcarpet": [
           {
            "colorbar": {
             "outlinewidth": 0,
             "ticks": ""
            },
            "type": "contourcarpet"
           }
          ],
          "heatmap": [
           {
            "colorbar": {
             "outlinewidth": 0,
             "ticks": ""
            },
            "colorscale": [
             [
              0,
              "#0d0887"
             ],
             [
              0.1111111111111111,
              "#46039f"
             ],
             [
              0.2222222222222222,
              "#7201a8"
             ],
             [
              0.3333333333333333,
              "#9c179e"
             ],
             [
              0.4444444444444444,
              "#bd3786"
             ],
             [
              0.5555555555555556,
              "#d8576b"
             ],
             [
              0.6666666666666666,
              "#ed7953"
             ],
             [
              0.7777777777777778,
              "#fb9f3a"
             ],
             [
              0.8888888888888888,
              "#fdca26"
             ],
             [
              1,
              "#f0f921"
             ]
            ],
            "type": "heatmap"
           }
          ],
          "heatmapgl": [
           {
            "colorbar": {
             "outlinewidth": 0,
             "ticks": ""
            },
            "colorscale": [
             [
              0,
              "#0d0887"
             ],
             [
              0.1111111111111111,
              "#46039f"
             ],
             [
              0.2222222222222222,
              "#7201a8"
             ],
             [
              0.3333333333333333,
              "#9c179e"
             ],
             [
              0.4444444444444444,
              "#bd3786"
             ],
             [
              0.5555555555555556,
              "#d8576b"
             ],
             [
              0.6666666666666666,
              "#ed7953"
             ],
             [
              0.7777777777777778,
              "#fb9f3a"
             ],
             [
              0.8888888888888888,
              "#fdca26"
             ],
             [
              1,
              "#f0f921"
             ]
            ],
            "type": "heatmapgl"
           }
          ],
          "histogram": [
           {
            "marker": {
             "pattern": {
              "fillmode": "overlay",
              "size": 10,
              "solidity": 0.2
             }
            },
            "type": "histogram"
           }
          ],
          "histogram2d": [
           {
            "colorbar": {
             "outlinewidth": 0,
             "ticks": ""
            },
            "colorscale": [
             [
              0,
              "#0d0887"
             ],
             [
              0.1111111111111111,
              "#46039f"
             ],
             [
              0.2222222222222222,
              "#7201a8"
             ],
             [
              0.3333333333333333,
              "#9c179e"
             ],
             [
              0.4444444444444444,
              "#bd3786"
             ],
             [
              0.5555555555555556,
              "#d8576b"
             ],
             [
              0.6666666666666666,
              "#ed7953"
             ],
             [
              0.7777777777777778,
              "#fb9f3a"
             ],
             [
              0.8888888888888888,
              "#fdca26"
             ],
             [
              1,
              "#f0f921"
             ]
            ],
            "type": "histogram2d"
           }
          ],
          "histogram2dcontour": [
           {
            "colorbar": {
             "outlinewidth": 0,
             "ticks": ""
            },
            "colorscale": [
             [
              0,
              "#0d0887"
             ],
             [
              0.1111111111111111,
              "#46039f"
             ],
             [
              0.2222222222222222,
              "#7201a8"
             ],
             [
              0.3333333333333333,
              "#9c179e"
             ],
             [
              0.4444444444444444,
              "#bd3786"
             ],
             [
              0.5555555555555556,
              "#d8576b"
             ],
             [
              0.6666666666666666,
              "#ed7953"
             ],
             [
              0.7777777777777778,
              "#fb9f3a"
             ],
             [
              0.8888888888888888,
              "#fdca26"
             ],
             [
              1,
              "#f0f921"
             ]
            ],
            "type": "histogram2dcontour"
           }
          ],
          "mesh3d": [
           {
            "colorbar": {
             "outlinewidth": 0,
             "ticks": ""
            },
            "type": "mesh3d"
           }
          ],
          "parcoords": [
           {
            "line": {
             "colorbar": {
              "outlinewidth": 0,
              "ticks": ""
             }
            },
            "type": "parcoords"
           }
          ],
          "pie": [
           {
            "automargin": true,
            "type": "pie"
           }
          ],
          "scatter": [
           {
            "fillpattern": {
             "fillmode": "overlay",
             "size": 10,
             "solidity": 0.2
            },
            "type": "scatter"
           }
          ],
          "scatter3d": [
           {
            "line": {
             "colorbar": {
              "outlinewidth": 0,
              "ticks": ""
             }
            },
            "marker": {
             "colorbar": {
              "outlinewidth": 0,
              "ticks": ""
             }
            },
            "type": "scatter3d"
           }
          ],
          "scattercarpet": [
           {
            "marker": {
             "colorbar": {
              "outlinewidth": 0,
              "ticks": ""
             }
            },
            "type": "scattercarpet"
           }
          ],
          "scattergeo": [
           {
            "marker": {
             "colorbar": {
              "outlinewidth": 0,
              "ticks": ""
             }
            },
            "type": "scattergeo"
           }
          ],
          "scattergl": [
           {
            "marker": {
             "colorbar": {
              "outlinewidth": 0,
              "ticks": ""
             }
            },
            "type": "scattergl"
           }
          ],
          "scattermapbox": [
           {
            "marker": {
             "colorbar": {
              "outlinewidth": 0,
              "ticks": ""
             }
            },
            "type": "scattermapbox"
           }
          ],
          "scatterpolar": [
           {
            "marker": {
             "colorbar": {
              "outlinewidth": 0,
              "ticks": ""
             }
            },
            "type": "scatterpolar"
           }
          ],
          "scatterpolargl": [
           {
            "marker": {
             "colorbar": {
              "outlinewidth": 0,
              "ticks": ""
             }
            },
            "type": "scatterpolargl"
           }
          ],
          "scatterternary": [
           {
            "marker": {
             "colorbar": {
              "outlinewidth": 0,
              "ticks": ""
             }
            },
            "type": "scatterternary"
           }
          ],
          "surface": [
           {
            "colorbar": {
             "outlinewidth": 0,
             "ticks": ""
            },
            "colorscale": [
             [
              0,
              "#0d0887"
             ],
             [
              0.1111111111111111,
              "#46039f"
             ],
             [
              0.2222222222222222,
              "#7201a8"
             ],
             [
              0.3333333333333333,
              "#9c179e"
             ],
             [
              0.4444444444444444,
              "#bd3786"
             ],
             [
              0.5555555555555556,
              "#d8576b"
             ],
             [
              0.6666666666666666,
              "#ed7953"
             ],
             [
              0.7777777777777778,
              "#fb9f3a"
             ],
             [
              0.8888888888888888,
              "#fdca26"
             ],
             [
              1,
              "#f0f921"
             ]
            ],
            "type": "surface"
           }
          ],
          "table": [
           {
            "cells": {
             "fill": {
              "color": "#EBF0F8"
             },
             "line": {
              "color": "white"
             }
            },
            "header": {
             "fill": {
              "color": "#C8D4E3"
             },
             "line": {
              "color": "white"
             }
            },
            "type": "table"
           }
          ]
         },
         "layout": {
          "annotationdefaults": {
           "arrowcolor": "#2a3f5f",
           "arrowhead": 0,
           "arrowwidth": 1
          },
          "autotypenumbers": "strict",
          "coloraxis": {
           "colorbar": {
            "outlinewidth": 0,
            "ticks": ""
           }
          },
          "colorscale": {
           "diverging": [
            [
             0,
             "#8e0152"
            ],
            [
             0.1,
             "#c51b7d"
            ],
            [
             0.2,
             "#de77ae"
            ],
            [
             0.3,
             "#f1b6da"
            ],
            [
             0.4,
             "#fde0ef"
            ],
            [
             0.5,
             "#f7f7f7"
            ],
            [
             0.6,
             "#e6f5d0"
            ],
            [
             0.7,
             "#b8e186"
            ],
            [
             0.8,
             "#7fbc41"
            ],
            [
             0.9,
             "#4d9221"
            ],
            [
             1,
             "#276419"
            ]
           ],
           "sequential": [
            [
             0,
             "#0d0887"
            ],
            [
             0.1111111111111111,
             "#46039f"
            ],
            [
             0.2222222222222222,
             "#7201a8"
            ],
            [
             0.3333333333333333,
             "#9c179e"
            ],
            [
             0.4444444444444444,
             "#bd3786"
            ],
            [
             0.5555555555555556,
             "#d8576b"
            ],
            [
             0.6666666666666666,
             "#ed7953"
            ],
            [
             0.7777777777777778,
             "#fb9f3a"
            ],
            [
             0.8888888888888888,
             "#fdca26"
            ],
            [
             1,
             "#f0f921"
            ]
           ],
           "sequentialminus": [
            [
             0,
             "#0d0887"
            ],
            [
             0.1111111111111111,
             "#46039f"
            ],
            [
             0.2222222222222222,
             "#7201a8"
            ],
            [
             0.3333333333333333,
             "#9c179e"
            ],
            [
             0.4444444444444444,
             "#bd3786"
            ],
            [
             0.5555555555555556,
             "#d8576b"
            ],
            [
             0.6666666666666666,
             "#ed7953"
            ],
            [
             0.7777777777777778,
             "#fb9f3a"
            ],
            [
             0.8888888888888888,
             "#fdca26"
            ],
            [
             1,
             "#f0f921"
            ]
           ]
          },
          "colorway": [
           "#636efa",
           "#EF553B",
           "#00cc96",
           "#ab63fa",
           "#FFA15A",
           "#19d3f3",
           "#FF6692",
           "#B6E880",
           "#FF97FF",
           "#FECB52"
          ],
          "font": {
           "color": "#2a3f5f"
          },
          "geo": {
           "bgcolor": "white",
           "lakecolor": "white",
           "landcolor": "#E5ECF6",
           "showlakes": true,
           "showland": true,
           "subunitcolor": "white"
          },
          "hoverlabel": {
           "align": "left"
          },
          "hovermode": "closest",
          "mapbox": {
           "style": "light"
          },
          "paper_bgcolor": "white",
          "plot_bgcolor": "#E5ECF6",
          "polar": {
           "angularaxis": {
            "gridcolor": "white",
            "linecolor": "white",
            "ticks": ""
           },
           "bgcolor": "#E5ECF6",
           "radialaxis": {
            "gridcolor": "white",
            "linecolor": "white",
            "ticks": ""
           }
          },
          "scene": {
           "xaxis": {
            "backgroundcolor": "#E5ECF6",
            "gridcolor": "white",
            "gridwidth": 2,
            "linecolor": "white",
            "showbackground": true,
            "ticks": "",
            "zerolinecolor": "white"
           },
           "yaxis": {
            "backgroundcolor": "#E5ECF6",
            "gridcolor": "white",
            "gridwidth": 2,
            "linecolor": "white",
            "showbackground": true,
            "ticks": "",
            "zerolinecolor": "white"
           },
           "zaxis": {
            "backgroundcolor": "#E5ECF6",
            "gridcolor": "white",
            "gridwidth": 2,
            "linecolor": "white",
            "showbackground": true,
            "ticks": "",
            "zerolinecolor": "white"
           }
          },
          "shapedefaults": {
           "line": {
            "color": "#2a3f5f"
           }
          },
          "ternary": {
           "aaxis": {
            "gridcolor": "white",
            "linecolor": "white",
            "ticks": ""
           },
           "baxis": {
            "gridcolor": "white",
            "linecolor": "white",
            "ticks": ""
           },
           "bgcolor": "#E5ECF6",
           "caxis": {
            "gridcolor": "white",
            "linecolor": "white",
            "ticks": ""
           }
          },
          "title": {
           "x": 0.05
          },
          "xaxis": {
           "automargin": true,
           "gridcolor": "white",
           "linecolor": "white",
           "ticks": "",
           "title": {
            "standoff": 15
           },
           "zerolinecolor": "white",
           "zerolinewidth": 2
          },
          "yaxis": {
           "automargin": true,
           "gridcolor": "white",
           "linecolor": "white",
           "ticks": "",
           "title": {
            "standoff": 15
           },
           "zerolinecolor": "white",
           "zerolinewidth": 2
          }
         }
        },
        "xaxis": {
         "anchor": "y",
         "constrain": "domain",
         "domain": [
          0,
          1
         ],
         "scaleanchor": "y"
        },
        "yaxis": {
         "anchor": "x",
         "autorange": "reversed",
         "constrain": "domain",
         "domain": [
          0,
          1
         ]
        }
       }
      },
      "text/html": [
       "<div>                            <div id=\"9f1376ed-dc47-432a-ac98-b04cf7f51d68\" class=\"plotly-graph-div\" style=\"height:525px; width:100%;\"></div>            <script type=\"text/javascript\">                require([\"plotly\"], function(Plotly) {                    window.PLOTLYENV=window.PLOTLYENV || {};                                    if (document.getElementById(\"9f1376ed-dc47-432a-ac98-b04cf7f51d68\")) {                    Plotly.newPlot(                        \"9f1376ed-dc47-432a-ac98-b04cf7f51d68\",                        [{\"coloraxis\":\"coloraxis\",\"name\":\"0\",\"texttemplate\":\"%{z}\",\"x\":[\"valence\",\"year\",\"acousticness\",\"danceability\",\"duration_ms\",\"energy\",\"instrumentalness\",\"liveness\",\"loudness\",\"popularity\",\"speechiness\",\"tempo\"],\"y\":[\"valence\",\"year\",\"acousticness\",\"danceability\",\"duration_ms\",\"energy\",\"instrumentalness\",\"liveness\",\"loudness\",\"popularity\",\"speechiness\",\"tempo\"],\"z\":[[1.0,-0.11152818996552269,-0.17906507578880113,0.4706016928505381,-0.19255117869290994,0.35029199798428345,-0.2557841048653347,0.02221366049722543,0.3378977669900986,-0.02666406634639214,0.08252614933102408,0.07315334866798318],[-0.11152818996552269,1.0,-0.011224012558530316,0.17440028973064198,-0.14627395555186518,-0.06995658525945365,-0.13203456252176587,-0.04295002368784964,0.052483197651396335,0.5520537744643068,0.12405143773766447,0.02311722172289499],[-0.17906507578880113,-0.011224012558530316,1.0,-0.1758942916516538,-0.05596681465486787,-0.7091107964699702,0.29973973152822125,-0.09844289738151028,-0.6036127005064934,-0.03187901141421101,-0.12082482277726948,-0.15474122793050457],[0.4706016928505381,0.17440028973064198,-0.1758942916516538,1.0,-0.15971497774585897,0.08735820678113757,-0.3142998559030547,-0.0696597044523255,0.2679343205070181,0.1809607849711362,0.2267015756782655,-0.09486499562608043],[-0.19255117869290994,-0.14627395555186518,-0.05596681465486787,-0.15971497774585897,1.0,0.014565108670534132,0.07164598789913075,0.052743206410793615,-0.017003038059048684,-0.10932110003241752,-0.02851359221465405,-0.028602148844984],[0.35029199798428345,-0.06995658525945365,-0.7091107964699702,0.08735820678113757,0.014565108670534132,1.0,-0.3164682501295295,0.17387777376175623,0.7595724242928918,-0.028459539491050623,0.11401773090551177,0.1916455676981815],[-0.2557841048653347,-0.13203456252176587,0.29973973152822125,-0.3142998559030547,0.07164598789913075,-0.3164682501295295,1.0,-0.06234712806061889,-0.5588938236531733,-0.12504620012490858,-0.1371187140191706,-0.09444020881622293],[0.02221366049722543,-0.04295002368784964,-0.09844289738151028,-0.0696597044523255,0.052743206410793615,0.17387777376175623,-0.06234712806061889,1.0,0.09144172661855732,-0.06860593075406679,0.11955070410710385,0.014857567069808593],[0.3378977669900986,0.052483197651396335,-0.6036127005064934,0.2679343205070181,-0.017003038059048684,0.7595724242928918,-0.5588938236531733,0.09144172661855732,1.0,0.09292468076617552,0.07902873344113712,0.18045939002871472],[-0.02666406634639214,0.5520537744643068,-0.03187901141421101,0.1809607849711362,-0.10932110003241752,-0.028459539491050623,-0.12504620012490858,-0.06860593075406679,0.09292468076617552,1.0,0.057125553208252515,-0.00033755419876421543],[0.08252614933102408,0.12405143773766447,-0.12082482277726948,0.2267015756782655,-0.02851359221465405,0.11401773090551177,-0.1371187140191706,0.11955070410710385,0.07902873344113712,0.057125553208252515,1.0,0.04062153175888837],[0.07315334866798318,0.02311722172289499,-0.15474122793050457,-0.09486499562608043,-0.028602148844984,0.1916455676981815,-0.09444020881622293,0.014857567069808593,0.18045939002871472,-0.00033755419876421543,0.04062153175888837,1.0]],\"type\":\"heatmap\",\"xaxis\":\"x\",\"yaxis\":\"y\",\"hovertemplate\":\"x: %{x}<br>y: %{y}<br>color: %{z}<extra></extra>\"}],                        {\"template\":{\"data\":{\"histogram2dcontour\":[{\"type\":\"histogram2dcontour\",\"colorbar\":{\"outlinewidth\":0,\"ticks\":\"\"},\"colorscale\":[[0.0,\"#0d0887\"],[0.1111111111111111,\"#46039f\"],[0.2222222222222222,\"#7201a8\"],[0.3333333333333333,\"#9c179e\"],[0.4444444444444444,\"#bd3786\"],[0.5555555555555556,\"#d8576b\"],[0.6666666666666666,\"#ed7953\"],[0.7777777777777778,\"#fb9f3a\"],[0.8888888888888888,\"#fdca26\"],[1.0,\"#f0f921\"]]}],\"choropleth\":[{\"type\":\"choropleth\",\"colorbar\":{\"outlinewidth\":0,\"ticks\":\"\"}}],\"histogram2d\":[{\"type\":\"histogram2d\",\"colorbar\":{\"outlinewidth\":0,\"ticks\":\"\"},\"colorscale\":[[0.0,\"#0d0887\"],[0.1111111111111111,\"#46039f\"],[0.2222222222222222,\"#7201a8\"],[0.3333333333333333,\"#9c179e\"],[0.4444444444444444,\"#bd3786\"],[0.5555555555555556,\"#d8576b\"],[0.6666666666666666,\"#ed7953\"],[0.7777777777777778,\"#fb9f3a\"],[0.8888888888888888,\"#fdca26\"],[1.0,\"#f0f921\"]]}],\"heatmap\":[{\"type\":\"heatmap\",\"colorbar\":{\"outlinewidth\":0,\"ticks\":\"\"},\"colorscale\":[[0.0,\"#0d0887\"],[0.1111111111111111,\"#46039f\"],[0.2222222222222222,\"#7201a8\"],[0.3333333333333333,\"#9c179e\"],[0.4444444444444444,\"#bd3786\"],[0.5555555555555556,\"#d8576b\"],[0.6666666666666666,\"#ed7953\"],[0.7777777777777778,\"#fb9f3a\"],[0.8888888888888888,\"#fdca26\"],[1.0,\"#f0f921\"]]}],\"heatmapgl\":[{\"type\":\"heatmapgl\",\"colorbar\":{\"outlinewidth\":0,\"ticks\":\"\"},\"colorscale\":[[0.0,\"#0d0887\"],[0.1111111111111111,\"#46039f\"],[0.2222222222222222,\"#7201a8\"],[0.3333333333333333,\"#9c179e\"],[0.4444444444444444,\"#bd3786\"],[0.5555555555555556,\"#d8576b\"],[0.6666666666666666,\"#ed7953\"],[0.7777777777777778,\"#fb9f3a\"],[0.8888888888888888,\"#fdca26\"],[1.0,\"#f0f921\"]]}],\"contourcarpet\":[{\"type\":\"contourcarpet\",\"colorbar\":{\"outlinewidth\":0,\"ticks\":\"\"}}],\"contour\":[{\"type\":\"contour\",\"colorbar\":{\"outlinewidth\":0,\"ticks\":\"\"},\"colorscale\":[[0.0,\"#0d0887\"],[0.1111111111111111,\"#46039f\"],[0.2222222222222222,\"#7201a8\"],[0.3333333333333333,\"#9c179e\"],[0.4444444444444444,\"#bd3786\"],[0.5555555555555556,\"#d8576b\"],[0.6666666666666666,\"#ed7953\"],[0.7777777777777778,\"#fb9f3a\"],[0.8888888888888888,\"#fdca26\"],[1.0,\"#f0f921\"]]}],\"surface\":[{\"type\":\"surface\",\"colorbar\":{\"outlinewidth\":0,\"ticks\":\"\"},\"colorscale\":[[0.0,\"#0d0887\"],[0.1111111111111111,\"#46039f\"],[0.2222222222222222,\"#7201a8\"],[0.3333333333333333,\"#9c179e\"],[0.4444444444444444,\"#bd3786\"],[0.5555555555555556,\"#d8576b\"],[0.6666666666666666,\"#ed7953\"],[0.7777777777777778,\"#fb9f3a\"],[0.8888888888888888,\"#fdca26\"],[1.0,\"#f0f921\"]]}],\"mesh3d\":[{\"type\":\"mesh3d\",\"colorbar\":{\"outlinewidth\":0,\"ticks\":\"\"}}],\"scatter\":[{\"fillpattern\":{\"fillmode\":\"overlay\",\"size\":10,\"solidity\":0.2},\"type\":\"scatter\"}],\"parcoords\":[{\"type\":\"parcoords\",\"line\":{\"colorbar\":{\"outlinewidth\":0,\"ticks\":\"\"}}}],\"scatterpolargl\":[{\"type\":\"scatterpolargl\",\"marker\":{\"colorbar\":{\"outlinewidth\":0,\"ticks\":\"\"}}}],\"bar\":[{\"error_x\":{\"color\":\"#2a3f5f\"},\"error_y\":{\"color\":\"#2a3f5f\"},\"marker\":{\"line\":{\"color\":\"#E5ECF6\",\"width\":0.5},\"pattern\":{\"fillmode\":\"overlay\",\"size\":10,\"solidity\":0.2}},\"type\":\"bar\"}],\"scattergeo\":[{\"type\":\"scattergeo\",\"marker\":{\"colorbar\":{\"outlinewidth\":0,\"ticks\":\"\"}}}],\"scatterpolar\":[{\"type\":\"scatterpolar\",\"marker\":{\"colorbar\":{\"outlinewidth\":0,\"ticks\":\"\"}}}],\"histogram\":[{\"marker\":{\"pattern\":{\"fillmode\":\"overlay\",\"size\":10,\"solidity\":0.2}},\"type\":\"histogram\"}],\"scattergl\":[{\"type\":\"scattergl\",\"marker\":{\"colorbar\":{\"outlinewidth\":0,\"ticks\":\"\"}}}],\"scatter3d\":[{\"type\":\"scatter3d\",\"line\":{\"colorbar\":{\"outlinewidth\":0,\"ticks\":\"\"}},\"marker\":{\"colorbar\":{\"outlinewidth\":0,\"ticks\":\"\"}}}],\"scattermapbox\":[{\"type\":\"scattermapbox\",\"marker\":{\"colorbar\":{\"outlinewidth\":0,\"ticks\":\"\"}}}],\"scatterternary\":[{\"type\":\"scatterternary\",\"marker\":{\"colorbar\":{\"outlinewidth\":0,\"ticks\":\"\"}}}],\"scattercarpet\":[{\"type\":\"scattercarpet\",\"marker\":{\"colorbar\":{\"outlinewidth\":0,\"ticks\":\"\"}}}],\"carpet\":[{\"aaxis\":{\"endlinecolor\":\"#2a3f5f\",\"gridcolor\":\"white\",\"linecolor\":\"white\",\"minorgridcolor\":\"white\",\"startlinecolor\":\"#2a3f5f\"},\"baxis\":{\"endlinecolor\":\"#2a3f5f\",\"gridcolor\":\"white\",\"linecolor\":\"white\",\"minorgridcolor\":\"white\",\"startlinecolor\":\"#2a3f5f\"},\"type\":\"carpet\"}],\"table\":[{\"cells\":{\"fill\":{\"color\":\"#EBF0F8\"},\"line\":{\"color\":\"white\"}},\"header\":{\"fill\":{\"color\":\"#C8D4E3\"},\"line\":{\"color\":\"white\"}},\"type\":\"table\"}],\"barpolar\":[{\"marker\":{\"line\":{\"color\":\"#E5ECF6\",\"width\":0.5},\"pattern\":{\"fillmode\":\"overlay\",\"size\":10,\"solidity\":0.2}},\"type\":\"barpolar\"}],\"pie\":[{\"automargin\":true,\"type\":\"pie\"}]},\"layout\":{\"autotypenumbers\":\"strict\",\"colorway\":[\"#636efa\",\"#EF553B\",\"#00cc96\",\"#ab63fa\",\"#FFA15A\",\"#19d3f3\",\"#FF6692\",\"#B6E880\",\"#FF97FF\",\"#FECB52\"],\"font\":{\"color\":\"#2a3f5f\"},\"hovermode\":\"closest\",\"hoverlabel\":{\"align\":\"left\"},\"paper_bgcolor\":\"white\",\"plot_bgcolor\":\"#E5ECF6\",\"polar\":{\"bgcolor\":\"#E5ECF6\",\"angularaxis\":{\"gridcolor\":\"white\",\"linecolor\":\"white\",\"ticks\":\"\"},\"radialaxis\":{\"gridcolor\":\"white\",\"linecolor\":\"white\",\"ticks\":\"\"}},\"ternary\":{\"bgcolor\":\"#E5ECF6\",\"aaxis\":{\"gridcolor\":\"white\",\"linecolor\":\"white\",\"ticks\":\"\"},\"baxis\":{\"gridcolor\":\"white\",\"linecolor\":\"white\",\"ticks\":\"\"},\"caxis\":{\"gridcolor\":\"white\",\"linecolor\":\"white\",\"ticks\":\"\"}},\"coloraxis\":{\"colorbar\":{\"outlinewidth\":0,\"ticks\":\"\"}},\"colorscale\":{\"sequential\":[[0.0,\"#0d0887\"],[0.1111111111111111,\"#46039f\"],[0.2222222222222222,\"#7201a8\"],[0.3333333333333333,\"#9c179e\"],[0.4444444444444444,\"#bd3786\"],[0.5555555555555556,\"#d8576b\"],[0.6666666666666666,\"#ed7953\"],[0.7777777777777778,\"#fb9f3a\"],[0.8888888888888888,\"#fdca26\"],[1.0,\"#f0f921\"]],\"sequentialminus\":[[0.0,\"#0d0887\"],[0.1111111111111111,\"#46039f\"],[0.2222222222222222,\"#7201a8\"],[0.3333333333333333,\"#9c179e\"],[0.4444444444444444,\"#bd3786\"],[0.5555555555555556,\"#d8576b\"],[0.6666666666666666,\"#ed7953\"],[0.7777777777777778,\"#fb9f3a\"],[0.8888888888888888,\"#fdca26\"],[1.0,\"#f0f921\"]],\"diverging\":[[0,\"#8e0152\"],[0.1,\"#c51b7d\"],[0.2,\"#de77ae\"],[0.3,\"#f1b6da\"],[0.4,\"#fde0ef\"],[0.5,\"#f7f7f7\"],[0.6,\"#e6f5d0\"],[0.7,\"#b8e186\"],[0.8,\"#7fbc41\"],[0.9,\"#4d9221\"],[1,\"#276419\"]]},\"xaxis\":{\"gridcolor\":\"white\",\"linecolor\":\"white\",\"ticks\":\"\",\"title\":{\"standoff\":15},\"zerolinecolor\":\"white\",\"automargin\":true,\"zerolinewidth\":2},\"yaxis\":{\"gridcolor\":\"white\",\"linecolor\":\"white\",\"ticks\":\"\",\"title\":{\"standoff\":15},\"zerolinecolor\":\"white\",\"automargin\":true,\"zerolinewidth\":2},\"scene\":{\"xaxis\":{\"backgroundcolor\":\"#E5ECF6\",\"gridcolor\":\"white\",\"linecolor\":\"white\",\"showbackground\":true,\"ticks\":\"\",\"zerolinecolor\":\"white\",\"gridwidth\":2},\"yaxis\":{\"backgroundcolor\":\"#E5ECF6\",\"gridcolor\":\"white\",\"linecolor\":\"white\",\"showbackground\":true,\"ticks\":\"\",\"zerolinecolor\":\"white\",\"gridwidth\":2},\"zaxis\":{\"backgroundcolor\":\"#E5ECF6\",\"gridcolor\":\"white\",\"linecolor\":\"white\",\"showbackground\":true,\"ticks\":\"\",\"zerolinecolor\":\"white\",\"gridwidth\":2}},\"shapedefaults\":{\"line\":{\"color\":\"#2a3f5f\"}},\"annotationdefaults\":{\"arrowcolor\":\"#2a3f5f\",\"arrowhead\":0,\"arrowwidth\":1},\"geo\":{\"bgcolor\":\"white\",\"landcolor\":\"#E5ECF6\",\"subunitcolor\":\"white\",\"showland\":true,\"showlakes\":true,\"lakecolor\":\"white\"},\"title\":{\"x\":0.05},\"mapbox\":{\"style\":\"light\"}}},\"xaxis\":{\"anchor\":\"y\",\"domain\":[0.0,1.0],\"scaleanchor\":\"y\",\"constrain\":\"domain\"},\"yaxis\":{\"anchor\":\"x\",\"domain\":[0.0,1.0],\"autorange\":\"reversed\",\"constrain\":\"domain\"},\"coloraxis\":{\"colorscale\":[[0.0,\"#0d0887\"],[0.1111111111111111,\"#46039f\"],[0.2222222222222222,\"#7201a8\"],[0.3333333333333333,\"#9c179e\"],[0.4444444444444444,\"#bd3786\"],[0.5555555555555556,\"#d8576b\"],[0.6666666666666666,\"#ed7953\"],[0.7777777777777778,\"#fb9f3a\"],[0.8888888888888888,\"#fdca26\"],[1.0,\"#f0f921\"]]},\"margin\":{\"t\":60}},                        {\"responsive\": true}                    ).then(function(){\n",
       "                            \n",
       "var gd = document.getElementById('9f1376ed-dc47-432a-ac98-b04cf7f51d68');\n",
       "var x = new MutationObserver(function (mutations, observer) {{\n",
       "        var display = window.getComputedStyle(gd).display;\n",
       "        if (!display || display === 'none') {{\n",
       "            console.log([gd, 'removed!']);\n",
       "            Plotly.purge(gd);\n",
       "            observer.disconnect();\n",
       "        }}\n",
       "}});\n",
       "\n",
       "// Listen for the removal of the full notebook cells\n",
       "var notebookContainer = gd.closest('#notebook-container');\n",
       "if (notebookContainer) {{\n",
       "    x.observe(notebookContainer, {childList: true});\n",
       "}}\n",
       "\n",
       "// Listen for the clearing of the current output cell\n",
       "var outputEl = gd.closest('.output');\n",
       "if (outputEl) {{\n",
       "    x.observe(outputEl, {childList: true});\n",
       "}}\n",
       "\n",
       "                        })                };                });            </script>        </div>"
      ]
     },
     "metadata": {},
     "output_type": "display_data"
    }
   ],
   "source": [
    "corr_matrix = px.imshow(total_data.drop(\n",
    "    columns=['artists', 'id', 'name', 'artists_song'], axis=1\n",
    ").corr(), text_auto=True)\n",
    "corr_matrix.show()"
   ]
  },
  {
   "cell_type": "code",
   "execution_count": null,
   "metadata": {},
   "outputs": [],
   "source": []
  },
  {
   "cell_type": "markdown",
   "metadata": {},
   "source": [
    "# 02. Clusterização por gênero"
   ]
  },
  {
   "cell_type": "markdown",
   "metadata": {},
   "source": [
    "## 2.1 PCA e StandarScaler"
   ]
  },
  {
   "cell_type": "code",
   "execution_count": 121,
   "metadata": {},
   "outputs": [
    {
     "data": {
      "text/html": [
       "<div>\n",
       "<style scoped>\n",
       "    .dataframe tbody tr th:only-of-type {\n",
       "        vertical-align: middle;\n",
       "    }\n",
       "\n",
       "    .dataframe tbody tr th {\n",
       "        vertical-align: top;\n",
       "    }\n",
       "\n",
       "    .dataframe thead th {\n",
       "        text-align: right;\n",
       "    }\n",
       "</style>\n",
       "<table border=\"1\" class=\"dataframe\">\n",
       "  <thead>\n",
       "    <tr style=\"text-align: right;\">\n",
       "      <th></th>\n",
       "      <th>genres</th>\n",
       "      <th>acousticness</th>\n",
       "      <th>danceability</th>\n",
       "      <th>duration_ms</th>\n",
       "      <th>energy</th>\n",
       "      <th>instrumentalness</th>\n",
       "      <th>liveness</th>\n",
       "      <th>loudness</th>\n",
       "      <th>speechiness</th>\n",
       "      <th>tempo</th>\n",
       "      <th>valence</th>\n",
       "      <th>popularity</th>\n",
       "    </tr>\n",
       "  </thead>\n",
       "  <tbody>\n",
       "    <tr>\n",
       "      <th>0</th>\n",
       "      <td>21st century classical</td>\n",
       "      <td>0.979333</td>\n",
       "      <td>0.162883</td>\n",
       "      <td>1.602977e+05</td>\n",
       "      <td>0.071317</td>\n",
       "      <td>0.606834</td>\n",
       "      <td>0.361600</td>\n",
       "      <td>-31.514333</td>\n",
       "      <td>0.040567</td>\n",
       "      <td>75.336500</td>\n",
       "      <td>0.103783</td>\n",
       "      <td>27.833333</td>\n",
       "    </tr>\n",
       "    <tr>\n",
       "      <th>1</th>\n",
       "      <td>432hz</td>\n",
       "      <td>0.494780</td>\n",
       "      <td>0.299333</td>\n",
       "      <td>1.048887e+06</td>\n",
       "      <td>0.450678</td>\n",
       "      <td>0.477762</td>\n",
       "      <td>0.131000</td>\n",
       "      <td>-16.854000</td>\n",
       "      <td>0.076817</td>\n",
       "      <td>120.285667</td>\n",
       "      <td>0.221750</td>\n",
       "      <td>52.500000</td>\n",
       "    </tr>\n",
       "    <tr>\n",
       "      <th>2</th>\n",
       "      <td>8-bit</td>\n",
       "      <td>0.762000</td>\n",
       "      <td>0.712000</td>\n",
       "      <td>1.151770e+05</td>\n",
       "      <td>0.818000</td>\n",
       "      <td>0.876000</td>\n",
       "      <td>0.126000</td>\n",
       "      <td>-9.180000</td>\n",
       "      <td>0.047000</td>\n",
       "      <td>133.444000</td>\n",
       "      <td>0.975000</td>\n",
       "      <td>48.000000</td>\n",
       "    </tr>\n",
       "    <tr>\n",
       "      <th>3</th>\n",
       "      <td>[]</td>\n",
       "      <td>0.651417</td>\n",
       "      <td>0.529093</td>\n",
       "      <td>2.328809e+05</td>\n",
       "      <td>0.419146</td>\n",
       "      <td>0.205309</td>\n",
       "      <td>0.218696</td>\n",
       "      <td>-12.288965</td>\n",
       "      <td>0.107872</td>\n",
       "      <td>112.857352</td>\n",
       "      <td>0.513604</td>\n",
       "      <td>20.859882</td>\n",
       "    </tr>\n",
       "    <tr>\n",
       "      <th>4</th>\n",
       "      <td>a cappella</td>\n",
       "      <td>0.676557</td>\n",
       "      <td>0.538961</td>\n",
       "      <td>1.906285e+05</td>\n",
       "      <td>0.316434</td>\n",
       "      <td>0.003003</td>\n",
       "      <td>0.172254</td>\n",
       "      <td>-12.479387</td>\n",
       "      <td>0.082851</td>\n",
       "      <td>112.110362</td>\n",
       "      <td>0.448249</td>\n",
       "      <td>45.820071</td>\n",
       "    </tr>\n",
       "    <tr>\n",
       "      <th>...</th>\n",
       "      <td>...</td>\n",
       "      <td>...</td>\n",
       "      <td>...</td>\n",
       "      <td>...</td>\n",
       "      <td>...</td>\n",
       "      <td>...</td>\n",
       "      <td>...</td>\n",
       "      <td>...</td>\n",
       "      <td>...</td>\n",
       "      <td>...</td>\n",
       "      <td>...</td>\n",
       "      <td>...</td>\n",
       "    </tr>\n",
       "    <tr>\n",
       "      <th>2968</th>\n",
       "      <td>zolo</td>\n",
       "      <td>0.222625</td>\n",
       "      <td>0.547082</td>\n",
       "      <td>2.580991e+05</td>\n",
       "      <td>0.610240</td>\n",
       "      <td>0.143872</td>\n",
       "      <td>0.204206</td>\n",
       "      <td>-11.295878</td>\n",
       "      <td>0.061088</td>\n",
       "      <td>125.494919</td>\n",
       "      <td>0.596155</td>\n",
       "      <td>33.778943</td>\n",
       "    </tr>\n",
       "    <tr>\n",
       "      <th>2969</th>\n",
       "      <td>zouglou</td>\n",
       "      <td>0.161000</td>\n",
       "      <td>0.863000</td>\n",
       "      <td>2.063200e+05</td>\n",
       "      <td>0.909000</td>\n",
       "      <td>0.000000</td>\n",
       "      <td>0.108000</td>\n",
       "      <td>-5.985000</td>\n",
       "      <td>0.081300</td>\n",
       "      <td>119.038000</td>\n",
       "      <td>0.845000</td>\n",
       "      <td>58.000000</td>\n",
       "    </tr>\n",
       "    <tr>\n",
       "      <th>2970</th>\n",
       "      <td>zouk</td>\n",
       "      <td>0.263261</td>\n",
       "      <td>0.748889</td>\n",
       "      <td>3.060728e+05</td>\n",
       "      <td>0.622444</td>\n",
       "      <td>0.257227</td>\n",
       "      <td>0.089678</td>\n",
       "      <td>-10.289222</td>\n",
       "      <td>0.038778</td>\n",
       "      <td>101.965222</td>\n",
       "      <td>0.824111</td>\n",
       "      <td>46.666667</td>\n",
       "    </tr>\n",
       "    <tr>\n",
       "      <th>2971</th>\n",
       "      <td>zurich indie</td>\n",
       "      <td>0.993000</td>\n",
       "      <td>0.705667</td>\n",
       "      <td>1.984173e+05</td>\n",
       "      <td>0.172667</td>\n",
       "      <td>0.468633</td>\n",
       "      <td>0.179667</td>\n",
       "      <td>-11.453333</td>\n",
       "      <td>0.348667</td>\n",
       "      <td>91.278000</td>\n",
       "      <td>0.739000</td>\n",
       "      <td>0.000000</td>\n",
       "    </tr>\n",
       "    <tr>\n",
       "      <th>2972</th>\n",
       "      <td>zydeco</td>\n",
       "      <td>0.421038</td>\n",
       "      <td>0.629409</td>\n",
       "      <td>1.716717e+05</td>\n",
       "      <td>0.609369</td>\n",
       "      <td>0.019248</td>\n",
       "      <td>0.255877</td>\n",
       "      <td>-9.854825</td>\n",
       "      <td>0.050491</td>\n",
       "      <td>126.366087</td>\n",
       "      <td>0.808544</td>\n",
       "      <td>30.261905</td>\n",
       "    </tr>\n",
       "  </tbody>\n",
       "</table>\n",
       "<p>2973 rows × 12 columns</p>\n",
       "</div>"
      ],
      "text/plain": [
       "                      genres  acousticness  danceability   duration_ms  \\\n",
       "0     21st century classical      0.979333      0.162883  1.602977e+05   \n",
       "1                      432hz      0.494780      0.299333  1.048887e+06   \n",
       "2                      8-bit      0.762000      0.712000  1.151770e+05   \n",
       "3                         []      0.651417      0.529093  2.328809e+05   \n",
       "4                 a cappella      0.676557      0.538961  1.906285e+05   \n",
       "...                      ...           ...           ...           ...   \n",
       "2968                    zolo      0.222625      0.547082  2.580991e+05   \n",
       "2969                 zouglou      0.161000      0.863000  2.063200e+05   \n",
       "2970                    zouk      0.263261      0.748889  3.060728e+05   \n",
       "2971            zurich indie      0.993000      0.705667  1.984173e+05   \n",
       "2972                  zydeco      0.421038      0.629409  1.716717e+05   \n",
       "\n",
       "        energy  instrumentalness  liveness   loudness  speechiness  \\\n",
       "0     0.071317          0.606834  0.361600 -31.514333     0.040567   \n",
       "1     0.450678          0.477762  0.131000 -16.854000     0.076817   \n",
       "2     0.818000          0.876000  0.126000  -9.180000     0.047000   \n",
       "3     0.419146          0.205309  0.218696 -12.288965     0.107872   \n",
       "4     0.316434          0.003003  0.172254 -12.479387     0.082851   \n",
       "...        ...               ...       ...        ...          ...   \n",
       "2968  0.610240          0.143872  0.204206 -11.295878     0.061088   \n",
       "2969  0.909000          0.000000  0.108000  -5.985000     0.081300   \n",
       "2970  0.622444          0.257227  0.089678 -10.289222     0.038778   \n",
       "2971  0.172667          0.468633  0.179667 -11.453333     0.348667   \n",
       "2972  0.609369          0.019248  0.255877  -9.854825     0.050491   \n",
       "\n",
       "           tempo   valence  popularity  \n",
       "0      75.336500  0.103783   27.833333  \n",
       "1     120.285667  0.221750   52.500000  \n",
       "2     133.444000  0.975000   48.000000  \n",
       "3     112.857352  0.513604   20.859882  \n",
       "4     112.110362  0.448249   45.820071  \n",
       "...          ...       ...         ...  \n",
       "2968  125.494919  0.596155   33.778943  \n",
       "2969  119.038000  0.845000   58.000000  \n",
       "2970  101.965222  0.824111   46.666667  \n",
       "2971   91.278000  0.739000    0.000000  \n",
       "2972  126.366087  0.808544   30.261905  \n",
       "\n",
       "[2973 rows x 12 columns]"
      ]
     },
     "execution_count": 121,
     "metadata": {},
     "output_type": "execute_result"
    }
   ],
   "source": [
    "data_by_genre"
   ]
  },
  {
   "cell_type": "code",
   "execution_count": 122,
   "metadata": {},
   "outputs": [
    {
     "data": {
      "text/plain": [
       "2973"
      ]
     },
     "execution_count": 122,
     "metadata": {},
     "output_type": "execute_result"
    }
   ],
   "source": [
    "data_by_genre[\"genres\"].value_counts().sum()"
   ]
  },
  {
   "cell_type": "code",
   "execution_count": 123,
   "metadata": {},
   "outputs": [
    {
     "data": {
      "text/html": [
       "<div>\n",
       "<style scoped>\n",
       "    .dataframe tbody tr th:only-of-type {\n",
       "        vertical-align: middle;\n",
       "    }\n",
       "\n",
       "    .dataframe tbody tr th {\n",
       "        vertical-align: top;\n",
       "    }\n",
       "\n",
       "    .dataframe thead th {\n",
       "        text-align: right;\n",
       "    }\n",
       "</style>\n",
       "<table border=\"1\" class=\"dataframe\">\n",
       "  <thead>\n",
       "    <tr style=\"text-align: right;\">\n",
       "      <th></th>\n",
       "      <th>acousticness</th>\n",
       "      <th>danceability</th>\n",
       "      <th>duration_ms</th>\n",
       "      <th>energy</th>\n",
       "      <th>instrumentalness</th>\n",
       "      <th>liveness</th>\n",
       "      <th>loudness</th>\n",
       "      <th>speechiness</th>\n",
       "      <th>tempo</th>\n",
       "      <th>valence</th>\n",
       "      <th>popularity</th>\n",
       "    </tr>\n",
       "  </thead>\n",
       "  <tbody>\n",
       "    <tr>\n",
       "      <th>0</th>\n",
       "      <td>0.979333</td>\n",
       "      <td>0.162883</td>\n",
       "      <td>1.602977e+05</td>\n",
       "      <td>0.071317</td>\n",
       "      <td>0.606834</td>\n",
       "      <td>0.361600</td>\n",
       "      <td>-31.514333</td>\n",
       "      <td>0.040567</td>\n",
       "      <td>75.336500</td>\n",
       "      <td>0.103783</td>\n",
       "      <td>27.833333</td>\n",
       "    </tr>\n",
       "    <tr>\n",
       "      <th>1</th>\n",
       "      <td>0.494780</td>\n",
       "      <td>0.299333</td>\n",
       "      <td>1.048887e+06</td>\n",
       "      <td>0.450678</td>\n",
       "      <td>0.477762</td>\n",
       "      <td>0.131000</td>\n",
       "      <td>-16.854000</td>\n",
       "      <td>0.076817</td>\n",
       "      <td>120.285667</td>\n",
       "      <td>0.221750</td>\n",
       "      <td>52.500000</td>\n",
       "    </tr>\n",
       "    <tr>\n",
       "      <th>2</th>\n",
       "      <td>0.762000</td>\n",
       "      <td>0.712000</td>\n",
       "      <td>1.151770e+05</td>\n",
       "      <td>0.818000</td>\n",
       "      <td>0.876000</td>\n",
       "      <td>0.126000</td>\n",
       "      <td>-9.180000</td>\n",
       "      <td>0.047000</td>\n",
       "      <td>133.444000</td>\n",
       "      <td>0.975000</td>\n",
       "      <td>48.000000</td>\n",
       "    </tr>\n",
       "    <tr>\n",
       "      <th>3</th>\n",
       "      <td>0.651417</td>\n",
       "      <td>0.529093</td>\n",
       "      <td>2.328809e+05</td>\n",
       "      <td>0.419146</td>\n",
       "      <td>0.205309</td>\n",
       "      <td>0.218696</td>\n",
       "      <td>-12.288965</td>\n",
       "      <td>0.107872</td>\n",
       "      <td>112.857352</td>\n",
       "      <td>0.513604</td>\n",
       "      <td>20.859882</td>\n",
       "    </tr>\n",
       "    <tr>\n",
       "      <th>4</th>\n",
       "      <td>0.676557</td>\n",
       "      <td>0.538961</td>\n",
       "      <td>1.906285e+05</td>\n",
       "      <td>0.316434</td>\n",
       "      <td>0.003003</td>\n",
       "      <td>0.172254</td>\n",
       "      <td>-12.479387</td>\n",
       "      <td>0.082851</td>\n",
       "      <td>112.110362</td>\n",
       "      <td>0.448249</td>\n",
       "      <td>45.820071</td>\n",
       "    </tr>\n",
       "    <tr>\n",
       "      <th>...</th>\n",
       "      <td>...</td>\n",
       "      <td>...</td>\n",
       "      <td>...</td>\n",
       "      <td>...</td>\n",
       "      <td>...</td>\n",
       "      <td>...</td>\n",
       "      <td>...</td>\n",
       "      <td>...</td>\n",
       "      <td>...</td>\n",
       "      <td>...</td>\n",
       "      <td>...</td>\n",
       "    </tr>\n",
       "    <tr>\n",
       "      <th>2968</th>\n",
       "      <td>0.222625</td>\n",
       "      <td>0.547082</td>\n",
       "      <td>2.580991e+05</td>\n",
       "      <td>0.610240</td>\n",
       "      <td>0.143872</td>\n",
       "      <td>0.204206</td>\n",
       "      <td>-11.295878</td>\n",
       "      <td>0.061088</td>\n",
       "      <td>125.494919</td>\n",
       "      <td>0.596155</td>\n",
       "      <td>33.778943</td>\n",
       "    </tr>\n",
       "    <tr>\n",
       "      <th>2969</th>\n",
       "      <td>0.161000</td>\n",
       "      <td>0.863000</td>\n",
       "      <td>2.063200e+05</td>\n",
       "      <td>0.909000</td>\n",
       "      <td>0.000000</td>\n",
       "      <td>0.108000</td>\n",
       "      <td>-5.985000</td>\n",
       "      <td>0.081300</td>\n",
       "      <td>119.038000</td>\n",
       "      <td>0.845000</td>\n",
       "      <td>58.000000</td>\n",
       "    </tr>\n",
       "    <tr>\n",
       "      <th>2970</th>\n",
       "      <td>0.263261</td>\n",
       "      <td>0.748889</td>\n",
       "      <td>3.060728e+05</td>\n",
       "      <td>0.622444</td>\n",
       "      <td>0.257227</td>\n",
       "      <td>0.089678</td>\n",
       "      <td>-10.289222</td>\n",
       "      <td>0.038778</td>\n",
       "      <td>101.965222</td>\n",
       "      <td>0.824111</td>\n",
       "      <td>46.666667</td>\n",
       "    </tr>\n",
       "    <tr>\n",
       "      <th>2971</th>\n",
       "      <td>0.993000</td>\n",
       "      <td>0.705667</td>\n",
       "      <td>1.984173e+05</td>\n",
       "      <td>0.172667</td>\n",
       "      <td>0.468633</td>\n",
       "      <td>0.179667</td>\n",
       "      <td>-11.453333</td>\n",
       "      <td>0.348667</td>\n",
       "      <td>91.278000</td>\n",
       "      <td>0.739000</td>\n",
       "      <td>0.000000</td>\n",
       "    </tr>\n",
       "    <tr>\n",
       "      <th>2972</th>\n",
       "      <td>0.421038</td>\n",
       "      <td>0.629409</td>\n",
       "      <td>1.716717e+05</td>\n",
       "      <td>0.609369</td>\n",
       "      <td>0.019248</td>\n",
       "      <td>0.255877</td>\n",
       "      <td>-9.854825</td>\n",
       "      <td>0.050491</td>\n",
       "      <td>126.366087</td>\n",
       "      <td>0.808544</td>\n",
       "      <td>30.261905</td>\n",
       "    </tr>\n",
       "  </tbody>\n",
       "</table>\n",
       "<p>2973 rows × 11 columns</p>\n",
       "</div>"
      ],
      "text/plain": [
       "      acousticness  danceability   duration_ms    energy  instrumentalness  \\\n",
       "0         0.979333      0.162883  1.602977e+05  0.071317          0.606834   \n",
       "1         0.494780      0.299333  1.048887e+06  0.450678          0.477762   \n",
       "2         0.762000      0.712000  1.151770e+05  0.818000          0.876000   \n",
       "3         0.651417      0.529093  2.328809e+05  0.419146          0.205309   \n",
       "4         0.676557      0.538961  1.906285e+05  0.316434          0.003003   \n",
       "...            ...           ...           ...       ...               ...   \n",
       "2968      0.222625      0.547082  2.580991e+05  0.610240          0.143872   \n",
       "2969      0.161000      0.863000  2.063200e+05  0.909000          0.000000   \n",
       "2970      0.263261      0.748889  3.060728e+05  0.622444          0.257227   \n",
       "2971      0.993000      0.705667  1.984173e+05  0.172667          0.468633   \n",
       "2972      0.421038      0.629409  1.716717e+05  0.609369          0.019248   \n",
       "\n",
       "      liveness   loudness  speechiness       tempo   valence  popularity  \n",
       "0     0.361600 -31.514333     0.040567   75.336500  0.103783   27.833333  \n",
       "1     0.131000 -16.854000     0.076817  120.285667  0.221750   52.500000  \n",
       "2     0.126000  -9.180000     0.047000  133.444000  0.975000   48.000000  \n",
       "3     0.218696 -12.288965     0.107872  112.857352  0.513604   20.859882  \n",
       "4     0.172254 -12.479387     0.082851  112.110362  0.448249   45.820071  \n",
       "...        ...        ...          ...         ...       ...         ...  \n",
       "2968  0.204206 -11.295878     0.061088  125.494919  0.596155   33.778943  \n",
       "2969  0.108000  -5.985000     0.081300  119.038000  0.845000   58.000000  \n",
       "2970  0.089678 -10.289222     0.038778  101.965222  0.824111   46.666667  \n",
       "2971  0.179667 -11.453333     0.348667   91.278000  0.739000    0.000000  \n",
       "2972  0.255877  -9.854825     0.050491  126.366087  0.808544   30.261905  \n",
       "\n",
       "[2973 rows x 11 columns]"
      ]
     },
     "execution_count": 123,
     "metadata": {},
     "output_type": "execute_result"
    }
   ],
   "source": [
    "data_by_genre_1 = data_by_genre.drop(columns=[\"genres\"], axis=1)\n",
    "data_by_genre_1"
   ]
  },
  {
   "cell_type": "markdown",
   "metadata": {},
   "source": [
    "Agora vamo utilizar vários conceitos em um processo de *pipeline*, então a primeira coisa que vamos fazer é importar o método **Pipeline** do sklearn.pipeline e esse método faz literalmente uma pipeline de *machine learning*, mas de uma forma automática, onde aplica sequencialmente uma lista de transformações até um resultado final. Então o que precisamos passar é o que a nossa pipeline vai fazer, como o primeiro passo e o que queremos de resultado final dela.\n",
    "\n",
    "Neste ponto precisamos reduzir a dimensionalidade da tabela que está com várias colunas, porém se utilizarmos um processo de redução diretamente, sem fazer a padronização dos dados na parte de pré processamento, os resultados ficarão totalmente desbalanceados, trazendo maior peso para as variáveis que têm uma amplitude maior, como por exemplo o *loudness* em relação às outras variáveis que compõem a música.\n",
    "\n",
    "Para resolver esse problema, o primeiro passo da *pipeline* vai ser usar o **StandardScaler** para trazer essa padronização e redução de escala para que no próximo passo seja feita a redução de dimensionalidade com um método de decomposição, no nosso caso vamos escolher o **PCA**.\n",
    "\n",
    "**PCA** significa Análise de Componentes Principais e ele trás consigo uma série de análises matemáticas que são feitas para que possamos transformar aquelas milhares de colunas que temos em uma quantidade menos, com um valor n que escolhermos, porém, quanto mais colunas a gente tem no *dataset* original e menos colunas queremos no *dataset* final, o aprendizado depois pode ser prejudicado.\n",
    "\n",
    "Na parte **n_components** podemos colocar a quantidade de % de explicação que queremos que o algoritmo tenha no final, como por exemplo 0.3, que seria 30%, ou um valor como por exemplo um valor X de colunas.\n",
    "\n",
    "---\n",
    "\n",
    "Depois de feita a pipeline, vamos salvar em um arquivo chamado **projection**, com as colunas x e y, que são as posições dos pontos no *cluster*."
   ]
  },
  {
   "cell_type": "code",
   "execution_count": 124,
   "metadata": {},
   "outputs": [],
   "source": [
    "from sklearn.pipeline import Pipeline\n",
    "from sklearn.preprocessing import StandardScaler\n",
    "from sklearn.decomposition import PCA"
   ]
  },
  {
   "cell_type": "code",
   "execution_count": 137,
   "metadata": {},
   "outputs": [],
   "source": [
    "SEED = 1224\n",
    "np.random.seed(SEED)\n",
    "\n",
    "pca_pipeline = Pipeline([\n",
    "    (\"scaler\", StandardScaler()),\n",
    "    (\"PCA\", PCA(n_components=2, random_state=SEED))\n",
    "])"
   ]
  },
  {
   "cell_type": "code",
   "execution_count": 126,
   "metadata": {},
   "outputs": [],
   "source": [
    "genre_embedding_pca = pca_pipeline.fit_transform(data_by_genre_1)\n",
    "projection = pd.DataFrame(columns=[\"x\", \"y\"], data=genre_embedding_pca)"
   ]
  },
  {
   "cell_type": "code",
   "execution_count": 127,
   "metadata": {},
   "outputs": [
    {
     "data": {
      "text/html": [
       "<div>\n",
       "<style scoped>\n",
       "    .dataframe tbody tr th:only-of-type {\n",
       "        vertical-align: middle;\n",
       "    }\n",
       "\n",
       "    .dataframe tbody tr th {\n",
       "        vertical-align: top;\n",
       "    }\n",
       "\n",
       "    .dataframe thead th {\n",
       "        text-align: right;\n",
       "    }\n",
       "</style>\n",
       "<table border=\"1\" class=\"dataframe\">\n",
       "  <thead>\n",
       "    <tr style=\"text-align: right;\">\n",
       "      <th></th>\n",
       "      <th>x</th>\n",
       "      <th>y</th>\n",
       "    </tr>\n",
       "  </thead>\n",
       "  <tbody>\n",
       "    <tr>\n",
       "      <th>0</th>\n",
       "      <td>5.910268</td>\n",
       "      <td>-0.011146</td>\n",
       "    </tr>\n",
       "    <tr>\n",
       "      <th>1</th>\n",
       "      <td>2.787093</td>\n",
       "      <td>4.498483</td>\n",
       "    </tr>\n",
       "    <tr>\n",
       "      <th>2</th>\n",
       "      <td>-0.757538</td>\n",
       "      <td>-1.258495</td>\n",
       "    </tr>\n",
       "    <tr>\n",
       "      <th>3</th>\n",
       "      <td>1.020521</td>\n",
       "      <td>-0.931690</td>\n",
       "    </tr>\n",
       "    <tr>\n",
       "      <th>4</th>\n",
       "      <td>0.753911</td>\n",
       "      <td>-0.999861</td>\n",
       "    </tr>\n",
       "    <tr>\n",
       "      <th>...</th>\n",
       "      <td>...</td>\n",
       "      <td>...</td>\n",
       "    </tr>\n",
       "    <tr>\n",
       "      <th>2968</th>\n",
       "      <td>-0.475136</td>\n",
       "      <td>-0.017126</td>\n",
       "    </tr>\n",
       "    <tr>\n",
       "      <th>2969</th>\n",
       "      <td>-3.026756</td>\n",
       "      <td>-1.304983</td>\n",
       "    </tr>\n",
       "    <tr>\n",
       "      <th>2970</th>\n",
       "      <td>-0.832511</td>\n",
       "      <td>-1.089726</td>\n",
       "    </tr>\n",
       "    <tr>\n",
       "      <th>2971</th>\n",
       "      <td>1.774790</td>\n",
       "      <td>-3.695233</td>\n",
       "    </tr>\n",
       "    <tr>\n",
       "      <th>2972</th>\n",
       "      <td>-1.028069</td>\n",
       "      <td>-1.390709</td>\n",
       "    </tr>\n",
       "  </tbody>\n",
       "</table>\n",
       "<p>2973 rows × 2 columns</p>\n",
       "</div>"
      ],
      "text/plain": [
       "             x         y\n",
       "0     5.910268 -0.011146\n",
       "1     2.787093  4.498483\n",
       "2    -0.757538 -1.258495\n",
       "3     1.020521 -0.931690\n",
       "4     0.753911 -0.999861\n",
       "...        ...       ...\n",
       "2968 -0.475136 -0.017126\n",
       "2969 -3.026756 -1.304983\n",
       "2970 -0.832511 -1.089726\n",
       "2971  1.774790 -3.695233\n",
       "2972 -1.028069 -1.390709\n",
       "\n",
       "[2973 rows x 2 columns]"
      ]
     },
     "execution_count": 127,
     "metadata": {},
     "output_type": "execute_result"
    }
   ],
   "source": [
    "projection"
   ]
  },
  {
   "cell_type": "markdown",
   "metadata": {},
   "source": [
    "### Para saber mais: normalização ou padronização?\n",
    "\n",
    "Quando estamos lidando com algoritmos de *machine learning*, alguns algoritmos aprendem melhor quando utilizamos variáveis numéricas dimensionadas em um intervalo padrão. O algoritmo usado no curso, por exemplo, é um dos que utilizam as distâncias para fazer os cálculos.\n",
    "\n",
    "Para dimensionarmos os dados numéricos antes da modelagem, podemos utilizar a **normalização** ou a **padronização**, que são técnicas populares e bem confundidas em âmbitos gerais. Vamos analisar cada uma delas separadamente.\n",
    "\n",
    "A **normalização** dimensiona cada variável de entrada separadamente para o intervalo 0-1, que é o intervalo para valores de ponto flutuante em que temos mais precisão. Então, de forma matemática, temos:\n",
    "\n",
    "# $$y = \\dfrac{x-min}{máx-min}$$\n",
    "\n",
    "Uma observação muito importante é que caso seja fornecido um valor de x fora dos limites dos valores mínimos e máximos, o valor resultante não estará dentro do limite de 0 e 1.\n",
    "\n",
    "Com o objetivo de normalizar os dados podemos utilizar a função **MinMaxScaler**, presente na biblioteca *sklearn*, para que ela redimensione as variáveis no intervalo padrão de [0,1], embora também possamos mudar o intervalo por meio do argumento *feature_range* passando uma tupla com o intervalo mínimo e máximo.\n",
    "\n",
    "Já a **padronização** dimensiona cada variável de entrada separadamente, subtraindo a média (chamada de centralização) e a dividindo pelo desvio padrão para deslocar a distribuição, a fim de ter uma média de 0 e um desvio padrão de 1. Esse processo pode ser pensado cocmo subtrair o valor médio ou centralizar os dados e é necessário conhecer os valores de média e de desvio padrão dos dados.\n",
    "\n",
    "Um valor é padronizado da seguinte forma:\n",
    "\n",
    "# $$y = \\dfrac{x-média}{DesvioPadrão} $$\n",
    "\n",
    "Em que a média é calculada como:\n",
    "\n",
    "# $$média = \\dfrac{soma(x)}{contagem(x)}$$\n",
    "\n",
    "E o desvio padrão pode ser calculado como:\n",
    "\n",
    "# $$DesvioPadrão = \\sqrt{\\dfrac{soma((x-média)^2)}{contagem(x)}}$$\n",
    "\n",
    "Para padronizar os dados podemos usar a função [StandardScaler](https://scikit-learn.org/stable/modules/generated/sklearn.preprocessing.StandardScaler.html) do Sklearn. É importante lembrar que a padronização assume que as suas observações de dados se ajustam a uma distribuição gaussiana (curva de sino/distribuição normal), com média e desvio padrão bem comportados.\n",
    "\n",
    "**E a pergunta final, devo normalizar ou padronizar meus dados?**\n",
    "\n",
    "Depende do seu problema, das suas variáveis e de todo o contexto, porém você pode decidir com base nos dados já apresentados anteriormente. Por exemplo, se a distribuição da quantidade for normal, ela deve ser padronizada, caso contrário usamos a normalização.\n",
    "\n",
    "Os problemas, de uma forma geral, não nos entregam todas as respostas apenas com a análise prévia dos dados, então, em caso de dúvida, ainda é uma opção explorar como fica a modelagem com os dados brutos, com os dados padronizados e com os dados normalizados. Dessa forma é possível notar alguma diferença benéfica no desempenho do modelo aplicado."
   ]
  },
  {
   "cell_type": "markdown",
   "metadata": {},
   "source": [
    "## 2.2 K-Means"
   ]
  },
  {
   "cell_type": "code",
   "execution_count": 128,
   "metadata": {},
   "outputs": [],
   "source": [
    "from sklearn.cluster import KMeans"
   ]
  },
  {
   "cell_type": "code",
   "execution_count": 129,
   "metadata": {},
   "outputs": [
    {
     "name": "stdout",
     "output_type": "stream",
     "text": [
      "Initialization complete\n",
      "Iteration 0, inertia 4523.567815543701.\n",
      "Iteration 1, inertia 3668.9855521560326.\n",
      "Iteration 2, inertia 3624.7309257118272.\n",
      "Iteration 3, inertia 3602.4958137588233.\n",
      "Iteration 4, inertia 3588.0607912404985.\n",
      "Iteration 5, inertia 3575.439570259312.\n",
      "Iteration 6, inertia 3566.376131163027.\n",
      "Iteration 7, inertia 3562.5917284575003.\n",
      "Iteration 8, inertia 3560.314467700942.\n",
      "Iteration 9, inertia 3558.8854951526564.\n",
      "Iteration 10, inertia 3558.0027489340596.\n",
      "Iteration 11, inertia 3557.7295547755016.\n",
      "Converged at iteration 11: center shift 9.31998104486557e-05 within tolerance 0.00027098868470996527.\n",
      "Initialization complete\n",
      "Iteration 0, inertia 3650.5166847646547.\n",
      "Iteration 1, inertia 3552.8915365648218.\n",
      "Iteration 2, inertia 3528.9425421232286.\n",
      "Iteration 3, inertia 3518.849132048717.\n",
      "Iteration 4, inertia 3512.6717916139814.\n",
      "Iteration 5, inertia 3509.174107824751.\n",
      "Iteration 6, inertia 3506.3883335513815.\n",
      "Iteration 7, inertia 3505.091074309415.\n",
      "Iteration 8, inertia 3504.646511738501.\n",
      "Converged at iteration 8: center shift 7.5035199904619e-05 within tolerance 0.00027098868470996527.\n",
      "Initialization complete\n",
      "Iteration 0, inertia 4414.321464862243.\n",
      "Iteration 1, inertia 4264.089604762609.\n",
      "Iteration 2, inertia 4086.216471856409.\n",
      "Iteration 3, inertia 3913.5040021644622.\n",
      "Iteration 4, inertia 3808.466247621822.\n",
      "Iteration 5, inertia 3745.6610597363906.\n",
      "Iteration 6, inertia 3695.233470599903.\n",
      "Iteration 7, inertia 3657.9034106955514.\n",
      "Iteration 8, inertia 3632.6437458148525.\n",
      "Iteration 9, inertia 3614.3881006065694.\n",
      "Iteration 10, inertia 3596.108483986052.\n",
      "Iteration 11, inertia 3579.525044096404.\n",
      "Iteration 12, inertia 3568.0798454948854.\n",
      "Iteration 13, inertia 3560.711493131848.\n",
      "Iteration 14, inertia 3555.678927842757.\n",
      "Iteration 15, inertia 3551.045752701984.\n",
      "Iteration 16, inertia 3547.815195220923.\n",
      "Iteration 17, inertia 3544.585854658802.\n",
      "Iteration 18, inertia 3541.224901948928.\n",
      "Iteration 19, inertia 3537.2207553145236.\n",
      "Iteration 20, inertia 3533.481112682814.\n",
      "Iteration 21, inertia 3530.8313918692024.\n",
      "Iteration 22, inertia 3528.299038289501.\n",
      "Iteration 23, inertia 3525.962848818211.\n",
      "Iteration 24, inertia 3523.302493609697.\n",
      "Iteration 25, inertia 3521.2371826846634.\n",
      "Iteration 26, inertia 3519.717696058842.\n",
      "Iteration 27, inertia 3518.2921892437707.\n",
      "Iteration 28, inertia 3517.650346116134.\n",
      "Iteration 29, inertia 3517.291990899693.\n",
      "Iteration 30, inertia 3516.8130739026637.\n",
      "Iteration 31, inertia 3516.0807365489964.\n",
      "Iteration 32, inertia 3515.663822195971.\n",
      "Converged at iteration 32: center shift 5.325555309193364e-05 within tolerance 0.00027098868470996527.\n",
      "Initialization complete\n",
      "Iteration 0, inertia 4454.784085215462.\n",
      "Iteration 1, inertia 3768.5660406957045.\n",
      "Iteration 2, inertia 3646.0793671699294.\n",
      "Iteration 3, inertia 3588.10525462655.\n",
      "Iteration 4, inertia 3563.817454593448.\n",
      "Iteration 5, inertia 3553.0609261815393.\n",
      "Iteration 6, inertia 3547.5721096084794.\n",
      "Iteration 7, inertia 3544.5866171395833.\n",
      "Iteration 8, inertia 3542.3199661131475.\n",
      "Iteration 9, inertia 3541.4918298268053.\n",
      "Iteration 10, inertia 3541.163552531028.\n",
      "Converged at iteration 10: center shift 0.00011361514233643885 within tolerance 0.00027098868470996527.\n",
      "Initialization complete\n",
      "Iteration 0, inertia 4292.020575436045.\n",
      "Iteration 1, inertia 3675.2033628822473.\n",
      "Iteration 2, inertia 3600.2652059024613.\n",
      "Iteration 3, inertia 3567.104006679207.\n",
      "Iteration 4, inertia 3555.995499623262.\n",
      "Iteration 5, inertia 3551.7224371196517.\n",
      "Iteration 6, inertia 3549.4587985327644.\n",
      "Iteration 7, inertia 3547.681632427646.\n",
      "Iteration 8, inertia 3546.140998056883.\n",
      "Iteration 9, inertia 3545.1814280412027.\n",
      "Iteration 10, inertia 3544.5660486552038.\n",
      "Converged at iteration 10: center shift 0.00021718608215508546 within tolerance 0.00027098868470996527.\n",
      "Initialization complete\n",
      "Iteration 0, inertia 5229.734133923972.\n",
      "Iteration 1, inertia 3901.914075416349.\n",
      "Iteration 2, inertia 3684.138956110477.\n",
      "Iteration 3, inertia 3625.764292048272.\n",
      "Iteration 4, inertia 3598.6788312808494.\n",
      "Iteration 5, inertia 3577.346348139752.\n",
      "Iteration 6, inertia 3558.470378680771.\n",
      "Iteration 7, inertia 3543.7613905608237.\n",
      "Iteration 8, inertia 3531.75133448995.\n",
      "Iteration 9, inertia 3523.39220068392.\n",
      "Iteration 10, inertia 3517.458751167256.\n",
      "Iteration 11, inertia 3511.3577748406897.\n",
      "Iteration 12, inertia 3507.9073202368445.\n",
      "Iteration 13, inertia 3506.449127090972.\n",
      "Iteration 14, inertia 3505.5305971670177.\n",
      "Iteration 15, inertia 3505.16829650993.\n",
      "Iteration 16, inertia 3504.8127932137127.\n",
      "Converged at iteration 16: center shift 0.00015979191515766178 within tolerance 0.00027098868470996527.\n",
      "Initialization complete\n",
      "Iteration 0, inertia 4258.464385644753.\n",
      "Iteration 1, inertia 3757.825912494684.\n",
      "Iteration 2, inertia 3651.0581454035623.\n",
      "Iteration 3, inertia 3609.3545045378937.\n",
      "Iteration 4, inertia 3585.893849803652.\n",
      "Iteration 5, inertia 3570.94180466223.\n",
      "Iteration 6, inertia 3564.0376504007013.\n",
      "Iteration 7, inertia 3561.2995261283936.\n",
      "Iteration 8, inertia 3559.858925115216.\n",
      "Iteration 9, inertia 3558.9549261156762.\n",
      "Iteration 10, inertia 3558.6446576486715.\n",
      "Iteration 11, inertia 3558.2505645806164.\n",
      "Converged at iteration 11: center shift 0.00017503536183741613 within tolerance 0.00027098868470996527.\n",
      "Initialization complete\n",
      "Iteration 0, inertia 4718.526135999677.\n",
      "Iteration 1, inertia 3758.1507091224826.\n",
      "Iteration 2, inertia 3624.922738585438.\n",
      "Iteration 3, inertia 3583.400450514353.\n",
      "Iteration 4, inertia 3564.525298278217.\n",
      "Iteration 5, inertia 3555.2726539991554.\n",
      "Iteration 6, inertia 3551.323203354962.\n",
      "Iteration 7, inertia 3548.777394285324.\n",
      "Iteration 8, inertia 3546.706487706712.\n",
      "Iteration 9, inertia 3544.940808912324.\n",
      "Iteration 10, inertia 3541.602926434056.\n",
      "Iteration 11, inertia 3538.2954164325906.\n",
      "Iteration 12, inertia 3535.998606311384.\n",
      "Iteration 13, inertia 3534.366436997937.\n",
      "Iteration 14, inertia 3532.1532885577544.\n",
      "Iteration 15, inertia 3529.021959937273.\n",
      "Iteration 16, inertia 3523.741119497977.\n",
      "Iteration 17, inertia 3519.074792584697.\n",
      "Iteration 18, inertia 3516.68108283015.\n",
      "Iteration 19, inertia 3515.67369549845.\n",
      "Iteration 20, inertia 3514.11105996447.\n",
      "Iteration 21, inertia 3511.9265427786904.\n",
      "Iteration 22, inertia 3509.923997363935.\n",
      "Iteration 23, inertia 3508.665946043933.\n",
      "Iteration 24, inertia 3507.576714118872.\n",
      "Iteration 25, inertia 3506.3382872728225.\n",
      "Iteration 26, inertia 3505.3138272242422.\n",
      "Iteration 27, inertia 3504.8047979287276.\n",
      "Iteration 28, inertia 3504.5524335160303.\n",
      "Converged at iteration 28: center shift 0.00012946374322485822 within tolerance 0.00027098868470996527.\n",
      "Initialization complete\n",
      "Iteration 0, inertia 5726.817439830081.\n",
      "Iteration 1, inertia 4002.8186163760042.\n",
      "Iteration 2, inertia 3677.022813030348.\n",
      "Iteration 3, inertia 3594.023594573504.\n",
      "Iteration 4, inertia 3568.0392461810443.\n",
      "Iteration 5, inertia 3559.404764239558.\n",
      "Iteration 6, inertia 3554.5356499333957.\n",
      "Iteration 7, inertia 3550.900008643051.\n",
      "Iteration 8, inertia 3547.9319773120405.\n",
      "Iteration 9, inertia 3546.18620646372.\n",
      "Iteration 10, inertia 3544.593079901224.\n",
      "Iteration 11, inertia 3544.1573100085852.\n",
      "Iteration 12, inertia 3543.9417539989845.\n",
      "Converged at iteration 12: center shift 0.00010369698781415192 within tolerance 0.00027098868470996527.\n",
      "Initialization complete\n",
      "Iteration 0, inertia 4375.718400720185.\n",
      "Iteration 1, inertia 3663.3718697369427.\n",
      "Iteration 2, inertia 3584.8228907672774.\n",
      "Iteration 3, inertia 3560.552577179453.\n",
      "Iteration 4, inertia 3552.653553654194.\n",
      "Iteration 5, inertia 3550.9863322071424.\n",
      "Iteration 6, inertia 3548.841299825517.\n",
      "Iteration 7, inertia 3546.34329654479.\n",
      "Iteration 8, inertia 3544.2721141108723.\n",
      "Iteration 9, inertia 3541.0832411177016.\n",
      "Iteration 10, inertia 3538.7037862544703.\n",
      "Iteration 11, inertia 3536.96104709897.\n",
      "Iteration 12, inertia 3535.146837088562.\n",
      "Iteration 13, inertia 3533.543366253357.\n",
      "Iteration 14, inertia 3530.7882440270714.\n",
      "Iteration 15, inertia 3527.1960244191687.\n",
      "Iteration 16, inertia 3522.541969152173.\n",
      "Iteration 17, inertia 3518.244795809647.\n",
      "Iteration 18, inertia 3516.634314469544.\n",
      "Iteration 19, inertia 3515.622106084476.\n",
      "Iteration 20, inertia 3513.997398179625.\n",
      "Iteration 21, inertia 3511.188703670782.\n",
      "Iteration 22, inertia 3509.9782526878894.\n",
      "Iteration 23, inertia 3508.7925003676405.\n",
      "Iteration 24, inertia 3507.6587975550883.\n",
      "Iteration 25, inertia 3506.36517212844.\n",
      "Iteration 26, inertia 3505.3138272242422.\n",
      "Iteration 27, inertia 3504.8047979287276.\n",
      "Iteration 28, inertia 3504.55243351603.\n",
      "Converged at iteration 28: center shift 0.00012946374322486142 within tolerance 0.00027098868470996527.\n"
     ]
    },
    {
     "name": "stderr",
     "output_type": "stream",
     "text": [
      "/home/cristofferp/.local/lib/python3.10/site-packages/sklearn/cluster/_kmeans.py:870: FutureWarning:\n",
      "\n",
      "The default value of `n_init` will change from 10 to 'auto' in 1.4. Set the value of `n_init` explicitly to suppress the warning\n",
      "\n"
     ]
    }
   ],
   "source": [
    "kmeans_pca = KMeans(n_clusters=5, verbose=True, random_state=SEED)\n",
    "kmeans_pca.fit(projection)\n",
    "\n",
    "data_by_genre[\"cluster_pca\"] = kmeans_pca.predict(projection)\n",
    "projection[\"cluster_pca\"] = kmeans_pca.predict(projection)"
   ]
  },
  {
   "cell_type": "code",
   "execution_count": 130,
   "metadata": {},
   "outputs": [
    {
     "data": {
      "text/html": [
       "<div>\n",
       "<style scoped>\n",
       "    .dataframe tbody tr th:only-of-type {\n",
       "        vertical-align: middle;\n",
       "    }\n",
       "\n",
       "    .dataframe tbody tr th {\n",
       "        vertical-align: top;\n",
       "    }\n",
       "\n",
       "    .dataframe thead th {\n",
       "        text-align: right;\n",
       "    }\n",
       "</style>\n",
       "<table border=\"1\" class=\"dataframe\">\n",
       "  <thead>\n",
       "    <tr style=\"text-align: right;\">\n",
       "      <th></th>\n",
       "      <th>x</th>\n",
       "      <th>y</th>\n",
       "      <th>cluster_pca</th>\n",
       "    </tr>\n",
       "  </thead>\n",
       "  <tbody>\n",
       "    <tr>\n",
       "      <th>0</th>\n",
       "      <td>5.910268</td>\n",
       "      <td>-0.011146</td>\n",
       "      <td>3</td>\n",
       "    </tr>\n",
       "    <tr>\n",
       "      <th>1</th>\n",
       "      <td>2.787093</td>\n",
       "      <td>4.498483</td>\n",
       "      <td>3</td>\n",
       "    </tr>\n",
       "    <tr>\n",
       "      <th>2</th>\n",
       "      <td>-0.757538</td>\n",
       "      <td>-1.258495</td>\n",
       "      <td>4</td>\n",
       "    </tr>\n",
       "    <tr>\n",
       "      <th>3</th>\n",
       "      <td>1.020521</td>\n",
       "      <td>-0.931690</td>\n",
       "      <td>1</td>\n",
       "    </tr>\n",
       "    <tr>\n",
       "      <th>4</th>\n",
       "      <td>0.753911</td>\n",
       "      <td>-0.999861</td>\n",
       "      <td>1</td>\n",
       "    </tr>\n",
       "    <tr>\n",
       "      <th>...</th>\n",
       "      <td>...</td>\n",
       "      <td>...</td>\n",
       "      <td>...</td>\n",
       "    </tr>\n",
       "    <tr>\n",
       "      <th>2968</th>\n",
       "      <td>-0.475136</td>\n",
       "      <td>-0.017126</td>\n",
       "      <td>2</td>\n",
       "    </tr>\n",
       "    <tr>\n",
       "      <th>2969</th>\n",
       "      <td>-3.026756</td>\n",
       "      <td>-1.304983</td>\n",
       "      <td>4</td>\n",
       "    </tr>\n",
       "    <tr>\n",
       "      <th>2970</th>\n",
       "      <td>-0.832511</td>\n",
       "      <td>-1.089726</td>\n",
       "      <td>4</td>\n",
       "    </tr>\n",
       "    <tr>\n",
       "      <th>2971</th>\n",
       "      <td>1.774790</td>\n",
       "      <td>-3.695233</td>\n",
       "      <td>1</td>\n",
       "    </tr>\n",
       "    <tr>\n",
       "      <th>2972</th>\n",
       "      <td>-1.028069</td>\n",
       "      <td>-1.390709</td>\n",
       "      <td>4</td>\n",
       "    </tr>\n",
       "  </tbody>\n",
       "</table>\n",
       "<p>2973 rows × 3 columns</p>\n",
       "</div>"
      ],
      "text/plain": [
       "             x         y  cluster_pca\n",
       "0     5.910268 -0.011146            3\n",
       "1     2.787093  4.498483            3\n",
       "2    -0.757538 -1.258495            4\n",
       "3     1.020521 -0.931690            1\n",
       "4     0.753911 -0.999861            1\n",
       "...        ...       ...          ...\n",
       "2968 -0.475136 -0.017126            2\n",
       "2969 -3.026756 -1.304983            4\n",
       "2970 -0.832511 -1.089726            4\n",
       "2971  1.774790 -3.695233            1\n",
       "2972 -1.028069 -1.390709            4\n",
       "\n",
       "[2973 rows x 3 columns]"
      ]
     },
     "execution_count": 130,
     "metadata": {},
     "output_type": "execute_result"
    }
   ],
   "source": [
    "projection"
   ]
  },
  {
   "cell_type": "code",
   "execution_count": 131,
   "metadata": {},
   "outputs": [
    {
     "data": {
      "text/html": [
       "<div>\n",
       "<style scoped>\n",
       "    .dataframe tbody tr th:only-of-type {\n",
       "        vertical-align: middle;\n",
       "    }\n",
       "\n",
       "    .dataframe tbody tr th {\n",
       "        vertical-align: top;\n",
       "    }\n",
       "\n",
       "    .dataframe thead th {\n",
       "        text-align: right;\n",
       "    }\n",
       "</style>\n",
       "<table border=\"1\" class=\"dataframe\">\n",
       "  <thead>\n",
       "    <tr style=\"text-align: right;\">\n",
       "      <th></th>\n",
       "      <th>x</th>\n",
       "      <th>y</th>\n",
       "      <th>cluster_pca</th>\n",
       "      <th>genres</th>\n",
       "    </tr>\n",
       "  </thead>\n",
       "  <tbody>\n",
       "    <tr>\n",
       "      <th>0</th>\n",
       "      <td>5.910268</td>\n",
       "      <td>-0.011146</td>\n",
       "      <td>3</td>\n",
       "      <td>21st century classical</td>\n",
       "    </tr>\n",
       "    <tr>\n",
       "      <th>1</th>\n",
       "      <td>2.787093</td>\n",
       "      <td>4.498483</td>\n",
       "      <td>3</td>\n",
       "      <td>432hz</td>\n",
       "    </tr>\n",
       "    <tr>\n",
       "      <th>2</th>\n",
       "      <td>-0.757538</td>\n",
       "      <td>-1.258495</td>\n",
       "      <td>4</td>\n",
       "      <td>8-bit</td>\n",
       "    </tr>\n",
       "    <tr>\n",
       "      <th>3</th>\n",
       "      <td>1.020521</td>\n",
       "      <td>-0.931690</td>\n",
       "      <td>1</td>\n",
       "      <td>[]</td>\n",
       "    </tr>\n",
       "    <tr>\n",
       "      <th>4</th>\n",
       "      <td>0.753911</td>\n",
       "      <td>-0.999861</td>\n",
       "      <td>1</td>\n",
       "      <td>a cappella</td>\n",
       "    </tr>\n",
       "    <tr>\n",
       "      <th>...</th>\n",
       "      <td>...</td>\n",
       "      <td>...</td>\n",
       "      <td>...</td>\n",
       "      <td>...</td>\n",
       "    </tr>\n",
       "    <tr>\n",
       "      <th>2968</th>\n",
       "      <td>-0.475136</td>\n",
       "      <td>-0.017126</td>\n",
       "      <td>2</td>\n",
       "      <td>zolo</td>\n",
       "    </tr>\n",
       "    <tr>\n",
       "      <th>2969</th>\n",
       "      <td>-3.026756</td>\n",
       "      <td>-1.304983</td>\n",
       "      <td>4</td>\n",
       "      <td>zouglou</td>\n",
       "    </tr>\n",
       "    <tr>\n",
       "      <th>2970</th>\n",
       "      <td>-0.832511</td>\n",
       "      <td>-1.089726</td>\n",
       "      <td>4</td>\n",
       "      <td>zouk</td>\n",
       "    </tr>\n",
       "    <tr>\n",
       "      <th>2971</th>\n",
       "      <td>1.774790</td>\n",
       "      <td>-3.695233</td>\n",
       "      <td>1</td>\n",
       "      <td>zurich indie</td>\n",
       "    </tr>\n",
       "    <tr>\n",
       "      <th>2972</th>\n",
       "      <td>-1.028069</td>\n",
       "      <td>-1.390709</td>\n",
       "      <td>4</td>\n",
       "      <td>zydeco</td>\n",
       "    </tr>\n",
       "  </tbody>\n",
       "</table>\n",
       "<p>2973 rows × 4 columns</p>\n",
       "</div>"
      ],
      "text/plain": [
       "             x         y  cluster_pca                  genres\n",
       "0     5.910268 -0.011146            3  21st century classical\n",
       "1     2.787093  4.498483            3                   432hz\n",
       "2    -0.757538 -1.258495            4                   8-bit\n",
       "3     1.020521 -0.931690            1                      []\n",
       "4     0.753911 -0.999861            1              a cappella\n",
       "...        ...       ...          ...                     ...\n",
       "2968 -0.475136 -0.017126            2                    zolo\n",
       "2969 -3.026756 -1.304983            4                 zouglou\n",
       "2970 -0.832511 -1.089726            4                    zouk\n",
       "2971  1.774790 -3.695233            1            zurich indie\n",
       "2972 -1.028069 -1.390709            4                  zydeco\n",
       "\n",
       "[2973 rows x 4 columns]"
      ]
     },
     "execution_count": 131,
     "metadata": {},
     "output_type": "execute_result"
    }
   ],
   "source": [
    "projection[\"genres\"] = data_by_genre[\"genres\"]\n",
    "projection"
   ]
  },
  {
   "cell_type": "markdown",
   "metadata": {},
   "source": [
    "### Para saber mais: K-Means com PCA\n",
    "\n",
    "Quando lidamos com um problema de agrupamento, queremos usar um algoritmo que descubra grupos significativos nos dados, como é o nosso caso, agrupar gêneros musicais e músicas. Seja para qualquer outro fim, o algoritmo descobre os grupos sem intervenções externas, já que não precisa de rótulos para realizar previsões.\n",
    "\n",
    "Sabendo disso, o K-Means tenta organizar os dados em um único número k de clusters, que definimos inicialmente, e, a partir disso, ele identifica os pontos de dados semelhantes e vai criando agrupamentos, tentando distanciar cada cluster o máximo possível. O cálculo das semelhanças é feito utilizando a distância euclidiana ou uma linha reta comum entre dois pontos. Quanto menor a distância euclidiana, mais próximos os dois pontos estão e mais semelhantes eles são por consequência.\n",
    "\n",
    "O processo de como K-Means funciona é relativamente simples e repetitivo.\n",
    "\n",
    "1. O usuário define o valor de clusters (k);\n",
    "2. O K-Means seleciona um ponto aleatório para cada centróide, temos k-centróides nesse ponto, e um centróide é o ponto em torno do qual cada cluster é construído.\n",
    "3. A distância euclidiana é calculada entre cada ponto e cada centróide, e, a partr disto, cada ponto será atribuído a um centróide (mais próximo com base na distância euclidiana);\n",
    "4. O algoritmo calcula a média da distância euclidiana entre cada ponto do cluster e o centróide para definir um novo centróide;\n",
    "5. O processo 4 se repete até que os centróides dos clusters não se movam mais.\n",
    "\n",
    "Existe um site onde podemos ver uma animação de como esse processo acontece, ele se chama [K-Means Clustering Demo](https://user.ceng.metu.edu.tr/~akifakkus/courses/ceng574/k-means/).\n",
    "\n",
    "Porém nem tudo é extremamente bom no K-Means, ele ainda não consegue resolver problemas com **escalas diferentes** e também não consegue agrupar com precisão dados de **alta dimensionalidade**.\n",
    "\n",
    "Para a primeira parte, em relação às escalas, é necessário que todos estejam na mesma escala de [0,1], como fizemos anteriormente com o [StandardScaler](https://scikit-learn.org/stable/modules/generated/sklearn.preprocessing.StandardScaler.html), caso contrário, ele colocará maior peso em variáveis que têm variâncias maiores e esses recursos terão maios influência na forma final do cluster.\n",
    "\n",
    "Em relação à alta dimensionalidade, o algoritmo usa a distância euclidiana para determinar a associação de agrupamento, porém, quando temos uma alta dimensionalidade, pares de pontos começarão a ter distâncias muito semelhantes e não conseguiremos obter agrupamentos significativos. Para reduzir a quantidade de dados podemos utilizar a técnica chamada Análise de Componentes Principais (PCA).\n",
    "\n",
    "[PCA](https://scikit-learn.org/stable/modules/generated/sklearn.decomposition.PCA.html) é um método clássico usado para reduzir dados de alta domensionalidade para um espaço de baixa dimensão. Em outras palavras, simplesmente não podemos visualizar com precisão conjuntos de dados de alta dimensão, porque não podemos visualizar nada acima de 3 dimensões (3D). Um dos principais objetivos do PCA é transformar conjuntos de dados com mais de 3 dimensões (alta dimensão) em gráficos tipicamente 2D ou 3D. Essa ação é o que chamamos de espaço de baixa dimensão.\n",
    "\n",
    "Mesmo fazendo toda a redução de n dimensões existentes para 2D, no nosso caso, ainda conseguimos reter a maior parte da informação necessária do conjunto de dados de alta dimensão, ou seja, a informação foi \"espremida\" até caber em 2 dimensões.\n",
    "\n",
    "Então, as informações que eram contidas em n dimensões passam a estar em 2 componentes principais (PC). O primeiro PC contém a maioria das informações dos recursos originais, o segundo PC conterá a próxima maior quantidade de informações, e, caso tivéssemos mais PC's, seria essa mesma sequência, sendo os PC's não correlacionados entre si, o que significa que cada um guarda informações únicas.\n",
    "\n",
    "Usando os dois módulos de auxílio, a padronização dos dados com o StandardScaler e a redução de dimensionalidade com o PCA, quando necessário, os resultados obtidos com o K-Means serão melhores do que apenas aplicar ele diretamente nos dados."
   ]
  },
  {
   "cell_type": "markdown",
   "metadata": {},
   "source": [
    "## 2.3 Plotando o clustering"
   ]
  },
  {
   "cell_type": "code",
   "execution_count": 132,
   "metadata": {},
   "outputs": [
    {
     "data": {
      "application/vnd.plotly.v1+json": {
       "config": {
        "plotlyServerURL": "https://plot.ly"
       },
       "data": [
        {
         "customdata": [
          [
           "21st century classical"
          ],
          [
           "432hz"
          ],
          [
           "8-bit"
          ],
          [
           "[]"
          ],
          [
           "a cappella"
          ],
          [
           "abstract"
          ],
          [
           "abstract beats"
          ],
          [
           "abstract hip hop"
          ],
          [
           "accordeon"
          ],
          [
           "accordion"
          ],
          [
           "acid house"
          ],
          [
           "acid rock"
          ],
          [
           "acid trance"
          ],
          [
           "acousmatic"
          ],
          [
           "acoustic blues"
          ],
          [
           "acoustic pop"
          ],
          [
           "acoustic punk"
          ],
          [
           "acoustic rock"
          ],
          [
           "action rock"
          ],
          [
           "adoracion"
          ],
          [
           "adult standards"
          ],
          [
           "adventista"
          ],
          [
           "afghan pop"
          ],
          [
           "afghan traditional"
          ],
          [
           "african percussion"
          ],
          [
           "african reggae"
          ],
          [
           "african rock"
          ],
          [
           "african-american classical"
          ],
          [
           "afro dancehall"
          ],
          [
           "afro house"
          ],
          [
           "afro psych"
          ],
          [
           "afro soul"
          ],
          [
           "afro-funk"
          ],
          [
           "afrobeat"
          ],
          [
           "afrofuturism"
          ],
          [
           "afrofuturismo brasileiro"
          ],
          [
           "afropop"
          ],
          [
           "afroswing"
          ],
          [
           "aggrotech"
          ],
          [
           "alabama indie"
          ],
          [
           "alabama metal"
          ],
          [
           "alabama rap"
          ],
          [
           "alaska indie"
          ],
          [
           "albanian pop"
          ],
          [
           "albany ny indie"
          ],
          [
           "alberta country"
          ],
          [
           "alberta hip hop"
          ],
          [
           "album rock"
          ],
          [
           "albuquerque indie"
          ],
          [
           "alt-idol"
          ],
          [
           "alte"
          ],
          [
           "alternative americana"
          ],
          [
           "alternative country"
          ],
          [
           "alternative dance"
          ],
          [
           "alternative emo"
          ],
          [
           "alternative hip hop"
          ],
          [
           "alternative metal"
          ],
          [
           "alternative pop"
          ],
          [
           "alternative pop rock"
          ],
          [
           "alternative r&b"
          ],
          [
           "alternative rock"
          ],
          [
           "alternative roots rock"
          ],
          [
           "ambeat"
          ],
          [
           "ambient"
          ],
          [
           "ambient black metal"
          ],
          [
           "ambient folk"
          ],
          [
           "ambient house"
          ],
          [
           "ambient idm"
          ],
          [
           "ambient industrial"
          ],
          [
           "ambient pop"
          ],
          [
           "ambient techno"
          ],
          [
           "ambient worship"
          ],
          [
           "american 21st century classical"
          ],
          [
           "american choir"
          ],
          [
           "american classical piano"
          ],
          [
           "american contemporary classical"
          ],
          [
           "american early music"
          ],
          [
           "american folk revival"
          ],
          [
           "american metalcore"
          ],
          [
           "american modern classical"
          ],
          [
           "american oi"
          ],
          [
           "american orchestra"
          ],
          [
           "american post-rock"
          ],
          [
           "american primitive"
          ],
          [
           "american romanticism"
          ],
          [
           "american shoegaze"
          ],
          [
           "anadolu rock"
          ],
          [
           "anarcho-punk"
          ],
          [
           "anglican liturgy"
          ],
          [
           "animal singing"
          ],
          [
           "anime"
          ],
          [
           "anime latino"
          ],
          [
           "anime rock"
          ],
          [
           "anime score"
          ],
          [
           "ann arbor indie"
          ],
          [
           "anthem emo"
          ],
          [
           "anthem worship"
          ],
          [
           "anti-folk"
          ],
          [
           "antilliaanse folklore"
          ],
          [
           "antiviral pop"
          ],
          [
           "appalachian folk"
          ],
          [
           "arab folk"
          ],
          [
           "arab groove"
          ],
          [
           "arab pop"
          ],
          [
           "arabesk"
          ],
          [
           "arabic hip hop"
          ],
          [
           "arabic jazz"
          ],
          [
           "argentine ambient"
          ],
          [
           "argentine hardcore"
          ],
          [
           "argentine heavy metal"
          ],
          [
           "argentine hip hop"
          ],
          [
           "argentine indie"
          ],
          [
           "argentine metal"
          ],
          [
           "argentine punk"
          ],
          [
           "argentine reggae"
          ],
          [
           "argentine rock"
          ],
          [
           "argentine telepop"
          ],
          [
           "arizona punk"
          ],
          [
           "arkansas country"
          ],
          [
           "arkansas hip hop"
          ],
          [
           "arkansas indie"
          ],
          [
           "armenian folk"
          ],
          [
           "art pop"
          ],
          [
           "art punk"
          ],
          [
           "art rock"
          ],
          [
           "art song"
          ],
          [
           "asbury park indie"
          ],
          [
           "asheville indie"
          ],
          [
           "asian american hip hop"
          ],
          [
           "asmr"
          ],
          [
           "athens indie"
          ],
          [
           "atl hip hop"
          ],
          [
           "atl trap"
          ],
          [
           "atlanta indie"
          ],
          [
           "atlanta metal"
          ],
          [
           "atlanta punk"
          ],
          [
           "atmosphere"
          ],
          [
           "atmospheric black metal"
          ],
          [
           "atmospheric dnb"
          ],
          [
           "atmospheric post-metal"
          ],
          [
           "atmospheric post-rock"
          ],
          [
           "atmospheric sludge"
          ],
          [
           "auckland indie"
          ],
          [
           "audiophile vocal"
          ],
          [
           "aussietronica"
          ],
          [
           "austin americana"
          ],
          [
           "austin singer-songwriter"
          ],
          [
           "austindie"
          ],
          [
           "australian alternative pop"
          ],
          [
           "australian alternative rock"
          ],
          [
           "australian ambient"
          ],
          [
           "australian children's music"
          ],
          [
           "australian choir"
          ],
          [
           "australian classical"
          ],
          [
           "australian classical piano"
          ],
          [
           "australian country"
          ],
          [
           "australian dance"
          ],
          [
           "australian electropop"
          ],
          [
           "australian garage punk"
          ],
          [
           "australian hip hop"
          ],
          [
           "australian house"
          ],
          [
           "australian indie"
          ],
          [
           "australian indie folk"
          ],
          [
           "australian indie rock"
          ],
          [
           "australian indigenous"
          ],
          [
           "australian metal"
          ],
          [
           "australian metalcore"
          ],
          [
           "australian pop"
          ],
          [
           "australian post-hardcore"
          ],
          [
           "australian post-punk"
          ],
          [
           "australian psych"
          ],
          [
           "australian r&b"
          ],
          [
           "australian reggae fusion"
          ],
          [
           "australian rock"
          ],
          [
           "australian singer-songwriter"
          ],
          [
           "australian ska"
          ],
          [
           "australian talent show"
          ],
          [
           "australian trap"
          ],
          [
           "australian underground hip hop"
          ],
          [
           "austrian choir"
          ],
          [
           "austrian classical piano"
          ],
          [
           "austrian orchestra"
          ],
          [
           "austrian pop"
          ],
          [
           "austro-german modernism"
          ],
          [
           "austropop"
          ],
          [
           "autoharp"
          ],
          [
           "autonomous black metal"
          ],
          [
           "avant-garde"
          ],
          [
           "avant-garde jazz"
          ],
          [
           "avant-garde metal"
          ],
          [
           "axe"
          ],
          [
           "azeri traditional"
          ],
          [
           "azonto"
          ],
          [
           "azontobeats"
          ],
          [
           "bachata"
          ],
          [
           "bachata dominicana"
          ],
          [
           "background music"
          ],
          [
           "background piano"
          ],
          [
           "baglama"
          ],
          [
           "bahai"
          ],
          [
           "bahamian folk"
          ],
          [
           "bahamian pop"
          ],
          [
           "baiao"
          ],
          [
           "bajki"
          ],
          [
           "bakersfield sound"
          ],
          [
           "balearic"
          ],
          [
           "balkan brass"
          ],
          [
           "balkan classical piano"
          ],
          [
           "ballet class"
          ],
          [
           "ballroom"
          ],
          [
           "baltic classical"
          ],
          [
           "baltimore hip hop"
          ],
          [
           "baltimore indie"
          ],
          [
           "banda"
          ],
          [
           "banda caliente"
          ],
          [
           "banda carnavalera"
          ],
          [
           "bandinhas"
          ],
          [
           "bandolim"
          ],
          [
           "bandoneon"
          ],
          [
           "bangla"
          ],
          [
           "banjo"
          ],
          [
           "bansuri"
          ],
          [
           "barbadian pop"
          ],
          [
           "barbershop"
          ],
          [
           "bard"
          ],
          [
           "barnmusik"
          ],
          [
           "barockinterpreten"
          ],
          [
           "baroque"
          ],
          [
           "baroque brass"
          ],
          [
           "baroque ensemble"
          ],
          [
           "baroque pop"
          ],
          [
           "baroque singing"
          ],
          [
           "baroque violin"
          ],
          [
           "baroque woodwind"
          ],
          [
           "bass house"
          ],
          [
           "bass music"
          ],
          [
           "bass trap"
          ],
          [
           "basshall"
          ],
          [
           "bassline"
          ],
          [
           "bath indie"
          ],
          [
           "baton rouge indie"
          ],
          [
           "baton rouge rap"
          ],
          [
           "battle rap"
          ],
          [
           "bay area hip hop"
          ],
          [
           "bay area indie"
          ],
          [
           "bboy"
          ],
          [
           "bc underground hip hop"
          ],
          [
           "beach music"
          ],
          [
           "beat italiano"
          ],
          [
           "beat poetry"
          ],
          [
           "beatboxing"
          ],
          [
           "beatlesque"
          ],
          [
           "bebop"
          ],
          [
           "bedroom pop"
          ],
          [
           "bedroom soul"
          ],
          [
           "belarusian indie"
          ],
          [
           "belarusian pop"
          ],
          [
           "belarusian rock"
          ],
          [
           "belgian classical piano"
          ],
          [
           "belgian contemporary classical"
          ],
          [
           "belgian dance"
          ],
          [
           "belgian edm"
          ],
          [
           "belgian hardcore"
          ],
          [
           "belgian indie"
          ],
          [
           "belgian indie rock"
          ],
          [
           "belgian jazz"
          ],
          [
           "belgian new wave"
          ],
          [
           "belgian pop"
          ],
          [
           "belgian rock"
          ],
          [
           "belgian singer-songwriter"
          ],
          [
           "belgian techno"
          ],
          [
           "belly dance"
          ],
          [
           "bengali folk"
          ],
          [
           "beninese pop"
          ],
          [
           "bergen indie"
          ],
          [
           "berlin minimal techno"
          ],
          [
           "berlin school"
          ],
          [
           "bhajan"
          ],
          [
           "bhangra"
          ],
          [
           "bible"
          ],
          [
           "big band"
          ],
          [
           "big beat"
          ],
          [
           "big room"
          ],
          [
           "binaural"
          ],
          [
           "birdsong"
          ],
          [
           "birmingham grime"
          ],
          [
           "birmingham hip hop"
          ],
          [
           "birmingham metal"
          ],
          [
           "bitpop"
          ],
          [
           "black 'n' roll"
          ],
          [
           "black comedy"
          ],
          [
           "black metal"
          ],
          [
           "black punk"
          ],
          [
           "black thrash"
          ],
          [
           "blackened crust"
          ],
          [
           "blackgaze"
          ],
          [
           "bleep techno"
          ],
          [
           "bluegrass"
          ],
          [
           "bluegrass fiddle"
          ],
          [
           "bluegrass gospel"
          ],
          [
           "blues"
          ],
          [
           "blues latinoamericano"
          ],
          [
           "blues mexicano"
          ],
          [
           "blues rock"
          ],
          [
           "bmore"
          ],
          [
           "bolero"
          ],
          [
           "bolero cubano"
          ],
          [
           "boogaloo"
          ],
          [
           "boogie"
          ],
          [
           "boogie-woogie"
          ],
          [
           "boom bap"
          ],
          [
           "boom bap brasileiro"
          ],
          [
           "bossa nova"
          ],
          [
           "bossa nova jazz"
          ],
          [
           "boston folk"
          ],
          [
           "boston hardcore"
          ],
          [
           "boston hip hop"
          ],
          [
           "boston indie"
          ],
          [
           "boston metal"
          ],
          [
           "boston punk"
          ],
          [
           "boston rock"
          ],
          [
           "bounce"
          ],
          [
           "bouncy house"
          ],
          [
           "bouzouki"
          ],
          [
           "bow pop"
          ],
          [
           "boy band"
          ],
          [
           "boy pop"
          ],
          [
           "boy soprano"
          ],
          [
           "brain waves"
          ],
          [
           "braindance"
          ],
          [
           "brass band"
          ],
          [
           "brass ensemble"
          ],
          [
           "brass quintet"
          ],
          [
           "brazilian boogie"
          ],
          [
           "brazilian classical"
          ],
          [
           "brazilian classical piano"
          ],
          [
           "brazilian contemporary classical"
          ],
          [
           "brazilian edm"
          ],
          [
           "brazilian groove metal"
          ],
          [
           "brazilian hip hop"
          ],
          [
           "brazilian indie"
          ],
          [
           "brazilian jazz"
          ],
          [
           "brazilian metal"
          ],
          [
           "brazilian modern jazz"
          ],
          [
           "brazilian percussion"
          ],
          [
           "brazilian punk"
          ],
          [
           "brazilian reggae"
          ],
          [
           "brazilian rock"
          ],
          [
           "brazilian ska"
          ],
          [
           "brazilian soul"
          ],
          [
           "brazilian thrash metal"
          ],
          [
           "breakbeat"
          ],
          [
           "breakcore"
          ],
          [
           "brega"
          ],
          [
           "breton folk"
          ],
          [
           "brighton indie"
          ],
          [
           "brill building pop"
          ],
          [
           "brisbane indie"
          ],
          [
           "bristol electronic"
          ],
          [
           "bristol indie"
          ],
          [
           "brit funk"
          ],
          [
           "british alternative rock"
          ],
          [
           "british black metal"
          ],
          [
           "british blues"
          ],
          [
           "british children's music"
          ],
          [
           "british choir"
          ],
          [
           "british classical piano"
          ],
          [
           "british comedy"
          ],
          [
           "british contemporary classical"
          ],
          [
           "british dance band"
          ],
          [
           "british death metal"
          ],
          [
           "british experimental"
          ],
          [
           "british folk"
          ],
          [
           "british grindcore"
          ],
          [
           "british indie rock"
          ],
          [
           "british industrial"
          ],
          [
           "british invasion"
          ],
          [
           "british jazz"
          ],
          [
           "british modern classical"
          ],
          [
           "british orchestra"
          ],
          [
           "british post-rock"
          ],
          [
           "british power metal"
          ],
          [
           "british singer-songwriter"
          ],
          [
           "british soul"
          ],
          [
           "british soundtrack"
          ],
          [
           "britpop"
          ],
          [
           "broadway"
          ],
          [
           "broken beat"
          ],
          [
           "bronx hip hop"
          ],
          [
           "brooklyn drill"
          ],
          [
           "brooklyn indie"
          ],
          [
           "brostep"
          ],
          [
           "brutal death metal"
          ],
          [
           "brutal deathcore"
          ],
          [
           "bubble trance"
          ],
          [
           "bubblegrunge"
          ],
          [
           "bubblegum dance"
          ],
          [
           "bubblegum pop"
          ],
          [
           "buffalo hip hop"
          ],
          [
           "buffalo ny indie"
          ],
          [
           "buffalo ny metal"
          ],
          [
           "bulgarian experimental"
          ],
          [
           "burmese traditional"
          ],
          [
           "bush ballad"
          ],
          [
           "c-pop"
          ],
          [
           "c86"
          ],
          [
           "cabaret"
          ],
          [
           "cajun"
          ],
          [
           "calgary indie"
          ],
          [
           "cali rap"
          ],
          [
           "calming instrumental"
          ],
          [
           "calypso"
          ],
          [
           "cambodian rock"
          ],
          [
           "cambridge choir"
          ],
          [
           "cambridgeshire indie"
          ],
          [
           "cameroonian pop"
          ],
          [
           "canadian americana"
          ],
          [
           "canadian blues"
          ],
          [
           "canadian ccm"
          ],
          [
           "canadian celtic"
          ],
          [
           "canadian children's music"
          ],
          [
           "canadian choir"
          ],
          [
           "canadian classical"
          ],
          [
           "canadian classical piano"
          ],
          [
           "canadian comedy"
          ],
          [
           "canadian contemporary country"
          ],
          [
           "canadian contemporary r&b"
          ],
          [
           "canadian country"
          ],
          [
           "canadian electronic"
          ],
          [
           "canadian electropop"
          ],
          [
           "canadian experimental"
          ],
          [
           "canadian folk"
          ],
          [
           "canadian hardcore"
          ],
          [
           "canadian hip hop"
          ],
          [
           "canadian house"
          ],
          [
           "canadian indie"
          ],
          [
           "canadian indie folk"
          ],
          [
           "canadian indigenous"
          ],
          [
           "canadian indigenous hip hop"
          ],
          [
           "canadian latin"
          ],
          [
           "canadian metal"
          ],
          [
           "canadian metalcore"
          ],
          [
           "canadian modern jazz"
          ],
          [
           "canadian pop"
          ],
          [
           "canadian pop punk"
          ],
          [
           "canadian post-hardcore"
          ],
          [
           "canadian post-rock"
          ],
          [
           "canadian psychedelic"
          ],
          [
           "canadian punk"
          ],
          [
           "canadian rock"
          ],
          [
           "canadian rockabilly"
          ],
          [
           "canadian singer-songwriter"
          ],
          [
           "canadian soundtrack"
          ],
          [
           "cancion melodica"
          ],
          [
           "candy pop"
          ],
          [
           "cantautor"
          ],
          [
           "cante flamenco"
          ],
          [
           "canterbury scene"
          ],
          [
           "canto popular uruguayo"
          ],
          [
           "cantopop"
          ],
          [
           "canzone d'autore"
          ],
          [
           "canzone genovese"
          ],
          [
           "canzone napoletana"
          ],
          [
           "cape town indie"
          ],
          [
           "cape verdean folk"
          ],
          [
           "capoeira"
          ],
          [
           "caracas indie"
          ],
          [
           "carnatic"
          ],
          [
           "carnatic instrumental"
          ],
          [
           "carnatic vocal"
          ],
          [
           "cartoon"
          ],
          [
           "cathedral choir"
          ],
          [
           "caucasian classical"
          ],
          [
           "caucasian classical piano"
          ],
          [
           "ccm"
          ],
          [
           "cedm"
          ],
          [
           "cello"
          ],
          [
           "celtic"
          ],
          [
           "celtic harp"
          ],
          [
           "celtic metal"
          ],
          [
           "celtic punk"
          ],
          [
           "celtic rock"
          ],
          [
           "cha-cha-cha"
          ],
          [
           "chakra"
          ],
          [
           "chamame"
          ],
          [
           "chamber choir"
          ],
          [
           "chamber ensemble"
          ],
          [
           "chamber folk"
          ],
          [
           "chamber orchestra"
          ],
          [
           "chamber pop"
          ],
          [
           "chamber psych"
          ],
          [
           "champeta"
          ],
          [
           "channel islands indie"
          ],
          [
           "channel pop"
          ],
          [
           "chanson"
          ],
          [
           "chanson paillarde"
          ],
          [
           "chaotic hardcore"
          ],
          [
           "charanga"
          ],
          [
           "charango"
          ],
          [
           "charlotte nc indie"
          ],
          [
           "charlottesville indie"
          ],
          [
           "chattanooga indie"
          ],
          [
           "chicago blues"
          ],
          [
           "chicago drill"
          ],
          [
           "chicago hardcore"
          ],
          [
           "chicago house"
          ],
          [
           "chicago indie"
          ],
          [
           "chicago pop punk"
          ],
          [
           "chicago punk"
          ],
          [
           "chicago rap"
          ],
          [
           "chicago soul"
          ],
          [
           "chicano punk"
          ],
          [
           "chicano rap"
          ],
          [
           "chicha"
          ],
          [
           "chihuahua indie"
          ],
          [
           "children's choir"
          ],
          [
           "children's folk"
          ],
          [
           "children's music"
          ],
          [
           "children's story"
          ],
          [
           "chilean hardcore"
          ],
          [
           "chilean indie"
          ],
          [
           "chilean rock"
          ],
          [
           "chilena"
          ],
          [
           "chill beats"
          ],
          [
           "chill guitar"
          ],
          [
           "chill lounge"
          ],
          [
           "chill out"
          ],
          [
           "chill pop"
          ],
          [
           "chill r&b"
          ],
          [
           "chillhop"
          ],
          [
           "chillstep"
          ],
          [
           "chillwave"
          ],
          [
           "chinese audiophile"
          ],
          [
           "chinese classical"
          ],
          [
           "chinese classical performance"
          ],
          [
           "chinese classical piano"
          ],
          [
           "chinese electropop"
          ],
          [
           "chinese hip hop"
          ],
          [
           "chinese idol pop"
          ],
          [
           "chinese indie"
          ],
          [
           "chinese indie rock"
          ],
          [
           "chinese instrumental"
          ],
          [
           "chinese jazz"
          ],
          [
           "chinese r&b"
          ],
          [
           "chinese soundtrack"
          ],
          [
           "chinese traditional"
          ],
          [
           "chiptune"
          ],
          [
           "chopped and screwed"
          ],
          [
           "choral"
          ],
          [
           "choro"
          ],
          [
           "christchurch indie"
          ],
          [
           "christelijk"
          ],
          [
           "christian a cappella"
          ],
          [
           "christian alternative rock"
          ],
          [
           "christian dance"
          ],
          [
           "christian hard rock"
          ],
          [
           "christian hardcore"
          ],
          [
           "christian hip hop"
          ],
          [
           "christian indie"
          ],
          [
           "christian metal"
          ],
          [
           "christian metalcore"
          ],
          [
           "christian music"
          ],
          [
           "christian pop"
          ],
          [
           "christian power metal"
          ],
          [
           "christian punk"
          ],
          [
           "christian relaxative"
          ],
          [
           "christian rock"
          ],
          [
           "christian trap"
          ],
          [
           "christian uplift"
          ],
          [
           "christmas instrumental"
          ],
          [
           "christmas product"
          ],
          [
           "chunchaca"
          ],
          [
           "chutney"
          ],
          [
           "cincinnati rap"
          ],
          [
           "cinematic post-rock"
          ],
          [
           "circuit"
          ],
          [
           "circus"
          ],
          [
           "classic afrobeat"
          ],
          [
           "classic arab pop"
          ],
          [
           "classic australian country"
          ],
          [
           "classic belgian pop"
          ],
          [
           "classic bhangra"
          ],
          [
           "classic bollywood"
          ],
          [
           "classic canadian rock"
          ],
          [
           "classic cantopop"
          ],
          [
           "classic colombian pop"
          ],
          [
           "classic country pop"
          ],
          [
           "classic czech pop"
          ],
          [
           "classic danish pop"
          ],
          [
           "classic dubstep"
          ],
          [
           "classic eurovision"
          ],
          [
           "classic finnish pop"
          ],
          [
           "classic french pop"
          ],
          [
           "classic garage rock"
          ],
          [
           "classic girl group"
          ],
          [
           "classic greek pop"
          ],
          [
           "classic hardstyle"
          ],
          [
           "classic icelandic pop"
          ],
          [
           "classic indo pop"
          ],
          [
           "classic iskelma"
          ],
          [
           "classic israeli pop"
          ],
          [
           "classic italian folk pop"
          ],
          [
           "classic italian pop"
          ],
          [
           "classic j-rock"
          ],
          [
           "classic japanese jazz"
          ],
          [
           "classic korean pop"
          ],
          [
           "classic latvian pop"
          ],
          [
           "classic mandopop"
          ],
          [
           "classic norwegian pop"
          ],
          [
           "classic opm"
          ],
          [
           "classic pakistani pop"
          ],
          [
           "classic persian pop"
          ],
          [
           "classic peruvian pop"
          ],
          [
           "classic polish pop"
          ],
          [
           "classic praise"
          ],
          [
           "classic psychedelic rock"
          ],
          [
           "classic punjabi pop"
          ],
          [
           "classic rock"
          ],
          [
           "classic russian pop"
          ],
          [
           "classic russian rock"
          ],
          [
           "classic schlager"
          ],
          [
           "classic soul"
          ],
          [
           "classic soundtrack"
          ],
          [
           "classic swedish pop"
          ],
          [
           "classic thai pop"
          ],
          [
           "classic tunisian pop"
          ],
          [
           "classic turkish pop"
          ],
          [
           "classic uk pop"
          ],
          [
           "classic venezuelan pop"
          ],
          [
           "classical"
          ],
          [
           "classical accordion"
          ],
          [
           "classical baritone"
          ],
          [
           "classical bass"
          ],
          [
           "classical cello"
          ],
          [
           "classical clarinet"
          ],
          [
           "classical contralto"
          ],
          [
           "classical countertenor"
          ],
          [
           "classical era"
          ],
          [
           "classical flute"
          ],
          [
           "classical guitar"
          ],
          [
           "classical harp"
          ],
          [
           "classical horn"
          ],
          [
           "classical mandolin"
          ],
          [
           "classical mezzo-soprano"
          ],
          [
           "classical oboe"
          ],
          [
           "classical organ"
          ],
          [
           "classical performance"
          ],
          [
           "classical piano"
          ],
          [
           "classical piano duo"
          ],
          [
           "classical piano trio"
          ],
          [
           "classical saxophone"
          ],
          [
           "classical soprano"
          ],
          [
           "classical tenor"
          ],
          [
           "classical trumpet"
          ],
          [
           "classify"
          ],
          [
           "clawhammer banjo"
          ],
          [
           "clean comedy"
          ],
          [
           "cleveland metal"
          ],
          [
           "coco"
          ],
          [
           "collage pop"
          ],
          [
           "college a cappella"
          ],
          [
           "colombian hip hop"
          ],
          [
           "colombian pop"
          ],
          [
           "colombian rock"
          ],
          [
           "columbus ohio indie"
          ],
          [
           "comedy"
          ],
          [
           "comedy rap"
          ],
          [
           "comedy rock"
          ],
          [
           "comic"
          ],
          [
           "comic metal"
          ],
          [
           "commons"
          ],
          [
           "complextro"
          ],
          [
           "compositional ambient"
          ],
          [
           "concepcion indie"
          ],
          [
           "concert band"
          ],
          [
           "connecticut hardcore"
          ],
          [
           "connecticut indie"
          ],
          [
           "conscious hip hop"
          ],
          [
           "contemporary choir"
          ],
          [
           "contemporary classical"
          ],
          [
           "contemporary classical piano"
          ],
          [
           "contemporary country"
          ],
          [
           "contemporary folk"
          ],
          [
           "contemporary gospel"
          ],
          [
           "contemporary jazz"
          ],
          [
           "contemporary post-bop"
          ],
          [
           "contemporary vocal jazz"
          ],
          [
           "contrabass"
          ],
          [
           "cool jazz"
          ],
          [
           "copla"
          ],
          [
           "cornish folk"
          ],
          [
           "cornwall indie"
          ],
          [
           "corrido"
          ],
          [
           "corridos cristianos"
          ],
          [
           "corridos tumbados"
          ],
          [
           "corrosion"
          ],
          [
           "cosmic american"
          ],
          [
           "cosmic post-rock"
          ],
          [
           "country"
          ],
          [
           "country blues"
          ],
          [
           "country boogie"
          ],
          [
           "country dawn"
          ],
          [
           "country gospel"
          ],
          [
           "country pop"
          ],
          [
           "country rap"
          ],
          [
           "country road"
          ],
          [
           "country rock"
          ],
          [
           "coverchill"
          ],
          [
           "cowboy western"
          ],
          [
           "cowpunk"
          ],
          [
           "crack rock steady"
          ],
          [
           "croatian folk"
          ],
          [
           "croatian pop"
          ],
          [
           "croatian rock"
          ],
          [
           "crossover thrash"
          ],
          [
           "crunk"
          ],
          [
           "crust punk"
          ],
          [
           "cuarteto"
          ],
          [
           "cuatro venezolano"
          ],
          [
           "cuban alternative"
          ],
          [
           "cuban rumba"
          ],
          [
           "cubaton"
          ],
          [
           "cumbia"
          ],
          [
           "cumbia andina mexicana"
          ],
          [
           "cumbia chilena"
          ],
          [
           "cumbia colombiana regia"
          ],
          [
           "cumbia ecuatoriana"
          ],
          [
           "cumbia funk"
          ],
          [
           "cumbia lagunera"
          ],
          [
           "cumbia paraguaya"
          ],
          [
           "cumbia peruana"
          ],
          [
           "cumbia pop"
          ],
          [
           "cumbia ranchera"
          ],
          [
           "cumbia salvadorena"
          ],
          [
           "cumbia santafesina"
          ],
          [
           "cumbia sonidera"
          ],
          [
           "cumbia villera"
          ],
          [
           "cyberpunk"
          ],
          [
           "cymraeg"
          ],
          [
           "cypriot pop"
          ],
          [
           "czech classical"
          ],
          [
           "czech classical piano"
          ],
          [
           "czech contemporary classical"
          ],
          [
           "d-beat"
          ],
          [
           "dabke"
          ],
          [
           "dakke dak"
          ],
          [
           "dallas indie"
          ],
          [
           "dance pop"
          ],
          [
           "dance rock"
          ],
          [
           "dance-punk"
          ],
          [
           "dancehall"
          ],
          [
           "dangdut"
          ],
          [
           "danish alternative rock"
          ],
          [
           "danish classical"
          ],
          [
           "danish electronic"
          ],
          [
           "danish electropop"
          ],
          [
           "danish hip hop"
          ],
          [
           "danish jazz"
          ],
          [
           "danish metal"
          ],
          [
           "danish pop"
          ],
          [
           "danish pop rock"
          ],
          [
           "danish post-punk"
          ],
          [
           "danish punk"
          ],
          [
           "danish rock"
          ],
          [
           "danish singer-songwriter"
          ],
          [
           "dansband"
          ],
          [
           "danseband"
          ],
          [
           "dansktop"
          ],
          [
           "danspunk"
          ],
          [
           "dark cabaret"
          ],
          [
           "dark clubbing"
          ],
          [
           "dark disco"
          ],
          [
           "dark hardcore"
          ],
          [
           "dark jazz"
          ],
          [
           "dark minimal techno"
          ],
          [
           "dark post-punk"
          ],
          [
           "dark techno"
          ],
          [
           "dark trap"
          ],
          [
           "dark wave"
          ],
          [
           "darksynth"
          ],
          [
           "dayton indie"
          ],
          [
           "dc hardcore"
          ],
          [
           "dc indie"
          ],
          [
           "death 'n' roll"
          ],
          [
           "death metal"
          ],
          [
           "deathcore"
          ],
          [
           "deathgrass"
          ],
          [
           "deathgrind"
          ],
          [
           "deathrash"
          ],
          [
           "deathrock"
          ],
          [
           "deathstep"
          ],
          [
           "deep acoustic pop"
          ],
          [
           "deep adult standards"
          ],
          [
           "deep big room"
          ],
          [
           "deep ccm"
          ],
          [
           "deep christian rock"
          ],
          [
           "deep classic garage rock"
          ],
          [
           "deep comedy"
          ],
          [
           "deep contemporary country"
          ],
          [
           "deep dance pop"
          ],
          [
           "deep delta blues"
          ],
          [
           "deep disco"
          ],
          [
           "deep disco house"
          ],
          [
           "deep dnb"
          ],
          [
           "deep east coast hip hop"
          ],
          [
           "deep euro house"
          ],
          [
           "deep flow"
          ],
          [
           "deep free jazz"
          ],
          [
           "deep freestyle"
          ],
          [
           "deep full on"
          ],
          [
           "deep funk"
          ],
          [
           "deep g funk"
          ],
          [
           "deep gothic post-punk"
          ],
          [
           "deep groove house"
          ],
          [
           "deep house"
          ],
          [
           "deep idm"
          ],
          [
           "deep indian pop"
          ],
          [
           "deep indie singer-songwriter"
          ],
          [
           "deep latin alternative"
          ],
          [
           "deep latin christian"
          ],
          [
           "deep melodic metalcore"
          ],
          [
           "deep minimal techno"
          ],
          [
           "deep motown"
          ],
          [
           "deep new americana"
          ],
          [
           "deep new wave"
          ],
          [
           "deep norteno"
          ],
          [
           "deep northern soul"
          ],
          [
           "deep pop edm"
          ],
          [
           "deep progressive house"
          ],
          [
           "deep psychobilly"
          ],
          [
           "deep punk rock"
          ],
          [
           "deep r&b"
          ],
          [
           "deep ragga"
          ],
          [
           "deep regional mexican"
          ],
          [
           "deep smooth jazz"
          ],
          [
           "deep soft rock"
          ],
          [
           "deep soul house"
          ],
          [
           "deep soundtrack"
          ],
          [
           "deep southern soul"
          ],
          [
           "deep southern trap"
          ],
          [
           "deep space rock"
          ],
          [
           "deep talent show"
          ],
          [
           "deep tech house"
          ],
          [
           "deep techno"
          ],
          [
           "deep tropical house"
          ],
          [
           "deep underground hip hop"
          ],
          [
           "deep uplifting trance"
          ],
          [
           "delta blues"
          ],
          [
           "dembow"
          ],
          [
           "denpa-kei"
          ],
          [
           "denton tx indie"
          ],
          [
           "denver indie"
          ],
          [
           "depressive black metal"
          ],
          [
           "derby indie"
          ],
          [
           "desert blues"
          ],
          [
           "desi hip hop"
          ],
          [
           "desi pop"
          ],
          [
           "destroy techno"
          ],
          [
           "detroit hip hop"
          ],
          [
           "detroit house"
          ],
          [
           "detroit techno"
          ],
          [
           "detroit trap"
          ],
          [
           "detske pisnicky"
          ],
          [
           "detskie pesni"
          ],
          [
           "devon indie"
          ],
          [
           "dfw rap"
          ],
          [
           "dhrupad"
          ],
          [
           "digital hardcore"
          ],
          [
           "dinner jazz"
          ],
          [
           "dirty south rap"
          ],
          [
           "dirty texas rap"
          ],
          [
           "disco"
          ],
          [
           "disco house"
          ],
          [
           "disney"
          ],
          [
           "diva house"
          ],
          [
           "dixieland"
          ],
          [
           "diy emo"
          ],
          [
           "djent"
          ],
          [
           "dmv rap"
          ],
          [
           "dominican pop"
          ],
          [
           "dong-yo"
          ],
          [
           "doo-wop"
          ],
          [
           "doom metal"
          ],
          [
           "double drumming"
          ],
          [
           "downtempo"
          ],
          [
           "drama"
          ],
          [
           "dream pop"
          ],
          [
           "dream trance"
          ],
          [
           "dreamgaze"
          ],
          [
           "dreamo"
          ],
          [
           "drift"
          ],
          [
           "drill"
          ],
          [
           "drill and bass"
          ],
          [
           "drone"
          ],
          [
           "drone folk"
          ],
          [
           "drone metal"
          ],
          [
           "drum and bass"
          ],
          [
           "dub"
          ],
          [
           "dub metal"
          ],
          [
           "dub poetry"
          ],
          [
           "dub techno"
          ],
          [
           "dubstep"
          ],
          [
           "dubsteppe"
          ],
          [
           "duduk"
          ],
          [
           "duluth indie"
          ],
          [
           "dunedin indie"
          ],
          [
           "dunedin sound"
          ],
          [
           "dungeon synth"
          ],
          [
           "duranguense"
          ],
          [
           "dusseldorf electronic"
          ],
          [
           "dutch blues"
          ],
          [
           "dutch cabaret"
          ],
          [
           "dutch classical piano"
          ],
          [
           "dutch death metal"
          ],
          [
           "dutch dnb"
          ],
          [
           "dutch edm"
          ],
          [
           "dutch folk"
          ],
          [
           "dutch hip hop"
          ],
          [
           "dutch house"
          ],
          [
           "dutch indie"
          ],
          [
           "dutch jazz"
          ],
          [
           "dutch metal"
          ],
          [
           "dutch pop"
          ],
          [
           "dutch prog"
          ],
          [
           "dutch rap pop"
          ],
          [
           "dutch rock"
          ],
          [
           "dutch trance"
          ],
          [
           "e6fi"
          ],
          [
           "early american folk"
          ],
          [
           "early avant garde"
          ],
          [
           "early modern classical"
          ],
          [
           "early music"
          ],
          [
           "early music choir"
          ],
          [
           "early music ensemble"
          ],
          [
           "early reggae"
          ],
          [
           "early romantic era"
          ],
          [
           "early synthpop"
          ],
          [
           "early us punk"
          ],
          [
           "east coast hip hop"
          ],
          [
           "east coast reggae"
          ],
          [
           "eastern bloc groove"
          ],
          [
           "easy listening"
          ],
          [
           "easycore"
          ],
          [
           "eau claire indie"
          ],
          [
           "ebm"
          ],
          [
           "ecm-style jazz"
          ],
          [
           "ectofolk"
          ],
          [
           "ecuadorian pop"
          ],
          [
           "edm"
          ],
          [
           "edmonton indie"
          ],
          [
           "egyptian pop"
          ],
          [
           "egyptian traditional"
          ],
          [
           "el paso indie"
          ],
          [
           "electra"
          ],
          [
           "electric bass"
          ],
          [
           "electric blues"
          ],
          [
           "electro"
          ],
          [
           "electro house"
          ],
          [
           "electro jazz"
          ],
          [
           "electro latino"
          ],
          [
           "electro swing"
          ],
          [
           "electro-industrial"
          ],
          [
           "electro-pop francais"
          ],
          [
           "electroclash"
          ],
          [
           "electrofox"
          ],
          [
           "electronic djent"
          ],
          [
           "electronic rock"
          ],
          [
           "electronic trap"
          ],
          [
           "electronica"
          ],
          [
           "electronica argentina"
          ],
          [
           "electropop"
          ],
          [
           "electropowerpop"
          ],
          [
           "emo"
          ],
          [
           "emo mexicano"
          ],
          [
           "emo punk"
          ],
          [
           "emo rap"
          ],
          [
           "emocore"
          ],
          [
           "english baroque"
          ],
          [
           "english indie rock"
          ],
          [
           "english renaissance"
          ],
          [
           "enka"
          ],
          [
           "entehno"
          ],
          [
           "environmental"
          ],
          [
           "epic doom"
          ],
          [
           "epicore"
          ],
          [
           "erhu"
          ],
          [
           "escape room"
          ],
          [
           "esperanto"
          ],
          [
           "essex indie"
          ],
          [
           "estonian hip hop"
          ],
          [
           "estonian pop"
          ],
          [
           "ethereal wave"
          ],
          [
           "etherpop"
          ],
          [
           "ethio-jazz"
          ],
          [
           "ethiopian pop"
          ],
          [
           "ethnomusicology"
          ],
          [
           "ethnotronica"
          ],
          [
           "eugene indie"
          ],
          [
           "euphoric hardstyle"
          ],
          [
           "eurobeat"
          ],
          [
           "eurodance"
          ],
          [
           "europop"
          ],
          [
           "euroska"
          ],
          [
           "eurovision"
          ],
          [
           "exotica"
          ],
          [
           "experimental"
          ],
          [
           "experimental ambient"
          ],
          [
           "experimental big band"
          ],
          [
           "experimental dub"
          ],
          [
           "experimental folk"
          ],
          [
           "experimental guitar"
          ],
          [
           "experimental hip hop"
          ],
          [
           "experimental house"
          ],
          [
           "experimental indie"
          ],
          [
           "experimental jazz"
          ],
          [
           "experimental pop"
          ],
          [
           "experimental rock"
          ],
          [
           "experimental vocal"
          ],
          [
           "fado"
          ],
          [
           "family gospel"
          ],
          [
           "faroese pop"
          ],
          [
           "fast melodic punk"
          ],
          [
           "fidget house"
          ],
          [
           "filmi"
          ],
          [
           "filter house"
          ],
          [
           "filthstep"
          ],
          [
           "final fantasy"
          ],
          [
           "fingerstyle"
          ],
          [
           "finnish alternative rock"
          ],
          [
           "finnish classical"
          ],
          [
           "finnish contemporary classical"
          ],
          [
           "finnish death metal"
          ],
          [
           "finnish edm"
          ],
          [
           "finnish hard rock"
          ],
          [
           "finnish heavy metal"
          ],
          [
           "finnish metal"
          ],
          [
           "finnish power metal"
          ],
          [
           "finnish soul"
          ],
          [
           "flamenco"
          ],
          [
           "flamenco guitar"
          ],
          [
           "flick hop"
          ],
          [
           "flint hip hop"
          ],
          [
           "float house"
          ],
          [
           "florida death metal"
          ],
          [
           "florida rap"
          ],
          [
           "fluxwork"
          ],
          [
           "fo jing"
          ],
          [
           "focus"
          ],
          [
           "focus beats"
          ],
          [
           "focus trance"
          ],
          [
           "folclor afrocolombiano"
          ],
          [
           "folclor colombiano"
          ],
          [
           "folclore extremeno"
          ],
          [
           "folclore jujeno"
          ],
          [
           "folclore navarra"
          ],
          [
           "folclore salteno"
          ],
          [
           "folclore tucumano"
          ],
          [
           "folk"
          ],
          [
           "folk metal"
          ],
          [
           "folk punk"
          ],
          [
           "folk rock"
          ],
          [
           "folk rock italiano"
          ],
          [
           "folk-pop"
          ],
          [
           "folklore argentino"
          ],
          [
           "folklore boliviano"
          ],
          [
           "folklore chileno"
          ],
          [
           "folklore ecuatoriano"
          ],
          [
           "folklore peruano"
          ],
          [
           "folklore venezolano"
          ],
          [
           "folklore veracruzano"
          ],
          [
           "folkmusik"
          ],
          [
           "folktronica"
          ],
          [
           "footwork"
          ],
          [
           "forro"
          ],
          [
           "forro tradicional"
          ],
          [
           "fort worth indie"
          ],
          [
           "fourth world"
          ],
          [
           "francoton"
          ],
          [
           "freak folk"
          ],
          [
           "freakbeat"
          ],
          [
           "free folk"
          ],
          [
           "free improvisation"
          ],
          [
           "free jazz"
          ],
          [
           "freestyle"
          ],
          [
           "french baroque"
          ],
          [
           "french classical piano"
          ],
          [
           "french contemporary classical"
          ],
          [
           "french death metal"
          ],
          [
           "french dnb"
          ],
          [
           "french hip hop"
          ],
          [
           "french indie folk"
          ],
          [
           "french indie pop"
          ],
          [
           "french indietronica"
          ],
          [
           "french jazz"
          ],
          [
           "french metal"
          ],
          [
           "french movie tunes"
          ],
          [
           "french opera"
          ],
          [
           "french orchestra"
          ],
          [
           "french pop"
          ],
          [
           "french post-punk"
          ],
          [
           "french psychedelic"
          ],
          [
           "french reggae"
          ],
          [
           "french rock"
          ],
          [
           "french romanticism"
          ],
          [
           "french shoegaze"
          ],
          [
           "french soundtrack"
          ],
          [
           "french synthpop"
          ],
          [
           "french techno"
          ],
          [
           "frenchcore"
          ],
          [
           "full on"
          ],
          [
           "funana"
          ],
          [
           "funeral doom"
          ],
          [
           "funk"
          ],
          [
           "funk 150 bpm"
          ],
          [
           "funk carioca"
          ],
          [
           "funk das antigas"
          ],
          [
           "funk metal"
          ],
          [
           "funk mexicano"
          ],
          [
           "funk ostentacao"
          ],
          [
           "funk paulista"
          ],
          [
           "funk pop"
          ],
          [
           "funk rock"
          ],
          [
           "funky breaks"
          ],
          [
           "funky tech house"
          ],
          [
           "future bass"
          ],
          [
           "future funk"
          ],
          [
           "future garage"
          ],
          [
           "future house"
          ],
          [
           "future rock"
          ],
          [
           "futurepop"
          ],
          [
           "g funk"
          ],
          [
           "gabba"
          ],
          [
           "gabonese pop"
          ],
          [
           "gaian doom"
          ],
          [
           "gainesville indie"
          ],
          [
           "gaita zuliana"
          ],
          [
           "galante era"
          ],
          [
           "gamelan"
          ],
          [
           "gaming dubstep"
          ],
          [
           "gaming edm"
          ],
          [
           "gangster rap"
          ],
          [
           "garage house"
          ],
          [
           "garage pop"
          ],
          [
           "garage psych"
          ],
          [
           "garage punk"
          ],
          [
           "garage punk blues"
          ],
          [
           "garage rock"
          ],
          [
           "garage rock revival"
          ],
          [
           "gauze pop"
          ],
          [
           "gbvfi"
          ],
          [
           "geek folk"
          ],
          [
           "geek rock"
          ],
          [
           "georgian folk"
          ],
          [
           "german alternative rock"
          ],
          [
           "german baroque"
          ],
          [
           "german choir"
          ],
          [
           "german classical piano"
          ],
          [
           "german country"
          ],
          [
           "german dance"
          ],
          [
           "german hard rock"
          ],
          [
           "german heavy metal"
          ],
          [
           "german house"
          ],
          [
           "german indie"
          ],
          [
           "german jazz"
          ],
          [
           "german literature"
          ],
          [
           "german metal"
          ],
          [
           "german oi"
          ],
          [
           "german opera"
          ],
          [
           "german orchestra"
          ],
          [
           "german pop"
          ],
          [
           "german pop rock"
          ],
          [
           "german post-hardcore"
          ],
          [
           "german power metal"
          ],
          [
           "german punk"
          ],
          [
           "german renaissance"
          ],
          [
           "german rock"
          ],
          [
           "german romanticism"
          ],
          [
           "german show tunes"
          ],
          [
           "german soundtrack"
          ],
          [
           "german techno"
          ],
          [
           "german thrash metal"
          ],
          [
           "german trance"
          ],
          [
           "german underground rap"
          ],
          [
           "ghanaian hip hop"
          ],
          [
           "ghanaian traditional"
          ],
          [
           "ghazal"
          ],
          [
           "ghent indie"
          ],
          [
           "girl group"
          ],
          [
           "glam metal"
          ],
          [
           "glam punk"
          ],
          [
           "glam rock"
          ],
          [
           "glee club"
          ],
          [
           "glitch"
          ],
          [
           "glitch hop"
          ],
          [
           "glitch pop"
          ],
          [
           "glitchcore"
          ],
          [
           "go-go"
          ],
          [
           "goregrind"
          ],
          [
           "gospel"
          ],
          [
           "gospel antigas"
          ],
          [
           "gospel blues"
          ],
          [
           "gospel italiano"
          ],
          [
           "gospel r&b"
          ],
          [
           "gospel rap"
          ],
          [
           "gospel singers"
          ],
          [
           "gospel soul"
          ],
          [
           "gothabilly"
          ],
          [
           "gothenburg indie"
          ],
          [
           "gothenburg metal"
          ],
          [
           "gothic alternative"
          ],
          [
           "gothic americana"
          ],
          [
           "gothic black metal"
          ],
          [
           "gothic metal"
          ],
          [
           "gothic post-punk"
          ],
          [
           "gothic rock"
          ],
          [
           "gothic symphonic metal"
          ],
          [
           "gqom"
          ],
          [
           "grand rapids indie"
          ],
          [
           "grave wave"
          ],
          [
           "greek clarinet"
          ],
          [
           "greek contemporary classical"
          ],
          [
           "greek folk"
          ],
          [
           "greek guitar"
          ],
          [
           "greek house"
          ],
          [
           "greek jazz"
          ],
          [
           "greek pop"
          ],
          [
           "greek swing"
          ],
          [
           "gregorian chant"
          ],
          [
           "grime"
          ],
          [
           "grindcore"
          ],
          [
           "griot"
          ],
          [
           "groove metal"
          ],
          [
           "groove room"
          ],
          [
           "grunge"
          ],
          [
           "grunge pop"
          ],
          [
           "grupera"
          ],
          [
           "gruperas inmortales"
          ],
          [
           "guadalajara indie"
          ],
          [
           "guam indie"
          ],
          [
           "guaracha"
          ],
          [
           "guatemalan pop"
          ],
          [
           "guidance"
          ],
          [
           "guinean pop"
          ],
          [
           "guitarra argentina"
          ],
          [
           "guitarra clasica"
          ],
          [
           "guitarra portuguesa"
          ],
          [
           "gujarati garba"
          ],
          [
           "gujarati pop"
          ],
          [
           "guzheng"
          ],
          [
           "gymcore"
          ],
          [
           "gypsy"
          ],
          [
           "gypsy jazz"
          ],
          [
           "gypsy punk"
          ],
          [
           "haitian traditional"
          ],
          [
           "halifax indie"
          ],
          [
           "halloween"
          ],
          [
           "hamburg electronic"
          ],
          [
           "hammered dulcimer"
          ],
          [
           "hammond organ"
          ],
          [
           "hands up"
          ],
          [
           "hangpan"
          ],
          [
           "happy hardcore"
          ],
          [
           "hard alternative"
          ],
          [
           "hard bop"
          ],
          [
           "hard minimal techno"
          ],
          [
           "hard rock"
          ],
          [
           "hard rock brasileiro"
          ],
          [
           "hardcore"
          ],
          [
           "hardcore hip hop"
          ],
          [
           "hardcore punk"
          ],
          [
           "hardcore techno"
          ],
          [
           "hardstyle"
          ],
          [
           "harlem hip hop"
          ],
          [
           "harlem renaissance"
          ],
          [
           "harmonica blues"
          ],
          [
           "harmonica jazz"
          ],
          [
           "harp"
          ],
          [
           "harpsichord"
          ],
          [
           "haryanvi pop"
          ],
          [
           "hauntology"
          ],
          [
           "hawaiian"
          ],
          [
           "hawaiian hip hop"
          ],
          [
           "hawaiian indie"
          ],
          [
           "healing"
          ],
          [
           "heartland rock"
          ],
          [
           "hi-nrg"
          ],
          [
           "highlife"
          ],
          [
           "hindi hip hop"
          ],
          [
           "hindi indie"
          ],
          [
           "hindustani classical"
          ],
          [
           "hindustani instrumental"
          ],
          [
           "hindustani vocal"
          ],
          [
           "hip hop"
          ],
          [
           "hip hop cubano"
          ],
          [
           "hip house"
          ],
          [
           "hip pop"
          ],
          [
           "hiplife"
          ],
          [
           "histoire pour enfants"
          ],
          [
           "historic classical performance"
          ],
          [
           "historic orchestral performance"
          ],
          [
           "historic piano performance"
          ],
          [
           "historic string quartet"
          ],
          [
           "historical keyboard"
          ],
          [
           "historically informed performance"
          ],
          [
           "hoerspiel"
          ],
          [
           "hokkien pop"
          ],
          [
           "hollywood"
          ],
          [
           "hong kong hip hop"
          ],
          [
           "hong kong indie"
          ],
          [
           "hong kong rock"
          ],
          [
           "honky tonk"
          ],
          [
           "honky-tonk piano"
          ],
          [
           "hopebeat"
          ],
          [
           "horror punk"
          ],
          [
           "horror synth"
          ],
          [
           "horrorcore"
          ],
          [
           "house"
          ],
          [
           "houston rap"
          ],
          [
           "huapango"
          ],
          [
           "huayno"
          ],
          [
           "hula"
          ],
          [
           "humppa"
          ],
          [
           "hungarian choir"
          ],
          [
           "hungarian classical performance"
          ],
          [
           "hungarian classical piano"
          ],
          [
           "hungarian contemporary classical"
          ],
          [
           "hungarian edm"
          ],
          [
           "hungarian folk"
          ],
          [
           "hungarian pop"
          ],
          [
           "hungarian rock"
          ],
          [
           "hungarian techno"
          ],
          [
           "hurdy-gurdy"
          ],
          [
           "hyperpop"
          ],
          [
           "hyphy"
          ],
          [
           "icelandic classical"
          ],
          [
           "icelandic electronic"
          ],
          [
           "icelandic experimental"
          ],
          [
           "icelandic folk"
          ],
          [
           "icelandic indie"
          ],
          [
           "icelandic jazz"
          ],
          [
           "icelandic pop"
          ],
          [
           "icelandic rock"
          ],
          [
           "idaho indie"
          ],
          [
           "idol"
          ],
          [
           "idol rock"
          ],
          [
           "ilahiler"
          ],
          [
           "ilocano pop"
          ],
          [
           "impressionism"
          ],
          [
           "indian classical"
          ],
          [
           "indian edm"
          ],
          [
           "indian folk"
          ],
          [
           "indian fusion"
          ],
          [
           "indian indie"
          ],
          [
           "indian instrumental"
          ],
          [
           "indian jazz"
          ],
          [
           "indiana hip hop"
          ],
          [
           "indie anthem-folk"
          ],
          [
           "indie cafe pop"
          ],
          [
           "indie deutschrap"
          ],
          [
           "indie dream pop"
          ],
          [
           "indie electronica"
          ],
          [
           "indie electropop"
          ],
          [
           "indie folk"
          ],
          [
           "indie game soundtrack"
          ],
          [
           "indie garage rock"
          ],
          [
           "indie hip hop"
          ],
          [
           "indie jazz"
          ],
          [
           "indie pop"
          ],
          [
           "indie pop rap"
          ],
          [
           "indie poptimism"
          ],
          [
           "indie psych-pop"
          ],
          [
           "indie punk"
          ],
          [
           "indie quebecois"
          ],
          [
           "indie r&b"
          ],
          [
           "indie rock"
          ],
          [
           "indie rock mexicano"
          ],
          [
           "indie rockism"
          ],
          [
           "indie shoegaze"
          ],
          [
           "indie singer-songwriter"
          ],
          [
           "indie soul"
          ],
          [
           "indie surf"
          ],
          [
           "indie triste"
          ],
          [
           "indiecoustica"
          ],
          [
           "indietronica"
          ],
          [
           "indonesian hip hop"
          ],
          [
           "indonesian indie"
          ],
          [
           "indonesian pop"
          ],
          [
           "indonesian r&b"
          ],
          [
           "indonesian worship"
          ],
          [
           "industrial"
          ],
          [
           "industrial hardcore"
          ],
          [
           "industrial hip hop"
          ],
          [
           "industrial metal"
          ],
          [
           "industrial rock"
          ],
          [
           "indy indie"
          ],
          [
           "instrumental acoustic guitar"
          ],
          [
           "instrumental bluegrass"
          ],
          [
           "instrumental funk"
          ],
          [
           "instrumental grime"
          ],
          [
           "instrumental math rock"
          ],
          [
           "instrumental post-rock"
          ],
          [
           "instrumental progressive metal"
          ],
          [
           "instrumental rock"
          ],
          [
           "instrumental soul"
          ],
          [
           "instrumental stoner rock"
          ],
          [
           "instrumental surf"
          ],
          [
           "intelligent dance music"
          ],
          [
           "iowa hip hop"
          ],
          [
           "irish accordion"
          ],
          [
           "irish ballad"
          ],
          [
           "irish banjo"
          ],
          [
           "irish classical"
          ],
          [
           "irish country"
          ],
          [
           "irish dance"
          ],
          [
           "irish fiddle"
          ],
          [
           "irish folk"
          ],
          [
           "irish hip hop"
          ],
          [
           "irish indie"
          ],
          [
           "irish metal"
          ],
          [
           "irish pop"
          ],
          [
           "irish pub song"
          ],
          [
           "irish rock"
          ],
          [
           "irish singer-songwriter"
          ],
          [
           "iskelma"
          ],
          [
           "islamic recitation"
          ],
          [
           "isle of wight indie"
          ],
          [
           "israeli classical"
          ],
          [
           "israeli classical piano"
          ],
          [
           "israeli folk"
          ],
          [
           "israeli hip hop"
          ],
          [
           "israeli mediterranean"
          ],
          [
           "israeli pop"
          ],
          [
           "israeli rock"
          ],
          [
           "israeli singer-songwriter"
          ],
          [
           "israeli techno"
          ],
          [
           "italian adult pop"
          ],
          [
           "italian baritone"
          ],
          [
           "italian baroque"
          ],
          [
           "italian baroque ensemble"
          ],
          [
           "italian bass"
          ],
          [
           "italian blues"
          ],
          [
           "italian classical guitar"
          ],
          [
           "italian classical piano"
          ],
          [
           "italian contemporary jazz"
          ],
          [
           "italian disco"
          ],
          [
           "italian gothic"
          ],
          [
           "italian gothic metal"
          ],
          [
           "italian indie pop"
          ],
          [
           "italian jazz"
          ],
          [
           "italian library music"
          ],
          [
           "italian mandolin"
          ],
          [
           "italian metal"
          ],
          [
           "italian mezzo-soprano"
          ],
          [
           "italian modern prog"
          ],
          [
           "italian opera"
          ],
          [
           "italian orchestra"
          ],
          [
           "italian pop rock"
          ],
          [
           "italian power metal"
          ],
          [
           "italian progressive metal"
          ],
          [
           "italian progressive rock"
          ],
          [
           "italian renaissance"
          ],
          [
           "italian romanticism"
          ],
          [
           "italian soprano"
          ],
          [
           "italian soundtrack"
          ],
          [
           "italian techno"
          ],
          [
           "italian tenor"
          ],
          [
           "italian violin"
          ],
          [
           "italo dance"
          ],
          [
           "italo house"
          ],
          [
           "j-acoustic"
          ],
          [
           "j-ambient"
          ],
          [
           "j-dance"
          ],
          [
           "j-division"
          ],
          [
           "j-idol"
          ],
          [
           "j-metal"
          ],
          [
           "j-pixie"
          ],
          [
           "j-pop"
          ],
          [
           "j-pop girl group"
          ],
          [
           "j-poprock"
          ],
          [
           "j-punk"
          ],
          [
           "j-reggae"
          ],
          [
           "j-rock"
          ],
          [
           "jacksonville indie"
          ],
          [
           "jam band"
          ],
          [
           "jamgrass"
          ],
          [
           "jamtronica"
          ],
          [
           "jangle pop"
          ],
          [
           "japanese alternative rock"
          ],
          [
           "japanese chillhop"
          ],
          [
           "japanese city pop"
          ],
          [
           "japanese classical"
          ],
          [
           "japanese classical performance"
          ],
          [
           "japanese classical piano"
          ],
          [
           "japanese concert band"
          ],
          [
           "japanese dream pop"
          ],
          [
           "japanese electronic"
          ],
          [
           "japanese electropop"
          ],
          [
           "japanese emo"
          ],
          [
           "japanese experimental"
          ],
          [
           "japanese folk"
          ],
          [
           "japanese garage rock"
          ],
          [
           "japanese girl punk"
          ],
          [
           "japanese heavy metal"
          ],
          [
           "japanese idm"
          ],
          [
           "japanese indie folk"
          ],
          [
           "japanese indie rock"
          ],
          [
           "japanese instrumental"
          ],
          [
           "japanese jazz"
          ],
          [
           "japanese jazz fusion"
          ],
          [
           "japanese jazztronica"
          ],
          [
           "japanese metalcore"
          ],
          [
           "japanese new wave"
          ],
          [
           "japanese piano"
          ],
          [
           "japanese pop punk"
          ],
          [
           "japanese post-hardcore"
          ],
          [
           "japanese power metal"
          ],
          [
           "japanese prog"
          ],
          [
           "japanese psychedelic"
          ],
          [
           "japanese punk rock"
          ],
          [
           "japanese r&b"
          ],
          [
           "japanese rockabilly"
          ],
          [
           "japanese singer-songwriter"
          ],
          [
           "japanese soundtrack"
          ],
          [
           "japanese traditional"
          ],
          [
           "japanese vgm"
          ],
          [
           "japanese vocal jazz"
          ],
          [
           "jawaiian"
          ],
          [
           "jazz"
          ],
          [
           "jazz accordion"
          ],
          [
           "jazz blues"
          ],
          [
           "jazz boom bap"
          ],
          [
           "jazz brass"
          ],
          [
           "jazz chileno"
          ],
          [
           "jazz clarinet"
          ],
          [
           "jazz colombiano"
          ],
          [
           "jazz cubano"
          ],
          [
           "jazz double bass"
          ],
          [
           "jazz drums"
          ],
          [
           "jazz flute"
          ],
          [
           "jazz funk"
          ],
          [
           "jazz fusion"
          ],
          [
           "jazz guitar"
          ],
          [
           "jazz harp"
          ],
          [
           "jazz metal"
          ],
          [
           "jazz mexicano"
          ],
          [
           "jazz orchestra"
          ],
          [
           "jazz organ"
          ],
          [
           "jazz piano"
          ],
          [
           "jazz pop"
          ],
          [
           "jazz quartet"
          ],
          [
           "jazz rap"
          ],
          [
           "jazz rock"
          ],
          [
           "jazz saxophone"
          ],
          [
           "jazz trio"
          ],
          [
           "jazz trombone"
          ],
          [
           "jazz trumpet"
          ],
          [
           "jazz tuba"
          ],
          [
           "jazz venezolano"
          ],
          [
           "jazz vibraphone"
          ],
          [
           "jazz violin"
          ],
          [
           "jazztronica"
          ],
          [
           "jewish cantorial"
          ],
          [
           "jewish hip hop"
          ],
          [
           "jig and reel"
          ],
          [
           "jordanian pop"
          ],
          [
           "joropo"
          ],
          [
           "jovem guarda"
          ],
          [
           "jug band"
          ],
          [
           "juju"
          ],
          [
           "jump blues"
          ],
          [
           "jump up"
          ],
          [
           "k-indie"
          ],
          [
           "k-pop"
          ],
          [
           "k-pop boy group"
          ],
          [
           "k-pop girl group"
          ],
          [
           "k-rap"
          ],
          [
           "kabarett"
          ],
          [
           "kabyle"
          ],
          [
           "kaneka"
          ],
          [
           "kannada bhava geethe"
          ],
          [
           "kansas city hip hop"
          ],
          [
           "kashmiri pop"
          ],
          [
           "kawaii future bass"
          ],
          [
           "kawaii metal"
          ],
          [
           "kayokyoku"
          ],
          [
           "kc indie"
          ],
          [
           "kent indie"
          ],
          [
           "kentucky hip hop"
          ],
          [
           "kentucky indie"
          ],
          [
           "kentucky metal"
          ],
          [
           "kentucky mountain folk"
          ],
          [
           "kentucky punk"
          ],
          [
           "kentucky roots"
          ],
          [
           "keroncong"
          ],
          [
           "khaleeji iraqi"
          ],
          [
           "khmer"
          ],
          [
           "kids dance party"
          ],
          [
           "kindie rock"
          ],
          [
           "kingston on indie"
          ],
          [
           "kirtan"
          ],
          [
           "kiwi rock"
          ],
          [
           "kizomba antigas"
          ],
          [
           "kleine hoerspiel"
          ],
          [
           "klezmer"
          ],
          [
           "knoxville indie"
          ],
          [
           "kodomo no ongaku"
          ],
          [
           "kolsche karneval"
          ],
          [
           "komedi"
          ],
          [
           "kompa"
          ],
          [
           "kora"
          ],
          [
           "korean classical performance"
          ],
          [
           "korean classical piano"
          ],
          [
           "korean indie rock"
          ],
          [
           "korean mask singer"
          ],
          [
           "korean pop"
          ],
          [
           "korean r&b"
          ],
          [
           "korean trap"
          ],
          [
           "koto"
          ],
          [
           "krautrock"
          ],
          [
           "kundiman"
          ],
          [
           "la indie"
          ],
          [
           "la pop"
          ],
          [
           "laboratorio"
          ],
          [
           "lafayette indie"
          ],
          [
           "laiko"
          ],
          [
           "lancashire indie"
          ],
          [
           "lancaster pa indie"
          ],
          [
           "late romantic era"
          ],
          [
           "latin"
          ],
          [
           "latin afrobeat"
          ],
          [
           "latin alternative"
          ],
          [
           "latin american classical piano"
          ],
          [
           "latin arena pop"
          ],
          [
           "latin christian"
          ],
          [
           "latin classical"
          ],
          [
           "latin funk"
          ],
          [
           "latin hip hop"
          ],
          [
           "latin house"
          ],
          [
           "latin jazz"
          ],
          [
           "latin metal"
          ],
          [
           "latin pop"
          ],
          [
           "latin rock"
          ],
          [
           "latin ska"
          ],
          [
           "latin soundtrack"
          ],
          [
           "latin talent show"
          ],
          [
           "latin tech house"
          ],
          [
           "latin viral pop"
          ],
          [
           "latin worship"
          ],
          [
           "latincore"
          ],
          [
           "latino comedy"
          ],
          [
           "latintronica"
          ],
          [
           "latinx alternative"
          ],
          [
           "latvian pop"
          ],
          [
           "lds"
          ],
          [
           "lds youth"
          ],
          [
           "lebanese pop"
          ],
          [
           "leicester indie"
          ],
          [
           "lexington ky indie"
          ],
          [
           "lgbtq+ hip hop"
          ],
          [
           "library music"
          ],
          [
           "liedermacher"
          ],
          [
           "light music"
          ],
          [
           "lilith"
          ],
          [
           "liquid funk"
          ],
          [
           "lithuanian electronic"
          ],
          [
           "liverpool indie"
          ],
          [
           "livetronica"
          ],
          [
           "lldm"
          ],
          [
           "lo star"
          ],
          [
           "lo-fi"
          ],
          [
           "lo-fi beats"
          ],
          [
           "lo-fi brasileiro"
          ],
          [
           "lo-fi chill"
          ],
          [
           "lo-fi cover"
          ],
          [
           "lo-fi emo"
          ],
          [
           "lo-fi house"
          ],
          [
           "lo-fi indie"
          ],
          [
           "lo-fi vgm"
          ],
          [
           "london rap"
          ],
          [
           "louisiana blues"
          ],
          [
           "louisiana metal"
          ],
          [
           "louisville indie"
          ],
          [
           "louisville underground"
          ],
          [
           "lounge"
          ],
          [
           "louvor"
          ],
          [
           "lovers rock"
          ],
          [
           "lullaby"
          ],
          [
           "lund indie"
          ],
          [
           "lute"
          ],
          [
           "macedonian folk"
          ],
          [
           "madchester"
          ],
          [
           "madrigal"
          ],
          [
           "magyar alternative"
          ],
          [
           "maine hip hop"
          ],
          [
           "maine indie"
          ],
          [
           "mainland chinese pop"
          ],
          [
           "makossa"
          ],
          [
           "malaysian mandopop"
          ],
          [
           "malaysian pop"
          ],
          [
           "malian blues"
          ],
          [
           "mallet"
          ],
          [
           "malmo indie"
          ],
          [
           "mambo"
          ],
          [
           "manchester hip hop"
          ],
          [
           "manchester indie"
          ],
          [
           "mande pop"
          ],
          [
           "mandolin"
          ],
          [
           "mandopop"
          ],
          [
           "manguebeat"
          ],
          [
           "manila sound"
          ],
          [
           "manitoba indie"
          ],
          [
           "mantra"
          ],
          [
           "marathi pop"
          ],
          [
           "marathi traditional"
          ],
          [
           "marching band"
          ],
          [
           "mariachi"
          ],
          [
           "mariachi cristiano"
          ],
          [
           "marimba orquesta"
          ],
          [
           "martial industrial"
          ],
          [
           "mashup"
          ],
          [
           "math rock"
          ],
          [
           "mathcore"
          ],
          [
           "mbalax"
          ],
          [
           "medieval"
          ],
          [
           "medieval folk"
          ],
          [
           "medieval rock"
          ],
          [
           "meditation"
          ],
          [
           "melancholia"
          ],
          [
           "melbourne bounce"
          ],
          [
           "melbourne bounce international"
          ],
          [
           "melbourne indie"
          ],
          [
           "mellow gold"
          ],
          [
           "melodic death metal"
          ],
          [
           "melodic deathcore"
          ],
          [
           "melodic dubstep"
          ],
          [
           "melodic groove metal"
          ],
          [
           "melodic hard rock"
          ],
          [
           "melodic hardcore"
          ],
          [
           "melodic metal"
          ],
          [
           "melodic metalcore"
          ],
          [
           "melodic power metal"
          ],
          [
           "melodic rap"
          ],
          [
           "melodic thrash"
          ],
          [
           "meme rap"
          ],
          [
           "memphis americana"
          ],
          [
           "memphis blues"
          ],
          [
           "memphis hip hop"
          ],
          [
           "memphis indie"
          ],
          [
           "memphis soul"
          ],
          [
           "mento"
          ],
          [
           "merengue"
          ],
          [
           "merengue tipico"
          ],
          [
           "merseybeat"
          ],
          [
           "messianic praise"
          ],
          [
           "metal"
          ],
          [
           "metal guitar"
          ],
          [
           "metal mineiro"
          ],
          [
           "metalcore"
          ],
          [
           "metropopolis"
          ],
          [
           "mexican classic rock"
          ],
          [
           "mexican classical"
          ],
          [
           "mexican hip hop"
          ],
          [
           "mexican indie"
          ],
          [
           "mexican pop"
          ],
          [
           "mexican pop punk"
          ],
          [
           "mexican rock"
          ],
          [
           "mexican rock-and-roll"
          ],
          [
           "mexican son"
          ],
          [
           "mexican traditional"
          ],
          [
           "miami bass"
          ],
          [
           "miami hip hop"
          ],
          [
           "miami indie"
          ],
          [
           "miami metal"
          ],
          [
           "michigan indie"
          ],
          [
           "microhouse"
          ],
          [
           "microtonal"
          ],
          [
           "middle earth"
          ],
          [
           "middle east hip hop"
          ],
          [
           "middle eastern traditional"
          ],
          [
           "midwest americana"
          ],
          [
           "midwest emo"
          ],
          [
           "military cadence"
          ],
          [
           "military rap"
          ],
          [
           "milwaukee indie"
          ],
          [
           "mindfulness"
          ],
          [
           "minecraft"
          ],
          [
           "minimal melodic techno"
          ],
          [
           "minimal tech house"
          ],
          [
           "minimal techno"
          ],
          [
           "minimal wave"
          ],
          [
           "minimalism"
          ],
          [
           "minneapolis indie"
          ],
          [
           "minneapolis metal"
          ],
          [
           "minneapolis punk"
          ],
          [
           "minneapolis sound"
          ],
          [
           "minnesota hip hop"
          ],
          [
           "mississippi hip hop"
          ],
          [
           "mississippi indie"
          ],
          [
           "mizrahi"
          ],
          [
           "mod revival"
          ],
          [
           "modern alternative pop"
          ],
          [
           "modern alternative rock"
          ],
          [
           "modern big band"
          ],
          [
           "modern blues"
          ],
          [
           "modern blues rock"
          ],
          [
           "modern bollywood"
          ],
          [
           "modern country rock"
          ],
          [
           "modern dream pop"
          ],
          [
           "modern folk rock"
          ],
          [
           "modern funk"
          ],
          [
           "modern hard rock"
          ],
          [
           "modern indie pop"
          ],
          [
           "modern jazz piano"
          ],
          [
           "modern jazz trio"
          ],
          [
           "modern old-time"
          ],
          [
           "modern performance"
          ],
          [
           "modern power pop"
          ],
          [
           "modern psychedelic folk"
          ],
          [
           "modern reggae"
          ],
          [
           "modern rock"
          ],
          [
           "modern salsa"
          ],
          [
           "modern ska punk"
          ],
          [
           "modern southern rock"
          ],
          [
           "modern string quartet"
          ],
          [
           "modern swing"
          ],
          [
           "modern uplift"
          ],
          [
           "modular synth"
          ],
          [
           "moldovan pop"
          ],
          [
           "mollywood"
          ],
          [
           "mongolian hip hop"
          ],
          [
           "mongolian pop"
          ],
          [
           "monterrey indie"
          ],
          [
           "montreal indie"
          ],
          [
           "moog"
          ],
          [
           "moombahton"
          ],
          [
           "morna"
          ],
          [
           "motivation"
          ],
          [
           "motown"
          ],
          [
           "mountain dulcimer"
          ],
          [
           "movie tunes"
          ],
          [
           "mpb"
          ],
          [
           "music box"
          ],
          [
           "music hall"
          ],
          [
           "musica afroperuana"
          ],
          [
           "musica alagoana"
          ],
          [
           "musica andina"
          ],
          [
           "musica andina colombiana"
          ],
          [
           "musica antigua"
          ],
          [
           "musica aragonesa"
          ],
          [
           "musica ayacuchana"
          ],
          [
           "musica canaria"
          ],
          [
           "musica costarricense"
          ],
          [
           "musica costena"
          ],
          [
           "musica cristiana guatemalteca"
          ],
          [
           "musica de fondo"
          ],
          [
           "musica gaucha tradicionalista"
          ],
          [
           "musica hondurena"
          ],
          [
           "musica infantil"
          ],
          [
           "musica jibara"
          ],
          [
           "musica juiz-forana"
          ],
          [
           "musica llanera"
          ],
          [
           "musica nicaraguense"
          ],
          [
           "musica para criancas"
          ],
          [
           "musica para ninos"
          ],
          [
           "musica paraibana"
          ],
          [
           "musica piemonteisa"
          ],
          [
           "musica popular colombiana"
          ],
          [
           "musica popular mineira"
          ],
          [
           "musica popular paraense"
          ],
          [
           "musica potosina"
          ],
          [
           "musica prehispanica"
          ],
          [
           "musica sarda"
          ],
          [
           "musica tradicional cubana"
          ],
          [
           "musica tropical guatemalteca"
          ],
          [
           "musical advocacy"
          ],
          [
           "musikkorps"
          ],
          [
           "musique concrete"
          ],
          [
           "musique peule"
          ],
          [
           "musique pour enfant quebecois"
          ],
          [
           "musique pour enfants"
          ],
          [
           "musique touareg"
          ],
          [
           "muzica populara"
          ],
          [
           "muzika l'yeladim"
          ],
          [
           "naija worship"
          ],
          [
           "nantes indie"
          ],
          [
           "narodna muzika"
          ],
          [
           "nashville americana"
          ],
          [
           "nashville hip hop"
          ],
          [
           "nashville indie"
          ],
          [
           "nashville singer-songwriter"
          ],
          [
           "nashville sound"
          ],
          [
           "native american"
          ],
          [
           "native american contemporary"
          ],
          [
           "native american flute"
          ],
          [
           "native american hip hop"
          ],
          [
           "native american spiritual"
          ],
          [
           "navajo"
          ],
          [
           "nederlandse hardstyle"
          ],
          [
           "nederpop"
          ],
          [
           "neo classical metal"
          ],
          [
           "neo kyma"
          ],
          [
           "neo mellow"
          ],
          [
           "neo r&b"
          ],
          [
           "neo soul"
          ],
          [
           "neo-classical"
          ],
          [
           "neo-kraut"
          ],
          [
           "neo-pagan"
          ],
          [
           "neo-progressive"
          ],
          [
           "neo-psychedelic"
          ],
          [
           "neo-rockabilly"
          ],
          [
           "neo-singer-songwriter"
          ],
          [
           "neo-synthpop"
          ],
          [
           "neo-trad metal"
          ],
          [
           "neo-traditional bluegrass"
          ],
          [
           "neo-traditional country"
          ],
          [
           "neoclassical darkwave"
          ],
          [
           "neoclassicism"
          ],
          [
           "neofolk"
          ],
          [
           "neon pop punk"
          ],
          [
           "neotango"
          ],
          [
           "nepali indie"
          ],
          [
           "nepali pop"
          ],
          [
           "nerdcore"
          ],
          [
           "neue deutsche harte"
          ],
          [
           "neue deutsche todeskunst"
          ],
          [
           "neue deutsche welle"
          ],
          [
           "neurofunk"
          ],
          [
           "new age"
          ],
          [
           "new age piano"
          ],
          [
           "new americana"
          ],
          [
           "new beat"
          ],
          [
           "new comedy"
          ],
          [
           "new england americana"
          ],
          [
           "new england emo"
          ],
          [
           "new french touch"
          ],
          [
           "new isolationism"
          ],
          [
           "new jack swing"
          ],
          [
           "new jersey hardcore"
          ],
          [
           "new jersey indie"
          ],
          [
           "new jersey punk"
          ],
          [
           "new jersey rap"
          ],
          [
           "new mexico music"
          ],
          [
           "new orleans blues"
          ],
          [
           "new orleans funk"
          ],
          [
           "new orleans indie"
          ],
          [
           "new orleans jazz"
          ],
          [
           "new orleans rap"
          ],
          [
           "new rave"
          ],
          [
           "new romantic"
          ],
          [
           "new tribe"
          ],
          [
           "new wave"
          ],
          [
           "new wave of thrash metal"
          ],
          [
           "new wave pop"
          ],
          [
           "new weird america"
          ],
          [
           "new york death metal"
          ],
          [
           "new york drill"
          ],
          [
           "new zealand classical"
          ],
          [
           "newcastle indie"
          ],
          [
           "newcastle nsw indie"
          ],
          [
           "nigerian hip hop"
          ],
          [
           "nigerian pop"
          ],
          [
           "nightcore"
          ],
          [
           "nightrun"
          ],
          [
           "ninja"
          ],
          [
           "nintendocore"
          ],
          [
           "nisiotika"
          ],
          [
           "nl folk"
          ],
          [
           "no wave"
          ],
          [
           "noise pop"
          ],
          [
           "noise punk"
          ],
          [
           "noise rock"
          ],
          [
           "nordic classical piano"
          ],
          [
           "nordic contemporary classical"
          ],
          [
           "nordic folk"
          ],
          [
           "nordic house"
          ],
          [
           "nordic orchestra"
          ],
          [
           "nordic post-rock"
          ],
          [
           "nordic soundtrack"
          ],
          [
           "norman ok indie"
          ],
          [
           "norsk lovsang"
          ],
          [
           "norteno"
          ],
          [
           "norteno-sax"
          ],
          [
           "north carolina emo"
          ],
          [
           "north carolina hip hop"
          ],
          [
           "north carolina indie"
          ],
          [
           "north carolina metal"
          ],
          [
           "north carolina roots"
          ],
          [
           "north east england indie"
          ],
          [
           "northern irish indie"
          ],
          [
           "northern irish punk"
          ],
          [
           "northern soul"
          ],
          [
           "norwegian black metal"
          ],
          [
           "norwegian choir"
          ],
          [
           "norwegian classical"
          ],
          [
           "norwegian contemporary jazz"
          ],
          [
           "norwegian death metal"
          ],
          [
           "norwegian experimental"
          ],
          [
           "norwegian hip hop"
          ],
          [
           "norwegian indie"
          ],
          [
           "norwegian jazz"
          ],
          [
           "norwegian metal"
          ],
          [
           "norwegian pop"
          ],
          [
           "norwegian pop rap"
          ],
          [
           "norwegian punk rock"
          ],
          [
           "norwegian rock"
          ],
          [
           "norwegian singer-songwriter"
          ],
          [
           "norwegian space disco"
          ],
          [
           "nottingham indie"
          ],
          [
           "nouvelle chanson francaise"
          ],
          [
           "nova canco"
          ],
          [
           "nova mpb"
          ],
          [
           "nova musica pernambucana"
          ],
          [
           "novelty"
          ],
          [
           "nu age"
          ],
          [
           "nu disco"
          ],
          [
           "nu gaze"
          ],
          [
           "nu jazz"
          ],
          [
           "nu metal"
          ],
          [
           "nu skool breaks"
          ],
          [
           "nu-cumbia"
          ],
          [
           "nu-metalcore"
          ],
          [
           "nubian traditional"
          ],
          [
           "nueva cancion"
          ],
          [
           "nueva ola chilena"
          ],
          [
           "nueva ola peruana"
          ],
          [
           "nuevo flamenco"
          ],
          [
           "nuevo folklore mexicano"
          ],
          [
           "nuevo regional mexicano"
          ],
          [
           "nuevo tango"
          ],
          [
           "nursery"
          ],
          [
           "nwobhm"
          ],
          [
           "nwothm"
          ],
          [
           "ny roots"
          ],
          [
           "nyc pop"
          ],
          [
           "nyc rap"
          ],
          [
           "nyhc"
          ],
          [
           "nz christian"
          ],
          [
           "nz folk"
          ],
          [
           "nz hardcore"
          ],
          [
           "nz indie"
          ],
          [
           "nz pop"
          ],
          [
           "nz punk"
          ],
          [
           "nz reggae"
          ],
          [
           "nz singer-songwriter"
          ],
          [
           "oakland hip hop"
          ],
          [
           "oakland indie"
          ],
          [
           "oc indie"
          ],
          [
           "oc rap"
          ],
          [
           "oceania soundtrack"
          ],
          [
           "ohio hip hop"
          ],
          [
           "ohio indie"
          ],
          [
           "oi"
          ],
          [
           "ok indie"
          ],
          [
           "okc indie"
          ],
          [
           "okinawan pop"
          ],
          [
           "oklahoma country"
          ],
          [
           "old school dancehall"
          ],
          [
           "old school hip hop"
          ],
          [
           "old school rap francais"
          ],
          [
           "old school thrash"
          ],
          [
           "old school uk hip hop"
          ],
          [
           "old west"
          ],
          [
           "old-time"
          ],
          [
           "old-time fiddle"
          ],
          [
           "olympia wa indie"
          ],
          [
           "omaha indie"
          ],
          [
           "one-person band"
          ],
          [
           "ontario indie"
          ],
          [
           "opera"
          ],
          [
           "opera chorus"
          ],
          [
           "opera metal"
          ],
          [
           "operatic pop"
          ],
          [
           "operetta"
          ],
          [
           "opm"
          ],
          [
           "oratory"
          ],
          [
           "orchestra"
          ],
          [
           "orchestral performance"
          ],
          [
           "orebro indie"
          ],
          [
           "organic ambient"
          ],
          [
           "organic electronic"
          ],
          [
           "organic house"
          ],
          [
           "orgcore"
          ],
          [
           "oriental classical"
          ],
          [
           "orkney and shetland folk"
          ],
          [
           "orlando indie"
          ],
          [
           "orquesta tipica"
          ],
          [
           "orthodox chant"
          ],
          [
           "oshare kei"
          ],
          [
           "otacore"
          ],
          [
           "oth indie"
          ],
          [
           "ottawa indie"
          ],
          [
           "ottawa rap"
          ],
          [
           "oud"
          ],
          [
           "outer hip hop"
          ],
          [
           "outlaw country"
          ],
          [
           "outsider"
          ],
          [
           "outsider house"
          ],
          [
           "oxford choir"
          ],
          [
           "oxford indie"
          ],
          [
           "p funk"
          ],
          [
           "pagan black metal"
          ],
          [
           "pagode"
          ],
          [
           "pagode baiano"
          ],
          [
           "paisley underground"
          ],
          [
           "pakistani folk"
          ],
          [
           "pakistani hip hop"
          ],
          [
           "pakistani pop"
          ],
          [
           "palestinian pop"
          ],
          [
           "palm desert scene"
          ],
          [
           "panamanian pop"
          ],
          [
           "panamanian rock"
          ],
          [
           "panpipe"
          ],
          [
           "papuri"
          ],
          [
           "parody"
          ],
          [
           "partido alto"
          ],
          [
           "partyschlager"
          ],
          [
           "pei indie"
          ],
          [
           "permanent wave"
          ],
          [
           "perreo"
          ],
          [
           "persian pop"
          ],
          [
           "persian traditional"
          ],
          [
           "perth indie"
          ],
          [
           "peruvian hip hop"
          ],
          [
           "peruvian rock"
          ],
          [
           "pet calming"
          ],
          [
           "philly indie"
          ],
          [
           "philly rap"
          ],
          [
           "philly soul"
          ],
          [
           "phoenix indie"
          ],
          [
           "phonk"
          ],
          [
           "pianissimo"
          ],
          [
           "piano blues"
          ],
          [
           "piano cover"
          ],
          [
           "piano mpb"
          ],
          [
           "piano rock"
          ],
          [
           "pibroch"
          ],
          [
           "piedmont blues"
          ],
          [
           "pinoy hip hop"
          ],
          [
           "pinoy indie"
          ],
          [
           "pinoy pop punk"
          ],
          [
           "pinoy praise"
          ],
          [
           "pinoy r&b"
          ],
          [
           "pinoy reggae"
          ],
          [
           "pinoy rock"
          ],
          [
           "pinoy traditional"
          ],
          [
           "pinoy trap"
          ],
          [
           "pirate"
          ],
          [
           "pittsburgh indie"
          ],
          [
           "pittsburgh rap"
          ],
          [
           "pittsburgh rock"
          ],
          [
           "pixie"
          ],
          [
           "plunderphonics"
          ],
          [
           "poetry"
          ],
          [
           "polca paraguaya"
          ],
          [
           "polish blues"
          ],
          [
           "polish classical"
          ],
          [
           "polish classical piano"
          ],
          [
           "polish contemporary classical"
          ],
          [
           "polish jazz"
          ],
          [
           "polish modern jazz"
          ],
          [
           "polish pop"
          ],
          [
           "polish post-rock"
          ],
          [
           "polish reggae"
          ],
          [
           "polish rock"
          ],
          [
           "political hip hop"
          ],
          [
           "polka"
          ],
          [
           "polynesian hip hop"
          ],
          [
           "polynesian pop"
          ],
          [
           "polyphony"
          ],
          [
           "pony"
          ],
          [
           "pop"
          ],
          [
           "pop argentino"
          ],
          [
           "pop chileno"
          ],
          [
           "pop dance"
          ],
          [
           "pop edm"
          ],
          [
           "pop electronico"
          ],
          [
           "pop emo"
          ],
          [
           "pop flamenco"
          ],
          [
           "pop folk"
          ],
          [
           "pop house"
          ],
          [
           "pop nacional"
          ],
          [
           "pop nacional antigas"
          ],
          [
           "pop peruano"
          ],
          [
           "pop punk"
          ],
          [
           "pop quebecois"
          ],
          [
           "pop r&b"
          ],
          [
           "pop rap"
          ],
          [
           "pop reggaeton"
          ],
          [
           "pop rock"
          ],
          [
           "pop rock brasileiro"
          ],
          [
           "pop romantico"
          ],
          [
           "pop soul"
          ],
          [
           "pop venezolano"
          ],
          [
           "pop violin"
          ],
          [
           "popgaze"
          ],
          [
           "popping"
          ],
          [
           "pops orchestra"
          ],
          [
           "popwave"
          ],
          [
           "pornogrind"
          ],
          [
           "porro"
          ],
          [
           "portland hip hop"
          ],
          [
           "portland indie"
          ],
          [
           "portland metal"
          ],
          [
           "portland punk"
          ],
          [
           "portuguese early music"
          ],
          [
           "post-disco"
          ],
          [
           "post-disco soul"
          ],
          [
           "post-doom metal"
          ],
          [
           "post-grunge"
          ],
          [
           "post-hardcore"
          ],
          [
           "post-metal"
          ],
          [
           "post-minimalism"
          ],
          [
           "post-post-hardcore"
          ],
          [
           "post-punk"
          ],
          [
           "post-punk argentina"
          ],
          [
           "post-rock"
          ],
          [
           "post-romantic era"
          ],
          [
           "post-screamo"
          ],
          [
           "post-teen pop"
          ],
          [
           "power metal"
          ],
          [
           "power pop"
          ],
          [
           "power thrash"
          ],
          [
           "power-pop punk"
          ],
          [
           "praise"
          ],
          [
           "prepared piano"
          ],
          [
           "preschool children's music"
          ],
          [
           "prog quebec"
          ],
          [
           "progressive alternative"
          ],
          [
           "progressive bluegrass"
          ],
          [
           "progressive deathcore"
          ],
          [
           "progressive electro house"
          ],
          [
           "progressive groove metal"
          ],
          [
           "progressive house"
          ],
          [
           "progressive jazz fusion"
          ],
          [
           "progressive metal"
          ],
          [
           "progressive metalcore"
          ],
          [
           "progressive post-hardcore"
          ],
          [
           "progressive power metal"
          ],
          [
           "progressive psytrance"
          ],
          [
           "progressive rock"
          ],
          [
           "progressive sludge"
          ],
          [
           "progressive trance"
          ],
          [
           "progressive trance house"
          ],
          [
           "progressive uplifting trance"
          ],
          [
           "proto-rap"
          ],
          [
           "proto-techno"
          ],
          [
           "protopunk"
          ],
          [
           "psalmen"
          ],
          [
           "psicodelia brasileira"
          ],
          [
           "psybass"
          ],
          [
           "psychedelic blues-rock"
          ],
          [
           "psychedelic doom"
          ],
          [
           "psychedelic folk"
          ],
          [
           "psychedelic folk rock"
          ],
          [
           "psychedelic hip hop"
          ],
          [
           "psychedelic pop"
          ],
          [
           "psychedelic punk"
          ],
          [
           "psychedelic rock"
          ],
          [
           "psychedelic soul"
          ],
          [
           "psychedelic trance"
          ],
          [
           "psychill"
          ],
          [
           "psychobilly"
          ],
          [
           "pub rock"
          ],
          [
           "puerto rican folk"
          ],
          [
           "puerto rican pop"
          ],
          [
           "puerto rican rock"
          ],
          [
           "punjabi folk"
          ],
          [
           "punjabi hip hop"
          ],
          [
           "punjabi pop"
          ],
          [
           "punk"
          ],
          [
           "punk 'n' roll"
          ],
          [
           "punk blues"
          ],
          [
           "punk rock italiano"
          ],
          [
           "punk rock mexicano"
          ],
          [
           "punta"
          ],
          [
           "purple sound"
          ],
          [
           "qawwali"
          ],
          [
           "quartetto d'archi"
          ],
          [
           "quatuor a cordes"
          ],
          [
           "quebec death metal"
          ],
          [
           "quebec indie"
          ],
          [
           "queens hip hop"
          ],
          [
           "queer country"
          ],
          [
           "queercore"
          ],
          [
           "quiet storm"
          ],
          [
           "quran"
          ],
          [
           "r&b"
          ],
          [
           "r&b en espanol"
          ],
          [
           "rabindra sangeet"
          ],
          [
           "radio symphony"
          ],
          [
           "ragtime"
          ],
          [
           "rai"
          ],
          [
           "ranchera"
          ],
          [
           "rap"
          ],
          [
           "rap chileno"
          ],
          [
           "rap conciencia"
          ],
          [
           "rap conscient"
          ],
          [
           "rap cristiano"
          ],
          [
           "rap dominicano"
          ],
          [
           "rap kreyol"
          ],
          [
           "rap latina"
          ],
          [
           "rap metal"
          ],
          [
           "rap nacional antigo"
          ],
          [
           "rap napoletano"
          ],
          [
           "rap rock"
          ],
          [
           "rap underground mexicano"
          ],
          [
           "rare groove"
          ],
          [
           "rave"
          ],
          [
           "rawstyle"
          ],
          [
           "reading"
          ],
          [
           "reading indie"
          ],
          [
           "rebel blues"
          ],
          [
           "rebetiko"
          ],
          [
           "recorder"
          ],
          [
           "red dirt"
          ],
          [
           "redneck"
          ],
          [
           "reggae"
          ],
          [
           "reggae en espanol"
          ],
          [
           "reggae fusion"
          ],
          [
           "reggae rock"
          ],
          [
           "reggaeton"
          ],
          [
           "reggaeton colombiano"
          ],
          [
           "reggaeton cristiano"
          ],
          [
           "reggaeton flow"
          ],
          [
           "reggaeton mexicano"
          ],
          [
           "regional mexican"
          ],
          [
           "relaxative"
          ],
          [
           "renaissance"
          ],
          [
           "rennes indie"
          ],
          [
           "retro metal"
          ],
          [
           "retro soul"
          ],
          [
           "rhode island indie"
          ],
          [
           "rhode island rap"
          ],
          [
           "rhythm and blues"
          ],
          [
           "riddim"
          ],
          [
           "rif"
          ],
          [
           "riot grrrl"
          ],
          [
           "ritmo kombina"
          ],
          [
           "rochester mn indie"
          ],
          [
           "rochester ny indie"
          ],
          [
           "rock"
          ],
          [
           "rock alternatif francais"
          ],
          [
           "rock alternativo brasileiro"
          ],
          [
           "rock andaluz"
          ],
          [
           "rock baiano"
          ],
          [
           "rock brasiliense"
          ],
          [
           "rock chapin"
          ],
          [
           "rock cristiano"
          ],
          [
           "rock drums"
          ],
          [
           "rock en espanol"
          ],
          [
           "rock gaucho"
          ],
          [
           "rock independant francais"
          ],
          [
           "rock kapak"
          ],
          [
           "rock keyboard"
          ],
          [
           "rock nacional"
          ],
          [
           "rock nacional brasileiro"
          ],
          [
           "rock pernambucano"
          ],
          [
           "rock progressif francais"
          ],
          [
           "rock steady"
          ],
          [
           "rock urbano mexicano"
          ],
          [
           "rock-and-roll"
          ],
          [
           "rockabilly"
          ],
          [
           "rockabilly en espanol"
          ],
          [
           "roda de samba"
          ],
          [
           "romanian classical piano"
          ],
          [
           "romanian electronic"
          ],
          [
           "romanian folk"
          ],
          [
           "romanian pop"
          ],
          [
           "romanian rock"
          ],
          [
           "romantico"
          ],
          [
           "roots americana"
          ],
          [
           "roots reggae"
          ],
          [
           "roots rock"
          ],
          [
           "roots worship"
          ],
          [
           "rosary"
          ],
          [
           "rumba"
          ],
          [
           "rumba congolaise"
          ],
          [
           "rune folk"
          ],
          [
           "russian alternative rock"
          ],
          [
           "russian ccm"
          ],
          [
           "russian chanson"
          ],
          [
           "russian choir"
          ],
          [
           "russian classical piano"
          ],
          [
           "russian dance"
          ],
          [
           "russian edm"
          ],
          [
           "russian folk"
          ],
          [
           "russian folk rock"
          ],
          [
           "russian jazz"
          ],
          [
           "russian metal"
          ],
          [
           "russian metalcore"
          ],
          [
           "russian modern classical"
          ],
          [
           "russian orchestra"
          ],
          [
           "russian pop"
          ],
          [
           "russian post-punk"
          ],
          [
           "russian punk"
          ],
          [
           "russian rock"
          ],
          [
           "russian romanticism"
          ],
          [
           "russian shoegaze"
          ],
          [
           "russian trance"
          ],
          [
           "rva indie"
          ],
          [
           "rwandan traditional"
          ],
          [
           "ryukyu ongaku"
          ],
          [
           "sacramento hip hop"
          ],
          [
           "sacramento indie"
          ],
          [
           "sacred steel"
          ],
          [
           "sad rap"
          ],
          [
           "salsa"
          ],
          [
           "salsa choke"
          ],
          [
           "salsa colombiana"
          ],
          [
           "salsa cubana"
          ],
          [
           "salsa international"
          ],
          [
           "salsa peruana"
          ],
          [
           "salsa puertorriquena"
          ],
          [
           "salsa venezolana"
          ],
          [
           "samba"
          ],
          [
           "samba de roda"
          ],
          [
           "samba moderno"
          ],
          [
           "samba-enredo"
          ],
          [
           "samba-jazz"
          ],
          [
           "samba-rock"
          ],
          [
           "san antonio rap"
          ],
          [
           "san diego indie"
          ],
          [
           "san diego rap"
          ],
          [
           "san marcos tx indie"
          ],
          [
           "sandalwood"
          ],
          [
           "sarod"
          ],
          [
           "saskatchewan indie"
          ],
          [
           "scam rap"
          ],
          [
           "scandinavian r&b"
          ],
          [
           "scandipop"
          ],
          [
           "schlager"
          ],
          [
           "scorecore"
          ],
          [
           "scottish electronic"
          ],
          [
           "scottish fiddle"
          ],
          [
           "scottish folk"
          ],
          [
           "scottish hip hop"
          ],
          [
           "scottish indie"
          ],
          [
           "scottish jazz"
          ],
          [
           "scottish metal"
          ],
          [
           "scottish new wave"
          ],
          [
           "scottish rock"
          ],
          [
           "scottish singer-songwriter"
          ],
          [
           "scratch"
          ],
          [
           "scream rap"
          ],
          [
           "screamo"
          ],
          [
           "seattle hip hop"
          ],
          [
           "seattle indie"
          ],
          [
           "second line"
          ],
          [
           "sefardi"
          ],
          [
           "serbian electronic"
          ],
          [
           "serialism"
          ],
          [
           "sertanejo"
          ],
          [
           "sertanejo pop"
          ],
          [
           "sertanejo tradicional"
          ],
          [
           "sertanejo universitario"
          ],
          [
           "sevdah"
          ],
          [
           "sevillanas"
          ],
          [
           "shaabi"
          ],
          [
           "shabad"
          ],
          [
           "shakuhachi"
          ],
          [
           "shamanic"
          ],
          [
           "shanty"
          ],
          [
           "sheffield indie"
          ],
          [
           "shibuya-kei"
          ],
          [
           "shimmer pop"
          ],
          [
           "shimmer psych"
          ],
          [
           "shiver pop"
          ],
          [
           "shoegaze"
          ],
          [
           "show tunes"
          ],
          [
           "shred"
          ],
          [
           "shush"
          ],
          [
           "sierreno"
          ],
          [
           "singaporean mandopop"
          ],
          [
           "singaporean pop"
          ],
          [
           "singaporean singer-songwriter"
          ],
          [
           "singer-songwriter"
          ],
          [
           "singing bowl"
          ],
          [
           "sitar"
          ],
          [
           "ska"
          ],
          [
           "ska argentino"
          ],
          [
           "ska chileno"
          ],
          [
           "ska jazz"
          ],
          [
           "ska mexicano"
          ],
          [
           "ska punk"
          ],
          [
           "ska revival"
          ],
          [
           "skate punk"
          ],
          [
           "skiffle"
          ],
          [
           "skramz"
          ],
          [
           "sky room"
          ],
          [
           "slack-key guitar"
          ],
          [
           "slam poetry"
          ],
          [
           "slamming deathcore"
          ],
          [
           "slavic folk metal"
          ],
          [
           "slayer"
          ],
          [
           "slc indie"
          ],
          [
           "sleaze rock"
          ],
          [
           "sleep"
          ],
          [
           "slovak electronic"
          ],
          [
           "slovenian electronic"
          ],
          [
           "slovenian metal"
          ],
          [
           "slow game"
          ],
          [
           "slowcore"
          ],
          [
           "sludge metal"
          ],
          [
           "small room"
          ],
          [
           "smooth jazz"
          ],
          [
           "smooth saxophone"
          ],
          [
           "smooth soul"
          ],
          [
           "soca"
          ],
          [
           "socal pop punk"
          ],
          [
           "social media pop"
          ],
          [
           "soda pop"
          ],
          [
           "soft rock"
          ],
          [
           "solipsynthm"
          ],
          [
           "son cubano"
          ],
          [
           "son cubano clasico"
          ],
          [
           "son jarocho"
          ],
          [
           "sophisti-pop"
          ],
          [
           "sotalaulut"
          ],
          [
           "soukous"
          ],
          [
           "soul"
          ],
          [
           "soul blues"
          ],
          [
           "soul flow"
          ],
          [
           "soul jazz"
          ],
          [
           "souldies"
          ],
          [
           "sound"
          ],
          [
           "sound art"
          ],
          [
           "sound effects"
          ],
          [
           "sound team"
          ],
          [
           "soundtrack"
          ],
          [
           "south african alternative"
          ],
          [
           "south african choral"
          ],
          [
           "south african country"
          ],
          [
           "south african hip hop"
          ],
          [
           "south african house"
          ],
          [
           "south african jazz"
          ],
          [
           "south african pop"
          ],
          [
           "south african pop dance"
          ],
          [
           "south african rock"
          ],
          [
           "south carolina hip hop"
          ],
          [
           "south carolina indie"
          ],
          [
           "south carolina metal"
          ],
          [
           "south dakota indie"
          ],
          [
           "southampton indie"
          ],
          [
           "southern americana"
          ],
          [
           "southern gospel"
          ],
          [
           "southern hip hop"
          ],
          [
           "southern metal"
          ],
          [
           "southern rock"
          ],
          [
           "southern soul"
          ],
          [
           "southern soul blues"
          ],
          [
           "soviet synthpop"
          ],
          [
           "sovietwave"
          ],
          [
           "spa"
          ],
          [
           "space age pop"
          ],
          [
           "space ambient"
          ],
          [
           "space rock"
          ],
          [
           "spanish baroque"
          ],
          [
           "spanish classical"
          ],
          [
           "spanish classical piano"
          ],
          [
           "spanish folk metal"
          ],
          [
           "spanish hip hop"
          ],
          [
           "spanish indie pop"
          ],
          [
           "spanish invasion"
          ],
          [
           "spanish metal"
          ],
          [
           "spanish modern rock"
          ],
          [
           "spanish new wave"
          ],
          [
           "spanish noise pop"
          ],
          [
           "spanish pop"
          ],
          [
           "spanish pop rock"
          ],
          [
           "spanish renaissance"
          ],
          [
           "spanish rock"
          ],
          [
           "spanish synthpop"
          ],
          [
           "spanish techno"
          ],
          [
           "speed garage"
          ],
          [
           "speed metal"
          ],
          [
           "speedcore"
          ],
          [
           "spiritual hip hop"
          ],
          [
           "spiritual jazz"
          ],
          [
           "spirituals"
          ],
          [
           "springfield mo indie"
          ],
          [
           "spytrack"
          ],
          [
           "st louis rap"
          ],
          [
           "steampunk"
          ],
          [
           "steel guitar"
          ],
          [
           "steelpan"
          ],
          [
           "stl indie"
          ],
          [
           "stomp and flutter"
          ],
          [
           "stomp and holler"
          ],
          [
           "stomp and whittle"
          ],
          [
           "stomp pop"
          ],
          [
           "stoner metal"
          ],
          [
           "stoner rock"
          ],
          [
           "straight edge"
          ],
          [
           "straight-ahead jazz"
          ],
          [
           "street band"
          ],
          [
           "street punk"
          ],
          [
           "streichquartett"
          ],
          [
           "stride"
          ],
          [
           "string band"
          ],
          [
           "string folk"
          ],
          [
           "string orchestra"
          ],
          [
           "string quartet"
          ],
          [
           "strut"
          ],
          [
           "substep"
          ],
          [
           "sudanese pop"
          ],
          [
           "sufi"
          ],
          [
           "sufi chant"
          ],
          [
           "sunshine pop"
          ],
          [
           "supergroup"
          ],
          [
           "surf music"
          ],
          [
           "surf punk"
          ],
          [
           "svensk progg"
          ],
          [
           "swamp blues"
          ],
          [
           "swamp pop"
          ],
          [
           "swamp rock"
          ],
          [
           "swancore"
          ],
          [
           "swedish alternative rock"
          ],
          [
           "swedish americana"
          ],
          [
           "swedish black metal"
          ],
          [
           "swedish choir"
          ],
          [
           "swedish country"
          ],
          [
           "swedish dancehall"
          ],
          [
           "swedish death metal"
          ],
          [
           "swedish doom metal"
          ],
          [
           "swedish electronic"
          ],
          [
           "swedish electropop"
          ],
          [
           "swedish eurodance"
          ],
          [
           "swedish garage rock"
          ],
          [
           "swedish hard rock"
          ],
          [
           "swedish hardcore"
          ],
          [
           "swedish heavy metal"
          ],
          [
           "swedish house"
          ],
          [
           "swedish idol pop"
          ],
          [
           "swedish indie folk"
          ],
          [
           "swedish indie pop"
          ],
          [
           "swedish indie rock"
          ],
          [
           "swedish jazz"
          ],
          [
           "swedish jazz orkester"
          ],
          [
           "swedish melodic rock"
          ],
          [
           "swedish metal"
          ],
          [
           "swedish metalcore"
          ],
          [
           "swedish pop"
          ],
          [
           "swedish post-hardcore"
          ],
          [
           "swedish power metal"
          ],
          [
           "swedish prog"
          ],
          [
           "swedish progressive metal"
          ],
          [
           "swedish rock-and-roll"
          ],
          [
           "swedish singer-songwriter"
          ],
          [
           "swedish soul"
          ],
          [
           "swedish stoner rock"
          ],
          [
           "swedish synth"
          ],
          [
           "swedish synthpop"
          ],
          [
           "swedish tropical house"
          ],
          [
           "swedish underground rap"
          ],
          [
           "swing"
          ],
          [
           "swing italiano"
          ],
          [
           "swing revival"
          ],
          [
           "swiss black metal"
          ],
          [
           "swiss classical piano"
          ],
          [
           "swiss country"
          ],
          [
           "swiss metal"
          ],
          [
           "swiss pop"
          ],
          [
           "swiss rock"
          ],
          [
           "swiss worship"
          ],
          [
           "sydney indie"
          ],
          [
           "symphonic black metal"
          ],
          [
           "symphonic metal"
          ],
          [
           "symphonic rock"
          ],
          [
           "synth funk"
          ],
          [
           "synthpop"
          ],
          [
           "synthwave"
          ],
          [
           "syrian pop"
          ],
          [
           "tabla"
          ],
          [
           "tagalog rap"
          ],
          [
           "tagalog worship"
          ],
          [
           "taiwan campus folk"
          ],
          [
           "taiwan classical performance"
          ],
          [
           "taiwan hip hop"
          ],
          [
           "taiwan indie"
          ],
          [
           "taiwan pop"
          ],
          [
           "taiwan singer-songwriter"
          ],
          [
           "tajik pop"
          ],
          [
           "talent show"
          ],
          [
           "tamaulipas indie"
          ],
          [
           "tamaulipas rap"
          ],
          [
           "tamborazo"
          ],
          [
           "tamil hip hop"
          ],
          [
           "tamil pop"
          ],
          [
           "tamil worship"
          ],
          [
           "tampa indie"
          ],
          [
           "tango"
          ],
          [
           "tango cancion"
          ],
          [
           "tape club"
          ],
          [
           "tech house"
          ],
          [
           "technical death metal"
          ],
          [
           "technical deathcore"
          ],
          [
           "technical groove metal"
          ],
          [
           "technical melodic death metal"
          ],
          [
           "technical thrash"
          ],
          [
           "techno"
          ],
          [
           "techno kayo"
          ],
          [
           "tecnobanda"
          ],
          [
           "teen pop"
          ],
          [
           "tejano"
          ],
          [
           "tempe indie"
          ],
          [
           "tennessee hip hop"
          ],
          [
           "tennessee metal"
          ],
          [
           "tex-mex"
          ],
          [
           "texas blues"
          ],
          [
           "texas country"
          ],
          [
           "texas latin rap"
          ],
          [
           "texas pop punk"
          ],
          [
           "texas punk"
          ],
          [
           "thai folk"
          ],
          [
           "thai folk rock"
          ],
          [
           "thai idol"
          ],
          [
           "thai indie rock"
          ],
          [
           "thai pop"
          ],
          [
           "thall"
          ],
          [
           "theme"
          ],
          [
           "theremin"
          ],
          [
           "thrash core"
          ],
          [
           "thrash metal"
          ],
          [
           "timba"
          ],
          [
           "tin pan alley"
          ],
          [
           "tipico"
          ],
          [
           "tolkien metal"
          ],
          [
           "tollywood"
          ],
          [
           "tone"
          ],
          [
           "torch song"
          ],
          [
           "toronto indie"
          ],
          [
           "toronto rap"
          ],
          [
           "trad jazz catala"
          ],
          [
           "traditional bluegrass"
          ],
          [
           "traditional blues"
          ],
          [
           "traditional british folk"
          ],
          [
           "traditional country"
          ],
          [
           "traditional folk"
          ],
          [
           "traditional funk"
          ],
          [
           "traditional rockabilly"
          ],
          [
           "traditional ska"
          ],
          [
           "traditional soul"
          ],
          [
           "trance"
          ],
          [
           "trance mexicano"
          ],
          [
           "trancecore"
          ],
          [
           "transpop"
          ],
          [
           "trap"
          ],
          [
           "trap argentino"
          ],
          [
           "trap chileno"
          ],
          [
           "trap dominicano"
          ],
          [
           "trap latino"
          ],
          [
           "trap mexicano"
          ],
          [
           "trap queen"
          ],
          [
           "trap soul"
          ],
          [
           "trap triste"
          ],
          [
           "trap venezolano"
          ],
          [
           "traprun"
          ],
          [
           "trash rock"
          ],
          [
           "triangle indie"
          ],
          [
           "tribal house"
          ],
          [
           "trinidadian reggae"
          ],
          [
           "trio cubano"
          ],
          [
           "trip hop"
          ],
          [
           "trival"
          ],
          [
           "tropical"
          ],
          [
           "tropical house"
          ],
          [
           "tropicalia"
          ],
          [
           "trova"
          ],
          [
           "trova mexicana"
          ],
          [
           "truck-driving country"
          ],
          [
           "tuareg guitar"
          ],
          [
           "tucson indie"
          ],
          [
           "tulsa indie"
          ],
          [
           "tuna estudiantil"
          ],
          [
           "tunisian pop"
          ],
          [
           "turbo folk"
          ],
          [
           "turkish classical"
          ],
          [
           "turkish classical performance"
          ],
          [
           "turkish edm"
          ],
          [
           "turkish experimental"
          ],
          [
           "turkish folk"
          ],
          [
           "turkish jazz"
          ],
          [
           "turkish modern jazz"
          ],
          [
           "turkish pop"
          ],
          [
           "turkish psych"
          ],
          [
           "turkish trap"
          ],
          [
           "turkish trap pop"
          ],
          [
           "turntablism"
          ],
          [
           "twee pop"
          ],
          [
           "twoubadou"
          ],
          [
           "tzadik"
          ],
          [
           "ugandan pop"
          ],
          [
           "uilleann pipes"
          ],
          [
           "uk alternative hip hop"
          ],
          [
           "uk alternative pop"
          ],
          [
           "uk americana"
          ],
          [
           "uk contemporary jazz"
          ],
          [
           "uk contemporary r&b"
          ],
          [
           "uk dance"
          ],
          [
           "uk dancehall"
          ],
          [
           "uk diy punk"
          ],
          [
           "uk dnb"
          ],
          [
           "uk doom metal"
          ],
          [
           "uk dub"
          ],
          [
           "uk experimental electronic"
          ],
          [
           "uk funky"
          ],
          [
           "uk garage"
          ],
          [
           "uk hip hop"
          ],
          [
           "uk house"
          ],
          [
           "uk metalcore"
          ],
          [
           "uk noise rock"
          ],
          [
           "uk pop"
          ],
          [
           "uk pop punk"
          ],
          [
           "uk post-hardcore"
          ],
          [
           "uk post-punk"
          ],
          [
           "uk reggae"
          ],
          [
           "uk rockabilly"
          ],
          [
           "uk stoner rock"
          ],
          [
           "uk worship"
          ],
          [
           "uk82"
          ],
          [
           "ukrainian choir"
          ],
          [
           "ukrainian classical"
          ],
          [
           "ukrainian classical piano"
          ],
          [
           "ukrainian electronic"
          ],
          [
           "ukrainian pop"
          ],
          [
           "ukulele"
          ],
          [
           "umbanda"
          ],
          [
           "underground hip hop"
          ],
          [
           "underground power pop"
          ],
          [
           "underground rap"
          ],
          [
           "university choir"
          ],
          [
           "uplifting trance"
          ],
          [
           "uptempo hardcore"
          ],
          [
           "urban contemporary"
          ],
          [
           "urbano espanol"
          ],
          [
           "us power metal"
          ],
          [
           "utah indie"
          ],
          [
           "uzbek pop"
          ],
          [
           "uzbek traditional"
          ],
          [
           "v-pop"
          ],
          [
           "vallenato"
          ],
          [
           "vallenato moderno"
          ],
          [
           "vancouver indie"
          ],
          [
           "vancouver metal"
          ],
          [
           "vancouver punk"
          ],
          [
           "vapor pop"
          ],
          [
           "vapor soul"
          ],
          [
           "vapor trap"
          ],
          [
           "vapor twitch"
          ],
          [
           "vaporwave"
          ],
          [
           "variete francaise"
          ],
          [
           "vaudeville"
          ],
          [
           "vbs"
          ],
          [
           "veena"
          ],
          [
           "vegan straight edge"
          ],
          [
           "vegas indie"
          ],
          [
           "velha guarda"
          ],
          [
           "venezuelan hip hop"
          ],
          [
           "venezuelan indie"
          ],
          [
           "venezuelan rock"
          ],
          [
           "veracruz indie"
          ],
          [
           "vermont indie"
          ],
          [
           "vgm instrumental"
          ],
          [
           "vgm remix"
          ],
          [
           "victoria bc indie"
          ],
          [
           "victorian britain"
          ],
          [
           "video game music"
          ],
          [
           "vienna indie"
          ],
          [
           "vietnamese bolero"
          ],
          [
           "vietnamese pop"
          ],
          [
           "viking black metal"
          ],
          [
           "viking folk"
          ],
          [
           "viking metal"
          ],
          [
           "villancicos"
          ],
          [
           "vintage chanson"
          ],
          [
           "vintage chinese pop"
          ],
          [
           "vintage classical singing"
          ],
          [
           "vintage country folk"
          ],
          [
           "vintage dutch pop"
          ],
          [
           "vintage french electronic"
          ],
          [
           "vintage gospel"
          ],
          [
           "vintage hollywood"
          ],
          [
           "vintage italian pop"
          ],
          [
           "vintage italian soundtrack"
          ],
          [
           "vintage jazz"
          ],
          [
           "vintage old-time"
          ],
          [
           "vintage rockabilly"
          ],
          [
           "vintage schlager"
          ],
          [
           "vintage spanish pop"
          ],
          [
           "vintage swedish pop"
          ],
          [
           "vintage swing"
          ],
          [
           "vintage tango"
          ],
          [
           "viola"
          ],
          [
           "violao"
          ],
          [
           "violao classico"
          ],
          [
           "violin"
          ],
          [
           "viral pop"
          ],
          [
           "viral rap"
          ],
          [
           "viral trap"
          ],
          [
           "virgin islands reggae"
          ],
          [
           "virginia hip hop"
          ],
          [
           "virginia metal"
          ],
          [
           "virginia punk"
          ],
          [
           "visor"
          ],
          [
           "visual kei"
          ],
          [
           "vocal ensemble"
          ],
          [
           "vocal harmony group"
          ],
          [
           "vocal house"
          ],
          [
           "vocal jazz"
          ],
          [
           "vocal trance"
          ],
          [
           "vocaloid"
          ],
          [
           "vogue"
          ],
          [
           "volksmusik"
          ],
          [
           "warm drone"
          ],
          [
           "washboard"
          ],
          [
           "washington indie"
          ],
          [
           "wassoulou"
          ],
          [
           "water"
          ],
          [
           "wave"
          ],
          [
           "welsh folk"
          ],
          [
           "welsh indie"
          ],
          [
           "welsh metal"
          ],
          [
           "welsh rock"
          ],
          [
           "west african jazz"
          ],
          [
           "west australian hip hop"
          ],
          [
           "west coast rap"
          ],
          [
           "west coast reggae"
          ],
          [
           "west coast trap"
          ],
          [
           "west end"
          ],
          [
           "west virginia indie"
          ],
          [
           "western americana"
          ],
          [
           "western mass indie"
          ],
          [
           "western saharan folk"
          ],
          [
           "western swing"
          ],
          [
           "white noise"
          ],
          [
           "wind ensemble"
          ],
          [
           "wind quintet"
          ],
          [
           "wisconsin indie"
          ],
          [
           "witch house"
          ],
          [
           "women's choir"
          ],
          [
           "women's music"
          ],
          [
           "wonky"
          ],
          [
           "worcester ma indie"
          ],
          [
           "world"
          ],
          [
           "world fusion"
          ],
          [
           "world meditation"
          ],
          [
           "world worship"
          ],
          [
           "worship"
          ],
          [
           "wrestling"
          ],
          [
           "wu fam"
          ],
          [
           "wyoming indie"
          ],
          [
           "wyoming roots"
          ],
          [
           "xhosa"
          ],
          [
           "xtra raw"
          ],
          [
           "yacht rock"
          ],
          [
           "ye ye"
          ],
          [
           "yiddish folk"
          ],
          [
           "yodeling"
          ],
          [
           "yoga"
          ],
          [
           "yoik"
          ],
          [
           "york indie"
          ],
          [
           "yorkshire folk"
          ],
          [
           "yugoslav new wave"
          ],
          [
           "yugoslav rock"
          ],
          [
           "zambian pop"
          ],
          [
           "zeuhl"
          ],
          [
           "zhongguo feng"
          ],
          [
           "zimdancehall"
          ],
          [
           "zolo"
          ],
          [
           "zouglou"
          ],
          [
           "zouk"
          ],
          [
           "zurich indie"
          ],
          [
           "zydeco"
          ]
         ],
         "hovertemplate": "x=%{x}<br>y=%{y}<br>genres=%{customdata[0]}<br>cluster_pca=%{marker.color}<extra></extra>",
         "legendgroup": "",
         "marker": {
          "color": [
           3,
           3,
           4,
           1,
           1,
           2,
           2,
           4,
           1,
           1,
           0,
           2,
           0,
           3,
           1,
           2,
           4,
           2,
           0,
           2,
           1,
           1,
           4,
           1,
           2,
           4,
           4,
           3,
           4,
           4,
           4,
           4,
           4,
           2,
           2,
           0,
           2,
           4,
           0,
           2,
           0,
           4,
           4,
           4,
           2,
           4,
           4,
           2,
           4,
           0,
           4,
           2,
           2,
           0,
           0,
           4,
           0,
           0,
           4,
           4,
           0,
           2,
           4,
           3,
           0,
           2,
           0,
           0,
           2,
           3,
           2,
           2,
           3,
           3,
           3,
           3,
           3,
           1,
           0,
           3,
           2,
           3,
           2,
           3,
           3,
           0,
           1,
           0,
           3,
           4,
           0,
           0,
           0,
           2,
           2,
           0,
           0,
           2,
           1,
           4,
           1,
           3,
           2,
           2,
           2,
           2,
           3,
           2,
           4,
           0,
           4,
           2,
           4,
           4,
           4,
           4,
           4,
           0,
           2,
           4,
           2,
           3,
           2,
           4,
           2,
           3,
           4,
           2,
           4,
           3,
           2,
           4,
           4,
           4,
           0,
           4,
           3,
           0,
           4,
           0,
           4,
           0,
           0,
           1,
           0,
           2,
           2,
           4,
           2,
           4,
           3,
           4,
           3,
           3,
           3,
           2,
           0,
           0,
           4,
           4,
           0,
           0,
           2,
           0,
           4,
           0,
           0,
           4,
           4,
           2,
           0,
           2,
           2,
           4,
           4,
           0,
           2,
           4,
           4,
           3,
           3,
           3,
           2,
           3,
           4,
           1,
           0,
           3,
           3,
           0,
           4,
           1,
           4,
           4,
           4,
           4,
           3,
           3,
           1,
           2,
           1,
           4,
           1,
           1,
           1,
           0,
           2,
           3,
           3,
           1,
           3,
           4,
           0,
           4,
           4,
           4,
           1,
           1,
           1,
           1,
           2,
           3,
           4,
           1,
           1,
           1,
           3,
           3,
           3,
           3,
           2,
           3,
           3,
           1,
           4,
           2,
           0,
           4,
           4,
           0,
           4,
           4,
           4,
           4,
           0,
           4,
           4,
           1,
           2,
           1,
           4,
           2,
           1,
           2,
           4,
           0,
           0,
           0,
           3,
           3,
           0,
           0,
           4,
           2,
           0,
           1,
           0,
           4,
           2,
           2,
           2,
           2,
           1,
           4,
           4,
           2,
           3,
           1,
           4,
           3,
           1,
           0,
           0,
           3,
           3,
           4,
           4,
           0,
           0,
           0,
           4,
           0,
           0,
           0,
           0,
           2,
           0,
           2,
           1,
           2,
           1,
           0,
           0,
           2,
           4,
           1,
           1,
           4,
           4,
           1,
           4,
           4,
           1,
           1,
           2,
           4,
           4,
           4,
           0,
           0,
           2,
           4,
           4,
           1,
           2,
           4,
           4,
           3,
           3,
           3,
           2,
           3,
           3,
           4,
           3,
           3,
           3,
           4,
           0,
           4,
           1,
           1,
           0,
           1,
           1,
           4,
           4,
           4,
           0,
           4,
           0,
           0,
           4,
           2,
           3,
           2,
           2,
           0,
           0,
           0,
           4,
           0,
           0,
           2,
           4,
           3,
           3,
           4,
           3,
           1,
           0,
           2,
           1,
           0,
           0,
           2,
           2,
           2,
           3,
           3,
           2,
           0,
           2,
           4,
           3,
           0,
           2,
           2,
           4,
           4,
           4,
           0,
           0,
           4,
           0,
           2,
           4,
           4,
           4,
           2,
           0,
           3,
           1,
           1,
           2,
           2,
           1,
           4,
           0,
           4,
           3,
           1,
           4,
           3,
           2,
           4,
           1,
           4,
           0,
           4,
           1,
           3,
           3,
           3,
           1,
           4,
           2,
           2,
           0,
           4,
           3,
           1,
           0,
           4,
           0,
           2,
           1,
           2,
           4,
           4,
           0,
           0,
           2,
           4,
           0,
           0,
           3,
           2,
           0,
           0,
           4,
           2,
           3,
           2,
           0,
           2,
           2,
           2,
           1,
           2,
           2,
           1,
           1,
           0,
           1,
           1,
           4,
           1,
           1,
           1,
           4,
           3,
           3,
           3,
           0,
           4,
           3,
           1,
           3,
           0,
           4,
           4,
           1,
           3,
           1,
           3,
           3,
           2,
           3,
           2,
           2,
           0,
           4,
           2,
           2,
           4,
           0,
           1,
           4,
           4,
           0,
           1,
           1,
           4,
           0,
           4,
           0,
           0,
           0,
           4,
           2,
           0,
           4,
           4,
           4,
           1,
           1,
           4,
           1,
           4,
           2,
           2,
           4,
           0,
           3,
           1,
           2,
           1,
           4,
           1,
           0,
           2,
           2,
           3,
           3,
           3,
           0,
           0,
           4,
           2,
           0,
           3,
           2,
           2,
           3,
           3,
           3,
           4,
           3,
           1,
           2,
           1,
           2,
           0,
           4,
           0,
           4,
           4,
           2,
           0,
           0,
           2,
           0,
           0,
           4,
           3,
           0,
           4,
           2,
           3,
           2,
           4,
           4,
           4,
           0,
           0,
           2,
           4,
           1,
           1,
           4,
           4,
           1,
           4,
           2,
           1,
           1,
           1,
           1,
           0,
           1,
           4,
           4,
           4,
           2,
           1,
           0,
           0,
           0,
           1,
           2,
           1,
           2,
           0,
           1,
           1,
           1,
           2,
           4,
           2,
           1,
           2,
           4,
           1,
           2,
           2,
           4,
           2,
           1,
           0,
           1,
           2,
           3,
           4,
           4,
           4,
           2,
           2,
           4,
           3,
           2,
           3,
           3,
           3,
           3,
           3,
           3,
           3,
           3,
           3,
           3,
           3,
           1,
           3,
           3,
           3,
           3,
           3,
           3,
           3,
           2,
           3,
           3,
           3,
           1,
           1,
           4,
           0,
           4,
           4,
           4,
           4,
           4,
           4,
           4,
           4,
           4,
           1,
           4,
           0,
           2,
           0,
           3,
           4,
           3,
           0,
           0,
           4,
           3,
           3,
           3,
           4,
           2,
           2,
           3,
           1,
           1,
           3,
           1,
           1,
           1,
           0,
           4,
           4,
           4,
           0,
           2,
           3,
           4,
           1,
           1,
           2,
           1,
           4,
           4,
           4,
           2,
           1,
           1,
           4,
           4,
           2,
           4,
           4,
           0,
           4,
           0,
           4,
           4,
           4,
           1,
           4,
           4,
           4,
           4,
           4,
           4,
           4,
           4,
           4,
           1,
           4,
           1,
           4,
           4,
           4,
           4,
           0,
           0,
           1,
           3,
           3,
           1,
           0,
           1,
           4,
           4,
           4,
           4,
           0,
           4,
           0,
           0,
           3,
           0,
           3,
           4,
           3,
           0,
           4,
           2,
           0,
           4,
           0,
           0,
           1,
           4,
           1,
           4,
           4,
           0,
           4,
           0,
           3,
           2,
           0,
           2,
           4,
           0,
           0,
           0,
           0,
           2,
           0,
           0,
           0,
           4,
           0,
           0,
           0,
           0,
           4,
           1,
           0,
           0,
           2,
           4,
           1,
           2,
           4,
           1,
           4,
           2,
           0,
           4,
           4,
           4,
           1,
           4,
           0,
           4,
           4,
           0,
           4,
           4,
           3,
           1,
           0,
           1,
           2,
           0,
           2,
           1,
           2,
           4,
           4,
           3,
           0,
           0,
           0,
           4,
           0,
           4,
           4,
           2,
           2,
           2,
           3,
           1,
           4,
           2,
           4,
           2,
           2,
           4,
           4,
           0,
           1,
           4,
           4,
           4,
           4,
           2,
           4,
           2,
           4,
           4,
           0,
           4,
           2,
           0,
           4,
           2,
           1,
           2,
           4,
           1,
           0,
           3,
           4,
           4,
           4,
           4,
           1,
           4,
           1,
           0,
           0,
           4,
           4,
           4,
           1,
           0,
           0,
           2,
           1,
           2,
           0,
           0,
           0,
           3,
           4,
           2,
           3,
           3,
           0,
           0,
           4,
           0,
           4,
           3,
           0,
           2,
           3,
           2,
           1,
           1,
           0,
           4,
           2,
           0,
           1,
           3,
           0,
           0,
           4,
           1,
           4,
           0,
           1,
           3,
           0,
           4,
           0,
           4,
           2,
           0,
           2,
           1,
           1,
           3,
           3,
           3,
           3,
           4,
           3,
           2,
           0,
           4,
           4,
           2,
           1,
           4,
           2,
           0,
           3,
           2,
           4,
           0,
           4,
           4,
           1,
           0,
           0,
           1,
           2,
           4,
           0,
           2,
           4,
           4,
           0,
           2,
           0,
           4,
           0,
           0,
           0,
           2,
           4,
           4,
           4,
           0,
           0,
           0,
           4,
           0,
           3,
           0,
           3,
           2,
           1,
           3,
           0,
           2,
           1,
           4,
           3,
           0,
           1,
           4,
           2,
           2,
           2,
           3,
           1,
           2,
           4,
           0,
           0,
           4,
           4,
           4,
           4,
           1,
           2,
           3,
           3,
           4,
           4,
           3,
           2,
           4,
           0,
           3,
           2,
           2,
           1,
           1,
           2,
           1,
           0,
           4,
           1,
           4,
           0,
           2,
           3,
           0,
           3,
           3,
           0,
           0,
           0,
           0,
           0,
           0,
           4,
           2,
           2,
           3,
           4,
           2,
           0,
           4,
           0,
           2,
           3,
           4,
           0,
           4,
           4,
           1,
           1,
           1,
           1,
           2,
           2,
           0,
           4,
           2,
           2,
           2,
           2,
           4,
           1,
           1,
           4,
           4,
           4,
           1,
           2,
           2,
           4,
           4,
           0,
           3,
           4,
           2,
           2,
           2,
           3,
           3,
           4,
           3,
           3,
           1,
           0,
           0,
           4,
           2,
           2,
           0,
           1,
           0,
           1,
           3,
           3,
           2,
           4,
           0,
           4,
           4,
           3,
           0,
           1,
           4,
           0,
           0,
           0,
           4,
           0,
           2,
           1,
           4,
           4,
           0,
           0,
           1,
           4,
           4,
           4,
           4,
           0,
           0,
           4,
           2,
           4,
           0,
           2,
           4,
           0,
           2,
           0,
           0,
           4,
           1,
           3,
           0,
           0,
           4,
           4,
           0,
           2,
           0,
           2,
           0,
           4,
           0,
           2,
           2,
           4,
           2,
           0,
           3,
           3,
           3,
           2,
           4,
           0,
           0,
           4,
           4,
           3,
           1,
           0,
           0,
           3,
           3,
           4,
           4,
           4,
           0,
           4,
           3,
           0,
           3,
           3,
           3,
           0,
           0,
           0,
           4,
           4,
           1,
           1,
           0,
           4,
           0,
           0,
           2,
           4,
           0,
           0,
           0,
           4,
           4,
           0,
           2,
           1,
           1,
           1,
           2,
           4,
           1,
           2,
           0,
           2,
           0,
           4,
           4,
           0,
           0,
           2,
           0,
           0,
           4,
           4,
           0,
           1,
           3,
           1,
           1,
           0,
           3,
           1,
           1,
           3,
           4,
           0,
           2,
           0,
           4,
           0,
           0,
           4,
           4,
           4,
           4,
           0,
           0,
           1,
           2,
           1,
           3,
           1,
           1,
           1,
           3,
           0,
           1,
           1,
           2,
           1,
           4,
           4,
           4,
           3,
           2,
           4,
           3,
           0,
           0,
           1,
           2,
           0,
           4,
           0,
           4,
           0,
           0,
           0,
           4,
           1,
           1,
           1,
           3,
           3,
           3,
           3,
           1,
           4,
           4,
           3,
           4,
           4,
           4,
           2,
           4,
           3,
           3,
           1,
           4,
           4,
           4,
           4,
           4,
           3,
           3,
           3,
           3,
           3,
           3,
           3,
           1,
           2,
           2,
           4,
           2,
           2,
           1,
           1,
           4,
           0,
           3,
           4,
           4,
           4,
           4,
           4,
           1,
           4,
           3,
           3,
           3,
           3,
           2,
           1,
           1,
           1,
           2,
           2,
           4,
           4,
           3,
           0,
           3,
           2,
           2,
           2,
           2,
           2,
           2,
           2,
           0,
           2,
           1,
           3,
           1,
           4,
           4,
           3,
           4,
           1,
           1,
           4,
           2,
           2,
           1,
           2,
           3,
           4,
           2,
           2,
           2,
           4,
           2,
           2,
           4,
           4,
           2,
           0,
           2,
           4,
           2,
           0,
           4,
           0,
           2,
           2,
           0,
           1,
           2,
           0,
           4,
           0,
           2,
           4,
           3,
           2,
           2,
           4,
           0,
           0,
           2,
           1,
           1,
           2,
           4,
           0,
           0,
           0,
           0,
           2,
           0,
           2,
           2,
           4,
           4,
           1,
           2,
           3,
           2,
           2,
           1,
           1,
           4,
           3,
           0,
           2,
           1,
           0,
           1,
           4,
           1,
           1,
           3,
           3,
           1,
           4,
           0,
           4,
           2,
           2,
           2,
           2,
           3,
           3,
           3,
           3,
           0,
           3,
           3,
           2,
           4,
           0,
           0,
           4,
           3,
           2,
           3,
           0,
           3,
           0,
           3,
           3,
           2,
           0,
           2,
           0,
           3,
           3,
           3,
           3,
           2,
           1,
           1,
           4,
           4,
           0,
           3,
           2,
           0,
           4,
           0,
           0,
           0,
           4,
           0,
           0,
           4,
           0,
           0,
           2,
           2,
           4,
           4,
           0,
           1,
           4,
           3,
           3,
           3,
           3,
           0,
           3,
           4,
           0,
           2,
           2,
           4,
           0,
           0,
           3,
           1,
           4,
           2,
           1,
           2,
           0,
           0,
           2,
           0,
           0,
           0,
           0,
           2,
           0,
           0,
           4,
           4,
           0,
           2,
           3,
           2,
           2,
           4,
           1,
           1,
           1,
           4,
           1,
           1,
           1,
           2,
           1,
           3,
           1,
           1,
           2,
           2,
           1,
           1,
           0,
           3,
           1,
           2,
           1,
           2,
           1,
           4,
           2,
           1,
           3,
           1,
           1,
           1,
           1,
           1,
           1,
           2,
           3,
           4,
           2,
           4,
           4,
           2,
           1,
           4,
           1,
           0,
           4,
           4,
           4,
           4,
           4,
           1,
           1,
           4,
           1,
           4,
           1,
           0,
           0,
           2,
           0,
           2,
           4,
           2,
           4,
           1,
           4,
           4,
           1,
           3,
           4,
           4,
           1,
           4,
           3,
           2,
           2,
           1,
           1,
           4,
           3,
           3,
           3,
           2,
           1,
           3,
           3,
           0,
           4,
           4,
           4,
           4,
           3,
           3,
           1,
           4,
           0,
           3,
           4,
           1,
           2,
           2,
           3,
           4,
           4,
           4,
           3,
           4,
           2,
           1,
           4,
           4,
           4,
           4,
           0,
           4,
           4,
           4,
           1,
           4,
           4,
           4,
           2,
           4,
           4,
           4,
           4,
           1,
           3,
           2,
           2,
           0,
           4,
           4,
           1,
           2,
           3,
           2,
           0,
           2,
           2,
           0,
           1,
           4,
           2,
           1,
           4,
           1,
           2,
           2,
           1,
           2,
           2,
           4,
           1,
           0,
           0,
           0,
           1,
           2,
           4,
           3,
           2,
           1,
           2,
           0,
           3,
           1,
           4,
           2,
           2,
           4,
           2,
           0,
           2,
           3,
           0,
           1,
           4,
           0,
           2,
           2,
           2,
           4,
           1,
           2,
           1,
           4,
           1,
           1,
           2,
           2,
           4,
           2,
           4,
           2,
           0,
           2,
           3,
           2,
           0,
           3,
           2,
           4,
           4,
           0,
           2,
           0,
           0,
           0,
           0,
           0,
           0,
           0,
           0,
           0,
           4,
           0,
           4,
           2,
           1,
           4,
           0,
           2,
           1,
           4,
           4,
           2,
           1,
           0,
           0,
           0,
           0,
           0,
           2,
           3,
           4,
           0,
           4,
           0,
           4,
           1,
           4,
           4,
           4,
           4,
           4,
           0,
           4,
           2,
           3,
           3,
           2,
           3,
           2,
           0,
           1,
           4,
           2,
           3,
           2,
           0,
           4,
           2,
           0,
           3,
           2,
           0,
           0,
           4,
           4,
           4,
           2,
           3,
           0,
           2,
           0,
           2,
           2,
           0,
           4,
           4,
           0,
           2,
           2,
           4,
           2,
           3,
           3,
           4,
           3,
           0,
           4,
           4,
           0,
           4,
           4,
           4,
           3,
           0,
           0,
           3,
           4,
           1,
           1,
           1,
           2,
           4,
           3,
           4,
           1,
           1,
           2,
           1,
           1,
           2,
           1,
           1,
           4,
           2,
           2,
           4,
           3,
           0,
           4,
           4,
           2,
           4,
           2,
           3,
           1,
           4,
           1,
           1,
           4,
           4,
           1,
           4,
           1,
           1,
           1,
           4,
           2,
           4,
           4,
           1,
           1,
           1,
           4,
           2,
           1,
           0,
           0,
           4,
           3,
           2,
           1,
           1,
           0,
           0,
           2,
           2,
           4,
           0,
           2,
           1,
           3,
           4,
           3,
           4,
           3,
           1,
           0,
           2,
           0,
           1,
           2,
           4,
           4,
           3,
           2,
           1,
           2,
           0,
           4,
           2,
           0,
           0,
           2,
           2,
           2,
           3,
           2,
           4,
           2,
           1,
           1,
           2,
           0,
           0,
           4,
           0,
           3,
           3,
           2,
           4,
           4,
           2,
           0,
           2,
           3,
           4,
           0,
           2,
           0,
           4,
           1,
           1,
           4,
           4,
           1,
           4,
           0,
           4,
           2,
           4,
           0,
           4,
           2,
           0,
           4,
           3,
           0,
           0,
           4,
           4,
           0,
           0,
           2,
           0,
           1,
           4,
           2,
           0,
           0,
           0,
           3,
           3,
           2,
           4,
           3,
           2,
           3,
           1,
           0,
           4,
           4,
           0,
           4,
           2,
           0,
           2,
           0,
           4,
           0,
           4,
           0,
           3,
           3,
           3,
           0,
           3,
           4,
           2,
           3,
           0,
           0,
           0,
           0,
           0,
           2,
           0,
           2,
           4,
           2,
           2,
           4,
           4,
           3,
           4,
           0,
           2,
           0,
           0,
           4,
           0,
           1,
           2,
           2,
           2,
           2,
           1,
           4,
           1,
           1,
           0,
           0,
           4,
           4,
           4,
           0,
           3,
           2,
           4,
           2,
           4,
           4,
           0,
           2,
           4,
           4,
           0,
           4,
           3,
           4,
           2,
           0,
           4,
           2,
           4,
           2,
           4,
           4,
           4,
           0,
           4,
           2,
           1,
           1,
           2,
           0,
           4,
           2,
           3,
           3,
           0,
           3,
           3,
           2,
           3,
           3,
           3,
           0,
           3,
           0,
           2,
           0,
           3,
           3,
           1,
           1,
           3,
           4,
           0,
           4,
           4,
           4,
           1,
           4,
           2,
           2,
           3,
           3,
           0,
           4,
           0,
           4,
           4,
           0,
           1,
           4,
           1,
           2,
           2,
           4,
           4,
           3,
           2,
           4,
           4,
           4,
           1,
           2,
           4,
           2,
           1,
           0,
           4,
           4,
           1,
           0,
           4,
           2,
           4,
           4,
           4,
           1,
           3,
           2,
           2,
           3,
           1,
           4,
           0,
           0,
           0,
           1,
           2,
           0,
           2,
           4,
           4,
           4,
           4,
           4,
           0,
           0,
           1,
           3,
           4,
           3,
           3,
           3,
           3,
           3,
           1,
           0,
           1,
           4,
           4,
           1,
           4,
           4,
           3,
           4,
           4,
           4,
           2,
           4,
           0,
           4,
           0,
           4,
           2,
           4,
           4,
           2,
           4,
           0,
           2,
           4,
           4,
           4,
           4,
           0,
           2,
           2,
           4,
           2,
           4,
           4,
           3,
           0,
           1,
           4,
           2,
           2,
           0,
           2,
           3,
           4,
           4,
           0,
           0,
           0,
           0,
           3,
           0,
           2,
           2,
           3,
           3,
           0,
           4,
           0,
           4,
           0,
           0,
           2,
           3,
           4,
           2,
           2,
           2,
           0,
           0,
           0,
           0,
           0,
           0,
           0,
           0,
           0,
           0,
           2,
           0,
           0,
           2,
           0,
           1,
           0,
           2,
           1,
           2,
           0,
           2,
           0,
           1,
           2,
           4,
           2,
           0,
           2,
           2,
           0,
           0,
           0,
           4,
           1,
           2,
           4,
           1,
           4,
           4,
           0,
           0,
           0,
           4,
           0,
           4,
           4,
           1,
           3,
           3,
           0,
           2,
           4,
           4,
           4,
           2,
           1,
           4,
           4,
           1,
           3,
           1,
           2,
           2,
           4,
           4,
           4,
           4,
           2,
           4,
           4,
           4,
           0,
           4,
           3,
           0,
           4,
           2,
           0,
           0,
           1,
           0,
           4,
           1,
           1,
           0,
           4,
           4,
           4,
           4,
           4,
           4,
           4,
           0,
           4,
           4,
           4,
           1,
           3,
           4,
           0,
           4,
           2,
           4,
           1,
           4,
           2,
           0,
           4,
           0,
           4,
           0,
           4,
           4,
           4,
           4,
           2,
           0,
           0,
           2,
           4,
           0,
           0,
           4,
           2,
           2,
           4,
           1,
           2,
           4,
           0,
           2,
           4,
           4,
           1,
           3,
           2,
           3,
           4,
           1,
           2,
           2,
           4,
           2,
           2,
           1,
           2,
           2,
           2,
           0,
           0,
           1,
           3,
           3,
           0,
           0,
           1,
           2,
           1,
           0,
           0,
           3,
           3,
           4,
           0,
           2,
           2,
           3,
           2,
           0,
           4,
           3,
           1,
           4,
           0,
           4,
           4,
           4,
           4,
           4,
           4,
           4,
           4,
           4,
           2,
           1,
           1,
           4,
           4,
           1,
           4,
           4,
           0,
           4,
           2,
           1,
           3,
           1,
           4,
           2,
           4,
           2,
           3,
           4,
           3,
           2,
           4,
           2,
           1,
           4,
           4,
           4,
           4,
           4,
           4,
           0,
           4,
           2,
           4,
           4,
           2,
           3,
           2,
           1,
           1,
           4,
           2,
           2,
           4,
           1,
           3,
           3,
           1,
           0,
           2,
           0,
           2,
           2,
           0,
           2,
           0,
           3,
           4,
           2,
           2,
           0,
           2,
           3,
           3,
           4,
           4,
           4,
           2,
           4,
           4,
           4,
           0,
           1,
           1,
           0,
           1,
           0,
           0,
           0,
           0,
           2,
           0,
           3,
           2,
           4,
           0,
           4,
           2,
           0,
           2,
           2,
           2,
           2,
           4,
           0,
           4,
           1,
           2,
           4,
           2,
           1,
           4,
           4,
           4,
           1,
           2,
           2,
           4,
           1,
           2,
           3,
           3,
           3,
           4,
           3,
           4,
           1,
           4,
           4,
           4,
           1,
           4,
           4,
           0,
           4,
           2,
           0,
           0,
           2,
           4,
           2,
           4,
           0,
           2,
           2,
           4,
           4,
           0,
           3,
           1,
           3,
           2,
           3,
           3,
           3,
           0,
           4,
           2,
           4,
           0,
           2,
           4,
           2,
           4,
           4,
           3,
           4,
           4,
           2,
           4,
           0,
           2,
           4,
           2,
           1,
           2,
           1,
           4,
           4,
           1,
           1,
           4,
           1,
           2,
           1,
           4,
           0,
           0,
           0,
           3,
           4,
           0,
           3,
           1,
           1,
           3,
           3,
           3,
           4,
           0,
           2,
           2,
           2,
           2,
           2,
           2,
           0,
           0,
           4,
           4,
           4,
           0,
           0,
           2,
           0,
           3,
           4,
           4,
           0,
           0,
           2,
           0,
           0,
           4,
           0,
           0,
           2,
           2,
           0,
           2,
           0,
           0,
           3,
           1,
           2,
           0,
           0,
           4,
           0,
           0,
           0,
           0,
           4,
           2,
           2,
           2,
           3,
           2,
           0,
           4,
           1,
           1,
           2,
           0,
           3,
           3,
           0,
           4,
           2,
           3,
           1,
           0,
           0,
           2,
           4,
           4,
           0,
           1,
           1,
           4,
           2,
           2,
           3,
           1,
           2,
           2,
           2,
           1,
           4,
           4,
           4,
           4,
           1,
           1,
           1,
           0,
           1,
           1,
           2,
           2,
           0,
           2,
           0,
           0,
           0,
           2,
           2,
           4,
           4,
           4,
           4,
           4,
           0,
           4,
           2,
           2,
           4,
           4,
           4,
           4,
           4,
           2,
           1,
           4,
           0,
           1,
           3,
           0,
           0,
           4,
           1,
           2,
           2,
           1,
           3,
           1,
           2,
           4,
           1,
           2,
           1,
           2,
           1,
           1,
           2,
           4,
           4,
           4,
           0,
           0,
           0,
           4,
           4,
           4,
           0,
           2,
           4,
           4,
           4,
           4,
           4,
           4,
           0,
           0,
           0,
           4,
           1,
           1,
           2,
           4,
           4,
           4,
           2,
           2,
           1,
           1,
           2,
           4,
           2,
           4,
           4,
           4,
           1,
           3,
           0,
           0,
           1,
           1,
           1,
           2,
           1,
           0,
           2,
           4,
           2,
           1,
           3,
           2,
           1,
           4,
           4,
           2,
           2,
           4,
           4,
           4,
           0,
           0,
           0,
           4,
           2,
           4,
           4,
           4,
           4,
           0,
           4,
           4,
           4,
           0,
           2,
           4,
           4,
           0,
           2,
           0,
           3,
           3,
           3,
           0,
           4,
           1,
           4,
           4,
           4,
           4,
           3,
           0,
           0,
           4,
           4,
           0,
           2,
           1,
           1,
           4,
           4,
           4,
           2,
           0,
           0,
           2,
           2,
           4,
           2,
           0,
           2,
           1,
           4,
           1,
           0,
           0,
           1,
           4,
           4,
           4,
           4,
           2,
           3,
           0,
           4,
           3,
           2,
           2,
           4,
           4,
           0,
           2,
           0,
           1,
           1,
           1,
           3,
           1,
           1,
           2,
           1,
           1,
           1,
           3,
           1,
           1,
           4,
           1,
           1,
           1,
           1,
           1,
           3,
           1,
           1,
           3,
           2,
           4,
           4,
           4,
           4,
           0,
           0,
           1,
           0,
           3,
           1,
           4,
           1,
           0,
           0,
           4,
           1,
           3,
           1,
           4,
           2,
           3,
           4,
           3,
           0,
           0,
           0,
           2,
           4,
           4,
           4,
           4,
           1,
           4,
           2,
           4,
           2,
           1,
           3,
           3,
           3,
           3,
           2,
           0,
           2,
           2,
           4,
           2,
           2,
           3,
           0,
           2,
           0,
           4,
           0,
           2,
           2,
           0,
           2,
           2,
           3,
           1,
           3,
           3,
           1,
           2,
           4,
           4,
           4,
           0,
           4,
           4,
           2,
           4,
           4,
           1,
           4
          ],
          "coloraxis": "coloraxis",
          "symbol": "circle"
         },
         "mode": "markers",
         "name": "",
         "showlegend": false,
         "type": "scattergl",
         "x": [
          5.910268108221795,
          2.787093152808592,
          -0.7575375383744606,
          1.0205214866168175,
          0.7539105142791439,
          1.7971062652419432,
          -0.46204960544893636,
          -1.311672259563727,
          0.5984179553898596,
          0.5982012013950422,
          -1.1656525385277168,
          -0.07118124655696083,
          -2.171711585828404,
          3.6732966630297734,
          0.8327855889826069,
          0.0014059392111353862,
          -0.9273057420077752,
          0.6796203745139372,
          -1.4878005371777216,
          -0.25016976307256816,
          0.9541894103960783,
          0.8894938464845384,
          -0.9349244756981532,
          2.435242216702915,
          -0.579409684807869,
          -1.687270487008666,
          -1.0665290759030284,
          3.743308758581937,
          -2.154301657445697,
          -1.0808503055522514,
          -0.9549632645218927,
          -3.235872651592803,
          -1.7119755341735539,
          -0.43365637370201865,
          -0.6062336832001032,
          -0.9441629326199632,
          -0.21897352791236807,
          -1.5617667209055168,
          -1.3458348880477173,
          -0.6937048482628609,
          -1.6190405446647038,
          -1.5333276858350366,
          -1.6988335792571145,
          -1.8093965083506083,
          1.0018621405554762,
          -1.5505557919539077,
          -2.6162017995351015,
          -0.7218561265706747,
          -0.9358284356998535,
          -2.3217190043773974,
          -2.1698597717064185,
          -0.1170407648414021,
          -0.17798254163413754,
          -1.3770978627884995,
          -1.2775706484489142,
          -1.6689082229336625,
          -1.433006672291693,
          -0.8812940272849358,
          -1.933727851085026,
          -0.991956176952392,
          -0.8554408012501152,
          -0.45004862859253614,
          -1.0642892702634419,
          3.4626062715850794,
          0.6998427652454017,
          1.0246979229312405,
          -0.8535513919608649,
          0.6504792609298505,
          -0.4774877693274671,
          3.654736858516908,
          -0.5680284493815109,
          1.2275685578826747,
          6.308184544302046,
          3.394757217806676,
          4.9099542927922375,
          4.5214973111116725,
          3.436840226679447,
          1.7065111212663124,
          -1.994921310407097,
          2.8835226719022278,
          -0.0492404157636948,
          4.251881907817702,
          1.5205339090003138,
          2.7578274763525537,
          3.81886884181889,
          0.5222233385124336,
          0.6640664570007131,
          -1.8377265384972363,
          4.307369932725617,
          -0.9793272008623041,
          -1.7532546732907182,
          -2.255179190561472,
          -2.2904415664218343,
          -0.28007894163165575,
          0.22291185347269293,
          -1.5101821955287564,
          -0.6192845089796372,
          -0.07420986987072385,
          1.672824337430383,
          -1.9433530146570515,
          1.014976612873289,
          2.719557668645426,
          0.9057166961074986,
          -0.21837300691800954,
          -0.26256655656215405,
          0.844908045381959,
          2.8327794759317726,
          1.4614957709996301,
          -1.5842602988284038,
          -1.885617678711852,
          -2.393866425909586,
          -0.008422928392725603,
          -3.078642085622775,
          -1.6438199733026344,
          -2.0393729844155706,
          -0.9968674357840727,
          -1.9809887425444197,
          -1.9736099706764765,
          -0.21426030082170858,
          -2.3201588880940105,
          0.6288114935083458,
          5.2627185446411175,
          -0.12166536408823854,
          -1.0121054754613965,
          0.035260963005684605,
          3.4926105143427937,
          -1.2753710449014182,
          0.32826468813668386,
          -1.6951789119860832,
          3.7286177933129525,
          -0.6107015592017132,
          -1.903289326084942,
          -1.887427393182677,
          -1.4787588103471303,
          -1.6879273436441165,
          -2.1606659415912115,
          4.65808820750692,
          0.6998427652454017,
          -1.8094474553131508,
          0.644388499944263,
          -2.8182814169138837,
          0.644388499944263,
          -1.4716926838801594,
          1.8781753016297562,
          -1.1338434847768166,
          -0.7702516670886778,
          -0.5221138504004792,
          -0.9270989547196354,
          0.5931378934821796,
          -1.3843251626688364,
          5.271177784407824,
          -0.9642170705834108,
          3.754319584280475,
          2.992652708073431,
          4.167831601809079,
          -0.38962807933174426,
          -1.6424751435576161,
          -1.1675433931298091,
          -1.738152496930647,
          -1.9383384408051365,
          -1.6757529454902533,
          -1.1873372651487175,
          -0.3541927469754776,
          -1.9748930162104523,
          -1.4332166640427957,
          -1.8599621279939276,
          -1.6285081252103348,
          -1.2616275422044296,
          -1.2397362810749397,
          0.18868288124372617,
          -1.201802979168833,
          0.07754390698956992,
          -0.4360699705802091,
          -1.2727953385235424,
          -1.0274090397486295,
          -1.8617821657705804,
          -0.8788683358223209,
          -2.6221998744781323,
          -1.657659634541513,
          4.0755630994760965,
          4.894322340584226,
          4.158854712674679,
          0.34415585652526753,
          3.2529655317034627,
          -2.0146663246069734,
          0.19335161691421343,
          0.5398747178532755,
          4.407656001383204,
          2.3595535652176185,
          -1.0134812826832118,
          -1.477559825349806,
          1.7516550987332962,
          -1.9813204401207751,
          -1.592114847773861,
          -1.8603543986322084,
          -1.643868394262872,
          4.743511527342344,
          2.164611199122907,
          1.9271058748133294,
          0.2486755325717141,
          0.264049588815348,
          -3.1062145776446375,
          1.006929231807965,
          0.7363487998666464,
          0.013770393933032884,
          -0.9862592055897755,
          -0.010758925244005043,
          5.381249937095063,
          3.0311340782567413,
          2.1219579799750283,
          5.376825054885024,
          -1.8715344938197165,
          -0.8257044500186894,
          -1.8050999520940774,
          -1.5965747063171392,
          -1.3903620518490418,
          2.3817849882339335,
          0.32671054219402945,
          1.185544836543208,
          2.230795233307353,
          0.18273407852012766,
          4.819813386113594,
          -1.8931190472758384,
          1.0877277036361293,
          1.2390028548321246,
          2.3940366677464056,
          2.5765941967237236,
          3.7581250644676403,
          3.603387921723096,
          3.089296631764704,
          -0.297841488371101,
          4.138457045658258,
          2.683964955737932,
          0.9951124914788266,
          -1.64092692281903,
          -0.10733653159368327,
          -1.7242942774158083,
          -2.2972037194660815,
          -2.151173770862405,
          -1.5759181415763435,
          -1.3487051914956143,
          -2.0265484820804596,
          -2.1206904747689914,
          -1.930765453597681,
          -0.9234066530601999,
          -1.2516471860681753,
          -1.9113516620063324,
          0.7812550919891016,
          -0.5237497338668543,
          1.5258122967139625,
          -1.4815229037775184,
          -0.8608015003990196,
          2.0664450888696675,
          -0.391811002735538,
          -0.8627420859305025,
          -1.724485150394912,
          -2.451976422151488,
          -2.451976422151488,
          4.911094086350672,
          2.1284228776298395,
          -2.0262276800530077,
          -1.7259688400927677,
          -1.761246299588178,
          -0.32942484453738097,
          -0.7167812722224345,
          2.3599126557972556,
          -0.41095162447510947,
          -2.072499067831731,
          0.4941512548817757,
          0.3947367578461046,
          0.5011147455994432,
          -0.15019477310741064,
          2.2643665658299277,
          -1.354015453680447,
          -1.4700532554453156,
          -0.39148658961174715,
          2.928686830844197,
          1.5627344941817953,
          -1.804653395322845,
          4.421919934709001,
          1.6666341252458177,
          -0.863006946866111,
          -1.8240161816083975,
          6.20232983245356,
          2.7007297571142153,
          -1.9219988731601125,
          -3.8853351569825394,
          -0.32373523372279445,
          -1.4830437992216385,
          -0.6661581305866633,
          -0.8975313027897536,
          -0.2715001095859945,
          -2.026007496411845,
          0.030668548225321425,
          -0.6661581305866633,
          1.667937617563402,
          -0.9628431990032503,
          0.052290470586084103,
          1.4342428370670834,
          -0.07440927214208655,
          0.3161956897243051,
          -1.6854348307187568,
          -1.3783735498215985,
          -0.53028112396021,
          -1.9482834157370152,
          0.43768166538024605,
          0.4611651127096529,
          -0.6169217471719317,
          -1.1400256377059355,
          1.2533220435925652,
          -1.8065011423621322,
          -2.105897560651473,
          0.583415689351995,
          0.615043181334659,
          0.8314068380244787,
          -1.1677498330947214,
          -1.8797451580250866,
          -1.5737313828666812,
          -1.7148709729100653,
          -1.2187163240425578,
          -0.9081075934919395,
          -2.4076385061986567,
          -2.631247737130895,
          1.5673168136376334,
          1.2606761374764384,
          -1.2731362784415337,
          -1.9933897451720632,
          6.078392568331353,
          6.20232983245356,
          1.8806471974660997,
          0.485503848972953,
          3.724786874647469,
          4.999022851023018,
          -0.6507019188068308,
          2.8317540321081145,
          5.157224121091326,
          3.8192902746508097,
          -1.8812815325483487,
          -1.0170415780895836,
          -2.3431142778733163,
          -0.06139419459485973,
          1.1244973226335122,
          -1.0170415780895836,
          1.5499874451851487,
          -0.23880439879088658,
          -2.0548948833262535,
          -1.4608536919332902,
          -1.2511268482027655,
          -1.4326231369090225,
          -0.832205004089299,
          -1.0170415780895836,
          -1.4771002595731555,
          -2.628606599334159,
          -0.21035255659038748,
          3.722041106491932,
          -0.6601937727661533,
          -0.08898081277070309,
          -1.3796424287630304,
          0.8934594009314057,
          -0.6029963198787548,
          -0.7120551860400088,
          -0.7769839379468516,
          -0.6805758573158186,
          -0.2427984490140363,
          -1.956231538351011,
          4.118042026063588,
          5.713741031844163,
          -0.7417411626392618,
          4.424095099147777,
          2.3273182406295425,
          0.017763471206445204,
          0.30149399308499736,
          0.9650215283895144,
          0.02246839262249371,
          -1.2199650459691445,
          0.34177511590531146,
          -0.5378912868672479,
          0.8644678960471939,
          4.0046965773268575,
          4.008320181774838,
          1.382966313126255,
          -2.0574297891427684,
          1.3094774137593324,
          -1.2244223547667652,
          3.3013877478747733,
          -1.1107604184765918,
          0.536070275073272,
          -0.24744053697254645,
          -1.9441899850782955,
          -2.133057653760355,
          -1.0891187918604026,
          -1.8302469752259685,
          -0.15516416449344564,
          -0.9951653539849209,
          -1.3596060537015482,
          -0.6110809564064197,
          -2.5498154982660943,
          -0.606775305264709,
          -0.7288872748469338,
          -0.6427561202341454,
          -0.8384661829154233,
          7.04816053419885,
          3.08629951007887,
          1.6499160539143867,
          0.5039626516959596,
          -0.7628234779254311,
          1.9098861430974088,
          -0.7381554703584133,
          -1.2105050375339637,
          -1.6165006411449987,
          2.9152852845241664,
          0.7875315395435457,
          -1.4713066508652939,
          3.840536654487979,
          0.8180105809922916,
          -1.5363920461225504,
          1.501701024875382,
          -0.8269573928584227,
          -1.2365537984863508,
          -1.1213910396496645,
          0.3532535757130982,
          4.156988672470467,
          4.18114391585283,
          5.874241617946344,
          0.7726737970500179,
          -1.238465158422996,
          0.17391144426442492,
          -0.29101915682132523,
          -1.3643289196729818,
          -1.001357622951206,
          2.814361084932085,
          1.0152267748235704,
          -0.8997096472317114,
          -1.816122583095182,
          -0.40691985636643746,
          -0.6222506022041556,
          0.92985542367246,
          -0.031158874814141525,
          -1.8953253854100007,
          -2.086459473772657,
          -1.0330740365002884,
          -1.648478835334433,
          -0.07688967377256098,
          -0.9626729037514551,
          -2.014035053021469,
          -1.3293413005641441,
          2.960200102558321,
          0.3366612973343734,
          -1.7136150221763644,
          -1.4322797629514958,
          -0.9929724146692306,
          0.3710468481112426,
          2.638713405966959,
          -0.02807780164997967,
          -1.6676648655046562,
          -0.6079060289417977,
          0.022377474382161387,
          0.9645203776907119,
          1.2387761280336063,
          0.32115465675815846,
          0.399310163401599,
          1.448049386029836,
          2.279897641894936,
          -0.2266340201036198,
          0.25316511117440554,
          -0.2148012621778591,
          -2.4628532337473232,
          1.3697801765358013,
          1.7508953452310554,
          1.386329849583345,
          -1.2538737101450224,
          5.133050169971331,
          3.526515125883706,
          6.346033202222229,
          -0.6161373499207334,
          -2.37482894725252,
          2.253307814780364,
          0.8167571253489779,
          3.653765378813388,
          -1.8047421918261344,
          -1.8627951125034818,
          -0.9242152643491616,
          0.706652468893656,
          4.942598053975868,
          1.1252336127832756,
          4.79528925025523,
          2.4635678490115023,
          -0.09446247231001499,
          4.2473064828726885,
          0.2490357613668705,
          -0.11019294017436589,
          -1.8060319312706903,
          -1.4690797127486257,
          -0.025425946360965315,
          0.33700374221790186,
          -1.0272113725970826,
          -1.180660161044352,
          -0.08462383414740644,
          -1.2131974145350344,
          -1.5289774319052696,
          -1.3378086857797191,
          0.9015460755941967,
          0.347041303533415,
          -1.8391030814300087,
          -1.2105926310370043,
          -1.3843046322401924,
          -1.1745523891881107,
          -0.8900534710795295,
          -1.779252591807679,
          -1.7629015313750167,
          -0.2262636987792046,
          -1.359674374010856,
          -1.4373298042223677,
          -1.0505476390009718,
          -1.2326907154182067,
          1.3565283499092395,
          -0.3174215584679001,
          -0.8073456954282032,
          0.6294753135461082,
          -2.0174373591629937,
          -0.11454795107118845,
          -0.5797367236830113,
          -1.8188905101656396,
          -0.2170509895157045,
          4.529430260517021,
          0.33318971537504993,
          0.970879743601467,
          -0.17127054263203867,
          -0.7941852500264391,
          0.15892132499726622,
          -1.1876432241511603,
          -0.6402858806840859,
          0.8750838457096467,
          3.608731581729165,
          5.022988638057476,
          5.805832447701817,
          -2.484585586954593,
          -0.06723872685756949,
          -1.8199456802868197,
          -0.1646375105025457,
          -0.9373426065815236,
          3.6959874644487,
          -0.11499063549309989,
          -0.31191194974263653,
          3.608731581729165,
          2.962821117328595,
          1.9745255543280607,
          -1.8693347569376935,
          3.9265835294224685,
          0.8514655969973912,
          0.2516548733824593,
          1.506903795247657,
          0.8765073635953359,
          -0.8493286256975396,
          -2.767042218285057,
          -1.9426782361716552,
          -1.9404583741889683,
          -2.327714153105753,
          -0.48930088551692036,
          -1.2448085534620585,
          -1.4681887969761565,
          -0.41977050789702264,
          -1.1794041820554695,
          -0.7316519448921269,
          -1.9934477924940717,
          2.6589574687484157,
          -1.8424902425655354,
          -1.9752037541359397,
          0.4973821345345374,
          2.803014248045932,
          0.889885389775822,
          -1.699721623048425,
          -1.1189657700263946,
          -2.2297276153308565,
          -0.7369155743144545,
          -2.8860579727672433,
          -0.0477312079827477,
          -1.2455077589325831,
          1.581293382163734,
          0.3862402573486121,
          -1.3826420603119791,
          -2.477582977687051,
          1.149762766157927,
          -1.0859697564578676,
          0.6207099620941174,
          -0.07313623450418671,
          0.0026958861477265716,
          2.170027229768551,
          0.36718627717097985,
          -0.9314426872002102,
          2.3532485455974865,
          -1.0597890934720582,
          -2.276109855694126,
          -0.703178091386712,
          -0.2926633824128864,
          1.0280402330301857,
          -1.1648221376777212,
          0.4511604577525407,
          -0.5491172599185697,
          -0.6751459147216332,
          0.29979688154291256,
          2.6834129126268187,
          0.5984074638508656,
          -0.5498879058004913,
          1.5305789710549715,
          1.6719273733102418,
          2.3650341880945875,
          0.5073760258805263,
          -1.3539098259275255,
          0.5151319213344545,
          1.060828923229482,
          0.5729789672192865,
          -0.715240749555006,
          -0.04317819295220738,
          1.6217258746453862,
          0.36751585684045107,
          -0.764026180466432,
          -0.5419837729171586,
          1.0156004276682993,
          -1.0104901039718717,
          0.3474543065382518,
          -0.2807461940428677,
          3.1877031348523164,
          -0.5452603790317753,
          -1.6326205624300434,
          -1.1815682360615878,
          0.48316178858881137,
          -0.46624827532572344,
          -0.6461748391001922,
          4.245475571774249,
          -0.1703279404176033,
          3.4798674918083172,
          3.840975880940373,
          4.963938781947005,
          4.408080150824804,
          4.139496296933866,
          4.031285308102278,
          3.9363214242194005,
          4.187078489713531,
          4.917808163601026,
          4.959531607032038,
          5.491363812178905,
          1.5324624690552515,
          3.7860049701944325,
          4.224405197605613,
          3.8134457247031843,
          4.269047290947435,
          5.35588627638633,
          5.634525317250323,
          5.131366024213477,
          1.5778734844665667,
          3.628399804806301,
          3.37486795840043,
          3.136640936473179,
          1.5464616640991653,
          1.7734555001668195,
          -0.5736981384083544,
          -1.3474769379185099,
          -1.4095676969430226,
          -1.7902349574504652,
          -0.9599392716314985,
          -2.337850209070726,
          -1.9219232563386313,
          -1.4554683365959455,
          -1.90722628767234,
          -0.6716795002770715,
          -2.0046562231551004,
          0.3251566625513826,
          -1.1523860720717682,
          -1.4557044571067284,
          0.18059071362684165,
          -1.9079350595148448,
          3.523659061137906,
          -2.0491186934792074,
          3.6180834062291507,
          -1.7374845146577134,
          -1.439294851657237,
          -1.5714083380161579,
          6.308184544302046,
          5.008294840003467,
          5.403265664257096,
          -1.485371002996555,
          0.33114376729517836,
          -0.464199513172783,
          2.793778628069708,
          2.2293271459533806,
          1.389333400921571,
          4.269223510110596,
          2.1474447251427864,
          0.7629686163768594,
          0.5313880649539642,
          -1.1115207404332923,
          -1.8204209333872405,
          -2.1921376455691446,
          -1.673062677563712,
          -0.562561128693778,
          0.451918045748742,
          1.919573857543191,
          -0.8702170708257271,
          1.0741748437686034,
          -0.2271813656959732,
          -0.8526204872249915,
          0.43098339581022277,
          -1.559441490023401,
          -1.788385764949038,
          -1.2843690828034708,
          -0.3289293614603009,
          1.0518143755809635,
          0.5340816012176975,
          -1.1097151949345352,
          -1.9685741228713456,
          1.3526971314440246,
          -1.108095159093283,
          -1.108095159093283,
          -0.7862581323449519,
          -2.1866569882184597,
          -0.7966028054395385,
          -1.8418411545862146,
          -0.7800250543797552,
          -2.4784838201281785,
          0.25976035564036704,
          -1.355029769381704,
          -1.6177557993272011,
          -1.8260772103567107,
          -2.3046905029491933,
          -1.7235553968485746,
          -1.3761949647926441,
          -1.02187574328525,
          -1.7791379054828032,
          -2.6566225729098742,
          1.0291146255100572,
          -3.0946663512600656,
          0.27246992250829866,
          -1.7900071853916133,
          -2.479383087771238,
          -1.887169023550591,
          -2.6430738121785353,
          -0.3573801366614973,
          -2.5671936495562444,
          1.3794835128663634,
          4.525123553936603,
          4.71688518669975,
          2.5950255919710754,
          -1.1366165372990942,
          1.9842254319975157,
          -2.4281391425039125,
          -1.356175401140456,
          -1.6507557002712352,
          -0.991677368829772,
          -1.4614838432331,
          -2.109726124754255,
          -0.5491172599185697,
          -1.9852742550337823,
          4.386572613899497,
          -1.1101722919442227,
          3.3776002947938046,
          -2.434424783398596,
          3.5934938671033767,
          -0.4964313208292164,
          -2.4420108168095616,
          1.0393967728352134,
          0.024172636350279157,
          -2.536043601464766,
          -1.4224961761214638,
          0.024172636350279157,
          -0.2612995615269691,
          -0.9108428135470118,
          2.0940424856091604,
          -2.5645649137076543,
          -1.238622185314991,
          -0.3084219235875968,
          -1.515589512572244,
          -2.03129861467804,
          3.863104889734333,
          -0.108382995944078,
          -0.6022552644160746,
          0.5177509655213385,
          -1.7090697231493623,
          -0.2761452223050111,
          -0.755137254801994,
          -1.3763064760423598,
          -0.5312260392016611,
          0.23717195172482494,
          -0.3026081729421265,
          -0.5065280021147496,
          -1.2055895512885575,
          -0.8204348260187286,
          0.2660650637100588,
          -0.2988442146153797,
          -0.8728012554034789,
          -1.7175667292646444,
          -1.515552888880424,
          0.8864093485671782,
          -1.6766468747459695,
          -0.46943459661423587,
          0.871077589572259,
          -0.8644705676615116,
          -0.7144561741353939,
          -0.44068855694914594,
          -2.7902709009224322,
          2.8904146176546726,
          -1.1507276718314696,
          -0.8031773216690973,
          -1.9473824019540278,
          -2.1629636170947375,
          -1.4723654985500974,
          -2.6893121402844176,
          0.9240011933509131,
          -1.7474528809598413,
          -0.1457665336864972,
          -1.8983586902445273,
          -2.6693478479357404,
          -0.5221693744493345,
          -1.4548434949416964,
          -1.0283096381666228,
          2.3622397711804526,
          0.5436395862813697,
          -1.8689304368530848,
          1.1710036212559063,
          0.6999040042938868,
          -1.7044471429551553,
          -0.5920546990026854,
          0.4498649728207461,
          -0.3295745148089147,
          -1.63766939144186,
          -1.457260990166545,
          2.4660708696178246,
          -1.2095953675949747,
          0.5254555899481561,
          0.07547147484810628,
          -1.5847134393643687,
          -2.908061928223545,
          -1.17650844080487,
          -1.9119343526634256,
          0.9356036829290562,
          -0.36086600256967055,
          0.9679635861196798,
          4.69981667536884,
          -0.47233140556172915,
          -2.00563053221428,
          1.572747239850046,
          -0.9464089318334707,
          1.4686267276229192,
          0.5011147455994432,
          -1.3537495043623877,
          -1.843412047612341,
          -0.6537657414667515,
          0.8902655962892394,
          -2.8162591250589295,
          -1.2235095886351688,
          -1.5127849605175303,
          -0.9684779368006291,
          1.1487058582651988,
          -1.0984469249325655,
          0.5022377972137845,
          -1.4812543999862984,
          -0.5435665341609935,
          -1.290964936608624,
          -2.162833307478611,
          -0.8354743294354058,
          -0.03314856246125023,
          -2.014926569249321,
          1.796033242084349,
          0.7846163460118281,
          0.3211437615970811,
          -2.1901371392226086,
          2.5971373640647024,
          -1.612796711737507,
          3.026053028947753,
          -2.065705645766964,
          -1.5210993374175878,
          -0.9258655178346499,
          -2.0743795323201737,
          0.7511849781136255,
          -1.7164833605229044,
          1.3199455730608463,
          -0.2996749088548983,
          -1.0601592783170979,
          -1.5793861632167507,
          -1.692465651475791,
          -3.1331777327955415,
          -0.037246232862969145,
          -0.0842112146413046,
          -0.7467746719958089,
          -0.16470824566879277,
          1.4022482201741087,
          0.46779897642367185,
          -1.337321684088965,
          0.08110278845448281,
          -1.3779265458413714,
          5.0311078449036435,
          -1.8983922147789358,
          0.5995552083481103,
          3.5252046394474563,
          2.2683191496362345,
          0.9096299592015537,
          -1.026418914347901,
          -1.0690904627080766,
          0.6556631320797323,
          -2.0237690194122577,
          2.1959209999050606,
          -1.920267434098358,
          0.6521268829335819,
          5.2627185446411175,
          -0.697411218843216,
          0.7820338260369205,
          -0.2090432327886087,
          0.6998427652454017,
          -2.0224335239758697,
          0.4712071639952835,
          -1.260480286683127,
          1.8271454550885442,
          6.083318328609316,
          -0.8508696332442847,
          -2.08250483726476,
          -2.224336625502374,
          1.401429885067648,
          -2.7228295299586796,
          -1.6085417664418051,
          1.6013054390496722,
          3.317048515490668,
          -0.8936287712528035,
          -1.0459539727090392,
          -0.7263218841933007,
          -2.9436481698922794,
          0.062214037564452436,
          -1.1663865563967586,
          -0.5132483562854909,
          0.6525178740460768,
          2.2136234284814913,
          4.15768923304286,
          3.9952644486572773,
          3.7441441343435913,
          3.3340361292652188,
          -0.6706922862361563,
          3.7210836024692737,
          -0.7220199150774408,
          -1.5037488884709576,
          -1.820806344317433,
          -1.3092499530556858,
          -0.5828274996029216,
          1.8767430181001166,
          -2.3135721971896466,
          0.7099128201293116,
          -0.7812682277707932,
          3.3949279818682645,
          0.9032880273730497,
          -1.53658045421727,
          -1.6283452043117557,
          -1.7022684814942108,
          -2.43528543522831,
          2.0186542826167524,
          -0.3166155515639398,
          -0.894195429026458,
          1.104760978472739,
          -0.19612740703368411,
          -1.3280200419065065,
          -1.870446312712768,
          -0.732558834657365,
          -2.4322104556325086,
          -1.0631051517428243,
          -0.9018458559798256,
          -0.5690495861384954,
          -1.7303866732825899,
          -2.100771809255362,
          0.12062405251041282,
          -1.5280973319537667,
          -1.9108022973619931,
          -0.21031089609908882,
          -1.7943548127338869,
          -1.5361213058279395,
          -2.21600013672797,
          -1.4955985695299754,
          -2.5500589751698053,
          -1.0982262167206482,
          -1.2393277340386926,
          -0.8577092210584645,
          3.6603956645131976,
          -2.6601514416636074,
          4.225043041397312,
          0.4150807814857075,
          1.188059738799604,
          2.7531891075881854,
          -0.2904984597290941,
          0.513692948635199,
          1.8792188806685424,
          -1.6657745499794463,
          4.166293634806012,
          -0.5221693744493345,
          1.0434337104662228,
          -1.8730996534974484,
          0.8500285353730016,
          -0.3318503843828146,
          0.2744299751321878,
          3.4812762404541315,
          2.331775500646691,
          -0.07084590733890533,
          -1.2092837434063097,
          -1.3631427295039173,
          -2.4502227813858086,
          -2.08847699347886,
          -1.8057549808143702,
          -3.399583731082441,
          -1.6998225891375298,
          1.5209018222443909,
          0.7646308800896888,
          4.478609512834524,
          2.466113319803974,
          -2.2354904599284438,
          -0.8246614851720255,
          3.4324506450763295,
          -0.48823623226826973,
          -2.081322355130962,
          0.1498940040555208,
          1.8973889528910972,
          -0.13683775308019544,
          0.4502592342354179,
          2.0957686662777895,
          0.915391468565394,
          0.5857264273779642,
          2.2333595333061407,
          -3.0450765877715513,
          -2.329150871431181,
          0.4543220270451272,
          -1.630120735089729,
          -1.414322988460638,
          0.24435456870028174,
          3.2107996485644144,
          -0.9304532954544307,
          5.150035753984849,
          5.004281707388854,
          -1.3148675759101893,
          -0.7597385878813325,
          -1.662837548741968,
          -1.8902303297831158,
          -1.5328467352522726,
          -1.2536233695640104,
          -1.2302352255235927,
          0.10461162581345779,
          0.5222047642496496,
          4.4310454019223116,
          -1.1896884868417064,
          0.3826515107286244,
          -0.7773625634585428,
          -1.4952959189875168,
          1.6675267223983972,
          1.4852428780681355,
          4.356729544123444,
          -0.9108592533331836,
          0.18164272293418554,
          -1.8732582454237798,
          -1.6946786996734662,
          0.4358314317588792,
          0.4879910198583266,
          2.7658581502204496,
          1.9540876681797335,
          -0.17613599599091762,
          0.4227931229385341,
          -1.6117359369821982,
          -1.041991552846556,
          -0.12021237473150492,
          -0.11140233801850427,
          -0.3443427862674364,
          0.6672750904822239,
          -1.2131974145350344,
          2.5136903101093697,
          1.1845545043666232,
          -1.755389031147311,
          -0.699241830621048,
          -1.058019557956238,
          2.311940378611578,
          -0.13688948178293175,
          -0.8741749815567239,
          -0.9304422088236259,
          -0.9840382097343711,
          -1.3564305630785625,
          3.3966287287929497,
          -1.7688160662074721,
          0.2532494653975696,
          -0.5625432966733253,
          0.1389498083800921,
          2.995182324696315,
          2.3219296947796333,
          -1.4964895263633462,
          3.274369314931625,
          5.33553663816379,
          1.1970948667173544,
          -0.9325106706495284,
          -1.0348098358027886,
          -2.0251481991515754,
          1.0657747825801016,
          -0.3857410564931699,
          -0.6253799907794835,
          1.547990068286161,
          -0.9325106706495284,
          1.1810200528402164,
          3.6809276424008934,
          3.757014733272658,
          0.012415187357944562,
          -3.0305697190318277,
          -0.9098410453161888,
          -1.5191912139342882,
          -0.9195814288618506,
          3.8284561838288993,
          -1.111713310393219,
          2.2673373620579844,
          -1.5150721309734032,
          -1.3925033257613089,
          -1.2995846666732864,
          -0.12266151502753952,
          -1.8668753039071233,
          -1.5018729408205747,
          -0.5700160017381576,
          3.0398822705104656,
          -1.8005405433301183,
          -3.6632315599681733,
          -1.4679455092351477,
          -1.0800614696303623,
          0.8055109936842523,
          -2.820267239135906,
          -3.4529710337762127,
          -1.1110635172556063,
          -2.7918970904646625,
          -0.6542529218710751,
          -1.2316328350265493,
          -1.3092383176769802,
          -0.4469941032014117,
          -2.114793859435531,
          -0.8486770478305656,
          -0.9409778444685301,
          -1.8320832439959558,
          -1.4789288509342513,
          -0.2603117476767173,
          0.7062856706652333,
          -0.947231238377567,
          -1.828067703310392,
          2.89688698575548,
          4.2095932016608435,
          -2.754870819905938,
          -1.5459459240384164,
          -1.892505210996037,
          -1.7067784255245089,
          -1.6774539508660664,
          -0.4563518583717428,
          -1.3346043453735341,
          -0.3216295003543732,
          -1.5006475935961954,
          -1.4595938170239817,
          -0.8243341544860182,
          -0.6580875903276753,
          0.28642701434719414,
          -1.2796134458978496,
          -0.37049705875550165,
          -1.2343513887207496,
          3.996300547145883,
          3.3395779158555388,
          5.384016484346958,
          0.21837706806186075,
          -2.306768848291026,
          -0.5021981388206974,
          -1.0068978534182316,
          -2.147694443940261,
          -2.3968637435576925,
          2.7096069646934575,
          1.7560435745437555,
          -0.9443973872998512,
          -1.139643098815129,
          3.5578638142965184,
          3.853519820121419,
          -0.8855858941782222,
          -0.9829651653205774,
          -2.3201254212705935,
          -1.2569492976215024,
          -1.7231498462044001,
          5.961074281238083,
          -0.9304306817837614,
          3.7923096640832377,
          2.533893924578386,
          2.400346932906476,
          -1.787837225777694,
          -0.23352895324163986,
          -1.8863702813551442,
          -3.0007847223145765,
          -2.088853425657693,
          1.0430639994862427,
          1.4753691607777795,
          -0.7167812722224345,
          -1.8241639760866641,
          -1.0939818264875414,
          -1.4173759806756043,
          -0.922767215658919,
          -1.104428046412083,
          0.06735268474735653,
          -0.7895365930463483,
          -0.07072149456798893,
          -1.8517630213186214,
          -1.8601271467736316,
          -0.08828355973958107,
          -0.2554410311634346,
          1.8793807339843247,
          0.9116853878805097,
          0.10012379315177831,
          -0.603943977972541,
          -2.9298175854967132,
          0.19839714092277905,
          -0.44918673033603956,
          -0.7937960986538589,
          -0.6206510300666301,
          -1.4459240490095036,
          -2.336906125358009,
          -1.4633820680402194,
          -1.2208847510985568,
          -1.1296546207459452,
          -0.17787330371714766,
          -0.696075202843391,
          -1.3678339527436514,
          -2.344688244689032,
          -1.5994355501742903,
          -0.695313590167219,
          1.6229388520329004,
          2.782399844533679,
          2.285874428736391,
          2.15555079879695,
          -0.264782944410476,
          2.827606248898021,
          0.6100656850450652,
          1.317480504278317,
          2.7468007751696386,
          -2.252375407578723,
          0.7036343124900745,
          -0.001183760249145861,
          -1.482961908069977,
          -1.1075232058518292,
          -0.6971997960267939,
          -1.9568620208735632,
          -1.1054970278095242,
          -1.326483193570149,
          -1.784902560038932,
          -1.2811371791205015,
          -2.8860579727672433,
          -1.241834856815291,
          -0.15427203546753987,
          0.566830228379573,
          3.163873829531576,
          5.0470312245647655,
          1.24870754529164,
          0.6273736799906362,
          0.07539853780510684,
          4.046423353988649,
          -2.0948414895359484,
          1.7704705061504324,
          1.3428053485486489,
          -0.628115902860407,
          2.7007571007880053,
          -2.896459582461673,
          -0.48907148657955984,
          -2.4153603716354706,
          3.3505970687397966,
          0.11785838188577309,
          -2.0818315040779085,
          3.3833813768610894,
          -2.028868370344417,
          -1.929689586442025,
          1.9624352875108155,
          -0.11473781767402104,
          -0.8976185323361092,
          -0.6162589382614415,
          -1.3398506344220318,
          -1.860509458192561,
          -1.125616515157267,
          -1.3471905127214177,
          -1.6634667301389185,
          -1.793717221224366,
          1.7116070792188465,
          0.6875307868210228,
          2.3599126557972556,
          3.407745586370999,
          3.4201634173555178,
          3.170408043356187,
          4.18970943674314,
          0.8861883023723567,
          -1.204133680640151,
          -2.433266038421997,
          4.39625772926401,
          -0.9943458450544895,
          -1.6640786009656174,
          -0.65301207329925,
          -0.7024160963306559,
          -1.616272197540598,
          2.7000671233999958,
          3.13323031421381,
          2.6230336450209144,
          -1.7234064226917933,
          -2.8800245580393975,
          -1.8011679111545564,
          -1.6369871043498494,
          -1.8914809660644945,
          4.618935780161165,
          4.050843042184686,
          4.3526630512689914,
          5.122067061563879,
          3.9068164100335854,
          3.986678980914993,
          2.785223409389512,
          0.9999800069643582,
          0.6799719491218066,
          0.014298306941483516,
          -3.156152761147995,
          0.022755347441273374,
          0.022755347441273374,
          0.16215521835046942,
          1.8848249364406608,
          -1.6357883699260116,
          -1.4405368092396231,
          1.9595862552593748,
          -1.964396362640469,
          -1.5973738646502864,
          -2.089446314970426,
          -1.8026658189060796,
          -1.2917710621025622,
          1.6122957977964285,
          -1.0597890934720582,
          4.601631831528845,
          4.450568176559055,
          5.210196579660411,
          5.777399769903297,
          0.20076562572775994,
          2.1326120989580426,
          1.745996809434333,
          1.745996809434333,
          0.20076562572775994,
          0.34546684392774013,
          -1.5154226810919007,
          -1.6922378597241026,
          4.310681878249165,
          0.469268947239108,
          2.3242082313809864,
          0.938112123399802,
          1.184125244273475,
          -0.3743066976564597,
          1.0133098935057983,
          1.0103085340590066,
          0.7875315203113371,
          -0.5858043284252918,
          -2.6432273139517353,
          0.745467864964598,
          1.0437438961384329,
          4.8395641425212785,
          2.289658143604803,
          -1.3025333410462425,
          -1.3212499387413408,
          4.033258007856049,
          -0.9054653279761934,
          1.4077154542863624,
          1.8197767618637968,
          -2.02668014129887,
          0.4069739919366765,
          -0.17898853073046214,
          0.48476181187359896,
          0.2637378078660118,
          1.9490472897705742,
          -1.2617841821502742,
          0.1492151480055365,
          -0.21755040086465324,
          -0.7624724066787744,
          -0.9387029953969092,
          0.2794997792688255,
          -0.7588630483770623,
          -2.152795985798638,
          -1.5357814618078711,
          0.8290154285889068,
          -0.9817137056298634,
          0.0007320463538199625,
          -1.059070178230984,
          -0.7529011708788543,
          -2.517514521755168,
          -2.3199405171221934,
          -0.2347149166477559,
          -0.22120729624415375,
          -0.6810305719934215,
          -1.3423911334200642,
          0.932909943322976,
          -0.33138598600913216,
          -1.366341923568507,
          -1.0192775239661647,
          -0.5491172599185697,
          0.05306629499184252,
          -1.256710732405582,
          5.259661506974297,
          -0.29656343051103456,
          -0.20192591787069666,
          -2.0246023398504898,
          -1.4443686593542033,
          -0.975183918236512,
          0.05452714640811886,
          1.4523524534217294,
          0.8192739231873567,
          0.0769826168403765,
          -2.424113347680563,
          -1.049939683603638,
          1.3593481661758207,
          -0.8437018248035685,
          -0.4054386474312074,
          0.610122714081702,
          0.12017397103911666,
          -1.0084097097668374,
          1.2229974720456422,
          -1.1031682937994751,
          -1.4083418571679756,
          2.5756303060219805,
          -0.15864834545484124,
          2.915458923587589,
          0.01496819292810994,
          1.4088806725999024,
          0.8082967149746697,
          0.4464945802762574,
          -1.27956000597858,
          2.8272600811544897,
          -0.42771336379760105,
          -0.8837451046928394,
          -0.2309309414336462,
          -0.5371447045574785,
          1.3880784370526718,
          -1.0597890934720582,
          0.8795324448096479,
          1.476414729824297,
          2.765001627237037,
          5.637075618753227,
          3.500235764018913,
          -1.5104184002125942,
          -1.2334843591545122,
          -0.752940502921875,
          0.08511187324309363,
          0.32051098514515364,
          -0.9120762581936702,
          -0.2785807002941408,
          3.088433624767484,
          4.1432477779997,
          2.3997163163978636,
          3.176957929846903,
          -0.604428344069408,
          5.57421968820398,
          5.333727896640733,
          -0.1703279404176033,
          -1.4427210612478665,
          -1.3399879370214922,
          -1.3399879370214922,
          -1.0802458985701933,
          3.9166593931872073,
          1.1333539879918582,
          3.131924063360549,
          -1.3399879370214922,
          3.1351717246654673,
          0.052961063614166574,
          3.8242286853002594,
          3.3139603610314237,
          0.6376433975357735,
          -1.3678276494516526,
          1.4795949689527161,
          0.5075398114106461,
          4.025163763893032,
          3.397634175449699,
          3.3025291157013483,
          2.8311288224741094,
          0.4298703987209281,
          2.6526038200999027,
          1.9894395187425378,
          -2.4451348377062514,
          -1.9828992824413216,
          -2.9088138803783807,
          4.9107130097470995,
          -0.649803665432299,
          -1.5303444494938017,
          -2.7153897454154547,
          -2.068754415796768,
          -2.2542542997003867,
          -2.010052679611557,
          -2.1099099573153457,
          -2.2236326075156043,
          -2.3132103064829823,
          -0.9502346814249337,
          -2.136402709539328,
          -1.0065335489460225,
          -0.563511753593261,
          -0.5452437114590937,
          -2.2698090988609745,
          -1.2016336137926904,
          -1.3117714960738562,
          0.11607867116484637,
          -1.1573319711835883,
          2.8442612084686405,
          4.816971047050107,
          5.388502137886455,
          4.902234021478257,
          0.17804007974110714,
          3.129629623900942,
          -2.671565344475637,
          -1.473288100303356,
          1.2109456547170145,
          -0.6283268472049901,
          -1.8232159852586638,
          -2.7616267192665003,
          -0.8038412941572973,
          3.129629623900942,
          1.2775355899569385,
          -3.4999871537663054,
          1.3589483043899597,
          1.7385554462803234,
          -0.22573449118776884,
          -2.274067346388721,
          -2.7222920271687454,
          -0.5665714728194756,
          -0.7245547433332981,
          -1.899241989411072,
          -2.8397395979008953,
          -2.0779173370881727,
          -0.8771721526876322,
          -0.4066838677898678,
          -2.462682444077488,
          -0.9502346814249337,
          -0.8848052512508274,
          -1.4759715630515968,
          1.034056339073768,
          3.926653088228393,
          1.3504189491626377,
          0.40228114438331647,
          -0.7883433217568923,
          2.0279654140200676,
          2.040217954687531,
          0.8979910073856043,
          -1.3703622819832757,
          2.1959478767859384,
          -0.3257151107438907,
          2.1667905160060257,
          -0.10849963879625053,
          0.5555801926793574,
          2.6855272350918455,
          2.062971850274054,
          1.932778973012089,
          0.5823874663723937,
          1.4280076694700545,
          2.2279502077988376,
          2.0141117237244637,
          -1.754826047247285,
          3.1452711577365053,
          1.8851878311394776,
          0.5461741363291354,
          2.356396628203323,
          0.8590333940405699,
          1.5750036225782422,
          -1.4254079176047505,
          0.1322950570473478,
          1.6585341861753584,
          2.633080100731389,
          1.291985896710184,
          1.5307731412375478,
          1.8030112846657116,
          0.06706942676046224,
          1.804540350598173,
          1.3745874347744327,
          -0.08395614302769293,
          4.049749172711464,
          -2.127550029030416,
          0.5273523375187024,
          -3.0914737893276936,
          -0.9291176379098578,
          -0.4015548957102338,
          1.198781194173009,
          -1.4489486989802873,
          0.42164195837834867,
          -1.0348098358027886,
          -0.633742057212648,
          -2.1834965098510493,
          -2.1758672952105034,
          -2.8243568560471237,
          -1.565785143906472,
          2.4888524869873887,
          1.7069952938522703,
          -1.7699525413624635,
          2.0944287535894563,
          -2.538940561074893,
          1.7757562576013057,
          -1.3673813815784834,
          -2.3217190043773974,
          -0.07145510003716145,
          -0.12953515656082165,
          0.017056520577366667,
          -1.6918615662065648,
          0.2478889863404186,
          -3.3719490056920605,
          1.8109439725347176,
          -2.956316710280409,
          -0.932657651394537,
          1.5453563721904267,
          2.0175676302542978,
          -0.9777384825203552,
          -1.8088045851480494,
          -0.19764938933701354,
          -1.7360045350795765,
          3.6842201989297245,
          -0.6847094485509639,
          -0.2603117476767173,
          1.5422988888047615,
          0.5930026646121659,
          -1.7912959670136812,
          3.118021498922635,
          3.3580144918752364,
          3.5099309650882864,
          -0.19461924016161677,
          2.48052796379023,
          4.517776810914014,
          6.091867137337183,
          -1.386425812758799,
          -1.6590894291934803,
          -0.8451615089399569,
          -1.0417192548785015,
          -2.21263284411401,
          3.904762418566288,
          2.3576582971520192,
          0.039926016615875436,
          -1.1004953247578724,
          -1.3293394373721172,
          2.4179234417138895,
          -1.8494158071698887,
          0.6194589894389185,
          0.7007141496868071,
          -0.22131099576619365,
          4.069805840259915,
          -1.6915198589429605,
          -1.6480326701342507,
          -1.6266757262409504,
          5.070598490109725,
          -1.2012069430765242,
          -0.20161483159629026,
          2.2123779499001315,
          -2.4649248397008874,
          -1.9249814682117188,
          -2.408016409672175,
          -0.3981606546944878,
          -1.1481127843950496,
          -1.2373304643909686,
          -1.4628181365509458,
          -2.642991534637256,
          1.953301703300398,
          -2.119572558061235,
          -1.0140421857817687,
          -1.8430894155768578,
          -0.17434341580478593,
          -1.8079063743752277,
          -1.0770098667738959,
          -1.490548176924028,
          -1.2980784897176678,
          2.3650341880945875,
          2.805690268078533,
          0.48472351061886215,
          0.8549288236323002,
          -1.5013922149508832,
          -1.3673565615888017,
          -1.5786623309290868,
          1.9460913874910215,
          0.0317440307360448,
          3.5189870964878107,
          -0.12194207361813111,
          -0.8643826427197144,
          -0.34316401580846057,
          0.1487995698285148,
          -0.7021345155769486,
          2.526890730193053,
          -1.5907428957012457,
          -0.04081922184563197,
          0.7899298288307444,
          -0.9108592533331836,
          0.5345492960066768,
          1.7118640514247745,
          0.32913723878694856,
          1.193120225310696,
          1.095868990708861,
          1.2545681987114254,
          -1.6454912421714354,
          0.06998303323160715,
          -0.6562708849308392,
          -0.8025844842561641,
          1.0288670632622676,
          1.5503148149597912,
          0.7522544149888772,
          -1.3594752795046867,
          3.018000391387948,
          1.0712957412947137,
          3.2217287372984633,
          -0.09309152149855242,
          -1.2985779973467597,
          3.218628062553706,
          2.1326120989580426,
          -2.3446730016825668,
          0.4052933124022675,
          -0.572602302144004,
          -0.8831651240421433,
          0.2864992879018398,
          -1.160289146827437,
          0.7158496154657085,
          3.510753435620004,
          -0.2064659721466586,
          0.13893639159218824,
          -1.8058188159171593,
          -1.769051266009559,
          0.8116576480875344,
          0.33752469190627454,
          -0.010394775910613106,
          -0.8944573785036674,
          0.21387473617623287,
          0.23100452434814076,
          2.030878227187986,
          -2.2995204704233023,
          2.46411111954667,
          2.11921786172136,
          0.03900046465196561,
          -0.6538759240822299,
          -2.508627218880718,
          0.8123565472634434,
          -1.5787530557618976,
          0.21465726009403827,
          -1.837016508756995,
          0.9229565319598542,
          5.6563508181331725,
          1.2758796109944486,
          -0.5087977010750441,
          4.278428722085265,
          0.6992100078765249,
          -2.3841364242986867,
          -1.7777308426945022,
          -1.7803898860126586,
          -0.41675396826810723,
          -1.1894418289754822,
          -1.3168814365839576,
          -1.341598059302449,
          -1.9057076077566941,
          -0.9399967293329521,
          -1.680868515200483,
          -1.1904065555535022,
          -1.4119055620195125,
          -1.9190223555873658,
          -1.681820390200121,
          -1.4359027004171472,
          -2.0112309024792454,
          0.09121406890156579,
          0.5055869622129703,
          -2.3991249477716163,
          -1.4878005371777216,
          0.09012877718788422,
          0.31014652749821736,
          -1.4468211063157397,
          -1.8879364766330229,
          -0.4308099759040463,
          1.9127398992549007,
          -0.9340739420096723,
          -0.09245424702743289,
          -1.0170415780895836,
          -1.4337106390703696,
          -1.1513085587600582,
          -0.35053272601344115,
          4.891728612485052,
          -2.262035465700969,
          -1.164623953523948,
          -1.4194876518446784,
          -2.178982674772517,
          -1.7048467653411064,
          0.08723516303489906,
          -1.5513713971895973,
          -1.1305919329746985,
          -2.008601460302474,
          -1.971984908729134,
          -0.7603552441700422,
          -1.7081845936205533,
          -1.452644788376457,
          1.0936536290838437,
          4.707297316935377,
          4.066416551661852,
          0.844908045381959,
          2.0175676302542978,
          -0.5221029502555921,
          -1.0819030183511804,
          0.9363603495410884,
          -1.6901930633720714,
          -0.06734437755377164,
          3.128409610084757,
          -0.013372924890361819,
          0.9315488370480715,
          -1.107898841368993,
          0.983684517135779,
          -0.6216384167307978,
          4.176384153224836,
          -0.8174650647916106,
          -0.9844049327521119,
          -1.9340208521383129,
          -0.9150586306583623,
          -1.9024375077661249,
          -1.599119189997871,
          -0.39791226734428087,
          3.1890107734387287,
          -1.3604505665769044,
          -0.7141034047337286,
          -1.5914938986038474,
          -0.26981790114743603,
          -0.32057160195909273,
          -0.9748467556979415,
          -0.6346112423952763,
          -1.485246786990908,
          -0.6488361413093131,
          -0.6875208972982043,
          -0.5235210522524464,
          -1.299764417933026,
          -0.3937474251797409,
          3.4924077989945763,
          2.57635772327118,
          -1.255050205647134,
          3.8527580670263855,
          -1.396365404235286,
          -1.5970419948490937,
          -1.6886328758157634,
          -1.3774550293604118,
          -1.369072952462097,
          -2.0826181995813418,
          -1.1954018276570275,
          3.4027511525664993,
          -1.958722994174527,
          -2.646314841291695,
          2.3353127950974284,
          -2.345824751081745,
          1.395742623948655,
          0.3091765784289796,
          0.3091765784289796,
          0.048258746895681,
          -1.0823520722647522,
          3.0490881810417663,
          -2.0975769095841974,
          0.25316511117440554,
          -0.15427203546753987,
          -0.4124018197799235,
          2.8948856676427703,
          0.9925700176837311,
          -0.10380387445274354,
          1.893819524326886,
          0.9398182903443865,
          -2.2190070001920583,
          -0.40289995088326336,
          0.48555984194642265,
          -1.6946786996734662,
          4.453263833371466,
          -1.7698042251005015,
          -1.2917710621025622,
          -1.8456441547473579,
          0.09262464006245423,
          -1.8537718049763474,
          -0.3241240622174596,
          5.699030304877432,
          2.3817849882339335,
          -1.5609102360473233,
          -0.2799174074815609,
          -0.554255057269899,
          -0.6637454999146529,
          -0.3292698306096493,
          0.6663435469489184,
          -0.8145720543150322,
          0.6939265197491407,
          1.4162075885952388,
          0.5778186477553684,
          -1.258474178901715,
          -0.1877236587907225,
          -0.8836013757068081,
          -1.6875506785986956,
          1.5211340327985543,
          0.2195908194829519,
          0.2885020536256135,
          -1.4926217671802857,
          -0.21175692447558003,
          -0.175810204961631,
          -0.8875625801717674,
          -1.2556219866206992,
          -1.22693616042837,
          4.618935780161165,
          1.3552239026426254,
          1.9336164093535624,
          0.3436840728473296,
          -0.5690376399407661,
          -1.8919920103002343,
          -0.5841890549176636,
          0.332769961899998,
          -1.9175550818936071,
          -1.2392356281844954,
          -0.09546520325791828,
          0.5577786585832513,
          3.002801573904525,
          -0.5753522125886512,
          4.161022525837937,
          -1.9988770057703404,
          3.746890986528976,
          2.2244782603334134,
          -2.0601769600585085,
          -0.7651747940113187,
          -0.8818233752987592,
          2.2008285870324507,
          -0.5335105742105525,
          -0.5913765417068708,
          -0.8686121365386248,
          3.126929191169632,
          1.572747239850046,
          1.8241788630931604,
          0.9487631695800589,
          -0.7979632686424246,
          -1.5274385093734075,
          -0.04031006817489199,
          -1.4688940844932519,
          -1.5189484652220957,
          -0.3336390303841242,
          -0.28741846532537707,
          1.917391486091967,
          4.217793257754895,
          0.8123565472634434,
          -2.026822876035977,
          -0.9888603025879952,
          1.3505978175446627,
          1.3505978175446627,
          -0.22448253695649442,
          -1.5599823753878872,
          -0.944511018885155,
          -0.9687374941369966,
          -1.9473824019540278,
          3.262619580896011,
          3.335750201236278,
          -0.08400104548676966,
          -1.8353016618474367,
          -1.0147768860331046,
          0.680587978785231,
          -0.9288952404986126,
          -0.9673631567290882,
          4.168363339147139,
          -0.8950461905575395,
          -1.6554978350332181,
          -0.6736705457075552,
          -1.5694794034452315,
          -1.6619836307825167,
          -0.1588995810750397,
          0.6637508483382988,
          -0.8307561706234646,
          -2.283315635946638,
          0.8752453390642249,
          -2.4277401058841894,
          -1.422406598148057,
          -1.103766214033281,
          1.565067109513586,
          -1.0895612371376293,
          -1.168714792577957,
          -0.994697472084174,
          0.735242638839317,
          0.05685055929293267,
          -2.3649098795794234,
          4.904751130878141,
          -2.8030403909571513,
          -2.252562080818786,
          -1.8959245730757301,
          -2.0917516052011518,
          -2.5083171311632495,
          -1.0932669094952792,
          0.2300271283486476,
          -1.7664024000158356,
          0.684554644870827,
          -0.90246065712377,
          -0.47940453613652784,
          -0.7455458630228259,
          -0.9013326790547971,
          -0.715057907181998,
          5.521484025398491,
          4.330780758381716,
          1.0507517772310682,
          -1.6734809168327214,
          4.2365941773482545,
          -0.2745021491914586,
          4.055818049656475,
          2.1357669132817225,
          -0.8330021081673911,
          -1.8279298926842606,
          -1.7462095781463165,
          -1.429274801673933,
          -1.8043356480433603,
          -0.038926072238980904,
          -1.3609492642096972,
          0.44798540695465167,
          -1.6881966197421576,
          -2.2605554980822604,
          -1.603295866528965,
          -0.5719868279724848,
          0.22680621843925103,
          3.0007464182467136,
          5.262058618140634,
          2.8858699481600567,
          -0.6661581305866633,
          4.647416850813506,
          -2.3259805083008867,
          -0.8749418351069352,
          3.4358447536432473,
          -0.1859205699604882,
          -1.325257796141951,
          -1.6454826504708202,
          -2.2743637727692745,
          -1.137548985445843,
          -0.3059464908211044,
          -0.26321036146484195,
          0.36823439087847637,
          -0.7749919598416048,
          -0.17119199961990905,
          -0.06981557094042341,
          -1.207258832602025,
          -0.624102112730828,
          5.419874741023525,
          -1.5972222455784257,
          -0.36389517538093913,
          -0.3445021725092957,
          -1.6165697131635048,
          -1.1021594097961798,
          -1.2273516660222612,
          -2.045214098687468,
          2.0186542826167524,
          0.4298289927167271,
          0.6052682794470812,
          -0.44235378658709557,
          0.022947141944437952,
          0.0015944771473578208,
          -1.8238846076569697,
          2.231754168198273,
          0.764274814163574,
          -0.8433282919666333,
          -1.3230875790813463,
          -1.3298929349932953,
          -1.226722089484789,
          -2.1499949310856814,
          -1.2163920877132492,
          3.4634847114667897,
          0.45394121663571546,
          -3.0613383031984207,
          0.22729614518138555,
          -1.134476832563175,
          -3.0613383031984207,
          -0.7072963438992385,
          0.3418433804143047,
          -1.567118259123491,
          -0.869666690061237,
          -1.5795590761486509,
          -0.8772502462786,
          3.582500683457119,
          -2.2268342780614736,
          -0.20126115331103897,
          -1.667521519112388,
          -1.1676869386410922,
          -0.0959440563615286,
          -2.3820664249846057,
          -0.1287226442254737,
          -1.5822498519629935,
          -1.6387434617760284,
          -2.0251481991515754,
          -0.6993509873932028,
          -1.8764670933076553,
          0.35443256089680913,
          0.5717167306430517,
          3.1019647144481843,
          -0.5188294035461433,
          -1.0126741219338158,
          -0.7097641046725922,
          -0.7276269751785622,
          3.363462492417517,
          2.9752226817107963,
          -0.8219366599034414,
          2.2089628716223135,
          2.7850640053433686,
          0.2981463520357146,
          1.86648847416386,
          4.140411488353792,
          4.133048817017733,
          0.5282838272987493,
          2.6055721017645657,
          -0.264782944410476,
          -0.17832420764440887,
          -1.9380303715726293,
          2.9039050390292247,
          3.649677021506469,
          -0.01292992374435106,
          0.9703843368446696,
          4.8400303648764655,
          -2.382120428766232,
          -1.54416897723458,
          -1.3888697809804096,
          -1.954261376586502,
          -1.584981903082229,
          2.4466955357895843,
          -1.3666480483746366,
          -0.2676245317046486,
          0.40230341805213987,
          2.3745705662041594,
          5.050054496026233,
          -0.9053180429942465,
          -1.2698419846443323,
          0.5398747178532755,
          -0.9479576954954874,
          -3.0324499813922876,
          -1.1121517547583095,
          1.054364222254831,
          -2.1748260590504636,
          0.8783391882405458,
          0.844908045381959,
          -0.28380427510569,
          -1.808364745025448,
          -3.2024704591966753,
          3.3215521054488217,
          0.8539122759964437,
          -1.0527079835431898,
          -1.6233526075106721,
          -1.4951842716237809,
          1.7519453777759337,
          -0.8298967446281699,
          -2.187333543701749,
          -0.24944080664634588,
          1.1074723601112297,
          -2.0859355414082175,
          -2.412511518031865,
          -1.2499990583699119,
          1.2918669581773614,
          -1.4808604861756598,
          -2.014442970023502,
          -0.5413481296670024,
          -1.6534058002388408,
          -1.4317917003045737,
          -0.9871359024336258,
          1.165541156772922,
          3.0002356858668846,
          0.15000872558749215,
          -0.5219177664341923,
          3.047428758666206,
          0.8524577565344795,
          -1.8419708771379095,
          -1.4212505387436203,
          -1.5990912760966658,
          -0.09245231702928701,
          0.758923917438944,
          -0.38861753676292504,
          -0.48869129923344445,
          0.1860174465239198,
          -0.5767423202391108,
          -1.044525985652123,
          -1.4103425017750744,
          -0.9467174638564457,
          -1.557090757749283,
          -2.031656522376278,
          -1.5050207141774037,
          2.033041433841414,
          2.9972411903138965,
          -1.113190371205714,
          3.4143457476927663,
          5.320867729182732,
          4.0859914355094835,
          2.1274425358348816,
          4.947269754284726,
          0.4726197924305106,
          -2.2016868255719344,
          0.43167185305864536,
          -1.113190371205714,
          -1.6057702396471847,
          0.8312197050104102,
          -1.7642479233188504,
          -1.1590732070276328,
          4.081447099437763,
          -1.1266837590924166,
          -1.2919547680535057,
          -1.7723311723076114,
          0.021900563903480143,
          -1.8333368443589544,
          -1.7602758888628436,
          -1.869346061592217,
          -2.046542277096348,
          -1.0561390468606335,
          1.177051678970373,
          -1.8762990960288113,
          -2.4252240322564087,
          -0.12210277573933491,
          -1.626006632578296,
          -1.8445494912080096,
          -0.3033082971030339,
          -1.2048764587975178,
          -1.818276597506005,
          -1.4422094887527541,
          -1.0947009976647624,
          -1.9236465210710905,
          0.06349215750229707,
          -0.7967643032374773,
          -1.3089600393569707,
          0.5354649061742393,
          -1.1538421770428788,
          -1.1326586912829215,
          3.1056989824074224,
          -0.5655314564562393,
          1.67118475826074,
          -1.69035928089656,
          -0.17282411226062397,
          -0.1534234424262166,
          -1.1213935734132543,
          -0.3560114892032397,
          4.264393263445874,
          -0.970208733123111,
          -1.4795207011403069,
          -0.019163938022141374,
          -1.6262673095858855,
          -1.0729349066364706,
          0.6594213427915557,
          4.0669953859856625,
          -1.7593947139165342,
          -0.6148631774543123,
          -0.532844373318665,
          2.195131016648976,
          4.211073384228152,
          -2.0951936831935893,
          -1.7126773122191763,
          -1.3176226052793862,
          -1.2398389440352926,
          -0.6365159443123275,
          -1.868071836587033,
          -0.2077489898443985,
          4.663158190213205,
          -0.7172902492876029,
          1.4126375362115118,
          -0.05348159629165145,
          0.12258449104649374,
          -0.693008274763072,
          -1.684246261680124,
          -0.999714346230431,
          -0.9925277416519376,
          -0.405545524685152,
          -0.7943307030855671,
          -1.4179766882023732,
          -1.507761869173882,
          -0.1186475262519462,
          0.06513251514329911,
          0.4479061806002182,
          -0.5905352698295606,
          -0.6656940772015799,
          -0.12568353651020495,
          -0.2968239783275796,
          -0.3020850369503257,
          -0.4431538767660791,
          -0.8497568273164455,
          1.506903795247657,
          0.48036613331287836,
          -0.697080464613886,
          -0.10347402499997313,
          0.42611844118290915,
          1.7181988956709005,
          -0.14880872420562588,
          -0.8608961760184075,
          -0.21186655948989633,
          -1.2074405624776208,
          -0.24447286527723086,
          -0.11108361445809313,
          0.4331828913071607,
          -0.46666599304566153,
          -1.8413507629642525,
          -1.0214066744382941,
          -0.4975884880865167,
          -0.6844849178178255,
          -1.669702850008831,
          1.943527833405262,
          -2.590401210503966,
          -0.9832888022778712,
          -1.510245045648753,
          -1.5772672834448864,
          -1.3747547479445228,
          -1.2001953198664075,
          -2.5500589751698053,
          -1.5609102360473233,
          -1.890277639273256,
          1.658754391001419,
          2.7931435870373407,
          3.3936697303588224,
          -0.3078197169386884,
          -0.5170085720229933,
          -1.9380674914976466,
          -0.8915763547993777,
          -0.9886668262046701,
          -0.5696178874425248,
          0.8795324448096479,
          -1.1447334158703657,
          -2.0065454067291433,
          2.820574209762178,
          4.028986191210217,
          1.7372253796499812,
          1.565585381005376,
          0.07802122878737071,
          -1.827487688685229,
          -1.9502075389529852,
          -1.7354065296445802,
          -1.869963135603199,
          -0.5644354650111926,
          -2.0061121385605523,
          -1.7634140784138803,
          -1.872300894132352,
          -1.863993220422248,
          -2.105897560651473,
          2.957539714316923,
          -1.9232812200626508,
          -1.7291945028487063,
          -0.33946039336050987,
          -1.4817947434057168,
          -1.3648272900680107,
          1.6184380633196072,
          0.6731669759445202,
          -1.398152579711441,
          1.4897707598582184,
          1.0157432689846038,
          -1.0568509529743577,
          -1.7518249634932717,
          -1.242195840460265,
          -1.9336938727708395,
          -1.759821704033375,
          -1.4555523482943322,
          -2.1082944798688463,
          -2.060666043906394,
          -1.4904194189397075,
          -2.0734945064138426,
          -3.9937547184628506,
          -1.7804503009224801,
          0.4188013767860402,
          4.074252866889356,
          -1.6540996021001335,
          -0.8706935586305755,
          -1.2311045301288568,
          -0.07788453537429856,
          -2.443401395671398,
          -0.0762566035362805,
          -2.1318590249117166,
          -0.16461671372417636,
          -1.7771222855258455,
          -2.2929023354570375,
          -1.227707542119134,
          -2.4270031251579978,
          -1.01987819468375,
          -0.6385744256983827,
          -0.6162589382614415,
          -1.5903114999670296,
          -1.122686792400836,
          -0.7780117610925481,
          -1.241834856815291,
          -0.4187722487022024,
          -0.5887610453578073,
          -1.4255157505699634,
          -1.9236465210710905,
          -0.8321122702871269,
          -0.7103155395647744,
          -0.45457897450551077,
          -0.5006469673618131,
          -1.34338601651701,
          -0.5586881735072325,
          0.7183670596719584,
          -0.8757146430848167,
          -1.0684891129569074,
          -0.37919072063458714,
          -0.5255270518176546,
          -0.4899308370179322,
          -0.15972671026188123,
          4.813777021504081,
          -0.8690009426865822,
          3.3215521054488217,
          -2.5792042125307075,
          1.5603981597326764,
          0.888896898914363,
          -0.47690770582583414,
          -1.3173980164012005,
          -0.4962570470088785,
          0.3375764127658353,
          2.1487550179202075,
          0.5205896223390931,
          0.0023903786712653947,
          1.44385437022298,
          -1.7722920756714422,
          -0.21138765775075855,
          0.9097158032319795,
          4.84460156503368,
          5.666384156661321,
          -1.9417108967056718,
          -2.1065509824092223,
          1.140796258083534,
          0.23103463786948655,
          0.42561757819746826,
          -1.5657114923930855,
          -1.5657114923930855,
          4.244480994355998,
          5.176708744973618,
          -0.8596027093370077,
          -1.0270738870476324,
          0.37512427692022604,
          0.051811371512324754,
          4.58255384520449,
          0.5168944033678442,
          0.06057426972990546,
          -1.778492725569417,
          5.408174041012425,
          2.5327757019918797,
          -1.5302866131478017,
          -1.0610339222842131,
          -1.0947736380529212,
          -0.9227741339323355,
          -0.9605533109182772,
          -2.1322400770566383,
          -1.6689001793002767,
          -1.4351673016485826,
          -0.716977224616245,
          -0.9568264963416632,
          -0.9416875707314976,
          -0.41333850470528294,
          0.16883070258110286,
          1.4322493420169824,
          -0.7813213297476427,
          -1.1271281147595367,
          0.6524595908390076,
          -0.6927403014042182,
          -0.6732878229230738,
          -1.1414799926170152,
          -1.4892770702646925,
          -0.35535854852106813,
          1.82944871658052,
          3.65607727182223,
          0.7261799401622594,
          -1.896971419854984,
          -0.41939395144300906,
          -1.273066331883837,
          0.10397499296520994,
          2.0964836415896615,
          -0.8776788935290583,
          2.529909789362584,
          1.0082003519061769,
          -1.890277639273256,
          -0.4220782534476136,
          2.1090057143499563,
          -2.371561218751935,
          -1.0444388347634848,
          -1.2311316155798793,
          -1.1776970800546382,
          -1.0345327312064307,
          -2.723466640316104,
          -1.7104420113557341,
          -1.9914059300228188,
          -0.6226927475906405,
          -1.0468527623234283,
          -1.290024838233272,
          0.12309112973266503,
          4.6524036896912655,
          -0.40462364134067325,
          0.4430017973536206,
          0.7869224265474098,
          -0.5605651851159841,
          -0.128438092432954,
          -0.5314028806277078,
          -1.023829088862143,
          3.1748797341320385,
          3.859538766764742,
          2.6026231331657734,
          0.15833263461928374,
          -0.7710403655798296,
          -0.4995419530279282,
          -1.2938074605601024,
          -0.3580542688912645,
          -0.8371847600040487,
          0.2332762265516211,
          -0.08852138585591895,
          -0.6084691009396432,
          3.879862859303168,
          -1.6480835900823707,
          -0.07920628817761133,
          0.18122554674263563,
          -0.7235894288501409,
          0.38067681393629943,
          7.226544609014925,
          3.401539713522083,
          -1.4159279091453274,
          -1.9127960305645086,
          -2.0174373591629937,
          -0.8956325749527941,
          -2.26034960431119,
          -1.9407337361195287,
          -1.4539395308420204,
          -1.9899331345222537,
          0.5563608894958337,
          1.365574127458926,
          -0.6778354788931381,
          1.487258627957039,
          -1.4237008451336226,
          -1.2748104198497474,
          -2.5524611671940205,
          -1.737566270810139,
          0.8903585804759279,
          -1.3514066895790282,
          3.6734951616390163,
          0.23893979548550845,
          -1.800938059715406,
          -0.693008274763072,
          -1.130234615338389,
          1.0424609969554555,
          -0.3854930285215829,
          0.4808026898470223,
          0.3696015150662256,
          -0.24312431299061077,
          -0.314298966613301,
          -2.1229905425409283,
          -1.7729246995643404,
          -1.617369675471303,
          0.23810845387496932,
          -0.48339166999374117,
          -1.727371155184972,
          -0.10198804553304588,
          0.5055144803084082,
          -0.7131430817527206,
          -0.8951228201123625,
          -1.0597890934720582,
          0.36743215471166984,
          -0.3275524799958191,
          -0.15392290335128933,
          -1.0079751959068322,
          1.3312267508392637,
          0.14879178398842216,
          2.5937576493924146,
          5.280198100270839,
          2.6125401236233903,
          -1.2429187294667845,
          2.883460748025333,
          -0.8454958932986617,
          2.1255631796368952,
          -1.2848447129982963,
          -2.3335290439494876,
          -2.387460845551279,
          0.47081022186238697,
          -1.8703654091300095,
          -2.604864563143927,
          -1.5249585479981829,
          -1.931135213046159,
          0.159259143113129,
          -0.33685427467473195,
          -1.7238132206500634,
          -0.1452317393293621,
          -1.1513324744387885,
          0.5329054203221855,
          -1.9612249102027295,
          -1.2399292163761062,
          -0.9213520425348989,
          -0.2934493481289024,
          -0.7878251517408985,
          -1.9817641589623987,
          -1.724485150394912,
          3.925517286069727,
          1.5942931299634626,
          3.1863353179970493,
          0.9775969311537835,
          3.5867432508255295,
          2.6477450497993646,
          5.270217759644975,
          -1.708248597738554,
          -2.199803980460223,
          -0.0657808177900515,
          -0.8368706284559645,
          -0.7854677175050879,
          -0.2091640274211793,
          -1.7085754585994846,
          -0.2091640274211793,
          -1.3997320777127076,
          -1.0909590554136068,
          4.169466471505727,
          -1.368463060362421,
          -1.9324283671873026,
          0.11061706995923708,
          -1.8318071541194556,
          -0.9598571387641562,
          -0.20192591787069666,
          -2.3224821040846515,
          1.2956242638589637,
          2.4399389680424717,
          -0.003429977050852233,
          1.968987870792328,
          -1.8110394558681615,
          -1.2760228016974002,
          1.751264609190849,
          0.04735484250803152,
          -1.4262864308855525,
          0.81192458679265,
          -0.3351614731377257,
          -0.288541914405858,
          -1.9135217129716575,
          -0.4450657468956594,
          -0.3898013592395622,
          -1.0965604946490672,
          2.863244558695548,
          -1.0064366536641491,
          -1.6679956265557851,
          5.037072097193789,
          2.307251668789425,
          0.9817234747421241,
          3.0232908871047828,
          4.117010734472987,
          4.113361444554919,
          -1.764088793306544,
          0.15200397301154542,
          1.0100574747776025,
          -0.0982682591865959,
          0.745467864964598,
          -0.07912913968776467,
          -0.5869929672815067,
          0.06137656758641573,
          -1.2493185544417902,
          -1.1625329569665994,
          -0.5446464357178689,
          -0.5257359411169916,
          -0.6973969041449729,
          -0.9719600477669016,
          -1.711392433741773,
          0.6626099536052523,
          0.37990667046114934,
          4.353172762386834,
          -1.7505111883218238,
          -2.6082819147952385,
          -0.7744430956484756,
          -0.2904984597290941,
          0.19347918400083947,
          -1.5005648417719335,
          -1.3802231760043537,
          -2.520149113309614,
          -0.674259069769009,
          -1.2280633296074608,
          0.4229742125954449,
          0.19347918400083947,
          -1.6139893679672446,
          0.24592070134157273,
          -0.9320241203449583,
          -2.0291882153646843,
          3.0861648235299475,
          3.289630235628956,
          -0.8430280926050706,
          -1.0191080260121559,
          -1.2581311719443393,
          -1.4293847145323808,
          -1.2280633296074608,
          -0.8918518314853063,
          -1.1625329569665994,
          0.33200940246639093,
          -1.4006157751179193,
          0.4749551626010546,
          -0.32853831112165593,
          1.2317234135229203,
          1.898235146478136,
          -0.827204473677135,
          -1.1182953375910352,
          -1.2140979999974293,
          1.4102809155728953,
          1.1162558244140968,
          -0.9625261685035083,
          -0.2277434288391778,
          4.820483671447011,
          2.8066726781677938,
          -0.8910597762575849,
          -1.4197100225439545,
          -0.637305362423107,
          2.6678110759629488,
          1.3709647550842843,
          -0.850992762037047,
          -1.1349369532310467,
          0.308313985762174,
          -1.4183221756409592,
          -1.1093252736015076,
          -0.7858824490959354,
          2.143356564904713,
          1.6998034813955676,
          -0.5767423202391107,
          1.1753290502836937,
          0.768324943791739,
          3.067247968624568,
          2.171382773188073,
          0.09109228763953289,
          0.1742419604951206,
          0.31907993640081084,
          0.5277083757468678,
          -1.5891418340117451,
          -1.8079063743752277,
          -3.0009494117128,
          -1.568343055410002,
          1.2531320966526103,
          0.48007880695773714,
          1.1470176346512213,
          -1.309517091738928,
          1.5929388159834188,
          1.071042013249129,
          -0.627779069207623,
          -0.7049891902633244,
          -0.3660994904340977,
          -0.48717640946067214,
          -0.7621598571323556,
          -0.09005428008473736,
          -0.14868520555969353,
          -0.25077834940821053,
          -0.7043224955062207,
          -2.109018269583259,
          -1.8793340708111221,
          -1.4483273104314514,
          -1.6855200932596475,
          -1.8814813682552238,
          -1.4090316369170177,
          -1.8761815210993205,
          -0.4113534767140586,
          -0.866203259858259,
          -1.5843624105760052,
          -2.44283475181261,
          -1.0024189493957567,
          -0.7470110613107886,
          -1.2099907754251182,
          0.8179688501593783,
          -0.3212642807458066,
          -1.1398522347318414,
          -0.8437018248035685,
          2.04225288520613,
          4.763938610263667,
          -0.8284168584098465,
          -0.6352570447275063,
          -0.8515059856345175,
          2.2461767341646826,
          -0.3982392926568268,
          0.6404987805565733,
          1.2643075804942325,
          5.199354627810798,
          1.858382900436078,
          0.7197917125418756,
          -1.8100918480866646,
          -0.05143589477032215,
          0.373892101955119,
          0.7611727109350787,
          0.8241113127768893,
          0.5550844565870765,
          0.7400410988074491,
          0.43047588600987846,
          -1.1913376013534454,
          -2.0196290838920694,
          -1.0362298519507231,
          -0.626685897596574,
          -1.7617435578112361,
          -1.9484506333422889,
          -1.0008080358122458,
          -1.9465609399407133,
          -2.476175635292687,
          -2.6575800924276174,
          -0.7988177186083197,
          -2.13236430571108,
          -2.5641686556704397,
          -2.1305638358695558,
          -1.0271095058981732,
          -2.2711827620735554,
          -2.995567970719322,
          -2.013777147378141,
          -1.5437600629004626,
          -0.5641657478210677,
          -1.953961590067143,
          0.13531177462094465,
          1.524083050884107,
          -0.38979132753570017,
          -2.1472490541110076,
          -1.7165767230653304,
          -1.7102416567782477,
          -0.29456810914750214,
          0.6183200167275019,
          1.105052316821271,
          0.013477089149459649,
          1.3552239026426254,
          -1.4987842085344658,
          -0.8367365709615178,
          -1.0892869241339949,
          -1.1815682360615878,
          -0.8359986265401654,
          1.8064229455207177,
          4.573522285535854,
          -2.3895472039585046,
          -0.8875625801717674,
          1.5623932472527697,
          1.612992140634688,
          2.3782870107067753,
          0.24814725641207536,
          0.8731453432239911,
          -1.7647645267425511,
          -0.13139150759423165,
          -1.6129773081287344,
          -0.5758965096135347,
          0.07342012773008964,
          5.948310252700203,
          -0.2603117476767173,
          2.343952977423161,
          -2.031774874687597,
          -1.342230834318822,
          0.525704994311737,
          0.22042439977145226,
          -1.4231533307505335,
          -1.9680325183749667,
          -2.490004187789633,
          -3.6403170139945424,
          -0.7100689834528836,
          0.18037744575466225,
          -2.730779239010128,
          0.6051493269356303,
          -2.0122268085743875,
          -2.988237786590676,
          -1.9881226567087906,
          -1.100181105675231,
          -1.6322560102481438,
          -1.5585212785368776,
          -1.2003769056176097,
          -1.1518035655172467,
          -1.5626575408762577,
          -0.7030185679656783,
          -1.5109878564250228,
          -2.0949762564053724,
          0.21820803727111548,
          0.28102092564734477,
          -1.5999015985109148,
          3.6364376718953975,
          4.3776345698127495,
          5.517832620777451,
          -0.15593220469833197,
          -2.7823545006812127,
          1.7058186045512964,
          -0.33256344644116015,
          -1.5606335978828205,
          -1.4666166729454664,
          -1.6720377493956846,
          5.050054496026233,
          -0.42113023519587156,
          -1.4156805781784711,
          -1.0310175317531443,
          -2.0594619338254336,
          -1.199312100251362,
          0.8418391167498275,
          0.5277083757468678,
          3.2000540604664534,
          -1.0918956593169167,
          -1.6640321370290692,
          -1.794037951933161,
          0.26759154444683053,
          -1.1761461616742417,
          -0.923660880093346,
          -0.7383878592737928,
          -0.7370115676562278,
          -1.7260061487881726,
          -0.827674982646757,
          -1.0981889258275173,
          -0.06860373314219005,
          -0.1984230049980878,
          -1.7252882884251954,
          1.902704125064272,
          -1.2041377469320016,
          -2.1467615740377157,
          0.5675226390225978,
          -2.737860585635959,
          -2.364673522999303,
          -1.5159051852544057,
          -1.1991820155424164,
          -0.23901879110390312,
          3.7555101009976464,
          -0.9172187524603767,
          -0.6027578678703409,
          4.365128553031851,
          1.357052659263262,
          1.0610805001881727,
          -1.0918956593169167,
          -1.0918956593169167,
          0.37990667046114934,
          1.050751777231068,
          -0.8347222062998053,
          -0.4362902449973904,
          1.8393460147500889,
          0.9749323262388528,
          3.5998474603595323,
          1.3878500421641182,
          1.8808998932641332,
          -0.24102161445379305,
          2.52428814184137,
          1.822645487978489,
          2.3824054687967284,
          2.7160711465674656,
          1.3400521098127465,
          2.0675085711906043,
          -1.3774147805614485,
          2.1169017128094163,
          0.4725370812856813,
          1.7005090330279224,
          1.0124138734776462,
          1.463848986140689,
          4.517415285770569,
          1.6062390664664319,
          1.5090985483914208,
          3.3281730713216473,
          -0.7586867391814037,
          -1.9710893785207475,
          -2.6279453478185104,
          -1.0959217221133746,
          -1.7330340393361592,
          -1.5509421569582797,
          -1.9153264230825722,
          3.286543067630075,
          -1.8853012598366528,
          4.031929446383439,
          1.0917032949632068,
          -2.0995891751226226,
          1.6077515138179583,
          -0.733899633149504,
          -2.329923166852293,
          -1.671499401380414,
          1.3227936929233737,
          3.2245788048711375,
          0.8493078136160166,
          -0.899105004116,
          -0.25963697831105437,
          2.487845989688512,
          -1.0057381074581446,
          3.7826527020996927,
          -1.9157679231230502,
          -2.002623395739879,
          -1.6696448272331241,
          0.35150546256900866,
          -2.4460483692044104,
          -1.761901935635352,
          -1.651777456767837,
          -1.623754762123405,
          0.8957766323986632,
          -1.8642286743270613,
          0.05337344824100025,
          -1.6425344618411397,
          1.3552239026426254,
          0.1462460887456564,
          5.85820972161687,
          3.718031260960793,
          4.993793590175096,
          1.8999455539621686,
          -0.8127854597663118,
          -0.9882751706880389,
          0.6321516301100989,
          0.013416667960794403,
          -1.2772504087424403,
          0.5751095293838544,
          1.8650579113699,
          4.510568593122151,
          -0.0844990555337579,
          -0.24164638031298002,
          -1.98306823106109,
          -1.8494850568377166,
          -2.5072492769425225,
          -0.31208753852228305,
          -0.1979951627638796,
          -1.9132406824951997,
          -0.46675708557075735,
          0.5301321114835897,
          2.805989237136698,
          0.6503978876248593,
          4.008015267389634,
          3.0007464182467136,
          0.30328525020158825,
          0.7826398955578474,
          -1.4792219052824103,
          -1.3563827742337005,
          -0.9660709260830546,
          -0.05259932417507994,
          -1.3776523091749264,
          -3.0725256635991225,
          -0.4751356317600315,
          -3.0267560599545056,
          -0.8325111872744684,
          1.7747900310136377,
          -1.0280691588067048
         ],
         "xaxis": "x",
         "y": [
          -0.011146290126837311,
          4.498483040491564,
          -1.2584950530912393,
          -0.9316902391794397,
          -0.9998605575699291,
          1.4491987952161378,
          -0.15349105666351354,
          -1.0976948285917132,
          -1.2029511963611803,
          -1.6720710185825884,
          0.6245816077119468,
          0.3542795183340935,
          0.6218862595041222,
          -0.7257260770647186,
          -1.7533744258913713,
          0.09456002264658198,
          -0.7607765416859077,
          0.09023324070523771,
          0.6354891072036852,
          0.954924729948276,
          -0.8173396601849963,
          -1.247097965100205,
          -1.0384504583107113,
          -1.8477530524364045,
          0.36640565879193127,
          -1.0939423326821573,
          -0.5130725914703931,
          0.19285191038163935,
          -0.4085058347890256,
          -0.40191277686913146,
          -0.5390360868356471,
          -0.5093297116410995,
          -1.5551823065201906,
          -0.32752024826157605,
          -0.11881659332814938,
          0.6359085300784744,
          -0.5876810821821696,
          -1.6234813101233785,
          0.9261554472362553,
          -0.002583714634436639,
          0.9482384115361069,
          -0.43252723603061444,
          -1.0477234546789769,
          -0.5884127949167692,
          0.10962376719395184,
          -0.17631562638303266,
          -2.2313108525205085,
          0.34217595688040575,
          -0.13393724871445112,
          1.8282937839210918,
          -1.5586608599510205,
          0.3941377070229488,
          -0.16899555980658879,
          0.6402870848131625,
          0.7535261568595867,
          -1.0071979202008665,
          1.2513815447321512,
          0.7283795254050511,
          -0.3155870920706896,
          -0.374308427738132,
          0.6971582660739046,
          0.490781502284657,
          -1.449631329393614,
          1.4022237154782595,
          3.1825154078065694,
          -0.13343620635137837,
          0.7231412843907824,
          2.435673232412777,
          -0.6624452959667891,
          0.8828610649268577,
          -0.4539974243368452,
          1.289565202694547,
          0.7021569500086096,
          -0.032120349417966085,
          0.15589311833335437,
          0.04483740558802042,
          0.7644853720457759,
          -1.8700830086717861,
          1.9424014130733889,
          -0.5355532328520258,
          -0.7101916522494105,
          0.6821340814378486,
          1.5096042889137369,
          1.0677125248492505,
          -0.20319345565049846,
          1.9000703759917164,
          -0.9569272319374186,
          1.795794818149854,
          -0.504551281683532,
          -3.0351142354928835,
          1.1858743295178096,
          0.8760206158908884,
          1.0658710831443392,
          0.8982598530428694,
          -0.10984688935739194,
          0.7719022721632358,
          1.1990816803218634,
          -0.05275616015040037,
          -1.8569894900465864,
          -0.32643552532892317,
          -1.6939481840668291,
          -0.10438796376462373,
          -0.14531043781235045,
          -0.49969689446459176,
          0.3260647888357258,
          0.5077876996618738,
          -0.05048147181216607,
          0.474696659825564,
          -0.3879735524806088,
          0.9981145621078837,
          -0.06458868577411123,
          -0.16680607960513702,
          0.6183612930258748,
          0.34667897728900193,
          -0.8498816694047476,
          0.0282853545309422,
          -0.4309880876226717,
          0.9716433758065645,
          -1.0005494442087879,
          0.566529012538559,
          1.1465811195268047,
          1.3964744337563093,
          0.4331926430237988,
          0.09286868670805237,
          0.2827170296635827,
          -0.4675119546435373,
          0.3005906656279966,
          -0.2568312192639073,
          -0.7082299299146108,
          1.9653556872423241,
          0.5402660920588437,
          -0.47330522451281287,
          -0.45905707493854747,
          0.17712840735323593,
          1.3226057430132439,
          -0.18364572119185055,
          0.5715418725763933,
          3.1825154078065694,
          -0.22520769265870422,
          3.3372777729058347,
          -1.1787016560533652,
          3.3372777729058347,
          0.8919286352285114,
          -1.662122934101513,
          0.9126518916872768,
          0.04544220504715479,
          0.1579909091453428,
          -0.38811167466529084,
          0.7693841067862373,
          0.31652003537511153,
          1.5899977353431425,
          -1.9047868000468353,
          -0.9570850389300067,
          0.2230345128472678,
          2.105384987244785,
          -0.6995465461225031,
          0.7111076327776111,
          1.0092401714194656,
          0.3238118826696513,
          -0.1631943487323813,
          1.0404375904923158,
          0.6564793989659179,
          0.3951741514894227,
          1.2410104338213173,
          0.3769590932264045,
          2.4618886452370683,
          1.2357005578886244,
          0.2634743406935141,
          -0.3149803062308341,
          0.5105081730241818,
          1.1597876950391857,
          -0.1586470540727837,
          0.2960584459910418,
          0.08484118937578834,
          -0.7467089182464827,
          2.2114132179374653,
          0.08320541248182436,
          -1.0443441784920764,
          0.1912344681748668,
          0.6089226265344261,
          0.778995261963899,
          0.952372391594474,
          1.029639140542471,
          -0.36267015960539084,
          -0.9711390263760821,
          -2.6424864233452525,
          3.1033319622259303,
          0.21619308773179624,
          0.014957619740982501,
          3.919038472857352,
          -0.572314827397021,
          -0.998645255299981,
          -0.9516486023188455,
          -0.6906988660514818,
          -1.1840841818426204,
          -1.3006189908905712,
          0.5947979963623302,
          0.0805416263861421,
          -1.8790387512323283,
          -0.33885212574192125,
          -1.6309491743985576,
          -1.0941715165686359,
          -2.446461747927904,
          -1.1407059930266272,
          -1.8453286786660454,
          0.6507379346285472,
          -0.47118087570081385,
          1.0197325913084763,
          -0.2733651563736495,
          0.017367780195289142,
          0.774417891072697,
          -1.1653490752846094,
          1.5829275370760427,
          -1.28455304019264,
          -1.3462327707720623,
          -1.192458691217074,
          -2.3552209829195054,
          -1.6350920282524621,
          -0.7943134394819978,
          -1.5948015187911337,
          -1.0367744163767723,
          0.23834202586569744,
          -0.9150329918104022,
          -1.679114364382905,
          -1.114008183778776,
          -0.42641535088459553,
          0.19720315170070782,
          -0.7675781583836241,
          -0.6634064026910745,
          0.018494863427145694,
          0.03239395742923752,
          0.5429849610833346,
          -0.5502293308844928,
          -2.5877559470825213,
          0.07003755588593394,
          0.7387646468178307,
          0.8517448089595095,
          -1.0045392123559618,
          0.022744918930614658,
          1.10288400702361,
          -0.9711482695074409,
          -0.5747759434969251,
          -0.7041665708533925,
          -1.2590290776964945,
          0.5110837248386957,
          -0.4473929302746735,
          -0.7770987572885025,
          -1.5128098061317286,
          -0.010119072281300195,
          -2.656517044283674,
          -1.8578537653499754,
          0.029678348751539976,
          -0.488117660084049,
          -0.46263501008076713,
          -0.6323213193002043,
          0.8689648267049044,
          3.2404775080304815,
          3.2404775080304815,
          0.023892287317259113,
          0.6703963948147021,
          0.7996627431599381,
          0.5833737164149381,
          -0.11689578549235309,
          0.7123683209024269,
          1.531094807331244,
          -1.6069800221607178,
          1.8559942570662016,
          0.0443753998039561,
          1.2105451052359553,
          -0.6133121765032513,
          1.0809283795560078,
          -0.21205336988886198,
          -1.1818910023338265,
          -0.7775444494726278,
          -0.6234088227383785,
          0.5694778943370137,
          1.717518937021367,
          -1.0189490622171744,
          -1.1180976339575928,
          0.5457794249420244,
          -1.2203204394225373,
          0.8906898331423548,
          0.9608276029308997,
          -1.2672613034227584,
          1.683578422293863,
          -0.704716660782513,
          -0.6445389710374164,
          1.7118067203121332,
          2.0700335917909687,
          3.77409535003242,
          -2.5264020438824093,
          3.027705154585709,
          0.7863022708009456,
          2.8536627519810067,
          3.77409535003242,
          2.0513570557630834,
          1.4012277428553153,
          -0.9266969511957166,
          -0.6326476919953281,
          -1.1279563071617364,
          -1.1810383810275704,
          1.957537768774422,
          1.997968362379854,
          0.06784792539786955,
          0.5362425827548236,
          -1.4777415250203838,
          -1.977790167123198,
          -1.1096645491064108,
          -0.7895282956595066,
          -1.4068333771286496,
          -0.8359585182991385,
          -1.5475653090429262,
          -1.2046762480700786,
          -1.6143833336086184,
          -0.5314998546403762,
          0.18027712010472016,
          -0.7320794166920316,
          -0.035066869396599254,
          1.980774236171033,
          0.42232942329203726,
          0.28360676072867225,
          -0.6255932639365501,
          0.7112353207108681,
          -1.1077101885611673,
          0.4882490801131092,
          -0.2279573044765738,
          0.19717824977674564,
          0.3150319980462732,
          -1.2672613034227584,
          1.1177165541627094,
          -0.44571727774836156,
          -0.8138693535483406,
          0.31786427908999465,
          -1.1464663024558033,
          -0.17714161009327398,
          0.3484442111053246,
          2.4064049724463348,
          -0.000352521777648812,
          1.8873203415832391,
          -1.372520416454843,
          -1.26576883775367,
          -0.6949733179444122,
          1.8873203415832391,
          -0.8101213187323039,
          -2.9183415164682933,
          -0.9151402576715632,
          -0.9894869373615498,
          -0.2992327208272383,
          0.47601987186310313,
          -1.5094498562717849,
          1.8873203415832391,
          1.1113603909961727,
          -0.37497601475157905,
          -1.2545771481813974,
          0.9048464943469055,
          0.14491983213610676,
          -1.0798413560153624,
          0.8958070512138174,
          2.0607557633872813,
          1.3380694906666408,
          -0.792785079934494,
          0.7801239402947796,
          2.3890026316786557,
          0.010923878415339254,
          -2.701162881091397,
          0.3071600666562902,
          0.406017772107362,
          -1.7931461706698122,
          0.6582528726690465,
          -1.5634644260717738,
          2.4150542414887295,
          0.5843336029259852,
          -0.6038418556220811,
          2.2825376777124333,
          0.534822832872085,
          0.44349978495396125,
          -0.6515118089357839,
          1.053350465893429,
          -0.05684593511018061,
          0.7667072369067015,
          1.9924299245585135,
          1.6650019235102982,
          0.09891338575272624,
          -0.2103044597197802,
          1.4049591878689283,
          0.6572987131801565,
          -0.7572609888099899,
          -0.4289788550163648,
          -1.1663827255438897,
          -1.037573785781159,
          0.31776025996952484,
          1.1770272825990231,
          2.5220133022988414,
          -0.35565697175471667,
          1.273915947111195,
          0.12552664107296535,
          -0.04443688853521065,
          -0.9598826795695836,
          -0.9994617694103782,
          -0.17192238560156187,
          2.082504766964752,
          9.80861566527573,
          -1.9109995363880035,
          -1.59534488535046,
          -0.20772046078352366,
          0.38379843657746754,
          -1.6622338726879518,
          -0.5449138158014969,
          0.39260421140155477,
          -1.0816366373679958,
          0.25331032353655114,
          -2.3938747210539666,
          -0.4715012759360983,
          -0.17561167281721626,
          0.7451440430086373,
          -1.6873495018786027,
          -0.20380451675242567,
          -0.67724953157861,
          0.4515441159027995,
          -0.4727486064660528,
          -2.6124788945229893,
          -0.5263262266185564,
          0.8079535533547786,
          0.11383168486563572,
          -0.8406691236039834,
          -0.0766297511013735,
          -0.513263948108014,
          -0.5820581328286725,
          1.4966189151479767,
          0.2159129418191772,
          0.8749333087385149,
          -0.4958347243325869,
          1.2667969389178966,
          -0.6352214968617751,
          1.7116862484490687,
          -0.05981311705813562,
          -0.6497724736162251,
          -0.6584021042342891,
          -0.11984531532774016,
          -0.6498927216938658,
          1.6583247694069454,
          2.0021393264062275,
          0.10467094944933993,
          0.12593071239530815,
          0.9211842808505345,
          1.156698588087623,
          4.137971827721914,
          0.45103399100913144,
          0.7392753979079736,
          0.7802223761612891,
          -2.0010115300907616,
          -0.54624243858256,
          1.288691307268393,
          -0.4138934852797077,
          0.5142060333389623,
          -0.19834002790450297,
          -1.1325191168425943,
          1.0888335146592303,
          -0.8852774981108643,
          -0.2595736667103215,
          -0.33655960124603657,
          -1.4383020605948784,
          -0.8553689297851294,
          2.0374156634903478,
          -1.0849805099308176,
          -2.6249725104295623,
          -0.29118493718810035,
          -0.940677182719692,
          -0.861963872730564,
          -0.7446552433346874,
          -1.5806404300447368,
          -0.24540199652619996,
          0.16613234798095688,
          0.25522346651493033,
          0.8974807722274422,
          0.6208671719375641,
          0.28059253069266493,
          -0.6340873085014049,
          1.0661851762831844,
          1.5503964871266365,
          -0.7612398420860205,
          -0.06922749235527019,
          -2.1577156365998027,
          2.1872713095154053,
          -1.3215548520622198,
          0.7356238326523764,
          0.7673642510824797,
          -0.06979929244775311,
          0.4886676650433264,
          0.2669812198875733,
          0.7328123563979637,
          0.5861214875061482,
          -0.9953858151396137,
          -0.177595225205633,
          -0.6764116893753331,
          -1.2989213224117346,
          0.8921496309187857,
          -2.2675364797362816,
          -0.6406026434243585,
          0.08160718107043562,
          0.7976536903440812,
          -2.5319163057702254,
          -1.0799014176355528,
          -0.19615586969321716,
          1.138417032076642,
          0.28707549080251643,
          0.4226851034531937,
          1.5804058973004564,
          0.7663364597659549,
          -0.6146786963745715,
          -1.1175193421862717,
          0.6785761172927732,
          -1.1806363394390738,
          -1.2359788765089272,
          -0.31955324249624734,
          -0.3744071069079078,
          -1.8640708749147743,
          -1.777328743654025,
          -1.9813608548146424,
          0.25707335983407725,
          -0.6155426574374848,
          0.2429255993826845,
          -1.161632422408496,
          1.8958622798558848,
          -0.33566063651685035,
          -1.0694624857178285,
          1.751315852076815,
          -2.436794523799686,
          -0.7722764505011082,
          -1.1810989500449784,
          1.9317052289038286,
          0.5716358610330168,
          -0.4666957497790963,
          0.7085487574433782,
          0.2816180026787679,
          0.3907796891399657,
          1.866457264485948,
          1.257051539574471,
          -0.02598992779726501,
          0.08292369316001577,
          2.2125582507039807,
          0.3250617645608796,
          -1.1703087112108739,
          0.2742683209909582,
          0.7085487574433782,
          1.1437392895821465,
          1.3752645944313266,
          -0.5836498678916604,
          0.1982321423674642,
          -1.6148947810199683,
          1.0620864810567907,
          -0.9361637998069924,
          -0.02286677611898232,
          0.661353791307606,
          0.3853063184308332,
          1.2299781646382002,
          -0.07782348751577063,
          -0.1592364575513684,
          0.46279131029196063,
          0.8672704536836464,
          1.5854835718191542,
          0.7367549070529665,
          0.7140682739125984,
          0.9688369678118397,
          0.2512680239153464,
          0.513203911765997,
          0.8372222203501756,
          -0.3573670748157805,
          0.7717816493277077,
          -0.6074502986415897,
          -0.26946117978951106,
          -0.8556227790287828,
          -1.1068158657389333,
          0.18685711887943993,
          0.6816277954199094,
          0.9788842536594282,
          0.45208387285022267,
          -0.7983021441809088,
          -0.1338552566481345,
          -1.3796314186286835,
          -0.21078138640283464,
          -0.9811799170595047,
          -1.3319948163180773,
          -0.19328093980774874,
          -0.2770836557895594,
          -1.97837752715646,
          -1.3738927533892649,
          -1.2024447361796144,
          -1.3080694576617184,
          1.7650475397544365,
          -1.1229156368814144,
          -2.730925832158357,
          -0.8706224842112611,
          -0.5243173469086162,
          -1.1097479863616215,
          -1.2308039831949413,
          1.1494624022273858,
          1.964197765747753,
          2.17852938231897,
          -2.8135610607731683,
          -0.4446860762774498,
          -1.3634716348410465,
          -0.6220149462494245,
          1.0416800370699903,
          -0.39521771665801364,
          -0.19449469553583396,
          -0.38526083549146667,
          -0.06318642030526854,
          -0.0679398891286027,
          0.04752527244375392,
          -1.288014937405109,
          -0.4742245086831726,
          -1.3815311599721694,
          -1.4991282734577713,
          0.10597497457687967,
          1.2977230389711865,
          -1.4864565185646006,
          -0.04309271241806911,
          -2.3328311797700807,
          0.9425352116267035,
          -0.9782852103707472,
          -0.8375933378434258,
          0.24182119457517623,
          -0.849007708129124,
          0.0673753083103311,
          -1.1745357862551646,
          -0.627131539281853,
          -0.5770669957486669,
          -1.3448712697469156,
          0.2319654410246681,
          0.8445197390903286,
          -0.40290098978721084,
          -0.005736214361121795,
          0.4499143340358783,
          0.6750056141422749,
          0.2826921428424705,
          1.2696072180370326,
          -0.48718018052215817,
          0.6108104896236425,
          -0.4948587314914055,
          0.11817817238235209,
          0.7334875142917949,
          -0.5180917961506729,
          0.1810641604085734,
          0.7146230917208701,
          0.742899797162832,
          0.5593656303835184,
          0.48490533108279,
          -1.017125998370759,
          0.3878104905547147,
          1.6226377843395536,
          -0.17809704794335332,
          -0.12476503646774557,
          -0.2961779604109389,
          -0.27379892263626987,
          -0.9268841480713088,
          -2.0380101122305097,
          1.4506337137912302,
          -2.057908520167526,
          0.033027310562332594,
          -0.6887356962529713,
          -0.5190815328898691,
          -0.7472663186110892,
          -0.868239020690785,
          -0.23433916561784016,
          -1.4053392824480064,
          -1.2981861098400045,
          -1.1127467506287017,
          -0.9768526143068388,
          0.6741636247927196,
          -0.9814765781247008,
          1.0934127148953252,
          1.1383910108144284,
          0.06965396958829498,
          1.995980106755605,
          0.975512254160236,
          0.6623848700199362,
          -0.8861233320777905,
          0.7021569500086096,
          0.7363870858767193,
          0.23300896490671388,
          0.1553283747858484,
          -0.7151335683911944,
          0.4534623044762491,
          0.5953873912830473,
          -0.12083862405770009,
          -0.7904677532103936,
          0.7442943549477196,
          -0.5173945461923822,
          -1.3671815537397127,
          -2.1647606862810402,
          2.406575770189164,
          -1.249114229575498,
          -1.7138057454863562,
          -1.119985471925669,
          1.6019710557732254,
          -0.729805234506002,
          2.6962725990358947,
          -0.35149643953172416,
          -1.702470907429885,
          -2.6028083441033245,
          -0.0018618573810365265,
          -1.6785787472575249,
          0.1710084301558444,
          -0.266448651120013,
          0.07288441826828591,
          -0.514806139108121,
          -3.6521473312229453,
          -1.5229955970088436,
          -0.3615044442366976,
          0.33209914601968665,
          0.06386128061296983,
          -0.06798773550580736,
          -0.06798773550580736,
          1.6600878927881146,
          -0.5499230709138965,
          1.1657589760111862,
          -0.5731714708818086,
          -1.6661836834923438,
          -1.4165624627850604,
          -1.4308328180936025,
          -1.1943971753589002,
          -1.4274095208739301,
          -1.1511209970770275,
          -1.4869190971071515,
          -1.5228713473950553,
          -1.4516382091534263,
          0.17590165038654798,
          -1.2007541057312017,
          -1.1574513304114806,
          -0.8775905383634247,
          -0.5753777267466721,
          -2.047746694373261,
          -1.2612019677118755,
          -1.6578915972040582,
          -0.9738377876979656,
          -1.3021828325620102,
          2.030428652041022,
          0.7354293886633775,
          -1.4150905188259995,
          0.554564488319788,
          0.49610856408441717,
          -1.4305639637987144,
          1.6075802808416413,
          -0.8012284798287502,
          0.6747351899313656,
          0.12194654885890083,
          -0.09902124256603641,
          -0.06924925887922993,
          0.6715536596689564,
          -1.196864907915019,
          2.17852938231897,
          0.7120396547541782,
          1.071911729382902,
          1.147852074059683,
          0.6481283190597539,
          -0.5960966025054136,
          0.22109387579756842,
          1.9766866328626036,
          0.0667644971130566,
          0.9143713972797991,
          2.846770826534305,
          0.14701877091227095,
          1.2816469698098107,
          2.846770826534305,
          -1.9407940206375347,
          0.04594027856044183,
          -2.106243615014699,
          -0.7473077818497,
          0.3813305370708738,
          1.1563480223931926,
          0.09832857235024728,
          1.3195450645550728,
          0.6838502211063019,
          0.928632715023906,
          1.2197449477602884,
          1.1812618877138952,
          -0.24626779839357485,
          1.0543507232367997,
          1.6346249482684663,
          1.1208526375187826,
          1.1665004006106907,
          0.3592048896803252,
          2.936844439574076,
          2.3594110153431456,
          1.5909270645632667,
          -0.21910571865284997,
          2.2780569687552243,
          2.621518835986778,
          1.5149446421866528,
          2.152115466847553,
          0.35273715504116665,
          -1.5239595469806992,
          0.8283125934152263,
          1.4516358923430004,
          -0.072050214154227,
          -1.1760735761202987,
          -3.1982178651251525,
          -0.8201818438122788,
          0.6486029919662009,
          -1.8391905524002892,
          -0.2958332784407934,
          -0.08593625358312432,
          2.1616477161589445,
          -1.5566511731330523,
          -0.1914810210768557,
          -0.7299870431004368,
          -0.7726676252422144,
          -0.8789815373159114,
          2.5965949403301276,
          -0.9684721849669063,
          -0.012415922773778816,
          2.7776317992507504,
          0.008146240049377687,
          -0.12915323542917892,
          0.6678652880289562,
          -1.5107021703796677,
          3.073149355538062,
          -1.44386104160653,
          -0.5025097048772087,
          1.3242077355585793,
          0.5827095805282637,
          -2.1973568753736124,
          -0.14753873569748202,
          -0.4880953525546368,
          -1.345008394361271,
          0.32685326130839154,
          0.845924923817454,
          2.2524644820303727,
          3.3049931546089666,
          0.0383952473957107,
          0.9816545686601136,
          -1.7461053753967284,
          -1.4139744288995375,
          0.10598670322736936,
          -1.1229631780375917,
          1.3844106892201413,
          -0.1616719729889319,
          -2.254469623879271,
          -0.6869253409334408,
          0.7902407593582335,
          -0.1497373230885019,
          2.028445670364844,
          1.0809283795560078,
          0.25328243485601903,
          -0.13986980407638502,
          1.5193532518079977,
          -1.5507576235702518,
          -0.8088935101256374,
          0.15044670458467577,
          -0.0450023401891365,
          0.18720132576081358,
          1.2968594264079605,
          -0.4626240158170952,
          1.098818071185382,
          -0.42462718617278644,
          -0.81856060531747,
          1.1197926281004693,
          -0.6119842950529689,
          0.29474561896679646,
          1.4551038711161737,
          -0.41001794748550635,
          0.5691942254362584,
          -2.5905991500480092,
          -0.18202951374808674,
          -0.8607013036745877,
          -2.2960756072603288,
          1.316707646587877,
          -0.27251690398116724,
          -0.5566738862996092,
          -0.7152170885868936,
          -0.7028362760612324,
          0.06303033231618527,
          -0.9902208730061529,
          0.019724106704533347,
          -1.560139230215975,
          1.2645522348952913,
          1.7383022229355811,
          -0.24957322851933997,
          -1.0702528843505634,
          -1.2844295150086964,
          -1.2464356433071062,
          2.29932998629823,
          1.1641245992756268,
          0.7015448503931633,
          -1.5291054878331571,
          1.2451125043197129,
          1.2631399169680395,
          2.2103714360060223,
          0.8690317957680905,
          1.7953295321679112,
          -0.22799795098332495,
          1.0354966936301473,
          1.7471850168622942,
          0.6393512413681031,
          2.7322746057581946,
          1.938569561698776,
          -1.4797811365083349,
          2.6268932317138973,
          -0.9871339708869458,
          1.5030130287038088,
          1.052979451387712,
          1.2377964378668729,
          1.3964744337563093,
          -0.4050203930043849,
          -0.9982484808587249,
          -1.54688374397676,
          3.1825154078065694,
          -1.541263478536001,
          0.8001407315361063,
          1.6262958353849488,
          -3.4389885917616625,
          0.5753938621894766,
          2.212216389478996,
          2.4836772733523094,
          0.5885938945441725,
          -4.12118339270244,
          -1.394032583859865,
          0.7540240214844219,
          -0.9321725445352352,
          3.028110069143303,
          2.288113163027968,
          -0.40786311925112406,
          1.118236966044163,
          -1.3045923139922488,
          -1.0114715054304548,
          1.455099821703747,
          -0.1164031822367624,
          -2.4161106590600308,
          -1.9796288927708707,
          0.1621336129995403,
          -0.4682875272625674,
          0.5913167294180879,
          -0.3108898220591127,
          -2.520090736976854,
          -0.0943154244917956,
          -0.13783072116580242,
          0.644405198842406,
          -1.1620644660524573,
          -0.5610637779327735,
          0.23168889026858722,
          -0.5581193468046404,
          0.21538909230151138,
          0.38654712958519993,
          0.9889416595795347,
          0.7515095953074604,
          -0.2332940537339519,
          -1.2297478871028953,
          0.8201643769410957,
          -0.1588204344203924,
          -0.7565388853115648,
          -2.1120286151716177,
          1.840536966980784,
          0.5764743024800917,
          -0.6914969477991693,
          -0.315770705867424,
          -0.8810996699177881,
          0.802147079884858,
          0.19347997695701208,
          -0.42601966535243685,
          -0.5943416563048227,
          1.4291872876100347,
          -0.1640924591100453,
          0.8120993643015377,
          -1.5026498422538541,
          2.598779509754676,
          0.5293587436794326,
          0.7783608326259283,
          0.6238136690580963,
          -0.121919491935038,
          0.2679161610638095,
          0.4237906487477494,
          1.0686408169382267,
          1.4026574288018125,
          1.3879816561431066,
          -0.21462188479536673,
          1.532082671859612,
          -0.6503647631977179,
          1.3022033030346354,
          -1.3393116405859729,
          0.09681015173227518,
          -1.3155880062177099,
          3.283644768298984,
          2.7994210517958256,
          1.3470804164822927,
          -0.18101845690862148,
          -0.17543690178552346,
          0.6064345226532695,
          2.7776317992507504,
          -1.8230617493286383,
          0.1305772910259815,
          1.2313845008696043,
          0.34660452160359395,
          -0.09832938999495326,
          -0.09436777659232023,
          -1.8418970721984356,
          0.5570265612360495,
          0.3387411601865436,
          1.0151455031556067,
          0.7643506416929179,
          0.08291424450270636,
          -0.10603512351487018,
          -0.04999871550889046,
          -0.8471965335775002,
          -0.7625426989529568,
          0.4494971789327846,
          1.1125741175253319,
          0.6084618967296136,
          -1.2541278438638646,
          -0.6314035129261435,
          1.2962849057650554,
          0.24621207217737978,
          0.05394140392633097,
          1.495655414498421,
          1.7899910019342147,
          0.4706658161331847,
          0.5196573621206022,
          -0.09702344877197888,
          -1.6289827036759421,
          -0.14762103535583315,
          -1.0538483392871894,
          2.57547389731014,
          0.32698270084520176,
          -1.058483553091862,
          0.28102921468649206,
          1.479534626380901,
          0.8726252657977629,
          0.019121467791151883,
          0.8287698711128367,
          1.1378368096175646,
          0.2635445790926979,
          2.2707965426279655,
          1.307720619909267,
          0.8185767880870096,
          0.6650768549335141,
          1.7874380723812997,
          2.06640513072369,
          -0.3463926836305238,
          -0.8577415633782132,
          -0.34664296939333283,
          -1.092281704365103,
          -1.3118166173906158,
          0.8976326080505279,
          2.538527767313554,
          -1.1870387717949222,
          2.7869826184936795,
          0.25451437231873536,
          0.3893614766752102,
          -1.1071412055199314,
          1.610770507487819,
          -1.1739525088554257,
          -2.061682013256679,
          -2.805394596387123,
          -0.8831663371685438,
          -2.0633678994235813,
          -1.7987616717190222,
          -0.4207314753269928,
          -0.6148024213290759,
          2.2743934499220537,
          0.18599348650960013,
          -0.5898593904191526,
          -1.2018199465962676,
          -0.11050871698376384,
          -0.5749320975573894,
          -0.6406026434243585,
          -1.3543005202399927,
          -1.5725660924038984,
          -0.6421207488010698,
          -1.7657936503406542,
          -1.4009596285162997,
          -0.5103533356941505,
          0.31366695973060876,
          0.10148720546280275,
          -2.227761661146168,
          -2.1663989305907494,
          0.9798370766144151,
          1.2933397156417719,
          -0.18737478514680855,
          0.354371994978873,
          -0.4940457410139034,
          0.4082024146126581,
          0.07545889725108053,
          -0.02009748944254474,
          -0.5232755081075566,
          -1.115184570111138,
          -0.03524547218807927,
          -1.7256356053318431,
          2.565355550971345,
          3.785598078144558,
          -0.5196969124319176,
          2.0225229491030925,
          -0.3273361120999701,
          0.902094411364334,
          -0.9310219539819868,
          2.565355550971345,
          -0.9971014093097119,
          -0.2976292993379716,
          0.3241034095638724,
          -0.397296582743529,
          -0.29185280304219297,
          1.2589704060075424,
          -1.1152716845022301,
          -0.6068327709989859,
          -0.019608718525089396,
          1.857689027053374,
          -0.44601320040822523,
          -0.08888667464900943,
          1.222626739178824,
          1.3180419447934517,
          2.834779660631972,
          -1.688173910305743,
          0.8702582499121535,
          -0.6016329590871616,
          -1.6520216682288362,
          -0.674217291375363,
          -0.16801077379187074,
          0.6829368856863959,
          1.016614142088531,
          -1.1573513700831812,
          -0.9920311725425562,
          -0.3094075954101749,
          0.2731435477189456,
          0.015838701558668292,
          0.7240235934694058,
          0.8707080592041293,
          0.21601977979558148,
          0.41830866017892526,
          -0.7748456390260187,
          1.6700907754335637,
          0.21471234273481937,
          -1.1733447838065723,
          1.070746086260489,
          -0.5757347764161587,
          2.7914806372152214,
          0.807348422048243,
          -1.0511858033336952,
          -1.1638906002201006,
          -0.9323783000383202,
          1.4338452229528462,
          1.5482517667523998,
          -0.8243053696849225,
          -0.21727761748932642,
          0.7408819707686066,
          0.776644487475569,
          1.246607452225628,
          0.7996077501042749,
          0.7098984500909362,
          0.15738238233609014,
          0.8291981600164979,
          0.4115211848400125,
          0.18507012194702083,
          -1.0699889202336406,
          0.5477835991559182,
          1.0667926679701139,
          -0.8775491680441344,
          -0.4112771774398293,
          0.09562702241928944,
          0.07627133581847226,
          -0.4121154042046852,
          1.265137659542959,
          1.1350518360935844,
          -0.06337771493282851,
          -0.4354620140625647,
          0.719678754934271,
          -4.402578912524511,
          1.9687208683682582,
          0.6555126013851308,
          -0.05604008805532036,
          0.36014843924403306,
          -0.3393310530515658,
          -0.05618864061893803,
          -0.7620360756541494,
          2.2765844364760195,
          -0.18097852487375807,
          0.04741030706685798,
          0.9977781862138999,
          -0.10368604875802834,
          0.08477651925557846,
          0.8612425944740161,
          0.7906107892066164,
          2.222153168898029,
          0.9271137572827912,
          -0.9330765738278034,
          -0.8988029806520083,
          -2.3137946958989386,
          -1.262031299788924,
          1.531094807331244,
          -0.46980024727535363,
          0.8215286852076,
          0.7262953082237057,
          0.347460886918212,
          0.19331601407252327,
          1.4030209257013262,
          1.413647275085941,
          1.4846899884981701,
          -0.3107178863439598,
          -0.10512270723039718,
          2.788588196063787,
          0.6942665279067792,
          -1.6221205168196648,
          -1.5358891258969687,
          -5.390230091324064,
          -0.053827145838090784,
          -0.28986654175936283,
          -1.260382298976923,
          -0.7803224545641348,
          1.505149577031157,
          0.5803112501176,
          2.0866649366493606,
          -0.18161001740644378,
          -0.6501600677716776,
          2.800508129550582,
          2.010684631814511,
          1.026192975704619,
          0.8826209995591461,
          1.4018861885732614,
          -0.1621962289177559,
          0.25599546097227854,
          0.8691497060902622,
          -1.5011848488732085,
          -0.3200597277327458,
          -1.2944994042026086,
          -0.5456178840144849,
          1.888824320869665,
          -0.5729396178889002,
          -1.4908371626662926,
          -2.1898217107727236,
          -0.6979816378653573,
          -0.23905295474811747,
          2.4092943529985376,
          0.9257675849876836,
          1.5566745603483736,
          -1.0069374967242866,
          1.0084966732206215,
          0.9323963957092416,
          -1.0527303276752762,
          -1.237306474288755,
          -1.0619565111290659,
          -0.5555449222733245,
          0.9788842536594282,
          1.0408259298766813,
          -2.842826397149818,
          0.5180488529611329,
          -1.6905110652741484,
          -0.3262885111416961,
          -2.1300316136128123,
          -1.1278168907276243,
          -1.281563485961717,
          2.4684970360729137,
          1.083858335805404,
          -3.1349782903343018,
          -1.6413306810627066,
          -0.4525027847066114,
          -1.9522743211029792,
          0.483622910751924,
          -1.4563425687414504,
          -0.10987314385040922,
          0.6158576137099443,
          -0.5868950184257288,
          0.5769079407121196,
          0.9088328834540186,
          0.9740543609654231,
          1.405540222780348,
          -0.4515041144129973,
          0.8918181728173388,
          0.8975360796648431,
          -0.6621999979037569,
          0.9635875557455906,
          -1.2252005169240754,
          0.8707039875644587,
          0.8253771930222064,
          1.056142692615076,
          -0.9405407931339675,
          -1.8287828386842493,
          -1.3540124493050334,
          -1.6069800221607178,
          0.3460117677467269,
          -0.48224370036169856,
          -1.0797421576520227,
          2.049442378801741,
          -0.6863589864441031,
          -1.2312058155561432,
          -0.4408077734631677,
          1.9103928827399108,
          0.03270583740353395,
          -0.20996796039133453,
          -0.6289580764774891,
          0.5105359440905871,
          -0.9591936739663568,
          -0.6258817633061453,
          0.06520142346467156,
          -1.7822998845983444,
          -0.8405755615134183,
          -0.6824369774306478,
          -0.30506673575070437,
          -0.6683855409374232,
          -1.2952094103434595,
          4.826559931350397,
          -0.3360372733285939,
          0.5404265351754663,
          -0.12259444631687337,
          0.40405031095811333,
          -0.43068633033444687,
          -0.24231908854980716,
          -3.7463039154988524,
          0.39035402921084567,
          -0.35595835639309015,
          0.06001886261222178,
          -0.8933600247286092,
          -0.8933600247286092,
          -2.0865163953577004,
          -1.7010795872307312,
          0.2606769403008051,
          1.0922593933929894,
          1.2345506751356516,
          -0.48824078778518654,
          0.45241863132259746,
          -0.8399721363552457,
          -1.5610763688475184,
          -0.5750562636036245,
          -0.8381301731828599,
          -2.730925832158357,
          0.7874939756284246,
          0.49119509274401024,
          0.37744873752102065,
          -0.9967827441174377,
          1.2010413815187775,
          -1.6818591537754257,
          -1.4601155094271965,
          -1.4601155094271965,
          1.2010413815187775,
          1.067042847919904,
          -0.4567946599848647,
          -1.224537885100146,
          0.6475400473459417,
          1.7194337387580478,
          0.4721520501796592,
          0.13514671558855126,
          -0.2806337788637838,
          -0.3541260846265653,
          1.0318573930800434,
          1.7208456743530585,
          1.3009344093014263,
          0.4789975912632403,
          1.869734898114154,
          -0.5914828614287035,
          -2.059037664516543,
          0.2675743062137763,
          -0.9853266239471671,
          -0.4604816004754459,
          -0.5391510807840071,
          0.9443175429761893,
          -0.25995302986960833,
          -1.0649853089126016,
          -0.23905742054502252,
          -0.7345811253619479,
          -0.08720400421957186,
          -0.048942049376880764,
          -2.8657596347127128,
          0.6414594616910335,
          0.6520037893508115,
          0.2747868787312045,
          -0.08784013708630556,
          0.676835689573734,
          0.35920674858527263,
          -1.310137794730799,
          -0.069564101186812,
          0.21875627038953308,
          -0.10658644268281893,
          0.32576837086844296,
          -0.29243541414911295,
          0.6336547576565383,
          0.31334569308871935,
          -0.5032505939465288,
          0.5371220456325438,
          2.3743377142720155,
          0.27904299357175083,
          3.1922750681240526,
          0.08380126477326237,
          -0.3451750248005223,
          0.616709899310492,
          -1.0792900548148616,
          0.1493614346867069,
          0.44470993270299675,
          -0.5114790901334068,
          2.17852938231897,
          0.45722060207315307,
          -0.2555612326053279,
          -0.8074208670098895,
          0.9472386308757929,
          -1.242690581437397,
          -0.3364176185262718,
          1.0736651373184152,
          1.190478221257057,
          0.7623681292410907,
          -0.6732696472195092,
          -0.6440393410699304,
          -0.45697957291095637,
          -0.9355214742832633,
          2.9929437226692523,
          2.7260040104125696,
          0.5718932501658502,
          1.5889260213849838,
          -0.20647348498482404,
          2.5038347489576953,
          0.29615014757154523,
          1.0846189796399666,
          -2.2022095311350864,
          -1.4404515406505725,
          -1.2821572583643719,
          -1.0392645050028173,
          -0.8359784282430603,
          -0.30479871560059835,
          2.072970576974876,
          -1.8586859035534284,
          -1.2049475634533102,
          -0.5032153485091891,
          0.33624312056905514,
          2.564961981122833,
          0.3017574318527081,
          -1.766792729143796,
          0.8235435410088745,
          -0.22551329798238218,
          -2.730925832158357,
          -1.6613392304245829,
          -0.5014512201902199,
          -0.609282071618016,
          0.8458223801724211,
          -1.977398517839233,
          -1.0538519726242723,
          1.8607976208546844,
          -0.3395686494139311,
          -0.9174984834704645,
          -0.8125754547368416,
          0.14301701527301755,
          -0.4362737933068552,
          -0.9044991715514415,
          -0.2767892181150533,
          -0.24579307422650135,
          -0.8244011946355074,
          0.9298124473763004,
          -0.595066435475396,
          0.4412507041863366,
          0.8445197390903286,
          -0.4650701320324777,
          2.1319338498127425,
          2.1319338498127425,
          -0.33139835788935534,
          0.441532302112224,
          0.0799897837563268,
          -0.3963211426076351,
          2.1319338498127425,
          -0.8155413081291509,
          3.1718734757847806,
          -0.5190281872867549,
          -0.04992336453818706,
          -0.5719527809990307,
          1.4382986039502814,
          1.0900669684738913,
          1.7843626906751484,
          0.10095590734268246,
          -0.6444052078607393,
          -0.6061843984291323,
          0.5550883374467328,
          1.5481209530840538,
          -0.7817051706674107,
          -0.6388486423778948,
          -0.1709022340110801,
          -0.32611218191328434,
          2.301222596672404,
          1.7357442769118623,
          0.04692563163929437,
          1.3344903152923047,
          -0.31151254721626087,
          1.540760346052991,
          1.5085799273169251,
          0.8075604130275331,
          -0.44106858959038503,
          1.14618920911041,
          1.075078164015802,
          -0.02528769687672753,
          1.0359956773490957,
          0.7940371917879304,
          0.010298079972028697,
          -0.2313666444622228,
          -1.1263578380899197,
          0.34827356830738726,
          0.7188007759804274,
          -1.2006685866016888,
          -0.48874919385379073,
          1.0511329441517407,
          0.7337050641208374,
          0.5801340207770276,
          1.7465185489496968,
          1.5845399675575036,
          1.2293627570567287,
          -0.06943785397606839,
          1.3142245990799373,
          0.34668779921771997,
          -0.32247279140588525,
          0.290092402194534,
          1.2744631039301495,
          1.9501468899176169,
          1.2293627570567287,
          -2.3742008151056426,
          0.8097924046763049,
          0.3257493828803871,
          -0.11367229774893803,
          0.5239443339764708,
          1.663746957651303,
          1.7453471747826483,
          0.19832259823786613,
          1.725868171022618,
          1.4745753880275576,
          1.6228113586987103,
          2.1264928384127186,
          0.30837059075439177,
          1.1642030880653829,
          1.1415398106539183,
          -0.02528769687672753,
          -0.6942782995410826,
          0.6062441505324636,
          0.8056575915427386,
          -0.9718696038331108,
          1.1846475025888181,
          0.22260393120988523,
          -1.1380333885721825,
          -0.42294171070276876,
          -0.9603842841299453,
          -1.2655864882815973,
          -1.6743094682762207,
          -0.9592325696676556,
          -2.208275782350011,
          -0.7614311127461315,
          -0.9283602915772398,
          -1.0003872778034133,
          0.33305942804359245,
          -0.1997866147933719,
          -0.09779050727088569,
          -0.32732316638661674,
          0.3299914922454812,
          -0.1732878731515394,
          -0.21810390747021105,
          2.077877064765502,
          0.025489112912354433,
          -0.9418507803283711,
          -0.480494029930665,
          -0.4777960559294696,
          -0.5236326235491849,
          -0.9163671842424652,
          -1.2884126387002266,
          0.7256755059981211,
          -0.5361754770471586,
          -0.20004831834695022,
          -1.5613522001109912,
          -0.6142121203837292,
          -1.1941311908090255,
          -2.1123758191296735,
          -0.7475462109839708,
          -1.0862550094175416,
          0.6072921779752943,
          -0.3597777472887225,
          -1.5821085055818727,
          -0.1387686947914768,
          -0.0039821635395968545,
          -1.772100454225177,
          -0.10800633824615513,
          -1.7184551482442967,
          -0.7220600773571293,
          -2.0084981311726864,
          3.785598078144558,
          -0.6245323153977038,
          -0.1811411093788324,
          -0.022800292141999464,
          -0.15263025560776147,
          -0.18879500559028803,
          -2.3234479758534663,
          -1.6129585756299671,
          -1.925973818653638,
          -1.4099877285403832,
          0.10661860207795282,
          -3.205538486710104,
          0.5323072652927305,
          1.8282937839210918,
          -0.6155007542491501,
          1.3122550950150076,
          0.682219210878268,
          -1.0354897180880602,
          -0.4567652894288646,
          -0.845313101007251,
          -1.921097515331572,
          -0.652718082908021,
          0.024262505451441128,
          -1.124755304395191,
          0.401455694845381,
          0.053466258378490165,
          -1.7065805207387794,
          -1.9235702921852247,
          -0.6810658577223914,
          1.6164448236652258,
          0.09441690780118109,
          -0.5757347764161587,
          -5.324849710991239,
          -1.8070057827169679,
          -0.021224692335778866,
          -0.8179812815431671,
          -1.3805997531516467,
          -0.425255225157524,
          -1.1523424561828028,
          -0.6194712237286639,
          0.2735411475255247,
          -1.2756162640421687,
          1.7770619659271847,
          -0.4548824173651308,
          -0.4217610806862202,
          -0.6384313705147702,
          0.39834270537014255,
          -0.18775644327673452,
          1.6973069926470383,
          -1.5495981205691718,
          0.19379976247852715,
          0.481393501960317,
          -0.20512310302810968,
          -1.0982469509351978,
          -1.508139029815266,
          1.4235176038388169,
          0.8841847068181876,
          0.20932951138073594,
          -0.519799068697005,
          -0.7780011535498258,
          -0.08477339014202603,
          0.7143393983015943,
          0.13736835214690032,
          0.7007718477066551,
          -1.0091976515141199,
          -1.002022262410619,
          -0.7434581785609059,
          -0.7805593020332013,
          -1.3122341658827221,
          1.0170344495471024,
          -0.30407331253456227,
          0.08946315030054719,
          -0.3123068127017067,
          -0.1645680144191512,
          -0.20494956985883453,
          -0.07991557811554902,
          -0.4800402335682095,
          1.0418746296709596,
          0.41832376286280953,
          -1.0277443701394586,
          -0.6611049658549465,
          -0.648968049725581,
          -0.3852608354914668,
          0.1744841053717844,
          0.5248339009637668,
          -0.43529139936164535,
          1.1609463777718685,
          0.2589852009041766,
          -0.4269145394355897,
          -0.6464046362867687,
          0.42815031752520016,
          0.43273884603382246,
          -0.10281476747519841,
          1.7409198864727389,
          0.5389720184815566,
          0.20213755898731825,
          0.7995084254451714,
          -2.223335855145653,
          -0.2981841698859249,
          0.41034709323556434,
          -1.183936702847158,
          -1.1071412055199314,
          -1.1559737393615037,
          0.4471515763880653,
          0.710867710084313,
          -0.4873342819659995,
          0.6078594827312426,
          0.14936260868724696,
          -0.5306247834551324,
          -1.4600986525329174,
          2.1588799721449305,
          1.417572405941567,
          2.323474646233732,
          -0.7264340924704045,
          0.5380051620704844,
          -1.5551401795197883,
          -0.23681909680485236,
          0.4830988146821153,
          -1.6654053221268936,
          -0.771483360804548,
          0.4358784205841097,
          -0.9528768477392728,
          -1.6818591537754257,
          -1.18535329848932,
          0.03981564058481889,
          0.42768027326641905,
          -1.1439320101672563,
          0.4881200392686906,
          1.0666625856504703,
          0.011626124047283703,
          0.5060631780243242,
          1.4863001605179254,
          -1.2844967685177449,
          -0.3713389048807097,
          1.9640017001666636,
          -0.16778180715886615,
          -0.604035578245657,
          0.2917830774541048,
          -1.4741218575235349,
          -1.1120222115701295,
          0.30596236372108904,
          -0.43793654039100127,
          -0.5672204471636456,
          -1.489832811795,
          -0.4367731715365498,
          -0.9923148417845807,
          -0.2090243774305184,
          -1.0654567706274019,
          0.7770097252992114,
          0.33401701714382726,
          0.5252445248516967,
          1.815560967878747,
          0.5081082583965822,
          -1.711762641022558,
          0.49594484497375274,
          1.7418772023653142,
          1.401774055858243,
          0.28192218743011954,
          0.1353671250446731,
          0.07841349962985572,
          0.6245229490939213,
          -0.35942637089814333,
          1.7406762762745611,
          1.7810790132391219,
          1.6140113589621845,
          1.6826908295445553,
          1.22157846491224,
          0.92202777907722,
          1.76173952869635,
          1.5690767467252853,
          2.7233564576301807,
          -0.47763708031993934,
          2.123302287001611,
          -1.106361232820507,
          0.10993501322158716,
          -1.6569223971159321,
          -0.7710263136821133,
          0.6354891072036852,
          -0.9350760961442309,
          -3.154052361357527,
          -1.2137938729879814,
          -0.8438981481839019,
          -0.9125375098004502,
          0.2368117634646968,
          1.7845842030479457,
          1.9879280654500093,
          1.8873203415832391,
          1.3890820852305357,
          0.5250577760428091,
          -0.6949754865209018,
          -1.6187760969086604,
          -1.0019065974555355,
          0.46327213127598227,
          -0.16280340377950211,
          0.9104905958323115,
          0.4298723392551139,
          -1.18023092915153,
          -1.1011781151568565,
          -2.4095640228892514,
          -1.1367904663450774,
          -0.4810385583693476,
          -1.242917765011485,
          0.6135342320569046,
          0.06955499887095502,
          0.8825057082452541,
          5.661064469750128,
          -0.16173252619484535,
          0.5077876996618738,
          0.401455694845381,
          0.6099267306357669,
          0.7221971732916761,
          -1.1482497042279116,
          -0.3069504230571499,
          -0.7545499809956855,
          2.327751738173471,
          0.246869114483803,
          2.4368300251600647,
          0.3434852089598276,
          0.5893342154021601,
          1.0175082866881109,
          0.6428230485845282,
          0.0860127515403285,
          1.3216325337985844,
          1.716000860150863,
          -0.5715956896217761,
          -0.838639442426918,
          -0.3763273731968072,
          -0.004324987100121876,
          0.8203433536037128,
          0.9161667510871492,
          -0.14941271670467052,
          0.6042109943935775,
          1.0137097562146518,
          0.13603763028618618,
          0.5283163487891245,
          -0.754992895260777,
          0.16600454255353697,
          0.950509817661237,
          -0.12126743768401749,
          -0.2766010244296354,
          0.28234405241929184,
          -0.6505340216336445,
          0.5842145967287812,
          0.5598043266791949,
          -0.45918743614202046,
          1.1835659275212336,
          0.7476109366159941,
          0.09042435986384685,
          -1.16419139721886,
          0.5884791515413896,
          -0.9406279038400476,
          0.18524942989997262,
          0.19004799950630005,
          0.8947453894033487,
          1.505150653634182,
          0.8918238940497841,
          2.913545690631438,
          0.1953504054885152,
          -2.134704275267394,
          -1.0963441427170784,
          -1.0963441427170784,
          -0.1798493552588897,
          -0.8950542673028805,
          0.42475557998045227,
          0.5831053065264407,
          -1.0849805099308176,
          -2.842826397149818,
          -0.9306059402806266,
          -1.2361284238426546,
          -0.9994364223214967,
          -0.8532624380946252,
          -1.2052063378789537,
          -3.0064137891182727,
          -0.7091852339985156,
          -1.0871716684012775,
          -0.5411080761057451,
          -2.061682013256679,
          -1.8606143982219325,
          1.0730684436328835,
          -0.5750562636036245,
          -1.4422160971020754,
          0.18867895860109513,
          -1.3758920059641617,
          -0.5901899611195195,
          0.9140536000059645,
          -2.3552209829195054,
          -1.1982458217628011,
          -1.4354924459885963,
          -2.2823724017631086,
          -1.4495411317022087,
          -1.3961646106574286,
          -1.2322459853919845,
          -0.6873446047620396,
          -1.3331003309855995,
          -0.3457065151016915,
          -1.651020638964738,
          -1.2550499258583385,
          -0.6079438902660613,
          -1.376175104825968,
          -1.5947288333897718,
          -2.756815146103779,
          -2.0975174481531926,
          -1.7890453009986311,
          0.26938140551558937,
          0.6810389452681657,
          -1.4846548825159853,
          0.741180314912622,
          1.9235878436744425,
          -3.1653627866074525,
          4.826559931350397,
          -0.0874185190205979,
          -2.0674106916733948,
          -2.9687344407540324,
          0.9064658020706525,
          0.7987656364710128,
          -0.5571382455449444,
          -0.29859931598261114,
          -1.1430498587646905,
          0.4817104725042979,
          0.2431661077492278,
          -1.2805711408949823,
          -0.5518033813859713,
          -1.1406132411762913,
          -0.6281451448687251,
          -1.865098767014229,
          -0.07153712703737235,
          -1.5947560608544442,
          1.4829391941009589,
          -0.03041744399149409,
          1.9025446924993927,
          -0.6947868184198148,
          0.14542983433201961,
          -0.7902420934319424,
          -0.4958217071530842,
          0.42339057899311017,
          0.7902407593582335,
          -0.32635118487360615,
          1.1445857085486675,
          0.8799311581112501,
          -0.943943834061557,
          -0.4296076407966146,
          0.6670912404694694,
          2.293376654437105,
          -0.48544282290058566,
          -0.7261160220215206,
          0.6223149471238236,
          0.16143317928932358,
          0.7770097252992114,
          0.4494073239760204,
          0.2917261998932797,
          -2.8559660325114815,
          -2.8559660325114815,
          0.6559230533819485,
          1.406293735881834,
          1.014787771663569,
          -0.25782567626501723,
          2.1616477161589445,
          0.9725077360054215,
          0.5566877659983712,
          -0.12451622959309432,
          0.38684109384886806,
          -2.2742671474041734,
          -0.5032745309280667,
          0.46325743828393406,
          0.24131108774216475,
          0.43473066937476046,
          -0.486081915538848,
          1.349368492929156,
          0.5291162113167036,
          1.3688832383135616,
          -0.7445120828736348,
          -1.487337348536492,
          -1.4723501299578932,
          -0.5094951483576854,
          -0.6626360277993666,
          -1.0397485474220631,
          -0.514791397664538,
          0.6622361023624552,
          -0.12984942660821996,
          2.5095452655964987,
          0.03438825382887792,
          1.6820118145061789,
          -0.22151898410253662,
          -0.4154576536923444,
          1.8643364588341282,
          -0.6931916182715634,
          3.3892843225133324,
          1.6888125651475803,
          0.7724804102748171,
          -0.027114204062829148,
          -0.4415817358862895,
          0.8066569243264409,
          1.3009605925765602,
          0.803690520084135,
          1.455185427801062,
          -0.9668417120820004,
          -1.6011254016144876,
          0.42396345440319466,
          0.9768693414114823,
          1.6643262992104262,
          0.6616282733623495,
          -0.07493749940941972,
          -0.05341915052327293,
          1.5817331684268638,
          0.2508037832268209,
          1.4150167553021844,
          0.9464624614115384,
          1.7854208091586692,
          -1.8986513450642666,
          1.660281990069685,
          -1.2797034194713255,
          -1.2278698439781388,
          1.5382079251100962,
          -0.9416686159265067,
          0.2595421804552414,
          1.0825135388044338,
          -0.47956502032335063,
          2.5234170447632427,
          0.5799128089869501,
          0.8994140052267808,
          -1.1652508706177394,
          3.5410661345301495,
          -0.6151603064563211,
          1.2037797236775725,
          -0.19189490558533537,
          3.77409535003242,
          1.4190247050955087,
          0.4605236227815533,
          0.19506465400558787,
          0.889486895271294,
          3.492340918964328,
          0.5095306889194553,
          2.558033727453967,
          2.941329603563368,
          2.9585376283879454,
          0.6664854167602131,
          1.2751122185381705,
          1.0858549905634869,
          -1.0223874893828624,
          -0.4896122311522388,
          -0.888345330541882,
          -1.0527146426813925,
          -1.5979672130884786,
          2.4205435798085713,
          -0.018409808694461904,
          1.315003907583432,
          0.05034428153886129,
          1.217523876667539,
          1.4513188974470734,
          -0.7764384500968138,
          1.4989831502198425,
          -2.1120286151716177,
          -0.8242950319505009,
          -0.7193176773642275,
          -0.5324102979469475,
          -0.7377570441587125,
          -1.75492648834204,
          -1.1175832891565287,
          -0.8167610018597032,
          -1.4246076648562194,
          1.9210094918522944,
          2.510789089861225,
          -1.0983810149208826,
          -0.31907824241307625,
          -0.7018982279762555,
          1.1118432949722357,
          -0.4392512404293172,
          0.22403578221357084,
          0.6909457256744103,
          0.13117975779423274,
          0.1725002280878107,
          0.6909457256744103,
          0.8801445212944228,
          -0.1726494324053833,
          -0.9571843923901139,
          -0.341874427273657,
          1.2354223195199217,
          -0.47727735997842996,
          0.6744175097128907,
          -0.401335335481815,
          0.02450269516566783,
          1.0114888345052546,
          -0.8582289768525692,
          0.9394174796720549,
          0.4181213817232746,
          -0.8914675871467101,
          -1.5430309314244668,
          -1.0478864536138977,
          -0.5196969124319175,
          2.0933789127353633,
          0.040953024526692146,
          0.9543876770247649,
          -1.261352710826355,
          -1.3497698875032367,
          0.10155215220949378,
          1.1395224978776288,
          -0.6224926824437846,
          -0.2996109399795937,
          -0.0387612033510894,
          -0.33284134816921845,
          2.194871046268542,
          0.3926654752334123,
          -0.7082917138338392,
          0.29023198327407174,
          1.3922680305445327,
          0.6626605141152949,
          0.6693446790274976,
          3.826832140878458,
          1.0358556804491152,
          1.888824320869665,
          0.9430672461585643,
          1.2597163972076482,
          -0.8635581785887416,
          -1.623692972127181,
          -1.2939500198084226,
          -1.697195408415217,
          1.9663728384182177,
          0.5163649992284919,
          0.5004206553924495,
          0.14092098116822604,
          -1.3864965358510892,
          -0.025169305094827385,
          -1.1102871922238462,
          -0.7901974202446478,
          -0.8316780531167148,
          -0.6670526559898636,
          1.4554367646834092,
          0.989071095179563,
          0.9287715899499571,
          -0.5819582864843383,
          3.1033319622259303,
          -1.254708459737219,
          -0.5922012386467886,
          0.44359553061128776,
          -1.1720025427993472,
          0.13010784025672978,
          -0.8263097141400638,
          0.5077876996618738,
          0.9391439233166083,
          -0.8361202369462677,
          -0.4171044591698265,
          0.7424716521704936,
          0.6133935006749337,
          -0.6458383516302373,
          -1.7510201157210312,
          -0.3198383314567084,
          -1.4596407954660253,
          0.324564107332302,
          -0.43057562980433006,
          -1.1280657628897384,
          -0.4656357674489745,
          1.2702245745656104,
          -0.2196527357209896,
          -0.6328920510936722,
          -0.6988975412607157,
          0.7686819591582708,
          -0.8578855206837042,
          -0.6751035437408779,
          -0.48605547778188973,
          -0.6387093576147213,
          -2.3003554276697438,
          -1.4089869637399504,
          0.5329524166170403,
          -0.5503229283988301,
          0.2649669251071406,
          0.16553005113670483,
          -1.7294067262714827,
          -1.5577347517846174,
          0.767282180352985,
          1.2004658861734179,
          1.4061401453545903,
          -2.3501932035980424,
          -0.08627299783938758,
          0.8446557092574396,
          -0.6487851809748296,
          -1.7149594650926738,
          0.0013927407355422469,
          -0.6547324029556091,
          -0.6716498259605398,
          -0.23597623740894466,
          0.9064187971729889,
          0.8189954933017249,
          -3.965753596410959,
          -0.11703497197782073,
          -2.2567515427796527,
          -0.09410452304932453,
          0.38125867172018146,
          2.6976463366124044,
          0.5131120537669152,
          0.995921371130469,
          -1.2402689930457014,
          1.5628972442440037,
          -1.0607416100157228,
          -2.2567515427796527,
          -0.9567877399978162,
          -1.7290648744164672,
          0.20449305184851513,
          -1.4239004176118437,
          0.24505719072753396,
          -0.2503357512574842,
          -0.05687280290597141,
          -0.06143591839480892,
          0.7385669494016,
          0.21719128364850251,
          0.7781800659952628,
          -0.6563513629989017,
          0.6651735153459147,
          -0.866024860584917,
          0.10023142404120515,
          0.4355569975397219,
          -0.20416279444805097,
          -0.2306611770102394,
          -0.8316304566337162,
          0.767661498389806,
          -0.24079201735998043,
          -0.2615215886055982,
          -0.41122320695676434,
          -0.8988800994715335,
          0.3336941223407082,
          0.6860578631441993,
          -0.4951214050625916,
          -0.05956019009530154,
          0.12075812107374034,
          0.44441784379878824,
          -0.6616514069680424,
          -1.4117539522982077,
          0.2781575732523074,
          1.2439293597589203,
          -0.23523107582540184,
          -1.2922767646910311,
          0.13248114283797305,
          -0.592654452071085,
          3.116286769732261,
          0.23782341079724303,
          -0.6096458997580932,
          -0.6930003232439972,
          -1.1323136221586443,
          2.1986968196258974,
          1.158081048010406,
          1.2457790474239856,
          2.3900983846499155,
          0.2437348166896768,
          1.0924350472162958,
          0.2903542953149217,
          -0.22221128725045586,
          1.8975682273569199,
          0.02128656045971106,
          1.3744385074292969,
          0.01571081049753386,
          1.929084592899789,
          0.19741899494320309,
          2.3161896559614825,
          0.8430468316977198,
          0.7314162765750968,
          -0.7154802731599014,
          -2.2004649250143316,
          0.7920409187021319,
          -0.5335446105803937,
          -0.611630632366395,
          3.6031821127767287,
          1.016272321782737,
          2.5978306373195363,
          1.0108598689274537,
          1.093851232172897,
          2.251323592944935,
          1.5770042098068593,
          1.3467527027553288,
          4.185024132169864,
          2.089749500594095,
          1.0383832443919554,
          2.3508458837380264,
          1.2583716721302292,
          0.7401609265457744,
          2.160228863385675,
          -1.785285067198909,
          1.0456398874006987,
          0.02815417728787396,
          -0.9361637998069924,
          -0.5220718237448778,
          3.5139698314658565,
          1.1131804574029087,
          2.537556457175952,
          -0.2901700140672172,
          -0.530076189729436,
          -0.2569306475472587,
          -0.31426621774134766,
          2.556676519754187,
          -0.03293520236964291,
          -0.19885795871475104,
          2.4016454281870705,
          1.0351778267918068,
          0.6444849876155497,
          0.028306074933145086,
          -2.1162902439844715,
          0.0023635999375411785,
          0.11962982789437568,
          -2.3475492425405386,
          -0.9201381858244889,
          -0.9743563680480033,
          0.6855028852755738,
          1.137090114462425,
          0.5578793427893971,
          0.26544876172431714,
          1.4026574288018125,
          -1.1982458217628011,
          -0.4598399809985974,
          0.0041449469649709175,
          -0.12385926837782983,
          0.9074993270322256,
          2.9661176348304212,
          0.23373058553335507,
          -1.0639389150223433,
          -0.4622098125985671,
          -0.2980526711510874,
          -0.5943153326486924,
          -1.6613392304245829,
          -0.3679066722953544,
          -1.0497134604561373,
          -1.3494016832394522,
          0.799149905878442,
          -1.632591314862934,
          1.6707445011481359,
          -0.966054436218664,
          -0.6556564907066572,
          -2.0606593454143773,
          -0.9655688502559409,
          -0.6386814446471775,
          0.392235977088113,
          -0.8850916940287099,
          -0.37443829851879185,
          -0.8776851115060565,
          1.0174448376284755,
          -1.5475653090429262,
          -0.3476754195333727,
          0.7476935362147681,
          -1.7158149473483166,
          -0.10726619418296136,
          1.1371005994234722,
          1.1252714892569629,
          -3.393722940762229,
          2.008001960014266,
          0.340640270180729,
          -1.937835895681661,
          -1.640624010894916,
          0.3611379628164968,
          -0.11848794556724208,
          -1.38597759721093,
          -0.8010825313436105,
          -0.6575570841874536,
          -0.8394366975160764,
          -0.5271531372802967,
          -0.611421277488056,
          1.5845151521137115,
          -0.46437605375359364,
          -1.3018832532958338,
          -1.1516668256705305,
          -0.8751633821228559,
          -0.8847666158004627,
          -1.1693233863795611,
          1.7741759054637518,
          -0.0879762404941721,
          0.00312160449978827,
          -0.21948269271775675,
          -1.4655689988816663,
          -1.5463730166337304,
          0.40327617661500503,
          0.7755578306120978,
          -0.7059657906162745,
          0.5503898665299509,
          -1.1182317836598197,
          0.5624036751698465,
          -1.4549911125915778,
          -0.6621999979037569,
          -0.46814956413728415,
          -0.48704101382320175,
          0.33010939541903545,
          1.0408259298766813,
          1.4738730430602893,
          0.5156531889061479,
          -0.015715671755877764,
          0.6860578631441993,
          1.2872874286237477,
          -1.7328518095993322,
          0.6959769757292258,
          -0.007669339267964508,
          -0.02627685644732686,
          -2.3639641186732625,
          1.1631494108116531,
          -1.9638694381659363,
          0.562288551503694,
          -1.1870319739345838,
          -1.215406142640305,
          -1.4566505898126219,
          -2.265914905684866,
          0.17948450776704078,
          0.09855330331149058,
          0.7424716521704936,
          -0.08219381352158597,
          -0.823635861121473,
          -0.4835296956000822,
          -0.16310794825619832,
          -1.3903335627467317,
          -0.2523900390177816,
          0.4873161663951028,
          -0.4786048260815259,
          -0.3195944017333544,
          -0.42283836051147866,
          0.4615724899439226,
          1.3345949133414945,
          2.135338854279262,
          -1.2603689420633628,
          0.6396464239451027,
          0.7174376136046151,
          2.345272967063721,
          1.3733289406188598,
          -0.5966630580451354,
          -0.8228496570941302,
          -2.4169422454435994,
          0.9336350514741215,
          0.9336350514741215,
          0.23664873280865156,
          1.2386911146487727,
          -0.5418841654097363,
          0.8575279188846392,
          -0.7605992017394517,
          -0.23040106781687258,
          0.5411367955330914,
          1.3618413519709867,
          2.4571862199258625,
          -1.4898216303774698,
          -1.0689235689502798,
          -2.0465134097188735,
          -0.9547823761436295,
          0.8758128302585285,
          -0.502045380835923,
          -0.8450034896699793,
          -1.150586605140878,
          -1.0162719172752073,
          -0.6633142881216155,
          -1.669792851071182,
          -1.3533738902887784,
          -0.9919352561058624,
          -1.080393402317554,
          -0.6401416299877859,
          -1.3024094498395509,
          -1.5274633223822727,
          -1.8816369915962279,
          -0.6241541934766113,
          -1.1087513872616115,
          -1.0937437785451791,
          -0.5769655569107781,
          1.350116593760215,
          -0.68357077764621,
          -0.21333495891230686,
          -1.7208881667392955,
          0.6069933473401453,
          -0.9485578909088116,
          0.3406380049689828,
          -0.672802487510469,
          0.009588568549996238,
          -0.3318682072964159,
          1.2099337331859294,
          -0.04351653889014766,
          0.47249730841775006,
          0.1667006178251064,
          -0.4598399809985974,
          0.837967850277038,
          -1.8668083916396223,
          0.39134901070350175,
          0.03003234442886318,
          0.33346010912390706,
          -0.41099462855907104,
          -0.7476281108276781,
          -0.5327999702766689,
          1.416575387702343,
          -0.9778755269931578,
          0.5343302360287127,
          -1.1023076661037112,
          -0.8610990263499307,
          -0.7747711983975649,
          -0.14363907758537264,
          -0.9146586648127378,
          -0.9765413938527153,
          -1.7663661393860033,
          -1.130728960818977,
          -0.7087335536763913,
          -0.5947383472184843,
          0.07306755370479635,
          -1.515879694964568,
          0.6613108686606811,
          1.1286274880828215,
          -2.0581977671877096,
          1.0677052103269224,
          -0.3012459235234376,
          0.4257801498878103,
          -0.40263933571265664,
          0.2989675907068838,
          1.6285636697961807,
          -0.6663501829263699,
          1.8664334683739885,
          2.420357930284369,
          -1.1092347492996615,
          0.3200841475174442,
          0.031691890126987574,
          1.1160776457145467,
          -0.43945652058233065,
          2.08983097962322,
          -0.7570751399473756,
          -0.774659812056329,
          -0.38653891891373127,
          0.25707335983407725,
          0.06329890129218477,
          0.3373619817345958,
          0.22643180698530777,
          -1.3546107260806541,
          0.8002025039600863,
          -0.8889081107644108,
          -0.7286812887095835,
          1.3078694865346456,
          -0.611430259190768,
          0.5466667600703187,
          1.8234840719083245,
          2.2518211503014953,
          1.5327451810884483,
          1.6920378828977007,
          0.7022921431888567,
          1.9109285289174767,
          0.2804484614653215,
          -1.0498417887903446,
          3.6031821127767287,
          -0.5242582112536236,
          0.7861182653546281,
          2.0403271912218015,
          0.16893016132377156,
          -0.08526345403739913,
          -0.011024140739621347,
          -0.7916755386423784,
          -1.214727083640509,
          0.7724463413233449,
          -0.3037457413035935,
          -2.33354271998076,
          -0.3562168495073624,
          0.12430303586946534,
          -1.1706210899866958,
          -2.360627446467732,
          -1.636781917549554,
          -0.5023576395671382,
          -2.730925832158357,
          -1.2423446127955164,
          -0.8386470327706322,
          -1.0079198521398571,
          -0.2276189352739482,
          -0.42160553228633124,
          -0.9631389674046109,
          2.4898319782499447,
          0.7343740197596936,
          2.1153640634075943,
          0.13724873880508429,
          1.0125213152896448,
          -0.37005291574945404,
          -1.7815300896312838,
          -1.1887304827614855,
          -0.2404274433169064,
          -0.6167239342011879,
          -0.9734476761826565,
          -0.5688906477444666,
          -0.486167220621784,
          1.0076600514520049,
          -0.3015057633668334,
          0.12897294715118388,
          2.530930018505613,
          0.9337858603263752,
          0.8418091510500184,
          -0.933343432135816,
          -0.19397496311706836,
          -0.5671126380023117,
          1.5106561492724906,
          0.18074855667507328,
          -1.0463627822229695,
          -0.7333067303892984,
          -1.0246191375816187,
          0.8689648267049044,
          2.4131387627924523,
          -1.0475814842246263,
          0.9736919192976747,
          1.7212392934745608,
          -1.3429003712914178,
          -0.5792383396463398,
          1.3474157429635891,
          1.237826518985623,
          -0.6277344905438722,
          -0.4669374453129623,
          -0.6195438014522827,
          1.4249282490014075,
          0.9643381077506041,
          0.11165727459267372,
          0.9643381077506041,
          -0.12094841593244897,
          -0.4345154977397169,
          -0.8717228134320211,
          0.15079746470860128,
          0.27797908953693057,
          1.1894891272965957,
          0.13692337593366338,
          2.2951298743783037,
          -1.242690581437397,
          -0.34856941623506044,
          0.3027643122628125,
          -0.9565041870588196,
          -0.03455778115238623,
          -0.23528215500302713,
          -0.2877116065230779,
          0.33490144838209046,
          -0.5519801147930495,
          -1.6671675160620283,
          0.34836557143282215,
          -0.6829322826912532,
          0.10279951612120454,
          -1.9959511402427008,
          0.2685118467719546,
          1.9946169248668235,
          1.8483060822592732,
          1.0554925588676156,
          0.21879040449048467,
          -0.13570197581661733,
          0.9851968861899977,
          1.0680519747125847,
          -0.9423944222871224,
          -1.3267365895545913,
          0.23792831775974396,
          1.0906730354381007,
          0.826036084005291,
          -0.11461723951061478,
          1.840407711419573,
          1.0823540919940613,
          -0.8687738626484441,
          -0.5914828614287035,
          -0.8089063660175025,
          0.6170449549147408,
          -0.03580072293818791,
          1.5913428281037119,
          1.3560670015995724,
          -1.6287481707392555,
          -1.2933490428322187,
          -0.6763485851962359,
          1.1830106693009697,
          0.6030493268732693,
          0.3823904837157871,
          3.0241485166452913,
          1.4320445004928828,
          0.34228297341503033,
          -1.4187000715910392,
          1.6814999864821354,
          2.7994210517958256,
          -0.04549238763921363,
          0.4657414169487411,
          1.4198239456029544,
          0.5888953615807179,
          1.0444386933204224,
          0.5964434905314967,
          0.08844995393029619,
          -0.04549238763921363,
          0.8977977758332301,
          -0.16885058170456763,
          0.5983088128366508,
          0.6667441748139545,
          0.11485247399156087,
          -2.5769252053016762,
          0.23909640755804606,
          2.248756190662392,
          2.538734024943234,
          -0.05632591154782853,
          0.5964434905314967,
          1.978302081168272,
          1.3560670015995724,
          2.916068975918379,
          -0.6225797561996568,
          0.2559420671846076,
          -0.29072442076002847,
          0.3757386950204396,
          1.5556309456722315,
          0.45063092760922974,
          0.7757854374142421,
          0.07431941987262852,
          -1.308092523098243,
          -1.3524345982935695,
          0.2936091768199889,
          3.3099155081569425,
          -0.5551636406866711,
          0.5675987166081136,
          2.64613987763788,
          0.03399799833090761,
          0.6786040056615524,
          0.14923360423842144,
          -0.4559136008402298,
          2.9465579423623556,
          1.9486015356312563,
          0.6937156146030223,
          -0.6479161411275318,
          -0.16832643560406457,
          0.9206331889506565,
          -0.45076135107729187,
          -1.6238548107932622,
          -1.7149594650926738,
          0.8246937348674054,
          -0.6046810983191612,
          0.9951455987502157,
          -0.49439614316897357,
          -0.19789301436614315,
          -0.17763361203952066,
          -0.08113594162832595,
          -3.5919281845082582,
          0.015192898637180879,
          0.41832376286280953,
          -1.3430396251065346,
          -1.153338780548071,
          -1.5144988077562633,
          -1.590958155769705,
          -2.345699961945227,
          0.5187929455099686,
          -2.0068878431165444,
          -1.5610744785887622,
          0.4027243215517718,
          0.38857174117138676,
          2.471190761937054,
          -0.21414035832918885,
          3.0020429581390813,
          2.431138990340911,
          2.8822811672315205,
          0.9642980521378581,
          0.007995287376184438,
          -1.444857564438203,
          -0.2155865258574699,
          -1.0494337432873786,
          -0.16881431329935015,
          -0.7392065333258888,
          2.1790993577352276,
          -1.0820263567320523,
          -0.5618613817516007,
          0.059191033675627135,
          -1.0420534653157911,
          0.12324047273321638,
          -0.06624184533439685,
          -1.5632894769170909,
          -0.20455517338152543,
          -0.28256903175167575,
          -1.7373472894249378,
          -1.0465870893288491,
          0.5718932501658502,
          0.031844458972237914,
          -0.012659131268620494,
          1.0406554362647713,
          2.080718977326502,
          -2.2215790057935085,
          -1.2942306228088387,
          -0.9232671973085109,
          1.6648500226504812,
          -2.2517164433175414,
          2.2279199793837825,
          -1.4934305722339867,
          0.06759763053874672,
          -0.4220085249074881,
          -1.6224994565962823,
          -0.8568498421627402,
          -1.7156119083516947,
          -0.40181400052584415,
          -1.9183111465675227,
          -1.028417666115482,
          0.566250907648206,
          -1.9360921290485065,
          -1.3661970267771584,
          -0.47905326674771764,
          1.5323961175618437,
          0.6372584903149389,
          1.3733798976383869,
          -0.5126351469976419,
          -0.47065776417615995,
          0.0005851604650585394,
          0.8136001906912061,
          0.38997026358275816,
          -0.39546104811196764,
          -1.5825523645928892,
          -0.9178690058179534,
          -0.3820309089909215,
          0.1570831701083067,
          -0.9806604314366109,
          1.2573912397734057,
          0.5631582113333923,
          1.1114556668423172,
          0.19309430754008602,
          -3.0573576367230726,
          -2.796405090095431,
          0.444193198132993,
          -0.5425621727635219,
          -0.8201583062849618,
          0.37514319403638485,
          -1.0223780840942374,
          -0.607071287647225,
          -0.962449206877945,
          -2.023747135601469,
          -0.0874185190205979,
          -0.2046286417953789,
          -0.08910926007143853,
          -2.0591628392523065,
          -1.1745357862551646,
          -0.6346088648189894,
          -0.5491745735456132,
          0.5095716897531323,
          0.8065406104992399,
          0.741180314912622,
          -0.855882162906126,
          -0.36576815422794284,
          -0.5309994855824157,
          -0.5213994519208942,
          -0.8095689157079888,
          1.1265825463110153,
          -0.20982947444075453,
          -1.1323946066926993,
          0.22119401719295606,
          -1.1950493627964522,
          1.402539081269544,
          -0.5757347764161587,
          -0.7264869106374326,
          -0.7415878471844265,
          0.0695133638457391,
          -0.20446565868520072,
          -0.01879031406313326,
          0.0313928907117842,
          0.35067005623607683,
          -1.1128956328696087,
          1.8195868927958858,
          1.8713013951568784,
          1.918152595653493,
          -1.7186688480437633,
          0.8757893106119216,
          0.17563027053701222,
          -0.6929183840508988,
          -0.28726002097626524,
          0.20809406613318512,
          1.776495402604127,
          -0.408573185093292,
          0.029405535122967688,
          0.3028902959496672,
          0.9923583707665707,
          0.43377995483685905,
          -1.356432955086264,
          0.5863758368736232,
          2.923932736424936,
          1.0230580147774833,
          0.8397768146241349,
          2.571609178955066,
          -0.39274683629951096,
          0.3103645893388294,
          1.21222211993606,
          -0.9105271986614303,
          -0.42313549349462404,
          -1.5022933704705277,
          -0.3958114038540123,
          0.11057980583580806,
          -1.1364627595215233,
          0.989071095179563,
          1.6893322614019624,
          0.9299479085907703,
          -0.4525968776137759,
          -0.7448746955627121,
          1.8574219818393118,
          0.31621132843281363,
          -3.5919281845082582,
          -2.7715699519860775,
          -1.0936649608603763,
          -0.8987367758535342,
          -0.7144851932041092,
          0.08471793830475467,
          3.4023252585367056,
          0.591537639381142,
          0.19594602619169202,
          0.0359650849812224,
          -0.7572787491134779,
          0.4800421604906783,
          0.5277834265150131,
          -0.07029951988052383,
          -2.6459203144839982,
          -1.3983743516341678,
          -1.7875077633778973,
          0.8485646204971731,
          1.2059329792106677,
          -1.724161070808913,
          -0.47215623617893154,
          -0.8206980878304393,
          -0.9083842640904312,
          -0.7454847813328961,
          -0.7426614340923898,
          -0.5761116798392966,
          1.2630604906993144,
          -0.9648409921390775,
          0.19368622313439496,
          0.9996039142658566,
          1.1575246422378052,
          -1.0936649608603763,
          -1.0936649608603763,
          3.0241485166452913,
          1.5817331684268634,
          1.645258276171438,
          -2.4045788380748325,
          -2.4574249906447165,
          -0.5475715725911341,
          -1.3098373709567723,
          -2.0126521925813714,
          -2.4620510303809064,
          0.4839182224013346,
          -1.4091483830778642,
          -1.5557878439244455,
          -1.7104659017896577,
          -0.14939377576964444,
          -2.0027033980752877,
          -2.2204584178167046,
          -0.9119564427723755,
          -2.2209031233141876,
          -1.7536558307851253,
          -1.3764437205042688,
          -2.539680899330998,
          -1.9288195091234024,
          0.4586528028759602,
          -0.7370750659681983,
          -1.423871779877747,
          0.3131378501572361,
          0.03164626132906318,
          -0.9437787672942064,
          0.4220331476734112,
          -0.19189119093839796,
          -0.5211679048184983,
          1.883607692357033,
          1.254625917650506,
          -1.7980071100359678,
          1.6046581333958079,
          0.5308244007763837,
          -1.467705069239331,
          -0.07553356999426325,
          -0.937130006178032,
          0.9744129361419288,
          1.0808327860734128,
          -1.3498838940521005,
          -2.6382976097381077,
          1.1075741810946897,
          -1.1968544636420617,
          -0.049851570017733104,
          -1.3368586236919504,
          3.3802062358741827,
          -0.9362765548657977,
          -0.8512302225203673,
          0.8312994793303523,
          1.1474159317775203,
          0.869281462039726,
          -0.06373150398819455,
          -0.45242591189062087,
          -1.0487895677820003,
          -0.978662905395079,
          -1.1203219593181175,
          -0.6009018213810977,
          0.4186241486931217,
          -0.3053760309640729,
          0.18024535423152005,
          -0.0874185190205979,
          -2.144691504600465,
          0.8614420346143581,
          0.13071407897493503,
          -0.2277504589672924,
          1.1093919174553362,
          0.5061696894655089,
          2.5114509290464726,
          -0.3562583850384979,
          0.26395567276692306,
          0.2716152626191374,
          -0.3396231129337223,
          0.8138121170061862,
          1.6452114399899,
          1.238681856270097,
          0.8050649466533385,
          0.577709746614169,
          -0.7454513238920747,
          0.7691464789300241,
          -0.23009953334279323,
          -1.1625225503153893,
          1.0967477999866706,
          -0.7762878624655917,
          -0.5844671710446078,
          -0.606197906364187,
          -1.4869471807666146,
          1.750344874345486,
          -0.6151603064563211,
          -1.653134426340759,
          0.7427151707507438,
          -0.7054157806980441,
          -0.03251912330295562,
          -2.341444922488878,
          1.840847976937174,
          0.41506437622652675,
          -0.5229064046857447,
          -0.017125860721715003,
          -1.3049828462456436,
          -1.089725570464679,
          -3.6952327527777773,
          -1.3907085464763511
         ],
         "yaxis": "y"
        }
       ],
       "layout": {
        "coloraxis": {
         "colorbar": {
          "title": {
           "text": "cluster_pca"
          }
         },
         "colorscale": [
          [
           0,
           "#0d0887"
          ],
          [
           0.1111111111111111,
           "#46039f"
          ],
          [
           0.2222222222222222,
           "#7201a8"
          ],
          [
           0.3333333333333333,
           "#9c179e"
          ],
          [
           0.4444444444444444,
           "#bd3786"
          ],
          [
           0.5555555555555556,
           "#d8576b"
          ],
          [
           0.6666666666666666,
           "#ed7953"
          ],
          [
           0.7777777777777778,
           "#fb9f3a"
          ],
          [
           0.8888888888888888,
           "#fdca26"
          ],
          [
           1,
           "#f0f921"
          ]
         ]
        },
        "legend": {
         "tracegroupgap": 0
        },
        "margin": {
         "t": 60
        },
        "template": {
         "data": {
          "bar": [
           {
            "error_x": {
             "color": "#2a3f5f"
            },
            "error_y": {
             "color": "#2a3f5f"
            },
            "marker": {
             "line": {
              "color": "#E5ECF6",
              "width": 0.5
             },
             "pattern": {
              "fillmode": "overlay",
              "size": 10,
              "solidity": 0.2
             }
            },
            "type": "bar"
           }
          ],
          "barpolar": [
           {
            "marker": {
             "line": {
              "color": "#E5ECF6",
              "width": 0.5
             },
             "pattern": {
              "fillmode": "overlay",
              "size": 10,
              "solidity": 0.2
             }
            },
            "type": "barpolar"
           }
          ],
          "carpet": [
           {
            "aaxis": {
             "endlinecolor": "#2a3f5f",
             "gridcolor": "white",
             "linecolor": "white",
             "minorgridcolor": "white",
             "startlinecolor": "#2a3f5f"
            },
            "baxis": {
             "endlinecolor": "#2a3f5f",
             "gridcolor": "white",
             "linecolor": "white",
             "minorgridcolor": "white",
             "startlinecolor": "#2a3f5f"
            },
            "type": "carpet"
           }
          ],
          "choropleth": [
           {
            "colorbar": {
             "outlinewidth": 0,
             "ticks": ""
            },
            "type": "choropleth"
           }
          ],
          "contour": [
           {
            "colorbar": {
             "outlinewidth": 0,
             "ticks": ""
            },
            "colorscale": [
             [
              0,
              "#0d0887"
             ],
             [
              0.1111111111111111,
              "#46039f"
             ],
             [
              0.2222222222222222,
              "#7201a8"
             ],
             [
              0.3333333333333333,
              "#9c179e"
             ],
             [
              0.4444444444444444,
              "#bd3786"
             ],
             [
              0.5555555555555556,
              "#d8576b"
             ],
             [
              0.6666666666666666,
              "#ed7953"
             ],
             [
              0.7777777777777778,
              "#fb9f3a"
             ],
             [
              0.8888888888888888,
              "#fdca26"
             ],
             [
              1,
              "#f0f921"
             ]
            ],
            "type": "contour"
           }
          ],
          "contourcarpet": [
           {
            "colorbar": {
             "outlinewidth": 0,
             "ticks": ""
            },
            "type": "contourcarpet"
           }
          ],
          "heatmap": [
           {
            "colorbar": {
             "outlinewidth": 0,
             "ticks": ""
            },
            "colorscale": [
             [
              0,
              "#0d0887"
             ],
             [
              0.1111111111111111,
              "#46039f"
             ],
             [
              0.2222222222222222,
              "#7201a8"
             ],
             [
              0.3333333333333333,
              "#9c179e"
             ],
             [
              0.4444444444444444,
              "#bd3786"
             ],
             [
              0.5555555555555556,
              "#d8576b"
             ],
             [
              0.6666666666666666,
              "#ed7953"
             ],
             [
              0.7777777777777778,
              "#fb9f3a"
             ],
             [
              0.8888888888888888,
              "#fdca26"
             ],
             [
              1,
              "#f0f921"
             ]
            ],
            "type": "heatmap"
           }
          ],
          "heatmapgl": [
           {
            "colorbar": {
             "outlinewidth": 0,
             "ticks": ""
            },
            "colorscale": [
             [
              0,
              "#0d0887"
             ],
             [
              0.1111111111111111,
              "#46039f"
             ],
             [
              0.2222222222222222,
              "#7201a8"
             ],
             [
              0.3333333333333333,
              "#9c179e"
             ],
             [
              0.4444444444444444,
              "#bd3786"
             ],
             [
              0.5555555555555556,
              "#d8576b"
             ],
             [
              0.6666666666666666,
              "#ed7953"
             ],
             [
              0.7777777777777778,
              "#fb9f3a"
             ],
             [
              0.8888888888888888,
              "#fdca26"
             ],
             [
              1,
              "#f0f921"
             ]
            ],
            "type": "heatmapgl"
           }
          ],
          "histogram": [
           {
            "marker": {
             "pattern": {
              "fillmode": "overlay",
              "size": 10,
              "solidity": 0.2
             }
            },
            "type": "histogram"
           }
          ],
          "histogram2d": [
           {
            "colorbar": {
             "outlinewidth": 0,
             "ticks": ""
            },
            "colorscale": [
             [
              0,
              "#0d0887"
             ],
             [
              0.1111111111111111,
              "#46039f"
             ],
             [
              0.2222222222222222,
              "#7201a8"
             ],
             [
              0.3333333333333333,
              "#9c179e"
             ],
             [
              0.4444444444444444,
              "#bd3786"
             ],
             [
              0.5555555555555556,
              "#d8576b"
             ],
             [
              0.6666666666666666,
              "#ed7953"
             ],
             [
              0.7777777777777778,
              "#fb9f3a"
             ],
             [
              0.8888888888888888,
              "#fdca26"
             ],
             [
              1,
              "#f0f921"
             ]
            ],
            "type": "histogram2d"
           }
          ],
          "histogram2dcontour": [
           {
            "colorbar": {
             "outlinewidth": 0,
             "ticks": ""
            },
            "colorscale": [
             [
              0,
              "#0d0887"
             ],
             [
              0.1111111111111111,
              "#46039f"
             ],
             [
              0.2222222222222222,
              "#7201a8"
             ],
             [
              0.3333333333333333,
              "#9c179e"
             ],
             [
              0.4444444444444444,
              "#bd3786"
             ],
             [
              0.5555555555555556,
              "#d8576b"
             ],
             [
              0.6666666666666666,
              "#ed7953"
             ],
             [
              0.7777777777777778,
              "#fb9f3a"
             ],
             [
              0.8888888888888888,
              "#fdca26"
             ],
             [
              1,
              "#f0f921"
             ]
            ],
            "type": "histogram2dcontour"
           }
          ],
          "mesh3d": [
           {
            "colorbar": {
             "outlinewidth": 0,
             "ticks": ""
            },
            "type": "mesh3d"
           }
          ],
          "parcoords": [
           {
            "line": {
             "colorbar": {
              "outlinewidth": 0,
              "ticks": ""
             }
            },
            "type": "parcoords"
           }
          ],
          "pie": [
           {
            "automargin": true,
            "type": "pie"
           }
          ],
          "scatter": [
           {
            "fillpattern": {
             "fillmode": "overlay",
             "size": 10,
             "solidity": 0.2
            },
            "type": "scatter"
           }
          ],
          "scatter3d": [
           {
            "line": {
             "colorbar": {
              "outlinewidth": 0,
              "ticks": ""
             }
            },
            "marker": {
             "colorbar": {
              "outlinewidth": 0,
              "ticks": ""
             }
            },
            "type": "scatter3d"
           }
          ],
          "scattercarpet": [
           {
            "marker": {
             "colorbar": {
              "outlinewidth": 0,
              "ticks": ""
             }
            },
            "type": "scattercarpet"
           }
          ],
          "scattergeo": [
           {
            "marker": {
             "colorbar": {
              "outlinewidth": 0,
              "ticks": ""
             }
            },
            "type": "scattergeo"
           }
          ],
          "scattergl": [
           {
            "marker": {
             "colorbar": {
              "outlinewidth": 0,
              "ticks": ""
             }
            },
            "type": "scattergl"
           }
          ],
          "scattermapbox": [
           {
            "marker": {
             "colorbar": {
              "outlinewidth": 0,
              "ticks": ""
             }
            },
            "type": "scattermapbox"
           }
          ],
          "scatterpolar": [
           {
            "marker": {
             "colorbar": {
              "outlinewidth": 0,
              "ticks": ""
             }
            },
            "type": "scatterpolar"
           }
          ],
          "scatterpolargl": [
           {
            "marker": {
             "colorbar": {
              "outlinewidth": 0,
              "ticks": ""
             }
            },
            "type": "scatterpolargl"
           }
          ],
          "scatterternary": [
           {
            "marker": {
             "colorbar": {
              "outlinewidth": 0,
              "ticks": ""
             }
            },
            "type": "scatterternary"
           }
          ],
          "surface": [
           {
            "colorbar": {
             "outlinewidth": 0,
             "ticks": ""
            },
            "colorscale": [
             [
              0,
              "#0d0887"
             ],
             [
              0.1111111111111111,
              "#46039f"
             ],
             [
              0.2222222222222222,
              "#7201a8"
             ],
             [
              0.3333333333333333,
              "#9c179e"
             ],
             [
              0.4444444444444444,
              "#bd3786"
             ],
             [
              0.5555555555555556,
              "#d8576b"
             ],
             [
              0.6666666666666666,
              "#ed7953"
             ],
             [
              0.7777777777777778,
              "#fb9f3a"
             ],
             [
              0.8888888888888888,
              "#fdca26"
             ],
             [
              1,
              "#f0f921"
             ]
            ],
            "type": "surface"
           }
          ],
          "table": [
           {
            "cells": {
             "fill": {
              "color": "#EBF0F8"
             },
             "line": {
              "color": "white"
             }
            },
            "header": {
             "fill": {
              "color": "#C8D4E3"
             },
             "line": {
              "color": "white"
             }
            },
            "type": "table"
           }
          ]
         },
         "layout": {
          "annotationdefaults": {
           "arrowcolor": "#2a3f5f",
           "arrowhead": 0,
           "arrowwidth": 1
          },
          "autotypenumbers": "strict",
          "coloraxis": {
           "colorbar": {
            "outlinewidth": 0,
            "ticks": ""
           }
          },
          "colorscale": {
           "diverging": [
            [
             0,
             "#8e0152"
            ],
            [
             0.1,
             "#c51b7d"
            ],
            [
             0.2,
             "#de77ae"
            ],
            [
             0.3,
             "#f1b6da"
            ],
            [
             0.4,
             "#fde0ef"
            ],
            [
             0.5,
             "#f7f7f7"
            ],
            [
             0.6,
             "#e6f5d0"
            ],
            [
             0.7,
             "#b8e186"
            ],
            [
             0.8,
             "#7fbc41"
            ],
            [
             0.9,
             "#4d9221"
            ],
            [
             1,
             "#276419"
            ]
           ],
           "sequential": [
            [
             0,
             "#0d0887"
            ],
            [
             0.1111111111111111,
             "#46039f"
            ],
            [
             0.2222222222222222,
             "#7201a8"
            ],
            [
             0.3333333333333333,
             "#9c179e"
            ],
            [
             0.4444444444444444,
             "#bd3786"
            ],
            [
             0.5555555555555556,
             "#d8576b"
            ],
            [
             0.6666666666666666,
             "#ed7953"
            ],
            [
             0.7777777777777778,
             "#fb9f3a"
            ],
            [
             0.8888888888888888,
             "#fdca26"
            ],
            [
             1,
             "#f0f921"
            ]
           ],
           "sequentialminus": [
            [
             0,
             "#0d0887"
            ],
            [
             0.1111111111111111,
             "#46039f"
            ],
            [
             0.2222222222222222,
             "#7201a8"
            ],
            [
             0.3333333333333333,
             "#9c179e"
            ],
            [
             0.4444444444444444,
             "#bd3786"
            ],
            [
             0.5555555555555556,
             "#d8576b"
            ],
            [
             0.6666666666666666,
             "#ed7953"
            ],
            [
             0.7777777777777778,
             "#fb9f3a"
            ],
            [
             0.8888888888888888,
             "#fdca26"
            ],
            [
             1,
             "#f0f921"
            ]
           ]
          },
          "colorway": [
           "#636efa",
           "#EF553B",
           "#00cc96",
           "#ab63fa",
           "#FFA15A",
           "#19d3f3",
           "#FF6692",
           "#B6E880",
           "#FF97FF",
           "#FECB52"
          ],
          "font": {
           "color": "#2a3f5f"
          },
          "geo": {
           "bgcolor": "white",
           "lakecolor": "white",
           "landcolor": "#E5ECF6",
           "showlakes": true,
           "showland": true,
           "subunitcolor": "white"
          },
          "hoverlabel": {
           "align": "left"
          },
          "hovermode": "closest",
          "mapbox": {
           "style": "light"
          },
          "paper_bgcolor": "white",
          "plot_bgcolor": "#E5ECF6",
          "polar": {
           "angularaxis": {
            "gridcolor": "white",
            "linecolor": "white",
            "ticks": ""
           },
           "bgcolor": "#E5ECF6",
           "radialaxis": {
            "gridcolor": "white",
            "linecolor": "white",
            "ticks": ""
           }
          },
          "scene": {
           "xaxis": {
            "backgroundcolor": "#E5ECF6",
            "gridcolor": "white",
            "gridwidth": 2,
            "linecolor": "white",
            "showbackground": true,
            "ticks": "",
            "zerolinecolor": "white"
           },
           "yaxis": {
            "backgroundcolor": "#E5ECF6",
            "gridcolor": "white",
            "gridwidth": 2,
            "linecolor": "white",
            "showbackground": true,
            "ticks": "",
            "zerolinecolor": "white"
           },
           "zaxis": {
            "backgroundcolor": "#E5ECF6",
            "gridcolor": "white",
            "gridwidth": 2,
            "linecolor": "white",
            "showbackground": true,
            "ticks": "",
            "zerolinecolor": "white"
           }
          },
          "shapedefaults": {
           "line": {
            "color": "#2a3f5f"
           }
          },
          "ternary": {
           "aaxis": {
            "gridcolor": "white",
            "linecolor": "white",
            "ticks": ""
           },
           "baxis": {
            "gridcolor": "white",
            "linecolor": "white",
            "ticks": ""
           },
           "bgcolor": "#E5ECF6",
           "caxis": {
            "gridcolor": "white",
            "linecolor": "white",
            "ticks": ""
           }
          },
          "title": {
           "x": 0.05
          },
          "xaxis": {
           "automargin": true,
           "gridcolor": "white",
           "linecolor": "white",
           "ticks": "",
           "title": {
            "standoff": 15
           },
           "zerolinecolor": "white",
           "zerolinewidth": 2
          },
          "yaxis": {
           "automargin": true,
           "gridcolor": "white",
           "linecolor": "white",
           "ticks": "",
           "title": {
            "standoff": 15
           },
           "zerolinecolor": "white",
           "zerolinewidth": 2
          }
         }
        },
        "xaxis": {
         "anchor": "y",
         "domain": [
          0,
          1
         ],
         "title": {
          "text": "x"
         }
        },
        "yaxis": {
         "anchor": "x",
         "domain": [
          0,
          1
         ],
         "title": {
          "text": "y"
         }
        }
       }
      },
      "text/html": [
       "<div>                            <div id=\"00088fbb-ac39-4e99-aa61-3b9f20ff7b2d\" class=\"plotly-graph-div\" style=\"height:525px; width:100%;\"></div>            <script type=\"text/javascript\">                require([\"plotly\"], function(Plotly) {                    window.PLOTLYENV=window.PLOTLYENV || {};                                    if (document.getElementById(\"00088fbb-ac39-4e99-aa61-3b9f20ff7b2d\")) {                    Plotly.newPlot(                        \"00088fbb-ac39-4e99-aa61-3b9f20ff7b2d\",                        [{\"customdata\":[[\"21st century classical\"],[\"432hz\"],[\"8-bit\"],[\"[]\"],[\"a cappella\"],[\"abstract\"],[\"abstract beats\"],[\"abstract hip hop\"],[\"accordeon\"],[\"accordion\"],[\"acid house\"],[\"acid rock\"],[\"acid trance\"],[\"acousmatic\"],[\"acoustic blues\"],[\"acoustic pop\"],[\"acoustic punk\"],[\"acoustic rock\"],[\"action rock\"],[\"adoracion\"],[\"adult standards\"],[\"adventista\"],[\"afghan pop\"],[\"afghan traditional\"],[\"african percussion\"],[\"african reggae\"],[\"african rock\"],[\"african-american classical\"],[\"afro dancehall\"],[\"afro house\"],[\"afro psych\"],[\"afro soul\"],[\"afro-funk\"],[\"afrobeat\"],[\"afrofuturism\"],[\"afrofuturismo brasileiro\"],[\"afropop\"],[\"afroswing\"],[\"aggrotech\"],[\"alabama indie\"],[\"alabama metal\"],[\"alabama rap\"],[\"alaska indie\"],[\"albanian pop\"],[\"albany ny indie\"],[\"alberta country\"],[\"alberta hip hop\"],[\"album rock\"],[\"albuquerque indie\"],[\"alt-idol\"],[\"alte\"],[\"alternative americana\"],[\"alternative country\"],[\"alternative dance\"],[\"alternative emo\"],[\"alternative hip hop\"],[\"alternative metal\"],[\"alternative pop\"],[\"alternative pop rock\"],[\"alternative r&b\"],[\"alternative rock\"],[\"alternative roots rock\"],[\"ambeat\"],[\"ambient\"],[\"ambient black metal\"],[\"ambient folk\"],[\"ambient house\"],[\"ambient idm\"],[\"ambient industrial\"],[\"ambient pop\"],[\"ambient techno\"],[\"ambient worship\"],[\"american 21st century classical\"],[\"american choir\"],[\"american classical piano\"],[\"american contemporary classical\"],[\"american early music\"],[\"american folk revival\"],[\"american metalcore\"],[\"american modern classical\"],[\"american oi\"],[\"american orchestra\"],[\"american post-rock\"],[\"american primitive\"],[\"american romanticism\"],[\"american shoegaze\"],[\"anadolu rock\"],[\"anarcho-punk\"],[\"anglican liturgy\"],[\"animal singing\"],[\"anime\"],[\"anime latino\"],[\"anime rock\"],[\"anime score\"],[\"ann arbor indie\"],[\"anthem emo\"],[\"anthem worship\"],[\"anti-folk\"],[\"antilliaanse folklore\"],[\"antiviral pop\"],[\"appalachian folk\"],[\"arab folk\"],[\"arab groove\"],[\"arab pop\"],[\"arabesk\"],[\"arabic hip hop\"],[\"arabic jazz\"],[\"argentine ambient\"],[\"argentine hardcore\"],[\"argentine heavy metal\"],[\"argentine hip hop\"],[\"argentine indie\"],[\"argentine metal\"],[\"argentine punk\"],[\"argentine reggae\"],[\"argentine rock\"],[\"argentine telepop\"],[\"arizona punk\"],[\"arkansas country\"],[\"arkansas hip hop\"],[\"arkansas indie\"],[\"armenian folk\"],[\"art pop\"],[\"art punk\"],[\"art rock\"],[\"art song\"],[\"asbury park indie\"],[\"asheville indie\"],[\"asian american hip hop\"],[\"asmr\"],[\"athens indie\"],[\"atl hip hop\"],[\"atl trap\"],[\"atlanta indie\"],[\"atlanta metal\"],[\"atlanta punk\"],[\"atmosphere\"],[\"atmospheric black metal\"],[\"atmospheric dnb\"],[\"atmospheric post-metal\"],[\"atmospheric post-rock\"],[\"atmospheric sludge\"],[\"auckland indie\"],[\"audiophile vocal\"],[\"aussietronica\"],[\"austin americana\"],[\"austin singer-songwriter\"],[\"austindie\"],[\"australian alternative pop\"],[\"australian alternative rock\"],[\"australian ambient\"],[\"australian children's music\"],[\"australian choir\"],[\"australian classical\"],[\"australian classical piano\"],[\"australian country\"],[\"australian dance\"],[\"australian electropop\"],[\"australian garage punk\"],[\"australian hip hop\"],[\"australian house\"],[\"australian indie\"],[\"australian indie folk\"],[\"australian indie rock\"],[\"australian indigenous\"],[\"australian metal\"],[\"australian metalcore\"],[\"australian pop\"],[\"australian post-hardcore\"],[\"australian post-punk\"],[\"australian psych\"],[\"australian r&b\"],[\"australian reggae fusion\"],[\"australian rock\"],[\"australian singer-songwriter\"],[\"australian ska\"],[\"australian talent show\"],[\"australian trap\"],[\"australian underground hip hop\"],[\"austrian choir\"],[\"austrian classical piano\"],[\"austrian orchestra\"],[\"austrian pop\"],[\"austro-german modernism\"],[\"austropop\"],[\"autoharp\"],[\"autonomous black metal\"],[\"avant-garde\"],[\"avant-garde jazz\"],[\"avant-garde metal\"],[\"axe\"],[\"azeri traditional\"],[\"azonto\"],[\"azontobeats\"],[\"bachata\"],[\"bachata dominicana\"],[\"background music\"],[\"background piano\"],[\"baglama\"],[\"bahai\"],[\"bahamian folk\"],[\"bahamian pop\"],[\"baiao\"],[\"bajki\"],[\"bakersfield sound\"],[\"balearic\"],[\"balkan brass\"],[\"balkan classical piano\"],[\"ballet class\"],[\"ballroom\"],[\"baltic classical\"],[\"baltimore hip hop\"],[\"baltimore indie\"],[\"banda\"],[\"banda caliente\"],[\"banda carnavalera\"],[\"bandinhas\"],[\"bandolim\"],[\"bandoneon\"],[\"bangla\"],[\"banjo\"],[\"bansuri\"],[\"barbadian pop\"],[\"barbershop\"],[\"bard\"],[\"barnmusik\"],[\"barockinterpreten\"],[\"baroque\"],[\"baroque brass\"],[\"baroque ensemble\"],[\"baroque pop\"],[\"baroque singing\"],[\"baroque violin\"],[\"baroque woodwind\"],[\"bass house\"],[\"bass music\"],[\"bass trap\"],[\"basshall\"],[\"bassline\"],[\"bath indie\"],[\"baton rouge indie\"],[\"baton rouge rap\"],[\"battle rap\"],[\"bay area hip hop\"],[\"bay area indie\"],[\"bboy\"],[\"bc underground hip hop\"],[\"beach music\"],[\"beat italiano\"],[\"beat poetry\"],[\"beatboxing\"],[\"beatlesque\"],[\"bebop\"],[\"bedroom pop\"],[\"bedroom soul\"],[\"belarusian indie\"],[\"belarusian pop\"],[\"belarusian rock\"],[\"belgian classical piano\"],[\"belgian contemporary classical\"],[\"belgian dance\"],[\"belgian edm\"],[\"belgian hardcore\"],[\"belgian indie\"],[\"belgian indie rock\"],[\"belgian jazz\"],[\"belgian new wave\"],[\"belgian pop\"],[\"belgian rock\"],[\"belgian singer-songwriter\"],[\"belgian techno\"],[\"belly dance\"],[\"bengali folk\"],[\"beninese pop\"],[\"bergen indie\"],[\"berlin minimal techno\"],[\"berlin school\"],[\"bhajan\"],[\"bhangra\"],[\"bible\"],[\"big band\"],[\"big beat\"],[\"big room\"],[\"binaural\"],[\"birdsong\"],[\"birmingham grime\"],[\"birmingham hip hop\"],[\"birmingham metal\"],[\"bitpop\"],[\"black 'n' roll\"],[\"black comedy\"],[\"black metal\"],[\"black punk\"],[\"black thrash\"],[\"blackened crust\"],[\"blackgaze\"],[\"bleep techno\"],[\"bluegrass\"],[\"bluegrass fiddle\"],[\"bluegrass gospel\"],[\"blues\"],[\"blues latinoamericano\"],[\"blues mexicano\"],[\"blues rock\"],[\"bmore\"],[\"bolero\"],[\"bolero cubano\"],[\"boogaloo\"],[\"boogie\"],[\"boogie-woogie\"],[\"boom bap\"],[\"boom bap brasileiro\"],[\"bossa nova\"],[\"bossa nova jazz\"],[\"boston folk\"],[\"boston hardcore\"],[\"boston hip hop\"],[\"boston indie\"],[\"boston metal\"],[\"boston punk\"],[\"boston rock\"],[\"bounce\"],[\"bouncy house\"],[\"bouzouki\"],[\"bow pop\"],[\"boy band\"],[\"boy pop\"],[\"boy soprano\"],[\"brain waves\"],[\"braindance\"],[\"brass band\"],[\"brass ensemble\"],[\"brass quintet\"],[\"brazilian boogie\"],[\"brazilian classical\"],[\"brazilian classical piano\"],[\"brazilian contemporary classical\"],[\"brazilian edm\"],[\"brazilian groove metal\"],[\"brazilian hip hop\"],[\"brazilian indie\"],[\"brazilian jazz\"],[\"brazilian metal\"],[\"brazilian modern jazz\"],[\"brazilian percussion\"],[\"brazilian punk\"],[\"brazilian reggae\"],[\"brazilian rock\"],[\"brazilian ska\"],[\"brazilian soul\"],[\"brazilian thrash metal\"],[\"breakbeat\"],[\"breakcore\"],[\"brega\"],[\"breton folk\"],[\"brighton indie\"],[\"brill building pop\"],[\"brisbane indie\"],[\"bristol electronic\"],[\"bristol indie\"],[\"brit funk\"],[\"british alternative rock\"],[\"british black metal\"],[\"british blues\"],[\"british children's music\"],[\"british choir\"],[\"british classical piano\"],[\"british comedy\"],[\"british contemporary classical\"],[\"british dance band\"],[\"british death metal\"],[\"british experimental\"],[\"british folk\"],[\"british grindcore\"],[\"british indie rock\"],[\"british industrial\"],[\"british invasion\"],[\"british jazz\"],[\"british modern classical\"],[\"british orchestra\"],[\"british post-rock\"],[\"british power metal\"],[\"british singer-songwriter\"],[\"british soul\"],[\"british soundtrack\"],[\"britpop\"],[\"broadway\"],[\"broken beat\"],[\"bronx hip hop\"],[\"brooklyn drill\"],[\"brooklyn indie\"],[\"brostep\"],[\"brutal death metal\"],[\"brutal deathcore\"],[\"bubble trance\"],[\"bubblegrunge\"],[\"bubblegum dance\"],[\"bubblegum pop\"],[\"buffalo hip hop\"],[\"buffalo ny indie\"],[\"buffalo ny metal\"],[\"bulgarian experimental\"],[\"burmese traditional\"],[\"bush ballad\"],[\"c-pop\"],[\"c86\"],[\"cabaret\"],[\"cajun\"],[\"calgary indie\"],[\"cali rap\"],[\"calming instrumental\"],[\"calypso\"],[\"cambodian rock\"],[\"cambridge choir\"],[\"cambridgeshire indie\"],[\"cameroonian pop\"],[\"canadian americana\"],[\"canadian blues\"],[\"canadian ccm\"],[\"canadian celtic\"],[\"canadian children's music\"],[\"canadian choir\"],[\"canadian classical\"],[\"canadian classical piano\"],[\"canadian comedy\"],[\"canadian contemporary country\"],[\"canadian contemporary r&b\"],[\"canadian country\"],[\"canadian electronic\"],[\"canadian electropop\"],[\"canadian experimental\"],[\"canadian folk\"],[\"canadian hardcore\"],[\"canadian hip hop\"],[\"canadian house\"],[\"canadian indie\"],[\"canadian indie folk\"],[\"canadian indigenous\"],[\"canadian indigenous hip hop\"],[\"canadian latin\"],[\"canadian metal\"],[\"canadian metalcore\"],[\"canadian modern jazz\"],[\"canadian pop\"],[\"canadian pop punk\"],[\"canadian post-hardcore\"],[\"canadian post-rock\"],[\"canadian psychedelic\"],[\"canadian punk\"],[\"canadian rock\"],[\"canadian rockabilly\"],[\"canadian singer-songwriter\"],[\"canadian soundtrack\"],[\"cancion melodica\"],[\"candy pop\"],[\"cantautor\"],[\"cante flamenco\"],[\"canterbury scene\"],[\"canto popular uruguayo\"],[\"cantopop\"],[\"canzone d'autore\"],[\"canzone genovese\"],[\"canzone napoletana\"],[\"cape town indie\"],[\"cape verdean folk\"],[\"capoeira\"],[\"caracas indie\"],[\"carnatic\"],[\"carnatic instrumental\"],[\"carnatic vocal\"],[\"cartoon\"],[\"cathedral choir\"],[\"caucasian classical\"],[\"caucasian classical piano\"],[\"ccm\"],[\"cedm\"],[\"cello\"],[\"celtic\"],[\"celtic harp\"],[\"celtic metal\"],[\"celtic punk\"],[\"celtic rock\"],[\"cha-cha-cha\"],[\"chakra\"],[\"chamame\"],[\"chamber choir\"],[\"chamber ensemble\"],[\"chamber folk\"],[\"chamber orchestra\"],[\"chamber pop\"],[\"chamber psych\"],[\"champeta\"],[\"channel islands indie\"],[\"channel pop\"],[\"chanson\"],[\"chanson paillarde\"],[\"chaotic hardcore\"],[\"charanga\"],[\"charango\"],[\"charlotte nc indie\"],[\"charlottesville indie\"],[\"chattanooga indie\"],[\"chicago blues\"],[\"chicago drill\"],[\"chicago hardcore\"],[\"chicago house\"],[\"chicago indie\"],[\"chicago pop punk\"],[\"chicago punk\"],[\"chicago rap\"],[\"chicago soul\"],[\"chicano punk\"],[\"chicano rap\"],[\"chicha\"],[\"chihuahua indie\"],[\"children's choir\"],[\"children's folk\"],[\"children's music\"],[\"children's story\"],[\"chilean hardcore\"],[\"chilean indie\"],[\"chilean rock\"],[\"chilena\"],[\"chill beats\"],[\"chill guitar\"],[\"chill lounge\"],[\"chill out\"],[\"chill pop\"],[\"chill r&b\"],[\"chillhop\"],[\"chillstep\"],[\"chillwave\"],[\"chinese audiophile\"],[\"chinese classical\"],[\"chinese classical performance\"],[\"chinese classical piano\"],[\"chinese electropop\"],[\"chinese hip hop\"],[\"chinese idol pop\"],[\"chinese indie\"],[\"chinese indie rock\"],[\"chinese instrumental\"],[\"chinese jazz\"],[\"chinese r&b\"],[\"chinese soundtrack\"],[\"chinese traditional\"],[\"chiptune\"],[\"chopped and screwed\"],[\"choral\"],[\"choro\"],[\"christchurch indie\"],[\"christelijk\"],[\"christian a cappella\"],[\"christian alternative rock\"],[\"christian dance\"],[\"christian hard rock\"],[\"christian hardcore\"],[\"christian hip hop\"],[\"christian indie\"],[\"christian metal\"],[\"christian metalcore\"],[\"christian music\"],[\"christian pop\"],[\"christian power metal\"],[\"christian punk\"],[\"christian relaxative\"],[\"christian rock\"],[\"christian trap\"],[\"christian uplift\"],[\"christmas instrumental\"],[\"christmas product\"],[\"chunchaca\"],[\"chutney\"],[\"cincinnati rap\"],[\"cinematic post-rock\"],[\"circuit\"],[\"circus\"],[\"classic afrobeat\"],[\"classic arab pop\"],[\"classic australian country\"],[\"classic belgian pop\"],[\"classic bhangra\"],[\"classic bollywood\"],[\"classic canadian rock\"],[\"classic cantopop\"],[\"classic colombian pop\"],[\"classic country pop\"],[\"classic czech pop\"],[\"classic danish pop\"],[\"classic dubstep\"],[\"classic eurovision\"],[\"classic finnish pop\"],[\"classic french pop\"],[\"classic garage rock\"],[\"classic girl group\"],[\"classic greek pop\"],[\"classic hardstyle\"],[\"classic icelandic pop\"],[\"classic indo pop\"],[\"classic iskelma\"],[\"classic israeli pop\"],[\"classic italian folk pop\"],[\"classic italian pop\"],[\"classic j-rock\"],[\"classic japanese jazz\"],[\"classic korean pop\"],[\"classic latvian pop\"],[\"classic mandopop\"],[\"classic norwegian pop\"],[\"classic opm\"],[\"classic pakistani pop\"],[\"classic persian pop\"],[\"classic peruvian pop\"],[\"classic polish pop\"],[\"classic praise\"],[\"classic psychedelic rock\"],[\"classic punjabi pop\"],[\"classic rock\"],[\"classic russian pop\"],[\"classic russian rock\"],[\"classic schlager\"],[\"classic soul\"],[\"classic soundtrack\"],[\"classic swedish pop\"],[\"classic thai pop\"],[\"classic tunisian pop\"],[\"classic turkish pop\"],[\"classic uk pop\"],[\"classic venezuelan pop\"],[\"classical\"],[\"classical accordion\"],[\"classical baritone\"],[\"classical bass\"],[\"classical cello\"],[\"classical clarinet\"],[\"classical contralto\"],[\"classical countertenor\"],[\"classical era\"],[\"classical flute\"],[\"classical guitar\"],[\"classical harp\"],[\"classical horn\"],[\"classical mandolin\"],[\"classical mezzo-soprano\"],[\"classical oboe\"],[\"classical organ\"],[\"classical performance\"],[\"classical piano\"],[\"classical piano duo\"],[\"classical piano trio\"],[\"classical saxophone\"],[\"classical soprano\"],[\"classical tenor\"],[\"classical trumpet\"],[\"classify\"],[\"clawhammer banjo\"],[\"clean comedy\"],[\"cleveland metal\"],[\"coco\"],[\"collage pop\"],[\"college a cappella\"],[\"colombian hip hop\"],[\"colombian pop\"],[\"colombian rock\"],[\"columbus ohio indie\"],[\"comedy\"],[\"comedy rap\"],[\"comedy rock\"],[\"comic\"],[\"comic metal\"],[\"commons\"],[\"complextro\"],[\"compositional ambient\"],[\"concepcion indie\"],[\"concert band\"],[\"connecticut hardcore\"],[\"connecticut indie\"],[\"conscious hip hop\"],[\"contemporary choir\"],[\"contemporary classical\"],[\"contemporary classical piano\"],[\"contemporary country\"],[\"contemporary folk\"],[\"contemporary gospel\"],[\"contemporary jazz\"],[\"contemporary post-bop\"],[\"contemporary vocal jazz\"],[\"contrabass\"],[\"cool jazz\"],[\"copla\"],[\"cornish folk\"],[\"cornwall indie\"],[\"corrido\"],[\"corridos cristianos\"],[\"corridos tumbados\"],[\"corrosion\"],[\"cosmic american\"],[\"cosmic post-rock\"],[\"country\"],[\"country blues\"],[\"country boogie\"],[\"country dawn\"],[\"country gospel\"],[\"country pop\"],[\"country rap\"],[\"country road\"],[\"country rock\"],[\"coverchill\"],[\"cowboy western\"],[\"cowpunk\"],[\"crack rock steady\"],[\"croatian folk\"],[\"croatian pop\"],[\"croatian rock\"],[\"crossover thrash\"],[\"crunk\"],[\"crust punk\"],[\"cuarteto\"],[\"cuatro venezolano\"],[\"cuban alternative\"],[\"cuban rumba\"],[\"cubaton\"],[\"cumbia\"],[\"cumbia andina mexicana\"],[\"cumbia chilena\"],[\"cumbia colombiana regia\"],[\"cumbia ecuatoriana\"],[\"cumbia funk\"],[\"cumbia lagunera\"],[\"cumbia paraguaya\"],[\"cumbia peruana\"],[\"cumbia pop\"],[\"cumbia ranchera\"],[\"cumbia salvadorena\"],[\"cumbia santafesina\"],[\"cumbia sonidera\"],[\"cumbia villera\"],[\"cyberpunk\"],[\"cymraeg\"],[\"cypriot pop\"],[\"czech classical\"],[\"czech classical piano\"],[\"czech contemporary classical\"],[\"d-beat\"],[\"dabke\"],[\"dakke dak\"],[\"dallas indie\"],[\"dance pop\"],[\"dance rock\"],[\"dance-punk\"],[\"dancehall\"],[\"dangdut\"],[\"danish alternative rock\"],[\"danish classical\"],[\"danish electronic\"],[\"danish electropop\"],[\"danish hip hop\"],[\"danish jazz\"],[\"danish metal\"],[\"danish pop\"],[\"danish pop rock\"],[\"danish post-punk\"],[\"danish punk\"],[\"danish rock\"],[\"danish singer-songwriter\"],[\"dansband\"],[\"danseband\"],[\"dansktop\"],[\"danspunk\"],[\"dark cabaret\"],[\"dark clubbing\"],[\"dark disco\"],[\"dark hardcore\"],[\"dark jazz\"],[\"dark minimal techno\"],[\"dark post-punk\"],[\"dark techno\"],[\"dark trap\"],[\"dark wave\"],[\"darksynth\"],[\"dayton indie\"],[\"dc hardcore\"],[\"dc indie\"],[\"death 'n' roll\"],[\"death metal\"],[\"deathcore\"],[\"deathgrass\"],[\"deathgrind\"],[\"deathrash\"],[\"deathrock\"],[\"deathstep\"],[\"deep acoustic pop\"],[\"deep adult standards\"],[\"deep big room\"],[\"deep ccm\"],[\"deep christian rock\"],[\"deep classic garage rock\"],[\"deep comedy\"],[\"deep contemporary country\"],[\"deep dance pop\"],[\"deep delta blues\"],[\"deep disco\"],[\"deep disco house\"],[\"deep dnb\"],[\"deep east coast hip hop\"],[\"deep euro house\"],[\"deep flow\"],[\"deep free jazz\"],[\"deep freestyle\"],[\"deep full on\"],[\"deep funk\"],[\"deep g funk\"],[\"deep gothic post-punk\"],[\"deep groove house\"],[\"deep house\"],[\"deep idm\"],[\"deep indian pop\"],[\"deep indie singer-songwriter\"],[\"deep latin alternative\"],[\"deep latin christian\"],[\"deep melodic metalcore\"],[\"deep minimal techno\"],[\"deep motown\"],[\"deep new americana\"],[\"deep new wave\"],[\"deep norteno\"],[\"deep northern soul\"],[\"deep pop edm\"],[\"deep progressive house\"],[\"deep psychobilly\"],[\"deep punk rock\"],[\"deep r&b\"],[\"deep ragga\"],[\"deep regional mexican\"],[\"deep smooth jazz\"],[\"deep soft rock\"],[\"deep soul house\"],[\"deep soundtrack\"],[\"deep southern soul\"],[\"deep southern trap\"],[\"deep space rock\"],[\"deep talent show\"],[\"deep tech house\"],[\"deep techno\"],[\"deep tropical house\"],[\"deep underground hip hop\"],[\"deep uplifting trance\"],[\"delta blues\"],[\"dembow\"],[\"denpa-kei\"],[\"denton tx indie\"],[\"denver indie\"],[\"depressive black metal\"],[\"derby indie\"],[\"desert blues\"],[\"desi hip hop\"],[\"desi pop\"],[\"destroy techno\"],[\"detroit hip hop\"],[\"detroit house\"],[\"detroit techno\"],[\"detroit trap\"],[\"detske pisnicky\"],[\"detskie pesni\"],[\"devon indie\"],[\"dfw rap\"],[\"dhrupad\"],[\"digital hardcore\"],[\"dinner jazz\"],[\"dirty south rap\"],[\"dirty texas rap\"],[\"disco\"],[\"disco house\"],[\"disney\"],[\"diva house\"],[\"dixieland\"],[\"diy emo\"],[\"djent\"],[\"dmv rap\"],[\"dominican pop\"],[\"dong-yo\"],[\"doo-wop\"],[\"doom metal\"],[\"double drumming\"],[\"downtempo\"],[\"drama\"],[\"dream pop\"],[\"dream trance\"],[\"dreamgaze\"],[\"dreamo\"],[\"drift\"],[\"drill\"],[\"drill and bass\"],[\"drone\"],[\"drone folk\"],[\"drone metal\"],[\"drum and bass\"],[\"dub\"],[\"dub metal\"],[\"dub poetry\"],[\"dub techno\"],[\"dubstep\"],[\"dubsteppe\"],[\"duduk\"],[\"duluth indie\"],[\"dunedin indie\"],[\"dunedin sound\"],[\"dungeon synth\"],[\"duranguense\"],[\"dusseldorf electronic\"],[\"dutch blues\"],[\"dutch cabaret\"],[\"dutch classical piano\"],[\"dutch death metal\"],[\"dutch dnb\"],[\"dutch edm\"],[\"dutch folk\"],[\"dutch hip hop\"],[\"dutch house\"],[\"dutch indie\"],[\"dutch jazz\"],[\"dutch metal\"],[\"dutch pop\"],[\"dutch prog\"],[\"dutch rap pop\"],[\"dutch rock\"],[\"dutch trance\"],[\"e6fi\"],[\"early american folk\"],[\"early avant garde\"],[\"early modern classical\"],[\"early music\"],[\"early music choir\"],[\"early music ensemble\"],[\"early reggae\"],[\"early romantic era\"],[\"early synthpop\"],[\"early us punk\"],[\"east coast hip hop\"],[\"east coast reggae\"],[\"eastern bloc groove\"],[\"easy listening\"],[\"easycore\"],[\"eau claire indie\"],[\"ebm\"],[\"ecm-style jazz\"],[\"ectofolk\"],[\"ecuadorian pop\"],[\"edm\"],[\"edmonton indie\"],[\"egyptian pop\"],[\"egyptian traditional\"],[\"el paso indie\"],[\"electra\"],[\"electric bass\"],[\"electric blues\"],[\"electro\"],[\"electro house\"],[\"electro jazz\"],[\"electro latino\"],[\"electro swing\"],[\"electro-industrial\"],[\"electro-pop francais\"],[\"electroclash\"],[\"electrofox\"],[\"electronic djent\"],[\"electronic rock\"],[\"electronic trap\"],[\"electronica\"],[\"electronica argentina\"],[\"electropop\"],[\"electropowerpop\"],[\"emo\"],[\"emo mexicano\"],[\"emo punk\"],[\"emo rap\"],[\"emocore\"],[\"english baroque\"],[\"english indie rock\"],[\"english renaissance\"],[\"enka\"],[\"entehno\"],[\"environmental\"],[\"epic doom\"],[\"epicore\"],[\"erhu\"],[\"escape room\"],[\"esperanto\"],[\"essex indie\"],[\"estonian hip hop\"],[\"estonian pop\"],[\"ethereal wave\"],[\"etherpop\"],[\"ethio-jazz\"],[\"ethiopian pop\"],[\"ethnomusicology\"],[\"ethnotronica\"],[\"eugene indie\"],[\"euphoric hardstyle\"],[\"eurobeat\"],[\"eurodance\"],[\"europop\"],[\"euroska\"],[\"eurovision\"],[\"exotica\"],[\"experimental\"],[\"experimental ambient\"],[\"experimental big band\"],[\"experimental dub\"],[\"experimental folk\"],[\"experimental guitar\"],[\"experimental hip hop\"],[\"experimental house\"],[\"experimental indie\"],[\"experimental jazz\"],[\"experimental pop\"],[\"experimental rock\"],[\"experimental vocal\"],[\"fado\"],[\"family gospel\"],[\"faroese pop\"],[\"fast melodic punk\"],[\"fidget house\"],[\"filmi\"],[\"filter house\"],[\"filthstep\"],[\"final fantasy\"],[\"fingerstyle\"],[\"finnish alternative rock\"],[\"finnish classical\"],[\"finnish contemporary classical\"],[\"finnish death metal\"],[\"finnish edm\"],[\"finnish hard rock\"],[\"finnish heavy metal\"],[\"finnish metal\"],[\"finnish power metal\"],[\"finnish soul\"],[\"flamenco\"],[\"flamenco guitar\"],[\"flick hop\"],[\"flint hip hop\"],[\"float house\"],[\"florida death metal\"],[\"florida rap\"],[\"fluxwork\"],[\"fo jing\"],[\"focus\"],[\"focus beats\"],[\"focus trance\"],[\"folclor afrocolombiano\"],[\"folclor colombiano\"],[\"folclore extremeno\"],[\"folclore jujeno\"],[\"folclore navarra\"],[\"folclore salteno\"],[\"folclore tucumano\"],[\"folk\"],[\"folk metal\"],[\"folk punk\"],[\"folk rock\"],[\"folk rock italiano\"],[\"folk-pop\"],[\"folklore argentino\"],[\"folklore boliviano\"],[\"folklore chileno\"],[\"folklore ecuatoriano\"],[\"folklore peruano\"],[\"folklore venezolano\"],[\"folklore veracruzano\"],[\"folkmusik\"],[\"folktronica\"],[\"footwork\"],[\"forro\"],[\"forro tradicional\"],[\"fort worth indie\"],[\"fourth world\"],[\"francoton\"],[\"freak folk\"],[\"freakbeat\"],[\"free folk\"],[\"free improvisation\"],[\"free jazz\"],[\"freestyle\"],[\"french baroque\"],[\"french classical piano\"],[\"french contemporary classical\"],[\"french death metal\"],[\"french dnb\"],[\"french hip hop\"],[\"french indie folk\"],[\"french indie pop\"],[\"french indietronica\"],[\"french jazz\"],[\"french metal\"],[\"french movie tunes\"],[\"french opera\"],[\"french orchestra\"],[\"french pop\"],[\"french post-punk\"],[\"french psychedelic\"],[\"french reggae\"],[\"french rock\"],[\"french romanticism\"],[\"french shoegaze\"],[\"french soundtrack\"],[\"french synthpop\"],[\"french techno\"],[\"frenchcore\"],[\"full on\"],[\"funana\"],[\"funeral doom\"],[\"funk\"],[\"funk 150 bpm\"],[\"funk carioca\"],[\"funk das antigas\"],[\"funk metal\"],[\"funk mexicano\"],[\"funk ostentacao\"],[\"funk paulista\"],[\"funk pop\"],[\"funk rock\"],[\"funky breaks\"],[\"funky tech house\"],[\"future bass\"],[\"future funk\"],[\"future garage\"],[\"future house\"],[\"future rock\"],[\"futurepop\"],[\"g funk\"],[\"gabba\"],[\"gabonese pop\"],[\"gaian doom\"],[\"gainesville indie\"],[\"gaita zuliana\"],[\"galante era\"],[\"gamelan\"],[\"gaming dubstep\"],[\"gaming edm\"],[\"gangster rap\"],[\"garage house\"],[\"garage pop\"],[\"garage psych\"],[\"garage punk\"],[\"garage punk blues\"],[\"garage rock\"],[\"garage rock revival\"],[\"gauze pop\"],[\"gbvfi\"],[\"geek folk\"],[\"geek rock\"],[\"georgian folk\"],[\"german alternative rock\"],[\"german baroque\"],[\"german choir\"],[\"german classical piano\"],[\"german country\"],[\"german dance\"],[\"german hard rock\"],[\"german heavy metal\"],[\"german house\"],[\"german indie\"],[\"german jazz\"],[\"german literature\"],[\"german metal\"],[\"german oi\"],[\"german opera\"],[\"german orchestra\"],[\"german pop\"],[\"german pop rock\"],[\"german post-hardcore\"],[\"german power metal\"],[\"german punk\"],[\"german renaissance\"],[\"german rock\"],[\"german romanticism\"],[\"german show tunes\"],[\"german soundtrack\"],[\"german techno\"],[\"german thrash metal\"],[\"german trance\"],[\"german underground rap\"],[\"ghanaian hip hop\"],[\"ghanaian traditional\"],[\"ghazal\"],[\"ghent indie\"],[\"girl group\"],[\"glam metal\"],[\"glam punk\"],[\"glam rock\"],[\"glee club\"],[\"glitch\"],[\"glitch hop\"],[\"glitch pop\"],[\"glitchcore\"],[\"go-go\"],[\"goregrind\"],[\"gospel\"],[\"gospel antigas\"],[\"gospel blues\"],[\"gospel italiano\"],[\"gospel r&b\"],[\"gospel rap\"],[\"gospel singers\"],[\"gospel soul\"],[\"gothabilly\"],[\"gothenburg indie\"],[\"gothenburg metal\"],[\"gothic alternative\"],[\"gothic americana\"],[\"gothic black metal\"],[\"gothic metal\"],[\"gothic post-punk\"],[\"gothic rock\"],[\"gothic symphonic metal\"],[\"gqom\"],[\"grand rapids indie\"],[\"grave wave\"],[\"greek clarinet\"],[\"greek contemporary classical\"],[\"greek folk\"],[\"greek guitar\"],[\"greek house\"],[\"greek jazz\"],[\"greek pop\"],[\"greek swing\"],[\"gregorian chant\"],[\"grime\"],[\"grindcore\"],[\"griot\"],[\"groove metal\"],[\"groove room\"],[\"grunge\"],[\"grunge pop\"],[\"grupera\"],[\"gruperas inmortales\"],[\"guadalajara indie\"],[\"guam indie\"],[\"guaracha\"],[\"guatemalan pop\"],[\"guidance\"],[\"guinean pop\"],[\"guitarra argentina\"],[\"guitarra clasica\"],[\"guitarra portuguesa\"],[\"gujarati garba\"],[\"gujarati pop\"],[\"guzheng\"],[\"gymcore\"],[\"gypsy\"],[\"gypsy jazz\"],[\"gypsy punk\"],[\"haitian traditional\"],[\"halifax indie\"],[\"halloween\"],[\"hamburg electronic\"],[\"hammered dulcimer\"],[\"hammond organ\"],[\"hands up\"],[\"hangpan\"],[\"happy hardcore\"],[\"hard alternative\"],[\"hard bop\"],[\"hard minimal techno\"],[\"hard rock\"],[\"hard rock brasileiro\"],[\"hardcore\"],[\"hardcore hip hop\"],[\"hardcore punk\"],[\"hardcore techno\"],[\"hardstyle\"],[\"harlem hip hop\"],[\"harlem renaissance\"],[\"harmonica blues\"],[\"harmonica jazz\"],[\"harp\"],[\"harpsichord\"],[\"haryanvi pop\"],[\"hauntology\"],[\"hawaiian\"],[\"hawaiian hip hop\"],[\"hawaiian indie\"],[\"healing\"],[\"heartland rock\"],[\"hi-nrg\"],[\"highlife\"],[\"hindi hip hop\"],[\"hindi indie\"],[\"hindustani classical\"],[\"hindustani instrumental\"],[\"hindustani vocal\"],[\"hip hop\"],[\"hip hop cubano\"],[\"hip house\"],[\"hip pop\"],[\"hiplife\"],[\"histoire pour enfants\"],[\"historic classical performance\"],[\"historic orchestral performance\"],[\"historic piano performance\"],[\"historic string quartet\"],[\"historical keyboard\"],[\"historically informed performance\"],[\"hoerspiel\"],[\"hokkien pop\"],[\"hollywood\"],[\"hong kong hip hop\"],[\"hong kong indie\"],[\"hong kong rock\"],[\"honky tonk\"],[\"honky-tonk piano\"],[\"hopebeat\"],[\"horror punk\"],[\"horror synth\"],[\"horrorcore\"],[\"house\"],[\"houston rap\"],[\"huapango\"],[\"huayno\"],[\"hula\"],[\"humppa\"],[\"hungarian choir\"],[\"hungarian classical performance\"],[\"hungarian classical piano\"],[\"hungarian contemporary classical\"],[\"hungarian edm\"],[\"hungarian folk\"],[\"hungarian pop\"],[\"hungarian rock\"],[\"hungarian techno\"],[\"hurdy-gurdy\"],[\"hyperpop\"],[\"hyphy\"],[\"icelandic classical\"],[\"icelandic electronic\"],[\"icelandic experimental\"],[\"icelandic folk\"],[\"icelandic indie\"],[\"icelandic jazz\"],[\"icelandic pop\"],[\"icelandic rock\"],[\"idaho indie\"],[\"idol\"],[\"idol rock\"],[\"ilahiler\"],[\"ilocano pop\"],[\"impressionism\"],[\"indian classical\"],[\"indian edm\"],[\"indian folk\"],[\"indian fusion\"],[\"indian indie\"],[\"indian instrumental\"],[\"indian jazz\"],[\"indiana hip hop\"],[\"indie anthem-folk\"],[\"indie cafe pop\"],[\"indie deutschrap\"],[\"indie dream pop\"],[\"indie electronica\"],[\"indie electropop\"],[\"indie folk\"],[\"indie game soundtrack\"],[\"indie garage rock\"],[\"indie hip hop\"],[\"indie jazz\"],[\"indie pop\"],[\"indie pop rap\"],[\"indie poptimism\"],[\"indie psych-pop\"],[\"indie punk\"],[\"indie quebecois\"],[\"indie r&b\"],[\"indie rock\"],[\"indie rock mexicano\"],[\"indie rockism\"],[\"indie shoegaze\"],[\"indie singer-songwriter\"],[\"indie soul\"],[\"indie surf\"],[\"indie triste\"],[\"indiecoustica\"],[\"indietronica\"],[\"indonesian hip hop\"],[\"indonesian indie\"],[\"indonesian pop\"],[\"indonesian r&b\"],[\"indonesian worship\"],[\"industrial\"],[\"industrial hardcore\"],[\"industrial hip hop\"],[\"industrial metal\"],[\"industrial rock\"],[\"indy indie\"],[\"instrumental acoustic guitar\"],[\"instrumental bluegrass\"],[\"instrumental funk\"],[\"instrumental grime\"],[\"instrumental math rock\"],[\"instrumental post-rock\"],[\"instrumental progressive metal\"],[\"instrumental rock\"],[\"instrumental soul\"],[\"instrumental stoner rock\"],[\"instrumental surf\"],[\"intelligent dance music\"],[\"iowa hip hop\"],[\"irish accordion\"],[\"irish ballad\"],[\"irish banjo\"],[\"irish classical\"],[\"irish country\"],[\"irish dance\"],[\"irish fiddle\"],[\"irish folk\"],[\"irish hip hop\"],[\"irish indie\"],[\"irish metal\"],[\"irish pop\"],[\"irish pub song\"],[\"irish rock\"],[\"irish singer-songwriter\"],[\"iskelma\"],[\"islamic recitation\"],[\"isle of wight indie\"],[\"israeli classical\"],[\"israeli classical piano\"],[\"israeli folk\"],[\"israeli hip hop\"],[\"israeli mediterranean\"],[\"israeli pop\"],[\"israeli rock\"],[\"israeli singer-songwriter\"],[\"israeli techno\"],[\"italian adult pop\"],[\"italian baritone\"],[\"italian baroque\"],[\"italian baroque ensemble\"],[\"italian bass\"],[\"italian blues\"],[\"italian classical guitar\"],[\"italian classical piano\"],[\"italian contemporary jazz\"],[\"italian disco\"],[\"italian gothic\"],[\"italian gothic metal\"],[\"italian indie pop\"],[\"italian jazz\"],[\"italian library music\"],[\"italian mandolin\"],[\"italian metal\"],[\"italian mezzo-soprano\"],[\"italian modern prog\"],[\"italian opera\"],[\"italian orchestra\"],[\"italian pop rock\"],[\"italian power metal\"],[\"italian progressive metal\"],[\"italian progressive rock\"],[\"italian renaissance\"],[\"italian romanticism\"],[\"italian soprano\"],[\"italian soundtrack\"],[\"italian techno\"],[\"italian tenor\"],[\"italian violin\"],[\"italo dance\"],[\"italo house\"],[\"j-acoustic\"],[\"j-ambient\"],[\"j-dance\"],[\"j-division\"],[\"j-idol\"],[\"j-metal\"],[\"j-pixie\"],[\"j-pop\"],[\"j-pop girl group\"],[\"j-poprock\"],[\"j-punk\"],[\"j-reggae\"],[\"j-rock\"],[\"jacksonville indie\"],[\"jam band\"],[\"jamgrass\"],[\"jamtronica\"],[\"jangle pop\"],[\"japanese alternative rock\"],[\"japanese chillhop\"],[\"japanese city pop\"],[\"japanese classical\"],[\"japanese classical performance\"],[\"japanese classical piano\"],[\"japanese concert band\"],[\"japanese dream pop\"],[\"japanese electronic\"],[\"japanese electropop\"],[\"japanese emo\"],[\"japanese experimental\"],[\"japanese folk\"],[\"japanese garage rock\"],[\"japanese girl punk\"],[\"japanese heavy metal\"],[\"japanese idm\"],[\"japanese indie folk\"],[\"japanese indie rock\"],[\"japanese instrumental\"],[\"japanese jazz\"],[\"japanese jazz fusion\"],[\"japanese jazztronica\"],[\"japanese metalcore\"],[\"japanese new wave\"],[\"japanese piano\"],[\"japanese pop punk\"],[\"japanese post-hardcore\"],[\"japanese power metal\"],[\"japanese prog\"],[\"japanese psychedelic\"],[\"japanese punk rock\"],[\"japanese r&b\"],[\"japanese rockabilly\"],[\"japanese singer-songwriter\"],[\"japanese soundtrack\"],[\"japanese traditional\"],[\"japanese vgm\"],[\"japanese vocal jazz\"],[\"jawaiian\"],[\"jazz\"],[\"jazz accordion\"],[\"jazz blues\"],[\"jazz boom bap\"],[\"jazz brass\"],[\"jazz chileno\"],[\"jazz clarinet\"],[\"jazz colombiano\"],[\"jazz cubano\"],[\"jazz double bass\"],[\"jazz drums\"],[\"jazz flute\"],[\"jazz funk\"],[\"jazz fusion\"],[\"jazz guitar\"],[\"jazz harp\"],[\"jazz metal\"],[\"jazz mexicano\"],[\"jazz orchestra\"],[\"jazz organ\"],[\"jazz piano\"],[\"jazz pop\"],[\"jazz quartet\"],[\"jazz rap\"],[\"jazz rock\"],[\"jazz saxophone\"],[\"jazz trio\"],[\"jazz trombone\"],[\"jazz trumpet\"],[\"jazz tuba\"],[\"jazz venezolano\"],[\"jazz vibraphone\"],[\"jazz violin\"],[\"jazztronica\"],[\"jewish cantorial\"],[\"jewish hip hop\"],[\"jig and reel\"],[\"jordanian pop\"],[\"joropo\"],[\"jovem guarda\"],[\"jug band\"],[\"juju\"],[\"jump blues\"],[\"jump up\"],[\"k-indie\"],[\"k-pop\"],[\"k-pop boy group\"],[\"k-pop girl group\"],[\"k-rap\"],[\"kabarett\"],[\"kabyle\"],[\"kaneka\"],[\"kannada bhava geethe\"],[\"kansas city hip hop\"],[\"kashmiri pop\"],[\"kawaii future bass\"],[\"kawaii metal\"],[\"kayokyoku\"],[\"kc indie\"],[\"kent indie\"],[\"kentucky hip hop\"],[\"kentucky indie\"],[\"kentucky metal\"],[\"kentucky mountain folk\"],[\"kentucky punk\"],[\"kentucky roots\"],[\"keroncong\"],[\"khaleeji iraqi\"],[\"khmer\"],[\"kids dance party\"],[\"kindie rock\"],[\"kingston on indie\"],[\"kirtan\"],[\"kiwi rock\"],[\"kizomba antigas\"],[\"kleine hoerspiel\"],[\"klezmer\"],[\"knoxville indie\"],[\"kodomo no ongaku\"],[\"kolsche karneval\"],[\"komedi\"],[\"kompa\"],[\"kora\"],[\"korean classical performance\"],[\"korean classical piano\"],[\"korean indie rock\"],[\"korean mask singer\"],[\"korean pop\"],[\"korean r&b\"],[\"korean trap\"],[\"koto\"],[\"krautrock\"],[\"kundiman\"],[\"la indie\"],[\"la pop\"],[\"laboratorio\"],[\"lafayette indie\"],[\"laiko\"],[\"lancashire indie\"],[\"lancaster pa indie\"],[\"late romantic era\"],[\"latin\"],[\"latin afrobeat\"],[\"latin alternative\"],[\"latin american classical piano\"],[\"latin arena pop\"],[\"latin christian\"],[\"latin classical\"],[\"latin funk\"],[\"latin hip hop\"],[\"latin house\"],[\"latin jazz\"],[\"latin metal\"],[\"latin pop\"],[\"latin rock\"],[\"latin ska\"],[\"latin soundtrack\"],[\"latin talent show\"],[\"latin tech house\"],[\"latin viral pop\"],[\"latin worship\"],[\"latincore\"],[\"latino comedy\"],[\"latintronica\"],[\"latinx alternative\"],[\"latvian pop\"],[\"lds\"],[\"lds youth\"],[\"lebanese pop\"],[\"leicester indie\"],[\"lexington ky indie\"],[\"lgbtq+ hip hop\"],[\"library music\"],[\"liedermacher\"],[\"light music\"],[\"lilith\"],[\"liquid funk\"],[\"lithuanian electronic\"],[\"liverpool indie\"],[\"livetronica\"],[\"lldm\"],[\"lo star\"],[\"lo-fi\"],[\"lo-fi beats\"],[\"lo-fi brasileiro\"],[\"lo-fi chill\"],[\"lo-fi cover\"],[\"lo-fi emo\"],[\"lo-fi house\"],[\"lo-fi indie\"],[\"lo-fi vgm\"],[\"london rap\"],[\"louisiana blues\"],[\"louisiana metal\"],[\"louisville indie\"],[\"louisville underground\"],[\"lounge\"],[\"louvor\"],[\"lovers rock\"],[\"lullaby\"],[\"lund indie\"],[\"lute\"],[\"macedonian folk\"],[\"madchester\"],[\"madrigal\"],[\"magyar alternative\"],[\"maine hip hop\"],[\"maine indie\"],[\"mainland chinese pop\"],[\"makossa\"],[\"malaysian mandopop\"],[\"malaysian pop\"],[\"malian blues\"],[\"mallet\"],[\"malmo indie\"],[\"mambo\"],[\"manchester hip hop\"],[\"manchester indie\"],[\"mande pop\"],[\"mandolin\"],[\"mandopop\"],[\"manguebeat\"],[\"manila sound\"],[\"manitoba indie\"],[\"mantra\"],[\"marathi pop\"],[\"marathi traditional\"],[\"marching band\"],[\"mariachi\"],[\"mariachi cristiano\"],[\"marimba orquesta\"],[\"martial industrial\"],[\"mashup\"],[\"math rock\"],[\"mathcore\"],[\"mbalax\"],[\"medieval\"],[\"medieval folk\"],[\"medieval rock\"],[\"meditation\"],[\"melancholia\"],[\"melbourne bounce\"],[\"melbourne bounce international\"],[\"melbourne indie\"],[\"mellow gold\"],[\"melodic death metal\"],[\"melodic deathcore\"],[\"melodic dubstep\"],[\"melodic groove metal\"],[\"melodic hard rock\"],[\"melodic hardcore\"],[\"melodic metal\"],[\"melodic metalcore\"],[\"melodic power metal\"],[\"melodic rap\"],[\"melodic thrash\"],[\"meme rap\"],[\"memphis americana\"],[\"memphis blues\"],[\"memphis hip hop\"],[\"memphis indie\"],[\"memphis soul\"],[\"mento\"],[\"merengue\"],[\"merengue tipico\"],[\"merseybeat\"],[\"messianic praise\"],[\"metal\"],[\"metal guitar\"],[\"metal mineiro\"],[\"metalcore\"],[\"metropopolis\"],[\"mexican classic rock\"],[\"mexican classical\"],[\"mexican hip hop\"],[\"mexican indie\"],[\"mexican pop\"],[\"mexican pop punk\"],[\"mexican rock\"],[\"mexican rock-and-roll\"],[\"mexican son\"],[\"mexican traditional\"],[\"miami bass\"],[\"miami hip hop\"],[\"miami indie\"],[\"miami metal\"],[\"michigan indie\"],[\"microhouse\"],[\"microtonal\"],[\"middle earth\"],[\"middle east hip hop\"],[\"middle eastern traditional\"],[\"midwest americana\"],[\"midwest emo\"],[\"military cadence\"],[\"military rap\"],[\"milwaukee indie\"],[\"mindfulness\"],[\"minecraft\"],[\"minimal melodic techno\"],[\"minimal tech house\"],[\"minimal techno\"],[\"minimal wave\"],[\"minimalism\"],[\"minneapolis indie\"],[\"minneapolis metal\"],[\"minneapolis punk\"],[\"minneapolis sound\"],[\"minnesota hip hop\"],[\"mississippi hip hop\"],[\"mississippi indie\"],[\"mizrahi\"],[\"mod revival\"],[\"modern alternative pop\"],[\"modern alternative rock\"],[\"modern big band\"],[\"modern blues\"],[\"modern blues rock\"],[\"modern bollywood\"],[\"modern country rock\"],[\"modern dream pop\"],[\"modern folk rock\"],[\"modern funk\"],[\"modern hard rock\"],[\"modern indie pop\"],[\"modern jazz piano\"],[\"modern jazz trio\"],[\"modern old-time\"],[\"modern performance\"],[\"modern power pop\"],[\"modern psychedelic folk\"],[\"modern reggae\"],[\"modern rock\"],[\"modern salsa\"],[\"modern ska punk\"],[\"modern southern rock\"],[\"modern string quartet\"],[\"modern swing\"],[\"modern uplift\"],[\"modular synth\"],[\"moldovan pop\"],[\"mollywood\"],[\"mongolian hip hop\"],[\"mongolian pop\"],[\"monterrey indie\"],[\"montreal indie\"],[\"moog\"],[\"moombahton\"],[\"morna\"],[\"motivation\"],[\"motown\"],[\"mountain dulcimer\"],[\"movie tunes\"],[\"mpb\"],[\"music box\"],[\"music hall\"],[\"musica afroperuana\"],[\"musica alagoana\"],[\"musica andina\"],[\"musica andina colombiana\"],[\"musica antigua\"],[\"musica aragonesa\"],[\"musica ayacuchana\"],[\"musica canaria\"],[\"musica costarricense\"],[\"musica costena\"],[\"musica cristiana guatemalteca\"],[\"musica de fondo\"],[\"musica gaucha tradicionalista\"],[\"musica hondurena\"],[\"musica infantil\"],[\"musica jibara\"],[\"musica juiz-forana\"],[\"musica llanera\"],[\"musica nicaraguense\"],[\"musica para criancas\"],[\"musica para ninos\"],[\"musica paraibana\"],[\"musica piemonteisa\"],[\"musica popular colombiana\"],[\"musica popular mineira\"],[\"musica popular paraense\"],[\"musica potosina\"],[\"musica prehispanica\"],[\"musica sarda\"],[\"musica tradicional cubana\"],[\"musica tropical guatemalteca\"],[\"musical advocacy\"],[\"musikkorps\"],[\"musique concrete\"],[\"musique peule\"],[\"musique pour enfant quebecois\"],[\"musique pour enfants\"],[\"musique touareg\"],[\"muzica populara\"],[\"muzika l'yeladim\"],[\"naija worship\"],[\"nantes indie\"],[\"narodna muzika\"],[\"nashville americana\"],[\"nashville hip hop\"],[\"nashville indie\"],[\"nashville singer-songwriter\"],[\"nashville sound\"],[\"native american\"],[\"native american contemporary\"],[\"native american flute\"],[\"native american hip hop\"],[\"native american spiritual\"],[\"navajo\"],[\"nederlandse hardstyle\"],[\"nederpop\"],[\"neo classical metal\"],[\"neo kyma\"],[\"neo mellow\"],[\"neo r&b\"],[\"neo soul\"],[\"neo-classical\"],[\"neo-kraut\"],[\"neo-pagan\"],[\"neo-progressive\"],[\"neo-psychedelic\"],[\"neo-rockabilly\"],[\"neo-singer-songwriter\"],[\"neo-synthpop\"],[\"neo-trad metal\"],[\"neo-traditional bluegrass\"],[\"neo-traditional country\"],[\"neoclassical darkwave\"],[\"neoclassicism\"],[\"neofolk\"],[\"neon pop punk\"],[\"neotango\"],[\"nepali indie\"],[\"nepali pop\"],[\"nerdcore\"],[\"neue deutsche harte\"],[\"neue deutsche todeskunst\"],[\"neue deutsche welle\"],[\"neurofunk\"],[\"new age\"],[\"new age piano\"],[\"new americana\"],[\"new beat\"],[\"new comedy\"],[\"new england americana\"],[\"new england emo\"],[\"new french touch\"],[\"new isolationism\"],[\"new jack swing\"],[\"new jersey hardcore\"],[\"new jersey indie\"],[\"new jersey punk\"],[\"new jersey rap\"],[\"new mexico music\"],[\"new orleans blues\"],[\"new orleans funk\"],[\"new orleans indie\"],[\"new orleans jazz\"],[\"new orleans rap\"],[\"new rave\"],[\"new romantic\"],[\"new tribe\"],[\"new wave\"],[\"new wave of thrash metal\"],[\"new wave pop\"],[\"new weird america\"],[\"new york death metal\"],[\"new york drill\"],[\"new zealand classical\"],[\"newcastle indie\"],[\"newcastle nsw indie\"],[\"nigerian hip hop\"],[\"nigerian pop\"],[\"nightcore\"],[\"nightrun\"],[\"ninja\"],[\"nintendocore\"],[\"nisiotika\"],[\"nl folk\"],[\"no wave\"],[\"noise pop\"],[\"noise punk\"],[\"noise rock\"],[\"nordic classical piano\"],[\"nordic contemporary classical\"],[\"nordic folk\"],[\"nordic house\"],[\"nordic orchestra\"],[\"nordic post-rock\"],[\"nordic soundtrack\"],[\"norman ok indie\"],[\"norsk lovsang\"],[\"norteno\"],[\"norteno-sax\"],[\"north carolina emo\"],[\"north carolina hip hop\"],[\"north carolina indie\"],[\"north carolina metal\"],[\"north carolina roots\"],[\"north east england indie\"],[\"northern irish indie\"],[\"northern irish punk\"],[\"northern soul\"],[\"norwegian black metal\"],[\"norwegian choir\"],[\"norwegian classical\"],[\"norwegian contemporary jazz\"],[\"norwegian death metal\"],[\"norwegian experimental\"],[\"norwegian hip hop\"],[\"norwegian indie\"],[\"norwegian jazz\"],[\"norwegian metal\"],[\"norwegian pop\"],[\"norwegian pop rap\"],[\"norwegian punk rock\"],[\"norwegian rock\"],[\"norwegian singer-songwriter\"],[\"norwegian space disco\"],[\"nottingham indie\"],[\"nouvelle chanson francaise\"],[\"nova canco\"],[\"nova mpb\"],[\"nova musica pernambucana\"],[\"novelty\"],[\"nu age\"],[\"nu disco\"],[\"nu gaze\"],[\"nu jazz\"],[\"nu metal\"],[\"nu skool breaks\"],[\"nu-cumbia\"],[\"nu-metalcore\"],[\"nubian traditional\"],[\"nueva cancion\"],[\"nueva ola chilena\"],[\"nueva ola peruana\"],[\"nuevo flamenco\"],[\"nuevo folklore mexicano\"],[\"nuevo regional mexicano\"],[\"nuevo tango\"],[\"nursery\"],[\"nwobhm\"],[\"nwothm\"],[\"ny roots\"],[\"nyc pop\"],[\"nyc rap\"],[\"nyhc\"],[\"nz christian\"],[\"nz folk\"],[\"nz hardcore\"],[\"nz indie\"],[\"nz pop\"],[\"nz punk\"],[\"nz reggae\"],[\"nz singer-songwriter\"],[\"oakland hip hop\"],[\"oakland indie\"],[\"oc indie\"],[\"oc rap\"],[\"oceania soundtrack\"],[\"ohio hip hop\"],[\"ohio indie\"],[\"oi\"],[\"ok indie\"],[\"okc indie\"],[\"okinawan pop\"],[\"oklahoma country\"],[\"old school dancehall\"],[\"old school hip hop\"],[\"old school rap francais\"],[\"old school thrash\"],[\"old school uk hip hop\"],[\"old west\"],[\"old-time\"],[\"old-time fiddle\"],[\"olympia wa indie\"],[\"omaha indie\"],[\"one-person band\"],[\"ontario indie\"],[\"opera\"],[\"opera chorus\"],[\"opera metal\"],[\"operatic pop\"],[\"operetta\"],[\"opm\"],[\"oratory\"],[\"orchestra\"],[\"orchestral performance\"],[\"orebro indie\"],[\"organic ambient\"],[\"organic electronic\"],[\"organic house\"],[\"orgcore\"],[\"oriental classical\"],[\"orkney and shetland folk\"],[\"orlando indie\"],[\"orquesta tipica\"],[\"orthodox chant\"],[\"oshare kei\"],[\"otacore\"],[\"oth indie\"],[\"ottawa indie\"],[\"ottawa rap\"],[\"oud\"],[\"outer hip hop\"],[\"outlaw country\"],[\"outsider\"],[\"outsider house\"],[\"oxford choir\"],[\"oxford indie\"],[\"p funk\"],[\"pagan black metal\"],[\"pagode\"],[\"pagode baiano\"],[\"paisley underground\"],[\"pakistani folk\"],[\"pakistani hip hop\"],[\"pakistani pop\"],[\"palestinian pop\"],[\"palm desert scene\"],[\"panamanian pop\"],[\"panamanian rock\"],[\"panpipe\"],[\"papuri\"],[\"parody\"],[\"partido alto\"],[\"partyschlager\"],[\"pei indie\"],[\"permanent wave\"],[\"perreo\"],[\"persian pop\"],[\"persian traditional\"],[\"perth indie\"],[\"peruvian hip hop\"],[\"peruvian rock\"],[\"pet calming\"],[\"philly indie\"],[\"philly rap\"],[\"philly soul\"],[\"phoenix indie\"],[\"phonk\"],[\"pianissimo\"],[\"piano blues\"],[\"piano cover\"],[\"piano mpb\"],[\"piano rock\"],[\"pibroch\"],[\"piedmont blues\"],[\"pinoy hip hop\"],[\"pinoy indie\"],[\"pinoy pop punk\"],[\"pinoy praise\"],[\"pinoy r&b\"],[\"pinoy reggae\"],[\"pinoy rock\"],[\"pinoy traditional\"],[\"pinoy trap\"],[\"pirate\"],[\"pittsburgh indie\"],[\"pittsburgh rap\"],[\"pittsburgh rock\"],[\"pixie\"],[\"plunderphonics\"],[\"poetry\"],[\"polca paraguaya\"],[\"polish blues\"],[\"polish classical\"],[\"polish classical piano\"],[\"polish contemporary classical\"],[\"polish jazz\"],[\"polish modern jazz\"],[\"polish pop\"],[\"polish post-rock\"],[\"polish reggae\"],[\"polish rock\"],[\"political hip hop\"],[\"polka\"],[\"polynesian hip hop\"],[\"polynesian pop\"],[\"polyphony\"],[\"pony\"],[\"pop\"],[\"pop argentino\"],[\"pop chileno\"],[\"pop dance\"],[\"pop edm\"],[\"pop electronico\"],[\"pop emo\"],[\"pop flamenco\"],[\"pop folk\"],[\"pop house\"],[\"pop nacional\"],[\"pop nacional antigas\"],[\"pop peruano\"],[\"pop punk\"],[\"pop quebecois\"],[\"pop r&b\"],[\"pop rap\"],[\"pop reggaeton\"],[\"pop rock\"],[\"pop rock brasileiro\"],[\"pop romantico\"],[\"pop soul\"],[\"pop venezolano\"],[\"pop violin\"],[\"popgaze\"],[\"popping\"],[\"pops orchestra\"],[\"popwave\"],[\"pornogrind\"],[\"porro\"],[\"portland hip hop\"],[\"portland indie\"],[\"portland metal\"],[\"portland punk\"],[\"portuguese early music\"],[\"post-disco\"],[\"post-disco soul\"],[\"post-doom metal\"],[\"post-grunge\"],[\"post-hardcore\"],[\"post-metal\"],[\"post-minimalism\"],[\"post-post-hardcore\"],[\"post-punk\"],[\"post-punk argentina\"],[\"post-rock\"],[\"post-romantic era\"],[\"post-screamo\"],[\"post-teen pop\"],[\"power metal\"],[\"power pop\"],[\"power thrash\"],[\"power-pop punk\"],[\"praise\"],[\"prepared piano\"],[\"preschool children's music\"],[\"prog quebec\"],[\"progressive alternative\"],[\"progressive bluegrass\"],[\"progressive deathcore\"],[\"progressive electro house\"],[\"progressive groove metal\"],[\"progressive house\"],[\"progressive jazz fusion\"],[\"progressive metal\"],[\"progressive metalcore\"],[\"progressive post-hardcore\"],[\"progressive power metal\"],[\"progressive psytrance\"],[\"progressive rock\"],[\"progressive sludge\"],[\"progressive trance\"],[\"progressive trance house\"],[\"progressive uplifting trance\"],[\"proto-rap\"],[\"proto-techno\"],[\"protopunk\"],[\"psalmen\"],[\"psicodelia brasileira\"],[\"psybass\"],[\"psychedelic blues-rock\"],[\"psychedelic doom\"],[\"psychedelic folk\"],[\"psychedelic folk rock\"],[\"psychedelic hip hop\"],[\"psychedelic pop\"],[\"psychedelic punk\"],[\"psychedelic rock\"],[\"psychedelic soul\"],[\"psychedelic trance\"],[\"psychill\"],[\"psychobilly\"],[\"pub rock\"],[\"puerto rican folk\"],[\"puerto rican pop\"],[\"puerto rican rock\"],[\"punjabi folk\"],[\"punjabi hip hop\"],[\"punjabi pop\"],[\"punk\"],[\"punk 'n' roll\"],[\"punk blues\"],[\"punk rock italiano\"],[\"punk rock mexicano\"],[\"punta\"],[\"purple sound\"],[\"qawwali\"],[\"quartetto d'archi\"],[\"quatuor a cordes\"],[\"quebec death metal\"],[\"quebec indie\"],[\"queens hip hop\"],[\"queer country\"],[\"queercore\"],[\"quiet storm\"],[\"quran\"],[\"r&b\"],[\"r&b en espanol\"],[\"rabindra sangeet\"],[\"radio symphony\"],[\"ragtime\"],[\"rai\"],[\"ranchera\"],[\"rap\"],[\"rap chileno\"],[\"rap conciencia\"],[\"rap conscient\"],[\"rap cristiano\"],[\"rap dominicano\"],[\"rap kreyol\"],[\"rap latina\"],[\"rap metal\"],[\"rap nacional antigo\"],[\"rap napoletano\"],[\"rap rock\"],[\"rap underground mexicano\"],[\"rare groove\"],[\"rave\"],[\"rawstyle\"],[\"reading\"],[\"reading indie\"],[\"rebel blues\"],[\"rebetiko\"],[\"recorder\"],[\"red dirt\"],[\"redneck\"],[\"reggae\"],[\"reggae en espanol\"],[\"reggae fusion\"],[\"reggae rock\"],[\"reggaeton\"],[\"reggaeton colombiano\"],[\"reggaeton cristiano\"],[\"reggaeton flow\"],[\"reggaeton mexicano\"],[\"regional mexican\"],[\"relaxative\"],[\"renaissance\"],[\"rennes indie\"],[\"retro metal\"],[\"retro soul\"],[\"rhode island indie\"],[\"rhode island rap\"],[\"rhythm and blues\"],[\"riddim\"],[\"rif\"],[\"riot grrrl\"],[\"ritmo kombina\"],[\"rochester mn indie\"],[\"rochester ny indie\"],[\"rock\"],[\"rock alternatif francais\"],[\"rock alternativo brasileiro\"],[\"rock andaluz\"],[\"rock baiano\"],[\"rock brasiliense\"],[\"rock chapin\"],[\"rock cristiano\"],[\"rock drums\"],[\"rock en espanol\"],[\"rock gaucho\"],[\"rock independant francais\"],[\"rock kapak\"],[\"rock keyboard\"],[\"rock nacional\"],[\"rock nacional brasileiro\"],[\"rock pernambucano\"],[\"rock progressif francais\"],[\"rock steady\"],[\"rock urbano mexicano\"],[\"rock-and-roll\"],[\"rockabilly\"],[\"rockabilly en espanol\"],[\"roda de samba\"],[\"romanian classical piano\"],[\"romanian electronic\"],[\"romanian folk\"],[\"romanian pop\"],[\"romanian rock\"],[\"romantico\"],[\"roots americana\"],[\"roots reggae\"],[\"roots rock\"],[\"roots worship\"],[\"rosary\"],[\"rumba\"],[\"rumba congolaise\"],[\"rune folk\"],[\"russian alternative rock\"],[\"russian ccm\"],[\"russian chanson\"],[\"russian choir\"],[\"russian classical piano\"],[\"russian dance\"],[\"russian edm\"],[\"russian folk\"],[\"russian folk rock\"],[\"russian jazz\"],[\"russian metal\"],[\"russian metalcore\"],[\"russian modern classical\"],[\"russian orchestra\"],[\"russian pop\"],[\"russian post-punk\"],[\"russian punk\"],[\"russian rock\"],[\"russian romanticism\"],[\"russian shoegaze\"],[\"russian trance\"],[\"rva indie\"],[\"rwandan traditional\"],[\"ryukyu ongaku\"],[\"sacramento hip hop\"],[\"sacramento indie\"],[\"sacred steel\"],[\"sad rap\"],[\"salsa\"],[\"salsa choke\"],[\"salsa colombiana\"],[\"salsa cubana\"],[\"salsa international\"],[\"salsa peruana\"],[\"salsa puertorriquena\"],[\"salsa venezolana\"],[\"samba\"],[\"samba de roda\"],[\"samba moderno\"],[\"samba-enredo\"],[\"samba-jazz\"],[\"samba-rock\"],[\"san antonio rap\"],[\"san diego indie\"],[\"san diego rap\"],[\"san marcos tx indie\"],[\"sandalwood\"],[\"sarod\"],[\"saskatchewan indie\"],[\"scam rap\"],[\"scandinavian r&b\"],[\"scandipop\"],[\"schlager\"],[\"scorecore\"],[\"scottish electronic\"],[\"scottish fiddle\"],[\"scottish folk\"],[\"scottish hip hop\"],[\"scottish indie\"],[\"scottish jazz\"],[\"scottish metal\"],[\"scottish new wave\"],[\"scottish rock\"],[\"scottish singer-songwriter\"],[\"scratch\"],[\"scream rap\"],[\"screamo\"],[\"seattle hip hop\"],[\"seattle indie\"],[\"second line\"],[\"sefardi\"],[\"serbian electronic\"],[\"serialism\"],[\"sertanejo\"],[\"sertanejo pop\"],[\"sertanejo tradicional\"],[\"sertanejo universitario\"],[\"sevdah\"],[\"sevillanas\"],[\"shaabi\"],[\"shabad\"],[\"shakuhachi\"],[\"shamanic\"],[\"shanty\"],[\"sheffield indie\"],[\"shibuya-kei\"],[\"shimmer pop\"],[\"shimmer psych\"],[\"shiver pop\"],[\"shoegaze\"],[\"show tunes\"],[\"shred\"],[\"shush\"],[\"sierreno\"],[\"singaporean mandopop\"],[\"singaporean pop\"],[\"singaporean singer-songwriter\"],[\"singer-songwriter\"],[\"singing bowl\"],[\"sitar\"],[\"ska\"],[\"ska argentino\"],[\"ska chileno\"],[\"ska jazz\"],[\"ska mexicano\"],[\"ska punk\"],[\"ska revival\"],[\"skate punk\"],[\"skiffle\"],[\"skramz\"],[\"sky room\"],[\"slack-key guitar\"],[\"slam poetry\"],[\"slamming deathcore\"],[\"slavic folk metal\"],[\"slayer\"],[\"slc indie\"],[\"sleaze rock\"],[\"sleep\"],[\"slovak electronic\"],[\"slovenian electronic\"],[\"slovenian metal\"],[\"slow game\"],[\"slowcore\"],[\"sludge metal\"],[\"small room\"],[\"smooth jazz\"],[\"smooth saxophone\"],[\"smooth soul\"],[\"soca\"],[\"socal pop punk\"],[\"social media pop\"],[\"soda pop\"],[\"soft rock\"],[\"solipsynthm\"],[\"son cubano\"],[\"son cubano clasico\"],[\"son jarocho\"],[\"sophisti-pop\"],[\"sotalaulut\"],[\"soukous\"],[\"soul\"],[\"soul blues\"],[\"soul flow\"],[\"soul jazz\"],[\"souldies\"],[\"sound\"],[\"sound art\"],[\"sound effects\"],[\"sound team\"],[\"soundtrack\"],[\"south african alternative\"],[\"south african choral\"],[\"south african country\"],[\"south african hip hop\"],[\"south african house\"],[\"south african jazz\"],[\"south african pop\"],[\"south african pop dance\"],[\"south african rock\"],[\"south carolina hip hop\"],[\"south carolina indie\"],[\"south carolina metal\"],[\"south dakota indie\"],[\"southampton indie\"],[\"southern americana\"],[\"southern gospel\"],[\"southern hip hop\"],[\"southern metal\"],[\"southern rock\"],[\"southern soul\"],[\"southern soul blues\"],[\"soviet synthpop\"],[\"sovietwave\"],[\"spa\"],[\"space age pop\"],[\"space ambient\"],[\"space rock\"],[\"spanish baroque\"],[\"spanish classical\"],[\"spanish classical piano\"],[\"spanish folk metal\"],[\"spanish hip hop\"],[\"spanish indie pop\"],[\"spanish invasion\"],[\"spanish metal\"],[\"spanish modern rock\"],[\"spanish new wave\"],[\"spanish noise pop\"],[\"spanish pop\"],[\"spanish pop rock\"],[\"spanish renaissance\"],[\"spanish rock\"],[\"spanish synthpop\"],[\"spanish techno\"],[\"speed garage\"],[\"speed metal\"],[\"speedcore\"],[\"spiritual hip hop\"],[\"spiritual jazz\"],[\"spirituals\"],[\"springfield mo indie\"],[\"spytrack\"],[\"st louis rap\"],[\"steampunk\"],[\"steel guitar\"],[\"steelpan\"],[\"stl indie\"],[\"stomp and flutter\"],[\"stomp and holler\"],[\"stomp and whittle\"],[\"stomp pop\"],[\"stoner metal\"],[\"stoner rock\"],[\"straight edge\"],[\"straight-ahead jazz\"],[\"street band\"],[\"street punk\"],[\"streichquartett\"],[\"stride\"],[\"string band\"],[\"string folk\"],[\"string orchestra\"],[\"string quartet\"],[\"strut\"],[\"substep\"],[\"sudanese pop\"],[\"sufi\"],[\"sufi chant\"],[\"sunshine pop\"],[\"supergroup\"],[\"surf music\"],[\"surf punk\"],[\"svensk progg\"],[\"swamp blues\"],[\"swamp pop\"],[\"swamp rock\"],[\"swancore\"],[\"swedish alternative rock\"],[\"swedish americana\"],[\"swedish black metal\"],[\"swedish choir\"],[\"swedish country\"],[\"swedish dancehall\"],[\"swedish death metal\"],[\"swedish doom metal\"],[\"swedish electronic\"],[\"swedish electropop\"],[\"swedish eurodance\"],[\"swedish garage rock\"],[\"swedish hard rock\"],[\"swedish hardcore\"],[\"swedish heavy metal\"],[\"swedish house\"],[\"swedish idol pop\"],[\"swedish indie folk\"],[\"swedish indie pop\"],[\"swedish indie rock\"],[\"swedish jazz\"],[\"swedish jazz orkester\"],[\"swedish melodic rock\"],[\"swedish metal\"],[\"swedish metalcore\"],[\"swedish pop\"],[\"swedish post-hardcore\"],[\"swedish power metal\"],[\"swedish prog\"],[\"swedish progressive metal\"],[\"swedish rock-and-roll\"],[\"swedish singer-songwriter\"],[\"swedish soul\"],[\"swedish stoner rock\"],[\"swedish synth\"],[\"swedish synthpop\"],[\"swedish tropical house\"],[\"swedish underground rap\"],[\"swing\"],[\"swing italiano\"],[\"swing revival\"],[\"swiss black metal\"],[\"swiss classical piano\"],[\"swiss country\"],[\"swiss metal\"],[\"swiss pop\"],[\"swiss rock\"],[\"swiss worship\"],[\"sydney indie\"],[\"symphonic black metal\"],[\"symphonic metal\"],[\"symphonic rock\"],[\"synth funk\"],[\"synthpop\"],[\"synthwave\"],[\"syrian pop\"],[\"tabla\"],[\"tagalog rap\"],[\"tagalog worship\"],[\"taiwan campus folk\"],[\"taiwan classical performance\"],[\"taiwan hip hop\"],[\"taiwan indie\"],[\"taiwan pop\"],[\"taiwan singer-songwriter\"],[\"tajik pop\"],[\"talent show\"],[\"tamaulipas indie\"],[\"tamaulipas rap\"],[\"tamborazo\"],[\"tamil hip hop\"],[\"tamil pop\"],[\"tamil worship\"],[\"tampa indie\"],[\"tango\"],[\"tango cancion\"],[\"tape club\"],[\"tech house\"],[\"technical death metal\"],[\"technical deathcore\"],[\"technical groove metal\"],[\"technical melodic death metal\"],[\"technical thrash\"],[\"techno\"],[\"techno kayo\"],[\"tecnobanda\"],[\"teen pop\"],[\"tejano\"],[\"tempe indie\"],[\"tennessee hip hop\"],[\"tennessee metal\"],[\"tex-mex\"],[\"texas blues\"],[\"texas country\"],[\"texas latin rap\"],[\"texas pop punk\"],[\"texas punk\"],[\"thai folk\"],[\"thai folk rock\"],[\"thai idol\"],[\"thai indie rock\"],[\"thai pop\"],[\"thall\"],[\"theme\"],[\"theremin\"],[\"thrash core\"],[\"thrash metal\"],[\"timba\"],[\"tin pan alley\"],[\"tipico\"],[\"tolkien metal\"],[\"tollywood\"],[\"tone\"],[\"torch song\"],[\"toronto indie\"],[\"toronto rap\"],[\"trad jazz catala\"],[\"traditional bluegrass\"],[\"traditional blues\"],[\"traditional british folk\"],[\"traditional country\"],[\"traditional folk\"],[\"traditional funk\"],[\"traditional rockabilly\"],[\"traditional ska\"],[\"traditional soul\"],[\"trance\"],[\"trance mexicano\"],[\"trancecore\"],[\"transpop\"],[\"trap\"],[\"trap argentino\"],[\"trap chileno\"],[\"trap dominicano\"],[\"trap latino\"],[\"trap mexicano\"],[\"trap queen\"],[\"trap soul\"],[\"trap triste\"],[\"trap venezolano\"],[\"traprun\"],[\"trash rock\"],[\"triangle indie\"],[\"tribal house\"],[\"trinidadian reggae\"],[\"trio cubano\"],[\"trip hop\"],[\"trival\"],[\"tropical\"],[\"tropical house\"],[\"tropicalia\"],[\"trova\"],[\"trova mexicana\"],[\"truck-driving country\"],[\"tuareg guitar\"],[\"tucson indie\"],[\"tulsa indie\"],[\"tuna estudiantil\"],[\"tunisian pop\"],[\"turbo folk\"],[\"turkish classical\"],[\"turkish classical performance\"],[\"turkish edm\"],[\"turkish experimental\"],[\"turkish folk\"],[\"turkish jazz\"],[\"turkish modern jazz\"],[\"turkish pop\"],[\"turkish psych\"],[\"turkish trap\"],[\"turkish trap pop\"],[\"turntablism\"],[\"twee pop\"],[\"twoubadou\"],[\"tzadik\"],[\"ugandan pop\"],[\"uilleann pipes\"],[\"uk alternative hip hop\"],[\"uk alternative pop\"],[\"uk americana\"],[\"uk contemporary jazz\"],[\"uk contemporary r&b\"],[\"uk dance\"],[\"uk dancehall\"],[\"uk diy punk\"],[\"uk dnb\"],[\"uk doom metal\"],[\"uk dub\"],[\"uk experimental electronic\"],[\"uk funky\"],[\"uk garage\"],[\"uk hip hop\"],[\"uk house\"],[\"uk metalcore\"],[\"uk noise rock\"],[\"uk pop\"],[\"uk pop punk\"],[\"uk post-hardcore\"],[\"uk post-punk\"],[\"uk reggae\"],[\"uk rockabilly\"],[\"uk stoner rock\"],[\"uk worship\"],[\"uk82\"],[\"ukrainian choir\"],[\"ukrainian classical\"],[\"ukrainian classical piano\"],[\"ukrainian electronic\"],[\"ukrainian pop\"],[\"ukulele\"],[\"umbanda\"],[\"underground hip hop\"],[\"underground power pop\"],[\"underground rap\"],[\"university choir\"],[\"uplifting trance\"],[\"uptempo hardcore\"],[\"urban contemporary\"],[\"urbano espanol\"],[\"us power metal\"],[\"utah indie\"],[\"uzbek pop\"],[\"uzbek traditional\"],[\"v-pop\"],[\"vallenato\"],[\"vallenato moderno\"],[\"vancouver indie\"],[\"vancouver metal\"],[\"vancouver punk\"],[\"vapor pop\"],[\"vapor soul\"],[\"vapor trap\"],[\"vapor twitch\"],[\"vaporwave\"],[\"variete francaise\"],[\"vaudeville\"],[\"vbs\"],[\"veena\"],[\"vegan straight edge\"],[\"vegas indie\"],[\"velha guarda\"],[\"venezuelan hip hop\"],[\"venezuelan indie\"],[\"venezuelan rock\"],[\"veracruz indie\"],[\"vermont indie\"],[\"vgm instrumental\"],[\"vgm remix\"],[\"victoria bc indie\"],[\"victorian britain\"],[\"video game music\"],[\"vienna indie\"],[\"vietnamese bolero\"],[\"vietnamese pop\"],[\"viking black metal\"],[\"viking folk\"],[\"viking metal\"],[\"villancicos\"],[\"vintage chanson\"],[\"vintage chinese pop\"],[\"vintage classical singing\"],[\"vintage country folk\"],[\"vintage dutch pop\"],[\"vintage french electronic\"],[\"vintage gospel\"],[\"vintage hollywood\"],[\"vintage italian pop\"],[\"vintage italian soundtrack\"],[\"vintage jazz\"],[\"vintage old-time\"],[\"vintage rockabilly\"],[\"vintage schlager\"],[\"vintage spanish pop\"],[\"vintage swedish pop\"],[\"vintage swing\"],[\"vintage tango\"],[\"viola\"],[\"violao\"],[\"violao classico\"],[\"violin\"],[\"viral pop\"],[\"viral rap\"],[\"viral trap\"],[\"virgin islands reggae\"],[\"virginia hip hop\"],[\"virginia metal\"],[\"virginia punk\"],[\"visor\"],[\"visual kei\"],[\"vocal ensemble\"],[\"vocal harmony group\"],[\"vocal house\"],[\"vocal jazz\"],[\"vocal trance\"],[\"vocaloid\"],[\"vogue\"],[\"volksmusik\"],[\"warm drone\"],[\"washboard\"],[\"washington indie\"],[\"wassoulou\"],[\"water\"],[\"wave\"],[\"welsh folk\"],[\"welsh indie\"],[\"welsh metal\"],[\"welsh rock\"],[\"west african jazz\"],[\"west australian hip hop\"],[\"west coast rap\"],[\"west coast reggae\"],[\"west coast trap\"],[\"west end\"],[\"west virginia indie\"],[\"western americana\"],[\"western mass indie\"],[\"western saharan folk\"],[\"western swing\"],[\"white noise\"],[\"wind ensemble\"],[\"wind quintet\"],[\"wisconsin indie\"],[\"witch house\"],[\"women's choir\"],[\"women's music\"],[\"wonky\"],[\"worcester ma indie\"],[\"world\"],[\"world fusion\"],[\"world meditation\"],[\"world worship\"],[\"worship\"],[\"wrestling\"],[\"wu fam\"],[\"wyoming indie\"],[\"wyoming roots\"],[\"xhosa\"],[\"xtra raw\"],[\"yacht rock\"],[\"ye ye\"],[\"yiddish folk\"],[\"yodeling\"],[\"yoga\"],[\"yoik\"],[\"york indie\"],[\"yorkshire folk\"],[\"yugoslav new wave\"],[\"yugoslav rock\"],[\"zambian pop\"],[\"zeuhl\"],[\"zhongguo feng\"],[\"zimdancehall\"],[\"zolo\"],[\"zouglou\"],[\"zouk\"],[\"zurich indie\"],[\"zydeco\"]],\"hovertemplate\":\"x=%{x}<br>y=%{y}<br>genres=%{customdata[0]}<br>cluster_pca=%{marker.color}<extra></extra>\",\"legendgroup\":\"\",\"marker\":{\"color\":[3,3,4,1,1,2,2,4,1,1,0,2,0,3,1,2,4,2,0,2,1,1,4,1,2,4,4,3,4,4,4,4,4,2,2,0,2,4,0,2,0,4,4,4,2,4,4,2,4,0,4,2,2,0,0,4,0,0,4,4,0,2,4,3,0,2,0,0,2,3,2,2,3,3,3,3,3,1,0,3,2,3,2,3,3,0,1,0,3,4,0,0,0,2,2,0,0,2,1,4,1,3,2,2,2,2,3,2,4,0,4,2,4,4,4,4,4,0,2,4,2,3,2,4,2,3,4,2,4,3,2,4,4,4,0,4,3,0,4,0,4,0,0,1,0,2,2,4,2,4,3,4,3,3,3,2,0,0,4,4,0,0,2,0,4,0,0,4,4,2,0,2,2,4,4,0,2,4,4,3,3,3,2,3,4,1,0,3,3,0,4,1,4,4,4,4,3,3,1,2,1,4,1,1,1,0,2,3,3,1,3,4,0,4,4,4,1,1,1,1,2,3,4,1,1,1,3,3,3,3,2,3,3,1,4,2,0,4,4,0,4,4,4,4,0,4,4,1,2,1,4,2,1,2,4,0,0,0,3,3,0,0,4,2,0,1,0,4,2,2,2,2,1,4,4,2,3,1,4,3,1,0,0,3,3,4,4,0,0,0,4,0,0,0,0,2,0,2,1,2,1,0,0,2,4,1,1,4,4,1,4,4,1,1,2,4,4,4,0,0,2,4,4,1,2,4,4,3,3,3,2,3,3,4,3,3,3,4,0,4,1,1,0,1,1,4,4,4,0,4,0,0,4,2,3,2,2,0,0,0,4,0,0,2,4,3,3,4,3,1,0,2,1,0,0,2,2,2,3,3,2,0,2,4,3,0,2,2,4,4,4,0,0,4,0,2,4,4,4,2,0,3,1,1,2,2,1,4,0,4,3,1,4,3,2,4,1,4,0,4,1,3,3,3,1,4,2,2,0,4,3,1,0,4,0,2,1,2,4,4,0,0,2,4,0,0,3,2,0,0,4,2,3,2,0,2,2,2,1,2,2,1,1,0,1,1,4,1,1,1,4,3,3,3,0,4,3,1,3,0,4,4,1,3,1,3,3,2,3,2,2,0,4,2,2,4,0,1,4,4,0,1,1,4,0,4,0,0,0,4,2,0,4,4,4,1,1,4,1,4,2,2,4,0,3,1,2,1,4,1,0,2,2,3,3,3,0,0,4,2,0,3,2,2,3,3,3,4,3,1,2,1,2,0,4,0,4,4,2,0,0,2,0,0,4,3,0,4,2,3,2,4,4,4,0,0,2,4,1,1,4,4,1,4,2,1,1,1,1,0,1,4,4,4,2,1,0,0,0,1,2,1,2,0,1,1,1,2,4,2,1,2,4,1,2,2,4,2,1,0,1,2,3,4,4,4,2,2,4,3,2,3,3,3,3,3,3,3,3,3,3,3,1,3,3,3,3,3,3,3,2,3,3,3,1,1,4,0,4,4,4,4,4,4,4,4,4,1,4,0,2,0,3,4,3,0,0,4,3,3,3,4,2,2,3,1,1,3,1,1,1,0,4,4,4,0,2,3,4,1,1,2,1,4,4,4,2,1,1,4,4,2,4,4,0,4,0,4,4,4,1,4,4,4,4,4,4,4,4,4,1,4,1,4,4,4,4,0,0,1,3,3,1,0,1,4,4,4,4,0,4,0,0,3,0,3,4,3,0,4,2,0,4,0,0,1,4,1,4,4,0,4,0,3,2,0,2,4,0,0,0,0,2,0,0,0,4,0,0,0,0,4,1,0,0,2,4,1,2,4,1,4,2,0,4,4,4,1,4,0,4,4,0,4,4,3,1,0,1,2,0,2,1,2,4,4,3,0,0,0,4,0,4,4,2,2,2,3,1,4,2,4,2,2,4,4,0,1,4,4,4,4,2,4,2,4,4,0,4,2,0,4,2,1,2,4,1,0,3,4,4,4,4,1,4,1,0,0,4,4,4,1,0,0,2,1,2,0,0,0,3,4,2,3,3,0,0,4,0,4,3,0,2,3,2,1,1,0,4,2,0,1,3,0,0,4,1,4,0,1,3,0,4,0,4,2,0,2,1,1,3,3,3,3,4,3,2,0,4,4,2,1,4,2,0,3,2,4,0,4,4,1,0,0,1,2,4,0,2,4,4,0,2,0,4,0,0,0,2,4,4,4,0,0,0,4,0,3,0,3,2,1,3,0,2,1,4,3,0,1,4,2,2,2,3,1,2,4,0,0,4,4,4,4,1,2,3,3,4,4,3,2,4,0,3,2,2,1,1,2,1,0,4,1,4,0,2,3,0,3,3,0,0,0,0,0,0,4,2,2,3,4,2,0,4,0,2,3,4,0,4,4,1,1,1,1,2,2,0,4,2,2,2,2,4,1,1,4,4,4,1,2,2,4,4,0,3,4,2,2,2,3,3,4,3,3,1,0,0,4,2,2,0,1,0,1,3,3,2,4,0,4,4,3,0,1,4,0,0,0,4,0,2,1,4,4,0,0,1,4,4,4,4,0,0,4,2,4,0,2,4,0,2,0,0,4,1,3,0,0,4,4,0,2,0,2,0,4,0,2,2,4,2,0,3,3,3,2,4,0,0,4,4,3,1,0,0,3,3,4,4,4,0,4,3,0,3,3,3,0,0,0,4,4,1,1,0,4,0,0,2,4,0,0,0,4,4,0,2,1,1,1,2,4,1,2,0,2,0,4,4,0,0,2,0,0,4,4,0,1,3,1,1,0,3,1,1,3,4,0,2,0,4,0,0,4,4,4,4,0,0,1,2,1,3,1,1,1,3,0,1,1,2,1,4,4,4,3,2,4,3,0,0,1,2,0,4,0,4,0,0,0,4,1,1,1,3,3,3,3,1,4,4,3,4,4,4,2,4,3,3,1,4,4,4,4,4,3,3,3,3,3,3,3,1,2,2,4,2,2,1,1,4,0,3,4,4,4,4,4,1,4,3,3,3,3,2,1,1,1,2,2,4,4,3,0,3,2,2,2,2,2,2,2,0,2,1,3,1,4,4,3,4,1,1,4,2,2,1,2,3,4,2,2,2,4,2,2,4,4,2,0,2,4,2,0,4,0,2,2,0,1,2,0,4,0,2,4,3,2,2,4,0,0,2,1,1,2,4,0,0,0,0,2,0,2,2,4,4,1,2,3,2,2,1,1,4,3,0,2,1,0,1,4,1,1,3,3,1,4,0,4,2,2,2,2,3,3,3,3,0,3,3,2,4,0,0,4,3,2,3,0,3,0,3,3,2,0,2,0,3,3,3,3,2,1,1,4,4,0,3,2,0,4,0,0,0,4,0,0,4,0,0,2,2,4,4,0,1,4,3,3,3,3,0,3,4,0,2,2,4,0,0,3,1,4,2,1,2,0,0,2,0,0,0,0,2,0,0,4,4,0,2,3,2,2,4,1,1,1,4,1,1,1,2,1,3,1,1,2,2,1,1,0,3,1,2,1,2,1,4,2,1,3,1,1,1,1,1,1,2,3,4,2,4,4,2,1,4,1,0,4,4,4,4,4,1,1,4,1,4,1,0,0,2,0,2,4,2,4,1,4,4,1,3,4,4,1,4,3,2,2,1,1,4,3,3,3,2,1,3,3,0,4,4,4,4,3,3,1,4,0,3,4,1,2,2,3,4,4,4,3,4,2,1,4,4,4,4,0,4,4,4,1,4,4,4,2,4,4,4,4,1,3,2,2,0,4,4,1,2,3,2,0,2,2,0,1,4,2,1,4,1,2,2,1,2,2,4,1,0,0,0,1,2,4,3,2,1,2,0,3,1,4,2,2,4,2,0,2,3,0,1,4,0,2,2,2,4,1,2,1,4,1,1,2,2,4,2,4,2,0,2,3,2,0,3,2,4,4,0,2,0,0,0,0,0,0,0,0,0,4,0,4,2,1,4,0,2,1,4,4,2,1,0,0,0,0,0,2,3,4,0,4,0,4,1,4,4,4,4,4,0,4,2,3,3,2,3,2,0,1,4,2,3,2,0,4,2,0,3,2,0,0,4,4,4,2,3,0,2,0,2,2,0,4,4,0,2,2,4,2,3,3,4,3,0,4,4,0,4,4,4,3,0,0,3,4,1,1,1,2,4,3,4,1,1,2,1,1,2,1,1,4,2,2,4,3,0,4,4,2,4,2,3,1,4,1,1,4,4,1,4,1,1,1,4,2,4,4,1,1,1,4,2,1,0,0,4,3,2,1,1,0,0,2,2,4,0,2,1,3,4,3,4,3,1,0,2,0,1,2,4,4,3,2,1,2,0,4,2,0,0,2,2,2,3,2,4,2,1,1,2,0,0,4,0,3,3,2,4,4,2,0,2,3,4,0,2,0,4,1,1,4,4,1,4,0,4,2,4,0,4,2,0,4,3,0,0,4,4,0,0,2,0,1,4,2,0,0,0,3,3,2,4,3,2,3,1,0,4,4,0,4,2,0,2,0,4,0,4,0,3,3,3,0,3,4,2,3,0,0,0,0,0,2,0,2,4,2,2,4,4,3,4,0,2,0,0,4,0,1,2,2,2,2,1,4,1,1,0,0,4,4,4,0,3,2,4,2,4,4,0,2,4,4,0,4,3,4,2,0,4,2,4,2,4,4,4,0,4,2,1,1,2,0,4,2,3,3,0,3,3,2,3,3,3,0,3,0,2,0,3,3,1,1,3,4,0,4,4,4,1,4,2,2,3,3,0,4,0,4,4,0,1,4,1,2,2,4,4,3,2,4,4,4,1,2,4,2,1,0,4,4,1,0,4,2,4,4,4,1,3,2,2,3,1,4,0,0,0,1,2,0,2,4,4,4,4,4,0,0,1,3,4,3,3,3,3,3,1,0,1,4,4,1,4,4,3,4,4,4,2,4,0,4,0,4,2,4,4,2,4,0,2,4,4,4,4,0,2,2,4,2,4,4,3,0,1,4,2,2,0,2,3,4,4,0,0,0,0,3,0,2,2,3,3,0,4,0,4,0,0,2,3,4,2,2,2,0,0,0,0,0,0,0,0,0,0,2,0,0,2,0,1,0,2,1,2,0,2,0,1,2,4,2,0,2,2,0,0,0,4,1,2,4,1,4,4,0,0,0,4,0,4,4,1,3,3,0,2,4,4,4,2,1,4,4,1,3,1,2,2,4,4,4,4,2,4,4,4,0,4,3,0,4,2,0,0,1,0,4,1,1,0,4,4,4,4,4,4,4,0,4,4,4,1,3,4,0,4,2,4,1,4,2,0,4,0,4,0,4,4,4,4,2,0,0,2,4,0,0,4,2,2,4,1,2,4,0,2,4,4,1,3,2,3,4,1,2,2,4,2,2,1,2,2,2,0,0,1,3,3,0,0,1,2,1,0,0,3,3,4,0,2,2,3,2,0,4,3,1,4,0,4,4,4,4,4,4,4,4,4,2,1,1,4,4,1,4,4,0,4,2,1,3,1,4,2,4,2,3,4,3,2,4,2,1,4,4,4,4,4,4,0,4,2,4,4,2,3,2,1,1,4,2,2,4,1,3,3,1,0,2,0,2,2,0,2,0,3,4,2,2,0,2,3,3,4,4,4,2,4,4,4,0,1,1,0,1,0,0,0,0,2,0,3,2,4,0,4,2,0,2,2,2,2,4,0,4,1,2,4,2,1,4,4,4,1,2,2,4,1,2,3,3,3,4,3,4,1,4,4,4,1,4,4,0,4,2,0,0,2,4,2,4,0,2,2,4,4,0,3,1,3,2,3,3,3,0,4,2,4,0,2,4,2,4,4,3,4,4,2,4,0,2,4,2,1,2,1,4,4,1,1,4,1,2,1,4,0,0,0,3,4,0,3,1,1,3,3,3,4,0,2,2,2,2,2,2,0,0,4,4,4,0,0,2,0,3,4,4,0,0,2,0,0,4,0,0,2,2,0,2,0,0,3,1,2,0,0,4,0,0,0,0,4,2,2,2,3,2,0,4,1,1,2,0,3,3,0,4,2,3,1,0,0,2,4,4,0,1,1,4,2,2,3,1,2,2,2,1,4,4,4,4,1,1,1,0,1,1,2,2,0,2,0,0,0,2,2,4,4,4,4,4,0,4,2,2,4,4,4,4,4,2,1,4,0,1,3,0,0,4,1,2,2,1,3,1,2,4,1,2,1,2,1,1,2,4,4,4,0,0,0,4,4,4,0,2,4,4,4,4,4,4,0,0,0,4,1,1,2,4,4,4,2,2,1,1,2,4,2,4,4,4,1,3,0,0,1,1,1,2,1,0,2,4,2,1,3,2,1,4,4,2,2,4,4,4,0,0,0,4,2,4,4,4,4,0,4,4,4,0,2,4,4,0,2,0,3,3,3,0,4,1,4,4,4,4,3,0,0,4,4,0,2,1,1,4,4,4,2,0,0,2,2,4,2,0,2,1,4,1,0,0,1,4,4,4,4,2,3,0,4,3,2,2,4,4,0,2,0,1,1,1,3,1,1,2,1,1,1,3,1,1,4,1,1,1,1,1,3,1,1,3,2,4,4,4,4,0,0,1,0,3,1,4,1,0,0,4,1,3,1,4,2,3,4,3,0,0,0,2,4,4,4,4,1,4,2,4,2,1,3,3,3,3,2,0,2,2,4,2,2,3,0,2,0,4,0,2,2,0,2,2,3,1,3,3,1,2,4,4,4,0,4,4,2,4,4,1,4],\"coloraxis\":\"coloraxis\",\"symbol\":\"circle\"},\"mode\":\"markers\",\"name\":\"\",\"showlegend\":false,\"x\":[5.910268108221795,2.787093152808592,-0.7575375383744606,1.0205214866168175,0.7539105142791439,1.7971062652419432,-0.46204960544893636,-1.311672259563727,0.5984179553898596,0.5982012013950422,-1.1656525385277168,-0.07118124655696083,-2.171711585828404,3.6732966630297734,0.8327855889826069,0.0014059392111353862,-0.9273057420077752,0.6796203745139372,-1.4878005371777216,-0.25016976307256816,0.9541894103960783,0.8894938464845384,-0.9349244756981532,2.435242216702915,-0.579409684807869,-1.687270487008666,-1.0665290759030284,3.743308758581937,-2.154301657445697,-1.0808503055522514,-0.9549632645218927,-3.235872651592803,-1.7119755341735539,-0.43365637370201865,-0.6062336832001032,-0.9441629326199632,-0.21897352791236807,-1.5617667209055168,-1.3458348880477173,-0.6937048482628609,-1.6190405446647038,-1.5333276858350366,-1.6988335792571145,-1.8093965083506083,1.0018621405554762,-1.5505557919539077,-2.6162017995351015,-0.7218561265706747,-0.9358284356998535,-2.3217190043773974,-2.1698597717064185,-0.1170407648414021,-0.17798254163413754,-1.3770978627884995,-1.2775706484489142,-1.6689082229336625,-1.433006672291693,-0.8812940272849358,-1.933727851085026,-0.991956176952392,-0.8554408012501152,-0.45004862859253614,-1.0642892702634419,3.4626062715850794,0.6998427652454017,1.0246979229312405,-0.8535513919608649,0.6504792609298505,-0.4774877693274671,3.654736858516908,-0.5680284493815109,1.2275685578826747,6.308184544302046,3.394757217806676,4.9099542927922375,4.5214973111116725,3.436840226679447,1.7065111212663124,-1.994921310407097,2.8835226719022278,-0.0492404157636948,4.251881907817702,1.5205339090003138,2.7578274763525537,3.81886884181889,0.5222233385124336,0.6640664570007131,-1.8377265384972363,4.307369932725617,-0.9793272008623041,-1.7532546732907182,-2.255179190561472,-2.2904415664218343,-0.28007894163165575,0.22291185347269293,-1.5101821955287564,-0.6192845089796372,-0.07420986987072385,1.672824337430383,-1.9433530146570515,1.014976612873289,2.719557668645426,0.9057166961074986,-0.21837300691800954,-0.26256655656215405,0.844908045381959,2.8327794759317726,1.4614957709996301,-1.5842602988284038,-1.885617678711852,-2.393866425909586,-0.008422928392725603,-3.078642085622775,-1.6438199733026344,-2.0393729844155706,-0.9968674357840727,-1.9809887425444197,-1.9736099706764765,-0.21426030082170858,-2.3201588880940105,0.6288114935083458,5.2627185446411175,-0.12166536408823854,-1.0121054754613965,0.035260963005684605,3.4926105143427937,-1.2753710449014182,0.32826468813668386,-1.6951789119860832,3.7286177933129525,-0.6107015592017132,-1.903289326084942,-1.887427393182677,-1.4787588103471303,-1.6879273436441165,-2.1606659415912115,4.65808820750692,0.6998427652454017,-1.8094474553131508,0.644388499944263,-2.8182814169138837,0.644388499944263,-1.4716926838801594,1.8781753016297562,-1.1338434847768166,-0.7702516670886778,-0.5221138504004792,-0.9270989547196354,0.5931378934821796,-1.3843251626688364,5.271177784407824,-0.9642170705834108,3.754319584280475,2.992652708073431,4.167831601809079,-0.38962807933174426,-1.6424751435576161,-1.1675433931298091,-1.738152496930647,-1.9383384408051365,-1.6757529454902533,-1.1873372651487175,-0.3541927469754776,-1.9748930162104523,-1.4332166640427957,-1.8599621279939276,-1.6285081252103348,-1.2616275422044296,-1.2397362810749397,0.18868288124372617,-1.201802979168833,0.07754390698956992,-0.4360699705802091,-1.2727953385235424,-1.0274090397486295,-1.8617821657705804,-0.8788683358223209,-2.6221998744781323,-1.657659634541513,4.0755630994760965,4.894322340584226,4.158854712674679,0.34415585652526753,3.2529655317034627,-2.0146663246069734,0.19335161691421343,0.5398747178532755,4.407656001383204,2.3595535652176185,-1.0134812826832118,-1.477559825349806,1.7516550987332962,-1.9813204401207751,-1.592114847773861,-1.8603543986322084,-1.643868394262872,4.743511527342344,2.164611199122907,1.9271058748133294,0.2486755325717141,0.264049588815348,-3.1062145776446375,1.006929231807965,0.7363487998666464,0.013770393933032884,-0.9862592055897755,-0.010758925244005043,5.381249937095063,3.0311340782567413,2.1219579799750283,5.376825054885024,-1.8715344938197165,-0.8257044500186894,-1.8050999520940774,-1.5965747063171392,-1.3903620518490418,2.3817849882339335,0.32671054219402945,1.185544836543208,2.230795233307353,0.18273407852012766,4.819813386113594,-1.8931190472758384,1.0877277036361293,1.2390028548321246,2.3940366677464056,2.5765941967237236,3.7581250644676403,3.603387921723096,3.089296631764704,-0.297841488371101,4.138457045658258,2.683964955737932,0.9951124914788266,-1.64092692281903,-0.10733653159368327,-1.7242942774158083,-2.2972037194660815,-2.151173770862405,-1.5759181415763435,-1.3487051914956143,-2.0265484820804596,-2.1206904747689914,-1.930765453597681,-0.9234066530601999,-1.2516471860681753,-1.9113516620063324,0.7812550919891016,-0.5237497338668543,1.5258122967139625,-1.4815229037775184,-0.8608015003990196,2.0664450888696675,-0.391811002735538,-0.8627420859305025,-1.724485150394912,-2.451976422151488,-2.451976422151488,4.911094086350672,2.1284228776298395,-2.0262276800530077,-1.7259688400927677,-1.761246299588178,-0.32942484453738097,-0.7167812722224345,2.3599126557972556,-0.41095162447510947,-2.072499067831731,0.4941512548817757,0.3947367578461046,0.5011147455994432,-0.15019477310741064,2.2643665658299277,-1.354015453680447,-1.4700532554453156,-0.39148658961174715,2.928686830844197,1.5627344941817953,-1.804653395322845,4.421919934709001,1.6666341252458177,-0.863006946866111,-1.8240161816083975,6.20232983245356,2.7007297571142153,-1.9219988731601125,-3.8853351569825394,-0.32373523372279445,-1.4830437992216385,-0.6661581305866633,-0.8975313027897536,-0.2715001095859945,-2.026007496411845,0.030668548225321425,-0.6661581305866633,1.667937617563402,-0.9628431990032503,0.052290470586084103,1.4342428370670834,-0.07440927214208655,0.3161956897243051,-1.6854348307187568,-1.3783735498215985,-0.53028112396021,-1.9482834157370152,0.43768166538024605,0.4611651127096529,-0.6169217471719317,-1.1400256377059355,1.2533220435925652,-1.8065011423621322,-2.105897560651473,0.583415689351995,0.615043181334659,0.8314068380244787,-1.1677498330947214,-1.8797451580250866,-1.5737313828666812,-1.7148709729100653,-1.2187163240425578,-0.9081075934919395,-2.4076385061986567,-2.631247737130895,1.5673168136376334,1.2606761374764384,-1.2731362784415337,-1.9933897451720632,6.078392568331353,6.20232983245356,1.8806471974660997,0.485503848972953,3.724786874647469,4.999022851023018,-0.6507019188068308,2.8317540321081145,5.157224121091326,3.8192902746508097,-1.8812815325483487,-1.0170415780895836,-2.3431142778733163,-0.06139419459485973,1.1244973226335122,-1.0170415780895836,1.5499874451851487,-0.23880439879088658,-2.0548948833262535,-1.4608536919332902,-1.2511268482027655,-1.4326231369090225,-0.832205004089299,-1.0170415780895836,-1.4771002595731555,-2.628606599334159,-0.21035255659038748,3.722041106491932,-0.6601937727661533,-0.08898081277070309,-1.3796424287630304,0.8934594009314057,-0.6029963198787548,-0.7120551860400088,-0.7769839379468516,-0.6805758573158186,-0.2427984490140363,-1.956231538351011,4.118042026063588,5.713741031844163,-0.7417411626392618,4.424095099147777,2.3273182406295425,0.017763471206445204,0.30149399308499736,0.9650215283895144,0.02246839262249371,-1.2199650459691445,0.34177511590531146,-0.5378912868672479,0.8644678960471939,4.0046965773268575,4.008320181774838,1.382966313126255,-2.0574297891427684,1.3094774137593324,-1.2244223547667652,3.3013877478747733,-1.1107604184765918,0.536070275073272,-0.24744053697254645,-1.9441899850782955,-2.133057653760355,-1.0891187918604026,-1.8302469752259685,-0.15516416449344564,-0.9951653539849209,-1.3596060537015482,-0.6110809564064197,-2.5498154982660943,-0.606775305264709,-0.7288872748469338,-0.6427561202341454,-0.8384661829154233,7.04816053419885,3.08629951007887,1.6499160539143867,0.5039626516959596,-0.7628234779254311,1.9098861430974088,-0.7381554703584133,-1.2105050375339637,-1.6165006411449987,2.9152852845241664,0.7875315395435457,-1.4713066508652939,3.840536654487979,0.8180105809922916,-1.5363920461225504,1.501701024875382,-0.8269573928584227,-1.2365537984863508,-1.1213910396496645,0.3532535757130982,4.156988672470467,4.18114391585283,5.874241617946344,0.7726737970500179,-1.238465158422996,0.17391144426442492,-0.29101915682132523,-1.3643289196729818,-1.001357622951206,2.814361084932085,1.0152267748235704,-0.8997096472317114,-1.816122583095182,-0.40691985636643746,-0.6222506022041556,0.92985542367246,-0.031158874814141525,-1.8953253854100007,-2.086459473772657,-1.0330740365002884,-1.648478835334433,-0.07688967377256098,-0.9626729037514551,-2.014035053021469,-1.3293413005641441,2.960200102558321,0.3366612973343734,-1.7136150221763644,-1.4322797629514958,-0.9929724146692306,0.3710468481112426,2.638713405966959,-0.02807780164997967,-1.6676648655046562,-0.6079060289417977,0.022377474382161387,0.9645203776907119,1.2387761280336063,0.32115465675815846,0.399310163401599,1.448049386029836,2.279897641894936,-0.2266340201036198,0.25316511117440554,-0.2148012621778591,-2.4628532337473232,1.3697801765358013,1.7508953452310554,1.386329849583345,-1.2538737101450224,5.133050169971331,3.526515125883706,6.346033202222229,-0.6161373499207334,-2.37482894725252,2.253307814780364,0.8167571253489779,3.653765378813388,-1.8047421918261344,-1.8627951125034818,-0.9242152643491616,0.706652468893656,4.942598053975868,1.1252336127832756,4.79528925025523,2.4635678490115023,-0.09446247231001499,4.2473064828726885,0.2490357613668705,-0.11019294017436589,-1.8060319312706903,-1.4690797127486257,-0.025425946360965315,0.33700374221790186,-1.0272113725970826,-1.180660161044352,-0.08462383414740644,-1.2131974145350344,-1.5289774319052696,-1.3378086857797191,0.9015460755941967,0.347041303533415,-1.8391030814300087,-1.2105926310370043,-1.3843046322401924,-1.1745523891881107,-0.8900534710795295,-1.779252591807679,-1.7629015313750167,-0.2262636987792046,-1.359674374010856,-1.4373298042223677,-1.0505476390009718,-1.2326907154182067,1.3565283499092395,-0.3174215584679001,-0.8073456954282032,0.6294753135461082,-2.0174373591629937,-0.11454795107118845,-0.5797367236830113,-1.8188905101656396,-0.2170509895157045,4.529430260517021,0.33318971537504993,0.970879743601467,-0.17127054263203867,-0.7941852500264391,0.15892132499726622,-1.1876432241511603,-0.6402858806840859,0.8750838457096467,3.608731581729165,5.022988638057476,5.805832447701817,-2.484585586954593,-0.06723872685756949,-1.8199456802868197,-0.1646375105025457,-0.9373426065815236,3.6959874644487,-0.11499063549309989,-0.31191194974263653,3.608731581729165,2.962821117328595,1.9745255543280607,-1.8693347569376935,3.9265835294224685,0.8514655969973912,0.2516548733824593,1.506903795247657,0.8765073635953359,-0.8493286256975396,-2.767042218285057,-1.9426782361716552,-1.9404583741889683,-2.327714153105753,-0.48930088551692036,-1.2448085534620585,-1.4681887969761565,-0.41977050789702264,-1.1794041820554695,-0.7316519448921269,-1.9934477924940717,2.6589574687484157,-1.8424902425655354,-1.9752037541359397,0.4973821345345374,2.803014248045932,0.889885389775822,-1.699721623048425,-1.1189657700263946,-2.2297276153308565,-0.7369155743144545,-2.8860579727672433,-0.0477312079827477,-1.2455077589325831,1.581293382163734,0.3862402573486121,-1.3826420603119791,-2.477582977687051,1.149762766157927,-1.0859697564578676,0.6207099620941174,-0.07313623450418671,0.0026958861477265716,2.170027229768551,0.36718627717097985,-0.9314426872002102,2.3532485455974865,-1.0597890934720582,-2.276109855694126,-0.703178091386712,-0.2926633824128864,1.0280402330301857,-1.1648221376777212,0.4511604577525407,-0.5491172599185697,-0.6751459147216332,0.29979688154291256,2.6834129126268187,0.5984074638508656,-0.5498879058004913,1.5305789710549715,1.6719273733102418,2.3650341880945875,0.5073760258805263,-1.3539098259275255,0.5151319213344545,1.060828923229482,0.5729789672192865,-0.715240749555006,-0.04317819295220738,1.6217258746453862,0.36751585684045107,-0.764026180466432,-0.5419837729171586,1.0156004276682993,-1.0104901039718717,0.3474543065382518,-0.2807461940428677,3.1877031348523164,-0.5452603790317753,-1.6326205624300434,-1.1815682360615878,0.48316178858881137,-0.46624827532572344,-0.6461748391001922,4.245475571774249,-0.1703279404176033,3.4798674918083172,3.840975880940373,4.963938781947005,4.408080150824804,4.139496296933866,4.031285308102278,3.9363214242194005,4.187078489713531,4.917808163601026,4.959531607032038,5.491363812178905,1.5324624690552515,3.7860049701944325,4.224405197605613,3.8134457247031843,4.269047290947435,5.35588627638633,5.634525317250323,5.131366024213477,1.5778734844665667,3.628399804806301,3.37486795840043,3.136640936473179,1.5464616640991653,1.7734555001668195,-0.5736981384083544,-1.3474769379185099,-1.4095676969430226,-1.7902349574504652,-0.9599392716314985,-2.337850209070726,-1.9219232563386313,-1.4554683365959455,-1.90722628767234,-0.6716795002770715,-2.0046562231551004,0.3251566625513826,-1.1523860720717682,-1.4557044571067284,0.18059071362684165,-1.9079350595148448,3.523659061137906,-2.0491186934792074,3.6180834062291507,-1.7374845146577134,-1.439294851657237,-1.5714083380161579,6.308184544302046,5.008294840003467,5.403265664257096,-1.485371002996555,0.33114376729517836,-0.464199513172783,2.793778628069708,2.2293271459533806,1.389333400921571,4.269223510110596,2.1474447251427864,0.7629686163768594,0.5313880649539642,-1.1115207404332923,-1.8204209333872405,-2.1921376455691446,-1.673062677563712,-0.562561128693778,0.451918045748742,1.919573857543191,-0.8702170708257271,1.0741748437686034,-0.2271813656959732,-0.8526204872249915,0.43098339581022277,-1.559441490023401,-1.788385764949038,-1.2843690828034708,-0.3289293614603009,1.0518143755809635,0.5340816012176975,-1.1097151949345352,-1.9685741228713456,1.3526971314440246,-1.108095159093283,-1.108095159093283,-0.7862581323449519,-2.1866569882184597,-0.7966028054395385,-1.8418411545862146,-0.7800250543797552,-2.4784838201281785,0.25976035564036704,-1.355029769381704,-1.6177557993272011,-1.8260772103567107,-2.3046905029491933,-1.7235553968485746,-1.3761949647926441,-1.02187574328525,-1.7791379054828032,-2.6566225729098742,1.0291146255100572,-3.0946663512600656,0.27246992250829866,-1.7900071853916133,-2.479383087771238,-1.887169023550591,-2.6430738121785353,-0.3573801366614973,-2.5671936495562444,1.3794835128663634,4.525123553936603,4.71688518669975,2.5950255919710754,-1.1366165372990942,1.9842254319975157,-2.4281391425039125,-1.356175401140456,-1.6507557002712352,-0.991677368829772,-1.4614838432331,-2.109726124754255,-0.5491172599185697,-1.9852742550337823,4.386572613899497,-1.1101722919442227,3.3776002947938046,-2.434424783398596,3.5934938671033767,-0.4964313208292164,-2.4420108168095616,1.0393967728352134,0.024172636350279157,-2.536043601464766,-1.4224961761214638,0.024172636350279157,-0.2612995615269691,-0.9108428135470118,2.0940424856091604,-2.5645649137076543,-1.238622185314991,-0.3084219235875968,-1.515589512572244,-2.03129861467804,3.863104889734333,-0.108382995944078,-0.6022552644160746,0.5177509655213385,-1.7090697231493623,-0.2761452223050111,-0.755137254801994,-1.3763064760423598,-0.5312260392016611,0.23717195172482494,-0.3026081729421265,-0.5065280021147496,-1.2055895512885575,-0.8204348260187286,0.2660650637100588,-0.2988442146153797,-0.8728012554034789,-1.7175667292646444,-1.515552888880424,0.8864093485671782,-1.6766468747459695,-0.46943459661423587,0.871077589572259,-0.8644705676615116,-0.7144561741353939,-0.44068855694914594,-2.7902709009224322,2.8904146176546726,-1.1507276718314696,-0.8031773216690973,-1.9473824019540278,-2.1629636170947375,-1.4723654985500974,-2.6893121402844176,0.9240011933509131,-1.7474528809598413,-0.1457665336864972,-1.8983586902445273,-2.6693478479357404,-0.5221693744493345,-1.4548434949416964,-1.0283096381666228,2.3622397711804526,0.5436395862813697,-1.8689304368530848,1.1710036212559063,0.6999040042938868,-1.7044471429551553,-0.5920546990026854,0.4498649728207461,-0.3295745148089147,-1.63766939144186,-1.457260990166545,2.4660708696178246,-1.2095953675949747,0.5254555899481561,0.07547147484810628,-1.5847134393643687,-2.908061928223545,-1.17650844080487,-1.9119343526634256,0.9356036829290562,-0.36086600256967055,0.9679635861196798,4.69981667536884,-0.47233140556172915,-2.00563053221428,1.572747239850046,-0.9464089318334707,1.4686267276229192,0.5011147455994432,-1.3537495043623877,-1.843412047612341,-0.6537657414667515,0.8902655962892394,-2.8162591250589295,-1.2235095886351688,-1.5127849605175303,-0.9684779368006291,1.1487058582651988,-1.0984469249325655,0.5022377972137845,-1.4812543999862984,-0.5435665341609935,-1.290964936608624,-2.162833307478611,-0.8354743294354058,-0.03314856246125023,-2.014926569249321,1.796033242084349,0.7846163460118281,0.3211437615970811,-2.1901371392226086,2.5971373640647024,-1.612796711737507,3.026053028947753,-2.065705645766964,-1.5210993374175878,-0.9258655178346499,-2.0743795323201737,0.7511849781136255,-1.7164833605229044,1.3199455730608463,-0.2996749088548983,-1.0601592783170979,-1.5793861632167507,-1.692465651475791,-3.1331777327955415,-0.037246232862969145,-0.0842112146413046,-0.7467746719958089,-0.16470824566879277,1.4022482201741087,0.46779897642367185,-1.337321684088965,0.08110278845448281,-1.3779265458413714,5.0311078449036435,-1.8983922147789358,0.5995552083481103,3.5252046394474563,2.2683191496362345,0.9096299592015537,-1.026418914347901,-1.0690904627080766,0.6556631320797323,-2.0237690194122577,2.1959209999050606,-1.920267434098358,0.6521268829335819,5.2627185446411175,-0.697411218843216,0.7820338260369205,-0.2090432327886087,0.6998427652454017,-2.0224335239758697,0.4712071639952835,-1.260480286683127,1.8271454550885442,6.083318328609316,-0.8508696332442847,-2.08250483726476,-2.224336625502374,1.401429885067648,-2.7228295299586796,-1.6085417664418051,1.6013054390496722,3.317048515490668,-0.8936287712528035,-1.0459539727090392,-0.7263218841933007,-2.9436481698922794,0.062214037564452436,-1.1663865563967586,-0.5132483562854909,0.6525178740460768,2.2136234284814913,4.15768923304286,3.9952644486572773,3.7441441343435913,3.3340361292652188,-0.6706922862361563,3.7210836024692737,-0.7220199150774408,-1.5037488884709576,-1.820806344317433,-1.3092499530556858,-0.5828274996029216,1.8767430181001166,-2.3135721971896466,0.7099128201293116,-0.7812682277707932,3.3949279818682645,0.9032880273730497,-1.53658045421727,-1.6283452043117557,-1.7022684814942108,-2.43528543522831,2.0186542826167524,-0.3166155515639398,-0.894195429026458,1.104760978472739,-0.19612740703368411,-1.3280200419065065,-1.870446312712768,-0.732558834657365,-2.4322104556325086,-1.0631051517428243,-0.9018458559798256,-0.5690495861384954,-1.7303866732825899,-2.100771809255362,0.12062405251041282,-1.5280973319537667,-1.9108022973619931,-0.21031089609908882,-1.7943548127338869,-1.5361213058279395,-2.21600013672797,-1.4955985695299754,-2.5500589751698053,-1.0982262167206482,-1.2393277340386926,-0.8577092210584645,3.6603956645131976,-2.6601514416636074,4.225043041397312,0.4150807814857075,1.188059738799604,2.7531891075881854,-0.2904984597290941,0.513692948635199,1.8792188806685424,-1.6657745499794463,4.166293634806012,-0.5221693744493345,1.0434337104662228,-1.8730996534974484,0.8500285353730016,-0.3318503843828146,0.2744299751321878,3.4812762404541315,2.331775500646691,-0.07084590733890533,-1.2092837434063097,-1.3631427295039173,-2.4502227813858086,-2.08847699347886,-1.8057549808143702,-3.399583731082441,-1.6998225891375298,1.5209018222443909,0.7646308800896888,4.478609512834524,2.466113319803974,-2.2354904599284438,-0.8246614851720255,3.4324506450763295,-0.48823623226826973,-2.081322355130962,0.1498940040555208,1.8973889528910972,-0.13683775308019544,0.4502592342354179,2.0957686662777895,0.915391468565394,0.5857264273779642,2.2333595333061407,-3.0450765877715513,-2.329150871431181,0.4543220270451272,-1.630120735089729,-1.414322988460638,0.24435456870028174,3.2107996485644144,-0.9304532954544307,5.150035753984849,5.004281707388854,-1.3148675759101893,-0.7597385878813325,-1.662837548741968,-1.8902303297831158,-1.5328467352522726,-1.2536233695640104,-1.2302352255235927,0.10461162581345779,0.5222047642496496,4.4310454019223116,-1.1896884868417064,0.3826515107286244,-0.7773625634585428,-1.4952959189875168,1.6675267223983972,1.4852428780681355,4.356729544123444,-0.9108592533331836,0.18164272293418554,-1.8732582454237798,-1.6946786996734662,0.4358314317588792,0.4879910198583266,2.7658581502204496,1.9540876681797335,-0.17613599599091762,0.4227931229385341,-1.6117359369821982,-1.041991552846556,-0.12021237473150492,-0.11140233801850427,-0.3443427862674364,0.6672750904822239,-1.2131974145350344,2.5136903101093697,1.1845545043666232,-1.755389031147311,-0.699241830621048,-1.058019557956238,2.311940378611578,-0.13688948178293175,-0.8741749815567239,-0.9304422088236259,-0.9840382097343711,-1.3564305630785625,3.3966287287929497,-1.7688160662074721,0.2532494653975696,-0.5625432966733253,0.1389498083800921,2.995182324696315,2.3219296947796333,-1.4964895263633462,3.274369314931625,5.33553663816379,1.1970948667173544,-0.9325106706495284,-1.0348098358027886,-2.0251481991515754,1.0657747825801016,-0.3857410564931699,-0.6253799907794835,1.547990068286161,-0.9325106706495284,1.1810200528402164,3.6809276424008934,3.757014733272658,0.012415187357944562,-3.0305697190318277,-0.9098410453161888,-1.5191912139342882,-0.9195814288618506,3.8284561838288993,-1.111713310393219,2.2673373620579844,-1.5150721309734032,-1.3925033257613089,-1.2995846666732864,-0.12266151502753952,-1.8668753039071233,-1.5018729408205747,-0.5700160017381576,3.0398822705104656,-1.8005405433301183,-3.6632315599681733,-1.4679455092351477,-1.0800614696303623,0.8055109936842523,-2.820267239135906,-3.4529710337762127,-1.1110635172556063,-2.7918970904646625,-0.6542529218710751,-1.2316328350265493,-1.3092383176769802,-0.4469941032014117,-2.114793859435531,-0.8486770478305656,-0.9409778444685301,-1.8320832439959558,-1.4789288509342513,-0.2603117476767173,0.7062856706652333,-0.947231238377567,-1.828067703310392,2.89688698575548,4.2095932016608435,-2.754870819905938,-1.5459459240384164,-1.892505210996037,-1.7067784255245089,-1.6774539508660664,-0.4563518583717428,-1.3346043453735341,-0.3216295003543732,-1.5006475935961954,-1.4595938170239817,-0.8243341544860182,-0.6580875903276753,0.28642701434719414,-1.2796134458978496,-0.37049705875550165,-1.2343513887207496,3.996300547145883,3.3395779158555388,5.384016484346958,0.21837706806186075,-2.306768848291026,-0.5021981388206974,-1.0068978534182316,-2.147694443940261,-2.3968637435576925,2.7096069646934575,1.7560435745437555,-0.9443973872998512,-1.139643098815129,3.5578638142965184,3.853519820121419,-0.8855858941782222,-0.9829651653205774,-2.3201254212705935,-1.2569492976215024,-1.7231498462044001,5.961074281238083,-0.9304306817837614,3.7923096640832377,2.533893924578386,2.400346932906476,-1.787837225777694,-0.23352895324163986,-1.8863702813551442,-3.0007847223145765,-2.088853425657693,1.0430639994862427,1.4753691607777795,-0.7167812722224345,-1.8241639760866641,-1.0939818264875414,-1.4173759806756043,-0.922767215658919,-1.104428046412083,0.06735268474735653,-0.7895365930463483,-0.07072149456798893,-1.8517630213186214,-1.8601271467736316,-0.08828355973958107,-0.2554410311634346,1.8793807339843247,0.9116853878805097,0.10012379315177831,-0.603943977972541,-2.9298175854967132,0.19839714092277905,-0.44918673033603956,-0.7937960986538589,-0.6206510300666301,-1.4459240490095036,-2.336906125358009,-1.4633820680402194,-1.2208847510985568,-1.1296546207459452,-0.17787330371714766,-0.696075202843391,-1.3678339527436514,-2.344688244689032,-1.5994355501742903,-0.695313590167219,1.6229388520329004,2.782399844533679,2.285874428736391,2.15555079879695,-0.264782944410476,2.827606248898021,0.6100656850450652,1.317480504278317,2.7468007751696386,-2.252375407578723,0.7036343124900745,-0.001183760249145861,-1.482961908069977,-1.1075232058518292,-0.6971997960267939,-1.9568620208735632,-1.1054970278095242,-1.326483193570149,-1.784902560038932,-1.2811371791205015,-2.8860579727672433,-1.241834856815291,-0.15427203546753987,0.566830228379573,3.163873829531576,5.0470312245647655,1.24870754529164,0.6273736799906362,0.07539853780510684,4.046423353988649,-2.0948414895359484,1.7704705061504324,1.3428053485486489,-0.628115902860407,2.7007571007880053,-2.896459582461673,-0.48907148657955984,-2.4153603716354706,3.3505970687397966,0.11785838188577309,-2.0818315040779085,3.3833813768610894,-2.028868370344417,-1.929689586442025,1.9624352875108155,-0.11473781767402104,-0.8976185323361092,-0.6162589382614415,-1.3398506344220318,-1.860509458192561,-1.125616515157267,-1.3471905127214177,-1.6634667301389185,-1.793717221224366,1.7116070792188465,0.6875307868210228,2.3599126557972556,3.407745586370999,3.4201634173555178,3.170408043356187,4.18970943674314,0.8861883023723567,-1.204133680640151,-2.433266038421997,4.39625772926401,-0.9943458450544895,-1.6640786009656174,-0.65301207329925,-0.7024160963306559,-1.616272197540598,2.7000671233999958,3.13323031421381,2.6230336450209144,-1.7234064226917933,-2.8800245580393975,-1.8011679111545564,-1.6369871043498494,-1.8914809660644945,4.618935780161165,4.050843042184686,4.3526630512689914,5.122067061563879,3.9068164100335854,3.986678980914993,2.785223409389512,0.9999800069643582,0.6799719491218066,0.014298306941483516,-3.156152761147995,0.022755347441273374,0.022755347441273374,0.16215521835046942,1.8848249364406608,-1.6357883699260116,-1.4405368092396231,1.9595862552593748,-1.964396362640469,-1.5973738646502864,-2.089446314970426,-1.8026658189060796,-1.2917710621025622,1.6122957977964285,-1.0597890934720582,4.601631831528845,4.450568176559055,5.210196579660411,5.777399769903297,0.20076562572775994,2.1326120989580426,1.745996809434333,1.745996809434333,0.20076562572775994,0.34546684392774013,-1.5154226810919007,-1.6922378597241026,4.310681878249165,0.469268947239108,2.3242082313809864,0.938112123399802,1.184125244273475,-0.3743066976564597,1.0133098935057983,1.0103085340590066,0.7875315203113371,-0.5858043284252918,-2.6432273139517353,0.745467864964598,1.0437438961384329,4.8395641425212785,2.289658143604803,-1.3025333410462425,-1.3212499387413408,4.033258007856049,-0.9054653279761934,1.4077154542863624,1.8197767618637968,-2.02668014129887,0.4069739919366765,-0.17898853073046214,0.48476181187359896,0.2637378078660118,1.9490472897705742,-1.2617841821502742,0.1492151480055365,-0.21755040086465324,-0.7624724066787744,-0.9387029953969092,0.2794997792688255,-0.7588630483770623,-2.152795985798638,-1.5357814618078711,0.8290154285889068,-0.9817137056298634,0.0007320463538199625,-1.059070178230984,-0.7529011708788543,-2.517514521755168,-2.3199405171221934,-0.2347149166477559,-0.22120729624415375,-0.6810305719934215,-1.3423911334200642,0.932909943322976,-0.33138598600913216,-1.366341923568507,-1.0192775239661647,-0.5491172599185697,0.05306629499184252,-1.256710732405582,5.259661506974297,-0.29656343051103456,-0.20192591787069666,-2.0246023398504898,-1.4443686593542033,-0.975183918236512,0.05452714640811886,1.4523524534217294,0.8192739231873567,0.0769826168403765,-2.424113347680563,-1.049939683603638,1.3593481661758207,-0.8437018248035685,-0.4054386474312074,0.610122714081702,0.12017397103911666,-1.0084097097668374,1.2229974720456422,-1.1031682937994751,-1.4083418571679756,2.5756303060219805,-0.15864834545484124,2.915458923587589,0.01496819292810994,1.4088806725999024,0.8082967149746697,0.4464945802762574,-1.27956000597858,2.8272600811544897,-0.42771336379760105,-0.8837451046928394,-0.2309309414336462,-0.5371447045574785,1.3880784370526718,-1.0597890934720582,0.8795324448096479,1.476414729824297,2.765001627237037,5.637075618753227,3.500235764018913,-1.5104184002125942,-1.2334843591545122,-0.752940502921875,0.08511187324309363,0.32051098514515364,-0.9120762581936702,-0.2785807002941408,3.088433624767484,4.1432477779997,2.3997163163978636,3.176957929846903,-0.604428344069408,5.57421968820398,5.333727896640733,-0.1703279404176033,-1.4427210612478665,-1.3399879370214922,-1.3399879370214922,-1.0802458985701933,3.9166593931872073,1.1333539879918582,3.131924063360549,-1.3399879370214922,3.1351717246654673,0.052961063614166574,3.8242286853002594,3.3139603610314237,0.6376433975357735,-1.3678276494516526,1.4795949689527161,0.5075398114106461,4.025163763893032,3.397634175449699,3.3025291157013483,2.8311288224741094,0.4298703987209281,2.6526038200999027,1.9894395187425378,-2.4451348377062514,-1.9828992824413216,-2.9088138803783807,4.9107130097470995,-0.649803665432299,-1.5303444494938017,-2.7153897454154547,-2.068754415796768,-2.2542542997003867,-2.010052679611557,-2.1099099573153457,-2.2236326075156043,-2.3132103064829823,-0.9502346814249337,-2.136402709539328,-1.0065335489460225,-0.563511753593261,-0.5452437114590937,-2.2698090988609745,-1.2016336137926904,-1.3117714960738562,0.11607867116484637,-1.1573319711835883,2.8442612084686405,4.816971047050107,5.388502137886455,4.902234021478257,0.17804007974110714,3.129629623900942,-2.671565344475637,-1.473288100303356,1.2109456547170145,-0.6283268472049901,-1.8232159852586638,-2.7616267192665003,-0.8038412941572973,3.129629623900942,1.2775355899569385,-3.4999871537663054,1.3589483043899597,1.7385554462803234,-0.22573449118776884,-2.274067346388721,-2.7222920271687454,-0.5665714728194756,-0.7245547433332981,-1.899241989411072,-2.8397395979008953,-2.0779173370881727,-0.8771721526876322,-0.4066838677898678,-2.462682444077488,-0.9502346814249337,-0.8848052512508274,-1.4759715630515968,1.034056339073768,3.926653088228393,1.3504189491626377,0.40228114438331647,-0.7883433217568923,2.0279654140200676,2.040217954687531,0.8979910073856043,-1.3703622819832757,2.1959478767859384,-0.3257151107438907,2.1667905160060257,-0.10849963879625053,0.5555801926793574,2.6855272350918455,2.062971850274054,1.932778973012089,0.5823874663723937,1.4280076694700545,2.2279502077988376,2.0141117237244637,-1.754826047247285,3.1452711577365053,1.8851878311394776,0.5461741363291354,2.356396628203323,0.8590333940405699,1.5750036225782422,-1.4254079176047505,0.1322950570473478,1.6585341861753584,2.633080100731389,1.291985896710184,1.5307731412375478,1.8030112846657116,0.06706942676046224,1.804540350598173,1.3745874347744327,-0.08395614302769293,4.049749172711464,-2.127550029030416,0.5273523375187024,-3.0914737893276936,-0.9291176379098578,-0.4015548957102338,1.198781194173009,-1.4489486989802873,0.42164195837834867,-1.0348098358027886,-0.633742057212648,-2.1834965098510493,-2.1758672952105034,-2.8243568560471237,-1.565785143906472,2.4888524869873887,1.7069952938522703,-1.7699525413624635,2.0944287535894563,-2.538940561074893,1.7757562576013057,-1.3673813815784834,-2.3217190043773974,-0.07145510003716145,-0.12953515656082165,0.017056520577366667,-1.6918615662065648,0.2478889863404186,-3.3719490056920605,1.8109439725347176,-2.956316710280409,-0.932657651394537,1.5453563721904267,2.0175676302542978,-0.9777384825203552,-1.8088045851480494,-0.19764938933701354,-1.7360045350795765,3.6842201989297245,-0.6847094485509639,-0.2603117476767173,1.5422988888047615,0.5930026646121659,-1.7912959670136812,3.118021498922635,3.3580144918752364,3.5099309650882864,-0.19461924016161677,2.48052796379023,4.517776810914014,6.091867137337183,-1.386425812758799,-1.6590894291934803,-0.8451615089399569,-1.0417192548785015,-2.21263284411401,3.904762418566288,2.3576582971520192,0.039926016615875436,-1.1004953247578724,-1.3293394373721172,2.4179234417138895,-1.8494158071698887,0.6194589894389185,0.7007141496868071,-0.22131099576619365,4.069805840259915,-1.6915198589429605,-1.6480326701342507,-1.6266757262409504,5.070598490109725,-1.2012069430765242,-0.20161483159629026,2.2123779499001315,-2.4649248397008874,-1.9249814682117188,-2.408016409672175,-0.3981606546944878,-1.1481127843950496,-1.2373304643909686,-1.4628181365509458,-2.642991534637256,1.953301703300398,-2.119572558061235,-1.0140421857817687,-1.8430894155768578,-0.17434341580478593,-1.8079063743752277,-1.0770098667738959,-1.490548176924028,-1.2980784897176678,2.3650341880945875,2.805690268078533,0.48472351061886215,0.8549288236323002,-1.5013922149508832,-1.3673565615888017,-1.5786623309290868,1.9460913874910215,0.0317440307360448,3.5189870964878107,-0.12194207361813111,-0.8643826427197144,-0.34316401580846057,0.1487995698285148,-0.7021345155769486,2.526890730193053,-1.5907428957012457,-0.04081922184563197,0.7899298288307444,-0.9108592533331836,0.5345492960066768,1.7118640514247745,0.32913723878694856,1.193120225310696,1.095868990708861,1.2545681987114254,-1.6454912421714354,0.06998303323160715,-0.6562708849308392,-0.8025844842561641,1.0288670632622676,1.5503148149597912,0.7522544149888772,-1.3594752795046867,3.018000391387948,1.0712957412947137,3.2217287372984633,-0.09309152149855242,-1.2985779973467597,3.218628062553706,2.1326120989580426,-2.3446730016825668,0.4052933124022675,-0.572602302144004,-0.8831651240421433,0.2864992879018398,-1.160289146827437,0.7158496154657085,3.510753435620004,-0.2064659721466586,0.13893639159218824,-1.8058188159171593,-1.769051266009559,0.8116576480875344,0.33752469190627454,-0.010394775910613106,-0.8944573785036674,0.21387473617623287,0.23100452434814076,2.030878227187986,-2.2995204704233023,2.46411111954667,2.11921786172136,0.03900046465196561,-0.6538759240822299,-2.508627218880718,0.8123565472634434,-1.5787530557618976,0.21465726009403827,-1.837016508756995,0.9229565319598542,5.6563508181331725,1.2758796109944486,-0.5087977010750441,4.278428722085265,0.6992100078765249,-2.3841364242986867,-1.7777308426945022,-1.7803898860126586,-0.41675396826810723,-1.1894418289754822,-1.3168814365839576,-1.341598059302449,-1.9057076077566941,-0.9399967293329521,-1.680868515200483,-1.1904065555535022,-1.4119055620195125,-1.9190223555873658,-1.681820390200121,-1.4359027004171472,-2.0112309024792454,0.09121406890156579,0.5055869622129703,-2.3991249477716163,-1.4878005371777216,0.09012877718788422,0.31014652749821736,-1.4468211063157397,-1.8879364766330229,-0.4308099759040463,1.9127398992549007,-0.9340739420096723,-0.09245424702743289,-1.0170415780895836,-1.4337106390703696,-1.1513085587600582,-0.35053272601344115,4.891728612485052,-2.262035465700969,-1.164623953523948,-1.4194876518446784,-2.178982674772517,-1.7048467653411064,0.08723516303489906,-1.5513713971895973,-1.1305919329746985,-2.008601460302474,-1.971984908729134,-0.7603552441700422,-1.7081845936205533,-1.452644788376457,1.0936536290838437,4.707297316935377,4.066416551661852,0.844908045381959,2.0175676302542978,-0.5221029502555921,-1.0819030183511804,0.9363603495410884,-1.6901930633720714,-0.06734437755377164,3.128409610084757,-0.013372924890361819,0.9315488370480715,-1.107898841368993,0.983684517135779,-0.6216384167307978,4.176384153224836,-0.8174650647916106,-0.9844049327521119,-1.9340208521383129,-0.9150586306583623,-1.9024375077661249,-1.599119189997871,-0.39791226734428087,3.1890107734387287,-1.3604505665769044,-0.7141034047337286,-1.5914938986038474,-0.26981790114743603,-0.32057160195909273,-0.9748467556979415,-0.6346112423952763,-1.485246786990908,-0.6488361413093131,-0.6875208972982043,-0.5235210522524464,-1.299764417933026,-0.3937474251797409,3.4924077989945763,2.57635772327118,-1.255050205647134,3.8527580670263855,-1.396365404235286,-1.5970419948490937,-1.6886328758157634,-1.3774550293604118,-1.369072952462097,-2.0826181995813418,-1.1954018276570275,3.4027511525664993,-1.958722994174527,-2.646314841291695,2.3353127950974284,-2.345824751081745,1.395742623948655,0.3091765784289796,0.3091765784289796,0.048258746895681,-1.0823520722647522,3.0490881810417663,-2.0975769095841974,0.25316511117440554,-0.15427203546753987,-0.4124018197799235,2.8948856676427703,0.9925700176837311,-0.10380387445274354,1.893819524326886,0.9398182903443865,-2.2190070001920583,-0.40289995088326336,0.48555984194642265,-1.6946786996734662,4.453263833371466,-1.7698042251005015,-1.2917710621025622,-1.8456441547473579,0.09262464006245423,-1.8537718049763474,-0.3241240622174596,5.699030304877432,2.3817849882339335,-1.5609102360473233,-0.2799174074815609,-0.554255057269899,-0.6637454999146529,-0.3292698306096493,0.6663435469489184,-0.8145720543150322,0.6939265197491407,1.4162075885952388,0.5778186477553684,-1.258474178901715,-0.1877236587907225,-0.8836013757068081,-1.6875506785986956,1.5211340327985543,0.2195908194829519,0.2885020536256135,-1.4926217671802857,-0.21175692447558003,-0.175810204961631,-0.8875625801717674,-1.2556219866206992,-1.22693616042837,4.618935780161165,1.3552239026426254,1.9336164093535624,0.3436840728473296,-0.5690376399407661,-1.8919920103002343,-0.5841890549176636,0.332769961899998,-1.9175550818936071,-1.2392356281844954,-0.09546520325791828,0.5577786585832513,3.002801573904525,-0.5753522125886512,4.161022525837937,-1.9988770057703404,3.746890986528976,2.2244782603334134,-2.0601769600585085,-0.7651747940113187,-0.8818233752987592,2.2008285870324507,-0.5335105742105525,-0.5913765417068708,-0.8686121365386248,3.126929191169632,1.572747239850046,1.8241788630931604,0.9487631695800589,-0.7979632686424246,-1.5274385093734075,-0.04031006817489199,-1.4688940844932519,-1.5189484652220957,-0.3336390303841242,-0.28741846532537707,1.917391486091967,4.217793257754895,0.8123565472634434,-2.026822876035977,-0.9888603025879952,1.3505978175446627,1.3505978175446627,-0.22448253695649442,-1.5599823753878872,-0.944511018885155,-0.9687374941369966,-1.9473824019540278,3.262619580896011,3.335750201236278,-0.08400104548676966,-1.8353016618474367,-1.0147768860331046,0.680587978785231,-0.9288952404986126,-0.9673631567290882,4.168363339147139,-0.8950461905575395,-1.6554978350332181,-0.6736705457075552,-1.5694794034452315,-1.6619836307825167,-0.1588995810750397,0.6637508483382988,-0.8307561706234646,-2.283315635946638,0.8752453390642249,-2.4277401058841894,-1.422406598148057,-1.103766214033281,1.565067109513586,-1.0895612371376293,-1.168714792577957,-0.994697472084174,0.735242638839317,0.05685055929293267,-2.3649098795794234,4.904751130878141,-2.8030403909571513,-2.252562080818786,-1.8959245730757301,-2.0917516052011518,-2.5083171311632495,-1.0932669094952792,0.2300271283486476,-1.7664024000158356,0.684554644870827,-0.90246065712377,-0.47940453613652784,-0.7455458630228259,-0.9013326790547971,-0.715057907181998,5.521484025398491,4.330780758381716,1.0507517772310682,-1.6734809168327214,4.2365941773482545,-0.2745021491914586,4.055818049656475,2.1357669132817225,-0.8330021081673911,-1.8279298926842606,-1.7462095781463165,-1.429274801673933,-1.8043356480433603,-0.038926072238980904,-1.3609492642096972,0.44798540695465167,-1.6881966197421576,-2.2605554980822604,-1.603295866528965,-0.5719868279724848,0.22680621843925103,3.0007464182467136,5.262058618140634,2.8858699481600567,-0.6661581305866633,4.647416850813506,-2.3259805083008867,-0.8749418351069352,3.4358447536432473,-0.1859205699604882,-1.325257796141951,-1.6454826504708202,-2.2743637727692745,-1.137548985445843,-0.3059464908211044,-0.26321036146484195,0.36823439087847637,-0.7749919598416048,-0.17119199961990905,-0.06981557094042341,-1.207258832602025,-0.624102112730828,5.419874741023525,-1.5972222455784257,-0.36389517538093913,-0.3445021725092957,-1.6165697131635048,-1.1021594097961798,-1.2273516660222612,-2.045214098687468,2.0186542826167524,0.4298289927167271,0.6052682794470812,-0.44235378658709557,0.022947141944437952,0.0015944771473578208,-1.8238846076569697,2.231754168198273,0.764274814163574,-0.8433282919666333,-1.3230875790813463,-1.3298929349932953,-1.226722089484789,-2.1499949310856814,-1.2163920877132492,3.4634847114667897,0.45394121663571546,-3.0613383031984207,0.22729614518138555,-1.134476832563175,-3.0613383031984207,-0.7072963438992385,0.3418433804143047,-1.567118259123491,-0.869666690061237,-1.5795590761486509,-0.8772502462786,3.582500683457119,-2.2268342780614736,-0.20126115331103897,-1.667521519112388,-1.1676869386410922,-0.0959440563615286,-2.3820664249846057,-0.1287226442254737,-1.5822498519629935,-1.6387434617760284,-2.0251481991515754,-0.6993509873932028,-1.8764670933076553,0.35443256089680913,0.5717167306430517,3.1019647144481843,-0.5188294035461433,-1.0126741219338158,-0.7097641046725922,-0.7276269751785622,3.363462492417517,2.9752226817107963,-0.8219366599034414,2.2089628716223135,2.7850640053433686,0.2981463520357146,1.86648847416386,4.140411488353792,4.133048817017733,0.5282838272987493,2.6055721017645657,-0.264782944410476,-0.17832420764440887,-1.9380303715726293,2.9039050390292247,3.649677021506469,-0.01292992374435106,0.9703843368446696,4.8400303648764655,-2.382120428766232,-1.54416897723458,-1.3888697809804096,-1.954261376586502,-1.584981903082229,2.4466955357895843,-1.3666480483746366,-0.2676245317046486,0.40230341805213987,2.3745705662041594,5.050054496026233,-0.9053180429942465,-1.2698419846443323,0.5398747178532755,-0.9479576954954874,-3.0324499813922876,-1.1121517547583095,1.054364222254831,-2.1748260590504636,0.8783391882405458,0.844908045381959,-0.28380427510569,-1.808364745025448,-3.2024704591966753,3.3215521054488217,0.8539122759964437,-1.0527079835431898,-1.6233526075106721,-1.4951842716237809,1.7519453777759337,-0.8298967446281699,-2.187333543701749,-0.24944080664634588,1.1074723601112297,-2.0859355414082175,-2.412511518031865,-1.2499990583699119,1.2918669581773614,-1.4808604861756598,-2.014442970023502,-0.5413481296670024,-1.6534058002388408,-1.4317917003045737,-0.9871359024336258,1.165541156772922,3.0002356858668846,0.15000872558749215,-0.5219177664341923,3.047428758666206,0.8524577565344795,-1.8419708771379095,-1.4212505387436203,-1.5990912760966658,-0.09245231702928701,0.758923917438944,-0.38861753676292504,-0.48869129923344445,0.1860174465239198,-0.5767423202391108,-1.044525985652123,-1.4103425017750744,-0.9467174638564457,-1.557090757749283,-2.031656522376278,-1.5050207141774037,2.033041433841414,2.9972411903138965,-1.113190371205714,3.4143457476927663,5.320867729182732,4.0859914355094835,2.1274425358348816,4.947269754284726,0.4726197924305106,-2.2016868255719344,0.43167185305864536,-1.113190371205714,-1.6057702396471847,0.8312197050104102,-1.7642479233188504,-1.1590732070276328,4.081447099437763,-1.1266837590924166,-1.2919547680535057,-1.7723311723076114,0.021900563903480143,-1.8333368443589544,-1.7602758888628436,-1.869346061592217,-2.046542277096348,-1.0561390468606335,1.177051678970373,-1.8762990960288113,-2.4252240322564087,-0.12210277573933491,-1.626006632578296,-1.8445494912080096,-0.3033082971030339,-1.2048764587975178,-1.818276597506005,-1.4422094887527541,-1.0947009976647624,-1.9236465210710905,0.06349215750229707,-0.7967643032374773,-1.3089600393569707,0.5354649061742393,-1.1538421770428788,-1.1326586912829215,3.1056989824074224,-0.5655314564562393,1.67118475826074,-1.69035928089656,-0.17282411226062397,-0.1534234424262166,-1.1213935734132543,-0.3560114892032397,4.264393263445874,-0.970208733123111,-1.4795207011403069,-0.019163938022141374,-1.6262673095858855,-1.0729349066364706,0.6594213427915557,4.0669953859856625,-1.7593947139165342,-0.6148631774543123,-0.532844373318665,2.195131016648976,4.211073384228152,-2.0951936831935893,-1.7126773122191763,-1.3176226052793862,-1.2398389440352926,-0.6365159443123275,-1.868071836587033,-0.2077489898443985,4.663158190213205,-0.7172902492876029,1.4126375362115118,-0.05348159629165145,0.12258449104649374,-0.693008274763072,-1.684246261680124,-0.999714346230431,-0.9925277416519376,-0.405545524685152,-0.7943307030855671,-1.4179766882023732,-1.507761869173882,-0.1186475262519462,0.06513251514329911,0.4479061806002182,-0.5905352698295606,-0.6656940772015799,-0.12568353651020495,-0.2968239783275796,-0.3020850369503257,-0.4431538767660791,-0.8497568273164455,1.506903795247657,0.48036613331287836,-0.697080464613886,-0.10347402499997313,0.42611844118290915,1.7181988956709005,-0.14880872420562588,-0.8608961760184075,-0.21186655948989633,-1.2074405624776208,-0.24447286527723086,-0.11108361445809313,0.4331828913071607,-0.46666599304566153,-1.8413507629642525,-1.0214066744382941,-0.4975884880865167,-0.6844849178178255,-1.669702850008831,1.943527833405262,-2.590401210503966,-0.9832888022778712,-1.510245045648753,-1.5772672834448864,-1.3747547479445228,-1.2001953198664075,-2.5500589751698053,-1.5609102360473233,-1.890277639273256,1.658754391001419,2.7931435870373407,3.3936697303588224,-0.3078197169386884,-0.5170085720229933,-1.9380674914976466,-0.8915763547993777,-0.9886668262046701,-0.5696178874425248,0.8795324448096479,-1.1447334158703657,-2.0065454067291433,2.820574209762178,4.028986191210217,1.7372253796499812,1.565585381005376,0.07802122878737071,-1.827487688685229,-1.9502075389529852,-1.7354065296445802,-1.869963135603199,-0.5644354650111926,-2.0061121385605523,-1.7634140784138803,-1.872300894132352,-1.863993220422248,-2.105897560651473,2.957539714316923,-1.9232812200626508,-1.7291945028487063,-0.33946039336050987,-1.4817947434057168,-1.3648272900680107,1.6184380633196072,0.6731669759445202,-1.398152579711441,1.4897707598582184,1.0157432689846038,-1.0568509529743577,-1.7518249634932717,-1.242195840460265,-1.9336938727708395,-1.759821704033375,-1.4555523482943322,-2.1082944798688463,-2.060666043906394,-1.4904194189397075,-2.0734945064138426,-3.9937547184628506,-1.7804503009224801,0.4188013767860402,4.074252866889356,-1.6540996021001335,-0.8706935586305755,-1.2311045301288568,-0.07788453537429856,-2.443401395671398,-0.0762566035362805,-2.1318590249117166,-0.16461671372417636,-1.7771222855258455,-2.2929023354570375,-1.227707542119134,-2.4270031251579978,-1.01987819468375,-0.6385744256983827,-0.6162589382614415,-1.5903114999670296,-1.122686792400836,-0.7780117610925481,-1.241834856815291,-0.4187722487022024,-0.5887610453578073,-1.4255157505699634,-1.9236465210710905,-0.8321122702871269,-0.7103155395647744,-0.45457897450551077,-0.5006469673618131,-1.34338601651701,-0.5586881735072325,0.7183670596719584,-0.8757146430848167,-1.0684891129569074,-0.37919072063458714,-0.5255270518176546,-0.4899308370179322,-0.15972671026188123,4.813777021504081,-0.8690009426865822,3.3215521054488217,-2.5792042125307075,1.5603981597326764,0.888896898914363,-0.47690770582583414,-1.3173980164012005,-0.4962570470088785,0.3375764127658353,2.1487550179202075,0.5205896223390931,0.0023903786712653947,1.44385437022298,-1.7722920756714422,-0.21138765775075855,0.9097158032319795,4.84460156503368,5.666384156661321,-1.9417108967056718,-2.1065509824092223,1.140796258083534,0.23103463786948655,0.42561757819746826,-1.5657114923930855,-1.5657114923930855,4.244480994355998,5.176708744973618,-0.8596027093370077,-1.0270738870476324,0.37512427692022604,0.051811371512324754,4.58255384520449,0.5168944033678442,0.06057426972990546,-1.778492725569417,5.408174041012425,2.5327757019918797,-1.5302866131478017,-1.0610339222842131,-1.0947736380529212,-0.9227741339323355,-0.9605533109182772,-2.1322400770566383,-1.6689001793002767,-1.4351673016485826,-0.716977224616245,-0.9568264963416632,-0.9416875707314976,-0.41333850470528294,0.16883070258110286,1.4322493420169824,-0.7813213297476427,-1.1271281147595367,0.6524595908390076,-0.6927403014042182,-0.6732878229230738,-1.1414799926170152,-1.4892770702646925,-0.35535854852106813,1.82944871658052,3.65607727182223,0.7261799401622594,-1.896971419854984,-0.41939395144300906,-1.273066331883837,0.10397499296520994,2.0964836415896615,-0.8776788935290583,2.529909789362584,1.0082003519061769,-1.890277639273256,-0.4220782534476136,2.1090057143499563,-2.371561218751935,-1.0444388347634848,-1.2311316155798793,-1.1776970800546382,-1.0345327312064307,-2.723466640316104,-1.7104420113557341,-1.9914059300228188,-0.6226927475906405,-1.0468527623234283,-1.290024838233272,0.12309112973266503,4.6524036896912655,-0.40462364134067325,0.4430017973536206,0.7869224265474098,-0.5605651851159841,-0.128438092432954,-0.5314028806277078,-1.023829088862143,3.1748797341320385,3.859538766764742,2.6026231331657734,0.15833263461928374,-0.7710403655798296,-0.4995419530279282,-1.2938074605601024,-0.3580542688912645,-0.8371847600040487,0.2332762265516211,-0.08852138585591895,-0.6084691009396432,3.879862859303168,-1.6480835900823707,-0.07920628817761133,0.18122554674263563,-0.7235894288501409,0.38067681393629943,7.226544609014925,3.401539713522083,-1.4159279091453274,-1.9127960305645086,-2.0174373591629937,-0.8956325749527941,-2.26034960431119,-1.9407337361195287,-1.4539395308420204,-1.9899331345222537,0.5563608894958337,1.365574127458926,-0.6778354788931381,1.487258627957039,-1.4237008451336226,-1.2748104198497474,-2.5524611671940205,-1.737566270810139,0.8903585804759279,-1.3514066895790282,3.6734951616390163,0.23893979548550845,-1.800938059715406,-0.693008274763072,-1.130234615338389,1.0424609969554555,-0.3854930285215829,0.4808026898470223,0.3696015150662256,-0.24312431299061077,-0.314298966613301,-2.1229905425409283,-1.7729246995643404,-1.617369675471303,0.23810845387496932,-0.48339166999374117,-1.727371155184972,-0.10198804553304588,0.5055144803084082,-0.7131430817527206,-0.8951228201123625,-1.0597890934720582,0.36743215471166984,-0.3275524799958191,-0.15392290335128933,-1.0079751959068322,1.3312267508392637,0.14879178398842216,2.5937576493924146,5.280198100270839,2.6125401236233903,-1.2429187294667845,2.883460748025333,-0.8454958932986617,2.1255631796368952,-1.2848447129982963,-2.3335290439494876,-2.387460845551279,0.47081022186238697,-1.8703654091300095,-2.604864563143927,-1.5249585479981829,-1.931135213046159,0.159259143113129,-0.33685427467473195,-1.7238132206500634,-0.1452317393293621,-1.1513324744387885,0.5329054203221855,-1.9612249102027295,-1.2399292163761062,-0.9213520425348989,-0.2934493481289024,-0.7878251517408985,-1.9817641589623987,-1.724485150394912,3.925517286069727,1.5942931299634626,3.1863353179970493,0.9775969311537835,3.5867432508255295,2.6477450497993646,5.270217759644975,-1.708248597738554,-2.199803980460223,-0.0657808177900515,-0.8368706284559645,-0.7854677175050879,-0.2091640274211793,-1.7085754585994846,-0.2091640274211793,-1.3997320777127076,-1.0909590554136068,4.169466471505727,-1.368463060362421,-1.9324283671873026,0.11061706995923708,-1.8318071541194556,-0.9598571387641562,-0.20192591787069666,-2.3224821040846515,1.2956242638589637,2.4399389680424717,-0.003429977050852233,1.968987870792328,-1.8110394558681615,-1.2760228016974002,1.751264609190849,0.04735484250803152,-1.4262864308855525,0.81192458679265,-0.3351614731377257,-0.288541914405858,-1.9135217129716575,-0.4450657468956594,-0.3898013592395622,-1.0965604946490672,2.863244558695548,-1.0064366536641491,-1.6679956265557851,5.037072097193789,2.307251668789425,0.9817234747421241,3.0232908871047828,4.117010734472987,4.113361444554919,-1.764088793306544,0.15200397301154542,1.0100574747776025,-0.0982682591865959,0.745467864964598,-0.07912913968776467,-0.5869929672815067,0.06137656758641573,-1.2493185544417902,-1.1625329569665994,-0.5446464357178689,-0.5257359411169916,-0.6973969041449729,-0.9719600477669016,-1.711392433741773,0.6626099536052523,0.37990667046114934,4.353172762386834,-1.7505111883218238,-2.6082819147952385,-0.7744430956484756,-0.2904984597290941,0.19347918400083947,-1.5005648417719335,-1.3802231760043537,-2.520149113309614,-0.674259069769009,-1.2280633296074608,0.4229742125954449,0.19347918400083947,-1.6139893679672446,0.24592070134157273,-0.9320241203449583,-2.0291882153646843,3.0861648235299475,3.289630235628956,-0.8430280926050706,-1.0191080260121559,-1.2581311719443393,-1.4293847145323808,-1.2280633296074608,-0.8918518314853063,-1.1625329569665994,0.33200940246639093,-1.4006157751179193,0.4749551626010546,-0.32853831112165593,1.2317234135229203,1.898235146478136,-0.827204473677135,-1.1182953375910352,-1.2140979999974293,1.4102809155728953,1.1162558244140968,-0.9625261685035083,-0.2277434288391778,4.820483671447011,2.8066726781677938,-0.8910597762575849,-1.4197100225439545,-0.637305362423107,2.6678110759629488,1.3709647550842843,-0.850992762037047,-1.1349369532310467,0.308313985762174,-1.4183221756409592,-1.1093252736015076,-0.7858824490959354,2.143356564904713,1.6998034813955676,-0.5767423202391107,1.1753290502836937,0.768324943791739,3.067247968624568,2.171382773188073,0.09109228763953289,0.1742419604951206,0.31907993640081084,0.5277083757468678,-1.5891418340117451,-1.8079063743752277,-3.0009494117128,-1.568343055410002,1.2531320966526103,0.48007880695773714,1.1470176346512213,-1.309517091738928,1.5929388159834188,1.071042013249129,-0.627779069207623,-0.7049891902633244,-0.3660994904340977,-0.48717640946067214,-0.7621598571323556,-0.09005428008473736,-0.14868520555969353,-0.25077834940821053,-0.7043224955062207,-2.109018269583259,-1.8793340708111221,-1.4483273104314514,-1.6855200932596475,-1.8814813682552238,-1.4090316369170177,-1.8761815210993205,-0.4113534767140586,-0.866203259858259,-1.5843624105760052,-2.44283475181261,-1.0024189493957567,-0.7470110613107886,-1.2099907754251182,0.8179688501593783,-0.3212642807458066,-1.1398522347318414,-0.8437018248035685,2.04225288520613,4.763938610263667,-0.8284168584098465,-0.6352570447275063,-0.8515059856345175,2.2461767341646826,-0.3982392926568268,0.6404987805565733,1.2643075804942325,5.199354627810798,1.858382900436078,0.7197917125418756,-1.8100918480866646,-0.05143589477032215,0.373892101955119,0.7611727109350787,0.8241113127768893,0.5550844565870765,0.7400410988074491,0.43047588600987846,-1.1913376013534454,-2.0196290838920694,-1.0362298519507231,-0.626685897596574,-1.7617435578112361,-1.9484506333422889,-1.0008080358122458,-1.9465609399407133,-2.476175635292687,-2.6575800924276174,-0.7988177186083197,-2.13236430571108,-2.5641686556704397,-2.1305638358695558,-1.0271095058981732,-2.2711827620735554,-2.995567970719322,-2.013777147378141,-1.5437600629004626,-0.5641657478210677,-1.953961590067143,0.13531177462094465,1.524083050884107,-0.38979132753570017,-2.1472490541110076,-1.7165767230653304,-1.7102416567782477,-0.29456810914750214,0.6183200167275019,1.105052316821271,0.013477089149459649,1.3552239026426254,-1.4987842085344658,-0.8367365709615178,-1.0892869241339949,-1.1815682360615878,-0.8359986265401654,1.8064229455207177,4.573522285535854,-2.3895472039585046,-0.8875625801717674,1.5623932472527697,1.612992140634688,2.3782870107067753,0.24814725641207536,0.8731453432239911,-1.7647645267425511,-0.13139150759423165,-1.6129773081287344,-0.5758965096135347,0.07342012773008964,5.948310252700203,-0.2603117476767173,2.343952977423161,-2.031774874687597,-1.342230834318822,0.525704994311737,0.22042439977145226,-1.4231533307505335,-1.9680325183749667,-2.490004187789633,-3.6403170139945424,-0.7100689834528836,0.18037744575466225,-2.730779239010128,0.6051493269356303,-2.0122268085743875,-2.988237786590676,-1.9881226567087906,-1.100181105675231,-1.6322560102481438,-1.5585212785368776,-1.2003769056176097,-1.1518035655172467,-1.5626575408762577,-0.7030185679656783,-1.5109878564250228,-2.0949762564053724,0.21820803727111548,0.28102092564734477,-1.5999015985109148,3.6364376718953975,4.3776345698127495,5.517832620777451,-0.15593220469833197,-2.7823545006812127,1.7058186045512964,-0.33256344644116015,-1.5606335978828205,-1.4666166729454664,-1.6720377493956846,5.050054496026233,-0.42113023519587156,-1.4156805781784711,-1.0310175317531443,-2.0594619338254336,-1.199312100251362,0.8418391167498275,0.5277083757468678,3.2000540604664534,-1.0918956593169167,-1.6640321370290692,-1.794037951933161,0.26759154444683053,-1.1761461616742417,-0.923660880093346,-0.7383878592737928,-0.7370115676562278,-1.7260061487881726,-0.827674982646757,-1.0981889258275173,-0.06860373314219005,-0.1984230049980878,-1.7252882884251954,1.902704125064272,-1.2041377469320016,-2.1467615740377157,0.5675226390225978,-2.737860585635959,-2.364673522999303,-1.5159051852544057,-1.1991820155424164,-0.23901879110390312,3.7555101009976464,-0.9172187524603767,-0.6027578678703409,4.365128553031851,1.357052659263262,1.0610805001881727,-1.0918956593169167,-1.0918956593169167,0.37990667046114934,1.050751777231068,-0.8347222062998053,-0.4362902449973904,1.8393460147500889,0.9749323262388528,3.5998474603595323,1.3878500421641182,1.8808998932641332,-0.24102161445379305,2.52428814184137,1.822645487978489,2.3824054687967284,2.7160711465674656,1.3400521098127465,2.0675085711906043,-1.3774147805614485,2.1169017128094163,0.4725370812856813,1.7005090330279224,1.0124138734776462,1.463848986140689,4.517415285770569,1.6062390664664319,1.5090985483914208,3.3281730713216473,-0.7586867391814037,-1.9710893785207475,-2.6279453478185104,-1.0959217221133746,-1.7330340393361592,-1.5509421569582797,-1.9153264230825722,3.286543067630075,-1.8853012598366528,4.031929446383439,1.0917032949632068,-2.0995891751226226,1.6077515138179583,-0.733899633149504,-2.329923166852293,-1.671499401380414,1.3227936929233737,3.2245788048711375,0.8493078136160166,-0.899105004116,-0.25963697831105437,2.487845989688512,-1.0057381074581446,3.7826527020996927,-1.9157679231230502,-2.002623395739879,-1.6696448272331241,0.35150546256900866,-2.4460483692044104,-1.761901935635352,-1.651777456767837,-1.623754762123405,0.8957766323986632,-1.8642286743270613,0.05337344824100025,-1.6425344618411397,1.3552239026426254,0.1462460887456564,5.85820972161687,3.718031260960793,4.993793590175096,1.8999455539621686,-0.8127854597663118,-0.9882751706880389,0.6321516301100989,0.013416667960794403,-1.2772504087424403,0.5751095293838544,1.8650579113699,4.510568593122151,-0.0844990555337579,-0.24164638031298002,-1.98306823106109,-1.8494850568377166,-2.5072492769425225,-0.31208753852228305,-0.1979951627638796,-1.9132406824951997,-0.46675708557075735,0.5301321114835897,2.805989237136698,0.6503978876248593,4.008015267389634,3.0007464182467136,0.30328525020158825,0.7826398955578474,-1.4792219052824103,-1.3563827742337005,-0.9660709260830546,-0.05259932417507994,-1.3776523091749264,-3.0725256635991225,-0.4751356317600315,-3.0267560599545056,-0.8325111872744684,1.7747900310136377,-1.0280691588067048],\"xaxis\":\"x\",\"y\":[-0.011146290126837311,4.498483040491564,-1.2584950530912393,-0.9316902391794397,-0.9998605575699291,1.4491987952161378,-0.15349105666351354,-1.0976948285917132,-1.2029511963611803,-1.6720710185825884,0.6245816077119468,0.3542795183340935,0.6218862595041222,-0.7257260770647186,-1.7533744258913713,0.09456002264658198,-0.7607765416859077,0.09023324070523771,0.6354891072036852,0.954924729948276,-0.8173396601849963,-1.247097965100205,-1.0384504583107113,-1.8477530524364045,0.36640565879193127,-1.0939423326821573,-0.5130725914703931,0.19285191038163935,-0.4085058347890256,-0.40191277686913146,-0.5390360868356471,-0.5093297116410995,-1.5551823065201906,-0.32752024826157605,-0.11881659332814938,0.6359085300784744,-0.5876810821821696,-1.6234813101233785,0.9261554472362553,-0.002583714634436639,0.9482384115361069,-0.43252723603061444,-1.0477234546789769,-0.5884127949167692,0.10962376719395184,-0.17631562638303266,-2.2313108525205085,0.34217595688040575,-0.13393724871445112,1.8282937839210918,-1.5586608599510205,0.3941377070229488,-0.16899555980658879,0.6402870848131625,0.7535261568595867,-1.0071979202008665,1.2513815447321512,0.7283795254050511,-0.3155870920706896,-0.374308427738132,0.6971582660739046,0.490781502284657,-1.449631329393614,1.4022237154782595,3.1825154078065694,-0.13343620635137837,0.7231412843907824,2.435673232412777,-0.6624452959667891,0.8828610649268577,-0.4539974243368452,1.289565202694547,0.7021569500086096,-0.032120349417966085,0.15589311833335437,0.04483740558802042,0.7644853720457759,-1.8700830086717861,1.9424014130733889,-0.5355532328520258,-0.7101916522494105,0.6821340814378486,1.5096042889137369,1.0677125248492505,-0.20319345565049846,1.9000703759917164,-0.9569272319374186,1.795794818149854,-0.504551281683532,-3.0351142354928835,1.1858743295178096,0.8760206158908884,1.0658710831443392,0.8982598530428694,-0.10984688935739194,0.7719022721632358,1.1990816803218634,-0.05275616015040037,-1.8569894900465864,-0.32643552532892317,-1.6939481840668291,-0.10438796376462373,-0.14531043781235045,-0.49969689446459176,0.3260647888357258,0.5077876996618738,-0.05048147181216607,0.474696659825564,-0.3879735524806088,0.9981145621078837,-0.06458868577411123,-0.16680607960513702,0.6183612930258748,0.34667897728900193,-0.8498816694047476,0.0282853545309422,-0.4309880876226717,0.9716433758065645,-1.0005494442087879,0.566529012538559,1.1465811195268047,1.3964744337563093,0.4331926430237988,0.09286868670805237,0.2827170296635827,-0.4675119546435373,0.3005906656279966,-0.2568312192639073,-0.7082299299146108,1.9653556872423241,0.5402660920588437,-0.47330522451281287,-0.45905707493854747,0.17712840735323593,1.3226057430132439,-0.18364572119185055,0.5715418725763933,3.1825154078065694,-0.22520769265870422,3.3372777729058347,-1.1787016560533652,3.3372777729058347,0.8919286352285114,-1.662122934101513,0.9126518916872768,0.04544220504715479,0.1579909091453428,-0.38811167466529084,0.7693841067862373,0.31652003537511153,1.5899977353431425,-1.9047868000468353,-0.9570850389300067,0.2230345128472678,2.105384987244785,-0.6995465461225031,0.7111076327776111,1.0092401714194656,0.3238118826696513,-0.1631943487323813,1.0404375904923158,0.6564793989659179,0.3951741514894227,1.2410104338213173,0.3769590932264045,2.4618886452370683,1.2357005578886244,0.2634743406935141,-0.3149803062308341,0.5105081730241818,1.1597876950391857,-0.1586470540727837,0.2960584459910418,0.08484118937578834,-0.7467089182464827,2.2114132179374653,0.08320541248182436,-1.0443441784920764,0.1912344681748668,0.6089226265344261,0.778995261963899,0.952372391594474,1.029639140542471,-0.36267015960539084,-0.9711390263760821,-2.6424864233452525,3.1033319622259303,0.21619308773179624,0.014957619740982501,3.919038472857352,-0.572314827397021,-0.998645255299981,-0.9516486023188455,-0.6906988660514818,-1.1840841818426204,-1.3006189908905712,0.5947979963623302,0.0805416263861421,-1.8790387512323283,-0.33885212574192125,-1.6309491743985576,-1.0941715165686359,-2.446461747927904,-1.1407059930266272,-1.8453286786660454,0.6507379346285472,-0.47118087570081385,1.0197325913084763,-0.2733651563736495,0.017367780195289142,0.774417891072697,-1.1653490752846094,1.5829275370760427,-1.28455304019264,-1.3462327707720623,-1.192458691217074,-2.3552209829195054,-1.6350920282524621,-0.7943134394819978,-1.5948015187911337,-1.0367744163767723,0.23834202586569744,-0.9150329918104022,-1.679114364382905,-1.114008183778776,-0.42641535088459553,0.19720315170070782,-0.7675781583836241,-0.6634064026910745,0.018494863427145694,0.03239395742923752,0.5429849610833346,-0.5502293308844928,-2.5877559470825213,0.07003755588593394,0.7387646468178307,0.8517448089595095,-1.0045392123559618,0.022744918930614658,1.10288400702361,-0.9711482695074409,-0.5747759434969251,-0.7041665708533925,-1.2590290776964945,0.5110837248386957,-0.4473929302746735,-0.7770987572885025,-1.5128098061317286,-0.010119072281300195,-2.656517044283674,-1.8578537653499754,0.029678348751539976,-0.488117660084049,-0.46263501008076713,-0.6323213193002043,0.8689648267049044,3.2404775080304815,3.2404775080304815,0.023892287317259113,0.6703963948147021,0.7996627431599381,0.5833737164149381,-0.11689578549235309,0.7123683209024269,1.531094807331244,-1.6069800221607178,1.8559942570662016,0.0443753998039561,1.2105451052359553,-0.6133121765032513,1.0809283795560078,-0.21205336988886198,-1.1818910023338265,-0.7775444494726278,-0.6234088227383785,0.5694778943370137,1.717518937021367,-1.0189490622171744,-1.1180976339575928,0.5457794249420244,-1.2203204394225373,0.8906898331423548,0.9608276029308997,-1.2672613034227584,1.683578422293863,-0.704716660782513,-0.6445389710374164,1.7118067203121332,2.0700335917909687,3.77409535003242,-2.5264020438824093,3.027705154585709,0.7863022708009456,2.8536627519810067,3.77409535003242,2.0513570557630834,1.4012277428553153,-0.9266969511957166,-0.6326476919953281,-1.1279563071617364,-1.1810383810275704,1.957537768774422,1.997968362379854,0.06784792539786955,0.5362425827548236,-1.4777415250203838,-1.977790167123198,-1.1096645491064108,-0.7895282956595066,-1.4068333771286496,-0.8359585182991385,-1.5475653090429262,-1.2046762480700786,-1.6143833336086184,-0.5314998546403762,0.18027712010472016,-0.7320794166920316,-0.035066869396599254,1.980774236171033,0.42232942329203726,0.28360676072867225,-0.6255932639365501,0.7112353207108681,-1.1077101885611673,0.4882490801131092,-0.2279573044765738,0.19717824977674564,0.3150319980462732,-1.2672613034227584,1.1177165541627094,-0.44571727774836156,-0.8138693535483406,0.31786427908999465,-1.1464663024558033,-0.17714161009327398,0.3484442111053246,2.4064049724463348,-0.000352521777648812,1.8873203415832391,-1.372520416454843,-1.26576883775367,-0.6949733179444122,1.8873203415832391,-0.8101213187323039,-2.9183415164682933,-0.9151402576715632,-0.9894869373615498,-0.2992327208272383,0.47601987186310313,-1.5094498562717849,1.8873203415832391,1.1113603909961727,-0.37497601475157905,-1.2545771481813974,0.9048464943469055,0.14491983213610676,-1.0798413560153624,0.8958070512138174,2.0607557633872813,1.3380694906666408,-0.792785079934494,0.7801239402947796,2.3890026316786557,0.010923878415339254,-2.701162881091397,0.3071600666562902,0.406017772107362,-1.7931461706698122,0.6582528726690465,-1.5634644260717738,2.4150542414887295,0.5843336029259852,-0.6038418556220811,2.2825376777124333,0.534822832872085,0.44349978495396125,-0.6515118089357839,1.053350465893429,-0.05684593511018061,0.7667072369067015,1.9924299245585135,1.6650019235102982,0.09891338575272624,-0.2103044597197802,1.4049591878689283,0.6572987131801565,-0.7572609888099899,-0.4289788550163648,-1.1663827255438897,-1.037573785781159,0.31776025996952484,1.1770272825990231,2.5220133022988414,-0.35565697175471667,1.273915947111195,0.12552664107296535,-0.04443688853521065,-0.9598826795695836,-0.9994617694103782,-0.17192238560156187,2.082504766964752,9.80861566527573,-1.9109995363880035,-1.59534488535046,-0.20772046078352366,0.38379843657746754,-1.6622338726879518,-0.5449138158014969,0.39260421140155477,-1.0816366373679958,0.25331032353655114,-2.3938747210539666,-0.4715012759360983,-0.17561167281721626,0.7451440430086373,-1.6873495018786027,-0.20380451675242567,-0.67724953157861,0.4515441159027995,-0.4727486064660528,-2.6124788945229893,-0.5263262266185564,0.8079535533547786,0.11383168486563572,-0.8406691236039834,-0.0766297511013735,-0.513263948108014,-0.5820581328286725,1.4966189151479767,0.2159129418191772,0.8749333087385149,-0.4958347243325869,1.2667969389178966,-0.6352214968617751,1.7116862484490687,-0.05981311705813562,-0.6497724736162251,-0.6584021042342891,-0.11984531532774016,-0.6498927216938658,1.6583247694069454,2.0021393264062275,0.10467094944933993,0.12593071239530815,0.9211842808505345,1.156698588087623,4.137971827721914,0.45103399100913144,0.7392753979079736,0.7802223761612891,-2.0010115300907616,-0.54624243858256,1.288691307268393,-0.4138934852797077,0.5142060333389623,-0.19834002790450297,-1.1325191168425943,1.0888335146592303,-0.8852774981108643,-0.2595736667103215,-0.33655960124603657,-1.4383020605948784,-0.8553689297851294,2.0374156634903478,-1.0849805099308176,-2.6249725104295623,-0.29118493718810035,-0.940677182719692,-0.861963872730564,-0.7446552433346874,-1.5806404300447368,-0.24540199652619996,0.16613234798095688,0.25522346651493033,0.8974807722274422,0.6208671719375641,0.28059253069266493,-0.6340873085014049,1.0661851762831844,1.5503964871266365,-0.7612398420860205,-0.06922749235527019,-2.1577156365998027,2.1872713095154053,-1.3215548520622198,0.7356238326523764,0.7673642510824797,-0.06979929244775311,0.4886676650433264,0.2669812198875733,0.7328123563979637,0.5861214875061482,-0.9953858151396137,-0.177595225205633,-0.6764116893753331,-1.2989213224117346,0.8921496309187857,-2.2675364797362816,-0.6406026434243585,0.08160718107043562,0.7976536903440812,-2.5319163057702254,-1.0799014176355528,-0.19615586969321716,1.138417032076642,0.28707549080251643,0.4226851034531937,1.5804058973004564,0.7663364597659549,-0.6146786963745715,-1.1175193421862717,0.6785761172927732,-1.1806363394390738,-1.2359788765089272,-0.31955324249624734,-0.3744071069079078,-1.8640708749147743,-1.777328743654025,-1.9813608548146424,0.25707335983407725,-0.6155426574374848,0.2429255993826845,-1.161632422408496,1.8958622798558848,-0.33566063651685035,-1.0694624857178285,1.751315852076815,-2.436794523799686,-0.7722764505011082,-1.1810989500449784,1.9317052289038286,0.5716358610330168,-0.4666957497790963,0.7085487574433782,0.2816180026787679,0.3907796891399657,1.866457264485948,1.257051539574471,-0.02598992779726501,0.08292369316001577,2.2125582507039807,0.3250617645608796,-1.1703087112108739,0.2742683209909582,0.7085487574433782,1.1437392895821465,1.3752645944313266,-0.5836498678916604,0.1982321423674642,-1.6148947810199683,1.0620864810567907,-0.9361637998069924,-0.02286677611898232,0.661353791307606,0.3853063184308332,1.2299781646382002,-0.07782348751577063,-0.1592364575513684,0.46279131029196063,0.8672704536836464,1.5854835718191542,0.7367549070529665,0.7140682739125984,0.9688369678118397,0.2512680239153464,0.513203911765997,0.8372222203501756,-0.3573670748157805,0.7717816493277077,-0.6074502986415897,-0.26946117978951106,-0.8556227790287828,-1.1068158657389333,0.18685711887943993,0.6816277954199094,0.9788842536594282,0.45208387285022267,-0.7983021441809088,-0.1338552566481345,-1.3796314186286835,-0.21078138640283464,-0.9811799170595047,-1.3319948163180773,-0.19328093980774874,-0.2770836557895594,-1.97837752715646,-1.3738927533892649,-1.2024447361796144,-1.3080694576617184,1.7650475397544365,-1.1229156368814144,-2.730925832158357,-0.8706224842112611,-0.5243173469086162,-1.1097479863616215,-1.2308039831949413,1.1494624022273858,1.964197765747753,2.17852938231897,-2.8135610607731683,-0.4446860762774498,-1.3634716348410465,-0.6220149462494245,1.0416800370699903,-0.39521771665801364,-0.19449469553583396,-0.38526083549146667,-0.06318642030526854,-0.0679398891286027,0.04752527244375392,-1.288014937405109,-0.4742245086831726,-1.3815311599721694,-1.4991282734577713,0.10597497457687967,1.2977230389711865,-1.4864565185646006,-0.04309271241806911,-2.3328311797700807,0.9425352116267035,-0.9782852103707472,-0.8375933378434258,0.24182119457517623,-0.849007708129124,0.0673753083103311,-1.1745357862551646,-0.627131539281853,-0.5770669957486669,-1.3448712697469156,0.2319654410246681,0.8445197390903286,-0.40290098978721084,-0.005736214361121795,0.4499143340358783,0.6750056141422749,0.2826921428424705,1.2696072180370326,-0.48718018052215817,0.6108104896236425,-0.4948587314914055,0.11817817238235209,0.7334875142917949,-0.5180917961506729,0.1810641604085734,0.7146230917208701,0.742899797162832,0.5593656303835184,0.48490533108279,-1.017125998370759,0.3878104905547147,1.6226377843395536,-0.17809704794335332,-0.12476503646774557,-0.2961779604109389,-0.27379892263626987,-0.9268841480713088,-2.0380101122305097,1.4506337137912302,-2.057908520167526,0.033027310562332594,-0.6887356962529713,-0.5190815328898691,-0.7472663186110892,-0.868239020690785,-0.23433916561784016,-1.4053392824480064,-1.2981861098400045,-1.1127467506287017,-0.9768526143068388,0.6741636247927196,-0.9814765781247008,1.0934127148953252,1.1383910108144284,0.06965396958829498,1.995980106755605,0.975512254160236,0.6623848700199362,-0.8861233320777905,0.7021569500086096,0.7363870858767193,0.23300896490671388,0.1553283747858484,-0.7151335683911944,0.4534623044762491,0.5953873912830473,-0.12083862405770009,-0.7904677532103936,0.7442943549477196,-0.5173945461923822,-1.3671815537397127,-2.1647606862810402,2.406575770189164,-1.249114229575498,-1.7138057454863562,-1.119985471925669,1.6019710557732254,-0.729805234506002,2.6962725990358947,-0.35149643953172416,-1.702470907429885,-2.6028083441033245,-0.0018618573810365265,-1.6785787472575249,0.1710084301558444,-0.266448651120013,0.07288441826828591,-0.514806139108121,-3.6521473312229453,-1.5229955970088436,-0.3615044442366976,0.33209914601968665,0.06386128061296983,-0.06798773550580736,-0.06798773550580736,1.6600878927881146,-0.5499230709138965,1.1657589760111862,-0.5731714708818086,-1.6661836834923438,-1.4165624627850604,-1.4308328180936025,-1.1943971753589002,-1.4274095208739301,-1.1511209970770275,-1.4869190971071515,-1.5228713473950553,-1.4516382091534263,0.17590165038654798,-1.2007541057312017,-1.1574513304114806,-0.8775905383634247,-0.5753777267466721,-2.047746694373261,-1.2612019677118755,-1.6578915972040582,-0.9738377876979656,-1.3021828325620102,2.030428652041022,0.7354293886633775,-1.4150905188259995,0.554564488319788,0.49610856408441717,-1.4305639637987144,1.6075802808416413,-0.8012284798287502,0.6747351899313656,0.12194654885890083,-0.09902124256603641,-0.06924925887922993,0.6715536596689564,-1.196864907915019,2.17852938231897,0.7120396547541782,1.071911729382902,1.147852074059683,0.6481283190597539,-0.5960966025054136,0.22109387579756842,1.9766866328626036,0.0667644971130566,0.9143713972797991,2.846770826534305,0.14701877091227095,1.2816469698098107,2.846770826534305,-1.9407940206375347,0.04594027856044183,-2.106243615014699,-0.7473077818497,0.3813305370708738,1.1563480223931926,0.09832857235024728,1.3195450645550728,0.6838502211063019,0.928632715023906,1.2197449477602884,1.1812618877138952,-0.24626779839357485,1.0543507232367997,1.6346249482684663,1.1208526375187826,1.1665004006106907,0.3592048896803252,2.936844439574076,2.3594110153431456,1.5909270645632667,-0.21910571865284997,2.2780569687552243,2.621518835986778,1.5149446421866528,2.152115466847553,0.35273715504116665,-1.5239595469806992,0.8283125934152263,1.4516358923430004,-0.072050214154227,-1.1760735761202987,-3.1982178651251525,-0.8201818438122788,0.6486029919662009,-1.8391905524002892,-0.2958332784407934,-0.08593625358312432,2.1616477161589445,-1.5566511731330523,-0.1914810210768557,-0.7299870431004368,-0.7726676252422144,-0.8789815373159114,2.5965949403301276,-0.9684721849669063,-0.012415922773778816,2.7776317992507504,0.008146240049377687,-0.12915323542917892,0.6678652880289562,-1.5107021703796677,3.073149355538062,-1.44386104160653,-0.5025097048772087,1.3242077355585793,0.5827095805282637,-2.1973568753736124,-0.14753873569748202,-0.4880953525546368,-1.345008394361271,0.32685326130839154,0.845924923817454,2.2524644820303727,3.3049931546089666,0.0383952473957107,0.9816545686601136,-1.7461053753967284,-1.4139744288995375,0.10598670322736936,-1.1229631780375917,1.3844106892201413,-0.1616719729889319,-2.254469623879271,-0.6869253409334408,0.7902407593582335,-0.1497373230885019,2.028445670364844,1.0809283795560078,0.25328243485601903,-0.13986980407638502,1.5193532518079977,-1.5507576235702518,-0.8088935101256374,0.15044670458467577,-0.0450023401891365,0.18720132576081358,1.2968594264079605,-0.4626240158170952,1.098818071185382,-0.42462718617278644,-0.81856060531747,1.1197926281004693,-0.6119842950529689,0.29474561896679646,1.4551038711161737,-0.41001794748550635,0.5691942254362584,-2.5905991500480092,-0.18202951374808674,-0.8607013036745877,-2.2960756072603288,1.316707646587877,-0.27251690398116724,-0.5566738862996092,-0.7152170885868936,-0.7028362760612324,0.06303033231618527,-0.9902208730061529,0.019724106704533347,-1.560139230215975,1.2645522348952913,1.7383022229355811,-0.24957322851933997,-1.0702528843505634,-1.2844295150086964,-1.2464356433071062,2.29932998629823,1.1641245992756268,0.7015448503931633,-1.5291054878331571,1.2451125043197129,1.2631399169680395,2.2103714360060223,0.8690317957680905,1.7953295321679112,-0.22799795098332495,1.0354966936301473,1.7471850168622942,0.6393512413681031,2.7322746057581946,1.938569561698776,-1.4797811365083349,2.6268932317138973,-0.9871339708869458,1.5030130287038088,1.052979451387712,1.2377964378668729,1.3964744337563093,-0.4050203930043849,-0.9982484808587249,-1.54688374397676,3.1825154078065694,-1.541263478536001,0.8001407315361063,1.6262958353849488,-3.4389885917616625,0.5753938621894766,2.212216389478996,2.4836772733523094,0.5885938945441725,-4.12118339270244,-1.394032583859865,0.7540240214844219,-0.9321725445352352,3.028110069143303,2.288113163027968,-0.40786311925112406,1.118236966044163,-1.3045923139922488,-1.0114715054304548,1.455099821703747,-0.1164031822367624,-2.4161106590600308,-1.9796288927708707,0.1621336129995403,-0.4682875272625674,0.5913167294180879,-0.3108898220591127,-2.520090736976854,-0.0943154244917956,-0.13783072116580242,0.644405198842406,-1.1620644660524573,-0.5610637779327735,0.23168889026858722,-0.5581193468046404,0.21538909230151138,0.38654712958519993,0.9889416595795347,0.7515095953074604,-0.2332940537339519,-1.2297478871028953,0.8201643769410957,-0.1588204344203924,-0.7565388853115648,-2.1120286151716177,1.840536966980784,0.5764743024800917,-0.6914969477991693,-0.315770705867424,-0.8810996699177881,0.802147079884858,0.19347997695701208,-0.42601966535243685,-0.5943416563048227,1.4291872876100347,-0.1640924591100453,0.8120993643015377,-1.5026498422538541,2.598779509754676,0.5293587436794326,0.7783608326259283,0.6238136690580963,-0.121919491935038,0.2679161610638095,0.4237906487477494,1.0686408169382267,1.4026574288018125,1.3879816561431066,-0.21462188479536673,1.532082671859612,-0.6503647631977179,1.3022033030346354,-1.3393116405859729,0.09681015173227518,-1.3155880062177099,3.283644768298984,2.7994210517958256,1.3470804164822927,-0.18101845690862148,-0.17543690178552346,0.6064345226532695,2.7776317992507504,-1.8230617493286383,0.1305772910259815,1.2313845008696043,0.34660452160359395,-0.09832938999495326,-0.09436777659232023,-1.8418970721984356,0.5570265612360495,0.3387411601865436,1.0151455031556067,0.7643506416929179,0.08291424450270636,-0.10603512351487018,-0.04999871550889046,-0.8471965335775002,-0.7625426989529568,0.4494971789327846,1.1125741175253319,0.6084618967296136,-1.2541278438638646,-0.6314035129261435,1.2962849057650554,0.24621207217737978,0.05394140392633097,1.495655414498421,1.7899910019342147,0.4706658161331847,0.5196573621206022,-0.09702344877197888,-1.6289827036759421,-0.14762103535583315,-1.0538483392871894,2.57547389731014,0.32698270084520176,-1.058483553091862,0.28102921468649206,1.479534626380901,0.8726252657977629,0.019121467791151883,0.8287698711128367,1.1378368096175646,0.2635445790926979,2.2707965426279655,1.307720619909267,0.8185767880870096,0.6650768549335141,1.7874380723812997,2.06640513072369,-0.3463926836305238,-0.8577415633782132,-0.34664296939333283,-1.092281704365103,-1.3118166173906158,0.8976326080505279,2.538527767313554,-1.1870387717949222,2.7869826184936795,0.25451437231873536,0.3893614766752102,-1.1071412055199314,1.610770507487819,-1.1739525088554257,-2.061682013256679,-2.805394596387123,-0.8831663371685438,-2.0633678994235813,-1.7987616717190222,-0.4207314753269928,-0.6148024213290759,2.2743934499220537,0.18599348650960013,-0.5898593904191526,-1.2018199465962676,-0.11050871698376384,-0.5749320975573894,-0.6406026434243585,-1.3543005202399927,-1.5725660924038984,-0.6421207488010698,-1.7657936503406542,-1.4009596285162997,-0.5103533356941505,0.31366695973060876,0.10148720546280275,-2.227761661146168,-2.1663989305907494,0.9798370766144151,1.2933397156417719,-0.18737478514680855,0.354371994978873,-0.4940457410139034,0.4082024146126581,0.07545889725108053,-0.02009748944254474,-0.5232755081075566,-1.115184570111138,-0.03524547218807927,-1.7256356053318431,2.565355550971345,3.785598078144558,-0.5196969124319176,2.0225229491030925,-0.3273361120999701,0.902094411364334,-0.9310219539819868,2.565355550971345,-0.9971014093097119,-0.2976292993379716,0.3241034095638724,-0.397296582743529,-0.29185280304219297,1.2589704060075424,-1.1152716845022301,-0.6068327709989859,-0.019608718525089396,1.857689027053374,-0.44601320040822523,-0.08888667464900943,1.222626739178824,1.3180419447934517,2.834779660631972,-1.688173910305743,0.8702582499121535,-0.6016329590871616,-1.6520216682288362,-0.674217291375363,-0.16801077379187074,0.6829368856863959,1.016614142088531,-1.1573513700831812,-0.9920311725425562,-0.3094075954101749,0.2731435477189456,0.015838701558668292,0.7240235934694058,0.8707080592041293,0.21601977979558148,0.41830866017892526,-0.7748456390260187,1.6700907754335637,0.21471234273481937,-1.1733447838065723,1.070746086260489,-0.5757347764161587,2.7914806372152214,0.807348422048243,-1.0511858033336952,-1.1638906002201006,-0.9323783000383202,1.4338452229528462,1.5482517667523998,-0.8243053696849225,-0.21727761748932642,0.7408819707686066,0.776644487475569,1.246607452225628,0.7996077501042749,0.7098984500909362,0.15738238233609014,0.8291981600164979,0.4115211848400125,0.18507012194702083,-1.0699889202336406,0.5477835991559182,1.0667926679701139,-0.8775491680441344,-0.4112771774398293,0.09562702241928944,0.07627133581847226,-0.4121154042046852,1.265137659542959,1.1350518360935844,-0.06337771493282851,-0.4354620140625647,0.719678754934271,-4.402578912524511,1.9687208683682582,0.6555126013851308,-0.05604008805532036,0.36014843924403306,-0.3393310530515658,-0.05618864061893803,-0.7620360756541494,2.2765844364760195,-0.18097852487375807,0.04741030706685798,0.9977781862138999,-0.10368604875802834,0.08477651925557846,0.8612425944740161,0.7906107892066164,2.222153168898029,0.9271137572827912,-0.9330765738278034,-0.8988029806520083,-2.3137946958989386,-1.262031299788924,1.531094807331244,-0.46980024727535363,0.8215286852076,0.7262953082237057,0.347460886918212,0.19331601407252327,1.4030209257013262,1.413647275085941,1.4846899884981701,-0.3107178863439598,-0.10512270723039718,2.788588196063787,0.6942665279067792,-1.6221205168196648,-1.5358891258969687,-5.390230091324064,-0.053827145838090784,-0.28986654175936283,-1.260382298976923,-0.7803224545641348,1.505149577031157,0.5803112501176,2.0866649366493606,-0.18161001740644378,-0.6501600677716776,2.800508129550582,2.010684631814511,1.026192975704619,0.8826209995591461,1.4018861885732614,-0.1621962289177559,0.25599546097227854,0.8691497060902622,-1.5011848488732085,-0.3200597277327458,-1.2944994042026086,-0.5456178840144849,1.888824320869665,-0.5729396178889002,-1.4908371626662926,-2.1898217107727236,-0.6979816378653573,-0.23905295474811747,2.4092943529985376,0.9257675849876836,1.5566745603483736,-1.0069374967242866,1.0084966732206215,0.9323963957092416,-1.0527303276752762,-1.237306474288755,-1.0619565111290659,-0.5555449222733245,0.9788842536594282,1.0408259298766813,-2.842826397149818,0.5180488529611329,-1.6905110652741484,-0.3262885111416961,-2.1300316136128123,-1.1278168907276243,-1.281563485961717,2.4684970360729137,1.083858335805404,-3.1349782903343018,-1.6413306810627066,-0.4525027847066114,-1.9522743211029792,0.483622910751924,-1.4563425687414504,-0.10987314385040922,0.6158576137099443,-0.5868950184257288,0.5769079407121196,0.9088328834540186,0.9740543609654231,1.405540222780348,-0.4515041144129973,0.8918181728173388,0.8975360796648431,-0.6621999979037569,0.9635875557455906,-1.2252005169240754,0.8707039875644587,0.8253771930222064,1.056142692615076,-0.9405407931339675,-1.8287828386842493,-1.3540124493050334,-1.6069800221607178,0.3460117677467269,-0.48224370036169856,-1.0797421576520227,2.049442378801741,-0.6863589864441031,-1.2312058155561432,-0.4408077734631677,1.9103928827399108,0.03270583740353395,-0.20996796039133453,-0.6289580764774891,0.5105359440905871,-0.9591936739663568,-0.6258817633061453,0.06520142346467156,-1.7822998845983444,-0.8405755615134183,-0.6824369774306478,-0.30506673575070437,-0.6683855409374232,-1.2952094103434595,4.826559931350397,-0.3360372733285939,0.5404265351754663,-0.12259444631687337,0.40405031095811333,-0.43068633033444687,-0.24231908854980716,-3.7463039154988524,0.39035402921084567,-0.35595835639309015,0.06001886261222178,-0.8933600247286092,-0.8933600247286092,-2.0865163953577004,-1.7010795872307312,0.2606769403008051,1.0922593933929894,1.2345506751356516,-0.48824078778518654,0.45241863132259746,-0.8399721363552457,-1.5610763688475184,-0.5750562636036245,-0.8381301731828599,-2.730925832158357,0.7874939756284246,0.49119509274401024,0.37744873752102065,-0.9967827441174377,1.2010413815187775,-1.6818591537754257,-1.4601155094271965,-1.4601155094271965,1.2010413815187775,1.067042847919904,-0.4567946599848647,-1.224537885100146,0.6475400473459417,1.7194337387580478,0.4721520501796592,0.13514671558855126,-0.2806337788637838,-0.3541260846265653,1.0318573930800434,1.7208456743530585,1.3009344093014263,0.4789975912632403,1.869734898114154,-0.5914828614287035,-2.059037664516543,0.2675743062137763,-0.9853266239471671,-0.4604816004754459,-0.5391510807840071,0.9443175429761893,-0.25995302986960833,-1.0649853089126016,-0.23905742054502252,-0.7345811253619479,-0.08720400421957186,-0.048942049376880764,-2.8657596347127128,0.6414594616910335,0.6520037893508115,0.2747868787312045,-0.08784013708630556,0.676835689573734,0.35920674858527263,-1.310137794730799,-0.069564101186812,0.21875627038953308,-0.10658644268281893,0.32576837086844296,-0.29243541414911295,0.6336547576565383,0.31334569308871935,-0.5032505939465288,0.5371220456325438,2.3743377142720155,0.27904299357175083,3.1922750681240526,0.08380126477326237,-0.3451750248005223,0.616709899310492,-1.0792900548148616,0.1493614346867069,0.44470993270299675,-0.5114790901334068,2.17852938231897,0.45722060207315307,-0.2555612326053279,-0.8074208670098895,0.9472386308757929,-1.242690581437397,-0.3364176185262718,1.0736651373184152,1.190478221257057,0.7623681292410907,-0.6732696472195092,-0.6440393410699304,-0.45697957291095637,-0.9355214742832633,2.9929437226692523,2.7260040104125696,0.5718932501658502,1.5889260213849838,-0.20647348498482404,2.5038347489576953,0.29615014757154523,1.0846189796399666,-2.2022095311350864,-1.4404515406505725,-1.2821572583643719,-1.0392645050028173,-0.8359784282430603,-0.30479871560059835,2.072970576974876,-1.8586859035534284,-1.2049475634533102,-0.5032153485091891,0.33624312056905514,2.564961981122833,0.3017574318527081,-1.766792729143796,0.8235435410088745,-0.22551329798238218,-2.730925832158357,-1.6613392304245829,-0.5014512201902199,-0.609282071618016,0.8458223801724211,-1.977398517839233,-1.0538519726242723,1.8607976208546844,-0.3395686494139311,-0.9174984834704645,-0.8125754547368416,0.14301701527301755,-0.4362737933068552,-0.9044991715514415,-0.2767892181150533,-0.24579307422650135,-0.8244011946355074,0.9298124473763004,-0.595066435475396,0.4412507041863366,0.8445197390903286,-0.4650701320324777,2.1319338498127425,2.1319338498127425,-0.33139835788935534,0.441532302112224,0.0799897837563268,-0.3963211426076351,2.1319338498127425,-0.8155413081291509,3.1718734757847806,-0.5190281872867549,-0.04992336453818706,-0.5719527809990307,1.4382986039502814,1.0900669684738913,1.7843626906751484,0.10095590734268246,-0.6444052078607393,-0.6061843984291323,0.5550883374467328,1.5481209530840538,-0.7817051706674107,-0.6388486423778948,-0.1709022340110801,-0.32611218191328434,2.301222596672404,1.7357442769118623,0.04692563163929437,1.3344903152923047,-0.31151254721626087,1.540760346052991,1.5085799273169251,0.8075604130275331,-0.44106858959038503,1.14618920911041,1.075078164015802,-0.02528769687672753,1.0359956773490957,0.7940371917879304,0.010298079972028697,-0.2313666444622228,-1.1263578380899197,0.34827356830738726,0.7188007759804274,-1.2006685866016888,-0.48874919385379073,1.0511329441517407,0.7337050641208374,0.5801340207770276,1.7465185489496968,1.5845399675575036,1.2293627570567287,-0.06943785397606839,1.3142245990799373,0.34668779921771997,-0.32247279140588525,0.290092402194534,1.2744631039301495,1.9501468899176169,1.2293627570567287,-2.3742008151056426,0.8097924046763049,0.3257493828803871,-0.11367229774893803,0.5239443339764708,1.663746957651303,1.7453471747826483,0.19832259823786613,1.725868171022618,1.4745753880275576,1.6228113586987103,2.1264928384127186,0.30837059075439177,1.1642030880653829,1.1415398106539183,-0.02528769687672753,-0.6942782995410826,0.6062441505324636,0.8056575915427386,-0.9718696038331108,1.1846475025888181,0.22260393120988523,-1.1380333885721825,-0.42294171070276876,-0.9603842841299453,-1.2655864882815973,-1.6743094682762207,-0.9592325696676556,-2.208275782350011,-0.7614311127461315,-0.9283602915772398,-1.0003872778034133,0.33305942804359245,-0.1997866147933719,-0.09779050727088569,-0.32732316638661674,0.3299914922454812,-0.1732878731515394,-0.21810390747021105,2.077877064765502,0.025489112912354433,-0.9418507803283711,-0.480494029930665,-0.4777960559294696,-0.5236326235491849,-0.9163671842424652,-1.2884126387002266,0.7256755059981211,-0.5361754770471586,-0.20004831834695022,-1.5613522001109912,-0.6142121203837292,-1.1941311908090255,-2.1123758191296735,-0.7475462109839708,-1.0862550094175416,0.6072921779752943,-0.3597777472887225,-1.5821085055818727,-0.1387686947914768,-0.0039821635395968545,-1.772100454225177,-0.10800633824615513,-1.7184551482442967,-0.7220600773571293,-2.0084981311726864,3.785598078144558,-0.6245323153977038,-0.1811411093788324,-0.022800292141999464,-0.15263025560776147,-0.18879500559028803,-2.3234479758534663,-1.6129585756299671,-1.925973818653638,-1.4099877285403832,0.10661860207795282,-3.205538486710104,0.5323072652927305,1.8282937839210918,-0.6155007542491501,1.3122550950150076,0.682219210878268,-1.0354897180880602,-0.4567652894288646,-0.845313101007251,-1.921097515331572,-0.652718082908021,0.024262505451441128,-1.124755304395191,0.401455694845381,0.053466258378490165,-1.7065805207387794,-1.9235702921852247,-0.6810658577223914,1.6164448236652258,0.09441690780118109,-0.5757347764161587,-5.324849710991239,-1.8070057827169679,-0.021224692335778866,-0.8179812815431671,-1.3805997531516467,-0.425255225157524,-1.1523424561828028,-0.6194712237286639,0.2735411475255247,-1.2756162640421687,1.7770619659271847,-0.4548824173651308,-0.4217610806862202,-0.6384313705147702,0.39834270537014255,-0.18775644327673452,1.6973069926470383,-1.5495981205691718,0.19379976247852715,0.481393501960317,-0.20512310302810968,-1.0982469509351978,-1.508139029815266,1.4235176038388169,0.8841847068181876,0.20932951138073594,-0.519799068697005,-0.7780011535498258,-0.08477339014202603,0.7143393983015943,0.13736835214690032,0.7007718477066551,-1.0091976515141199,-1.002022262410619,-0.7434581785609059,-0.7805593020332013,-1.3122341658827221,1.0170344495471024,-0.30407331253456227,0.08946315030054719,-0.3123068127017067,-0.1645680144191512,-0.20494956985883453,-0.07991557811554902,-0.4800402335682095,1.0418746296709596,0.41832376286280953,-1.0277443701394586,-0.6611049658549465,-0.648968049725581,-0.3852608354914668,0.1744841053717844,0.5248339009637668,-0.43529139936164535,1.1609463777718685,0.2589852009041766,-0.4269145394355897,-0.6464046362867687,0.42815031752520016,0.43273884603382246,-0.10281476747519841,1.7409198864727389,0.5389720184815566,0.20213755898731825,0.7995084254451714,-2.223335855145653,-0.2981841698859249,0.41034709323556434,-1.183936702847158,-1.1071412055199314,-1.1559737393615037,0.4471515763880653,0.710867710084313,-0.4873342819659995,0.6078594827312426,0.14936260868724696,-0.5306247834551324,-1.4600986525329174,2.1588799721449305,1.417572405941567,2.323474646233732,-0.7264340924704045,0.5380051620704844,-1.5551401795197883,-0.23681909680485236,0.4830988146821153,-1.6654053221268936,-0.771483360804548,0.4358784205841097,-0.9528768477392728,-1.6818591537754257,-1.18535329848932,0.03981564058481889,0.42768027326641905,-1.1439320101672563,0.4881200392686906,1.0666625856504703,0.011626124047283703,0.5060631780243242,1.4863001605179254,-1.2844967685177449,-0.3713389048807097,1.9640017001666636,-0.16778180715886615,-0.604035578245657,0.2917830774541048,-1.4741218575235349,-1.1120222115701295,0.30596236372108904,-0.43793654039100127,-0.5672204471636456,-1.489832811795,-0.4367731715365498,-0.9923148417845807,-0.2090243774305184,-1.0654567706274019,0.7770097252992114,0.33401701714382726,0.5252445248516967,1.815560967878747,0.5081082583965822,-1.711762641022558,0.49594484497375274,1.7418772023653142,1.401774055858243,0.28192218743011954,0.1353671250446731,0.07841349962985572,0.6245229490939213,-0.35942637089814333,1.7406762762745611,1.7810790132391219,1.6140113589621845,1.6826908295445553,1.22157846491224,0.92202777907722,1.76173952869635,1.5690767467252853,2.7233564576301807,-0.47763708031993934,2.123302287001611,-1.106361232820507,0.10993501322158716,-1.6569223971159321,-0.7710263136821133,0.6354891072036852,-0.9350760961442309,-3.154052361357527,-1.2137938729879814,-0.8438981481839019,-0.9125375098004502,0.2368117634646968,1.7845842030479457,1.9879280654500093,1.8873203415832391,1.3890820852305357,0.5250577760428091,-0.6949754865209018,-1.6187760969086604,-1.0019065974555355,0.46327213127598227,-0.16280340377950211,0.9104905958323115,0.4298723392551139,-1.18023092915153,-1.1011781151568565,-2.4095640228892514,-1.1367904663450774,-0.4810385583693476,-1.242917765011485,0.6135342320569046,0.06955499887095502,0.8825057082452541,5.661064469750128,-0.16173252619484535,0.5077876996618738,0.401455694845381,0.6099267306357669,0.7221971732916761,-1.1482497042279116,-0.3069504230571499,-0.7545499809956855,2.327751738173471,0.246869114483803,2.4368300251600647,0.3434852089598276,0.5893342154021601,1.0175082866881109,0.6428230485845282,0.0860127515403285,1.3216325337985844,1.716000860150863,-0.5715956896217761,-0.838639442426918,-0.3763273731968072,-0.004324987100121876,0.8203433536037128,0.9161667510871492,-0.14941271670467052,0.6042109943935775,1.0137097562146518,0.13603763028618618,0.5283163487891245,-0.754992895260777,0.16600454255353697,0.950509817661237,-0.12126743768401749,-0.2766010244296354,0.28234405241929184,-0.6505340216336445,0.5842145967287812,0.5598043266791949,-0.45918743614202046,1.1835659275212336,0.7476109366159941,0.09042435986384685,-1.16419139721886,0.5884791515413896,-0.9406279038400476,0.18524942989997262,0.19004799950630005,0.8947453894033487,1.505150653634182,0.8918238940497841,2.913545690631438,0.1953504054885152,-2.134704275267394,-1.0963441427170784,-1.0963441427170784,-0.1798493552588897,-0.8950542673028805,0.42475557998045227,0.5831053065264407,-1.0849805099308176,-2.842826397149818,-0.9306059402806266,-1.2361284238426546,-0.9994364223214967,-0.8532624380946252,-1.2052063378789537,-3.0064137891182727,-0.7091852339985156,-1.0871716684012775,-0.5411080761057451,-2.061682013256679,-1.8606143982219325,1.0730684436328835,-0.5750562636036245,-1.4422160971020754,0.18867895860109513,-1.3758920059641617,-0.5901899611195195,0.9140536000059645,-2.3552209829195054,-1.1982458217628011,-1.4354924459885963,-2.2823724017631086,-1.4495411317022087,-1.3961646106574286,-1.2322459853919845,-0.6873446047620396,-1.3331003309855995,-0.3457065151016915,-1.651020638964738,-1.2550499258583385,-0.6079438902660613,-1.376175104825968,-1.5947288333897718,-2.756815146103779,-2.0975174481531926,-1.7890453009986311,0.26938140551558937,0.6810389452681657,-1.4846548825159853,0.741180314912622,1.9235878436744425,-3.1653627866074525,4.826559931350397,-0.0874185190205979,-2.0674106916733948,-2.9687344407540324,0.9064658020706525,0.7987656364710128,-0.5571382455449444,-0.29859931598261114,-1.1430498587646905,0.4817104725042979,0.2431661077492278,-1.2805711408949823,-0.5518033813859713,-1.1406132411762913,-0.6281451448687251,-1.865098767014229,-0.07153712703737235,-1.5947560608544442,1.4829391941009589,-0.03041744399149409,1.9025446924993927,-0.6947868184198148,0.14542983433201961,-0.7902420934319424,-0.4958217071530842,0.42339057899311017,0.7902407593582335,-0.32635118487360615,1.1445857085486675,0.8799311581112501,-0.943943834061557,-0.4296076407966146,0.6670912404694694,2.293376654437105,-0.48544282290058566,-0.7261160220215206,0.6223149471238236,0.16143317928932358,0.7770097252992114,0.4494073239760204,0.2917261998932797,-2.8559660325114815,-2.8559660325114815,0.6559230533819485,1.406293735881834,1.014787771663569,-0.25782567626501723,2.1616477161589445,0.9725077360054215,0.5566877659983712,-0.12451622959309432,0.38684109384886806,-2.2742671474041734,-0.5032745309280667,0.46325743828393406,0.24131108774216475,0.43473066937476046,-0.486081915538848,1.349368492929156,0.5291162113167036,1.3688832383135616,-0.7445120828736348,-1.487337348536492,-1.4723501299578932,-0.5094951483576854,-0.6626360277993666,-1.0397485474220631,-0.514791397664538,0.6622361023624552,-0.12984942660821996,2.5095452655964987,0.03438825382887792,1.6820118145061789,-0.22151898410253662,-0.4154576536923444,1.8643364588341282,-0.6931916182715634,3.3892843225133324,1.6888125651475803,0.7724804102748171,-0.027114204062829148,-0.4415817358862895,0.8066569243264409,1.3009605925765602,0.803690520084135,1.455185427801062,-0.9668417120820004,-1.6011254016144876,0.42396345440319466,0.9768693414114823,1.6643262992104262,0.6616282733623495,-0.07493749940941972,-0.05341915052327293,1.5817331684268638,0.2508037832268209,1.4150167553021844,0.9464624614115384,1.7854208091586692,-1.8986513450642666,1.660281990069685,-1.2797034194713255,-1.2278698439781388,1.5382079251100962,-0.9416686159265067,0.2595421804552414,1.0825135388044338,-0.47956502032335063,2.5234170447632427,0.5799128089869501,0.8994140052267808,-1.1652508706177394,3.5410661345301495,-0.6151603064563211,1.2037797236775725,-0.19189490558533537,3.77409535003242,1.4190247050955087,0.4605236227815533,0.19506465400558787,0.889486895271294,3.492340918964328,0.5095306889194553,2.558033727453967,2.941329603563368,2.9585376283879454,0.6664854167602131,1.2751122185381705,1.0858549905634869,-1.0223874893828624,-0.4896122311522388,-0.888345330541882,-1.0527146426813925,-1.5979672130884786,2.4205435798085713,-0.018409808694461904,1.315003907583432,0.05034428153886129,1.217523876667539,1.4513188974470734,-0.7764384500968138,1.4989831502198425,-2.1120286151716177,-0.8242950319505009,-0.7193176773642275,-0.5324102979469475,-0.7377570441587125,-1.75492648834204,-1.1175832891565287,-0.8167610018597032,-1.4246076648562194,1.9210094918522944,2.510789089861225,-1.0983810149208826,-0.31907824241307625,-0.7018982279762555,1.1118432949722357,-0.4392512404293172,0.22403578221357084,0.6909457256744103,0.13117975779423274,0.1725002280878107,0.6909457256744103,0.8801445212944228,-0.1726494324053833,-0.9571843923901139,-0.341874427273657,1.2354223195199217,-0.47727735997842996,0.6744175097128907,-0.401335335481815,0.02450269516566783,1.0114888345052546,-0.8582289768525692,0.9394174796720549,0.4181213817232746,-0.8914675871467101,-1.5430309314244668,-1.0478864536138977,-0.5196969124319175,2.0933789127353633,0.040953024526692146,0.9543876770247649,-1.261352710826355,-1.3497698875032367,0.10155215220949378,1.1395224978776288,-0.6224926824437846,-0.2996109399795937,-0.0387612033510894,-0.33284134816921845,2.194871046268542,0.3926654752334123,-0.7082917138338392,0.29023198327407174,1.3922680305445327,0.6626605141152949,0.6693446790274976,3.826832140878458,1.0358556804491152,1.888824320869665,0.9430672461585643,1.2597163972076482,-0.8635581785887416,-1.623692972127181,-1.2939500198084226,-1.697195408415217,1.9663728384182177,0.5163649992284919,0.5004206553924495,0.14092098116822604,-1.3864965358510892,-0.025169305094827385,-1.1102871922238462,-0.7901974202446478,-0.8316780531167148,-0.6670526559898636,1.4554367646834092,0.989071095179563,0.9287715899499571,-0.5819582864843383,3.1033319622259303,-1.254708459737219,-0.5922012386467886,0.44359553061128776,-1.1720025427993472,0.13010784025672978,-0.8263097141400638,0.5077876996618738,0.9391439233166083,-0.8361202369462677,-0.4171044591698265,0.7424716521704936,0.6133935006749337,-0.6458383516302373,-1.7510201157210312,-0.3198383314567084,-1.4596407954660253,0.324564107332302,-0.43057562980433006,-1.1280657628897384,-0.4656357674489745,1.2702245745656104,-0.2196527357209896,-0.6328920510936722,-0.6988975412607157,0.7686819591582708,-0.8578855206837042,-0.6751035437408779,-0.48605547778188973,-0.6387093576147213,-2.3003554276697438,-1.4089869637399504,0.5329524166170403,-0.5503229283988301,0.2649669251071406,0.16553005113670483,-1.7294067262714827,-1.5577347517846174,0.767282180352985,1.2004658861734179,1.4061401453545903,-2.3501932035980424,-0.08627299783938758,0.8446557092574396,-0.6487851809748296,-1.7149594650926738,0.0013927407355422469,-0.6547324029556091,-0.6716498259605398,-0.23597623740894466,0.9064187971729889,0.8189954933017249,-3.965753596410959,-0.11703497197782073,-2.2567515427796527,-0.09410452304932453,0.38125867172018146,2.6976463366124044,0.5131120537669152,0.995921371130469,-1.2402689930457014,1.5628972442440037,-1.0607416100157228,-2.2567515427796527,-0.9567877399978162,-1.7290648744164672,0.20449305184851513,-1.4239004176118437,0.24505719072753396,-0.2503357512574842,-0.05687280290597141,-0.06143591839480892,0.7385669494016,0.21719128364850251,0.7781800659952628,-0.6563513629989017,0.6651735153459147,-0.866024860584917,0.10023142404120515,0.4355569975397219,-0.20416279444805097,-0.2306611770102394,-0.8316304566337162,0.767661498389806,-0.24079201735998043,-0.2615215886055982,-0.41122320695676434,-0.8988800994715335,0.3336941223407082,0.6860578631441993,-0.4951214050625916,-0.05956019009530154,0.12075812107374034,0.44441784379878824,-0.6616514069680424,-1.4117539522982077,0.2781575732523074,1.2439293597589203,-0.23523107582540184,-1.2922767646910311,0.13248114283797305,-0.592654452071085,3.116286769732261,0.23782341079724303,-0.6096458997580932,-0.6930003232439972,-1.1323136221586443,2.1986968196258974,1.158081048010406,1.2457790474239856,2.3900983846499155,0.2437348166896768,1.0924350472162958,0.2903542953149217,-0.22221128725045586,1.8975682273569199,0.02128656045971106,1.3744385074292969,0.01571081049753386,1.929084592899789,0.19741899494320309,2.3161896559614825,0.8430468316977198,0.7314162765750968,-0.7154802731599014,-2.2004649250143316,0.7920409187021319,-0.5335446105803937,-0.611630632366395,3.6031821127767287,1.016272321782737,2.5978306373195363,1.0108598689274537,1.093851232172897,2.251323592944935,1.5770042098068593,1.3467527027553288,4.185024132169864,2.089749500594095,1.0383832443919554,2.3508458837380264,1.2583716721302292,0.7401609265457744,2.160228863385675,-1.785285067198909,1.0456398874006987,0.02815417728787396,-0.9361637998069924,-0.5220718237448778,3.5139698314658565,1.1131804574029087,2.537556457175952,-0.2901700140672172,-0.530076189729436,-0.2569306475472587,-0.31426621774134766,2.556676519754187,-0.03293520236964291,-0.19885795871475104,2.4016454281870705,1.0351778267918068,0.6444849876155497,0.028306074933145086,-2.1162902439844715,0.0023635999375411785,0.11962982789437568,-2.3475492425405386,-0.9201381858244889,-0.9743563680480033,0.6855028852755738,1.137090114462425,0.5578793427893971,0.26544876172431714,1.4026574288018125,-1.1982458217628011,-0.4598399809985974,0.0041449469649709175,-0.12385926837782983,0.9074993270322256,2.9661176348304212,0.23373058553335507,-1.0639389150223433,-0.4622098125985671,-0.2980526711510874,-0.5943153326486924,-1.6613392304245829,-0.3679066722953544,-1.0497134604561373,-1.3494016832394522,0.799149905878442,-1.632591314862934,1.6707445011481359,-0.966054436218664,-0.6556564907066572,-2.0606593454143773,-0.9655688502559409,-0.6386814446471775,0.392235977088113,-0.8850916940287099,-0.37443829851879185,-0.8776851115060565,1.0174448376284755,-1.5475653090429262,-0.3476754195333727,0.7476935362147681,-1.7158149473483166,-0.10726619418296136,1.1371005994234722,1.1252714892569629,-3.393722940762229,2.008001960014266,0.340640270180729,-1.937835895681661,-1.640624010894916,0.3611379628164968,-0.11848794556724208,-1.38597759721093,-0.8010825313436105,-0.6575570841874536,-0.8394366975160764,-0.5271531372802967,-0.611421277488056,1.5845151521137115,-0.46437605375359364,-1.3018832532958338,-1.1516668256705305,-0.8751633821228559,-0.8847666158004627,-1.1693233863795611,1.7741759054637518,-0.0879762404941721,0.00312160449978827,-0.21948269271775675,-1.4655689988816663,-1.5463730166337304,0.40327617661500503,0.7755578306120978,-0.7059657906162745,0.5503898665299509,-1.1182317836598197,0.5624036751698465,-1.4549911125915778,-0.6621999979037569,-0.46814956413728415,-0.48704101382320175,0.33010939541903545,1.0408259298766813,1.4738730430602893,0.5156531889061479,-0.015715671755877764,0.6860578631441993,1.2872874286237477,-1.7328518095993322,0.6959769757292258,-0.007669339267964508,-0.02627685644732686,-2.3639641186732625,1.1631494108116531,-1.9638694381659363,0.562288551503694,-1.1870319739345838,-1.215406142640305,-1.4566505898126219,-2.265914905684866,0.17948450776704078,0.09855330331149058,0.7424716521704936,-0.08219381352158597,-0.823635861121473,-0.4835296956000822,-0.16310794825619832,-1.3903335627467317,-0.2523900390177816,0.4873161663951028,-0.4786048260815259,-0.3195944017333544,-0.42283836051147866,0.4615724899439226,1.3345949133414945,2.135338854279262,-1.2603689420633628,0.6396464239451027,0.7174376136046151,2.345272967063721,1.3733289406188598,-0.5966630580451354,-0.8228496570941302,-2.4169422454435994,0.9336350514741215,0.9336350514741215,0.23664873280865156,1.2386911146487727,-0.5418841654097363,0.8575279188846392,-0.7605992017394517,-0.23040106781687258,0.5411367955330914,1.3618413519709867,2.4571862199258625,-1.4898216303774698,-1.0689235689502798,-2.0465134097188735,-0.9547823761436295,0.8758128302585285,-0.502045380835923,-0.8450034896699793,-1.150586605140878,-1.0162719172752073,-0.6633142881216155,-1.669792851071182,-1.3533738902887784,-0.9919352561058624,-1.080393402317554,-0.6401416299877859,-1.3024094498395509,-1.5274633223822727,-1.8816369915962279,-0.6241541934766113,-1.1087513872616115,-1.0937437785451791,-0.5769655569107781,1.350116593760215,-0.68357077764621,-0.21333495891230686,-1.7208881667392955,0.6069933473401453,-0.9485578909088116,0.3406380049689828,-0.672802487510469,0.009588568549996238,-0.3318682072964159,1.2099337331859294,-0.04351653889014766,0.47249730841775006,0.1667006178251064,-0.4598399809985974,0.837967850277038,-1.8668083916396223,0.39134901070350175,0.03003234442886318,0.33346010912390706,-0.41099462855907104,-0.7476281108276781,-0.5327999702766689,1.416575387702343,-0.9778755269931578,0.5343302360287127,-1.1023076661037112,-0.8610990263499307,-0.7747711983975649,-0.14363907758537264,-0.9146586648127378,-0.9765413938527153,-1.7663661393860033,-1.130728960818977,-0.7087335536763913,-0.5947383472184843,0.07306755370479635,-1.515879694964568,0.6613108686606811,1.1286274880828215,-2.0581977671877096,1.0677052103269224,-0.3012459235234376,0.4257801498878103,-0.40263933571265664,0.2989675907068838,1.6285636697961807,-0.6663501829263699,1.8664334683739885,2.420357930284369,-1.1092347492996615,0.3200841475174442,0.031691890126987574,1.1160776457145467,-0.43945652058233065,2.08983097962322,-0.7570751399473756,-0.774659812056329,-0.38653891891373127,0.25707335983407725,0.06329890129218477,0.3373619817345958,0.22643180698530777,-1.3546107260806541,0.8002025039600863,-0.8889081107644108,-0.7286812887095835,1.3078694865346456,-0.611430259190768,0.5466667600703187,1.8234840719083245,2.2518211503014953,1.5327451810884483,1.6920378828977007,0.7022921431888567,1.9109285289174767,0.2804484614653215,-1.0498417887903446,3.6031821127767287,-0.5242582112536236,0.7861182653546281,2.0403271912218015,0.16893016132377156,-0.08526345403739913,-0.011024140739621347,-0.7916755386423784,-1.214727083640509,0.7724463413233449,-0.3037457413035935,-2.33354271998076,-0.3562168495073624,0.12430303586946534,-1.1706210899866958,-2.360627446467732,-1.636781917549554,-0.5023576395671382,-2.730925832158357,-1.2423446127955164,-0.8386470327706322,-1.0079198521398571,-0.2276189352739482,-0.42160553228633124,-0.9631389674046109,2.4898319782499447,0.7343740197596936,2.1153640634075943,0.13724873880508429,1.0125213152896448,-0.37005291574945404,-1.7815300896312838,-1.1887304827614855,-0.2404274433169064,-0.6167239342011879,-0.9734476761826565,-0.5688906477444666,-0.486167220621784,1.0076600514520049,-0.3015057633668334,0.12897294715118388,2.530930018505613,0.9337858603263752,0.8418091510500184,-0.933343432135816,-0.19397496311706836,-0.5671126380023117,1.5106561492724906,0.18074855667507328,-1.0463627822229695,-0.7333067303892984,-1.0246191375816187,0.8689648267049044,2.4131387627924523,-1.0475814842246263,0.9736919192976747,1.7212392934745608,-1.3429003712914178,-0.5792383396463398,1.3474157429635891,1.237826518985623,-0.6277344905438722,-0.4669374453129623,-0.6195438014522827,1.4249282490014075,0.9643381077506041,0.11165727459267372,0.9643381077506041,-0.12094841593244897,-0.4345154977397169,-0.8717228134320211,0.15079746470860128,0.27797908953693057,1.1894891272965957,0.13692337593366338,2.2951298743783037,-1.242690581437397,-0.34856941623506044,0.3027643122628125,-0.9565041870588196,-0.03455778115238623,-0.23528215500302713,-0.2877116065230779,0.33490144838209046,-0.5519801147930495,-1.6671675160620283,0.34836557143282215,-0.6829322826912532,0.10279951612120454,-1.9959511402427008,0.2685118467719546,1.9946169248668235,1.8483060822592732,1.0554925588676156,0.21879040449048467,-0.13570197581661733,0.9851968861899977,1.0680519747125847,-0.9423944222871224,-1.3267365895545913,0.23792831775974396,1.0906730354381007,0.826036084005291,-0.11461723951061478,1.840407711419573,1.0823540919940613,-0.8687738626484441,-0.5914828614287035,-0.8089063660175025,0.6170449549147408,-0.03580072293818791,1.5913428281037119,1.3560670015995724,-1.6287481707392555,-1.2933490428322187,-0.6763485851962359,1.1830106693009697,0.6030493268732693,0.3823904837157871,3.0241485166452913,1.4320445004928828,0.34228297341503033,-1.4187000715910392,1.6814999864821354,2.7994210517958256,-0.04549238763921363,0.4657414169487411,1.4198239456029544,0.5888953615807179,1.0444386933204224,0.5964434905314967,0.08844995393029619,-0.04549238763921363,0.8977977758332301,-0.16885058170456763,0.5983088128366508,0.6667441748139545,0.11485247399156087,-2.5769252053016762,0.23909640755804606,2.248756190662392,2.538734024943234,-0.05632591154782853,0.5964434905314967,1.978302081168272,1.3560670015995724,2.916068975918379,-0.6225797561996568,0.2559420671846076,-0.29072442076002847,0.3757386950204396,1.5556309456722315,0.45063092760922974,0.7757854374142421,0.07431941987262852,-1.308092523098243,-1.3524345982935695,0.2936091768199889,3.3099155081569425,-0.5551636406866711,0.5675987166081136,2.64613987763788,0.03399799833090761,0.6786040056615524,0.14923360423842144,-0.4559136008402298,2.9465579423623556,1.9486015356312563,0.6937156146030223,-0.6479161411275318,-0.16832643560406457,0.9206331889506565,-0.45076135107729187,-1.6238548107932622,-1.7149594650926738,0.8246937348674054,-0.6046810983191612,0.9951455987502157,-0.49439614316897357,-0.19789301436614315,-0.17763361203952066,-0.08113594162832595,-3.5919281845082582,0.015192898637180879,0.41832376286280953,-1.3430396251065346,-1.153338780548071,-1.5144988077562633,-1.590958155769705,-2.345699961945227,0.5187929455099686,-2.0068878431165444,-1.5610744785887622,0.4027243215517718,0.38857174117138676,2.471190761937054,-0.21414035832918885,3.0020429581390813,2.431138990340911,2.8822811672315205,0.9642980521378581,0.007995287376184438,-1.444857564438203,-0.2155865258574699,-1.0494337432873786,-0.16881431329935015,-0.7392065333258888,2.1790993577352276,-1.0820263567320523,-0.5618613817516007,0.059191033675627135,-1.0420534653157911,0.12324047273321638,-0.06624184533439685,-1.5632894769170909,-0.20455517338152543,-0.28256903175167575,-1.7373472894249378,-1.0465870893288491,0.5718932501658502,0.031844458972237914,-0.012659131268620494,1.0406554362647713,2.080718977326502,-2.2215790057935085,-1.2942306228088387,-0.9232671973085109,1.6648500226504812,-2.2517164433175414,2.2279199793837825,-1.4934305722339867,0.06759763053874672,-0.4220085249074881,-1.6224994565962823,-0.8568498421627402,-1.7156119083516947,-0.40181400052584415,-1.9183111465675227,-1.028417666115482,0.566250907648206,-1.9360921290485065,-1.3661970267771584,-0.47905326674771764,1.5323961175618437,0.6372584903149389,1.3733798976383869,-0.5126351469976419,-0.47065776417615995,0.0005851604650585394,0.8136001906912061,0.38997026358275816,-0.39546104811196764,-1.5825523645928892,-0.9178690058179534,-0.3820309089909215,0.1570831701083067,-0.9806604314366109,1.2573912397734057,0.5631582113333923,1.1114556668423172,0.19309430754008602,-3.0573576367230726,-2.796405090095431,0.444193198132993,-0.5425621727635219,-0.8201583062849618,0.37514319403638485,-1.0223780840942374,-0.607071287647225,-0.962449206877945,-2.023747135601469,-0.0874185190205979,-0.2046286417953789,-0.08910926007143853,-2.0591628392523065,-1.1745357862551646,-0.6346088648189894,-0.5491745735456132,0.5095716897531323,0.8065406104992399,0.741180314912622,-0.855882162906126,-0.36576815422794284,-0.5309994855824157,-0.5213994519208942,-0.8095689157079888,1.1265825463110153,-0.20982947444075453,-1.1323946066926993,0.22119401719295606,-1.1950493627964522,1.402539081269544,-0.5757347764161587,-0.7264869106374326,-0.7415878471844265,0.0695133638457391,-0.20446565868520072,-0.01879031406313326,0.0313928907117842,0.35067005623607683,-1.1128956328696087,1.8195868927958858,1.8713013951568784,1.918152595653493,-1.7186688480437633,0.8757893106119216,0.17563027053701222,-0.6929183840508988,-0.28726002097626524,0.20809406613318512,1.776495402604127,-0.408573185093292,0.029405535122967688,0.3028902959496672,0.9923583707665707,0.43377995483685905,-1.356432955086264,0.5863758368736232,2.923932736424936,1.0230580147774833,0.8397768146241349,2.571609178955066,-0.39274683629951096,0.3103645893388294,1.21222211993606,-0.9105271986614303,-0.42313549349462404,-1.5022933704705277,-0.3958114038540123,0.11057980583580806,-1.1364627595215233,0.989071095179563,1.6893322614019624,0.9299479085907703,-0.4525968776137759,-0.7448746955627121,1.8574219818393118,0.31621132843281363,-3.5919281845082582,-2.7715699519860775,-1.0936649608603763,-0.8987367758535342,-0.7144851932041092,0.08471793830475467,3.4023252585367056,0.591537639381142,0.19594602619169202,0.0359650849812224,-0.7572787491134779,0.4800421604906783,0.5277834265150131,-0.07029951988052383,-2.6459203144839982,-1.3983743516341678,-1.7875077633778973,0.8485646204971731,1.2059329792106677,-1.724161070808913,-0.47215623617893154,-0.8206980878304393,-0.9083842640904312,-0.7454847813328961,-0.7426614340923898,-0.5761116798392966,1.2630604906993144,-0.9648409921390775,0.19368622313439496,0.9996039142658566,1.1575246422378052,-1.0936649608603763,-1.0936649608603763,3.0241485166452913,1.5817331684268634,1.645258276171438,-2.4045788380748325,-2.4574249906447165,-0.5475715725911341,-1.3098373709567723,-2.0126521925813714,-2.4620510303809064,0.4839182224013346,-1.4091483830778642,-1.5557878439244455,-1.7104659017896577,-0.14939377576964444,-2.0027033980752877,-2.2204584178167046,-0.9119564427723755,-2.2209031233141876,-1.7536558307851253,-1.3764437205042688,-2.539680899330998,-1.9288195091234024,0.4586528028759602,-0.7370750659681983,-1.423871779877747,0.3131378501572361,0.03164626132906318,-0.9437787672942064,0.4220331476734112,-0.19189119093839796,-0.5211679048184983,1.883607692357033,1.254625917650506,-1.7980071100359678,1.6046581333958079,0.5308244007763837,-1.467705069239331,-0.07553356999426325,-0.937130006178032,0.9744129361419288,1.0808327860734128,-1.3498838940521005,-2.6382976097381077,1.1075741810946897,-1.1968544636420617,-0.049851570017733104,-1.3368586236919504,3.3802062358741827,-0.9362765548657977,-0.8512302225203673,0.8312994793303523,1.1474159317775203,0.869281462039726,-0.06373150398819455,-0.45242591189062087,-1.0487895677820003,-0.978662905395079,-1.1203219593181175,-0.6009018213810977,0.4186241486931217,-0.3053760309640729,0.18024535423152005,-0.0874185190205979,-2.144691504600465,0.8614420346143581,0.13071407897493503,-0.2277504589672924,1.1093919174553362,0.5061696894655089,2.5114509290464726,-0.3562583850384979,0.26395567276692306,0.2716152626191374,-0.3396231129337223,0.8138121170061862,1.6452114399899,1.238681856270097,0.8050649466533385,0.577709746614169,-0.7454513238920747,0.7691464789300241,-0.23009953334279323,-1.1625225503153893,1.0967477999866706,-0.7762878624655917,-0.5844671710446078,-0.606197906364187,-1.4869471807666146,1.750344874345486,-0.6151603064563211,-1.653134426340759,0.7427151707507438,-0.7054157806980441,-0.03251912330295562,-2.341444922488878,1.840847976937174,0.41506437622652675,-0.5229064046857447,-0.017125860721715003,-1.3049828462456436,-1.089725570464679,-3.6952327527777773,-1.3907085464763511],\"yaxis\":\"y\",\"type\":\"scattergl\"}],                        {\"template\":{\"data\":{\"histogram2dcontour\":[{\"type\":\"histogram2dcontour\",\"colorbar\":{\"outlinewidth\":0,\"ticks\":\"\"},\"colorscale\":[[0.0,\"#0d0887\"],[0.1111111111111111,\"#46039f\"],[0.2222222222222222,\"#7201a8\"],[0.3333333333333333,\"#9c179e\"],[0.4444444444444444,\"#bd3786\"],[0.5555555555555556,\"#d8576b\"],[0.6666666666666666,\"#ed7953\"],[0.7777777777777778,\"#fb9f3a\"],[0.8888888888888888,\"#fdca26\"],[1.0,\"#f0f921\"]]}],\"choropleth\":[{\"type\":\"choropleth\",\"colorbar\":{\"outlinewidth\":0,\"ticks\":\"\"}}],\"histogram2d\":[{\"type\":\"histogram2d\",\"colorbar\":{\"outlinewidth\":0,\"ticks\":\"\"},\"colorscale\":[[0.0,\"#0d0887\"],[0.1111111111111111,\"#46039f\"],[0.2222222222222222,\"#7201a8\"],[0.3333333333333333,\"#9c179e\"],[0.4444444444444444,\"#bd3786\"],[0.5555555555555556,\"#d8576b\"],[0.6666666666666666,\"#ed7953\"],[0.7777777777777778,\"#fb9f3a\"],[0.8888888888888888,\"#fdca26\"],[1.0,\"#f0f921\"]]}],\"heatmap\":[{\"type\":\"heatmap\",\"colorbar\":{\"outlinewidth\":0,\"ticks\":\"\"},\"colorscale\":[[0.0,\"#0d0887\"],[0.1111111111111111,\"#46039f\"],[0.2222222222222222,\"#7201a8\"],[0.3333333333333333,\"#9c179e\"],[0.4444444444444444,\"#bd3786\"],[0.5555555555555556,\"#d8576b\"],[0.6666666666666666,\"#ed7953\"],[0.7777777777777778,\"#fb9f3a\"],[0.8888888888888888,\"#fdca26\"],[1.0,\"#f0f921\"]]}],\"heatmapgl\":[{\"type\":\"heatmapgl\",\"colorbar\":{\"outlinewidth\":0,\"ticks\":\"\"},\"colorscale\":[[0.0,\"#0d0887\"],[0.1111111111111111,\"#46039f\"],[0.2222222222222222,\"#7201a8\"],[0.3333333333333333,\"#9c179e\"],[0.4444444444444444,\"#bd3786\"],[0.5555555555555556,\"#d8576b\"],[0.6666666666666666,\"#ed7953\"],[0.7777777777777778,\"#fb9f3a\"],[0.8888888888888888,\"#fdca26\"],[1.0,\"#f0f921\"]]}],\"contourcarpet\":[{\"type\":\"contourcarpet\",\"colorbar\":{\"outlinewidth\":0,\"ticks\":\"\"}}],\"contour\":[{\"type\":\"contour\",\"colorbar\":{\"outlinewidth\":0,\"ticks\":\"\"},\"colorscale\":[[0.0,\"#0d0887\"],[0.1111111111111111,\"#46039f\"],[0.2222222222222222,\"#7201a8\"],[0.3333333333333333,\"#9c179e\"],[0.4444444444444444,\"#bd3786\"],[0.5555555555555556,\"#d8576b\"],[0.6666666666666666,\"#ed7953\"],[0.7777777777777778,\"#fb9f3a\"],[0.8888888888888888,\"#fdca26\"],[1.0,\"#f0f921\"]]}],\"surface\":[{\"type\":\"surface\",\"colorbar\":{\"outlinewidth\":0,\"ticks\":\"\"},\"colorscale\":[[0.0,\"#0d0887\"],[0.1111111111111111,\"#46039f\"],[0.2222222222222222,\"#7201a8\"],[0.3333333333333333,\"#9c179e\"],[0.4444444444444444,\"#bd3786\"],[0.5555555555555556,\"#d8576b\"],[0.6666666666666666,\"#ed7953\"],[0.7777777777777778,\"#fb9f3a\"],[0.8888888888888888,\"#fdca26\"],[1.0,\"#f0f921\"]]}],\"mesh3d\":[{\"type\":\"mesh3d\",\"colorbar\":{\"outlinewidth\":0,\"ticks\":\"\"}}],\"scatter\":[{\"fillpattern\":{\"fillmode\":\"overlay\",\"size\":10,\"solidity\":0.2},\"type\":\"scatter\"}],\"parcoords\":[{\"type\":\"parcoords\",\"line\":{\"colorbar\":{\"outlinewidth\":0,\"ticks\":\"\"}}}],\"scatterpolargl\":[{\"type\":\"scatterpolargl\",\"marker\":{\"colorbar\":{\"outlinewidth\":0,\"ticks\":\"\"}}}],\"bar\":[{\"error_x\":{\"color\":\"#2a3f5f\"},\"error_y\":{\"color\":\"#2a3f5f\"},\"marker\":{\"line\":{\"color\":\"#E5ECF6\",\"width\":0.5},\"pattern\":{\"fillmode\":\"overlay\",\"size\":10,\"solidity\":0.2}},\"type\":\"bar\"}],\"scattergeo\":[{\"type\":\"scattergeo\",\"marker\":{\"colorbar\":{\"outlinewidth\":0,\"ticks\":\"\"}}}],\"scatterpolar\":[{\"type\":\"scatterpolar\",\"marker\":{\"colorbar\":{\"outlinewidth\":0,\"ticks\":\"\"}}}],\"histogram\":[{\"marker\":{\"pattern\":{\"fillmode\":\"overlay\",\"size\":10,\"solidity\":0.2}},\"type\":\"histogram\"}],\"scattergl\":[{\"type\":\"scattergl\",\"marker\":{\"colorbar\":{\"outlinewidth\":0,\"ticks\":\"\"}}}],\"scatter3d\":[{\"type\":\"scatter3d\",\"line\":{\"colorbar\":{\"outlinewidth\":0,\"ticks\":\"\"}},\"marker\":{\"colorbar\":{\"outlinewidth\":0,\"ticks\":\"\"}}}],\"scattermapbox\":[{\"type\":\"scattermapbox\",\"marker\":{\"colorbar\":{\"outlinewidth\":0,\"ticks\":\"\"}}}],\"scatterternary\":[{\"type\":\"scatterternary\",\"marker\":{\"colorbar\":{\"outlinewidth\":0,\"ticks\":\"\"}}}],\"scattercarpet\":[{\"type\":\"scattercarpet\",\"marker\":{\"colorbar\":{\"outlinewidth\":0,\"ticks\":\"\"}}}],\"carpet\":[{\"aaxis\":{\"endlinecolor\":\"#2a3f5f\",\"gridcolor\":\"white\",\"linecolor\":\"white\",\"minorgridcolor\":\"white\",\"startlinecolor\":\"#2a3f5f\"},\"baxis\":{\"endlinecolor\":\"#2a3f5f\",\"gridcolor\":\"white\",\"linecolor\":\"white\",\"minorgridcolor\":\"white\",\"startlinecolor\":\"#2a3f5f\"},\"type\":\"carpet\"}],\"table\":[{\"cells\":{\"fill\":{\"color\":\"#EBF0F8\"},\"line\":{\"color\":\"white\"}},\"header\":{\"fill\":{\"color\":\"#C8D4E3\"},\"line\":{\"color\":\"white\"}},\"type\":\"table\"}],\"barpolar\":[{\"marker\":{\"line\":{\"color\":\"#E5ECF6\",\"width\":0.5},\"pattern\":{\"fillmode\":\"overlay\",\"size\":10,\"solidity\":0.2}},\"type\":\"barpolar\"}],\"pie\":[{\"automargin\":true,\"type\":\"pie\"}]},\"layout\":{\"autotypenumbers\":\"strict\",\"colorway\":[\"#636efa\",\"#EF553B\",\"#00cc96\",\"#ab63fa\",\"#FFA15A\",\"#19d3f3\",\"#FF6692\",\"#B6E880\",\"#FF97FF\",\"#FECB52\"],\"font\":{\"color\":\"#2a3f5f\"},\"hovermode\":\"closest\",\"hoverlabel\":{\"align\":\"left\"},\"paper_bgcolor\":\"white\",\"plot_bgcolor\":\"#E5ECF6\",\"polar\":{\"bgcolor\":\"#E5ECF6\",\"angularaxis\":{\"gridcolor\":\"white\",\"linecolor\":\"white\",\"ticks\":\"\"},\"radialaxis\":{\"gridcolor\":\"white\",\"linecolor\":\"white\",\"ticks\":\"\"}},\"ternary\":{\"bgcolor\":\"#E5ECF6\",\"aaxis\":{\"gridcolor\":\"white\",\"linecolor\":\"white\",\"ticks\":\"\"},\"baxis\":{\"gridcolor\":\"white\",\"linecolor\":\"white\",\"ticks\":\"\"},\"caxis\":{\"gridcolor\":\"white\",\"linecolor\":\"white\",\"ticks\":\"\"}},\"coloraxis\":{\"colorbar\":{\"outlinewidth\":0,\"ticks\":\"\"}},\"colorscale\":{\"sequential\":[[0.0,\"#0d0887\"],[0.1111111111111111,\"#46039f\"],[0.2222222222222222,\"#7201a8\"],[0.3333333333333333,\"#9c179e\"],[0.4444444444444444,\"#bd3786\"],[0.5555555555555556,\"#d8576b\"],[0.6666666666666666,\"#ed7953\"],[0.7777777777777778,\"#fb9f3a\"],[0.8888888888888888,\"#fdca26\"],[1.0,\"#f0f921\"]],\"sequentialminus\":[[0.0,\"#0d0887\"],[0.1111111111111111,\"#46039f\"],[0.2222222222222222,\"#7201a8\"],[0.3333333333333333,\"#9c179e\"],[0.4444444444444444,\"#bd3786\"],[0.5555555555555556,\"#d8576b\"],[0.6666666666666666,\"#ed7953\"],[0.7777777777777778,\"#fb9f3a\"],[0.8888888888888888,\"#fdca26\"],[1.0,\"#f0f921\"]],\"diverging\":[[0,\"#8e0152\"],[0.1,\"#c51b7d\"],[0.2,\"#de77ae\"],[0.3,\"#f1b6da\"],[0.4,\"#fde0ef\"],[0.5,\"#f7f7f7\"],[0.6,\"#e6f5d0\"],[0.7,\"#b8e186\"],[0.8,\"#7fbc41\"],[0.9,\"#4d9221\"],[1,\"#276419\"]]},\"xaxis\":{\"gridcolor\":\"white\",\"linecolor\":\"white\",\"ticks\":\"\",\"title\":{\"standoff\":15},\"zerolinecolor\":\"white\",\"automargin\":true,\"zerolinewidth\":2},\"yaxis\":{\"gridcolor\":\"white\",\"linecolor\":\"white\",\"ticks\":\"\",\"title\":{\"standoff\":15},\"zerolinecolor\":\"white\",\"automargin\":true,\"zerolinewidth\":2},\"scene\":{\"xaxis\":{\"backgroundcolor\":\"#E5ECF6\",\"gridcolor\":\"white\",\"linecolor\":\"white\",\"showbackground\":true,\"ticks\":\"\",\"zerolinecolor\":\"white\",\"gridwidth\":2},\"yaxis\":{\"backgroundcolor\":\"#E5ECF6\",\"gridcolor\":\"white\",\"linecolor\":\"white\",\"showbackground\":true,\"ticks\":\"\",\"zerolinecolor\":\"white\",\"gridwidth\":2},\"zaxis\":{\"backgroundcolor\":\"#E5ECF6\",\"gridcolor\":\"white\",\"linecolor\":\"white\",\"showbackground\":true,\"ticks\":\"\",\"zerolinecolor\":\"white\",\"gridwidth\":2}},\"shapedefaults\":{\"line\":{\"color\":\"#2a3f5f\"}},\"annotationdefaults\":{\"arrowcolor\":\"#2a3f5f\",\"arrowhead\":0,\"arrowwidth\":1},\"geo\":{\"bgcolor\":\"white\",\"landcolor\":\"#E5ECF6\",\"subunitcolor\":\"white\",\"showland\":true,\"showlakes\":true,\"lakecolor\":\"white\"},\"title\":{\"x\":0.05},\"mapbox\":{\"style\":\"light\"}}},\"xaxis\":{\"anchor\":\"y\",\"domain\":[0.0,1.0],\"title\":{\"text\":\"x\"}},\"yaxis\":{\"anchor\":\"x\",\"domain\":[0.0,1.0],\"title\":{\"text\":\"y\"}},\"coloraxis\":{\"colorbar\":{\"title\":{\"text\":\"cluster_pca\"}},\"colorscale\":[[0.0,\"#0d0887\"],[0.1111111111111111,\"#46039f\"],[0.2222222222222222,\"#7201a8\"],[0.3333333333333333,\"#9c179e\"],[0.4444444444444444,\"#bd3786\"],[0.5555555555555556,\"#d8576b\"],[0.6666666666666666,\"#ed7953\"],[0.7777777777777778,\"#fb9f3a\"],[0.8888888888888888,\"#fdca26\"],[1.0,\"#f0f921\"]]},\"legend\":{\"tracegroupgap\":0},\"margin\":{\"t\":60}},                        {\"responsive\": true}                    ).then(function(){\n",
       "                            \n",
       "var gd = document.getElementById('00088fbb-ac39-4e99-aa61-3b9f20ff7b2d');\n",
       "var x = new MutationObserver(function (mutations, observer) {{\n",
       "        var display = window.getComputedStyle(gd).display;\n",
       "        if (!display || display === 'none') {{\n",
       "            console.log([gd, 'removed!']);\n",
       "            Plotly.purge(gd);\n",
       "            observer.disconnect();\n",
       "        }}\n",
       "}});\n",
       "\n",
       "// Listen for the removal of the full notebook cells\n",
       "var notebookContainer = gd.closest('#notebook-container');\n",
       "if (notebookContainer) {{\n",
       "    x.observe(notebookContainer, {childList: true});\n",
       "}}\n",
       "\n",
       "// Listen for the clearing of the current output cell\n",
       "var outputEl = gd.closest('.output');\n",
       "if (outputEl) {{\n",
       "    x.observe(outputEl, {childList: true});\n",
       "}}\n",
       "\n",
       "                        })                };                });            </script>        </div>"
      ]
     },
     "metadata": {},
     "output_type": "display_data"
    }
   ],
   "source": [
    "fig = px.scatter(projection, x=\"x\", y=\"y\", color=\"cluster_pca\", hover_data=[\"x\", \"y\", \"genres\"])\n",
    "fig.show()"
   ]
  },
  {
   "cell_type": "code",
   "execution_count": 133,
   "metadata": {},
   "outputs": [
    {
     "data": {
      "text/plain": [
       "array([0.34986105, 0.14284565])"
      ]
     },
     "execution_count": 133,
     "metadata": {},
     "output_type": "execute_result"
    }
   ],
   "source": [
    "pca_pipeline[1].explained_variance_ratio_"
   ]
  },
  {
   "cell_type": "code",
   "execution_count": 134,
   "metadata": {},
   "outputs": [
    {
     "data": {
      "text/plain": [
       "0.4927066994726647"
      ]
     },
     "execution_count": 134,
     "metadata": {},
     "output_type": "execute_result"
    }
   ],
   "source": [
    "pca_pipeline[1].explained_variance_ratio_.sum()"
   ]
  },
  {
   "cell_type": "code",
   "execution_count": 135,
   "metadata": {},
   "outputs": [
    {
     "data": {
      "text/plain": [
       "array([3.84976644, 1.57183087])"
      ]
     },
     "execution_count": 135,
     "metadata": {},
     "output_type": "execute_result"
    }
   ],
   "source": [
    "pca_pipeline[1].explained_variance_"
   ]
  },
  {
   "cell_type": "code",
   "execution_count": 136,
   "metadata": {},
   "outputs": [
    {
     "data": {
      "text/plain": [
       "5.421597305805704"
      ]
     },
     "execution_count": 136,
     "metadata": {},
     "output_type": "execute_result"
    }
   ],
   "source": [
    "pca_pipeline[1].explained_variance_.sum()"
   ]
  },
  {
   "cell_type": "code",
   "execution_count": null,
   "metadata": {},
   "outputs": [],
   "source": []
  },
  {
   "cell_type": "code",
   "execution_count": null,
   "metadata": {},
   "outputs": [],
   "source": []
  }
 ],
 "metadata": {
  "kernelspec": {
   "display_name": ".clustering",
   "language": "python",
   "name": ".clustering"
  },
  "language_info": {
   "codemirror_mode": {
    "name": "ipython",
    "version": 3
   },
   "file_extension": ".py",
   "mimetype": "text/x-python",
   "name": "python",
   "nbconvert_exporter": "python",
   "pygments_lexer": "ipython3",
   "version": "3.10.10"
  },
  "vscode": {
   "interpreter": {
    "hash": "3b8b69dd61503cc52e29a5288855d4685e94fac44889bcc154b72688b3540044"
   }
  }
 },
 "nbformat": 4,
 "nbformat_minor": 2
}
