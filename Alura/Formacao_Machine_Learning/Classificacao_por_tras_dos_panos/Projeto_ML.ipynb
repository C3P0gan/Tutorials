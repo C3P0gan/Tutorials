{
 "cells": [
  {
   "cell_type": "code",
   "execution_count": 3,
   "metadata": {},
   "outputs": [],
   "source": [
    "import pandas as pd"
   ]
  },
  {
   "cell_type": "code",
   "execution_count": 4,
   "metadata": {},
   "outputs": [],
   "source": [
    "dados = pd.read_csv(\"data/Customer-Churn.csv\")"
   ]
  },
  {
   "cell_type": "code",
   "execution_count": 5,
   "metadata": {},
   "outputs": [
    {
     "data": {
      "text/plain": [
       "(7043, 18)"
      ]
     },
     "execution_count": 5,
     "metadata": {},
     "output_type": "execute_result"
    }
   ],
   "source": [
    "dados.shape"
   ]
  },
  {
   "cell_type": "code",
   "execution_count": 6,
   "metadata": {},
   "outputs": [
    {
     "data": {
      "text/html": [
       "<div>\n",
       "<style scoped>\n",
       "    .dataframe tbody tr th:only-of-type {\n",
       "        vertical-align: middle;\n",
       "    }\n",
       "\n",
       "    .dataframe tbody tr th {\n",
       "        vertical-align: top;\n",
       "    }\n",
       "\n",
       "    .dataframe thead th {\n",
       "        text-align: right;\n",
       "    }\n",
       "</style>\n",
       "<table border=\"1\" class=\"dataframe\">\n",
       "  <thead>\n",
       "    <tr style=\"text-align: right;\">\n",
       "      <th></th>\n",
       "      <th>Maior65Anos</th>\n",
       "      <th>Conjuge</th>\n",
       "      <th>Dependentes</th>\n",
       "      <th>MesesDeContrato</th>\n",
       "      <th>TelefoneFixo</th>\n",
       "      <th>VariasLinhasTelefonicas</th>\n",
       "      <th>ServicoDeInternet</th>\n",
       "      <th>SegurancaOnline</th>\n",
       "      <th>BackupOnline</th>\n",
       "      <th>SeguroNoDispositivo</th>\n",
       "      <th>SuporteTecnico</th>\n",
       "      <th>TVaCabo</th>\n",
       "      <th>StreamingDeFilmes</th>\n",
       "      <th>TipoDeContrato</th>\n",
       "      <th>PagamentoOnline</th>\n",
       "      <th>FormaDePagamento</th>\n",
       "      <th>ContaMensal</th>\n",
       "      <th>Churn</th>\n",
       "    </tr>\n",
       "  </thead>\n",
       "  <tbody>\n",
       "    <tr>\n",
       "      <th>0</th>\n",
       "      <td>0</td>\n",
       "      <td>Sim</td>\n",
       "      <td>Nao</td>\n",
       "      <td>1</td>\n",
       "      <td>Nao</td>\n",
       "      <td>SemServicoTelefonico</td>\n",
       "      <td>DSL</td>\n",
       "      <td>Nao</td>\n",
       "      <td>Sim</td>\n",
       "      <td>Nao</td>\n",
       "      <td>Nao</td>\n",
       "      <td>Nao</td>\n",
       "      <td>Nao</td>\n",
       "      <td>Mensalmente</td>\n",
       "      <td>Sim</td>\n",
       "      <td>ChequeDigital</td>\n",
       "      <td>29.85</td>\n",
       "      <td>Nao</td>\n",
       "    </tr>\n",
       "    <tr>\n",
       "      <th>1</th>\n",
       "      <td>0</td>\n",
       "      <td>Nao</td>\n",
       "      <td>Nao</td>\n",
       "      <td>34</td>\n",
       "      <td>Sim</td>\n",
       "      <td>Nao</td>\n",
       "      <td>DSL</td>\n",
       "      <td>Sim</td>\n",
       "      <td>Nao</td>\n",
       "      <td>Sim</td>\n",
       "      <td>Nao</td>\n",
       "      <td>Nao</td>\n",
       "      <td>Nao</td>\n",
       "      <td>UmAno</td>\n",
       "      <td>Nao</td>\n",
       "      <td>ChequePapel</td>\n",
       "      <td>56.95</td>\n",
       "      <td>Nao</td>\n",
       "    </tr>\n",
       "    <tr>\n",
       "      <th>2</th>\n",
       "      <td>0</td>\n",
       "      <td>Nao</td>\n",
       "      <td>Nao</td>\n",
       "      <td>2</td>\n",
       "      <td>Sim</td>\n",
       "      <td>Nao</td>\n",
       "      <td>DSL</td>\n",
       "      <td>Sim</td>\n",
       "      <td>Sim</td>\n",
       "      <td>Nao</td>\n",
       "      <td>Nao</td>\n",
       "      <td>Nao</td>\n",
       "      <td>Nao</td>\n",
       "      <td>Mensalmente</td>\n",
       "      <td>Sim</td>\n",
       "      <td>ChequePapel</td>\n",
       "      <td>53.85</td>\n",
       "      <td>Sim</td>\n",
       "    </tr>\n",
       "    <tr>\n",
       "      <th>3</th>\n",
       "      <td>0</td>\n",
       "      <td>Nao</td>\n",
       "      <td>Nao</td>\n",
       "      <td>45</td>\n",
       "      <td>Nao</td>\n",
       "      <td>SemServicoTelefonico</td>\n",
       "      <td>DSL</td>\n",
       "      <td>Sim</td>\n",
       "      <td>Nao</td>\n",
       "      <td>Sim</td>\n",
       "      <td>Sim</td>\n",
       "      <td>Nao</td>\n",
       "      <td>Nao</td>\n",
       "      <td>UmAno</td>\n",
       "      <td>Nao</td>\n",
       "      <td>DebitoEmConta</td>\n",
       "      <td>42.30</td>\n",
       "      <td>Nao</td>\n",
       "    </tr>\n",
       "    <tr>\n",
       "      <th>4</th>\n",
       "      <td>0</td>\n",
       "      <td>Nao</td>\n",
       "      <td>Nao</td>\n",
       "      <td>2</td>\n",
       "      <td>Sim</td>\n",
       "      <td>Nao</td>\n",
       "      <td>FibraOptica</td>\n",
       "      <td>Nao</td>\n",
       "      <td>Nao</td>\n",
       "      <td>Nao</td>\n",
       "      <td>Nao</td>\n",
       "      <td>Nao</td>\n",
       "      <td>Nao</td>\n",
       "      <td>Mensalmente</td>\n",
       "      <td>Sim</td>\n",
       "      <td>ChequeDigital</td>\n",
       "      <td>70.70</td>\n",
       "      <td>Sim</td>\n",
       "    </tr>\n",
       "  </tbody>\n",
       "</table>\n",
       "</div>"
      ],
      "text/plain": [
       "   Maior65Anos Conjuge Dependentes  MesesDeContrato TelefoneFixo  \\\n",
       "0            0     Sim         Nao                1          Nao   \n",
       "1            0     Nao         Nao               34          Sim   \n",
       "2            0     Nao         Nao                2          Sim   \n",
       "3            0     Nao         Nao               45          Nao   \n",
       "4            0     Nao         Nao                2          Sim   \n",
       "\n",
       "  VariasLinhasTelefonicas ServicoDeInternet SegurancaOnline BackupOnline  \\\n",
       "0    SemServicoTelefonico               DSL             Nao          Sim   \n",
       "1                     Nao               DSL             Sim          Nao   \n",
       "2                     Nao               DSL             Sim          Sim   \n",
       "3    SemServicoTelefonico               DSL             Sim          Nao   \n",
       "4                     Nao       FibraOptica             Nao          Nao   \n",
       "\n",
       "  SeguroNoDispositivo SuporteTecnico TVaCabo StreamingDeFilmes TipoDeContrato  \\\n",
       "0                 Nao            Nao     Nao               Nao    Mensalmente   \n",
       "1                 Sim            Nao     Nao               Nao          UmAno   \n",
       "2                 Nao            Nao     Nao               Nao    Mensalmente   \n",
       "3                 Sim            Sim     Nao               Nao          UmAno   \n",
       "4                 Nao            Nao     Nao               Nao    Mensalmente   \n",
       "\n",
       "  PagamentoOnline FormaDePagamento  ContaMensal Churn  \n",
       "0             Sim    ChequeDigital        29.85   Nao  \n",
       "1             Nao      ChequePapel        56.95   Nao  \n",
       "2             Sim      ChequePapel        53.85   Sim  \n",
       "3             Nao    DebitoEmConta        42.30   Nao  \n",
       "4             Sim    ChequeDigital        70.70   Sim  "
      ]
     },
     "execution_count": 6,
     "metadata": {},
     "output_type": "execute_result"
    }
   ],
   "source": [
    "dados.head()"
   ]
  },
  {
   "cell_type": "code",
   "execution_count": 7,
   "metadata": {},
   "outputs": [
    {
     "data": {
      "text/html": [
       "<div>\n",
       "<style scoped>\n",
       "    .dataframe tbody tr th:only-of-type {\n",
       "        vertical-align: middle;\n",
       "    }\n",
       "\n",
       "    .dataframe tbody tr th {\n",
       "        vertical-align: top;\n",
       "    }\n",
       "\n",
       "    .dataframe thead th {\n",
       "        text-align: right;\n",
       "    }\n",
       "</style>\n",
       "<table border=\"1\" class=\"dataframe\">\n",
       "  <thead>\n",
       "    <tr style=\"text-align: right;\">\n",
       "      <th></th>\n",
       "      <th>Conjuge</th>\n",
       "      <th>Dependentes</th>\n",
       "      <th>TelefoneFixo</th>\n",
       "      <th>PagamentoOnline</th>\n",
       "      <th>Churn</th>\n",
       "    </tr>\n",
       "  </thead>\n",
       "  <tbody>\n",
       "    <tr>\n",
       "      <th>0</th>\n",
       "      <td>1</td>\n",
       "      <td>0</td>\n",
       "      <td>0</td>\n",
       "      <td>1</td>\n",
       "      <td>0</td>\n",
       "    </tr>\n",
       "    <tr>\n",
       "      <th>1</th>\n",
       "      <td>0</td>\n",
       "      <td>0</td>\n",
       "      <td>1</td>\n",
       "      <td>0</td>\n",
       "      <td>0</td>\n",
       "    </tr>\n",
       "    <tr>\n",
       "      <th>2</th>\n",
       "      <td>0</td>\n",
       "      <td>0</td>\n",
       "      <td>1</td>\n",
       "      <td>1</td>\n",
       "      <td>1</td>\n",
       "    </tr>\n",
       "    <tr>\n",
       "      <th>3</th>\n",
       "      <td>0</td>\n",
       "      <td>0</td>\n",
       "      <td>0</td>\n",
       "      <td>0</td>\n",
       "      <td>0</td>\n",
       "    </tr>\n",
       "    <tr>\n",
       "      <th>4</th>\n",
       "      <td>0</td>\n",
       "      <td>0</td>\n",
       "      <td>1</td>\n",
       "      <td>1</td>\n",
       "      <td>1</td>\n",
       "    </tr>\n",
       "  </tbody>\n",
       "</table>\n",
       "</div>"
      ],
      "text/plain": [
       "   Conjuge  Dependentes  TelefoneFixo  PagamentoOnline  Churn\n",
       "0        1            0             0                1      0\n",
       "1        0            0             1                0      0\n",
       "2        0            0             1                1      1\n",
       "3        0            0             0                0      0\n",
       "4        0            0             1                1      1"
      ]
     },
     "execution_count": 7,
     "metadata": {},
     "output_type": "execute_result"
    }
   ],
   "source": [
    "# modificacao de forma manual\n",
    "traducao_dict = {\n",
    "    \"Sim\" : 1,\n",
    "    \"Nao\" : 0\n",
    "}\n",
    "\n",
    "dados_modificados = dados[[\"Conjuge\", \"Dependentes\", \"TelefoneFixo\", \"PagamentoOnline\", \"Churn\"]].replace(traducao_dict)\n",
    "dados_modificados.head()"
   ]
  },
  {
   "cell_type": "code",
   "execution_count": 8,
   "metadata": {},
   "outputs": [
    {
     "data": {
      "text/html": [
       "<div>\n",
       "<style scoped>\n",
       "    .dataframe tbody tr th:only-of-type {\n",
       "        vertical-align: middle;\n",
       "    }\n",
       "\n",
       "    .dataframe tbody tr th {\n",
       "        vertical-align: top;\n",
       "    }\n",
       "\n",
       "    .dataframe thead th {\n",
       "        text-align: right;\n",
       "    }\n",
       "</style>\n",
       "<table border=\"1\" class=\"dataframe\">\n",
       "  <thead>\n",
       "    <tr style=\"text-align: right;\">\n",
       "      <th></th>\n",
       "      <th>Conjuge</th>\n",
       "      <th>Dependentes</th>\n",
       "      <th>TelefoneFixo</th>\n",
       "      <th>PagamentoOnline</th>\n",
       "      <th>Churn</th>\n",
       "      <th>Maior65Anos</th>\n",
       "      <th>MesesDeContrato</th>\n",
       "      <th>ContaMensal</th>\n",
       "      <th>VariasLinhasTelefonicas_Nao</th>\n",
       "      <th>VariasLinhasTelefonicas_SemServicoTelefonico</th>\n",
       "      <th>...</th>\n",
       "      <th>StreamingDeFilmes_Nao</th>\n",
       "      <th>StreamingDeFilmes_SemServicoDeInternet</th>\n",
       "      <th>StreamingDeFilmes_Sim</th>\n",
       "      <th>TipoDeContrato_DoisAnos</th>\n",
       "      <th>TipoDeContrato_Mensalmente</th>\n",
       "      <th>TipoDeContrato_UmAno</th>\n",
       "      <th>FormaDePagamento_CartaoDeCredito</th>\n",
       "      <th>FormaDePagamento_ChequeDigital</th>\n",
       "      <th>FormaDePagamento_ChequePapel</th>\n",
       "      <th>FormaDePagamento_DebitoEmConta</th>\n",
       "    </tr>\n",
       "  </thead>\n",
       "  <tbody>\n",
       "    <tr>\n",
       "      <th>0</th>\n",
       "      <td>1</td>\n",
       "      <td>0</td>\n",
       "      <td>0</td>\n",
       "      <td>1</td>\n",
       "      <td>0</td>\n",
       "      <td>0</td>\n",
       "      <td>1</td>\n",
       "      <td>29.85</td>\n",
       "      <td>0</td>\n",
       "      <td>1</td>\n",
       "      <td>...</td>\n",
       "      <td>1</td>\n",
       "      <td>0</td>\n",
       "      <td>0</td>\n",
       "      <td>0</td>\n",
       "      <td>1</td>\n",
       "      <td>0</td>\n",
       "      <td>0</td>\n",
       "      <td>1</td>\n",
       "      <td>0</td>\n",
       "      <td>0</td>\n",
       "    </tr>\n",
       "    <tr>\n",
       "      <th>1</th>\n",
       "      <td>0</td>\n",
       "      <td>0</td>\n",
       "      <td>1</td>\n",
       "      <td>0</td>\n",
       "      <td>0</td>\n",
       "      <td>0</td>\n",
       "      <td>34</td>\n",
       "      <td>56.95</td>\n",
       "      <td>1</td>\n",
       "      <td>0</td>\n",
       "      <td>...</td>\n",
       "      <td>1</td>\n",
       "      <td>0</td>\n",
       "      <td>0</td>\n",
       "      <td>0</td>\n",
       "      <td>0</td>\n",
       "      <td>1</td>\n",
       "      <td>0</td>\n",
       "      <td>0</td>\n",
       "      <td>1</td>\n",
       "      <td>0</td>\n",
       "    </tr>\n",
       "    <tr>\n",
       "      <th>2</th>\n",
       "      <td>0</td>\n",
       "      <td>0</td>\n",
       "      <td>1</td>\n",
       "      <td>1</td>\n",
       "      <td>1</td>\n",
       "      <td>0</td>\n",
       "      <td>2</td>\n",
       "      <td>53.85</td>\n",
       "      <td>1</td>\n",
       "      <td>0</td>\n",
       "      <td>...</td>\n",
       "      <td>1</td>\n",
       "      <td>0</td>\n",
       "      <td>0</td>\n",
       "      <td>0</td>\n",
       "      <td>1</td>\n",
       "      <td>0</td>\n",
       "      <td>0</td>\n",
       "      <td>0</td>\n",
       "      <td>1</td>\n",
       "      <td>0</td>\n",
       "    </tr>\n",
       "    <tr>\n",
       "      <th>3</th>\n",
       "      <td>0</td>\n",
       "      <td>0</td>\n",
       "      <td>0</td>\n",
       "      <td>0</td>\n",
       "      <td>0</td>\n",
       "      <td>0</td>\n",
       "      <td>45</td>\n",
       "      <td>42.30</td>\n",
       "      <td>0</td>\n",
       "      <td>1</td>\n",
       "      <td>...</td>\n",
       "      <td>1</td>\n",
       "      <td>0</td>\n",
       "      <td>0</td>\n",
       "      <td>0</td>\n",
       "      <td>0</td>\n",
       "      <td>1</td>\n",
       "      <td>0</td>\n",
       "      <td>0</td>\n",
       "      <td>0</td>\n",
       "      <td>1</td>\n",
       "    </tr>\n",
       "    <tr>\n",
       "      <th>4</th>\n",
       "      <td>0</td>\n",
       "      <td>0</td>\n",
       "      <td>1</td>\n",
       "      <td>1</td>\n",
       "      <td>1</td>\n",
       "      <td>0</td>\n",
       "      <td>2</td>\n",
       "      <td>70.70</td>\n",
       "      <td>1</td>\n",
       "      <td>0</td>\n",
       "      <td>...</td>\n",
       "      <td>1</td>\n",
       "      <td>0</td>\n",
       "      <td>0</td>\n",
       "      <td>0</td>\n",
       "      <td>1</td>\n",
       "      <td>0</td>\n",
       "      <td>0</td>\n",
       "      <td>1</td>\n",
       "      <td>0</td>\n",
       "      <td>0</td>\n",
       "    </tr>\n",
       "  </tbody>\n",
       "</table>\n",
       "<p>5 rows × 39 columns</p>\n",
       "</div>"
      ],
      "text/plain": [
       "   Conjuge  Dependentes  TelefoneFixo  PagamentoOnline  Churn  Maior65Anos  \\\n",
       "0        1            0             0                1      0            0   \n",
       "1        0            0             1                0      0            0   \n",
       "2        0            0             1                1      1            0   \n",
       "3        0            0             0                0      0            0   \n",
       "4        0            0             1                1      1            0   \n",
       "\n",
       "   MesesDeContrato  ContaMensal  VariasLinhasTelefonicas_Nao  \\\n",
       "0                1        29.85                            0   \n",
       "1               34        56.95                            1   \n",
       "2                2        53.85                            1   \n",
       "3               45        42.30                            0   \n",
       "4                2        70.70                            1   \n",
       "\n",
       "   VariasLinhasTelefonicas_SemServicoTelefonico  ...  StreamingDeFilmes_Nao  \\\n",
       "0                                             1  ...                      1   \n",
       "1                                             0  ...                      1   \n",
       "2                                             0  ...                      1   \n",
       "3                                             1  ...                      1   \n",
       "4                                             0  ...                      1   \n",
       "\n",
       "   StreamingDeFilmes_SemServicoDeInternet  StreamingDeFilmes_Sim  \\\n",
       "0                                       0                      0   \n",
       "1                                       0                      0   \n",
       "2                                       0                      0   \n",
       "3                                       0                      0   \n",
       "4                                       0                      0   \n",
       "\n",
       "   TipoDeContrato_DoisAnos  TipoDeContrato_Mensalmente  TipoDeContrato_UmAno  \\\n",
       "0                        0                           1                     0   \n",
       "1                        0                           0                     1   \n",
       "2                        0                           1                     0   \n",
       "3                        0                           0                     1   \n",
       "4                        0                           1                     0   \n",
       "\n",
       "   FormaDePagamento_CartaoDeCredito  FormaDePagamento_ChequeDigital  \\\n",
       "0                                 0                               1   \n",
       "1                                 0                               0   \n",
       "2                                 0                               0   \n",
       "3                                 0                               0   \n",
       "4                                 0                               1   \n",
       "\n",
       "   FormaDePagamento_ChequePapel  FormaDePagamento_DebitoEmConta  \n",
       "0                             0                               0  \n",
       "1                             1                               0  \n",
       "2                             1                               0  \n",
       "3                             0                               1  \n",
       "4                             0                               0  \n",
       "\n",
       "[5 rows x 39 columns]"
      ]
     },
     "execution_count": 8,
     "metadata": {},
     "output_type": "execute_result"
    }
   ],
   "source": [
    "# modificacao pelo get_dummies\n",
    "dummy_dados = pd.get_dummies(dados.drop([\"Conjuge\", \"Dependentes\", \"TelefoneFixo\", \"PagamentoOnline\", \"Churn\"], axis=1))\n",
    "\n",
    "# juncao dos dados transformados com os que ja tinhamos\n",
    "dados_final = pd.concat([dados_modificados, dummy_dados], axis=1)\n",
    "dados_final.head()"
   ]
  },
  {
   "cell_type": "code",
   "execution_count": 9,
   "metadata": {},
   "outputs": [
    {
     "data": {
      "text/plain": [
       "(7043, 39)"
      ]
     },
     "execution_count": 9,
     "metadata": {},
     "output_type": "execute_result"
    }
   ],
   "source": [
    "dados_final.shape"
   ]
  },
  {
   "attachments": {},
   "cell_type": "markdown",
   "metadata": {},
   "source": [
    "---\n",
    "# Para saber mais: divisão dos dados em treino e teste\n",
    "\n",
    "Separar o conjunto de dados em **treino** e **teste** é uma parte imortante para conseguirmos medir o desempenho real de um modelo de machine learning. Essa etapa consiste em dedicar parte do conjunto de dados para treinar o modelo e uma outra parte para teste. Mas qual o motivo de fazer isso?\n",
    "\n",
    "Imagine que você vai fazer uma prova e o(a) professor(a) passa uma atividade de revisão antes para treinar em casa. Chegando na prova, você percebe que as questões são exatamente iguais à revisão passada pelo(a) professor(a). Como você já sabia as questões, tirou 10! Isso é exatamente o que acontece quando utilizamos os mesmos dados para treinar e testar.\n",
    "\n",
    "Como os dados são conhecidos pelo modelo, ele simplesmente vai acertar tudo (ou quase tudo) na etapa de teste, pois são os mesmos dados. Para resolver isso, dividimos o conjunto de dados em treino e teste, sendo esse último para simular dados nunca antes vistos pelo modelo.\n",
    "\n",
    "## Dados de treino\n",
    "\n",
    "Os dados de treino são aqueles utilizados para a criação e treinamento do modelo. Normalmente a maioria dos dados, cerca de 70%, são utilizados para treinamento.\n",
    "\n",
    "## Dados de teste\n",
    "\n",
    "Os dados de teste são utilizados para comprovar que o modelo realmente funciona. Eles não são utilizados no treinamento do modelo e normalmente representam 30% da totalidade dos dados.\n",
    "\n",
    "Além disso, no momento de reailzar a separação desses dados é importante que ela seja feita de forma aleatória, para garantirmos que não haverá nenhum padrão no momento de divisão dos dados. Assim, cada amostra terá a mesma probabilidade de ser selecionada.\n",
    "\n",
    "---"
   ]
  },
  {
   "attachments": {},
   "cell_type": "markdown",
   "metadata": {},
   "source": [
    "# KNN por trás dos panos"
   ]
  },
  {
   "cell_type": "code",
   "execution_count": 10,
   "metadata": {},
   "outputs": [],
   "source": [
    "xmaria = [[0,0,1,1,0,0,39.90,1,0,0,0,1,0,1,0,0,0,0,1,1,1,0,0,1,0,1,0,0,0,0,1,0,0,1,0,0,0,1]]"
   ]
  },
  {
   "cell_type": "code",
   "execution_count": 11,
   "metadata": {},
   "outputs": [],
   "source": [
    "#Ymaria = ?"
   ]
  },
  {
   "cell_type": "code",
   "execution_count": 12,
   "metadata": {},
   "outputs": [],
   "source": [
    "# Divisão em inputs e outputs\n",
    "x = dados_final.drop(\"Churn\", axis=1)\n",
    "y = dados_final[\"Churn\"]"
   ]
  },
  {
   "cell_type": "code",
   "execution_count": 13,
   "metadata": {},
   "outputs": [],
   "source": [
    "# Biblioteca para padronizar os dados\n",
    "from sklearn.preprocessing import StandardScaler"
   ]
  },
  {
   "cell_type": "code",
   "execution_count": 14,
   "metadata": {},
   "outputs": [
    {
     "data": {
      "text/plain": [
       "array([[ 1.03453023, -0.65401193, -3.05401039, ...,  1.40641839,\n",
       "        -0.54480692, -0.5298852 ],\n",
       "       [-0.96662231, -0.65401193,  0.32743831, ..., -0.71102597,\n",
       "         1.83551265, -0.5298852 ],\n",
       "       [-0.96662231, -0.65401193,  0.32743831, ..., -0.71102597,\n",
       "         1.83551265, -0.5298852 ],\n",
       "       ...,\n",
       "       [ 1.03453023,  1.5290241 , -3.05401039, ...,  1.40641839,\n",
       "        -0.54480692, -0.5298852 ],\n",
       "       [ 1.03453023, -0.65401193,  0.32743831, ..., -0.71102597,\n",
       "         1.83551265, -0.5298852 ],\n",
       "       [-0.96662231, -0.65401193,  0.32743831, ..., -0.71102597,\n",
       "        -0.54480692,  1.88720123]])"
      ]
     },
     "execution_count": 14,
     "metadata": {},
     "output_type": "execute_result"
    }
   ],
   "source": [
    "norm = StandardScaler()\n",
    "x_normalizado = norm.fit_transform(x)\n",
    "x_normalizado"
   ]
  },
  {
   "cell_type": "code",
   "execution_count": 15,
   "metadata": {},
   "outputs": [
    {
     "data": {
      "text/plain": [
       "array([ 1.03453023, -0.65401193, -3.05401039,  0.8297975 , -0.43991649,\n",
       "       -1.27744458, -1.16032292, -0.96332984,  3.05401039, -0.85417615,\n",
       "        1.38171215, -0.88565976, -0.52592737,  1.00669571, -0.52592737,\n",
       "       -0.63393298, -0.88361972, -0.52592737,  1.3782406 ,  1.12942721,\n",
       "       -0.52592737, -0.72396752,  1.0138687 , -0.52592737, -0.63943864,\n",
       "        1.2273572 , -0.52592737, -0.79013171,  1.23648892, -0.52592737,\n",
       "       -0.79607014, -0.56297505,  0.90418382, -0.51424938, -0.52504733,\n",
       "        1.40641839, -0.54480692, -0.5298852 ])"
      ]
     },
     "execution_count": 15,
     "metadata": {},
     "output_type": "execute_result"
    }
   ],
   "source": [
    "x_normalizado[0]"
   ]
  },
  {
   "cell_type": "code",
   "execution_count": 16,
   "metadata": {},
   "outputs": [
    {
     "data": {
      "text/plain": [
       "array([[-0.96662231, -0.65401193,  0.32743831,  0.8297975 , -0.43991649,\n",
       "        -1.31816495, -0.82630172,  1.03806605, -0.32743831, -0.85417615,\n",
       "        -0.72373975,  1.12910177, -0.52592737,  1.00669571, -0.52592737,\n",
       "        -0.63393298, -0.88361972, -0.52592737,  1.3782406 ,  1.12942721,\n",
       "         1.90140322, -0.72396752, -0.98632101,  1.90140322, -0.63943864,\n",
       "         1.2273572 , -0.52592737, -0.79013171, -0.80874158, -0.52592737,\n",
       "         1.25617071, -0.56297505, -1.1059698 ,  1.94458183, -0.52504733,\n",
       "        -0.71102597, -0.54480692,  1.88720123]])"
      ]
     },
     "execution_count": 16,
     "metadata": {},
     "output_type": "execute_result"
    }
   ],
   "source": [
    "xmaria_normalizado = norm.transform(pd.DataFrame(xmaria, columns=x.columns))\n",
    "xmaria_normalizado"
   ]
  },
  {
   "attachments": {},
   "cell_type": "markdown",
   "metadata": {},
   "source": [
    "---\n",
    "## Distância Euclidiana:\n",
    "$$\\LARGE\\sqrt{\\sum_{i=1}^k (a_i - b_i)^2}$$\n",
    "\n",
    "---"
   ]
  },
  {
   "cell_type": "code",
   "execution_count": 17,
   "metadata": {},
   "outputs": [],
   "source": [
    "import numpy as np"
   ]
  },
  {
   "cell_type": "code",
   "execution_count": 18,
   "metadata": {},
   "outputs": [
    {
     "data": {
      "text/plain": [
       "numpy.ndarray"
      ]
     },
     "execution_count": 18,
     "metadata": {},
     "output_type": "execute_result"
    }
   ],
   "source": [
    "a = xmaria_normalizado\n",
    "type(a)"
   ]
  },
  {
   "cell_type": "code",
   "execution_count": 19,
   "metadata": {},
   "outputs": [
    {
     "data": {
      "text/plain": [
       "numpy.ndarray"
      ]
     },
     "execution_count": 19,
     "metadata": {},
     "output_type": "execute_result"
    }
   ],
   "source": [
    "b = x_normalizado[0]\n",
    "type(b)"
   ]
  },
  {
   "cell_type": "code",
   "execution_count": 20,
   "metadata": {},
   "outputs": [
    {
     "data": {
      "text/plain": [
       "array([[-2.00115254,  0.        ,  3.3814487 ,  0.        ,  0.        ,\n",
       "        -0.04072036,  0.3340212 ,  2.00139589, -3.3814487 ,  0.        ,\n",
       "        -2.10545189,  2.01476153,  0.        ,  0.        ,  0.        ,\n",
       "         0.        ,  0.        ,  0.        ,  0.        ,  0.        ,\n",
       "         2.42733059,  0.        , -2.00018971,  2.42733059,  0.        ,\n",
       "         0.        ,  0.        ,  0.        , -2.0452305 ,  0.        ,\n",
       "         2.05224086,  0.        , -2.01015362,  2.45883121,  0.        ,\n",
       "        -2.11744436,  0.        ,  2.41708643]])"
      ]
     },
     "execution_count": 20,
     "metadata": {},
     "output_type": "execute_result"
    }
   ],
   "source": [
    "# 1 - começamos subtraindo\n",
    "a - b"
   ]
  },
  {
   "cell_type": "code",
   "execution_count": 21,
   "metadata": {},
   "outputs": [
    {
     "data": {
      "text/plain": [
       "array([[4.00461149e+00, 0.00000000e+00, 1.14341953e+01, 0.00000000e+00,\n",
       "        0.00000000e+00, 1.65814802e-03, 1.11570160e-01, 4.00558550e+00,\n",
       "        1.14341953e+01, 0.00000000e+00, 4.43292768e+00, 4.05926401e+00,\n",
       "        0.00000000e+00, 0.00000000e+00, 0.00000000e+00, 0.00000000e+00,\n",
       "        0.00000000e+00, 0.00000000e+00, 0.00000000e+00, 0.00000000e+00,\n",
       "        5.89193381e+00, 0.00000000e+00, 4.00075888e+00, 5.89193381e+00,\n",
       "        0.00000000e+00, 0.00000000e+00, 0.00000000e+00, 0.00000000e+00,\n",
       "        4.18296779e+00, 0.00000000e+00, 4.21169253e+00, 0.00000000e+00,\n",
       "        4.04071758e+00, 6.04585093e+00, 0.00000000e+00, 4.48357062e+00,\n",
       "        0.00000000e+00, 5.84230682e+00]])"
      ]
     },
     "execution_count": 21,
     "metadata": {},
     "output_type": "execute_result"
    }
   ],
   "source": [
    "# 2 - depois realizamos a exponenciação\n",
    "np.square(a-b)"
   ]
  },
  {
   "cell_type": "code",
   "execution_count": 22,
   "metadata": {},
   "outputs": [
    {
     "data": {
      "text/plain": [
       "84.07574038273466"
      ]
     },
     "execution_count": 22,
     "metadata": {},
     "output_type": "execute_result"
    }
   ],
   "source": [
    "# 3 - a soma\n",
    "np.sum(np.square(a-b))"
   ]
  },
  {
   "cell_type": "code",
   "execution_count": 23,
   "metadata": {},
   "outputs": [
    {
     "data": {
      "text/plain": [
       "9.169282435541762"
      ]
     },
     "execution_count": 23,
     "metadata": {},
     "output_type": "execute_result"
    }
   ],
   "source": [
    "# 4 - então tiramos a raiz e temos nossa distância\n",
    "np.sqrt(np.sum(np.square(a-b)))"
   ]
  },
  {
   "attachments": {},
   "cell_type": "markdown",
   "metadata": {},
   "source": [
    "---\n",
    "# Para saber mais: funções de distância\n",
    "\n",
    "No algoritmo KNN, para que seja feita a classificação dos registros com base nos vizinhos mais próximos, é necessário utilizar alguma medida para identificar o quão próximo o registro está dos seus vizinhos. Existem diversas medidas para se avaliar essa proximidade entre variáveis numéricas que recebem o nome de medidas de distância. Quanto maios o valor dessa medida, mais distante um elemento está do outro, ou seja, menor a similaridade entre eles.\n",
    "\n",
    "Considere a tabela a seguir com duas observações e n variáveis para o entendimento das medidas de distância.\n",
    "\n",
    "| Observação | Variável 1 | Variável 2 | ... | Variável n |\n",
    "| --- | --- | --- | --- | --- |\n",
    "| X | X1 | X2 | ... | Xn |\n",
    "| Y | Y1 | Y2 | ... | Yn |\n",
    "\n",
    "* ### Distância Euclidiana\n",
    "\n",
    "A medida de distância mais conhecida e usada é a **distância euclidiana**. Ela consiste em subtrair as coordenadas de uma observação pela outra observação, elevar ao quadrado os resultados, somar todos os valores e extrair a raiz quadrada.\n",
    "\n",
    "$$\\Large d = \\sqrt{(X_1 - Y_1)^2 + ... + (X_n - Y_n)^2}$$\n",
    "\n",
    "* ### Distância de Manhattan\n",
    "\n",
    "Uma distância que considera apenas a soma dos módulos das diferenças entre cada par de coordenadas.\n",
    "\n",
    "$$\\Large d = |X_1 - Y_1| + ... + |X_n - Y_n|$$\n",
    "\n",
    "* ### Distância de Minkowski\n",
    "\n",
    "Uma medida de distância que é a generalização de outras distâncias, como a distância euclidiana e a de Manhattan. Consiste em extrair o módulo da diferença entre cada par de coordenadas elevando o resultado a m, realizar a soma de todos os termos e, por fim, tirar a raiz m-ésima, em que m é um número qualquer. A distância euclidiana é um caso à parte quando m é igual a 2 e a distância de Manhattan é um caso à parte quando m é igual a 1.\n",
    "\n",
    "$$\\Large d = \\sqrt[m]{|X_1 - Y_1|^m + ... + |X_n - Y_n|^m}$$\n",
    "\n",
    "* ### Distância de Chebyshev\n",
    "\n",
    "É uma medida de distância que considera apenas o valor máximo entre os módulos das diferenças entre as variáveis. Dessa forma, leva em consideração apenas a variável que possui a maior diferença de valores entre as duas observações.\n",
    "\n",
    "$$\\Large d = máx{|X_1 - Y_1|, ..., |X_n - Y_n|}$$\n",
    "\n",
    "Existem diversas outras medidas de distância que podem ser calculadas e cada uma delas impacta diretamente no resultado do modelo. As distâncias apresentadas aqui podem ser utilizadas no algoritmo KNN do scikit-learn, sendo a distância de Minkowski a medida de distância padrão ao instanciar o algoritmo, como pode ser checado na [documentação](https://scikit-learn.org/stable/modules/generated/sklearn.neighbors.KNeighborsClassifier.html).\n",
    "\n",
    "Podemos modificar a medida de distância utilizando o argumento `metric` da função `sklearn.neighbors.KNeighborsClassifier`. Com base nas medidas que foram apresentadas no texto, o parâmetro pode receber os seguintes valores:\n",
    "\n",
    "    * \"euclidean\" para a distância euclidiana;\n",
    "    * \"manhattan\" para a distância de Manhattan;\n",
    "    * \"minkowski\" para a distância de Minkowski;\n",
    "    * \"chebyshev\" para a distância de Chebyshev.\n",
    "\n",
    "Caso tenha interesse em descobrir o funcionamento ou outras medidas de distância que podem ser utilizadas, confira a documentação do [sklearn.metrics.DistanceMetric](https://scikit-learn.org/stable/modules/generated/sklearn.metrics.DistanceMetric.html#sklearn.metrics.DistanceMetric).\n",
    "\n",
    "---"
   ]
  },
  {
   "attachments": {},
   "cell_type": "markdown",
   "metadata": {},
   "source": [
    "### Implementando o modelo"
   ]
  },
  {
   "cell_type": "code",
   "execution_count": 24,
   "metadata": {},
   "outputs": [],
   "source": [
    "# Biblioteca para divisão dos dados\n",
    "from sklearn.model_selection import train_test_split"
   ]
  },
  {
   "cell_type": "code",
   "execution_count": 25,
   "metadata": {},
   "outputs": [],
   "source": [
    "x_treino, x_teste, y_treino, y_teste = train_test_split(x_normalizado, y,\n",
    "                                                        test_size=0.3, random_state=123)"
   ]
  },
  {
   "attachments": {},
   "cell_type": "markdown",
   "metadata": {},
   "source": [
    "### Treino e teste  "
   ]
  },
  {
   "cell_type": "code",
   "execution_count": 26,
   "metadata": {},
   "outputs": [],
   "source": [
    "# Biblioteca para criarmos o mmodelo de machine learning\n",
    "from sklearn.neighbors import KNeighborsClassifier"
   ]
  },
  {
   "cell_type": "code",
   "execution_count": 27,
   "metadata": {},
   "outputs": [],
   "source": [
    "# Instanciar o modelo (criamos o modelo) - por padrão são 5 vizinhos\n",
    "knn = KNeighborsClassifier(metric=\"euclidean\")"
   ]
  },
  {
   "cell_type": "code",
   "execution_count": 28,
   "metadata": {},
   "outputs": [
    {
     "data": {
      "text/plain": [
       "KNeighborsClassifier(metric='euclidean')"
      ]
     },
     "execution_count": 28,
     "metadata": {},
     "output_type": "execute_result"
    }
   ],
   "source": [
    "# Treinando o modelo com os dados de treino\n",
    "knn.fit(x_treino, y_treino)"
   ]
  },
  {
   "cell_type": "code",
   "execution_count": 29,
   "metadata": {},
   "outputs": [
    {
     "data": {
      "text/plain": [
       "array([1, 0, 0, ..., 0, 0, 0])"
      ]
     },
     "execution_count": 29,
     "metadata": {},
     "output_type": "execute_result"
    }
   ],
   "source": [
    "# Testando o modelo com os dados de teste\n",
    "predito_knn = knn.predict(x_teste)\n",
    "predito_knn"
   ]
  },
  {
   "attachments": {},
   "cell_type": "markdown",
   "metadata": {},
   "source": [
    "## KNN mão na massa"
   ]
  },
  {
   "cell_type": "code",
   "execution_count": 30,
   "metadata": {},
   "outputs": [
    {
     "data": {
      "text/plain": [
       "[9.169282435541762,\n",
       " 8.742314068192332,\n",
       " 7.96104771727276,\n",
       " 9.683687116435184,\n",
       " 7.35756725091328,\n",
       " 8.58650261645753,\n",
       " 8.411628863624525,\n",
       " 10.145869884558158,\n",
       " 8.97159048640628,\n",
       " 7.5587041367106105]"
      ]
     },
     "execution_count": 30,
     "metadata": {},
     "output_type": "execute_result"
    }
   ],
   "source": [
    "import numpy as np\n",
    "\n",
    "def calcula_distancia(dados_clientes, dados_maria, numero_clientes):\n",
    "    distancias = []\n",
    "\n",
    "    # loop para percorrer cliente por cliente\n",
    "    for i in range(numero_clientes):\n",
    "        dist1 = dados_maria - dados_clientes[i] # subtração dos atributos\n",
    "        soma_quadrado = np.sum(np.square(dist1)) # exponenciação e soma dos atributos\n",
    "        distancias.append(np.sqrt(soma_quadrado)) # raiz quadrada da soma anterior\n",
    "\n",
    "    return distancias\n",
    "\n",
    "calcula_distancia(x_normalizado, xmaria_normalizado, 10)"
   ]
  },
  {
   "attachments": {},
   "cell_type": "markdown",
   "metadata": {},
   "source": [
    "---\n",
    "### Fórmula do teorema de Naïve Bayes:\n",
    "\n",
    "$$\\Large P(y|X) = \\dfrac{P(X|y) * P(y)}{P(X)}$$"
   ]
  },
  {
   "attachments": {},
   "cell_type": "markdown",
   "metadata": {},
   "source": [
    "---\n",
    "### Multivariada de Bernoulli:\n",
    "\n",
    "$$\\Large P(x_i|y) = P(i|y)x_i + (1 - P(i|y))(1 - x_i)$$\n",
    "\n",
    "#### Os dados estão em variáveis binárias.\n",
    "---"
   ]
  },
  {
   "attachments": {},
   "cell_type": "markdown",
   "metadata": {},
   "source": [
    "### Para saber mais: probabilidade condicional e Bayes\n",
    "\n",
    "O teorema de Bayes é uma fórmula utilizada para calcular a probabilidade de um evento ocorrer sabendo que um outro evento, chamado de condicionante, já ocorreu, denominado **probabilidade condicional**. Sua notação é dada por P(A|B), que significa a probabilidade de A dado que B já aconteceu e é definido pela seguinte equação:\n",
    "\n",
    "$$\\Large P(A|B) = \\dfrac{P(B|A) * P(A)}{P(B)}$$\n",
    "\n",
    "Onde:\n",
    "\n",
    "    * P(B|A): probabilidade de B acontecer dado que A já aconteceu;\n",
    "    * P(A): probabilidade de A acontecer;\n",
    "    * P(B): probabilidade de B acontecer.\n",
    "\n",
    "Falando dessa forma, pode ficar complicado de visualizar na prática o que isso realmente significa. Como o teorema de Bayes envolve probabilidade, pode ser aplicado a inúmeros contextos. Vamos utilizar aqui um exemplo envolvendo a área da saúde, mas o teorema poderia ser utilizado em outras áreas. Considere o exemplo:\n",
    "\n",
    "| | Covid-19 (5%) | Sem Covid-19 (95%) |\n",
    "| --- | --- | --- |\n",
    "| Teste positivo | 85% | 10% |\n",
    "| Teste negativo | 15% | 90% |\n",
    "\n",
    "Primeiramente, vamos entender o que está na tabela. Sabemos, através de pesquisas realizadas anteriormente, que há uma probabilidade de 5% de ter Covid-19. Consequentemente, há uma probabilidade de 95% de não ter. Quem tem a doença está na coluna \"Covid-19 (5%)\" e possui uma probabilidade de 85% de testar positivo e 15% de negativo. Já quem não tem está na coluna \"Sem Covid-19 (95%)\" e possui uma possibilidade de 10% de testar positivo e 90% de negativo.\n",
    "\n",
    "De posse dessas informações, vamos repsonder à pergunta:\n",
    "quais as chances de ter Covid-19 dado que o teste deu positivo?\n",
    "\n",
    "    * Evento A: ter Covid-19\n",
    "    * Evento B positivo no teste (evento condicionante)\n",
    "\n",
    "Utilizando a fórmula apresentada anteriormente, precisamos definir algumas probabilidades, como:\n",
    "\n",
    "    * P(B|A): probabilidade do teste ser positivo dado que a pessoa tem Covid-19, que é de 85% ou 0.85, de acordo com a tabela.\n",
    "    * P(A): probabilidade de ter Covid-19. Observando a tabela, temos que é de 5%, ou 0.05.\n",
    "    * P(B): a probabilidade do teste ser positivo.\n",
    "\n",
    "A P(B) não conseguimos encontrar diretamente na tabela, pois a probabilidade do teste ser positivo pode acontecer quando a pessoa testada possui a doença ou não (chamado também de complementar). Logo, a probabilidade P(B) pode ser calculada como:\n",
    "\n",
    "$$\\Large P(B) = P(B|A) * P(A) + P(B|A^c) * P(A^c)$$\n",
    "\n",
    "    * P(B|AC): probabilidade do teste ser positivo dado que a pessoa não possui Covid-19, que é 10% ou 0.1.\n",
    "    * P(AC): probabilidade da pessoa não ter Covid-19, que é 95% ou 0.95.\n",
    "\n",
    "Novamente, as informções acima foram retiradas diretamente da tabela. Pronto, agora temos todas as informações que precisamos. Colocando na equação temos que:\n",
    "\n",
    "$$\\Large P(A|B) = \\dfrac{P(B|A) * P(A)}{P(B)} = \\dfrac{0.85 * 0.05}{0.1375} = 0.31$$\n",
    "\n",
    "Logo, as chances de ter Covid-19, dado que o teste deu positivo, são de 31%.\n",
    "\n",
    "---"
   ]
  },
  {
   "attachments": {},
   "cell_type": "markdown",
   "metadata": {},
   "source": [
    "# Treinamento e teste"
   ]
  },
  {
   "cell_type": "code",
   "execution_count": 31,
   "metadata": {},
   "outputs": [
    {
     "data": {
      "text/plain": [
       "array([[-0.96662231, -0.65401193, -3.05401039, ...,  1.40641839,\n",
       "        -0.54480692, -0.5298852 ],\n",
       "       [-0.96662231,  1.5290241 ,  0.32743831, ...,  1.40641839,\n",
       "        -0.54480692, -0.5298852 ],\n",
       "       [-0.96662231, -0.65401193,  0.32743831, ..., -0.71102597,\n",
       "         1.83551265, -0.5298852 ],\n",
       "       ...,\n",
       "       [ 1.03453023,  1.5290241 ,  0.32743831, ...,  1.40641839,\n",
       "        -0.54480692, -0.5298852 ],\n",
       "       [ 1.03453023,  1.5290241 , -3.05401039, ..., -0.71102597,\n",
       "         1.83551265, -0.5298852 ],\n",
       "       [-0.96662231, -0.65401193,  0.32743831, ...,  1.40641839,\n",
       "        -0.54480692, -0.5298852 ]])"
      ]
     },
     "execution_count": 31,
     "metadata": {},
     "output_type": "execute_result"
    }
   ],
   "source": [
    "x_treino"
   ]
  },
  {
   "cell_type": "code",
   "execution_count": 32,
   "metadata": {},
   "outputs": [
    {
     "data": {
      "text/plain": [
       "1479    0\n",
       "2377    0\n",
       "6613    0\n",
       "6468    0\n",
       "2668    1\n",
       "       ..\n",
       "5218    0\n",
       "4060    0\n",
       "1346    1\n",
       "3454    0\n",
       "3582    0\n",
       "Name: Churn, Length: 4930, dtype: int64"
      ]
     },
     "execution_count": 32,
     "metadata": {},
     "output_type": "execute_result"
    }
   ],
   "source": [
    "y_treino"
   ]
  },
  {
   "cell_type": "code",
   "execution_count": 33,
   "metadata": {},
   "outputs": [
    {
     "data": {
      "text/plain": [
       "-0.5259273725834717"
      ]
     },
     "execution_count": 33,
     "metadata": {},
     "output_type": "execute_result"
    }
   ],
   "source": [
    "# Escolho utilizar mediana, porque é o valor central dos nossos dados ordenados\n",
    "np.median(x_treino)"
   ]
  },
  {
   "cell_type": "code",
   "execution_count": 34,
   "metadata": {},
   "outputs": [],
   "source": [
    "# Biblioteca para criamos o modelo de machine learning\n",
    "from sklearn.naive_bayes import BernoulliNB"
   ]
  },
  {
   "cell_type": "code",
   "execution_count": 35,
   "metadata": {},
   "outputs": [],
   "source": [
    "# Criamos o modelo\n",
    "bnb = BernoulliNB(binarize=-0.5259273725834717)"
   ]
  },
  {
   "cell_type": "code",
   "execution_count": 36,
   "metadata": {},
   "outputs": [
    {
     "data": {
      "text/plain": [
       "BernoulliNB(binarize=-0.5259273725834717)"
      ]
     },
     "execution_count": 36,
     "metadata": {},
     "output_type": "execute_result"
    }
   ],
   "source": [
    "bnb.fit(x_treino, y_treino)"
   ]
  },
  {
   "cell_type": "code",
   "execution_count": 37,
   "metadata": {},
   "outputs": [
    {
     "data": {
      "text/plain": [
       "array([1, 0, 0, ..., 0, 1, 0])"
      ]
     },
     "execution_count": 37,
     "metadata": {},
     "output_type": "execute_result"
    }
   ],
   "source": [
    "predito_bnb = bnb.predict(x_teste)\n",
    "predito_bnb"
   ]
  },
  {
   "attachments": {},
   "cell_type": "markdown",
   "metadata": {},
   "source": [
    "# Árvore de Decisão ou Decision Tree"
   ]
  },
  {
   "attachments": {},
   "cell_type": "markdown",
   "metadata": {},
   "source": [
    "### Critérios de divisão de nós:\n",
    "\n",
    "    * Índice Gini\n",
    "    * Qui-Quadrado\n",
    "    * Ganho de informação (entropia)\n",
    "    * Redução na variância"
   ]
  },
  {
   "attachments": {},
   "cell_type": "markdown",
   "metadata": {},
   "source": [
    "---\n",
    "## Índice Gini:\n",
    "\n",
    "$$\\Large G(node) = \\sum_{k=1}^c p_k(1 - p_k)$$\n",
    "\n",
    "$p_k$ = Probabilidade de ocorrência de um dado da classe k\n",
    "\n",
    "$(1 - p_k)$ = Probabilidade de não ocorrência de um dado da classe k"
   ]
  },
  {
   "attachments": {},
   "cell_type": "markdown",
   "metadata": {},
   "source": [
    "---\n",
    "## Entropia:\n",
    "\n",
    "$$\\Large Entropy(node) = -\\sum_{i=1}^c p_k log(p_k)$$\n",
    "\n",
    "---"
   ]
  },
  {
   "attachments": {},
   "cell_type": "markdown",
   "metadata": {},
   "source": [
    "## Para saber mais: como funciona a árvore de decisão?\n",
    "\n",
    "Se você está se sentindo doente, mas não faz ideia do que possa ser, quando você vai ao médico são feitas uma série de perguntas (dor de cabeça? Febre? Tosse?...). Ao final da série de perguntas realizadas pelo médioco é emitido um parecer informando qual a causa dos sintomas. Nessa situação apresentada foi seguido o mesmo princípio utililzado em um estimador chamado **árvore de decisão**.\n",
    "\n",
    "Árvore de decisão é um dos modelos de previsão mais simples, inspirada na forma que os seres humanos tomam as decisões e tem uma alta interpretabilidade, ou seja, uma compreensão fácil dos passos que foram realizados para conseguir chegar ao resultado final. Ela pode ser utilizada tanto para modelos de regressão, que têm intuito de prever valores numéricos, quanto para modelos de classificação, que têm intuito de prever categorias.\n",
    "\n",
    "Graficamente, a árvore de decisão pode ser representada de forma que cada uma das decisões tomadas no processo possam ser visualizadas. Seus elementos principais são os **nós**, **ramos** e **folhas**. A estrutura da árvore se inicia com um **nó inicial**, também chamado de **raiz**. A partir dela são traçadas **ramificações**, que geram novos nós e o processo se repete para os nós subsequentes até que chegue a uma **folha**, que se trata de um nó especial que tem a informação da resposta, sendo ela uma categoria ou um valor previsto.\n",
    "\n",
    "Cada ramo representa uma tomada de decisão a partir de um valor ou de uma categoria das variáveis explicativas, dividindo o conjunto de dados em nós que apresentam dados com características cada vez mais similares entre si.\n",
    "\n",
    "Para que fiquem mais compreensíveis esses conceitos, vamos a um exemplo.\n",
    "\n",
    "![Orientações sobra a Covid-19](https://caelum-online-public.s3.amazonaws.com/2422-machine-learning/04/Aula4-img1.png)\n",
    "\n",
    "Na imagem de exemplo, temos umma orientação sobre Covid-19 para que as pessoas sejam direcionadas a ficarem isoladas ou não. A raiz ou nó inicial representa a pergunta se a pessoa está com sintomas de Covid-19, como aquelas perguntas realizadas pelo médico indicadas no início desse texto. A pergunta é respondida através dos ramos que partem da raiz, separando as pessoas qeu possuem sintomas das pessoas que não possuem sintomas.\n",
    "\n",
    "O nó referente às pessoas que possuem sintomas se trata de um nó folha, com a decisão final de isolamento social. O nó referente às pessoas que não possuem sintomas se trata de um nó interno, que passa por um novo questionamento, criando assim novos ramos e nós. O processo se repete até que se chegue em decisões finais.\n",
    "\n",
    "Portanto, o esquema se trata de uma Árvore de Decisão, em que é possível detectar todas as escolhas que foram feitas para se chegar às conclusões finais. O algoritmo de computaodr seguirá esses mesmos princípios, tomando as decisões com base nas variáveis explicativas.\n",
    "\n",
    "### Critério de divisão dos nós\n",
    "\n",
    "Para conseguir identificar qual o melhor momento em que um nó deve ser dividido em dois ou mais subnós, o algoritmo da árvore de decisão considera alguns critérios. Os dois principais critérios de divisão usados nas árvores de decisão são:\n",
    "\n",
    "#### Índice Gini\n",
    "\n",
    "Este índice informa o **grau de heterogeneidade** dos dados. O objetivo dele é medir a frequência de um elemento aleatório de um nó ser rotulado de maneira incorreta. Em outros termos, esse índice é capaz de medir a impureza de um nó e ele é determinado por meio do seguinte cálculo:\n",
    "\n",
    "$$\\Large Gini = 1 - \\sum_{i=1}^k P(i)^2$$\n",
    "\n",
    "Onde:\n",
    "\n",
    "* $P(i)$ representa a frequência relativa das classes em cada um dos nós;\n",
    "\n",
    "* $k$ é o número de classes.\n",
    "\n",
    "Se o índice Gini for igual a 0, isso significa que o nó é puro. No entanto, se o valor dele se aproxima mais do valor 1, o nó é impuro.\n",
    "\n",
    "#### Entropia\n",
    "\n",
    "A ideia básica da entropia é medir a **desordem dos dados** de um nó por meio da variável classificadora. Assim como o índice Gini, ela é utilizada para caracterizar a impureza dos dados e pode ser calculada por meio da seguinte fórmula:\n",
    "\n",
    "$$\\Large Entropia = \\sum_{i=1}^c -p_i * log_2(p_i)$$\n",
    "\n",
    "Onde:\n",
    "\n",
    "*  $p_i$ representa a proporção de dados no conjunto de dados (S), pertencentes à classe específica $i$;\n",
    "\n",
    "* $c$ é o número de classes."
   ]
  },
  {
   "cell_type": "code",
   "execution_count": 38,
   "metadata": {},
   "outputs": [],
   "source": [
    "# Biblioteca para criarmos o modelo de machine learning\n",
    "from sklearn.tree import DecisionTreeClassifier"
   ]
  },
  {
   "cell_type": "code",
   "execution_count": 39,
   "metadata": {},
   "outputs": [],
   "source": [
    "# Instanciando o modelo\n",
    "dtc = DecisionTreeClassifier(criterion=\"entropy\", random_state=42)"
   ]
  },
  {
   "cell_type": "code",
   "execution_count": 40,
   "metadata": {},
   "outputs": [
    {
     "data": {
      "text/plain": [
       "DecisionTreeClassifier(criterion='entropy', random_state=42)"
      ]
     },
     "execution_count": 40,
     "metadata": {},
     "output_type": "execute_result"
    }
   ],
   "source": [
    "# Treinar o modelo\n",
    "dtc.fit(x_treino, y_treino)"
   ]
  },
  {
   "cell_type": "code",
   "execution_count": 41,
   "metadata": {},
   "outputs": [
    {
     "data": {
      "text/plain": [
       "array([0.03168742, 0.01862901, 0.00064085, 0.02675693, 0.0208788 ,\n",
       "       0.2056003 , 0.29546501, 0.0061786 , 0.00273035, 0.00747536,\n",
       "       0.        , 0.04908356, 0.        , 0.01609395, 0.        ,\n",
       "       0.00722833, 0.01220706, 0.        , 0.01248286, 0.01138295,\n",
       "       0.0006673 , 0.0095669 , 0.01841631, 0.        , 0.00650511,\n",
       "       0.00385849, 0.        , 0.00666929, 0.00517146, 0.        ,\n",
       "       0.00665371, 0.00473251, 0.15803541, 0.00348686, 0.01414378,\n",
       "       0.01601964, 0.01064163, 0.01091026])"
      ]
     },
     "execution_count": 41,
     "metadata": {},
     "output_type": "execute_result"
    }
   ],
   "source": [
    "# Verificar a importância de cada atributo\n",
    "dtc.feature_importances_"
   ]
  },
  {
   "cell_type": "code",
   "execution_count": 42,
   "metadata": {},
   "outputs": [
    {
     "data": {
      "text/plain": [
       "array([1, 0, 0, ..., 1, 0, 0])"
      ]
     },
     "execution_count": 42,
     "metadata": {},
     "output_type": "execute_result"
    }
   ],
   "source": [
    "predito_dtc = dtc.predict(x_teste)\n",
    "predito_dtc"
   ]
  },
  {
   "attachments": {},
   "cell_type": "markdown",
   "metadata": {},
   "source": [
    "## Validação dos modelos\n",
    "\n",
    "### Matriz de confusão\n",
    "\n",
    "![Matriz de Confusão](https://diegonogare.net/wp-content/uploads/2020/04/matrizConfusao-600x381.png)"
   ]
  },
  {
   "cell_type": "code",
   "execution_count": 43,
   "metadata": {},
   "outputs": [],
   "source": [
    "from sklearn.metrics import confusion_matrix"
   ]
  },
  {
   "cell_type": "code",
   "execution_count": 44,
   "metadata": {},
   "outputs": [
    {
     "name": "stdout",
     "output_type": "stream",
     "text": [
      "[[1302  221]\n",
      " [ 317  273]]\n"
     ]
    }
   ],
   "source": [
    "print(confusion_matrix(y_teste, predito_knn))"
   ]
  },
  {
   "cell_type": "code",
   "execution_count": 45,
   "metadata": {},
   "outputs": [
    {
     "name": "stdout",
     "output_type": "stream",
     "text": [
      "[[1051  472]\n",
      " [ 116  474]]\n"
     ]
    }
   ],
   "source": [
    "print(confusion_matrix(y_teste, predito_bnb))"
   ]
  },
  {
   "cell_type": "code",
   "execution_count": 46,
   "metadata": {},
   "outputs": [
    {
     "name": "stdout",
     "output_type": "stream",
     "text": [
      "[[1249  274]\n",
      " [ 290  300]]\n"
     ]
    }
   ],
   "source": [
    "print(confusion_matrix(y_teste, predito_dtc))"
   ]
  },
  {
   "attachments": {},
   "cell_type": "markdown",
   "metadata": {},
   "source": [
    "## Acurácia ou *Accuracy*\n",
    "\n",
    "A partir do cálculo da matriz de confusão conseguimos inferir outras métricas, como por exemplo a acurácia.\n",
    "\n",
    "$$\\Large ACC = \\dfrac{TP + TN}{TP + FP + TN + FN}$$"
   ]
  },
  {
   "cell_type": "code",
   "execution_count": 47,
   "metadata": {},
   "outputs": [],
   "source": [
    "from sklearn.metrics import accuracy_score"
   ]
  },
  {
   "cell_type": "code",
   "execution_count": 48,
   "metadata": {},
   "outputs": [
    {
     "name": "stdout",
     "output_type": "stream",
     "text": [
      "0.7453857075248462\n"
     ]
    }
   ],
   "source": [
    "# Modelo KNN\n",
    "print(accuracy_score(y_teste, predito_knn))"
   ]
  },
  {
   "cell_type": "code",
   "execution_count": 49,
   "metadata": {},
   "outputs": [
    {
     "name": "stdout",
     "output_type": "stream",
     "text": [
      "0.7217226691907241\n"
     ]
    }
   ],
   "source": [
    "# Modelo Bernoulli de Naïve Bayes\n",
    "print(accuracy_score(y_teste, predito_bnb))"
   ]
  },
  {
   "cell_type": "code",
   "execution_count": 50,
   "metadata": {},
   "outputs": [
    {
     "name": "stdout",
     "output_type": "stream",
     "text": [
      "0.7330809275911027\n"
     ]
    }
   ],
   "source": [
    "# Modelo Árvore de Decisão\n",
    "print(accuracy_score(y_teste, predito_dtc))"
   ]
  },
  {
   "attachments": {},
   "cell_type": "markdown",
   "metadata": {},
   "source": [
    "## Precisão ou *Precision*\n",
    "\n",
    "Outra métrica importante é a precisão, que calcula quantos foram classificados corretamente como positivos (**TP**).\n",
    "\n",
    "$$\\Large PS = \\dfrac{TP}{TP + FP}$$"
   ]
  },
  {
   "cell_type": "code",
   "execution_count": 51,
   "metadata": {},
   "outputs": [],
   "source": [
    "from sklearn.metrics import precision_score"
   ]
  },
  {
   "cell_type": "code",
   "execution_count": 52,
   "metadata": {},
   "outputs": [
    {
     "name": "stdout",
     "output_type": "stream",
     "text": [
      "0.5526315789473685\n"
     ]
    }
   ],
   "source": [
    "# Modelo KNN\n",
    "print(precision_score(y_teste, predito_knn))"
   ]
  },
  {
   "cell_type": "code",
   "execution_count": 53,
   "metadata": {},
   "outputs": [
    {
     "name": "stdout",
     "output_type": "stream",
     "text": [
      "0.5010570824524313\n"
     ]
    }
   ],
   "source": [
    "# Modelo Bernoulli de Naïve Bayes\n",
    "print(precision_score(y_teste, predito_bnb))"
   ]
  },
  {
   "cell_type": "code",
   "execution_count": 54,
   "metadata": {},
   "outputs": [
    {
     "name": "stdout",
     "output_type": "stream",
     "text": [
      "0.5226480836236934\n"
     ]
    }
   ],
   "source": [
    "# Modelo Árvor de Decisão\n",
    "print(precision_score(y_teste, predito_dtc))"
   ]
  },
  {
   "attachments": {},
   "cell_type": "markdown",
   "metadata": {},
   "source": [
    "## Recall"
   ]
  },
  {
   "attachments": {},
   "cell_type": "markdown",
   "metadata": {},
   "source": [
    "Outra métrica importante é a *Recall* ou revocação ou ainda sensibilidade, que calcula o quão bom o modelo está para classificar corretamente um resultado positivo (**TP**).\n",
    "\n",
    "$$\\Large RC = \\dfrac{TP}{TP + FN}$$"
   ]
  },
  {
   "cell_type": "code",
   "execution_count": 55,
   "metadata": {},
   "outputs": [],
   "source": [
    "from sklearn.metrics import recall_score"
   ]
  },
  {
   "cell_type": "code",
   "execution_count": 56,
   "metadata": {},
   "outputs": [
    {
     "name": "stdout",
     "output_type": "stream",
     "text": [
      "0.46271186440677964\n"
     ]
    }
   ],
   "source": [
    "# Modelo KNN\n",
    "print(recall_score(y_teste, predito_knn))"
   ]
  },
  {
   "cell_type": "code",
   "execution_count": 57,
   "metadata": {},
   "outputs": [
    {
     "name": "stdout",
     "output_type": "stream",
     "text": [
      "0.8033898305084746\n"
     ]
    }
   ],
   "source": [
    "# Modelo Bernoulli de Naïve Bayes\n",
    "print(recall_score(y_teste, predito_bnb))"
   ]
  },
  {
   "cell_type": "code",
   "execution_count": 58,
   "metadata": {},
   "outputs": [
    {
     "name": "stdout",
     "output_type": "stream",
     "text": [
      "0.5084745762711864\n"
     ]
    }
   ],
   "source": [
    "# Modelo Árvore de Decisão\n",
    "print(recall_score(y_teste, predito_dtc))"
   ]
  },
  {
   "attachments": {},
   "cell_type": "markdown",
   "metadata": {},
   "source": [
    "## Para saber mais: outras métricas\n",
    "\n",
    "### F1 score\n",
    "\n",
    "Além da acurácia, precisão e *recall*, podemos extrair da matriz de confusão uma outra métrica conhecida como **F1 score**, que é uma média harmônica entre o *recall* e a precisão. O *recall* e a precisão são grandezas inversamente proporcionais, ou seja, à medida que vai aumentando o *recall*, por consequência irá diminuir a precisão e vice-versa.\n",
    "\n",
    "o *F1 score* é uma métrica para identificar se algum dos valores de *recall* ou precisão estão baixos, uma vez que não é muito interessante ter um modelo com um alto *recall* e pouca precisão, ou vice-versa. Então, caso sua intenção seja obter um valor equilibrado entre o *recall* e a precisão, a métrica que precisamos maximizar é o *F1 score*.\n",
    "\n",
    "Para calcular, devemos utilizar a fórmula:\n",
    "\n",
    "$$\\Large F1 = 2 * \\dfrac{precision * recall}{precision + recall}$$\n",
    "\n",
    "### Curva ROC e AUC\n",
    "\n",
    "Existe ainda uma métrica conhecida como AUC (Area Under the Curve), ou área sob a curva, que pode ser extraída da curva ROC. Essa métrica tem valor máximo de 1 e quanto maior o número mas bem avaliado será o modelo de classificação. Para a construção da curva ROC, precisamos utilizar diferentes pontos de corte para avaliação do modelo de classificação.\n",
    "\n",
    "É possível criar diferentes matrizes de confusão a partir dos diversos pontos de corte e extrair as métricas de *recall* (taxa de verdadeiros positivos) e taxa de falsos positivos. Sendo esta última, o valor de falsos positivos divido pela soma de todos os valores negativos reais. Essas métricas podem ser sumarizadas em uma tabela e serão as coordenadas da curva ROC. Vamos entender como funcionam esses pontos de corte.\n",
    "\n",
    "Na construção de um modelo de classificação, a predição de uma classe está atrelada a uma probabilidade. Imagine que temos uma variável alvo com duas possibilidades (0 ou 1). Se um modelo classifica uma observação como 1, significa que há uma probabilidade de x% de que aquela observação seja da classe 1.\n",
    "\n",
    "O ponto de corte é um valor de probabilidade no qual, se a probabilidade de predição for maior que esse valor, atribui-se a observação à classe 1. Se for menor, atribui-se a observação à classe 0. À medida que o ponto de corte varia, os resultados obtidos na classificação se tornam diferentes, fazendo com que o modelo acerte mais de uma classe em troca de errar mais em outra.\n",
    "\n",
    "Através de um exemplo, ficará evidente como os pontos de corte modificam as métricas da matriz de confusão. Na imagem abaixo estão representados a precisão e o *recall*. Nela estão definidos 3 pontos de corte em 25%, 50% e 75%, representados pelas setas verticais. Os zeros e uns são os valores reais das classes e a classificação será feita através dos pontos de corte. Os valores à esquerda da seta serão classificados como 0 e os valores à direita serão classificados como 1 pelo modelo.\n",
    "\n",
    "![Diferentes pontos de corte](https://caelum-online-public.s3.amazonaws.com/2422-machine-learning/05/Aula5-img3.png)\n",
    "\n",
    "No primeiro ponto de corte temos 3 valores cassificados como 0, à esquerda; e 9 valores como 1, à direita. A precisão é dada por 5/(5+4) = 55,5%, mostrando que 5 valores foram classificados corretamente como 1, dentre 9 valores totais classificados como 1. O *recall* é dado por 5/(5+1) = 83%, indicando que 5 valores foram classificados corretamente como 1, dentre 6 valores reais 1 no conjunto de dados.\n",
    "\n",
    "No segundo ponto de corte temos 6 valores cassificados como 0 à esquerda; e 6 valores classificados como 1, à direita. A precisão é dada por 4/(4+2) = 66,6%, apontando que 4 valores foram classificados corretamente como 1, dentre 6 valores totais classificados como 1. O *recall* é dado por 4/(4+2) = 66,6%, demonstrando que 4 valores foram classificados corretamente como 1, dentre 6 valores reais 1 no conjunto de dados. O mesmo raciocínio pode ser aplicado para o último ponto de corte, resultando em valores diferentes para as métricas.\n",
    "\n",
    "Para cada ponto de corte, uma matriz de confusão pode ser criada e as métricas podem ser extraídas em uma tabela, na qual cada linha representa um ponto de corte com suas respectivas métricas. Desta tabela, pode ser construído o gráfico da curva ROC. Esta curva mostra como o classificador se comporta para diferentes valores de pontos de corte, de acordo com a relação de verdadeiros positivos e falsos positivos.\n",
    "\n",
    "![TP Rate & FP Rate](https://caelum-online-public.s3.amazonaws.com/2422-machine-learning/05/Aula5-img4.png)\n",
    "\n",
    "Existe uma linha de referência na diagonal do gráfico que corresponde à uma linha de base e representa o caso no qual o classificador identifica aleatoriamente as classes. Mas como podemos interpretar esse gráfico?\n",
    "\n",
    "Percebemos que a linha representando o classificador *RandomForestClassifier* cresce rapidamente até atingir o valor máximo de *True Positive Rate* (o *recall*). Isso significa que o modelo atinge 100% de classificação correta dos positivos e permanece até atingir o ponto (1,1) do gráfico. Esse ponto nos diz que o modelo tem 100% de *True Positive Rate* e 100% de *False Positive Rate* (taxa de falso negativo), indicando que ele classifica todas as amostras positivas corretamente e todas as amostras que não são positivas foram incorretamente classificadas.\n",
    "\n",
    "Então, quando o modelo chega no 100% de *True Positive Rate* e lá permanece até atingir o 100% do *False Positive Rate*, ele consegue classificar todas as amostras positivas de forma correta independente do *threshold* adotado. Por outro lado, a linha representando o classificador *DecisionTreeClassifier* demora mais pra chegar no 100% de *True Positive Rate*. Porém, quando chega no valor máximo, permanece igual à do classificador anterior.\n",
    "\n",
    "Esse pequeno atraso do *DecisionTreeClassifier* em relação ao *RandomForestClassifier* resulta em áreas diferentes, que são as AUCs para cada classificador. O primeiro teve uma AUC de 0.914 e o segundo 0.979. Portanto, esse último é o melhor classificador."
   ]
  },
  {
   "cell_type": "markdown",
   "metadata": {},
   "source": []
  }
 ],
 "metadata": {
  "kernelspec": {
   "display_name": "Python 3.9.15 64-bit",
   "language": "python",
   "name": "python3"
  },
  "language_info": {
   "codemirror_mode": {
    "name": "ipython",
    "version": 3
   },
   "file_extension": ".py",
   "mimetype": "text/x-python",
   "name": "python",
   "nbconvert_exporter": "python",
   "pygments_lexer": "ipython3",
   "version": "3.9.15"
  },
  "orig_nbformat": 4,
  "vscode": {
   "interpreter": {
    "hash": "aee8b7b246df8f9039afb4144a1f6fd8d2ca17a180786b69acc140d282b71a49"
   }
  }
 },
 "nbformat": 4,
 "nbformat_minor": 2
}
