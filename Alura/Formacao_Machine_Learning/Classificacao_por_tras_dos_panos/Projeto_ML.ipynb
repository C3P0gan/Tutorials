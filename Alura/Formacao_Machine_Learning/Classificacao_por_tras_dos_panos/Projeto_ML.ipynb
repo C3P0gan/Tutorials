{
 "cells": [
  {
   "cell_type": "code",
   "execution_count": 2,
   "metadata": {},
   "outputs": [],
   "source": [
    "import pandas as pd"
   ]
  },
  {
   "cell_type": "code",
   "execution_count": 3,
   "metadata": {},
   "outputs": [],
   "source": [
    "dados = pd.read_csv(\"data/Customer-Churn.csv\")"
   ]
  },
  {
   "cell_type": "code",
   "execution_count": 4,
   "metadata": {},
   "outputs": [
    {
     "data": {
      "text/plain": [
       "(7043, 18)"
      ]
     },
     "execution_count": 4,
     "metadata": {},
     "output_type": "execute_result"
    }
   ],
   "source": [
    "dados.shape"
   ]
  },
  {
   "cell_type": "code",
   "execution_count": 5,
   "metadata": {},
   "outputs": [
    {
     "data": {
      "text/html": [
       "<div>\n",
       "<style scoped>\n",
       "    .dataframe tbody tr th:only-of-type {\n",
       "        vertical-align: middle;\n",
       "    }\n",
       "\n",
       "    .dataframe tbody tr th {\n",
       "        vertical-align: top;\n",
       "    }\n",
       "\n",
       "    .dataframe thead th {\n",
       "        text-align: right;\n",
       "    }\n",
       "</style>\n",
       "<table border=\"1\" class=\"dataframe\">\n",
       "  <thead>\n",
       "    <tr style=\"text-align: right;\">\n",
       "      <th></th>\n",
       "      <th>Maior65Anos</th>\n",
       "      <th>Conjuge</th>\n",
       "      <th>Dependentes</th>\n",
       "      <th>MesesDeContrato</th>\n",
       "      <th>TelefoneFixo</th>\n",
       "      <th>VariasLinhasTelefonicas</th>\n",
       "      <th>ServicoDeInternet</th>\n",
       "      <th>SegurancaOnline</th>\n",
       "      <th>BackupOnline</th>\n",
       "      <th>SeguroNoDispositivo</th>\n",
       "      <th>SuporteTecnico</th>\n",
       "      <th>TVaCabo</th>\n",
       "      <th>StreamingDeFilmes</th>\n",
       "      <th>TipoDeContrato</th>\n",
       "      <th>PagamentoOnline</th>\n",
       "      <th>FormaDePagamento</th>\n",
       "      <th>ContaMensal</th>\n",
       "      <th>Churn</th>\n",
       "    </tr>\n",
       "  </thead>\n",
       "  <tbody>\n",
       "    <tr>\n",
       "      <th>0</th>\n",
       "      <td>0</td>\n",
       "      <td>Sim</td>\n",
       "      <td>Nao</td>\n",
       "      <td>1</td>\n",
       "      <td>Nao</td>\n",
       "      <td>SemServicoTelefonico</td>\n",
       "      <td>DSL</td>\n",
       "      <td>Nao</td>\n",
       "      <td>Sim</td>\n",
       "      <td>Nao</td>\n",
       "      <td>Nao</td>\n",
       "      <td>Nao</td>\n",
       "      <td>Nao</td>\n",
       "      <td>Mensalmente</td>\n",
       "      <td>Sim</td>\n",
       "      <td>ChequeDigital</td>\n",
       "      <td>29.85</td>\n",
       "      <td>Nao</td>\n",
       "    </tr>\n",
       "    <tr>\n",
       "      <th>1</th>\n",
       "      <td>0</td>\n",
       "      <td>Nao</td>\n",
       "      <td>Nao</td>\n",
       "      <td>34</td>\n",
       "      <td>Sim</td>\n",
       "      <td>Nao</td>\n",
       "      <td>DSL</td>\n",
       "      <td>Sim</td>\n",
       "      <td>Nao</td>\n",
       "      <td>Sim</td>\n",
       "      <td>Nao</td>\n",
       "      <td>Nao</td>\n",
       "      <td>Nao</td>\n",
       "      <td>UmAno</td>\n",
       "      <td>Nao</td>\n",
       "      <td>ChequePapel</td>\n",
       "      <td>56.95</td>\n",
       "      <td>Nao</td>\n",
       "    </tr>\n",
       "    <tr>\n",
       "      <th>2</th>\n",
       "      <td>0</td>\n",
       "      <td>Nao</td>\n",
       "      <td>Nao</td>\n",
       "      <td>2</td>\n",
       "      <td>Sim</td>\n",
       "      <td>Nao</td>\n",
       "      <td>DSL</td>\n",
       "      <td>Sim</td>\n",
       "      <td>Sim</td>\n",
       "      <td>Nao</td>\n",
       "      <td>Nao</td>\n",
       "      <td>Nao</td>\n",
       "      <td>Nao</td>\n",
       "      <td>Mensalmente</td>\n",
       "      <td>Sim</td>\n",
       "      <td>ChequePapel</td>\n",
       "      <td>53.85</td>\n",
       "      <td>Sim</td>\n",
       "    </tr>\n",
       "    <tr>\n",
       "      <th>3</th>\n",
       "      <td>0</td>\n",
       "      <td>Nao</td>\n",
       "      <td>Nao</td>\n",
       "      <td>45</td>\n",
       "      <td>Nao</td>\n",
       "      <td>SemServicoTelefonico</td>\n",
       "      <td>DSL</td>\n",
       "      <td>Sim</td>\n",
       "      <td>Nao</td>\n",
       "      <td>Sim</td>\n",
       "      <td>Sim</td>\n",
       "      <td>Nao</td>\n",
       "      <td>Nao</td>\n",
       "      <td>UmAno</td>\n",
       "      <td>Nao</td>\n",
       "      <td>DebitoEmConta</td>\n",
       "      <td>42.30</td>\n",
       "      <td>Nao</td>\n",
       "    </tr>\n",
       "    <tr>\n",
       "      <th>4</th>\n",
       "      <td>0</td>\n",
       "      <td>Nao</td>\n",
       "      <td>Nao</td>\n",
       "      <td>2</td>\n",
       "      <td>Sim</td>\n",
       "      <td>Nao</td>\n",
       "      <td>FibraOptica</td>\n",
       "      <td>Nao</td>\n",
       "      <td>Nao</td>\n",
       "      <td>Nao</td>\n",
       "      <td>Nao</td>\n",
       "      <td>Nao</td>\n",
       "      <td>Nao</td>\n",
       "      <td>Mensalmente</td>\n",
       "      <td>Sim</td>\n",
       "      <td>ChequeDigital</td>\n",
       "      <td>70.70</td>\n",
       "      <td>Sim</td>\n",
       "    </tr>\n",
       "  </tbody>\n",
       "</table>\n",
       "</div>"
      ],
      "text/plain": [
       "   Maior65Anos Conjuge Dependentes  MesesDeContrato TelefoneFixo  \\\n",
       "0            0     Sim         Nao                1          Nao   \n",
       "1            0     Nao         Nao               34          Sim   \n",
       "2            0     Nao         Nao                2          Sim   \n",
       "3            0     Nao         Nao               45          Nao   \n",
       "4            0     Nao         Nao                2          Sim   \n",
       "\n",
       "  VariasLinhasTelefonicas ServicoDeInternet SegurancaOnline BackupOnline  \\\n",
       "0    SemServicoTelefonico               DSL             Nao          Sim   \n",
       "1                     Nao               DSL             Sim          Nao   \n",
       "2                     Nao               DSL             Sim          Sim   \n",
       "3    SemServicoTelefonico               DSL             Sim          Nao   \n",
       "4                     Nao       FibraOptica             Nao          Nao   \n",
       "\n",
       "  SeguroNoDispositivo SuporteTecnico TVaCabo StreamingDeFilmes TipoDeContrato  \\\n",
       "0                 Nao            Nao     Nao               Nao    Mensalmente   \n",
       "1                 Sim            Nao     Nao               Nao          UmAno   \n",
       "2                 Nao            Nao     Nao               Nao    Mensalmente   \n",
       "3                 Sim            Sim     Nao               Nao          UmAno   \n",
       "4                 Nao            Nao     Nao               Nao    Mensalmente   \n",
       "\n",
       "  PagamentoOnline FormaDePagamento  ContaMensal Churn  \n",
       "0             Sim    ChequeDigital        29.85   Nao  \n",
       "1             Nao      ChequePapel        56.95   Nao  \n",
       "2             Sim      ChequePapel        53.85   Sim  \n",
       "3             Nao    DebitoEmConta        42.30   Nao  \n",
       "4             Sim    ChequeDigital        70.70   Sim  "
      ]
     },
     "execution_count": 5,
     "metadata": {},
     "output_type": "execute_result"
    }
   ],
   "source": [
    "dados.head()"
   ]
  },
  {
   "cell_type": "code",
   "execution_count": 6,
   "metadata": {},
   "outputs": [
    {
     "data": {
      "text/html": [
       "<div>\n",
       "<style scoped>\n",
       "    .dataframe tbody tr th:only-of-type {\n",
       "        vertical-align: middle;\n",
       "    }\n",
       "\n",
       "    .dataframe tbody tr th {\n",
       "        vertical-align: top;\n",
       "    }\n",
       "\n",
       "    .dataframe thead th {\n",
       "        text-align: right;\n",
       "    }\n",
       "</style>\n",
       "<table border=\"1\" class=\"dataframe\">\n",
       "  <thead>\n",
       "    <tr style=\"text-align: right;\">\n",
       "      <th></th>\n",
       "      <th>Conjuge</th>\n",
       "      <th>Dependentes</th>\n",
       "      <th>TelefoneFixo</th>\n",
       "      <th>PagamentoOnline</th>\n",
       "      <th>Churn</th>\n",
       "    </tr>\n",
       "  </thead>\n",
       "  <tbody>\n",
       "    <tr>\n",
       "      <th>0</th>\n",
       "      <td>1</td>\n",
       "      <td>0</td>\n",
       "      <td>0</td>\n",
       "      <td>1</td>\n",
       "      <td>0</td>\n",
       "    </tr>\n",
       "    <tr>\n",
       "      <th>1</th>\n",
       "      <td>0</td>\n",
       "      <td>0</td>\n",
       "      <td>1</td>\n",
       "      <td>0</td>\n",
       "      <td>0</td>\n",
       "    </tr>\n",
       "    <tr>\n",
       "      <th>2</th>\n",
       "      <td>0</td>\n",
       "      <td>0</td>\n",
       "      <td>1</td>\n",
       "      <td>1</td>\n",
       "      <td>1</td>\n",
       "    </tr>\n",
       "    <tr>\n",
       "      <th>3</th>\n",
       "      <td>0</td>\n",
       "      <td>0</td>\n",
       "      <td>0</td>\n",
       "      <td>0</td>\n",
       "      <td>0</td>\n",
       "    </tr>\n",
       "    <tr>\n",
       "      <th>4</th>\n",
       "      <td>0</td>\n",
       "      <td>0</td>\n",
       "      <td>1</td>\n",
       "      <td>1</td>\n",
       "      <td>1</td>\n",
       "    </tr>\n",
       "  </tbody>\n",
       "</table>\n",
       "</div>"
      ],
      "text/plain": [
       "   Conjuge  Dependentes  TelefoneFixo  PagamentoOnline  Churn\n",
       "0        1            0             0                1      0\n",
       "1        0            0             1                0      0\n",
       "2        0            0             1                1      1\n",
       "3        0            0             0                0      0\n",
       "4        0            0             1                1      1"
      ]
     },
     "execution_count": 6,
     "metadata": {},
     "output_type": "execute_result"
    }
   ],
   "source": [
    "# modificacao de forma manual\n",
    "traducao_dict = {\n",
    "    \"Sim\" : 1,\n",
    "    \"Nao\" : 0\n",
    "}\n",
    "\n",
    "dados_modificados = dados[[\"Conjuge\", \"Dependentes\", \"TelefoneFixo\", \"PagamentoOnline\", \"Churn\"]].replace(traducao_dict)\n",
    "dados_modificados.head()"
   ]
  },
  {
   "cell_type": "code",
   "execution_count": 7,
   "metadata": {},
   "outputs": [
    {
     "data": {
      "text/html": [
       "<div>\n",
       "<style scoped>\n",
       "    .dataframe tbody tr th:only-of-type {\n",
       "        vertical-align: middle;\n",
       "    }\n",
       "\n",
       "    .dataframe tbody tr th {\n",
       "        vertical-align: top;\n",
       "    }\n",
       "\n",
       "    .dataframe thead th {\n",
       "        text-align: right;\n",
       "    }\n",
       "</style>\n",
       "<table border=\"1\" class=\"dataframe\">\n",
       "  <thead>\n",
       "    <tr style=\"text-align: right;\">\n",
       "      <th></th>\n",
       "      <th>Conjuge</th>\n",
       "      <th>Dependentes</th>\n",
       "      <th>TelefoneFixo</th>\n",
       "      <th>PagamentoOnline</th>\n",
       "      <th>Churn</th>\n",
       "      <th>Maior65Anos</th>\n",
       "      <th>MesesDeContrato</th>\n",
       "      <th>ContaMensal</th>\n",
       "      <th>VariasLinhasTelefonicas_Nao</th>\n",
       "      <th>VariasLinhasTelefonicas_SemServicoTelefonico</th>\n",
       "      <th>...</th>\n",
       "      <th>StreamingDeFilmes_Nao</th>\n",
       "      <th>StreamingDeFilmes_SemServicoDeInternet</th>\n",
       "      <th>StreamingDeFilmes_Sim</th>\n",
       "      <th>TipoDeContrato_DoisAnos</th>\n",
       "      <th>TipoDeContrato_Mensalmente</th>\n",
       "      <th>TipoDeContrato_UmAno</th>\n",
       "      <th>FormaDePagamento_CartaoDeCredito</th>\n",
       "      <th>FormaDePagamento_ChequeDigital</th>\n",
       "      <th>FormaDePagamento_ChequePapel</th>\n",
       "      <th>FormaDePagamento_DebitoEmConta</th>\n",
       "    </tr>\n",
       "  </thead>\n",
       "  <tbody>\n",
       "    <tr>\n",
       "      <th>0</th>\n",
       "      <td>1</td>\n",
       "      <td>0</td>\n",
       "      <td>0</td>\n",
       "      <td>1</td>\n",
       "      <td>0</td>\n",
       "      <td>0</td>\n",
       "      <td>1</td>\n",
       "      <td>29.85</td>\n",
       "      <td>0</td>\n",
       "      <td>1</td>\n",
       "      <td>...</td>\n",
       "      <td>1</td>\n",
       "      <td>0</td>\n",
       "      <td>0</td>\n",
       "      <td>0</td>\n",
       "      <td>1</td>\n",
       "      <td>0</td>\n",
       "      <td>0</td>\n",
       "      <td>1</td>\n",
       "      <td>0</td>\n",
       "      <td>0</td>\n",
       "    </tr>\n",
       "    <tr>\n",
       "      <th>1</th>\n",
       "      <td>0</td>\n",
       "      <td>0</td>\n",
       "      <td>1</td>\n",
       "      <td>0</td>\n",
       "      <td>0</td>\n",
       "      <td>0</td>\n",
       "      <td>34</td>\n",
       "      <td>56.95</td>\n",
       "      <td>1</td>\n",
       "      <td>0</td>\n",
       "      <td>...</td>\n",
       "      <td>1</td>\n",
       "      <td>0</td>\n",
       "      <td>0</td>\n",
       "      <td>0</td>\n",
       "      <td>0</td>\n",
       "      <td>1</td>\n",
       "      <td>0</td>\n",
       "      <td>0</td>\n",
       "      <td>1</td>\n",
       "      <td>0</td>\n",
       "    </tr>\n",
       "    <tr>\n",
       "      <th>2</th>\n",
       "      <td>0</td>\n",
       "      <td>0</td>\n",
       "      <td>1</td>\n",
       "      <td>1</td>\n",
       "      <td>1</td>\n",
       "      <td>0</td>\n",
       "      <td>2</td>\n",
       "      <td>53.85</td>\n",
       "      <td>1</td>\n",
       "      <td>0</td>\n",
       "      <td>...</td>\n",
       "      <td>1</td>\n",
       "      <td>0</td>\n",
       "      <td>0</td>\n",
       "      <td>0</td>\n",
       "      <td>1</td>\n",
       "      <td>0</td>\n",
       "      <td>0</td>\n",
       "      <td>0</td>\n",
       "      <td>1</td>\n",
       "      <td>0</td>\n",
       "    </tr>\n",
       "    <tr>\n",
       "      <th>3</th>\n",
       "      <td>0</td>\n",
       "      <td>0</td>\n",
       "      <td>0</td>\n",
       "      <td>0</td>\n",
       "      <td>0</td>\n",
       "      <td>0</td>\n",
       "      <td>45</td>\n",
       "      <td>42.30</td>\n",
       "      <td>0</td>\n",
       "      <td>1</td>\n",
       "      <td>...</td>\n",
       "      <td>1</td>\n",
       "      <td>0</td>\n",
       "      <td>0</td>\n",
       "      <td>0</td>\n",
       "      <td>0</td>\n",
       "      <td>1</td>\n",
       "      <td>0</td>\n",
       "      <td>0</td>\n",
       "      <td>0</td>\n",
       "      <td>1</td>\n",
       "    </tr>\n",
       "    <tr>\n",
       "      <th>4</th>\n",
       "      <td>0</td>\n",
       "      <td>0</td>\n",
       "      <td>1</td>\n",
       "      <td>1</td>\n",
       "      <td>1</td>\n",
       "      <td>0</td>\n",
       "      <td>2</td>\n",
       "      <td>70.70</td>\n",
       "      <td>1</td>\n",
       "      <td>0</td>\n",
       "      <td>...</td>\n",
       "      <td>1</td>\n",
       "      <td>0</td>\n",
       "      <td>0</td>\n",
       "      <td>0</td>\n",
       "      <td>1</td>\n",
       "      <td>0</td>\n",
       "      <td>0</td>\n",
       "      <td>1</td>\n",
       "      <td>0</td>\n",
       "      <td>0</td>\n",
       "    </tr>\n",
       "  </tbody>\n",
       "</table>\n",
       "<p>5 rows × 39 columns</p>\n",
       "</div>"
      ],
      "text/plain": [
       "   Conjuge  Dependentes  TelefoneFixo  PagamentoOnline  Churn  Maior65Anos  \\\n",
       "0        1            0             0                1      0            0   \n",
       "1        0            0             1                0      0            0   \n",
       "2        0            0             1                1      1            0   \n",
       "3        0            0             0                0      0            0   \n",
       "4        0            0             1                1      1            0   \n",
       "\n",
       "   MesesDeContrato  ContaMensal  VariasLinhasTelefonicas_Nao  \\\n",
       "0                1        29.85                            0   \n",
       "1               34        56.95                            1   \n",
       "2                2        53.85                            1   \n",
       "3               45        42.30                            0   \n",
       "4                2        70.70                            1   \n",
       "\n",
       "   VariasLinhasTelefonicas_SemServicoTelefonico  ...  StreamingDeFilmes_Nao  \\\n",
       "0                                             1  ...                      1   \n",
       "1                                             0  ...                      1   \n",
       "2                                             0  ...                      1   \n",
       "3                                             1  ...                      1   \n",
       "4                                             0  ...                      1   \n",
       "\n",
       "   StreamingDeFilmes_SemServicoDeInternet  StreamingDeFilmes_Sim  \\\n",
       "0                                       0                      0   \n",
       "1                                       0                      0   \n",
       "2                                       0                      0   \n",
       "3                                       0                      0   \n",
       "4                                       0                      0   \n",
       "\n",
       "   TipoDeContrato_DoisAnos  TipoDeContrato_Mensalmente  TipoDeContrato_UmAno  \\\n",
       "0                        0                           1                     0   \n",
       "1                        0                           0                     1   \n",
       "2                        0                           1                     0   \n",
       "3                        0                           0                     1   \n",
       "4                        0                           1                     0   \n",
       "\n",
       "   FormaDePagamento_CartaoDeCredito  FormaDePagamento_ChequeDigital  \\\n",
       "0                                 0                               1   \n",
       "1                                 0                               0   \n",
       "2                                 0                               0   \n",
       "3                                 0                               0   \n",
       "4                                 0                               1   \n",
       "\n",
       "   FormaDePagamento_ChequePapel  FormaDePagamento_DebitoEmConta  \n",
       "0                             0                               0  \n",
       "1                             1                               0  \n",
       "2                             1                               0  \n",
       "3                             0                               1  \n",
       "4                             0                               0  \n",
       "\n",
       "[5 rows x 39 columns]"
      ]
     },
     "execution_count": 7,
     "metadata": {},
     "output_type": "execute_result"
    }
   ],
   "source": [
    "# modificacao pelo get_dummies\n",
    "dummy_dados = pd.get_dummies(dados.drop([\"Conjuge\", \"Dependentes\", \"TelefoneFixo\", \"PagamentoOnline\", \"Churn\"], axis=1))\n",
    "\n",
    "# juncao dos dados transformados com os que ja tinhamos\n",
    "dados_final = pd.concat([dados_modificados, dummy_dados], axis=1)\n",
    "dados_final.head()"
   ]
  },
  {
   "cell_type": "code",
   "execution_count": 8,
   "metadata": {},
   "outputs": [
    {
     "data": {
      "text/plain": [
       "(7043, 39)"
      ]
     },
     "execution_count": 8,
     "metadata": {},
     "output_type": "execute_result"
    }
   ],
   "source": [
    "dados_final.shape"
   ]
  },
  {
   "attachments": {},
   "cell_type": "markdown",
   "metadata": {},
   "source": [
    "---\n",
    "# Para saber mais: divisão dos dados em treino e teste\n",
    "\n",
    "Separar o conjunto de dados em **treino** e **teste** é uma parte imortante para conseguirmos medir o desempenho real de um modelo de machine learning. Essa etapa consiste em dedicar parte do conjunto de dados para treinar o modelo e uma outra parte para teste. Mas qual o motivo de fazer isso?\n",
    "\n",
    "Imagine que você vai fazer uma prova e o(a) professor(a) passa uma atividade de revisão antes para treinar em casa. Chegando na prova, você percebe que as questões são exatamente iguais à revisão passada pelo(a) professor(a). Como você já sabia as questões, tirou 10! Isso é exatamente o que acontece quando utilizamos os mesmos dados para treinar e testar.\n",
    "\n",
    "Como os dados são conhecidos pelo modelo, ele simplesmente vai acertar tudo (ou quase tudo) na etapa de teste, pois são os mesmos dados. Para resolver isso, dividimos o conjunto de dados em treino e teste, sendo esse último para simular dados nunca antes vistos pelo modelo.\n",
    "\n",
    "## Dados de treino\n",
    "\n",
    "Os dados de treino são aqueles utilizados para a criação e treinamento do modelo. Normalmente a maioria dos dados, cerca de 70%, são utilizados para treinamento.\n",
    "\n",
    "## Dados de teste\n",
    "\n",
    "Os dados de teste são utilizados para comprovar que o modelo realmente funciona. Eles não são utilizados no treinamento do modelo e normalmente representam 30% da totalidade dos dados.\n",
    "\n",
    "Além disso, no momento de reailzar a separação desses dados é importante que ela seja feita de forma aleatória, para garantirmos que não haverá nenhum padrão no momento de divisão dos dados. Assim, cada amostra terá a mesma probabilidade de ser selecionada.\n",
    "\n",
    "---"
   ]
  },
  {
   "attachments": {},
   "cell_type": "markdown",
   "metadata": {},
   "source": [
    "# KNN por trás dos panos"
   ]
  },
  {
   "cell_type": "code",
   "execution_count": 9,
   "metadata": {},
   "outputs": [],
   "source": [
    "xmaria = [[0,0,1,1,0,0,39.90,1,0,0,0,1,0,1,0,0,0,0,1,1,1,0,0,1,0,1,0,0,0,0,1,0,0,1,0,0,0,1]]"
   ]
  },
  {
   "cell_type": "code",
   "execution_count": 10,
   "metadata": {},
   "outputs": [],
   "source": [
    "#Ymaria = ?"
   ]
  },
  {
   "cell_type": "code",
   "execution_count": 11,
   "metadata": {},
   "outputs": [],
   "source": [
    "# Divisão em inputs e outputs\n",
    "x = dados_final.drop(\"Churn\", axis=1)\n",
    "y = dados_final[\"Churn\"]"
   ]
  },
  {
   "cell_type": "code",
   "execution_count": 12,
   "metadata": {},
   "outputs": [],
   "source": [
    "# Biblioteca para padronizar os dados\n",
    "from sklearn.preprocessing import StandardScaler"
   ]
  },
  {
   "cell_type": "code",
   "execution_count": 13,
   "metadata": {},
   "outputs": [
    {
     "data": {
      "text/plain": [
       "array([[ 1.03453023, -0.65401193, -3.05401039, ...,  1.40641839,\n",
       "        -0.54480692, -0.5298852 ],\n",
       "       [-0.96662231, -0.65401193,  0.32743831, ..., -0.71102597,\n",
       "         1.83551265, -0.5298852 ],\n",
       "       [-0.96662231, -0.65401193,  0.32743831, ..., -0.71102597,\n",
       "         1.83551265, -0.5298852 ],\n",
       "       ...,\n",
       "       [ 1.03453023,  1.5290241 , -3.05401039, ...,  1.40641839,\n",
       "        -0.54480692, -0.5298852 ],\n",
       "       [ 1.03453023, -0.65401193,  0.32743831, ..., -0.71102597,\n",
       "         1.83551265, -0.5298852 ],\n",
       "       [-0.96662231, -0.65401193,  0.32743831, ..., -0.71102597,\n",
       "        -0.54480692,  1.88720123]])"
      ]
     },
     "execution_count": 13,
     "metadata": {},
     "output_type": "execute_result"
    }
   ],
   "source": [
    "norm = StandardScaler()\n",
    "x_normalizado = norm.fit_transform(x)\n",
    "x_normalizado"
   ]
  },
  {
   "cell_type": "code",
   "execution_count": 14,
   "metadata": {},
   "outputs": [
    {
     "data": {
      "text/plain": [
       "array([ 1.03453023, -0.65401193, -3.05401039,  0.8297975 , -0.43991649,\n",
       "       -1.27744458, -1.16032292, -0.96332984,  3.05401039, -0.85417615,\n",
       "        1.38171215, -0.88565976, -0.52592737,  1.00669571, -0.52592737,\n",
       "       -0.63393298, -0.88361972, -0.52592737,  1.3782406 ,  1.12942721,\n",
       "       -0.52592737, -0.72396752,  1.0138687 , -0.52592737, -0.63943864,\n",
       "        1.2273572 , -0.52592737, -0.79013171,  1.23648892, -0.52592737,\n",
       "       -0.79607014, -0.56297505,  0.90418382, -0.51424938, -0.52504733,\n",
       "        1.40641839, -0.54480692, -0.5298852 ])"
      ]
     },
     "execution_count": 14,
     "metadata": {},
     "output_type": "execute_result"
    }
   ],
   "source": [
    "x_normalizado[0]"
   ]
  },
  {
   "cell_type": "code",
   "execution_count": 15,
   "metadata": {},
   "outputs": [
    {
     "data": {
      "text/plain": [
       "array([[-0.96662231, -0.65401193,  0.32743831,  0.8297975 , -0.43991649,\n",
       "        -1.31816495, -0.82630172,  1.03806605, -0.32743831, -0.85417615,\n",
       "        -0.72373975,  1.12910177, -0.52592737,  1.00669571, -0.52592737,\n",
       "        -0.63393298, -0.88361972, -0.52592737,  1.3782406 ,  1.12942721,\n",
       "         1.90140322, -0.72396752, -0.98632101,  1.90140322, -0.63943864,\n",
       "         1.2273572 , -0.52592737, -0.79013171, -0.80874158, -0.52592737,\n",
       "         1.25617071, -0.56297505, -1.1059698 ,  1.94458183, -0.52504733,\n",
       "        -0.71102597, -0.54480692,  1.88720123]])"
      ]
     },
     "execution_count": 15,
     "metadata": {},
     "output_type": "execute_result"
    }
   ],
   "source": [
    "xmaria_normalizado = norm.transform(pd.DataFrame(xmaria, columns=x.columns))\n",
    "xmaria_normalizado"
   ]
  },
  {
   "attachments": {},
   "cell_type": "markdown",
   "metadata": {},
   "source": [
    "---\n",
    "## Distância Euclidiana:\n",
    "$$\\LARGE\\sqrt{\\sum_{i=1}^k (a_i - b_i)^2}$$\n",
    "\n",
    "---"
   ]
  },
  {
   "cell_type": "code",
   "execution_count": 16,
   "metadata": {},
   "outputs": [],
   "source": [
    "import numpy as np"
   ]
  },
  {
   "cell_type": "code",
   "execution_count": 17,
   "metadata": {},
   "outputs": [
    {
     "data": {
      "text/plain": [
       "numpy.ndarray"
      ]
     },
     "execution_count": 17,
     "metadata": {},
     "output_type": "execute_result"
    }
   ],
   "source": [
    "a = xmaria_normalizado\n",
    "type(a)"
   ]
  },
  {
   "cell_type": "code",
   "execution_count": 18,
   "metadata": {},
   "outputs": [
    {
     "data": {
      "text/plain": [
       "numpy.ndarray"
      ]
     },
     "execution_count": 18,
     "metadata": {},
     "output_type": "execute_result"
    }
   ],
   "source": [
    "b = x_normalizado[0]\n",
    "type(b)"
   ]
  },
  {
   "cell_type": "code",
   "execution_count": 19,
   "metadata": {},
   "outputs": [
    {
     "data": {
      "text/plain": [
       "array([[-2.00115254,  0.        ,  3.3814487 ,  0.        ,  0.        ,\n",
       "        -0.04072036,  0.3340212 ,  2.00139589, -3.3814487 ,  0.        ,\n",
       "        -2.10545189,  2.01476153,  0.        ,  0.        ,  0.        ,\n",
       "         0.        ,  0.        ,  0.        ,  0.        ,  0.        ,\n",
       "         2.42733059,  0.        , -2.00018971,  2.42733059,  0.        ,\n",
       "         0.        ,  0.        ,  0.        , -2.0452305 ,  0.        ,\n",
       "         2.05224086,  0.        , -2.01015362,  2.45883121,  0.        ,\n",
       "        -2.11744436,  0.        ,  2.41708643]])"
      ]
     },
     "execution_count": 19,
     "metadata": {},
     "output_type": "execute_result"
    }
   ],
   "source": [
    "# 1 - começamos subtraindo\n",
    "a - b"
   ]
  },
  {
   "cell_type": "code",
   "execution_count": 20,
   "metadata": {},
   "outputs": [
    {
     "data": {
      "text/plain": [
       "array([[4.00461149e+00, 0.00000000e+00, 1.14341953e+01, 0.00000000e+00,\n",
       "        0.00000000e+00, 1.65814802e-03, 1.11570160e-01, 4.00558550e+00,\n",
       "        1.14341953e+01, 0.00000000e+00, 4.43292768e+00, 4.05926401e+00,\n",
       "        0.00000000e+00, 0.00000000e+00, 0.00000000e+00, 0.00000000e+00,\n",
       "        0.00000000e+00, 0.00000000e+00, 0.00000000e+00, 0.00000000e+00,\n",
       "        5.89193381e+00, 0.00000000e+00, 4.00075888e+00, 5.89193381e+00,\n",
       "        0.00000000e+00, 0.00000000e+00, 0.00000000e+00, 0.00000000e+00,\n",
       "        4.18296779e+00, 0.00000000e+00, 4.21169253e+00, 0.00000000e+00,\n",
       "        4.04071758e+00, 6.04585093e+00, 0.00000000e+00, 4.48357062e+00,\n",
       "        0.00000000e+00, 5.84230682e+00]])"
      ]
     },
     "execution_count": 20,
     "metadata": {},
     "output_type": "execute_result"
    }
   ],
   "source": [
    "# 2 - depois realizamos a exponenciação\n",
    "np.square(a-b)"
   ]
  },
  {
   "cell_type": "code",
   "execution_count": 21,
   "metadata": {},
   "outputs": [
    {
     "data": {
      "text/plain": [
       "84.07574038273466"
      ]
     },
     "execution_count": 21,
     "metadata": {},
     "output_type": "execute_result"
    }
   ],
   "source": [
    "# 3 - a soma\n",
    "np.sum(np.square(a-b))"
   ]
  },
  {
   "cell_type": "code",
   "execution_count": 22,
   "metadata": {},
   "outputs": [
    {
     "data": {
      "text/plain": [
       "9.169282435541762"
      ]
     },
     "execution_count": 22,
     "metadata": {},
     "output_type": "execute_result"
    }
   ],
   "source": [
    "# 4 - então tiramos a raiz e temos nossa distância\n",
    "np.sqrt(np.sum(np.square(a-b)))"
   ]
  },
  {
   "attachments": {},
   "cell_type": "markdown",
   "metadata": {},
   "source": [
    "---\n",
    "# Para saber mais: funções de distância\n",
    "\n",
    "No algoritmo KNN, para que seja feita a classificação dos registros com base nos vizinhos mais próximos, é necessário utilizar alguma medida para identificar o quão próximo o registro está dos seus vizinhos. Existem diversas medidas para se avaliar essa proximidade entre variáveis numéricas que recebem o nome de medidas de distância. Quanto maios o valor dessa medida, mais distante um elemento está do outro, ou seja, menor a similaridade entre eles.\n",
    "\n",
    "Considere a tabela a seguir com duas observações e n variáveis para o entendimento das medidas de distância.\n",
    "\n",
    "| Observação | Variável 1 | Variável 2 | ... | Variável n |\n",
    "| --- | --- | --- | --- | --- |\n",
    "| X | X1 | X2 | ... | Xn |\n",
    "| Y | Y1 | Y2 | ... | Yn |\n",
    "\n",
    "* ### Distância Euclidiana\n",
    "\n",
    "A medida de distância mais conhecida e usada é a **distância euclidiana**. Ela consiste em subtrair as coordenadas de uma observação pela outra observação, elevar ao quadrado os resultados, somar todos os valores e extrair a raiz quadrada.\n",
    "\n",
    "$$\\Large d = \\sqrt{(X_1 - Y_1)^2 + ... + (X_n - Y_n)^2}$$\n",
    "\n",
    "* ### Distância de Manhattan\n",
    "\n",
    "Uma distância que considera apenas a soma dos módulos das diferenças entre cada par de coordenadas.\n",
    "\n",
    "$$\\Large d = |X_1 - Y_1| + ... + |X_n - Y_n|$$\n",
    "\n",
    "* ### Distância de Minkowski\n",
    "\n",
    "Uma medida de distância que é a generalização de outras distâncias, como a distância euclidiana e a de Manhattan. Consiste em extrair o módulo da diferença entre cada par de coordenadas elevando o resultado a m, realizar a soma de todos os termos e, por fim, tirar a raiz m-ésima, em que m é um número qualquer. A distância euclidiana é um caso à parte quando m é igual a 2 e a distância de Manhattan é um caso à parte quando m é igual a 1.\n",
    "\n",
    "$$\\Large d = \\sqrt[m]{|X_1 - Y_1|^m + ... + |X_n - Y_n|^m}$$\n",
    "\n",
    "* ### Distância de Chebyshev\n",
    "\n",
    "É uma medida de distância que considera apenas o valor máximo entre os módulos das diferenças entre as variáveis. Dessa forma, leva em consideração apenas a variável que possui a maior diferença de valores entre as duas observações.\n",
    "\n",
    "$$\\Large d = máx{|X_1 - Y_1|, ..., |X_n - Y_n|}$$\n",
    "\n",
    "Existem diversas outras medidas de distância que podem ser calculadas e cada uma delas impacta diretamente no resultado do modelo. As distâncias apresentadas aqui podem ser utilizadas no algoritmo KNN do scikit-learn, sendo a distância de Minkowski a medida de distância padrão ao instanciar o algoritmo, como pode ser checado na [documentação](https://scikit-learn.org/stable/modules/generated/sklearn.neighbors.KNeighborsClassifier.html).\n",
    "\n",
    "Podemos modificar a medida de distância utilizando o argumento `metric` da função `sklearn.neighbors.KNeighborsClassifier`. Com base nas medidas que foram apresentadas no texto, o parâmetro pode receber os seguintes valores:\n",
    "\n",
    "    * \"euclidean\" para a distância euclidiana;\n",
    "    * \"manhattan\" para a distância de Manhattan;\n",
    "    * \"minkowski\" para a distância de Minkowski;\n",
    "    * \"chebyshev\" para a distância de Chebyshev.\n",
    "\n",
    "Caso tenha interesse em descobrir o funcionamento ou outras medidas de distância que podem ser utilizadas, confira a documentação do [sklearn.metrics.DistanceMetric](https://scikit-learn.org/stable/modules/generated/sklearn.metrics.DistanceMetric.html#sklearn.metrics.DistanceMetric).\n",
    "\n",
    "---"
   ]
  },
  {
   "attachments": {},
   "cell_type": "markdown",
   "metadata": {},
   "source": [
    "### Implementando o modelo"
   ]
  },
  {
   "cell_type": "code",
   "execution_count": 23,
   "metadata": {},
   "outputs": [],
   "source": [
    "# Biblioteca para divisão dos dados\n",
    "from sklearn.model_selection import train_test_split"
   ]
  },
  {
   "cell_type": "code",
   "execution_count": 24,
   "metadata": {},
   "outputs": [],
   "source": [
    "x_treino, x_teste, y_treino, y_teste = train_test_split(x_normalizado, y,\n",
    "                                                        test_size=0.3, random_state=123)"
   ]
  },
  {
   "attachments": {},
   "cell_type": "markdown",
   "metadata": {},
   "source": [
    "### Treino e teste  "
   ]
  },
  {
   "cell_type": "code",
   "execution_count": 25,
   "metadata": {},
   "outputs": [],
   "source": [
    "# Biblioteca para criarmos o mmodelo de machine learning\n",
    "from sklearn.neighbors import KNeighborsClassifier"
   ]
  },
  {
   "cell_type": "code",
   "execution_count": 26,
   "metadata": {},
   "outputs": [],
   "source": [
    "# Instanciar o modelo (criamos o modelo) - por padrão são 5 vizinhos\n",
    "knn = KNeighborsClassifier(metric=\"euclidean\")"
   ]
  },
  {
   "cell_type": "code",
   "execution_count": 27,
   "metadata": {},
   "outputs": [
    {
     "data": {
      "text/plain": [
       "KNeighborsClassifier(metric='euclidean')"
      ]
     },
     "execution_count": 27,
     "metadata": {},
     "output_type": "execute_result"
    }
   ],
   "source": [
    "# Treinando o modelo com os dados de treino\n",
    "knn.fit(x_treino, y_treino)"
   ]
  },
  {
   "cell_type": "code",
   "execution_count": 28,
   "metadata": {},
   "outputs": [
    {
     "data": {
      "text/plain": [
       "array([1, 0, 0, ..., 0, 0, 0])"
      ]
     },
     "execution_count": 28,
     "metadata": {},
     "output_type": "execute_result"
    }
   ],
   "source": [
    "# Testando o modelo com os dados de teste\n",
    "predito_knn = knn.predict(x_teste)\n",
    "predito_knn"
   ]
  },
  {
   "attachments": {},
   "cell_type": "markdown",
   "metadata": {},
   "source": [
    "## KNN mão na massa"
   ]
  },
  {
   "cell_type": "code",
   "execution_count": 29,
   "metadata": {},
   "outputs": [
    {
     "data": {
      "text/plain": [
       "[9.169282435541762,\n",
       " 8.742314068192332,\n",
       " 7.96104771727276,\n",
       " 9.683687116435184,\n",
       " 7.35756725091328,\n",
       " 8.58650261645753,\n",
       " 8.411628863624525,\n",
       " 10.145869884558158,\n",
       " 8.97159048640628,\n",
       " 7.5587041367106105]"
      ]
     },
     "execution_count": 29,
     "metadata": {},
     "output_type": "execute_result"
    }
   ],
   "source": [
    "import numpy as np\n",
    "\n",
    "def calcula_distancia(dados_clientes, dados_maria, numero_clientes):\n",
    "    distancias = []\n",
    "\n",
    "    # loop para percorrer cliente por cliente\n",
    "    for i in range(numero_clientes):\n",
    "        dist1 = dados_maria - dados_clientes[i] # subtração dos atributos\n",
    "        soma_quadrado = np.sum(np.square(dist1)) # exponenciação e soma dos atributos\n",
    "        distancias.append(np.sqrt(soma_quadrado)) # raiz quadrada da soma anterior\n",
    "\n",
    "    return distancias\n",
    "\n",
    "calcula_distancia(x_normalizado, xmaria_normalizado, 10)"
   ]
  },
  {
   "attachments": {},
   "cell_type": "markdown",
   "metadata": {},
   "source": [
    "---\n",
    "### Fórmula do teorema de Naïve Bayes:\n",
    "\n",
    "$$\\Large P(y|X) = \\dfrac{P(X|y) * P(y)}{P(X)}$$"
   ]
  },
  {
   "attachments": {},
   "cell_type": "markdown",
   "metadata": {},
   "source": [
    "---\n",
    "### Multivariada de Bernoulli:\n",
    "\n",
    "$$\\Large P(x_i|y) = P(i|y)x_i + (1 - P(i|y))(1 - x_i)$$\n",
    "\n",
    "#### Os dados estão em variáveis binárias.\n",
    "---"
   ]
  },
  {
   "attachments": {},
   "cell_type": "markdown",
   "metadata": {},
   "source": [
    "### Para saber mais: probabilidade condicional e Bayes\n",
    "\n",
    "O teorema de Bayes é uma fórmula utilizada para calcular a probabilidade de um evento ocorrer sabendo que um outro evento, chamado de condicionante, já ocorreu, denominado **probabilidade condicional**. Sua notação é dada por P(A|B), que significa a probabilidade de A dado que B já aconteceu e é definido pela seguinte equação:\n",
    "\n",
    "$$\\Large P(A|B) = \\dfrac{P(B|A) * P(A)}{P(B)}$$\n",
    "\n",
    "Onde:\n",
    "\n",
    "    * P(B|A): probabilidade de B acontecer dado que A já aconteceu;\n",
    "    * P(A): probabilidade de A acontecer;\n",
    "    * P(B): probabilidade de B acontecer.\n",
    "\n",
    "Falando dessa forma, pode ficar complicado de visualizar na prática o que isso realmente significa. Como o teorema de Bayes envolve probabilidade, pode ser aplicado a inúmeros contextos. Vamos utilizar aqui um exemplo envolvendo a área da saúde, mas o teorema poderia ser utilizado em outras áreas. Considere o exemplo:\n",
    "\n",
    "| | Covid-19 (5%) | Sem Covid-19 (95%) |\n",
    "| --- | --- | --- |\n",
    "| Teste positivo | 85% | 10% |\n",
    "| Teste negativo | 15% | 90% |\n",
    "\n",
    "Primeiramente, vamos entender o que está na tabela. Sabemos, através de pesquisas realizadas anteriormente, que há uma probabilidade de 5% de ter Covid-19. Consequentemente, há uma probabilidade de 95% de não ter. Quem tem a doença está na coluna \"Covid-19 (5%)\" e possui uma probabilidade de 85% de testar positivo e 15% de negativo. Já quem não tem está na coluna \"Sem Covid-19 (95%)\" e possui uma possibilidade de 10% de testar positivo e 90% de negativo.\n",
    "\n",
    "De posse dessas informações, vamos repsonder à pergunta:\n",
    "quais as chances de ter Covid-19 dado que o teste deu positivo?\n",
    "\n",
    "    * Evento A: ter Covid-19\n",
    "    * Evento B positivo no teste (evento condicionante)\n",
    "\n",
    "Utilizando a fórmula apresentada anteriormente, precisamos definir algumas probabilidades, como:\n",
    "\n",
    "    * P(B|A): probabilidade do teste ser positivo dado que a pessoa tem Covid-19, que é de 85% ou 0.85, de acordo com a tabela.\n",
    "    * P(A): probabilidade de ter Covid-19. Observando a tabela, temos que é de 5%, ou 0.05.\n",
    "    * P(B): a probabilidade do teste ser positivo.\n",
    "\n",
    "A P(B) não conseguimos encontrar diretamente na tabela, pois a probabilidade do teste ser positivo pode acontecer quando a pessoa testada possui a doença ou não (chamado também de complementar). Logo, a probabilidade P(B) pode ser calculada como:\n",
    "\n",
    "$$\\Large P(B) = P(B|A) * P(A) + P(B|A^c) * P(A^c)$$\n",
    "\n",
    "    * P(B|AC): probabilidade do teste ser positivo dado que a pessoa não possui Covid-19, que é 10% ou 0.1.\n",
    "    * P(AC): probabilidade da pessoa não ter Covid-19, que é 95% ou 0.95.\n",
    "\n",
    "Novamente, as informções acima foram retiradas diretamente da tabela. Pronto, agora temos todas as informações que precisamos. Colocando na equação temos que:\n",
    "\n",
    "$$\\Large P(A|B) = \\dfrac{P(B|A) * P(A)}{P(B)} = \\dfrac{0.85 * 0.05}{0.1375} = 0.31$$\n",
    "\n",
    "Logo, as chances de ter Covid-19, dado que o teste deu positivo, são de 31%.\n",
    "\n",
    "---"
   ]
  },
  {
   "attachments": {},
   "cell_type": "markdown",
   "metadata": {},
   "source": [
    "# Treinamento e teste"
   ]
  },
  {
   "cell_type": "code",
   "execution_count": 30,
   "metadata": {},
   "outputs": [
    {
     "data": {
      "text/plain": [
       "array([[-0.96662231, -0.65401193, -3.05401039, ...,  1.40641839,\n",
       "        -0.54480692, -0.5298852 ],\n",
       "       [-0.96662231,  1.5290241 ,  0.32743831, ...,  1.40641839,\n",
       "        -0.54480692, -0.5298852 ],\n",
       "       [-0.96662231, -0.65401193,  0.32743831, ..., -0.71102597,\n",
       "         1.83551265, -0.5298852 ],\n",
       "       ...,\n",
       "       [ 1.03453023,  1.5290241 ,  0.32743831, ...,  1.40641839,\n",
       "        -0.54480692, -0.5298852 ],\n",
       "       [ 1.03453023,  1.5290241 , -3.05401039, ..., -0.71102597,\n",
       "         1.83551265, -0.5298852 ],\n",
       "       [-0.96662231, -0.65401193,  0.32743831, ...,  1.40641839,\n",
       "        -0.54480692, -0.5298852 ]])"
      ]
     },
     "execution_count": 30,
     "metadata": {},
     "output_type": "execute_result"
    }
   ],
   "source": [
    "x_treino"
   ]
  },
  {
   "cell_type": "code",
   "execution_count": 31,
   "metadata": {},
   "outputs": [
    {
     "data": {
      "text/plain": [
       "1479    0\n",
       "2377    0\n",
       "6613    0\n",
       "6468    0\n",
       "2668    1\n",
       "       ..\n",
       "5218    0\n",
       "4060    0\n",
       "1346    1\n",
       "3454    0\n",
       "3582    0\n",
       "Name: Churn, Length: 4930, dtype: int64"
      ]
     },
     "execution_count": 31,
     "metadata": {},
     "output_type": "execute_result"
    }
   ],
   "source": [
    "y_treino"
   ]
  },
  {
   "cell_type": "code",
   "execution_count": 32,
   "metadata": {},
   "outputs": [
    {
     "data": {
      "text/plain": [
       "-0.5259273725834717"
      ]
     },
     "execution_count": 32,
     "metadata": {},
     "output_type": "execute_result"
    }
   ],
   "source": [
    "# Escolho utilizar mediana, porque é o valor central dos nossos dados ordenados\n",
    "np.median(x_treino)"
   ]
  },
  {
   "cell_type": "code",
   "execution_count": 33,
   "metadata": {},
   "outputs": [],
   "source": [
    "# Biblioteca para criamos o modelo de machine learning\n",
    "from sklearn.naive_bayes import BernoulliNB"
   ]
  },
  {
   "cell_type": "code",
   "execution_count": 34,
   "metadata": {},
   "outputs": [],
   "source": [
    "# Criamos o modelo\n",
    "bnb = BernoulliNB(binarize=-0.5259273)"
   ]
  },
  {
   "cell_type": "code",
   "execution_count": 35,
   "metadata": {},
   "outputs": [
    {
     "data": {
      "text/plain": [
       "BernoulliNB(binarize=-0.5259273)"
      ]
     },
     "execution_count": 35,
     "metadata": {},
     "output_type": "execute_result"
    }
   ],
   "source": [
    "bnb.fit(x_treino, y_treino)"
   ]
  },
  {
   "cell_type": "code",
   "execution_count": 36,
   "metadata": {},
   "outputs": [
    {
     "data": {
      "text/plain": [
       "array([1, 0, 0, ..., 0, 1, 0])"
      ]
     },
     "execution_count": 36,
     "metadata": {},
     "output_type": "execute_result"
    }
   ],
   "source": [
    "predito_bnb = bnb.predict(x_teste)\n",
    "predito_bnb"
   ]
  },
  {
   "cell_type": "code",
   "execution_count": null,
   "metadata": {},
   "outputs": [],
   "source": []
  }
 ],
 "metadata": {
  "kernelspec": {
   "display_name": "Python 3.9.15 64-bit",
   "language": "python",
   "name": "python3"
  },
  "language_info": {
   "codemirror_mode": {
    "name": "ipython",
    "version": 3
   },
   "file_extension": ".py",
   "mimetype": "text/x-python",
   "name": "python",
   "nbconvert_exporter": "python",
   "pygments_lexer": "ipython3",
   "version": "3.9.15"
  },
  "orig_nbformat": 4,
  "vscode": {
   "interpreter": {
    "hash": "aee8b7b246df8f9039afb4144a1f6fd8d2ca17a180786b69acc140d282b71a49"
   }
  }
 },
 "nbformat": 4,
 "nbformat_minor": 2
}
